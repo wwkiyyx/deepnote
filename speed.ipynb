{
 "cells": [
  {
   "cell_type": "markdown",
   "source": "### 用tensorflow运行mnist测试运行速度",
   "metadata": {
    "cell_id": "37a086ba2d0d4c048ed2167b944a7f52",
    "tags": [],
    "is_collapsed": false,
    "deepnote_cell_type": "text-cell-h3"
   }
  },
  {
   "cell_type": "code",
   "metadata": {
    "tags": [],
    "cell_id": "5e6309c7-f959-475e-b057-edf492190ab2",
    "owner_user_id": "64653946-af2f-4699-a282-4043b0ba5576",
    "deepnote_to_be_reexecuted": false,
    "source_hash": "d3643a81",
    "execution_start": 1653027854414,
    "execution_millis": 912061,
    "deepnote_cell_type": "code",
    "deepnote_cell_height": 807.125
   },
   "source": "from datetime import datetime\nfrom datetime import timedelta\nfrom datetime import timezone\nSHA_TZ = timezone(timedelta(hours=8), name='Asia/Shanghai')\n\nimport tensorflow as tf\n\n(tri, trl), (tsi, tsl) = tf.keras.datasets.mnist.load_data()\ntri, tsi = tri / 255.0, tsi / 255.0\ntri = tri.reshape(tri.shape[0], 28, 28, 1)\ntsi = tsi.reshape(tsi.shape[0], 28, 28, 1)\ncnn = tf.keras.models.Sequential()\ncnn.add(tf.keras.layers.Conv2D(32, (3, 3), activation='relu', input_shape=(28, 28, 1)))\ncnn.add(tf.keras.layers.MaxPooling2D((2, 2)))\ncnn.add(tf.keras.layers.Conv2D(64, (3, 3), activation='relu'))\ncnn.add(tf.keras.layers.MaxPooling2D((2, 2)))\ncnn.add(tf.keras.layers.Flatten())\ncnn.add(tf.keras.layers.Dense(128, activation='relu'))\ncnn.add(tf.keras.layers.Dropout(0.2))\ncnn.add(tf.keras.layers.Dense(10, activation='softmax'))\ncnn.compile(optimizer='adam', loss='sparse_categorical_crossentropy', metrics=['accuracy'])\n\nutc_now = datetime.utcnow().replace(tzinfo=timezone.utc)\nstart = utc_now.astimezone(SHA_TZ)\nprint(start)\n\ncnn.fit(tri, trl, epochs=10)\n\nutc_now = datetime.utcnow().replace(tzinfo=timezone.utc)\nend = utc_now.astimezone(SHA_TZ)\nprint(end)\nprint(end-start)\n\ncnn.evaluate(tsi, tsl, verbose=2)",
   "execution_count": 1,
   "outputs": [
    {
     "name": "stdout",
     "text": "Downloading data from https://storage.googleapis.com/tensorflow/tf-keras-datasets/mnist.npz\n11493376/11490434 [==============================] - 0s 0us/step\n11501568/11490434 [==============================] - 0s 0us/step\n2022-05-20 14:24:19.697496+08:00\nEpoch 1/10\n1875/1875 [==============================] - 77s 41ms/step - loss: 0.1543 - accuracy: 0.9519\nEpoch 2/10\n1875/1875 [==============================] - 76s 41ms/step - loss: 0.0527 - accuracy: 0.9843\nEpoch 3/10\n1875/1875 [==============================] - 77s 41ms/step - loss: 0.0375 - accuracy: 0.9883\nEpoch 4/10\n1875/1875 [==============================] - 117s 62ms/step - loss: 0.0273 - accuracy: 0.9913\nEpoch 5/10\n1875/1875 [==============================] - 109s 58ms/step - loss: 0.0225 - accuracy: 0.9927\nEpoch 6/10\n1875/1875 [==============================] - 86s 46ms/step - loss: 0.0188 - accuracy: 0.9938\nEpoch 7/10\n1875/1875 [==============================] - 92s 49ms/step - loss: 0.0144 - accuracy: 0.9954\nEpoch 8/10\n1875/1875 [==============================] - 106s 57ms/step - loss: 0.0124 - accuracy: 0.9960\nEpoch 9/10\n1875/1875 [==============================] - 81s 43ms/step - loss: 0.0103 - accuracy: 0.9966\nEpoch 10/10\n1875/1875 [==============================] - 80s 43ms/step - loss: 0.0110 - accuracy: 0.9961\n2022-05-20 14:39:21.600695+08:00\n0:15:01.903199\n313/313 - 5s - loss: 0.0368 - accuracy: 0.9905 - 5s/epoch - 15ms/step\n",
     "output_type": "stream"
    },
    {
     "output_type": "execute_result",
     "execution_count": 1,
     "data": {
      "text/plain": "[0.03680555894970894, 0.9904999732971191]"
     },
     "metadata": {}
    }
   ]
  },
  {
   "cell_type": "markdown",
   "source": "<a style='text-decoration:none;line-height:16px;display:flex;color:#5B5B62;padding:10px;justify-content:end;' href='https://deepnote.com?utm_source=created-in-deepnote-cell&projectId=5292883e-50a7-4f1d-9f12-778c1d6da182' target=\"_blank\">\n<img alt='Created in deepnote.com' style='display:inline;max-height:16px;margin:0px;margin-right:7.5px;' src='data:image/svg+xml;base64,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' > </img>\nCreated in <span style='font-weight:600;margin-left:4px;'>Deepnote</span></a>",
   "metadata": {
    "tags": [],
    "created_in_deepnote_cell": true,
    "deepnote_cell_type": "markdown"
   }
  }
 ],
 "nbformat": 4,
 "nbformat_minor": 2,
 "metadata": {
  "orig_nbformat": 2,
  "deepnote": {},
  "deepnote_notebook_id": "2924c354-66d3-43d0-935d-0a973495e35d",
  "deepnote_execution_queue": []
 }
}