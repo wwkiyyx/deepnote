{
 "cells": [
  {
   "cell_type": "markdown",
   "source": "### 安装证券宝",
   "metadata": {
    "cell_id": "a7d3e58aeef2468394543bc416e38c4b",
    "tags": [],
    "is_collapsed": false,
    "deepnote_cell_type": "text-cell-h3"
   }
  },
  {
   "cell_type": "code",
   "metadata": {
    "tags": [],
    "cell_id": "00000-205846aa-158d-4cd5-be97-22c2a41a1b5d",
    "deepnote_to_be_reexecuted": false,
    "source_hash": "86ab8f35",
    "execution_start": 1652861721048,
    "execution_millis": 4783,
    "deepnote_cell_type": "code",
    "deepnote_cell_height": 383.25
   },
   "source": "!pip install baostock",
   "outputs": [
    {
     "name": "stdout",
     "text": "Collecting baostock\n  Downloading baostock-0.8.8-py3-none-any.whl (55 kB)\n\u001b[K     |████████████████████████████████| 55 kB 3.7 MB/s \n\u001b[?25hRequirement already satisfied: pandas>=0.18.0 in /shared-libs/python3.9/py/lib/python3.9/site-packages (from baostock) (1.2.5)\nRequirement already satisfied: numpy>=1.16.5 in /shared-libs/python3.9/py/lib/python3.9/site-packages (from pandas>=0.18.0->baostock) (1.22.3)\nRequirement already satisfied: pytz>=2017.3 in /shared-libs/python3.9/py/lib/python3.9/site-packages (from pandas>=0.18.0->baostock) (2022.1)\nRequirement already satisfied: python-dateutil>=2.7.3 in /shared-libs/python3.9/py-core/lib/python3.9/site-packages (from pandas>=0.18.0->baostock) (2.8.2)\nRequirement already satisfied: six>=1.5 in /shared-libs/python3.9/py-core/lib/python3.9/site-packages (from python-dateutil>=2.7.3->pandas>=0.18.0->baostock) (1.16.0)\nInstalling collected packages: baostock\nSuccessfully installed baostock-0.8.8\n\u001b[33mWARNING: You are using pip version 21.2.3; however, version 22.1 is available.\nYou should consider upgrading via the '/root/venv/bin/python -m pip install --upgrade pip' command.\u001b[0m\n",
     "output_type": "stream"
    }
   ],
   "execution_count": null
  },
  {
   "cell_type": "markdown",
   "source": "### 证券宝www.baostock.com",
   "metadata": {
    "cell_id": "3676459d4a284899ab0b9870df9b45ef",
    "tags": [],
    "is_collapsed": false,
    "deepnote_cell_type": "text-cell-h3"
   }
  },
  {
   "cell_type": "code",
   "metadata": {
    "tags": [],
    "cell_id": "00001-07d5d11b-9da4-469a-98c3-b6db9c45877c",
    "deepnote_to_be_reexecuted": false,
    "source_hash": "eb7f9903",
    "execution_start": 1652861810549,
    "execution_millis": 2214,
    "deepnote_cell_type": "code",
    "deepnote_cell_height": 1275,
    "deepnote_output_heights": [
     null,
     21.1875
    ]
   },
   "source": "import baostock as bs\nimport pandas as pd\n\n#### 登陆系统 ####\nlg = bs.login()\n# 显示登陆返回信息\nprint('login respond error_code:'+lg.error_code)\nprint('login respond  error_msg:'+lg.error_msg)\n\n#### 获取历史K线数据 ####\n# 详细指标参数，参见“历史行情指标参数”章节\nrs = bs.query_history_k_data_plus(\"sh.600703\",\n    \"date,code,open,high,low,close,preclose,volume,amount,adjustflag,turn,tradestatus,pctChg,peTTM,pbMRQ,psTTM,pcfNcfTTM,isST\",\n    start_date='2022-05-01', end_date='2022-05-07', \n    frequency=\"d\", adjustflag=\"3\") #frequency=\"d\"取日k线，adjustflag=\"3\"默认不复权\nprint('query_history_k_data_plus respond error_code:'+rs.error_code)\nprint('query_history_k_data_plus respond  error_msg:'+rs.error_msg)\n\n#### 打印结果集 ####\ndata_list = []\nwhile (rs.error_code == '0') & rs.next():\n    # 获取一条记录，将记录合并在一起\n    data_list.append(rs.get_row_data())\nresult = pd.DataFrame(data_list, columns=rs.fields)\n#### 结果集输出到csv文件 ####\n#### result.to_csv(\"D:/history_k_data.csv\", encoding=\"gbk\", index=False)\nprint(result)\n\n#### 登出系统 ####\nbs.logout()",
   "outputs": [
    {
     "name": "stdout",
     "text": "login success!\nlogin respond error_code:0\nlogin respond  error_msg:success\nquery_history_k_data_plus respond error_code:0\nquery_history_k_data_plus respond  error_msg:success\n         date       code     open     high      low    close preclose  \\\n0  2022-05-05  sh.600703  18.2500  18.7200  18.1100  18.3000  18.3000   \n1  2022-05-06  sh.600703  17.7200  18.1700  17.6800  17.8700  18.3000   \n\n     volume          amount adjustflag      turn tradestatus     pctChg  \\\n0  42266184  778571782.7400          3  1.036300           1   0.000000   \n1  34658831  621120651.5400          3  0.849800           1  -2.349700   \n\n       peTTM     pbMRQ     psTTM   pcfNcfTTM isST  \n0  69.154926  2.654732  6.324021  -20.293196    0  \n1  67.529974  2.592353  6.175424  -19.816361    0  \nlogout success!\n",
     "output_type": "stream"
    },
    {
     "output_type": "execute_result",
     "execution_count": 3,
     "data": {
      "text/plain": "<baostock.data.resultset.ResultData at 0x7fb040eb1250>"
     },
     "metadata": {}
    }
   ],
   "execution_count": null
  },
  {
   "cell_type": "markdown",
   "source": "### Tushare : http://tushare.org/ ",
   "metadata": {
    "cell_id": "2a9e94d3ab9f46b782b6446822c92ce2",
    "tags": [],
    "is_collapsed": false,
    "deepnote_cell_type": "text-cell-h3"
   }
  },
  {
   "cell_type": "code",
   "metadata": {
    "tags": [],
    "cell_id": "00004-611ad17f-ae8c-44d3-b089-77ef9dfefa4a",
    "deepnote_to_be_reexecuted": false,
    "source_hash": "a25bcecd",
    "execution_start": 1652861883154,
    "execution_millis": 3874,
    "deepnote_cell_type": "code",
    "deepnote_cell_height": 197.5625
   },
   "source": "!pip install lxml",
   "outputs": [
    {
     "name": "stdout",
     "text": "Requirement already satisfied: lxml in /shared-libs/python3.9/py/lib/python3.9/site-packages (4.8.0)\n\u001b[33mWARNING: You are using pip version 21.2.3; however, version 22.1 is available.\nYou should consider upgrading via the '/root/venv/bin/python -m pip install --upgrade pip' command.\u001b[0m\n",
     "output_type": "stream"
    }
   ],
   "execution_count": null
  },
  {
   "cell_type": "code",
   "metadata": {
    "tags": [],
    "cell_id": "00005-ae470519-0d67-43c5-a15e-683edc85c36d",
    "deepnote_to_be_reexecuted": false,
    "source_hash": "9a00a63",
    "execution_start": 1652861889901,
    "execution_millis": 6550,
    "deepnote_cell_type": "code",
    "deepnote_cell_height": 746
   },
   "source": "!pip install tushare",
   "outputs": [
    {
     "name": "stdout",
     "text": "Collecting tushare\n  Downloading tushare-1.2.85-py3-none-any.whl (130 kB)\n\u001b[K     |████████████████████████████████| 130 kB 21.0 MB/s \n\u001b[?25hRequirement already satisfied: requests in /shared-libs/python3.9/py/lib/python3.9/site-packages (from tushare) (2.27.1)\nCollecting bs4\n  Downloading bs4-0.0.1.tar.gz (1.1 kB)\nCollecting websocket-client==0.57.0\n  Downloading websocket_client-0.57.0-py2.py3-none-any.whl (200 kB)\n\u001b[K     |████████████████████████████████| 200 kB 41.0 MB/s \n\u001b[?25hRequirement already satisfied: pandas in /shared-libs/python3.9/py/lib/python3.9/site-packages (from tushare) (1.2.5)\nRequirement already satisfied: lxml in /shared-libs/python3.9/py/lib/python3.9/site-packages (from tushare) (4.8.0)\nCollecting simplejson\n  Downloading simplejson-3.17.6-cp39-cp39-manylinux_2_5_x86_64.manylinux1_x86_64.manylinux_2_12_x86_64.manylinux2010_x86_64.whl (136 kB)\n\u001b[K     |████████████████████████████████| 136 kB 45.4 MB/s \n\u001b[?25hRequirement already satisfied: six in /shared-libs/python3.9/py-core/lib/python3.9/site-packages (from websocket-client==0.57.0->tushare) (1.16.0)\nCollecting beautifulsoup4\n  Downloading beautifulsoup4-4.11.1-py3-none-any.whl (128 kB)\n\u001b[K     |████████████████████████████████| 128 kB 46.9 MB/s \n\u001b[?25hCollecting soupsieve>1.2\n  Downloading soupsieve-2.3.2.post1-py3-none-any.whl (37 kB)\nRequirement already satisfied: python-dateutil>=2.7.3 in /shared-libs/python3.9/py-core/lib/python3.9/site-packages (from pandas->tushare) (2.8.2)\nRequirement already satisfied: pytz>=2017.3 in /shared-libs/python3.9/py/lib/python3.9/site-packages (from pandas->tushare) (2022.1)\nRequirement already satisfied: numpy>=1.16.5 in /shared-libs/python3.9/py/lib/python3.9/site-packages (from pandas->tushare) (1.22.3)\nRequirement already satisfied: certifi>=2017.4.17 in /shared-libs/python3.9/py/lib/python3.9/site-packages (from requests->tushare) (2021.10.8)\nRequirement already satisfied: charset-normalizer~=2.0.0 in /shared-libs/python3.9/py-core/lib/python3.9/site-packages (from requests->tushare) (2.0.12)\nRequirement already satisfied: idna<4,>=2.5 in /shared-libs/python3.9/py-core/lib/python3.9/site-packages (from requests->tushare) (3.3)\nRequirement already satisfied: urllib3<1.27,>=1.21.1 in /shared-libs/python3.9/py/lib/python3.9/site-packages (from requests->tushare) (1.26.9)\nBuilding wheels for collected packages: bs4\n  Building wheel for bs4 (setup.py) ... \u001b[?25ldone\n\u001b[?25h  Created wheel for bs4: filename=bs4-0.0.1-py3-none-any.whl size=1271 sha256=6c143163c749bcb5bb9d05f389bdb276ddbaa35226517debb8867dd498dc2c12\n  Stored in directory: /root/.cache/pip/wheels/73/2b/cb/099980278a0c9a3e57ff1a89875ec07bfa0b6fcbebb9a8cad3\nSuccessfully built bs4\nInstalling collected packages: soupsieve, beautifulsoup4, websocket-client, simplejson, bs4, tushare\nSuccessfully installed beautifulsoup4-4.11.1 bs4-0.0.1 simplejson-3.17.6 soupsieve-2.3.2.post1 tushare-1.2.85 websocket-client-0.57.0\n\u001b[33mWARNING: You are using pip version 21.2.3; however, version 22.1 is available.\nYou should consider upgrading via the '/root/venv/bin/python -m pip install --upgrade pip' command.\u001b[0m\n",
     "output_type": "stream"
    }
   ],
   "execution_count": null
  },
  {
   "cell_type": "code",
   "metadata": {
    "tags": [],
    "cell_id": "00006-58d762e4-3ff3-48e3-a53c-00d46c332e64",
    "deepnote_to_be_reexecuted": false,
    "source_hash": "1c0fdb1a",
    "execution_start": 1652861902903,
    "execution_millis": 237,
    "deepnote_cell_type": "code",
    "deepnote_cell_height": 148.1875
   },
   "source": "import tushare\n\nprint(tushare.__version__)",
   "outputs": [
    {
     "name": "stdout",
     "text": "1.2.85\n",
     "output_type": "stream"
    }
   ],
   "execution_count": null
  },
  {
   "cell_type": "code",
   "metadata": {
    "tags": [],
    "cell_id": "00007-69c1eb2a-8c5f-4d7d-b34f-984875aa9ba8",
    "deepnote_to_be_reexecuted": false,
    "source_hash": "d9dd130",
    "execution_start": 1652861907144,
    "execution_millis": 1357,
    "deepnote_cell_type": "code",
    "deepnote_cell_height": 218.375,
    "deepnote_output_heights": [
     null,
     21.1875
    ]
   },
   "source": "import tushare as ts\n\ndata = ts.get_hist_data('600703')\ntype(data)",
   "outputs": [
    {
     "name": "stdout",
     "text": "本接口即将停止更新，请尽快使用Pro版接口：https://tushare.pro/document/2\n",
     "output_type": "stream"
    },
    {
     "output_type": "execute_result",
     "execution_count": 7,
     "data": {
      "text/plain": "pandas.core.frame.DataFrame"
     },
     "metadata": {}
    }
   ],
   "execution_count": null
  },
  {
   "cell_type": "code",
   "metadata": {
    "tags": [],
    "cell_id": "00008-46d8ee18-ab69-4ed4-99b9-f8a99fc823c7",
    "deepnote_to_be_reexecuted": false,
    "source_hash": "e6928a8f",
    "execution_start": 1652861915621,
    "execution_millis": 141,
    "deepnote_cell_type": "code",
    "deepnote_cell_height": 617,
    "deepnote_output_heights": [
     411.1875
    ]
   },
   "source": "data",
   "outputs": [
    {
     "output_type": "execute_result",
     "execution_count": 8,
     "data": {
      "application/vnd.deepnote.dataframe.v3+json": {
       "column_count": 14,
       "row_count": 605,
       "columns": [
        {
         "name": "open",
         "dtype": "float64",
         "stats": {
          "unique_count": 485,
          "nan_count": 0,
          "min": "15.58",
          "max": "44.31",
          "histogram": [
           {
            "bin_start": 15.58,
            "bin_end": 18.453,
            "count": 28
           },
           {
            "bin_start": 18.453,
            "bin_end": 21.326,
            "count": 59
           },
           {
            "bin_start": 21.326,
            "bin_end": 24.198999999999998,
            "count": 93
           },
           {
            "bin_start": 24.198999999999998,
            "bin_end": 27.072000000000003,
            "count": 154
           },
           {
            "bin_start": 27.072000000000003,
            "bin_end": 29.945,
            "count": 96
           },
           {
            "bin_start": 29.945,
            "bin_end": 32.818,
            "count": 56
           },
           {
            "bin_start": 32.818,
            "bin_end": 35.691,
            "count": 64
           },
           {
            "bin_start": 35.691,
            "bin_end": 38.564,
            "count": 36
           },
           {
            "bin_start": 38.564,
            "bin_end": 41.437000000000005,
            "count": 16
           },
           {
            "bin_start": 41.437000000000005,
            "bin_end": 44.31,
            "count": 3
           }
          ]
         }
        },
        {
         "name": "high",
         "dtype": "float64",
         "stats": {
          "unique_count": 495,
          "nan_count": 0,
          "min": "15.85",
          "max": "44.92",
          "histogram": [
           {
            "bin_start": 15.85,
            "bin_end": 18.756999999999998,
            "count": 25
           },
           {
            "bin_start": 18.756999999999998,
            "bin_end": 21.664,
            "count": 53
           },
           {
            "bin_start": 21.664,
            "bin_end": 24.570999999999998,
            "count": 99
           },
           {
            "bin_start": 24.570999999999998,
            "bin_end": 27.478,
            "count": 143
           },
           {
            "bin_start": 27.478,
            "bin_end": 30.384999999999998,
            "count": 105
           },
           {
            "bin_start": 30.384999999999998,
            "bin_end": 33.292,
            "count": 50
           },
           {
            "bin_start": 33.292,
            "bin_end": 36.199,
            "count": 68
           },
           {
            "bin_start": 36.199,
            "bin_end": 39.106,
            "count": 40
           },
           {
            "bin_start": 39.106,
            "bin_end": 42.013,
            "count": 14
           },
           {
            "bin_start": 42.013,
            "bin_end": 44.92,
            "count": 8
           }
          ]
         }
        },
        {
         "name": "close",
         "dtype": "float64",
         "stats": {
          "unique_count": 515,
          "nan_count": 0,
          "min": "15.58",
          "max": "44.92",
          "histogram": [
           {
            "bin_start": 15.58,
            "bin_end": 18.514,
            "count": 28
           },
           {
            "bin_start": 18.514,
            "bin_end": 21.448,
            "count": 59
           },
           {
            "bin_start": 21.448,
            "bin_end": 24.381999999999998,
            "count": 106
           },
           {
            "bin_start": 24.381999999999998,
            "bin_end": 27.316000000000003,
            "count": 155
           },
           {
            "bin_start": 27.316000000000003,
            "bin_end": 30.25,
            "count": 86
           },
           {
            "bin_start": 30.25,
            "bin_end": 33.184,
            "count": 60
           },
           {
            "bin_start": 33.184,
            "bin_end": 36.118,
            "count": 62
           },
           {
            "bin_start": 36.118,
            "bin_end": 39.052,
            "count": 32
           },
           {
            "bin_start": 39.052,
            "bin_end": 41.986000000000004,
            "count": 12
           },
           {
            "bin_start": 41.986000000000004,
            "bin_end": 44.92,
            "count": 5
           }
          ]
         }
        },
        {
         "name": "low",
         "dtype": "float64",
         "stats": {
          "unique_count": 483,
          "nan_count": 0,
          "min": "15.39",
          "max": "42.87",
          "histogram": [
           {
            "bin_start": 15.39,
            "bin_end": 18.138,
            "count": 30
           },
           {
            "bin_start": 18.138,
            "bin_end": 20.886,
            "count": 55
           },
           {
            "bin_start": 20.886,
            "bin_end": 23.634,
            "count": 96
           },
           {
            "bin_start": 23.634,
            "bin_end": 26.381999999999998,
            "count": 143
           },
           {
            "bin_start": 26.381999999999998,
            "bin_end": 29.13,
            "count": 109
           },
           {
            "bin_start": 29.13,
            "bin_end": 31.878,
            "count": 48
           },
           {
            "bin_start": 31.878,
            "bin_end": 34.626,
            "count": 60
           },
           {
            "bin_start": 34.626,
            "bin_end": 37.373999999999995,
            "count": 45
           },
           {
            "bin_start": 37.373999999999995,
            "bin_end": 40.122,
            "count": 12
           },
           {
            "bin_start": 40.122,
            "bin_end": 42.87,
            "count": 7
           }
          ]
         }
        },
        {
         "name": "volume",
         "dtype": "float64",
         "stats": {
          "unique_count": 605,
          "nan_count": 0,
          "min": "192846.0",
          "max": "3190205.25",
          "histogram": [
           {
            "bin_start": 192846,
            "bin_end": 492581.925,
            "count": 116
           },
           {
            "bin_start": 492581.925,
            "bin_end": 792317.85,
            "count": 174
           },
           {
            "bin_start": 792317.85,
            "bin_end": 1092053.775,
            "count": 142
           },
           {
            "bin_start": 1092053.775,
            "bin_end": 1391789.7,
            "count": 87
           },
           {
            "bin_start": 1391789.7,
            "bin_end": 1691525.625,
            "count": 45
           },
           {
            "bin_start": 1691525.625,
            "bin_end": 1991261.5499999998,
            "count": 27
           },
           {
            "bin_start": 1991261.5499999998,
            "bin_end": 2290997.475,
            "count": 8
           },
           {
            "bin_start": 2290997.475,
            "bin_end": 2590733.4,
            "count": 2
           },
           {
            "bin_start": 2590733.4,
            "bin_end": 2890469.3249999997,
            "count": 2
           },
           {
            "bin_start": 2890469.3249999997,
            "bin_end": 3190205.25,
            "count": 2
           }
          ]
         }
        },
        {
         "name": "price_change",
         "dtype": "float64",
         "stats": {
          "unique_count": 288,
          "nan_count": 0,
          "min": "-3.15",
          "max": "4.08",
          "histogram": [
           {
            "bin_start": -3.15,
            "bin_end": -2.4269999999999996,
            "count": 3
           },
           {
            "bin_start": -2.4269999999999996,
            "bin_end": -1.7039999999999997,
            "count": 23
           },
           {
            "bin_start": -1.7039999999999997,
            "bin_end": -0.9809999999999994,
            "count": 43
           },
           {
            "bin_start": -0.9809999999999994,
            "bin_end": -0.25799999999999956,
            "count": 176
           },
           {
            "bin_start": -0.25799999999999956,
            "bin_end": 0.4650000000000003,
            "count": 207
           },
           {
            "bin_start": 0.4650000000000003,
            "bin_end": 1.188000000000001,
            "count": 93
           },
           {
            "bin_start": 1.188000000000001,
            "bin_end": 1.911000000000001,
            "count": 40
           },
           {
            "bin_start": 1.911000000000001,
            "bin_end": 2.634000000000001,
            "count": 11
           },
           {
            "bin_start": 2.634000000000001,
            "bin_end": 3.3570000000000007,
            "count": 5
           },
           {
            "bin_start": 3.3570000000000007,
            "bin_end": 4.08,
            "count": 4
           }
          ]
         }
        },
        {
         "name": "p_change",
         "dtype": "float64",
         "stats": {
          "unique_count": 454,
          "nan_count": 0,
          "min": "-10.02",
          "max": "10.02",
          "histogram": [
           {
            "bin_start": -10.02,
            "bin_end": -8.016,
            "count": 6
           },
           {
            "bin_start": -8.016,
            "bin_end": -6.012,
            "count": 17
           },
           {
            "bin_start": -6.012,
            "bin_end": -4.007999999999999,
            "count": 26
           },
           {
            "bin_start": -4.007999999999999,
            "bin_end": -2.0039999999999996,
            "count": 102
           },
           {
            "bin_start": -2.0039999999999996,
            "bin_end": 0,
            "count": 154
           },
           {
            "bin_start": 0,
            "bin_end": 2.0040000000000013,
            "count": 158
           },
           {
            "bin_start": 2.0040000000000013,
            "bin_end": 4.008000000000001,
            "count": 71
           },
           {
            "bin_start": 4.008000000000001,
            "bin_end": 6.0120000000000005,
            "count": 37
           },
           {
            "bin_start": 6.0120000000000005,
            "bin_end": 8.016000000000002,
            "count": 14
           },
           {
            "bin_start": 8.016000000000002,
            "bin_end": 10.02,
            "count": 20
           }
          ]
         }
        },
        {
         "name": "ma5",
         "dtype": "float64",
         "stats": {
          "unique_count": 578,
          "nan_count": 0,
          "min": "16.034",
          "max": "42.534",
          "histogram": [
           {
            "bin_start": 16.034,
            "bin_end": 18.683999999999997,
            "count": 28
           },
           {
            "bin_start": 18.683999999999997,
            "bin_end": 21.334,
            "count": 57
           },
           {
            "bin_start": 21.334,
            "bin_end": 23.983999999999998,
            "count": 79
           },
           {
            "bin_start": 23.983999999999998,
            "bin_end": 26.634,
            "count": 144
           },
           {
            "bin_start": 26.634,
            "bin_end": 29.284,
            "count": 119
           },
           {
            "bin_start": 29.284,
            "bin_end": 31.933999999999997,
            "count": 39
           },
           {
            "bin_start": 31.933999999999997,
            "bin_end": 34.584,
            "count": 65
           },
           {
            "bin_start": 34.584,
            "bin_end": 37.233999999999995,
            "count": 48
           },
           {
            "bin_start": 37.233999999999995,
            "bin_end": 39.884,
            "count": 13
           },
           {
            "bin_start": 39.884,
            "bin_end": 42.534,
            "count": 13
           }
          ]
         }
        },
        {
         "name": "ma10",
         "dtype": "float64",
         "stats": {
          "unique_count": 590,
          "nan_count": 0,
          "min": "16.459",
          "max": "42.078",
          "histogram": [
           {
            "bin_start": 16.459,
            "bin_end": 19.0209,
            "count": 36
           },
           {
            "bin_start": 19.0209,
            "bin_end": 21.5828,
            "count": 56
           },
           {
            "bin_start": 21.5828,
            "bin_end": 24.1447,
            "count": 71
           },
           {
            "bin_start": 24.1447,
            "bin_end": 26.7066,
            "count": 149
           },
           {
            "bin_start": 26.7066,
            "bin_end": 29.268500000000003,
            "count": 111
           },
           {
            "bin_start": 29.268500000000003,
            "bin_end": 31.830400000000004,
            "count": 37
           },
           {
            "bin_start": 31.830400000000004,
            "bin_end": 34.392300000000006,
            "count": 63
           },
           {
            "bin_start": 34.392300000000006,
            "bin_end": 36.9542,
            "count": 57
           },
           {
            "bin_start": 36.9542,
            "bin_end": 39.51610000000001,
            "count": 11
           },
           {
            "bin_start": 39.51610000000001,
            "bin_end": 42.078,
            "count": 14
           }
          ]
         }
        },
        {
         "name": "ma20",
         "dtype": "float64",
         "stats": {
          "unique_count": 594,
          "nan_count": 0,
          "min": "16.459",
          "max": "40.706",
          "histogram": [
           {
            "bin_start": 16.459,
            "bin_end": 18.8837,
            "count": 33
           },
           {
            "bin_start": 18.8837,
            "bin_end": 21.3084,
            "count": 47
           },
           {
            "bin_start": 21.3084,
            "bin_end": 23.7331,
            "count": 55
           },
           {
            "bin_start": 23.7331,
            "bin_end": 26.1578,
            "count": 148
           },
           {
            "bin_start": 26.1578,
            "bin_end": 28.582500000000003,
            "count": 121
           },
           {
            "bin_start": 28.582500000000003,
            "bin_end": 31.007200000000005,
            "count": 46
           },
           {
            "bin_start": 31.007200000000005,
            "bin_end": 33.4319,
            "count": 56
           },
           {
            "bin_start": 33.4319,
            "bin_end": 35.8566,
            "count": 55
           },
           {
            "bin_start": 35.8566,
            "bin_end": 38.2813,
            "count": 27
           },
           {
            "bin_start": 38.2813,
            "bin_end": 40.706,
            "count": 17
           }
          ]
         }
        },
        {
         "name": "v_ma5",
         "dtype": "float64",
         "stats": {
          "unique_count": 605,
          "nan_count": 0,
          "min": "315680.79",
          "max": "2500618.05",
          "histogram": [
           {
            "bin_start": 315680.79,
            "bin_end": 534174.516,
            "count": 99
           },
           {
            "bin_start": 534174.516,
            "bin_end": 752668.2419999999,
            "count": 154
           },
           {
            "bin_start": 752668.2419999999,
            "bin_end": 971161.9679999999,
            "count": 118
           },
           {
            "bin_start": 971161.9679999999,
            "bin_end": 1189655.694,
            "count": 117
           },
           {
            "bin_start": 1189655.694,
            "bin_end": 1408149.42,
            "count": 54
           },
           {
            "bin_start": 1408149.42,
            "bin_end": 1626643.1459999997,
            "count": 38
           },
           {
            "bin_start": 1626643.1459999997,
            "bin_end": 1845136.8719999997,
            "count": 12
           },
           {
            "bin_start": 1845136.8719999997,
            "bin_end": 2063630.5979999998,
            "count": 5
           },
           {
            "bin_start": 2063630.5979999998,
            "bin_end": 2282124.3239999996,
            "count": 5
           },
           {
            "bin_start": 2282124.3239999996,
            "bin_end": 2500618.05,
            "count": 3
           }
          ]
         }
        },
        {
         "name": "v_ma10",
         "dtype": "float64",
         "stats": {
          "unique_count": 605,
          "nan_count": 0,
          "min": "389781.68",
          "max": "2290146.23",
          "histogram": [
           {
            "bin_start": 389781.68,
            "bin_end": 579818.135,
            "count": 125
           },
           {
            "bin_start": 579818.135,
            "bin_end": 769854.5900000001,
            "count": 128
           },
           {
            "bin_start": 769854.5900000001,
            "bin_end": 959891.0449999999,
            "count": 108
           },
           {
            "bin_start": 959891.0449999999,
            "bin_end": 1149927.5,
            "count": 105
           },
           {
            "bin_start": 1149927.5,
            "bin_end": 1339963.955,
            "count": 77
           },
           {
            "bin_start": 1339963.955,
            "bin_end": 1530000.41,
            "count": 34
           },
           {
            "bin_start": 1530000.41,
            "bin_end": 1720036.865,
            "count": 11
           },
           {
            "bin_start": 1720036.865,
            "bin_end": 1910073.32,
            "count": 9
           },
           {
            "bin_start": 1910073.32,
            "bin_end": 2100109.7750000004,
            "count": 4
           },
           {
            "bin_start": 2100109.7750000004,
            "bin_end": 2290146.23,
            "count": 4
           }
          ]
         }
        },
        {
         "name": "v_ma20",
         "dtype": "float64",
         "stats": {
          "unique_count": 605,
          "nan_count": 0,
          "min": "431110.8",
          "max": "1745507.09",
          "histogram": [
           {
            "bin_start": 431110.8,
            "bin_end": 562550.429,
            "count": 85
           },
           {
            "bin_start": 562550.429,
            "bin_end": 693990.058,
            "count": 101
           },
           {
            "bin_start": 693990.058,
            "bin_end": 825429.687,
            "count": 75
           },
           {
            "bin_start": 825429.687,
            "bin_end": 956869.3160000001,
            "count": 93
           },
           {
            "bin_start": 956869.3160000001,
            "bin_end": 1088308.945,
            "count": 63
           },
           {
            "bin_start": 1088308.945,
            "bin_end": 1219748.574,
            "count": 87
           },
           {
            "bin_start": 1219748.574,
            "bin_end": 1351188.2030000002,
            "count": 57
           },
           {
            "bin_start": 1351188.2030000002,
            "bin_end": 1482627.8320000002,
            "count": 11
           },
           {
            "bin_start": 1482627.8320000002,
            "bin_end": 1614067.4610000001,
            "count": 15
           },
           {
            "bin_start": 1614067.4610000001,
            "bin_end": 1745507.09,
            "count": 18
           }
          ]
         }
        },
        {
         "name": "turnover",
         "dtype": "float64",
         "stats": {
          "unique_count": 303,
          "nan_count": 0,
          "min": "0.47",
          "max": "7.82",
          "histogram": [
           {
            "bin_start": 0.47,
            "bin_end": 1.205,
            "count": 116
           },
           {
            "bin_start": 1.205,
            "bin_end": 1.9400000000000002,
            "count": 175
           },
           {
            "bin_start": 1.9400000000000002,
            "bin_end": 2.675,
            "count": 141
           },
           {
            "bin_start": 2.675,
            "bin_end": 3.41,
            "count": 86
           },
           {
            "bin_start": 3.41,
            "bin_end": 4.1450000000000005,
            "count": 46
           },
           {
            "bin_start": 4.1450000000000005,
            "bin_end": 4.88,
            "count": 27
           },
           {
            "bin_start": 4.88,
            "bin_end": 5.615,
            "count": 8
           },
           {
            "bin_start": 5.615,
            "bin_end": 6.3500000000000005,
            "count": 2
           },
           {
            "bin_start": 6.3500000000000005,
            "bin_end": 7.085000000000001,
            "count": 2
           },
           {
            "bin_start": 7.085000000000001,
            "bin_end": 7.82,
            "count": 2
           }
          ]
         }
        },
        {
         "name": "_deepnote_index_column",
         "dtype": "object"
        }
       ],
       "rows": [
        {
         "open": 21.14,
         "high": 21.18,
         "close": 20.73,
         "low": 20.59,
         "volume": 670392.06,
         "price_change": -0.4,
         "p_change": -1.89,
         "ma5": 20.71,
         "ma10": 19.566,
         "ma20": 19.422,
         "v_ma5": 944256.45,
         "v_ma10": 719910.69,
         "v_ma20": 626756.4,
         "turnover": 1.64,
         "_deepnote_index_column": "2022-05-18"
        },
        {
         "open": 20.18,
         "high": 21.37,
         "close": 21.13,
         "low": 20,
         "volume": 927478.94,
         "price_change": 0.95,
         "p_change": 4.71,
         "ma5": 20.428,
         "ma10": 19.323,
         "ma20": 19.453,
         "v_ma5": 988826.44,
         "v_ma10": 702437.27,
         "v_ma20": 616703.84,
         "turnover": 2.27,
         "_deepnote_index_column": "2022-05-17"
        },
        {
         "open": 20.49,
         "high": 20.72,
         "close": 20.18,
         "low": 20.03,
         "volume": 541777.62,
         "price_change": -0.28,
         "p_change": -1.37,
         "ma5": 19.93,
         "ma10": 18.987,
         "ma20": 19.482,
         "v_ma5": 914203.51,
         "v_ma10": 662828.29,
         "v_ma20": 614448.64,
         "turnover": 1.33,
         "_deepnote_index_column": "2022-05-16"
        },
        {
         "open": 20.95,
         "high": 20.95,
         "close": 20.46,
         "low": 20.15,
         "volume": 1078564.38,
         "price_change": -0.59,
         "p_change": -2.8,
         "ma5": 19.49,
         "ma10": 18.78,
         "ma20": 19.5,
         "v_ma5": 858041.62,
         "v_ma10": 678994.45,
         "v_ma20": 616740.33,
         "turnover": 2.64,
         "_deepnote_index_column": "2022-05-13"
        },
        {
         "open": 19.23,
         "high": 21.25,
         "close": 21.05,
         "low": 19.23,
         "volume": 1503069.25,
         "price_change": 1.73,
         "p_change": 8.95,
         "ma5": 18.972,
         "ma10": 18.421,
         "ma20": 19.518,
         "v_ma5": 711646.41,
         "v_ma10": 651498.42,
         "v_ma20": 606861.16,
         "turnover": 3.69,
         "_deepnote_index_column": "2022-05-12"
        },
        {
         "open": 18.65,
         "high": 20.1,
         "close": 19.32,
         "low": 18.46,
         "volume": 893242,
         "price_change": 0.68,
         "p_change": 3.65,
         "ma5": 18.422,
         "ma10": 18.091,
         "ma20": 19.538,
         "v_ma5": 495564.92,
         "v_ma10": 576745.16,
         "v_ma20": 560002.79,
         "turnover": 2.19,
         "_deepnote_index_column": "2022-05-11"
        },
        {
         "open": 17.72,
         "high": 18.94,
         "close": 18.64,
         "low": 17.66,
         "volume": 554364.31,
         "price_change": 0.66,
         "p_change": 3.67,
         "ma5": 18.218,
         "ma10": 18.129,
         "ma20": 19.71,
         "v_ma5": 416048.11,
         "v_ma10": 526722.74,
         "v_ma20": 539130.06,
         "turnover": 1.36,
         "_deepnote_index_column": "2022-05-10"
        },
        {
         "open": 17.83,
         "high": 18.37,
         "close": 17.98,
         "low": 17.78,
         "volume": 260968.16,
         "price_change": 0.11,
         "p_change": 0.62,
         "ma5": 18.044,
         "ma10": 18.277,
         "ma20": 19.931,
         "v_ma5": 411453.07,
         "v_ma10": 525730.95,
         "v_ma20": 527533.8,
         "turnover": 0.64,
         "_deepnote_index_column": "2022-05-09"
        },
        {
         "open": 17.72,
         "high": 18.17,
         "close": 17.87,
         "low": 17.68,
         "volume": 346588.31,
         "price_change": -0.43,
         "p_change": -2.35,
         "ma5": 18.07,
         "ma10": 18.584,
         "ma20": 20.215,
         "v_ma5": 499947.27,
         "v_ma10": 530823.45,
         "v_ma20": 530161.6,
         "turnover": 0.85,
         "_deepnote_index_column": "2022-05-06"
        },
        {
         "open": 18.25,
         "high": 18.72,
         "close": 18.3,
         "low": 18.11,
         "volume": 422661.84,
         "price_change": 0,
         "p_change": 0,
         "ma5": 17.87,
         "ma10": 18.936,
         "ma20": 20.521,
         "v_ma5": 591350.42,
         "v_ma10": 528998.66,
         "v_ma20": 531425.8,
         "turnover": 1.04,
         "_deepnote_index_column": "2022-05-05"
        }
       ]
      },
      "text/plain": "             open   high  close    low      volume  price_change  p_change  \\\ndate                                                                         \n2022-05-18  21.14  21.18  20.73  20.59   670392.06         -0.40     -1.89   \n2022-05-17  20.18  21.37  21.13  20.00   927478.94          0.95      4.71   \n2022-05-16  20.49  20.72  20.18  20.03   541777.62         -0.28     -1.37   \n2022-05-13  20.95  20.95  20.46  20.15  1078564.38         -0.59     -2.80   \n2022-05-12  19.23  21.25  21.05  19.23  1503069.25          1.73      8.95   \n...           ...    ...    ...    ...         ...           ...       ...   \n2019-11-22  16.88  17.25  16.21  16.10  1624475.50         -0.76     -4.48   \n2019-11-21  16.70  17.01  16.97  16.50  1243070.50          0.21      1.25   \n2019-11-20  16.90  17.13  16.76  16.56  1295915.50         -0.35     -2.05   \n2019-11-19  17.07  17.15  17.11  16.76  1349440.12         -0.01     -0.06   \n2019-11-18  17.34  17.52  17.12  16.86  1317102.50         -0.22     -1.27   \n\n               ma5    ma10    ma20       v_ma5      v_ma10      v_ma20  \\\ndate                                                                     \n2022-05-18  20.710  19.566  19.422   944256.45   719910.69   626756.40   \n2022-05-17  20.428  19.323  19.453   988826.44   702437.27   616703.84   \n2022-05-16  19.930  18.987  19.482   914203.51   662828.29   614448.64   \n2022-05-13  19.490  18.780  19.500   858041.62   678994.45   616740.33   \n2022-05-12  18.972  18.421  19.518   711646.41   651498.42   606861.16   \n...            ...     ...     ...         ...         ...         ...   \n2019-11-22  16.834  16.834  16.834  1366000.82  1366000.82  1366000.82   \n2019-11-21  16.990  16.990  16.990  1301382.16  1301382.16  1301382.16   \n2019-11-20  16.997  16.997  16.997  1320819.37  1320819.37  1320819.37   \n2019-11-19  17.115  17.115  17.115  1333271.31  1333271.31  1333271.31   \n2019-11-18  17.120  17.120  17.120  1317102.50  1317102.50  1317102.50   \n\n            turnover  \ndate                  \n2022-05-18      1.64  \n2022-05-17      2.27  \n2022-05-16      1.33  \n2022-05-13      2.64  \n2022-05-12      3.69  \n...              ...  \n2019-11-22      3.98  \n2019-11-21      3.05  \n2019-11-20      3.18  \n2019-11-19      3.31  \n2019-11-18      3.23  \n\n[605 rows x 14 columns]",
      "text/html": "<div>\n<style scoped>\n    .dataframe tbody tr th:only-of-type {\n        vertical-align: middle;\n    }\n\n    .dataframe tbody tr th {\n        vertical-align: top;\n    }\n\n    .dataframe thead th {\n        text-align: right;\n    }\n</style>\n<table border=\"1\" class=\"dataframe\">\n  <thead>\n    <tr style=\"text-align: right;\">\n      <th></th>\n      <th>open</th>\n      <th>high</th>\n      <th>close</th>\n      <th>low</th>\n      <th>volume</th>\n      <th>price_change</th>\n      <th>p_change</th>\n      <th>ma5</th>\n      <th>ma10</th>\n      <th>ma20</th>\n      <th>v_ma5</th>\n      <th>v_ma10</th>\n      <th>v_ma20</th>\n      <th>turnover</th>\n    </tr>\n    <tr>\n      <th>date</th>\n      <th></th>\n      <th></th>\n      <th></th>\n      <th></th>\n      <th></th>\n      <th></th>\n      <th></th>\n      <th></th>\n      <th></th>\n      <th></th>\n      <th></th>\n      <th></th>\n      <th></th>\n      <th></th>\n    </tr>\n  </thead>\n  <tbody>\n    <tr>\n      <th>2022-05-18</th>\n      <td>21.14</td>\n      <td>21.18</td>\n      <td>20.73</td>\n      <td>20.59</td>\n      <td>670392.06</td>\n      <td>-0.40</td>\n      <td>-1.89</td>\n      <td>20.710</td>\n      <td>19.566</td>\n      <td>19.422</td>\n      <td>944256.45</td>\n      <td>719910.69</td>\n      <td>626756.40</td>\n      <td>1.64</td>\n    </tr>\n    <tr>\n      <th>2022-05-17</th>\n      <td>20.18</td>\n      <td>21.37</td>\n      <td>21.13</td>\n      <td>20.00</td>\n      <td>927478.94</td>\n      <td>0.95</td>\n      <td>4.71</td>\n      <td>20.428</td>\n      <td>19.323</td>\n      <td>19.453</td>\n      <td>988826.44</td>\n      <td>702437.27</td>\n      <td>616703.84</td>\n      <td>2.27</td>\n    </tr>\n    <tr>\n      <th>2022-05-16</th>\n      <td>20.49</td>\n      <td>20.72</td>\n      <td>20.18</td>\n      <td>20.03</td>\n      <td>541777.62</td>\n      <td>-0.28</td>\n      <td>-1.37</td>\n      <td>19.930</td>\n      <td>18.987</td>\n      <td>19.482</td>\n      <td>914203.51</td>\n      <td>662828.29</td>\n      <td>614448.64</td>\n      <td>1.33</td>\n    </tr>\n    <tr>\n      <th>2022-05-13</th>\n      <td>20.95</td>\n      <td>20.95</td>\n      <td>20.46</td>\n      <td>20.15</td>\n      <td>1078564.38</td>\n      <td>-0.59</td>\n      <td>-2.80</td>\n      <td>19.490</td>\n      <td>18.780</td>\n      <td>19.500</td>\n      <td>858041.62</td>\n      <td>678994.45</td>\n      <td>616740.33</td>\n      <td>2.64</td>\n    </tr>\n    <tr>\n      <th>2022-05-12</th>\n      <td>19.23</td>\n      <td>21.25</td>\n      <td>21.05</td>\n      <td>19.23</td>\n      <td>1503069.25</td>\n      <td>1.73</td>\n      <td>8.95</td>\n      <td>18.972</td>\n      <td>18.421</td>\n      <td>19.518</td>\n      <td>711646.41</td>\n      <td>651498.42</td>\n      <td>606861.16</td>\n      <td>3.69</td>\n    </tr>\n    <tr>\n      <th>...</th>\n      <td>...</td>\n      <td>...</td>\n      <td>...</td>\n      <td>...</td>\n      <td>...</td>\n      <td>...</td>\n      <td>...</td>\n      <td>...</td>\n      <td>...</td>\n      <td>...</td>\n      <td>...</td>\n      <td>...</td>\n      <td>...</td>\n      <td>...</td>\n    </tr>\n    <tr>\n      <th>2019-11-22</th>\n      <td>16.88</td>\n      <td>17.25</td>\n      <td>16.21</td>\n      <td>16.10</td>\n      <td>1624475.50</td>\n      <td>-0.76</td>\n      <td>-4.48</td>\n      <td>16.834</td>\n      <td>16.834</td>\n      <td>16.834</td>\n      <td>1366000.82</td>\n      <td>1366000.82</td>\n      <td>1366000.82</td>\n      <td>3.98</td>\n    </tr>\n    <tr>\n      <th>2019-11-21</th>\n      <td>16.70</td>\n      <td>17.01</td>\n      <td>16.97</td>\n      <td>16.50</td>\n      <td>1243070.50</td>\n      <td>0.21</td>\n      <td>1.25</td>\n      <td>16.990</td>\n      <td>16.990</td>\n      <td>16.990</td>\n      <td>1301382.16</td>\n      <td>1301382.16</td>\n      <td>1301382.16</td>\n      <td>3.05</td>\n    </tr>\n    <tr>\n      <th>2019-11-20</th>\n      <td>16.90</td>\n      <td>17.13</td>\n      <td>16.76</td>\n      <td>16.56</td>\n      <td>1295915.50</td>\n      <td>-0.35</td>\n      <td>-2.05</td>\n      <td>16.997</td>\n      <td>16.997</td>\n      <td>16.997</td>\n      <td>1320819.37</td>\n      <td>1320819.37</td>\n      <td>1320819.37</td>\n      <td>3.18</td>\n    </tr>\n    <tr>\n      <th>2019-11-19</th>\n      <td>17.07</td>\n      <td>17.15</td>\n      <td>17.11</td>\n      <td>16.76</td>\n      <td>1349440.12</td>\n      <td>-0.01</td>\n      <td>-0.06</td>\n      <td>17.115</td>\n      <td>17.115</td>\n      <td>17.115</td>\n      <td>1333271.31</td>\n      <td>1333271.31</td>\n      <td>1333271.31</td>\n      <td>3.31</td>\n    </tr>\n    <tr>\n      <th>2019-11-18</th>\n      <td>17.34</td>\n      <td>17.52</td>\n      <td>17.12</td>\n      <td>16.86</td>\n      <td>1317102.50</td>\n      <td>-0.22</td>\n      <td>-1.27</td>\n      <td>17.120</td>\n      <td>17.120</td>\n      <td>17.120</td>\n      <td>1317102.50</td>\n      <td>1317102.50</td>\n      <td>1317102.50</td>\n      <td>3.23</td>\n    </tr>\n  </tbody>\n</table>\n<p>605 rows × 14 columns</p>\n</div>"
     },
     "metadata": {}
    }
   ],
   "execution_count": null
  },
  {
   "cell_type": "markdown",
   "source": "### Tushare Pro : Tushare大数据社区 (waditu.com)",
   "metadata": {
    "cell_id": "2d72824250664834b918e7474b4d0ab5",
    "tags": [],
    "is_collapsed": false,
    "deepnote_cell_type": "text-cell-h3"
   }
  },
  {
   "cell_type": "markdown",
   "source": "38518eae851c985a87aa631b348ea933bacadaf25256a14d846cd34b",
   "metadata": {
    "tags": [],
    "is_collapsed": false,
    "cell_id": "00010-3a500392-3c69-4c05-9ce6-a4c00f7f5955",
    "deepnote_cell_type": "text-cell-p"
   }
  },
  {
   "cell_type": "code",
   "metadata": {
    "tags": [],
    "cell_id": "00011-00da95e5-f189-4d6a-93c1-1d3bbfb88c8d",
    "deepnote_to_be_reexecuted": false,
    "source_hash": "2cf6c7e1",
    "execution_start": 1638342494033,
    "execution_millis": 1269,
    "deepnote_cell_type": "code",
    "deepnote_cell_height": 551.1875,
    "deepnote_output_heights": [
     382.1875
    ]
   },
   "source": "import tushare as ts\nts.set_token('38518eae851c985a87aa631b348ea933bacadaf25256a14d846cd34b')\npro = ts.pro_api()\ndata = pro.stock_basic(exchange='', list_status='L', fields='ts_code,symbol,name,area,industry,list_date')\ndata",
   "execution_count": null,
   "outputs": [
    {
     "output_type": "execute_result",
     "execution_count": 15,
     "data": {
      "application/vnd.deepnote.dataframe.v2+json": {
       "row_count": 4640,
       "column_count": 6,
       "columns": [
        {
         "name": "ts_code",
         "dtype": "object",
         "stats": {
          "unique_count": 4640,
          "nan_count": 0,
          "categories": [
           {
            "name": "000001.SZ",
            "count": 1
           },
           {
            "name": "000002.SZ",
            "count": 1
           },
           {
            "name": "4638 others",
            "count": 4638
           }
          ]
         }
        },
        {
         "name": "symbol",
         "dtype": "object",
         "stats": {
          "unique_count": 4640,
          "nan_count": 0,
          "categories": [
           {
            "name": "000001",
            "count": 1
           },
           {
            "name": "000002",
            "count": 1
           },
           {
            "name": "4638 others",
            "count": 4638
           }
          ]
         }
        },
        {
         "name": "name",
         "dtype": "object",
         "stats": {
          "unique_count": 4640,
          "nan_count": 0,
          "categories": [
           {
            "name": "平安银行",
            "count": 1
           },
           {
            "name": "万科A",
            "count": 1
           },
           {
            "name": "4638 others",
            "count": 4638
           }
          ]
         }
        },
        {
         "name": "area",
         "dtype": "object",
         "stats": {
          "unique_count": 32,
          "nan_count": 82,
          "categories": [
           {
            "name": "浙江",
            "count": 594
           },
           {
            "name": "31 others",
            "count": 3964
           },
           {
            "name": "Missing",
            "count": 82
           }
          ]
         }
        },
        {
         "name": "industry",
         "dtype": "object",
         "stats": {
          "unique_count": 110,
          "nan_count": 82,
          "categories": [
           {
            "name": "电气设备",
            "count": 244
           },
           {
            "name": "109 others",
            "count": 4314
           },
           {
            "name": "Missing",
            "count": 82
           }
          ]
         }
        },
        {
         "name": "list_date",
         "dtype": "object",
         "stats": {
          "unique_count": 2331,
          "nan_count": 0,
          "categories": [
           {
            "name": "20200727",
            "count": 34
           },
           {
            "name": "20091030",
            "count": 27
           },
           {
            "name": "2329 others",
            "count": 4579
           }
          ]
         }
        },
        {
         "name": "_deepnote_index_column",
         "dtype": "int64"
        }
       ],
       "rows_top": [
        {
         "ts_code": "000001.SZ",
         "symbol": "000001",
         "name": "平安银行",
         "area": "深圳",
         "industry": "银行",
         "list_date": "19910403",
         "_deepnote_index_column": 0
        },
        {
         "ts_code": "000002.SZ",
         "symbol": "000002",
         "name": "万科A",
         "area": "深圳",
         "industry": "全国地产",
         "list_date": "19910129",
         "_deepnote_index_column": 1
        },
        {
         "ts_code": "000004.SZ",
         "symbol": "000004",
         "name": "国华网安",
         "area": "深圳",
         "industry": "软件服务",
         "list_date": "19910114",
         "_deepnote_index_column": 2
        },
        {
         "ts_code": "000005.SZ",
         "symbol": "000005",
         "name": "ST星源",
         "area": "深圳",
         "industry": "环境保护",
         "list_date": "19901210",
         "_deepnote_index_column": 3
        },
        {
         "ts_code": "000006.SZ",
         "symbol": "000006",
         "name": "深振业A",
         "area": "深圳",
         "industry": "区域地产",
         "list_date": "19920427",
         "_deepnote_index_column": 4
        },
        {
         "ts_code": "000007.SZ",
         "symbol": "000007",
         "name": "*ST全新",
         "area": "深圳",
         "industry": "酒店餐饮",
         "list_date": "19920413",
         "_deepnote_index_column": 5
        },
        {
         "ts_code": "000008.SZ",
         "symbol": "000008",
         "name": "神州高铁",
         "area": "北京",
         "industry": "运输设备",
         "list_date": "19920507",
         "_deepnote_index_column": 6
        },
        {
         "ts_code": "000009.SZ",
         "symbol": "000009",
         "name": "中国宝安",
         "area": "深圳",
         "industry": "电气设备",
         "list_date": "19910625",
         "_deepnote_index_column": 7
        },
        {
         "ts_code": "000010.SZ",
         "symbol": "000010",
         "name": "美丽生态",
         "area": "深圳",
         "industry": "建筑工程",
         "list_date": "19951027",
         "_deepnote_index_column": 8
        },
        {
         "ts_code": "000011.SZ",
         "symbol": "000011",
         "name": "深物业A",
         "area": "深圳",
         "industry": "区域地产",
         "list_date": "19920330",
         "_deepnote_index_column": 9
        },
        {
         "ts_code": "000012.SZ",
         "symbol": "000012",
         "name": "南玻A",
         "area": "深圳",
         "industry": "玻璃",
         "list_date": "19920228",
         "_deepnote_index_column": 10
        },
        {
         "ts_code": "000014.SZ",
         "symbol": "000014",
         "name": "沙河股份",
         "area": "深圳",
         "industry": "全国地产",
         "list_date": "19920602",
         "_deepnote_index_column": 11
        },
        {
         "ts_code": "000016.SZ",
         "symbol": "000016",
         "name": "深康佳A",
         "area": "深圳",
         "industry": "家用电器",
         "list_date": "19920327",
         "_deepnote_index_column": 12
        },
        {
         "ts_code": "000017.SZ",
         "symbol": "000017",
         "name": "深中华A",
         "area": "深圳",
         "industry": "文教休闲",
         "list_date": "19920331",
         "_deepnote_index_column": 13
        },
        {
         "ts_code": "000019.SZ",
         "symbol": "000019",
         "name": "深粮控股",
         "area": "深圳",
         "industry": "其他商业",
         "list_date": "19921012",
         "_deepnote_index_column": 14
        },
        {
         "ts_code": "000020.SZ",
         "symbol": "000020",
         "name": "深华发A",
         "area": "深圳",
         "industry": "元器件",
         "list_date": "19920428",
         "_deepnote_index_column": 15
        },
        {
         "ts_code": "000021.SZ",
         "symbol": "000021",
         "name": "深科技",
         "area": "深圳",
         "industry": "IT设备",
         "list_date": "19940202",
         "_deepnote_index_column": 16
        },
        {
         "ts_code": "000023.SZ",
         "symbol": "000023",
         "name": "深天地A",
         "area": "深圳",
         "industry": "水泥",
         "list_date": "19930429",
         "_deepnote_index_column": 17
        },
        {
         "ts_code": "000025.SZ",
         "symbol": "000025",
         "name": "特力A",
         "area": "深圳",
         "industry": "汽车服务",
         "list_date": "19930621",
         "_deepnote_index_column": 18
        },
        {
         "ts_code": "000026.SZ",
         "symbol": "000026",
         "name": "飞亚达",
         "area": "深圳",
         "industry": "其他商业",
         "list_date": "19930603",
         "_deepnote_index_column": 19
        },
        {
         "ts_code": "000027.SZ",
         "symbol": "000027",
         "name": "深圳能源",
         "area": "深圳",
         "industry": "火力发电",
         "list_date": "19930903",
         "_deepnote_index_column": 20
        },
        {
         "ts_code": "000028.SZ",
         "symbol": "000028",
         "name": "国药一致",
         "area": "深圳",
         "industry": "医药商业",
         "list_date": "19930809",
         "_deepnote_index_column": 21
        },
        {
         "ts_code": "000029.SZ",
         "symbol": "000029",
         "name": "深深房A",
         "area": "深圳",
         "industry": "区域地产",
         "list_date": "19930915",
         "_deepnote_index_column": 22
        },
        {
         "ts_code": "000030.SZ",
         "symbol": "000030",
         "name": "富奥股份",
         "area": "吉林",
         "industry": "汽车配件",
         "list_date": "19930929",
         "_deepnote_index_column": 23
        },
        {
         "ts_code": "000031.SZ",
         "symbol": "000031",
         "name": "大悦城",
         "area": "深圳",
         "industry": "全国地产",
         "list_date": "19931008",
         "_deepnote_index_column": 24
        },
        {
         "ts_code": "000032.SZ",
         "symbol": "000032",
         "name": "深桑达A",
         "area": "深圳",
         "industry": "元器件",
         "list_date": "19931028",
         "_deepnote_index_column": 25
        },
        {
         "ts_code": "000034.SZ",
         "symbol": "000034",
         "name": "神州数码",
         "area": "深圳",
         "industry": "综合类",
         "list_date": "19940509",
         "_deepnote_index_column": 26
        },
        {
         "ts_code": "000035.SZ",
         "symbol": "000035",
         "name": "中国天楹",
         "area": "江苏",
         "industry": "环境保护",
         "list_date": "19940408",
         "_deepnote_index_column": 27
        },
        {
         "ts_code": "000036.SZ",
         "symbol": "000036",
         "name": "华联控股",
         "area": "深圳",
         "industry": "全国地产",
         "list_date": "19940617",
         "_deepnote_index_column": 28
        },
        {
         "ts_code": "000037.SZ",
         "symbol": "000037",
         "name": "深南电A",
         "area": "深圳",
         "industry": "火力发电",
         "list_date": "19940701",
         "_deepnote_index_column": 29
        },
        {
         "ts_code": "000038.SZ",
         "symbol": "000038",
         "name": "深大通",
         "area": "深圳",
         "industry": "综合类",
         "list_date": "19940808",
         "_deepnote_index_column": 30
        },
        {
         "ts_code": "000039.SZ",
         "symbol": "000039",
         "name": "中集集团",
         "area": "深圳",
         "industry": "轻工机械",
         "list_date": "19940408",
         "_deepnote_index_column": 31
        },
        {
         "ts_code": "000040.SZ",
         "symbol": "000040",
         "name": "东旭蓝天",
         "area": "深圳",
         "industry": "新型电力",
         "list_date": "19940808",
         "_deepnote_index_column": 32
        },
        {
         "ts_code": "000042.SZ",
         "symbol": "000042",
         "name": "中洲控股",
         "area": "深圳",
         "industry": "全国地产",
         "list_date": "19940921",
         "_deepnote_index_column": 33
        },
        {
         "ts_code": "000045.SZ",
         "symbol": "000045",
         "name": "深纺织A",
         "area": "深圳",
         "industry": "元器件",
         "list_date": "19940815",
         "_deepnote_index_column": 34
        },
        {
         "ts_code": "000046.SZ",
         "symbol": "000046",
         "name": "泛海控股",
         "area": "北京",
         "industry": "多元金融",
         "list_date": "19940912",
         "_deepnote_index_column": 35
        },
        {
         "ts_code": "000048.SZ",
         "symbol": "000048",
         "name": "京基智农",
         "area": "深圳",
         "industry": "饲料",
         "list_date": "19941101",
         "_deepnote_index_column": 36
        },
        {
         "ts_code": "000049.SZ",
         "symbol": "000049",
         "name": "德赛电池",
         "area": "深圳",
         "industry": "电气设备",
         "list_date": "19950320",
         "_deepnote_index_column": 37
        },
        {
         "ts_code": "000050.SZ",
         "symbol": "000050",
         "name": "深天马A",
         "area": "深圳",
         "industry": "元器件",
         "list_date": "19950315",
         "_deepnote_index_column": 38
        },
        {
         "ts_code": "000055.SZ",
         "symbol": "000055",
         "name": "方大集团",
         "area": "深圳",
         "industry": "其他建材",
         "list_date": "19960415",
         "_deepnote_index_column": 39
        },
        {
         "ts_code": "000056.SZ",
         "symbol": "000056",
         "name": "皇庭国际",
         "area": "深圳",
         "industry": "房产服务",
         "list_date": "19960708",
         "_deepnote_index_column": 40
        },
        {
         "ts_code": "000058.SZ",
         "symbol": "000058",
         "name": "深赛格",
         "area": "深圳",
         "industry": "商品城",
         "list_date": "19961226",
         "_deepnote_index_column": 41
        },
        {
         "ts_code": "000059.SZ",
         "symbol": "000059",
         "name": "华锦股份",
         "area": "辽宁",
         "industry": "石油加工",
         "list_date": "19970130",
         "_deepnote_index_column": 42
        },
        {
         "ts_code": "000060.SZ",
         "symbol": "000060",
         "name": "中金岭南",
         "area": "深圳",
         "industry": "铅锌",
         "list_date": "19970123",
         "_deepnote_index_column": 43
        },
        {
         "ts_code": "000061.SZ",
         "symbol": "000061",
         "name": "农产品",
         "area": "深圳",
         "industry": "农业综合",
         "list_date": "19970110",
         "_deepnote_index_column": 44
        },
        {
         "ts_code": "000062.SZ",
         "symbol": "000062",
         "name": "深圳华强",
         "area": "深圳",
         "industry": "批发业",
         "list_date": "19970130",
         "_deepnote_index_column": 45
        },
        {
         "ts_code": "000063.SZ",
         "symbol": "000063",
         "name": "中兴通讯",
         "area": "深圳",
         "industry": "通信设备",
         "list_date": "19971118",
         "_deepnote_index_column": 46
        },
        {
         "ts_code": "000065.SZ",
         "symbol": "000065",
         "name": "北方国际",
         "area": "北京",
         "industry": "建筑工程",
         "list_date": "19980605",
         "_deepnote_index_column": 47
        },
        {
         "ts_code": "000066.SZ",
         "symbol": "000066",
         "name": "中国长城",
         "area": "深圳",
         "industry": "IT设备",
         "list_date": "19970626",
         "_deepnote_index_column": 48
        },
        {
         "ts_code": "000068.SZ",
         "symbol": "000068",
         "name": "华控赛格",
         "area": "深圳",
         "industry": "环境保护",
         "list_date": "19970611",
         "_deepnote_index_column": 49
        },
        {
         "ts_code": "000069.SZ",
         "symbol": "000069",
         "name": "华侨城A",
         "area": "深圳",
         "industry": "旅游景点",
         "list_date": "19970910",
         "_deepnote_index_column": 50
        },
        {
         "ts_code": "000070.SZ",
         "symbol": "000070",
         "name": "特发信息",
         "area": "深圳",
         "industry": "通信设备",
         "list_date": "20000511",
         "_deepnote_index_column": 51
        },
        {
         "ts_code": "000078.SZ",
         "symbol": "000078",
         "name": "海王生物",
         "area": "深圳",
         "industry": "医药商业",
         "list_date": "19981218",
         "_deepnote_index_column": 52
        },
        {
         "ts_code": "000088.SZ",
         "symbol": "000088",
         "name": "盐田港",
         "area": "深圳",
         "industry": "港口",
         "list_date": "19970728",
         "_deepnote_index_column": 53
        },
        {
         "ts_code": "000089.SZ",
         "symbol": "000089",
         "name": "深圳机场",
         "area": "深圳",
         "industry": "机场",
         "list_date": "19980420",
         "_deepnote_index_column": 54
        },
        {
         "ts_code": "000090.SZ",
         "symbol": "000090",
         "name": "天健集团",
         "area": "深圳",
         "industry": "建筑工程",
         "list_date": "19990721",
         "_deepnote_index_column": 55
        },
        {
         "ts_code": "000096.SZ",
         "symbol": "000096",
         "name": "广聚能源",
         "area": "深圳",
         "industry": "石油贸易",
         "list_date": "20000724",
         "_deepnote_index_column": 56
        },
        {
         "ts_code": "000099.SZ",
         "symbol": "000099",
         "name": "中信海直",
         "area": "深圳",
         "industry": "空运",
         "list_date": "20000731",
         "_deepnote_index_column": 57
        },
        {
         "ts_code": "000100.SZ",
         "symbol": "000100",
         "name": "TCL科技",
         "area": "广东",
         "industry": "元器件",
         "list_date": "20040130",
         "_deepnote_index_column": 58
        },
        {
         "ts_code": "000150.SZ",
         "symbol": "000150",
         "name": "宜华健康",
         "area": "广东",
         "industry": "医疗保健",
         "list_date": "20000807",
         "_deepnote_index_column": 59
        },
        {
         "ts_code": "000151.SZ",
         "symbol": "000151",
         "name": "中成股份",
         "area": "北京",
         "industry": "商贸代理",
         "list_date": "20000906",
         "_deepnote_index_column": 60
        },
        {
         "ts_code": "000153.SZ",
         "symbol": "000153",
         "name": "丰原药业",
         "area": "安徽",
         "industry": "化学制药",
         "list_date": "20000920",
         "_deepnote_index_column": 61
        },
        {
         "ts_code": "000155.SZ",
         "symbol": "000155",
         "name": "川能动力",
         "area": "四川",
         "industry": "新型电力",
         "list_date": "20000926",
         "_deepnote_index_column": 62
        },
        {
         "ts_code": "000156.SZ",
         "symbol": "000156",
         "name": "华数传媒",
         "area": "浙江",
         "industry": "影视音像",
         "list_date": "20000906",
         "_deepnote_index_column": 63
        },
        {
         "ts_code": "000157.SZ",
         "symbol": "000157",
         "name": "中联重科",
         "area": "湖南",
         "industry": "工程机械",
         "list_date": "20001012",
         "_deepnote_index_column": 64
        },
        {
         "ts_code": "000158.SZ",
         "symbol": "000158",
         "name": "常山北明",
         "area": "河北",
         "industry": "软件服务",
         "list_date": "20000724",
         "_deepnote_index_column": 65
        },
        {
         "ts_code": "000159.SZ",
         "symbol": "000159",
         "name": "国际实业",
         "area": "新疆",
         "industry": "石油贸易",
         "list_date": "20000926",
         "_deepnote_index_column": 66
        },
        {
         "ts_code": "000166.SZ",
         "symbol": "000166",
         "name": "申万宏源",
         "area": "新疆",
         "industry": "证券",
         "list_date": "20150126",
         "_deepnote_index_column": 67
        },
        {
         "ts_code": "000301.SZ",
         "symbol": "000301",
         "name": "东方盛虹",
         "area": "江苏",
         "industry": "化纤",
         "list_date": "20000529",
         "_deepnote_index_column": 68
        },
        {
         "ts_code": "000333.SZ",
         "symbol": "000333",
         "name": "美的集团",
         "area": "广东",
         "industry": "家用电器",
         "list_date": "20130918",
         "_deepnote_index_column": 69
        },
        {
         "ts_code": "000338.SZ",
         "symbol": "000338",
         "name": "潍柴动力",
         "area": "山东",
         "industry": "汽车配件",
         "list_date": "20070430",
         "_deepnote_index_column": 70
        },
        {
         "ts_code": "000400.SZ",
         "symbol": "000400",
         "name": "许继电气",
         "area": "河南",
         "industry": "电气设备",
         "list_date": "19970418",
         "_deepnote_index_column": 71
        },
        {
         "ts_code": "000401.SZ",
         "symbol": "000401",
         "name": "冀东水泥",
         "area": "河北",
         "industry": "水泥",
         "list_date": "19960614",
         "_deepnote_index_column": 72
        },
        {
         "ts_code": "000402.SZ",
         "symbol": "000402",
         "name": "金融街",
         "area": "北京",
         "industry": "全国地产",
         "list_date": "19960626",
         "_deepnote_index_column": 73
        },
        {
         "ts_code": "000403.SZ",
         "symbol": "000403",
         "name": "派林生物",
         "area": "山西",
         "industry": "生物制药",
         "list_date": "19960628",
         "_deepnote_index_column": 74
        },
        {
         "ts_code": "000404.SZ",
         "symbol": "000404",
         "name": "长虹华意",
         "area": "江西",
         "industry": "家用电器",
         "list_date": "19960619",
         "_deepnote_index_column": 75
        },
        {
         "ts_code": "000407.SZ",
         "symbol": "000407",
         "name": "胜利股份",
         "area": "山东",
         "industry": "供气供热",
         "list_date": "19960703",
         "_deepnote_index_column": 76
        },
        {
         "ts_code": "000408.SZ",
         "symbol": "000408",
         "name": "藏格控股",
         "area": "青海",
         "industry": "农药化肥",
         "list_date": "19960628",
         "_deepnote_index_column": 77
        },
        {
         "ts_code": "000409.SZ",
         "symbol": "000409",
         "name": "云鼎科技",
         "area": "山东",
         "industry": "软件服务",
         "list_date": "19960627",
         "_deepnote_index_column": 78
        },
        {
         "ts_code": "000410.SZ",
         "symbol": "000410",
         "name": "ST沈机",
         "area": "辽宁",
         "industry": "机床制造",
         "list_date": "19960718",
         "_deepnote_index_column": 79
        },
        {
         "ts_code": "000411.SZ",
         "symbol": "000411",
         "name": "英特集团",
         "area": "浙江",
         "industry": "医药商业",
         "list_date": "19960716",
         "_deepnote_index_column": 80
        },
        {
         "ts_code": "000413.SZ",
         "symbol": "000413",
         "name": "东旭光电",
         "area": "河北",
         "industry": "元器件",
         "list_date": "19960925",
         "_deepnote_index_column": 81
        },
        {
         "ts_code": "000415.SZ",
         "symbol": "000415",
         "name": "渤海租赁",
         "area": "新疆",
         "industry": "多元金融",
         "list_date": "19960716",
         "_deepnote_index_column": 82
        }
       ],
       "rows_bottom": [
        {
         "ts_code": "688793.SH",
         "symbol": "688793",
         "name": "倍轻松",
         "area": "深圳",
         "industry": "家居用品",
         "list_date": "20210715",
         "_deepnote_index_column": 4557
        },
        {
         "ts_code": "688798.SH",
         "symbol": "688798",
         "name": "艾为电子",
         "area": "上海",
         "industry": "半导体",
         "list_date": "20210816",
         "_deepnote_index_column": 4558
        },
        {
         "ts_code": "688799.SH",
         "symbol": "688799",
         "name": "华纳药厂",
         "area": "湖南",
         "industry": "化学制药",
         "list_date": "20210713",
         "_deepnote_index_column": 4559
        },
        {
         "ts_code": "688800.SH",
         "symbol": "688800",
         "name": "瑞可达",
         "area": "江苏",
         "industry": "元器件",
         "list_date": "20210722",
         "_deepnote_index_column": 4560
        },
        {
         "ts_code": "688819.SH",
         "symbol": "688819",
         "name": "天能股份",
         "area": "浙江",
         "industry": "电气设备",
         "list_date": "20210118",
         "_deepnote_index_column": 4561
        },
        {
         "ts_code": "688981.SH",
         "symbol": "688981",
         "name": "中芯国际",
         "area": "上海",
         "industry": "半导体",
         "list_date": "20200716",
         "_deepnote_index_column": 4562
        },
        {
         "ts_code": "830799.BJ",
         "symbol": "830799",
         "name": "艾融软件",
         "area": "None",
         "industry": "None",
         "list_date": "20200727",
         "_deepnote_index_column": 4563
        },
        {
         "ts_code": "830832.BJ",
         "symbol": "830832",
         "name": "齐鲁华信",
         "area": "None",
         "industry": "None",
         "list_date": "20210223",
         "_deepnote_index_column": 4564
        },
        {
         "ts_code": "830839.BJ",
         "symbol": "830839",
         "name": "万通液压",
         "area": "None",
         "industry": "None",
         "list_date": "20201109",
         "_deepnote_index_column": 4565
        },
        {
         "ts_code": "830946.BJ",
         "symbol": "830946",
         "name": "森萱医药",
         "area": "None",
         "industry": "None",
         "list_date": "20200727",
         "_deepnote_index_column": 4566
        },
        {
         "ts_code": "830964.BJ",
         "symbol": "830964",
         "name": "润农节水",
         "area": "None",
         "industry": "None",
         "list_date": "20200727",
         "_deepnote_index_column": 4567
        },
        {
         "ts_code": "831010.BJ",
         "symbol": "831010",
         "name": "凯添燃气",
         "area": "None",
         "industry": "None",
         "list_date": "20200727",
         "_deepnote_index_column": 4568
        },
        {
         "ts_code": "831039.BJ",
         "symbol": "831039",
         "name": "国义招标",
         "area": "None",
         "industry": "None",
         "list_date": "20210818",
         "_deepnote_index_column": 4569
        },
        {
         "ts_code": "831305.BJ",
         "symbol": "831305",
         "name": "海希通讯",
         "area": "None",
         "industry": "None",
         "list_date": "20211105",
         "_deepnote_index_column": 4570
        },
        {
         "ts_code": "831370.BJ",
         "symbol": "831370",
         "name": "新安洁",
         "area": "None",
         "industry": "None",
         "list_date": "20200727",
         "_deepnote_index_column": 4571
        },
        {
         "ts_code": "831445.BJ",
         "symbol": "831445",
         "name": "龙竹科技",
         "area": "None",
         "industry": "None",
         "list_date": "20200727",
         "_deepnote_index_column": 4572
        },
        {
         "ts_code": "831726.BJ",
         "symbol": "831726",
         "name": "朱老六",
         "area": "None",
         "industry": "None",
         "list_date": "20210527",
         "_deepnote_index_column": 4573
        },
        {
         "ts_code": "831768.BJ",
         "symbol": "831768",
         "name": "拾比佰",
         "area": "None",
         "industry": "None",
         "list_date": "20210628",
         "_deepnote_index_column": 4574
        },
        {
         "ts_code": "831832.BJ",
         "symbol": "831832",
         "name": "科达自控",
         "area": "None",
         "industry": "None",
         "list_date": "20211115",
         "_deepnote_index_column": 4575
        },
        {
         "ts_code": "831856.BJ",
         "symbol": "831856",
         "name": "浩淼科技",
         "area": "None",
         "industry": "None",
         "list_date": "20201225",
         "_deepnote_index_column": 4576
        },
        {
         "ts_code": "831961.BJ",
         "symbol": "831961",
         "name": "创远仪器",
         "area": "None",
         "industry": "None",
         "list_date": "20200727",
         "_deepnote_index_column": 4577
        },
        {
         "ts_code": "832000.BJ",
         "symbol": "832000",
         "name": "安徽凤凰",
         "area": "None",
         "industry": "None",
         "list_date": "20201223",
         "_deepnote_index_column": 4578
        },
        {
         "ts_code": "832089.BJ",
         "symbol": "832089",
         "name": "禾昌聚合",
         "area": "None",
         "industry": "None",
         "list_date": "20211109",
         "_deepnote_index_column": 4579
        },
        {
         "ts_code": "832145.BJ",
         "symbol": "832145",
         "name": "恒合股份",
         "area": "None",
         "industry": "None",
         "list_date": "20211115",
         "_deepnote_index_column": 4580
        },
        {
         "ts_code": "832171.BJ",
         "symbol": "832171",
         "name": "志晟信息",
         "area": "None",
         "industry": "None",
         "list_date": "20211115",
         "_deepnote_index_column": 4581
        },
        {
         "ts_code": "832225.BJ",
         "symbol": "832225",
         "name": "利通科技",
         "area": "None",
         "industry": "None",
         "list_date": "20210225",
         "_deepnote_index_column": 4582
        },
        {
         "ts_code": "832278.BJ",
         "symbol": "832278",
         "name": "鹿得医疗",
         "area": "None",
         "industry": "None",
         "list_date": "20200727",
         "_deepnote_index_column": 4583
        },
        {
         "ts_code": "832317.BJ",
         "symbol": "832317",
         "name": "观典防务",
         "area": "None",
         "industry": "None",
         "list_date": "20200727",
         "_deepnote_index_column": 4584
        },
        {
         "ts_code": "832566.BJ",
         "symbol": "832566",
         "name": "梓橦宫",
         "area": "None",
         "industry": "None",
         "list_date": "20210813",
         "_deepnote_index_column": 4585
        },
        {
         "ts_code": "832735.BJ",
         "symbol": "832735",
         "name": "德源药业",
         "area": "None",
         "industry": "None",
         "list_date": "20210219",
         "_deepnote_index_column": 4586
        },
        {
         "ts_code": "832885.BJ",
         "symbol": "832885",
         "name": "星辰科技",
         "area": "None",
         "industry": "None",
         "list_date": "20210708",
         "_deepnote_index_column": 4587
        },
        {
         "ts_code": "833266.BJ",
         "symbol": "833266",
         "name": "生物谷",
         "area": "None",
         "industry": "None",
         "list_date": "20200727",
         "_deepnote_index_column": 4588
        },
        {
         "ts_code": "833427.BJ",
         "symbol": "833427",
         "name": "华维设计",
         "area": "None",
         "industry": "None",
         "list_date": "20210205",
         "_deepnote_index_column": 4589
        },
        {
         "ts_code": "833454.BJ",
         "symbol": "833454",
         "name": "同心传动",
         "area": "None",
         "industry": "None",
         "list_date": "20211115",
         "_deepnote_index_column": 4590
        },
        {
         "ts_code": "833509.BJ",
         "symbol": "833509",
         "name": "同惠电子",
         "area": "None",
         "industry": "None",
         "list_date": "20210111",
         "_deepnote_index_column": 4591
        },
        {
         "ts_code": "833523.BJ",
         "symbol": "833523",
         "name": "德瑞锂电",
         "area": "None",
         "industry": "None",
         "list_date": "20210603",
         "_deepnote_index_column": 4592
        },
        {
         "ts_code": "833819.BJ",
         "symbol": "833819",
         "name": "颖泰生物",
         "area": "None",
         "industry": "None",
         "list_date": "20200727",
         "_deepnote_index_column": 4593
        },
        {
         "ts_code": "833873.BJ",
         "symbol": "833873",
         "name": "中设咨询",
         "area": "None",
         "industry": "None",
         "list_date": "20211115",
         "_deepnote_index_column": 4594
        },
        {
         "ts_code": "833874.BJ",
         "symbol": "833874",
         "name": "泰祥股份",
         "area": "None",
         "industry": "None",
         "list_date": "20200727",
         "_deepnote_index_column": 4595
        },
        {
         "ts_code": "833994.BJ",
         "symbol": "833994",
         "name": "翰博高新",
         "area": "None",
         "industry": "None",
         "list_date": "20200727",
         "_deepnote_index_column": 4596
        },
        {
         "ts_code": "834021.BJ",
         "symbol": "834021",
         "name": "流金岁月",
         "area": "None",
         "industry": "None",
         "list_date": "20200727",
         "_deepnote_index_column": 4597
        },
        {
         "ts_code": "834415.BJ",
         "symbol": "834415",
         "name": "恒拓开源",
         "area": "None",
         "industry": "None",
         "list_date": "20200727",
         "_deepnote_index_column": 4598
        },
        {
         "ts_code": "834475.BJ",
         "symbol": "834475",
         "name": "三友科技",
         "area": "None",
         "industry": "None",
         "list_date": "20200727",
         "_deepnote_index_column": 4599
        },
        {
         "ts_code": "834599.BJ",
         "symbol": "834599",
         "name": "同力股份",
         "area": "None",
         "industry": "None",
         "list_date": "20210222",
         "_deepnote_index_column": 4600
        },
        {
         "ts_code": "834682.BJ",
         "symbol": "834682",
         "name": "球冠电缆",
         "area": "None",
         "industry": "None",
         "list_date": "20200727",
         "_deepnote_index_column": 4601
        },
        {
         "ts_code": "834765.BJ",
         "symbol": "834765",
         "name": "美之高",
         "area": "None",
         "industry": "None",
         "list_date": "20210705",
         "_deepnote_index_column": 4602
        },
        {
         "ts_code": "835174.BJ",
         "symbol": "835174",
         "name": "五新隧装",
         "area": "None",
         "industry": "None",
         "list_date": "20210820",
         "_deepnote_index_column": 4603
        },
        {
         "ts_code": "835184.BJ",
         "symbol": "835184",
         "name": "国源科技",
         "area": "None",
         "industry": "None",
         "list_date": "20200727",
         "_deepnote_index_column": 4604
        },
        {
         "ts_code": "835185.BJ",
         "symbol": "835185",
         "name": "贝特瑞",
         "area": "None",
         "industry": "None",
         "list_date": "20200727",
         "_deepnote_index_column": 4605
        },
        {
         "ts_code": "835305.BJ",
         "symbol": "835305",
         "name": "云创数据",
         "area": "None",
         "industry": "None",
         "list_date": "20210826",
         "_deepnote_index_column": 4606
        },
        {
         "ts_code": "835368.BJ",
         "symbol": "835368",
         "name": "连城数控",
         "area": "None",
         "industry": "None",
         "list_date": "20200727",
         "_deepnote_index_column": 4607
        },
        {
         "ts_code": "835508.BJ",
         "symbol": "835508",
         "name": "殷图网联",
         "area": "None",
         "industry": "None",
         "list_date": "20200727",
         "_deepnote_index_column": 4608
        },
        {
         "ts_code": "835640.BJ",
         "symbol": "835640",
         "name": "富士达",
         "area": "None",
         "industry": "None",
         "list_date": "20200727",
         "_deepnote_index_column": 4609
        },
        {
         "ts_code": "835670.BJ",
         "symbol": "835670",
         "name": "数字人",
         "area": "None",
         "industry": "None",
         "list_date": "20201208",
         "_deepnote_index_column": 4610
        },
        {
         "ts_code": "836077.BJ",
         "symbol": "836077",
         "name": "吉林碳谷",
         "area": "None",
         "industry": "None",
         "list_date": "20210831",
         "_deepnote_index_column": 4611
        },
        {
         "ts_code": "836149.BJ",
         "symbol": "836149",
         "name": "旭杰科技",
         "area": "None",
         "industry": "None",
         "list_date": "20200727",
         "_deepnote_index_column": 4612
        },
        {
         "ts_code": "836239.BJ",
         "symbol": "836239",
         "name": "长虹能源",
         "area": "None",
         "industry": "None",
         "list_date": "20210209",
         "_deepnote_index_column": 4613
        },
        {
         "ts_code": "836260.BJ",
         "symbol": "836260",
         "name": "中寰股份",
         "area": "None",
         "industry": "None",
         "list_date": "20211115",
         "_deepnote_index_column": 4614
        },
        {
         "ts_code": "836263.BJ",
         "symbol": "836263",
         "name": "中航泰达",
         "area": "None",
         "industry": "None",
         "list_date": "20200727",
         "_deepnote_index_column": 4615
        },
        {
         "ts_code": "836433.BJ",
         "symbol": "836433",
         "name": "大唐药业",
         "area": "None",
         "industry": "None",
         "list_date": "20200727",
         "_deepnote_index_column": 4616
        },
        {
         "ts_code": "836675.BJ",
         "symbol": "836675",
         "name": "秉扬科技",
         "area": "None",
         "industry": "None",
         "list_date": "20201228",
         "_deepnote_index_column": 4617
        },
        {
         "ts_code": "836720.BJ",
         "symbol": "836720",
         "name": "吉冈精密",
         "area": "None",
         "industry": "None",
         "list_date": "20211124",
         "_deepnote_index_column": 4618
        },
        {
         "ts_code": "836826.BJ",
         "symbol": "836826",
         "name": "盖世食品",
         "area": "None",
         "industry": "None",
         "list_date": "20210112",
         "_deepnote_index_column": 4619
        },
        {
         "ts_code": "836892.BJ",
         "symbol": "836892",
         "name": "广咨国际",
         "area": "None",
         "industry": "None",
         "list_date": "20211028",
         "_deepnote_index_column": 4620
        },
        {
         "ts_code": "837092.BJ",
         "symbol": "837092",
         "name": "汉鑫科技",
         "area": "None",
         "industry": "None",
         "list_date": "20211115",
         "_deepnote_index_column": 4621
        },
        {
         "ts_code": "837212.BJ",
         "symbol": "837212",
         "name": "智新电子",
         "area": "None",
         "industry": "None",
         "list_date": "20210608",
         "_deepnote_index_column": 4622
        },
        {
         "ts_code": "837242.BJ",
         "symbol": "837242",
         "name": "建邦科技",
         "area": "None",
         "industry": "None",
         "list_date": "20200727",
         "_deepnote_index_column": 4623
        },
        {
         "ts_code": "837344.BJ",
         "symbol": "837344",
         "name": "三元基因",
         "area": "None",
         "industry": "None",
         "list_date": "20210108",
         "_deepnote_index_column": 4624
        },
        {
         "ts_code": "838030.BJ",
         "symbol": "838030",
         "name": "德众汽车",
         "area": "None",
         "industry": "None",
         "list_date": "20201127",
         "_deepnote_index_column": 4625
        },
        {
         "ts_code": "838163.BJ",
         "symbol": "838163",
         "name": "方大股份",
         "area": "None",
         "industry": "None",
         "list_date": "20200727",
         "_deepnote_index_column": 4626
        },
        {
         "ts_code": "838275.BJ",
         "symbol": "838275",
         "name": "驱动力",
         "area": "None",
         "industry": "None",
         "list_date": "20210125",
         "_deepnote_index_column": 4627
        },
        {
         "ts_code": "838924.BJ",
         "symbol": "838924",
         "name": "广脉科技",
         "area": "None",
         "industry": "None",
         "list_date": "20211103",
         "_deepnote_index_column": 4628
        },
        {
         "ts_code": "839167.BJ",
         "symbol": "839167",
         "name": "同享科技",
         "area": "None",
         "industry": "None",
         "list_date": "20200727",
         "_deepnote_index_column": 4629
        },
        {
         "ts_code": "839680.BJ",
         "symbol": "839680",
         "name": "广道高新",
         "area": "None",
         "industry": "None",
         "list_date": "20211115",
         "_deepnote_index_column": 4630
        },
        {
         "ts_code": "839729.BJ",
         "symbol": "839729",
         "name": "永顺生物",
         "area": "None",
         "industry": "None",
         "list_date": "20200727",
         "_deepnote_index_column": 4631
        },
        {
         "ts_code": "839946.BJ",
         "symbol": "839946",
         "name": "华阳变速",
         "area": "None",
         "industry": "None",
         "list_date": "20210720",
         "_deepnote_index_column": 4632
        },
        {
         "ts_code": "870436.BJ",
         "symbol": "870436",
         "name": "大地电气",
         "area": "None",
         "industry": "None",
         "list_date": "20211115",
         "_deepnote_index_column": 4633
        },
        {
         "ts_code": "871396.BJ",
         "symbol": "871396",
         "name": "常辅股份",
         "area": "None",
         "industry": "None",
         "list_date": "20201118",
         "_deepnote_index_column": 4634
        },
        {
         "ts_code": "871553.BJ",
         "symbol": "871553",
         "name": "凯腾精工",
         "area": "None",
         "industry": "None",
         "list_date": "20210806",
         "_deepnote_index_column": 4635
        },
        {
         "ts_code": "871642.BJ",
         "symbol": "871642",
         "name": "通易航天",
         "area": "None",
         "industry": "None",
         "list_date": "20210816",
         "_deepnote_index_column": 4636
        },
        {
         "ts_code": "871981.BJ",
         "symbol": "871981",
         "name": "晶赛科技",
         "area": "None",
         "industry": "None",
         "list_date": "20211115",
         "_deepnote_index_column": 4637
        },
        {
         "ts_code": "872925.BJ",
         "symbol": "872925",
         "name": "锦好医疗",
         "area": "None",
         "industry": "None",
         "list_date": "20211025",
         "_deepnote_index_column": 4638
        },
        {
         "ts_code": "689009.SH",
         "symbol": "689009",
         "name": "九号公司-WD",
         "area": "北京",
         "industry": "摩托车",
         "list_date": "20201029",
         "_deepnote_index_column": 4639
        }
       ]
      },
      "text/plain": "        ts_code  symbol     name  area industry list_date\n0     000001.SZ  000001     平安银行    深圳       银行  19910403\n1     000002.SZ  000002      万科A    深圳     全国地产  19910129\n2     000004.SZ  000004     国华网安    深圳     软件服务  19910114\n3     000005.SZ  000005     ST星源    深圳     环境保护  19901210\n4     000006.SZ  000006     深振业A    深圳     区域地产  19920427\n...         ...     ...      ...   ...      ...       ...\n4635  871553.BJ  871553     凯腾精工  None     None  20210806\n4636  871642.BJ  871642     通易航天  None     None  20210816\n4637  871981.BJ  871981     晶赛科技  None     None  20211115\n4638  872925.BJ  872925     锦好医疗  None     None  20211025\n4639  689009.SH  689009  九号公司-WD    北京      摩托车  20201029\n\n[4640 rows x 6 columns]",
      "text/html": "<div>\n<style scoped>\n    .dataframe tbody tr th:only-of-type {\n        vertical-align: middle;\n    }\n\n    .dataframe tbody tr th {\n        vertical-align: top;\n    }\n\n    .dataframe thead th {\n        text-align: right;\n    }\n</style>\n<table border=\"1\" class=\"dataframe\">\n  <thead>\n    <tr style=\"text-align: right;\">\n      <th></th>\n      <th>ts_code</th>\n      <th>symbol</th>\n      <th>name</th>\n      <th>area</th>\n      <th>industry</th>\n      <th>list_date</th>\n    </tr>\n  </thead>\n  <tbody>\n    <tr>\n      <th>0</th>\n      <td>000001.SZ</td>\n      <td>000001</td>\n      <td>平安银行</td>\n      <td>深圳</td>\n      <td>银行</td>\n      <td>19910403</td>\n    </tr>\n    <tr>\n      <th>1</th>\n      <td>000002.SZ</td>\n      <td>000002</td>\n      <td>万科A</td>\n      <td>深圳</td>\n      <td>全国地产</td>\n      <td>19910129</td>\n    </tr>\n    <tr>\n      <th>2</th>\n      <td>000004.SZ</td>\n      <td>000004</td>\n      <td>国华网安</td>\n      <td>深圳</td>\n      <td>软件服务</td>\n      <td>19910114</td>\n    </tr>\n    <tr>\n      <th>3</th>\n      <td>000005.SZ</td>\n      <td>000005</td>\n      <td>ST星源</td>\n      <td>深圳</td>\n      <td>环境保护</td>\n      <td>19901210</td>\n    </tr>\n    <tr>\n      <th>4</th>\n      <td>000006.SZ</td>\n      <td>000006</td>\n      <td>深振业A</td>\n      <td>深圳</td>\n      <td>区域地产</td>\n      <td>19920427</td>\n    </tr>\n    <tr>\n      <th>...</th>\n      <td>...</td>\n      <td>...</td>\n      <td>...</td>\n      <td>...</td>\n      <td>...</td>\n      <td>...</td>\n    </tr>\n    <tr>\n      <th>4635</th>\n      <td>871553.BJ</td>\n      <td>871553</td>\n      <td>凯腾精工</td>\n      <td>None</td>\n      <td>None</td>\n      <td>20210806</td>\n    </tr>\n    <tr>\n      <th>4636</th>\n      <td>871642.BJ</td>\n      <td>871642</td>\n      <td>通易航天</td>\n      <td>None</td>\n      <td>None</td>\n      <td>20210816</td>\n    </tr>\n    <tr>\n      <th>4637</th>\n      <td>871981.BJ</td>\n      <td>871981</td>\n      <td>晶赛科技</td>\n      <td>None</td>\n      <td>None</td>\n      <td>20211115</td>\n    </tr>\n    <tr>\n      <th>4638</th>\n      <td>872925.BJ</td>\n      <td>872925</td>\n      <td>锦好医疗</td>\n      <td>None</td>\n      <td>None</td>\n      <td>20211025</td>\n    </tr>\n    <tr>\n      <th>4639</th>\n      <td>689009.SH</td>\n      <td>689009</td>\n      <td>九号公司-WD</td>\n      <td>北京</td>\n      <td>摩托车</td>\n      <td>20201029</td>\n    </tr>\n  </tbody>\n</table>\n<p>4640 rows × 6 columns</p>\n</div>"
     },
     "metadata": {}
    }
   ]
  },
  {
   "cell_type": "code",
   "metadata": {
    "tags": [],
    "cell_id": "00012-0946c238-f6d8-4739-b227-757cce920f95",
    "deepnote_to_be_reexecuted": false,
    "source_hash": "73bda99a",
    "execution_start": 1638342837427,
    "execution_millis": 588,
    "deepnote_cell_type": "code",
    "deepnote_cell_height": 553,
    "deepnote_output_heights": [
     438
    ]
   },
   "source": "df = pro.daily(ts_code='600703.SH', start_date='20211101', end_date='20211118')\ndf",
   "execution_count": null,
   "outputs": [
    {
     "output_type": "execute_result",
     "execution_count": 18,
     "data": {
      "application/vnd.deepnote.dataframe.v2+json": {
       "row_count": 14,
       "column_count": 11,
       "columns": [
        {
         "name": "ts_code",
         "dtype": "object",
         "stats": {
          "unique_count": 1,
          "nan_count": 0,
          "categories": [
           {
            "name": "600703.SH",
            "count": 14
           }
          ]
         }
        },
        {
         "name": "trade_date",
         "dtype": "object",
         "stats": {
          "unique_count": 14,
          "nan_count": 0,
          "categories": [
           {
            "name": "20211118",
            "count": 1
           },
           {
            "name": "20211117",
            "count": 1
           },
           {
            "name": "12 others",
            "count": 12
           }
          ]
         }
        },
        {
         "name": "open",
         "dtype": "float64",
         "stats": {
          "unique_count": 14,
          "nan_count": 0,
          "min": "33.6",
          "max": "37.39",
          "histogram": [
           {
            "bin_start": 33.6,
            "bin_end": 33.979,
            "count": 3
           },
           {
            "bin_start": 33.979,
            "bin_end": 34.358000000000004,
            "count": 0
           },
           {
            "bin_start": 34.358000000000004,
            "bin_end": 34.737,
            "count": 3
           },
           {
            "bin_start": 34.737,
            "bin_end": 35.116,
            "count": 0
           },
           {
            "bin_start": 35.116,
            "bin_end": 35.495000000000005,
            "count": 0
           },
           {
            "bin_start": 35.495000000000005,
            "bin_end": 35.874,
            "count": 4
           },
           {
            "bin_start": 35.874,
            "bin_end": 36.253,
            "count": 1
           },
           {
            "bin_start": 36.253,
            "bin_end": 36.632,
            "count": 1
           },
           {
            "bin_start": 36.632,
            "bin_end": 37.011,
            "count": 1
           },
           {
            "bin_start": 37.011,
            "bin_end": 37.39,
            "count": 1
           }
          ]
         }
        },
        {
         "name": "high",
         "dtype": "float64",
         "stats": {
          "unique_count": 14,
          "nan_count": 0,
          "min": "34.19",
          "max": "38.28",
          "histogram": [
           {
            "bin_start": 34.19,
            "bin_end": 34.599,
            "count": 1
           },
           {
            "bin_start": 34.599,
            "bin_end": 35.007999999999996,
            "count": 0
           },
           {
            "bin_start": 35.007999999999996,
            "bin_end": 35.417,
            "count": 3
           },
           {
            "bin_start": 35.417,
            "bin_end": 35.826,
            "count": 2
           },
           {
            "bin_start": 35.826,
            "bin_end": 36.235,
            "count": 1
           },
           {
            "bin_start": 36.235,
            "bin_end": 36.644,
            "count": 2
           },
           {
            "bin_start": 36.644,
            "bin_end": 37.053,
            "count": 1
           },
           {
            "bin_start": 37.053,
            "bin_end": 37.462,
            "count": 1
           },
           {
            "bin_start": 37.462,
            "bin_end": 37.871,
            "count": 2
           },
           {
            "bin_start": 37.871,
            "bin_end": 38.28,
            "count": 1
           }
          ]
         }
        },
        {
         "name": "low",
         "dtype": "float64",
         "stats": {
          "unique_count": 14,
          "nan_count": 0,
          "min": "32.96",
          "max": "36.78",
          "histogram": [
           {
            "bin_start": 32.96,
            "bin_end": 33.342,
            "count": 3
           },
           {
            "bin_start": 33.342,
            "bin_end": 33.724000000000004,
            "count": 0
           },
           {
            "bin_start": 33.724000000000004,
            "bin_end": 34.106,
            "count": 2
           },
           {
            "bin_start": 34.106,
            "bin_end": 34.488,
            "count": 1
           },
           {
            "bin_start": 34.488,
            "bin_end": 34.870000000000005,
            "count": 1
           },
           {
            "bin_start": 34.870000000000005,
            "bin_end": 35.252,
            "count": 1
           },
           {
            "bin_start": 35.252,
            "bin_end": 35.634,
            "count": 2
           },
           {
            "bin_start": 35.634,
            "bin_end": 36.016,
            "count": 2
           },
           {
            "bin_start": 36.016,
            "bin_end": 36.398,
            "count": 1
           },
           {
            "bin_start": 36.398,
            "bin_end": 36.78,
            "count": 1
           }
          ]
         }
        },
        {
         "name": "close",
         "dtype": "float64",
         "stats": {
          "unique_count": 14,
          "nan_count": 0,
          "min": "33.38",
          "max": "37.23",
          "histogram": [
           {
            "bin_start": 33.38,
            "bin_end": 33.765,
            "count": 2
           },
           {
            "bin_start": 33.765,
            "bin_end": 34.15,
            "count": 0
           },
           {
            "bin_start": 34.15,
            "bin_end": 34.535000000000004,
            "count": 1
           },
           {
            "bin_start": 34.535000000000004,
            "bin_end": 34.92,
            "count": 1
           },
           {
            "bin_start": 34.92,
            "bin_end": 35.305,
            "count": 2
           },
           {
            "bin_start": 35.305,
            "bin_end": 35.69,
            "count": 1
           },
           {
            "bin_start": 35.69,
            "bin_end": 36.074999999999996,
            "count": 3
           },
           {
            "bin_start": 36.074999999999996,
            "bin_end": 36.46,
            "count": 0
           },
           {
            "bin_start": 36.46,
            "bin_end": 36.845,
            "count": 2
           },
           {
            "bin_start": 36.845,
            "bin_end": 37.23,
            "count": 2
           }
          ]
         }
        },
        {
         "name": "pre_close",
         "dtype": "float64",
         "stats": {
          "unique_count": 14,
          "nan_count": 0,
          "min": "33.38",
          "max": "37.23",
          "histogram": [
           {
            "bin_start": 33.38,
            "bin_end": 33.765,
            "count": 3
           },
           {
            "bin_start": 33.765,
            "bin_end": 34.15,
            "count": 0
           },
           {
            "bin_start": 34.15,
            "bin_end": 34.535000000000004,
            "count": 1
           },
           {
            "bin_start": 34.535000000000004,
            "bin_end": 34.92,
            "count": 1
           },
           {
            "bin_start": 34.92,
            "bin_end": 35.305,
            "count": 1
           },
           {
            "bin_start": 35.305,
            "bin_end": 35.69,
            "count": 1
           },
           {
            "bin_start": 35.69,
            "bin_end": 36.074999999999996,
            "count": 3
           },
           {
            "bin_start": 36.074999999999996,
            "bin_end": 36.46,
            "count": 0
           },
           {
            "bin_start": 36.46,
            "bin_end": 36.845,
            "count": 2
           },
           {
            "bin_start": 36.845,
            "bin_end": 37.23,
            "count": 2
           }
          ]
         }
        },
        {
         "name": "change",
         "dtype": "float64",
         "stats": {
          "unique_count": 14,
          "nan_count": 0,
          "min": "-1.28",
          "max": "2.02",
          "histogram": [
           {
            "bin_start": -1.28,
            "bin_end": -0.9500000000000001,
            "count": 2
           },
           {
            "bin_start": -0.9500000000000001,
            "bin_end": -0.6200000000000001,
            "count": 1
           },
           {
            "bin_start": -0.6200000000000001,
            "bin_end": -0.29000000000000015,
            "count": 1
           },
           {
            "bin_start": -0.29000000000000015,
            "bin_end": 0.039999999999999813,
            "count": 2
           },
           {
            "bin_start": 0.039999999999999813,
            "bin_end": 0.3699999999999999,
            "count": 3
           },
           {
            "bin_start": 0.3699999999999999,
            "bin_end": 0.6999999999999997,
            "count": 3
           },
           {
            "bin_start": 0.6999999999999997,
            "bin_end": 1.0299999999999996,
            "count": 0
           },
           {
            "bin_start": 1.0299999999999996,
            "bin_end": 1.3599999999999997,
            "count": 1
           },
           {
            "bin_start": 1.3599999999999997,
            "bin_end": 1.6899999999999997,
            "count": 0
           },
           {
            "bin_start": 1.6899999999999997,
            "bin_end": 2.02,
            "count": 1
           }
          ]
         }
        },
        {
         "name": "pct_chg",
         "dtype": "float64",
         "stats": {
          "unique_count": 14,
          "nan_count": 0,
          "min": "-3.4381",
          "max": "6.0515",
          "histogram": [
           {
            "bin_start": -3.4381,
            "bin_end": -2.48914,
            "count": 2
           },
           {
            "bin_start": -2.48914,
            "bin_end": -1.54018,
            "count": 1
           },
           {
            "bin_start": -1.54018,
            "bin_end": -0.5912200000000003,
            "count": 1
           },
           {
            "bin_start": -0.5912200000000003,
            "bin_end": 0.3577399999999997,
            "count": 3
           },
           {
            "bin_start": 0.3577399999999997,
            "bin_end": 1.3066999999999998,
            "count": 3
           },
           {
            "bin_start": 1.3066999999999998,
            "bin_end": 2.2556599999999993,
            "count": 2
           },
           {
            "bin_start": 2.2556599999999993,
            "bin_end": 3.20462,
            "count": 1
           },
           {
            "bin_start": 3.20462,
            "bin_end": 4.15358,
            "count": 0
           },
           {
            "bin_start": 4.15358,
            "bin_end": 5.102539999999999,
            "count": 0
           },
           {
            "bin_start": 5.102539999999999,
            "bin_end": 6.0515,
            "count": 1
           }
          ]
         }
        },
        {
         "name": "vol",
         "dtype": "float64",
         "stats": {
          "unique_count": 14,
          "nan_count": 0,
          "min": "456876.79",
          "max": "1393542.87",
          "histogram": [
           {
            "bin_start": 456876.79,
            "bin_end": 550543.398,
            "count": 2
           },
           {
            "bin_start": 550543.398,
            "bin_end": 644210.006,
            "count": 1
           },
           {
            "bin_start": 644210.006,
            "bin_end": 737876.6140000001,
            "count": 2
           },
           {
            "bin_start": 737876.6140000001,
            "bin_end": 831543.2220000001,
            "count": 1
           },
           {
            "bin_start": 831543.2220000001,
            "bin_end": 925209.8300000001,
            "count": 4
           },
           {
            "bin_start": 925209.8300000001,
            "bin_end": 1018876.4380000001,
            "count": 1
           },
           {
            "bin_start": 1018876.4380000001,
            "bin_end": 1112543.046,
            "count": 1
           },
           {
            "bin_start": 1112543.046,
            "bin_end": 1206209.654,
            "count": 0
           },
           {
            "bin_start": 1206209.654,
            "bin_end": 1299876.262,
            "count": 0
           },
           {
            "bin_start": 1299876.262,
            "bin_end": 1393542.87,
            "count": 2
           }
          ]
         }
        },
        {
         "name": "amount",
         "dtype": "float64",
         "stats": {
          "unique_count": 14,
          "nan_count": 0,
          "min": "1637132.092",
          "max": "4855829.507",
          "histogram": [
           {
            "bin_start": 1637132.092,
            "bin_end": 1959001.8335,
            "count": 2
           },
           {
            "bin_start": 1959001.8335,
            "bin_end": 2280871.575,
            "count": 0
           },
           {
            "bin_start": 2280871.575,
            "bin_end": 2602741.3164999997,
            "count": 4
           },
           {
            "bin_start": 2602741.3164999997,
            "bin_end": 2924611.058,
            "count": 0
           },
           {
            "bin_start": 2924611.058,
            "bin_end": 3246480.7994999997,
            "count": 4
           },
           {
            "bin_start": 3246480.7994999997,
            "bin_end": 3568350.541,
            "count": 1
           },
           {
            "bin_start": 3568350.541,
            "bin_end": 3890220.2824999997,
            "count": 1
           },
           {
            "bin_start": 3890220.2824999997,
            "bin_end": 4212090.024,
            "count": 0
           },
           {
            "bin_start": 4212090.024,
            "bin_end": 4533959.7655,
            "count": 1
           },
           {
            "bin_start": 4533959.7655,
            "bin_end": 4855829.507,
            "count": 1
           }
          ]
         }
        },
        {
         "name": "_deepnote_index_column",
         "dtype": "int64"
        }
       ],
       "rows_top": [
        {
         "ts_code": "600703.SH",
         "trade_date": "20211118",
         "open": 35.75,
         "high": 36.24,
         "low": 34.88,
         "close": 35.1,
         "pre_close": 35.93,
         "change": -0.83,
         "pct_chg": -2.31,
         "vol": 540165.19,
         "amount": 1906833.059,
         "_deepnote_index_column": 0
        },
        {
         "ts_code": "600703.SH",
         "trade_date": "20211117",
         "open": 35.81,
         "high": 36.38,
         "low": 35.33,
         "close": 35.93,
         "pre_close": 35.95,
         "change": -0.02,
         "pct_chg": -0.0556,
         "vol": 456876.79,
         "amount": 1637132.092,
         "_deepnote_index_column": 1
        },
        {
         "ts_code": "600703.SH",
         "trade_date": "20211116",
         "open": 36.7,
         "high": 37.17,
         "low": 35.9,
         "close": 35.95,
         "pre_close": 37.23,
         "change": -1.28,
         "pct_chg": -3.4381,
         "vol": 672718.33,
         "amount": 2451635.989,
         "_deepnote_index_column": 2
        },
        {
         "ts_code": "600703.SH",
         "trade_date": "20211115",
         "open": 37.39,
         "high": 37.87,
         "low": 36.78,
         "close": 37.23,
         "pre_close": 37.18,
         "change": 0.05,
         "pct_chg": 0.1345,
         "vol": 613277.7,
         "amount": 2284822.32,
         "_deepnote_index_column": 3
        },
        {
         "ts_code": "600703.SH",
         "trade_date": "20211112",
         "open": 36.4,
         "high": 37.5,
         "low": 36.21,
         "close": 37.18,
         "pre_close": 36.72,
         "change": 0.46,
         "pct_chg": 1.2527,
         "vol": 672035.01,
         "amount": 2480381.208,
         "_deepnote_index_column": 4
        },
        {
         "ts_code": "600703.SH",
         "trade_date": "20211111",
         "open": 36.07,
         "high": 38.28,
         "low": 35.85,
         "close": 36.72,
         "pre_close": 36.49,
         "change": 0.23,
         "pct_chg": 0.6303,
         "vol": 1044412.51,
         "amount": 3865513.457,
         "_deepnote_index_column": 5
        },
        {
         "ts_code": "600703.SH",
         "trade_date": "20211110",
         "open": 35.5,
         "high": 36.75,
         "low": 35.37,
         "close": 36.49,
         "pre_close": 35.9,
         "change": 0.59,
         "pct_chg": 1.6435,
         "vol": 905563.1,
         "amount": 3281688.826,
         "_deepnote_index_column": 6
        },
        {
         "ts_code": "600703.SH",
         "trade_date": "20211109",
         "open": 34.7,
         "high": 35.9,
         "low": 34.15,
         "close": 35.9,
         "pre_close": 34.86,
         "change": 1.04,
         "pct_chg": 2.9834,
         "vol": 911303.32,
         "amount": 3207616.381,
         "_deepnote_index_column": 7
        },
        {
         "ts_code": "600703.SH",
         "trade_date": "20211108",
         "open": 34.62,
         "high": 35.33,
         "low": 33.8,
         "close": 34.86,
         "pre_close": 34.99,
         "change": -0.13,
         "pct_chg": -0.3715,
         "vol": 742666.93,
         "amount": 2560071.603,
         "_deepnote_index_column": 8
        },
        {
         "ts_code": "600703.SH",
         "trade_date": "20211105",
         "open": 35.54,
         "high": 35.78,
         "low": 34.8,
         "close": 34.99,
         "pre_close": 35.4,
         "change": -0.41,
         "pct_chg": -1.1582,
         "vol": 841620.19,
         "amount": 2963133.631,
         "_deepnote_index_column": 9
        },
        {
         "ts_code": "600703.SH",
         "trade_date": "20211104",
         "open": 33.68,
         "high": 35.42,
         "low": 33.33,
         "close": 35.4,
         "pre_close": 33.38,
         "change": 2.02,
         "pct_chg": 6.0515,
         "vol": 1393542.87,
         "amount": 4855829.507,
         "_deepnote_index_column": 10
        },
        {
         "ts_code": "600703.SH",
         "trade_date": "20211103",
         "open": 34.4,
         "high": 35.09,
         "low": 33.05,
         "close": 33.38,
         "pre_close": 34.36,
         "change": -0.98,
         "pct_chg": -2.8522,
         "vol": 941975.24,
         "amount": 3205967.163,
         "_deepnote_index_column": 11
        },
        {
         "ts_code": "600703.SH",
         "trade_date": "20211102",
         "open": 33.95,
         "high": 35.35,
         "low": 33.74,
         "close": 34.36,
         "pre_close": 33.74,
         "change": 0.62,
         "pct_chg": 1.8376,
         "vol": 1305769.27,
         "amount": 4526422.382,
         "_deepnote_index_column": 12
        },
        {
         "ts_code": "600703.SH",
         "trade_date": "20211101",
         "open": 33.6,
         "high": 34.19,
         "low": 32.96,
         "close": 33.74,
         "pre_close": 33.6,
         "change": 0.14,
         "pct_chg": 0.4167,
         "vol": 895391.37,
         "amount": 3010172.547,
         "_deepnote_index_column": 13
        }
       ],
       "rows_bottom": null
      },
      "text/plain": "      ts_code trade_date   open   high    low  close  pre_close  change  \\\n0   600703.SH   20211118  35.75  36.24  34.88  35.10      35.93   -0.83   \n1   600703.SH   20211117  35.81  36.38  35.33  35.93      35.95   -0.02   \n2   600703.SH   20211116  36.70  37.17  35.90  35.95      37.23   -1.28   \n3   600703.SH   20211115  37.39  37.87  36.78  37.23      37.18    0.05   \n4   600703.SH   20211112  36.40  37.50  36.21  37.18      36.72    0.46   \n5   600703.SH   20211111  36.07  38.28  35.85  36.72      36.49    0.23   \n6   600703.SH   20211110  35.50  36.75  35.37  36.49      35.90    0.59   \n7   600703.SH   20211109  34.70  35.90  34.15  35.90      34.86    1.04   \n8   600703.SH   20211108  34.62  35.33  33.80  34.86      34.99   -0.13   \n9   600703.SH   20211105  35.54  35.78  34.80  34.99      35.40   -0.41   \n10  600703.SH   20211104  33.68  35.42  33.33  35.40      33.38    2.02   \n11  600703.SH   20211103  34.40  35.09  33.05  33.38      34.36   -0.98   \n12  600703.SH   20211102  33.95  35.35  33.74  34.36      33.74    0.62   \n13  600703.SH   20211101  33.60  34.19  32.96  33.74      33.60    0.14   \n\n    pct_chg         vol       amount  \n0   -2.3100   540165.19  1906833.059  \n1   -0.0556   456876.79  1637132.092  \n2   -3.4381   672718.33  2451635.989  \n3    0.1345   613277.70  2284822.320  \n4    1.2527   672035.01  2480381.208  \n5    0.6303  1044412.51  3865513.457  \n6    1.6435   905563.10  3281688.826  \n7    2.9834   911303.32  3207616.381  \n8   -0.3715   742666.93  2560071.603  \n9   -1.1582   841620.19  2963133.631  \n10   6.0515  1393542.87  4855829.507  \n11  -2.8522   941975.24  3205967.163  \n12   1.8376  1305769.27  4526422.382  \n13   0.4167   895391.37  3010172.547  ",
      "text/html": "<div>\n<style scoped>\n    .dataframe tbody tr th:only-of-type {\n        vertical-align: middle;\n    }\n\n    .dataframe tbody tr th {\n        vertical-align: top;\n    }\n\n    .dataframe thead th {\n        text-align: right;\n    }\n</style>\n<table border=\"1\" class=\"dataframe\">\n  <thead>\n    <tr style=\"text-align: right;\">\n      <th></th>\n      <th>ts_code</th>\n      <th>trade_date</th>\n      <th>open</th>\n      <th>high</th>\n      <th>low</th>\n      <th>close</th>\n      <th>pre_close</th>\n      <th>change</th>\n      <th>pct_chg</th>\n      <th>vol</th>\n      <th>amount</th>\n    </tr>\n  </thead>\n  <tbody>\n    <tr>\n      <th>0</th>\n      <td>600703.SH</td>\n      <td>20211118</td>\n      <td>35.75</td>\n      <td>36.24</td>\n      <td>34.88</td>\n      <td>35.10</td>\n      <td>35.93</td>\n      <td>-0.83</td>\n      <td>-2.3100</td>\n      <td>540165.19</td>\n      <td>1906833.059</td>\n    </tr>\n    <tr>\n      <th>1</th>\n      <td>600703.SH</td>\n      <td>20211117</td>\n      <td>35.81</td>\n      <td>36.38</td>\n      <td>35.33</td>\n      <td>35.93</td>\n      <td>35.95</td>\n      <td>-0.02</td>\n      <td>-0.0556</td>\n      <td>456876.79</td>\n      <td>1637132.092</td>\n    </tr>\n    <tr>\n      <th>2</th>\n      <td>600703.SH</td>\n      <td>20211116</td>\n      <td>36.70</td>\n      <td>37.17</td>\n      <td>35.90</td>\n      <td>35.95</td>\n      <td>37.23</td>\n      <td>-1.28</td>\n      <td>-3.4381</td>\n      <td>672718.33</td>\n      <td>2451635.989</td>\n    </tr>\n    <tr>\n      <th>3</th>\n      <td>600703.SH</td>\n      <td>20211115</td>\n      <td>37.39</td>\n      <td>37.87</td>\n      <td>36.78</td>\n      <td>37.23</td>\n      <td>37.18</td>\n      <td>0.05</td>\n      <td>0.1345</td>\n      <td>613277.70</td>\n      <td>2284822.320</td>\n    </tr>\n    <tr>\n      <th>4</th>\n      <td>600703.SH</td>\n      <td>20211112</td>\n      <td>36.40</td>\n      <td>37.50</td>\n      <td>36.21</td>\n      <td>37.18</td>\n      <td>36.72</td>\n      <td>0.46</td>\n      <td>1.2527</td>\n      <td>672035.01</td>\n      <td>2480381.208</td>\n    </tr>\n    <tr>\n      <th>5</th>\n      <td>600703.SH</td>\n      <td>20211111</td>\n      <td>36.07</td>\n      <td>38.28</td>\n      <td>35.85</td>\n      <td>36.72</td>\n      <td>36.49</td>\n      <td>0.23</td>\n      <td>0.6303</td>\n      <td>1044412.51</td>\n      <td>3865513.457</td>\n    </tr>\n    <tr>\n      <th>6</th>\n      <td>600703.SH</td>\n      <td>20211110</td>\n      <td>35.50</td>\n      <td>36.75</td>\n      <td>35.37</td>\n      <td>36.49</td>\n      <td>35.90</td>\n      <td>0.59</td>\n      <td>1.6435</td>\n      <td>905563.10</td>\n      <td>3281688.826</td>\n    </tr>\n    <tr>\n      <th>7</th>\n      <td>600703.SH</td>\n      <td>20211109</td>\n      <td>34.70</td>\n      <td>35.90</td>\n      <td>34.15</td>\n      <td>35.90</td>\n      <td>34.86</td>\n      <td>1.04</td>\n      <td>2.9834</td>\n      <td>911303.32</td>\n      <td>3207616.381</td>\n    </tr>\n    <tr>\n      <th>8</th>\n      <td>600703.SH</td>\n      <td>20211108</td>\n      <td>34.62</td>\n      <td>35.33</td>\n      <td>33.80</td>\n      <td>34.86</td>\n      <td>34.99</td>\n      <td>-0.13</td>\n      <td>-0.3715</td>\n      <td>742666.93</td>\n      <td>2560071.603</td>\n    </tr>\n    <tr>\n      <th>9</th>\n      <td>600703.SH</td>\n      <td>20211105</td>\n      <td>35.54</td>\n      <td>35.78</td>\n      <td>34.80</td>\n      <td>34.99</td>\n      <td>35.40</td>\n      <td>-0.41</td>\n      <td>-1.1582</td>\n      <td>841620.19</td>\n      <td>2963133.631</td>\n    </tr>\n    <tr>\n      <th>10</th>\n      <td>600703.SH</td>\n      <td>20211104</td>\n      <td>33.68</td>\n      <td>35.42</td>\n      <td>33.33</td>\n      <td>35.40</td>\n      <td>33.38</td>\n      <td>2.02</td>\n      <td>6.0515</td>\n      <td>1393542.87</td>\n      <td>4855829.507</td>\n    </tr>\n    <tr>\n      <th>11</th>\n      <td>600703.SH</td>\n      <td>20211103</td>\n      <td>34.40</td>\n      <td>35.09</td>\n      <td>33.05</td>\n      <td>33.38</td>\n      <td>34.36</td>\n      <td>-0.98</td>\n      <td>-2.8522</td>\n      <td>941975.24</td>\n      <td>3205967.163</td>\n    </tr>\n    <tr>\n      <th>12</th>\n      <td>600703.SH</td>\n      <td>20211102</td>\n      <td>33.95</td>\n      <td>35.35</td>\n      <td>33.74</td>\n      <td>34.36</td>\n      <td>33.74</td>\n      <td>0.62</td>\n      <td>1.8376</td>\n      <td>1305769.27</td>\n      <td>4526422.382</td>\n    </tr>\n    <tr>\n      <th>13</th>\n      <td>600703.SH</td>\n      <td>20211101</td>\n      <td>33.60</td>\n      <td>34.19</td>\n      <td>32.96</td>\n      <td>33.74</td>\n      <td>33.60</td>\n      <td>0.14</td>\n      <td>0.4167</td>\n      <td>895391.37</td>\n      <td>3010172.547</td>\n    </tr>\n  </tbody>\n</table>\n</div>"
     },
     "metadata": {}
    }
   ]
  },
  {
   "cell_type": "markdown",
   "source": "### akshare : https://www.akshare.xyz/  ",
   "metadata": {
    "cell_id": "aa97d8a08c204171b094990e07b406be",
    "tags": [],
    "is_collapsed": false,
    "deepnote_cell_type": "text-cell-h3"
   }
  },
  {
   "cell_type": "markdown",
   "source": "### pytdx : https://gitee.com/better319/pytdx/",
   "metadata": {
    "cell_id": "2a028e2d3f604e9999bcbfc243657c8a",
    "tags": [],
    "is_collapsed": false,
    "owner_user_id": "64653946-af2f-4699-a282-4043b0ba5576",
    "deepnote_cell_type": "text-cell-h3"
   }
  },
  {
   "cell_type": "markdown",
   "source": "<a style='text-decoration:none;line-height:16px;display:flex;color:#5B5B62;padding:10px;justify-content:end;' href='https://deepnote.com?utm_source=created-in-deepnote-cell&projectId=5292883e-50a7-4f1d-9f12-778c1d6da182' target=\"_blank\">\n<img alt='Created in deepnote.com' style='display:inline;max-height:16px;margin:0px;margin-right:7.5px;' src='data:image/svg+xml;base64,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' > </img>\nCreated in <span style='font-weight:600;margin-left:4px;'>Deepnote</span></a>",
   "metadata": {
    "tags": [],
    "created_in_deepnote_cell": true,
    "deepnote_cell_type": "markdown"
   }
  }
 ],
 "nbformat": 4,
 "nbformat_minor": 2,
 "metadata": {
  "orig_nbformat": 2,
  "deepnote": {
   "is_reactive": false
  },
  "deepnote_notebook_id": "b2ba85aa-d2ef-4a3a-bbd2-9db464411480",
  "deepnote_execution_queue": []
 }
}