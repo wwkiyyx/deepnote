{
 "cells": [
  {
   "cell_type": "code",
   "metadata": {
    "tags": [],
    "cell_id": "00000-205846aa-158d-4cd5-be97-22c2a41a1b5d",
    "deepnote_to_be_reexecuted": false,
    "source_hash": "86ab8f35",
    "execution_start": 1638144251816,
    "execution_millis": 6215,
    "deepnote_cell_type": "code",
    "deepnote_cell_height": 395.84375
   },
   "source": "!pip install baostock",
   "execution_count": null,
   "outputs": [
    {
     "name": "stdout",
     "text": "Collecting baostock\n  Downloading baostock-0.8.8-py3-none-any.whl (55 kB)\n\u001b[K     |████████████████████████████████| 55 kB 2.3 MB/s \n\u001b[?25hRequirement already satisfied: pandas>=0.18.0 in /shared-libs/python3.8/py/lib/python3.8/site-packages (from baostock) (1.2.5)\nRequirement already satisfied: numpy>=1.16.5 in /shared-libs/python3.8/py/lib/python3.8/site-packages (from pandas>=0.18.0->baostock) (1.19.5)\nRequirement already satisfied: python-dateutil>=2.7.3 in /shared-libs/python3.8/py-core/lib/python3.8/site-packages (from pandas>=0.18.0->baostock) (2.8.2)\nRequirement already satisfied: pytz>=2017.3 in /shared-libs/python3.8/py/lib/python3.8/site-packages (from pandas>=0.18.0->baostock) (2021.3)\nRequirement already satisfied: six>=1.5 in /shared-libs/python3.8/py-core/lib/python3.8/site-packages (from python-dateutil>=2.7.3->pandas>=0.18.0->baostock) (1.16.0)\nInstalling collected packages: baostock\nSuccessfully installed baostock-0.8.8\n\u001b[33mWARNING: You are using pip version 21.1.1; however, version 21.3.1 is available.\nYou should consider upgrading via the '/root/venv/bin/python -m pip install --upgrade pip' command.\u001b[0m\n",
     "output_type": "stream"
    }
   ]
  },
  {
   "cell_type": "markdown",
   "source": "# 证券宝www.baostock.com",
   "metadata": {
    "tags": [],
    "is_collapsed": false,
    "cell_id": "00001-9057a398-40c6-40ce-bde5-c583968b95c9",
    "deepnote_cell_type": "text-cell-h1"
   }
  },
  {
   "cell_type": "code",
   "metadata": {
    "tags": [],
    "cell_id": "00001-07d5d11b-9da4-469a-98c3-b6db9c45877c",
    "deepnote_to_be_reexecuted": false,
    "source_hash": "cd0e398e",
    "execution_start": 1638144303511,
    "execution_millis": 1591,
    "owner_user_id": "64653946-af2f-4699-a282-4043b0ba5576",
    "deepnote_cell_type": "code",
    "deepnote_cell_height": 1275
   },
   "source": "import baostock as bs\nimport pandas as pd\n\n#### 登陆系统 ####\nlg = bs.login()\n# 显示登陆返回信息\nprint('login respond error_code:'+lg.error_code)\nprint('login respond  error_msg:'+lg.error_msg)\n\n#### 获取历史K线数据 ####\n# 详细指标参数，参见“历史行情指标参数”章节\nrs = bs.query_history_k_data_plus(\"sh.600703\",\n    \"date,code,open,high,low,close,preclose,volume,amount,adjustflag,turn,tradestatus,pctChg,peTTM,pbMRQ,psTTM,pcfNcfTTM,isST\",\n    start_date='2021-11-01', end_date='2021-11-26', \n    frequency=\"d\", adjustflag=\"3\") #frequency=\"d\"取日k线，adjustflag=\"3\"默认不复权\nprint('query_history_k_data_plus respond error_code:'+rs.error_code)\nprint('query_history_k_data_plus respond  error_msg:'+rs.error_msg)\n\n#### 打印结果集 ####\ndata_list = []\nwhile (rs.error_code == '0') & rs.next():\n    # 获取一条记录，将记录合并在一起\n    data_list.append(rs.get_row_data())\nresult = pd.DataFrame(data_list, columns=rs.fields)\n#### 结果集输出到csv文件 ####\n#### result.to_csv(\"D:/history_k_data.csv\", encoding=\"gbk\", index=False)\nprint(result)\n\n#### 登出系统 ####\nbs.logout()",
   "execution_count": null,
   "outputs": [
    {
     "name": "stdout",
     "text": "login success!\nlogin respond error_code:0\nlogin respond  error_msg:success\nquery_history_k_data_plus respond error_code:0\nquery_history_k_data_plus respond  error_msg:success\n          date       code     open     high      low    close preclose  \\\n0   2021-11-01  sh.600703  33.6000  34.1900  32.9600  33.7400  33.6000   \n1   2021-11-02  sh.600703  33.9500  35.3500  33.7400  34.3600  33.7400   \n2   2021-11-03  sh.600703  34.4000  35.0900  33.0500  33.3800  34.3600   \n3   2021-11-04  sh.600703  33.6800  35.4200  33.3300  35.4000  33.3800   \n4   2021-11-05  sh.600703  35.5400  35.7800  34.8000  34.9900  35.4000   \n5   2021-11-08  sh.600703  34.6200  35.3300  33.8000  34.8600  34.9900   \n6   2021-11-09  sh.600703  34.7000  35.9000  34.1500  35.9000  34.8600   \n7   2021-11-10  sh.600703  35.5000  36.7500  35.3700  36.4900  35.9000   \n8   2021-11-11  sh.600703  36.0700  38.2800  35.8500  36.7200  36.4900   \n9   2021-11-12  sh.600703  36.4000  37.5000  36.2100  37.1800  36.7200   \n10  2021-11-15  sh.600703  37.3900  37.8700  36.7800  37.2300  37.1800   \n11  2021-11-16  sh.600703  36.7000  37.1700  35.9000  35.9500  37.2300   \n12  2021-11-17  sh.600703  35.8100  36.3800  35.3300  35.9300  35.9500   \n13  2021-11-18  sh.600703  35.7500  36.2400  34.8800  35.1000  35.9300   \n14  2021-11-19  sh.600703  34.9800  35.8500  34.8800  35.7100  35.1000   \n15  2021-11-22  sh.600703  35.5100  38.1800  35.5000  38.0500  35.7100   \n16  2021-11-23  sh.600703  37.9600  38.2800  37.4000  37.6400  38.0500   \n17  2021-11-24  sh.600703  37.5600  38.0900  36.9400  37.0000  37.6400   \n18  2021-11-25  sh.600703  36.9900  37.4900  36.2900  36.6900  37.0000   \n19  2021-11-26  sh.600703  36.5000  36.5000  35.9100  36.1800  36.6900   \n\n       volume           amount adjustflag      turn tradestatus     pctChg  \\\n0    89539137  3010172547.1100          3  2.195400           1   0.416700   \n1   130576927  4526422382.2100          3  3.201700           1   1.837600   \n2    94197524  3205967163.2800          3  2.309700           1  -2.852200   \n3   139354287  4855829507.0000          3  3.416900           1   6.051500   \n4    84162019  2963133630.7900          3  2.063600           1  -1.158200   \n5    74266693  2560071602.5800          3  1.821000           1  -0.371500   \n6    91130332  3207616381.0000          3  2.234400           1   2.983400   \n7    90556310  3281688826.1000          3  2.220400           1   1.643500   \n8   104441251  3865513456.6200          3  2.560800           1   0.630300   \n9    67203501  2480381208.2000          3  1.647800           1   1.252700   \n10   61327770  2284822320.4000          3  1.503700           1   0.134500   \n11   67271833  2451635988.8900          3  1.649500           1  -3.438100   \n12   45687679  1637132091.8500          3  1.120200           1  -0.055600   \n13   54016519  1906833058.7400          3  1.324400           1  -2.310000   \n14   43674990  1553989045.4300          3  1.070900           1   1.737900   \n15  104141232  3872185690.8600          3  2.553500           1   6.552800   \n16   59792300  2261151389.6500          3  1.466100           1  -1.077500   \n17   55916640  2096329858.7000          3  1.371000           1  -1.700300   \n18   47119105  1737356771.5900          3  1.155300           1  -0.837800   \n19   51869280  1874520901.0700          3  1.271800           1  -1.390000   \n\n         peTTM     pbMRQ      psTTM   pcfNcfTTM isST  \n0   110.811173  4.970664  12.505680  -47.002334    0  \n1   112.847418  5.062004  12.735483  -47.866040    0  \n2   109.628837  4.917628  12.372247  -46.500827    0  \n3   116.263056  5.215219  13.120957  -49.314837    0  \n4   114.916507  5.154817  12.968991  -48.743677    0  \n5   114.489552  5.135665  12.920807  -48.562577    0  \n6   117.905190  5.288880  13.306281  -50.011375    0  \n7   119.842907  5.375801  13.524964  -50.833289    0  \n8   120.598289  5.409685  13.610213  -51.153696    0  \n9   122.109052  5.477453  13.780711  -51.794510    0  \n10  122.273265  5.484819  13.799244  -51.864164    0  \n11  118.069403  5.296247  13.324814  -50.081028    0  \n12  118.003718  5.293300  13.317401  -50.053167    0  \n13  115.277776  5.171022  13.009762  -48.896915    0  \n14  117.281179  5.260889  13.235858  -49.746691    0  \n15  124.966364  5.605624  14.103176  -53.006485    0  \n16  123.619815  5.545222  13.951210  -52.435324    0  \n17  121.517884  5.450935  13.713995  -51.543757    0  \n18  120.499761  5.405265  13.599094  -51.111904    0  \n19  118.824785  5.330131  13.410063  -50.401436    0  \nlogout success!\n",
     "output_type": "stream"
    },
    {
     "output_type": "execute_result",
     "execution_count": 3,
     "data": {
      "text/plain": "<baostock.data.resultset.ResultData at 0x7f9c046e3670>"
     },
     "metadata": {}
    }
   ]
  },
  {
   "cell_type": "markdown",
   "source": "# Tushare&nbsp;              http://tushare.org/     ",
   "metadata": {
    "tags": [],
    "is_collapsed": false,
    "cell_id": "00004-c7a5b481-252d-4b14-9d23-ff1b75c5f363",
    "deepnote_cell_type": "text-cell-h1"
   }
  },
  {
   "cell_type": "code",
   "metadata": {
    "tags": [],
    "cell_id": "00004-611ad17f-ae8c-44d3-b089-77ef9dfefa4a",
    "deepnote_to_be_reexecuted": false,
    "source_hash": "a25bcecd",
    "execution_start": 1638340974713,
    "execution_millis": 3417,
    "deepnote_cell_type": "code",
    "deepnote_cell_height": 218.578125
   },
   "source": "!pip install lxml",
   "execution_count": null,
   "outputs": [
    {
     "name": "stdout",
     "text": "Requirement already satisfied: lxml in /shared-libs/python3.8/py/lib/python3.8/site-packages (4.6.4)\n\u001b[33mWARNING: You are using pip version 21.1.1; however, version 21.3.1 is available.\nYou should consider upgrading via the '/root/venv/bin/python -m pip install --upgrade pip' command.\u001b[0m\n",
     "output_type": "stream"
    }
   ]
  },
  {
   "cell_type": "code",
   "metadata": {
    "tags": [],
    "cell_id": "00005-ae470519-0d67-43c5-a15e-683edc85c36d",
    "deepnote_to_be_reexecuted": false,
    "source_hash": "9a00a63",
    "execution_start": 1638340987852,
    "execution_millis": 5989,
    "deepnote_cell_type": "code",
    "deepnote_cell_height": 764
   },
   "source": "!pip install tushare",
   "execution_count": null,
   "outputs": [
    {
     "name": "stdout",
     "text": "Collecting tushare\n  Downloading tushare-1.2.73-py3-none-any.whl (130 kB)\n\u001b[K     |████████████████████████████████| 130 kB 16.6 MB/s \n\u001b[?25hRequirement already satisfied: pandas in /shared-libs/python3.8/py/lib/python3.8/site-packages (from tushare) (1.2.5)\nCollecting bs4\n  Downloading bs4-0.0.1.tar.gz (1.1 kB)\nRequirement already satisfied: lxml in /shared-libs/python3.8/py/lib/python3.8/site-packages (from tushare) (4.6.4)\nRequirement already satisfied: requests in /shared-libs/python3.8/py/lib/python3.8/site-packages (from tushare) (2.26.0)\nCollecting websocket-client>=0.57.0\n  Downloading websocket_client-1.2.1-py2.py3-none-any.whl (52 kB)\n\u001b[K     |████████████████████████████████| 52 kB 2.9 MB/s \n\u001b[?25hCollecting simplejson\n  Downloading simplejson-3.17.6-cp38-cp38-manylinux_2_5_x86_64.manylinux1_x86_64.manylinux_2_12_x86_64.manylinux2010_x86_64.whl (139 kB)\n\u001b[K     |████████████████████████████████| 139 kB 43.1 MB/s \n\u001b[?25hCollecting beautifulsoup4\n  Downloading beautifulsoup4-4.10.0-py3-none-any.whl (97 kB)\n\u001b[K     |████████████████████████████████| 97 kB 12.3 MB/s \n\u001b[?25hCollecting soupsieve>1.2\n  Downloading soupsieve-2.3.1-py3-none-any.whl (37 kB)\nRequirement already satisfied: pytz>=2017.3 in /shared-libs/python3.8/py/lib/python3.8/site-packages (from pandas->tushare) (2021.3)\nRequirement already satisfied: python-dateutil>=2.7.3 in /shared-libs/python3.8/py-core/lib/python3.8/site-packages (from pandas->tushare) (2.8.2)\nRequirement already satisfied: numpy>=1.16.5 in /shared-libs/python3.8/py/lib/python3.8/site-packages (from pandas->tushare) (1.19.5)\nRequirement already satisfied: six>=1.5 in /shared-libs/python3.8/py-core/lib/python3.8/site-packages (from python-dateutil>=2.7.3->pandas->tushare) (1.16.0)\nRequirement already satisfied: urllib3<1.27,>=1.21.1 in /shared-libs/python3.8/py/lib/python3.8/site-packages (from requests->tushare) (1.26.7)\nRequirement already satisfied: certifi>=2017.4.17 in /shared-libs/python3.8/py/lib/python3.8/site-packages (from requests->tushare) (2021.10.8)\nRequirement already satisfied: idna<4,>=2.5 in /shared-libs/python3.8/py-core/lib/python3.8/site-packages (from requests->tushare) (3.3)\nRequirement already satisfied: charset-normalizer~=2.0.0 in /shared-libs/python3.8/py-core/lib/python3.8/site-packages (from requests->tushare) (2.0.7)\nBuilding wheels for collected packages: bs4\n  Building wheel for bs4 (setup.py) ... \u001b[?25ldone\n\u001b[?25h  Created wheel for bs4: filename=bs4-0.0.1-py3-none-any.whl size=1272 sha256=45d3c8f37a6fccc4e54358bd9987b94b3905c9d360f7502f7c0ff395f57f8312\n  Stored in directory: /root/.cache/pip/wheels/75/78/21/68b124549c9bdc94f822c02fb9aa3578a669843f9767776bca\nSuccessfully built bs4\nInstalling collected packages: soupsieve, beautifulsoup4, websocket-client, simplejson, bs4, tushare\nSuccessfully installed beautifulsoup4-4.10.0 bs4-0.0.1 simplejson-3.17.6 soupsieve-2.3.1 tushare-1.2.73 websocket-client-1.2.1\n\u001b[33mWARNING: You are using pip version 21.1.1; however, version 21.3.1 is available.\nYou should consider upgrading via the '/root/venv/bin/python -m pip install --upgrade pip' command.\u001b[0m\n",
     "output_type": "stream"
    }
   ]
  },
  {
   "cell_type": "code",
   "metadata": {
    "tags": [],
    "cell_id": "00006-58d762e4-3ff3-48e3-a53c-00d46c332e64",
    "deepnote_to_be_reexecuted": false,
    "source_hash": "1c0fdb1a",
    "execution_start": 1638340996597,
    "execution_millis": 243,
    "deepnote_cell_type": "code",
    "deepnote_cell_height": 147.6875
   },
   "source": "import tushare\n\nprint(tushare.__version__)",
   "execution_count": null,
   "outputs": [
    {
     "name": "stdout",
     "text": "1.2.73\n",
     "output_type": "stream"
    }
   ]
  },
  {
   "cell_type": "code",
   "metadata": {
    "tags": [],
    "cell_id": "00007-69c1eb2a-8c5f-4d7d-b34f-984875aa9ba8",
    "deepnote_to_be_reexecuted": false,
    "source_hash": "d9dd130",
    "execution_start": 1638341456525,
    "execution_millis": 1408,
    "deepnote_cell_type": "code",
    "deepnote_cell_height": 222.1875
   },
   "source": "import tushare as ts\n\ndata = ts.get_hist_data('600703')\ntype(data)",
   "execution_count": null,
   "outputs": [
    {
     "name": "stdout",
     "text": "本接口即将停止更新，请尽快使用Pro版接口：https://waditu.com/document/2\n",
     "output_type": "stream"
    },
    {
     "output_type": "execute_result",
     "execution_count": 8,
     "data": {
      "text/plain": "pandas.core.frame.DataFrame"
     },
     "metadata": {}
    }
   ]
  },
  {
   "cell_type": "code",
   "metadata": {
    "tags": [],
    "cell_id": "00008-46d8ee18-ab69-4ed4-99b9-f8a99fc823c7",
    "deepnote_to_be_reexecuted": false,
    "source_hash": "e6928a8f",
    "execution_start": 1638341520153,
    "execution_millis": 99,
    "deepnote_cell_type": "code",
    "deepnote_cell_height": 508.1875,
    "deepnote_output_heights": [
     411.1875
    ]
   },
   "source": "data",
   "execution_count": null,
   "outputs": [
    {
     "output_type": "execute_result",
     "execution_count": 11,
     "data": {
      "application/vnd.deepnote.dataframe.v2+json": {
       "row_count": 608,
       "column_count": 14,
       "columns": [
        {
         "name": "open",
         "dtype": "float64",
         "stats": {
          "unique_count": 506,
          "nan_count": 0,
          "min": "10.01",
          "max": "44.31",
          "histogram": [
           {
            "bin_start": 10.01,
            "bin_end": 13.440000000000001,
            "count": 80
           },
           {
            "bin_start": 13.440000000000001,
            "bin_end": 16.87,
            "count": 40
           },
           {
            "bin_start": 16.87,
            "bin_end": 20.300000000000004,
            "count": 45
           },
           {
            "bin_start": 20.300000000000004,
            "bin_end": 23.730000000000004,
            "count": 81
           },
           {
            "bin_start": 23.730000000000004,
            "bin_end": 27.160000000000004,
            "count": 156
           },
           {
            "bin_start": 27.160000000000004,
            "bin_end": 30.590000000000003,
            "count": 80
           },
           {
            "bin_start": 30.590000000000003,
            "bin_end": 34.02,
            "count": 68
           },
           {
            "bin_start": 34.02,
            "bin_end": 37.45,
            "count": 34
           },
           {
            "bin_start": 37.45,
            "bin_end": 40.88,
            "count": 18
           },
           {
            "bin_start": 40.88,
            "bin_end": 44.31,
            "count": 6
           }
          ]
         }
        },
        {
         "name": "high",
         "dtype": "float64",
         "stats": {
          "unique_count": 521,
          "nan_count": 0,
          "min": "10.36",
          "max": "44.92",
          "histogram": [
           {
            "bin_start": 10.36,
            "bin_end": 13.815999999999999,
            "count": 80
           },
           {
            "bin_start": 13.815999999999999,
            "bin_end": 17.272,
            "count": 41
           },
           {
            "bin_start": 17.272,
            "bin_end": 20.728,
            "count": 44
           },
           {
            "bin_start": 20.728,
            "bin_end": 24.184,
            "count": 75
           },
           {
            "bin_start": 24.184,
            "bin_end": 27.64,
            "count": 151
           },
           {
            "bin_start": 27.64,
            "bin_end": 31.096000000000004,
            "count": 87
           },
           {
            "bin_start": 31.096000000000004,
            "bin_end": 34.55200000000001,
            "count": 66
           },
           {
            "bin_start": 34.55200000000001,
            "bin_end": 38.008,
            "count": 36
           },
           {
            "bin_start": 38.008,
            "bin_end": 41.464,
            "count": 16
           },
           {
            "bin_start": 41.464,
            "bin_end": 44.92,
            "count": 12
           }
          ]
         }
        },
        {
         "name": "close",
         "dtype": "float64",
         "stats": {
          "unique_count": 539,
          "nan_count": 0,
          "min": "9.99",
          "max": "44.92",
          "histogram": [
           {
            "bin_start": 9.99,
            "bin_end": 13.483,
            "count": 79
           },
           {
            "bin_start": 13.483,
            "bin_end": 16.976,
            "count": 41
           },
           {
            "bin_start": 16.976,
            "bin_end": 20.469,
            "count": 44
           },
           {
            "bin_start": 20.469,
            "bin_end": 23.962,
            "count": 88
           },
           {
            "bin_start": 23.962,
            "bin_end": 27.455,
            "count": 163
           },
           {
            "bin_start": 27.455,
            "bin_end": 30.948,
            "count": 72
           },
           {
            "bin_start": 30.948,
            "bin_end": 34.441,
            "count": 66
           },
           {
            "bin_start": 34.441,
            "bin_end": 37.934,
            "count": 33
           },
           {
            "bin_start": 37.934,
            "bin_end": 41.427,
            "count": 17
           },
           {
            "bin_start": 41.427,
            "bin_end": 44.92,
            "count": 5
           }
          ]
         }
        },
        {
         "name": "low",
         "dtype": "float64",
         "stats": {
          "unique_count": 498,
          "nan_count": 0,
          "min": "9.93",
          "max": "42.87",
          "histogram": [
           {
            "bin_start": 9.93,
            "bin_end": 13.224,
            "count": 82
           },
           {
            "bin_start": 13.224,
            "bin_end": 16.518,
            "count": 37
           },
           {
            "bin_start": 16.518,
            "bin_end": 19.811999999999998,
            "count": 44
           },
           {
            "bin_start": 19.811999999999998,
            "bin_end": 23.105999999999998,
            "count": 67
           },
           {
            "bin_start": 23.105999999999998,
            "bin_end": 26.4,
            "count": 158
           },
           {
            "bin_start": 26.4,
            "bin_end": 29.693999999999996,
            "count": 92
           },
           {
            "bin_start": 29.693999999999996,
            "bin_end": 32.988,
            "count": 65
           },
           {
            "bin_start": 32.988,
            "bin_end": 36.282,
            "count": 35
           },
           {
            "bin_start": 36.282,
            "bin_end": 39.57599999999999,
            "count": 19
           },
           {
            "bin_start": 39.57599999999999,
            "bin_end": 42.87,
            "count": 9
           }
          ]
         }
        },
        {
         "name": "volume",
         "dtype": "float64",
         "stats": {
          "unique_count": 608,
          "nan_count": 0,
          "min": "192846.0",
          "max": "3190205.25",
          "histogram": [
           {
            "bin_start": 192846,
            "bin_end": 492581.925,
            "count": 73
           },
           {
            "bin_start": 492581.925,
            "bin_end": 792317.85,
            "count": 171
           },
           {
            "bin_start": 792317.85,
            "bin_end": 1092053.775,
            "count": 152
           },
           {
            "bin_start": 1092053.775,
            "bin_end": 1391789.7,
            "count": 103
           },
           {
            "bin_start": 1391789.7,
            "bin_end": 1691525.625,
            "count": 51
           },
           {
            "bin_start": 1691525.625,
            "bin_end": 1991261.5499999998,
            "count": 39
           },
           {
            "bin_start": 1991261.5499999998,
            "bin_end": 2290997.475,
            "count": 11
           },
           {
            "bin_start": 2290997.475,
            "bin_end": 2590733.4,
            "count": 4
           },
           {
            "bin_start": 2590733.4,
            "bin_end": 2890469.3249999997,
            "count": 2
           },
           {
            "bin_start": 2890469.3249999997,
            "bin_end": 3190205.25,
            "count": 2
           }
          ]
         }
        },
        {
         "name": "price_change",
         "dtype": "float64",
         "stats": {
          "unique_count": 276,
          "nan_count": 0,
          "min": "-3.15",
          "max": "4.08",
          "histogram": [
           {
            "bin_start": -3.15,
            "bin_end": -2.4269999999999996,
            "count": 3
           },
           {
            "bin_start": -2.4269999999999996,
            "bin_end": -1.7039999999999997,
            "count": 20
           },
           {
            "bin_start": -1.7039999999999997,
            "bin_end": -0.9809999999999994,
            "count": 35
           },
           {
            "bin_start": -0.9809999999999994,
            "bin_end": -0.25799999999999956,
            "count": 157
           },
           {
            "bin_start": -0.25799999999999956,
            "bin_end": 0.4650000000000003,
            "count": 244
           },
           {
            "bin_start": 0.4650000000000003,
            "bin_end": 1.188000000000001,
            "count": 93
           },
           {
            "bin_start": 1.188000000000001,
            "bin_end": 1.911000000000001,
            "count": 38
           },
           {
            "bin_start": 1.911000000000001,
            "bin_end": 2.634000000000001,
            "count": 10
           },
           {
            "bin_start": 2.634000000000001,
            "bin_end": 3.3570000000000007,
            "count": 5
           },
           {
            "bin_start": 3.3570000000000007,
            "bin_end": 4.08,
            "count": 3
           }
          ]
         }
        },
        {
         "name": "p_change",
         "dtype": "float64",
         "stats": {
          "unique_count": 459,
          "nan_count": 0,
          "min": "-10.02",
          "max": "10.02",
          "histogram": [
           {
            "bin_start": -10.02,
            "bin_end": -8.016,
            "count": 5
           },
           {
            "bin_start": -8.016,
            "bin_end": -6.012,
            "count": 19
           },
           {
            "bin_start": -6.012,
            "bin_end": -4.007999999999999,
            "count": 26
           },
           {
            "bin_start": -4.007999999999999,
            "bin_end": -2.0039999999999996,
            "count": 93
           },
           {
            "bin_start": -2.0039999999999996,
            "bin_end": 0,
            "count": 151
           },
           {
            "bin_start": 0,
            "bin_end": 2.0040000000000013,
            "count": 164
           },
           {
            "bin_start": 2.0040000000000013,
            "bin_end": 4.008000000000001,
            "count": 73
           },
           {
            "bin_start": 4.008000000000001,
            "bin_end": 6.0120000000000005,
            "count": 37
           },
           {
            "bin_start": 6.0120000000000005,
            "bin_end": 8.016000000000002,
            "count": 17
           },
           {
            "bin_start": 8.016000000000002,
            "bin_end": 10.02,
            "count": 23
           }
          ]
         }
        },
        {
         "name": "ma5",
         "dtype": "float64",
         "stats": {
          "unique_count": 589,
          "nan_count": 0,
          "min": "10.404",
          "max": "42.534",
          "histogram": [
           {
            "bin_start": 10.404,
            "bin_end": 13.616999999999999,
            "count": 81
           },
           {
            "bin_start": 13.616999999999999,
            "bin_end": 16.83,
            "count": 40
           },
           {
            "bin_start": 16.83,
            "bin_end": 20.043,
            "count": 34
           },
           {
            "bin_start": 20.043,
            "bin_end": 23.256,
            "count": 60
           },
           {
            "bin_start": 23.256,
            "bin_end": 26.468999999999998,
            "count": 155
           },
           {
            "bin_start": 26.468999999999998,
            "bin_end": 29.682,
            "count": 104
           },
           {
            "bin_start": 29.682,
            "bin_end": 32.894999999999996,
            "count": 51
           },
           {
            "bin_start": 32.894999999999996,
            "bin_end": 36.108,
            "count": 44
           },
           {
            "bin_start": 36.108,
            "bin_end": 39.321,
            "count": 24
           },
           {
            "bin_start": 39.321,
            "bin_end": 42.534,
            "count": 15
           }
          ]
         }
        },
        {
         "name": "ma10",
         "dtype": "float64",
         "stats": {
          "unique_count": 594,
          "nan_count": 0,
          "min": "10.426",
          "max": "42.078",
          "histogram": [
           {
            "bin_start": 10.426,
            "bin_end": 13.5912,
            "count": 82
           },
           {
            "bin_start": 13.5912,
            "bin_end": 16.7564,
            "count": 45
           },
           {
            "bin_start": 16.7564,
            "bin_end": 19.921599999999998,
            "count": 30
           },
           {
            "bin_start": 19.921599999999998,
            "bin_end": 23.0868,
            "count": 55
           },
           {
            "bin_start": 23.0868,
            "bin_end": 26.252000000000002,
            "count": 146
           },
           {
            "bin_start": 26.252000000000002,
            "bin_end": 29.4172,
            "count": 113
           },
           {
            "bin_start": 29.4172,
            "bin_end": 32.5824,
            "count": 49
           },
           {
            "bin_start": 32.5824,
            "bin_end": 35.7476,
            "count": 48
           },
           {
            "bin_start": 35.7476,
            "bin_end": 38.9128,
            "count": 25
           },
           {
            "bin_start": 38.9128,
            "bin_end": 42.078,
            "count": 15
           }
          ]
         }
        },
        {
         "name": "ma20",
         "dtype": "float64",
         "stats": {
          "unique_count": 595,
          "nan_count": 0,
          "min": "10.426",
          "max": "40.706",
          "histogram": [
           {
            "bin_start": 10.426,
            "bin_end": 13.454,
            "count": 82
           },
           {
            "bin_start": 13.454,
            "bin_end": 16.482,
            "count": 44
           },
           {
            "bin_start": 16.482,
            "bin_end": 19.509999999999998,
            "count": 31
           },
           {
            "bin_start": 19.509999999999998,
            "bin_end": 22.538,
            "count": 47
           },
           {
            "bin_start": 22.538,
            "bin_end": 25.566000000000003,
            "count": 135
           },
           {
            "bin_start": 25.566000000000003,
            "bin_end": 28.594,
            "count": 121
           },
           {
            "bin_start": 28.594,
            "bin_end": 31.622,
            "count": 47
           },
           {
            "bin_start": 31.622,
            "bin_end": 34.65,
            "count": 56
           },
           {
            "bin_start": 34.65,
            "bin_end": 37.678,
            "count": 25
           },
           {
            "bin_start": 37.678,
            "bin_end": 40.706,
            "count": 20
           }
          ]
         }
        },
        {
         "name": "v_ma5",
         "dtype": "float64",
         "stats": {
          "unique_count": 608,
          "nan_count": 0,
          "min": "315680.79",
          "max": "2500618.05",
          "histogram": [
           {
            "bin_start": 315680.79,
            "bin_end": 534174.516,
            "count": 56
           },
           {
            "bin_start": 534174.516,
            "bin_end": 752668.2419999999,
            "count": 133
           },
           {
            "bin_start": 752668.2419999999,
            "bin_end": 971161.9679999999,
            "count": 141
           },
           {
            "bin_start": 971161.9679999999,
            "bin_end": 1189655.694,
            "count": 129
           },
           {
            "bin_start": 1189655.694,
            "bin_end": 1408149.42,
            "count": 67
           },
           {
            "bin_start": 1408149.42,
            "bin_end": 1626643.1459999997,
            "count": 41
           },
           {
            "bin_start": 1626643.1459999997,
            "bin_end": 1845136.8719999997,
            "count": 17
           },
           {
            "bin_start": 1845136.8719999997,
            "bin_end": 2063630.5979999998,
            "count": 12
           },
           {
            "bin_start": 2063630.5979999998,
            "bin_end": 2282124.3239999996,
            "count": 9
           },
           {
            "bin_start": 2282124.3239999996,
            "bin_end": 2500618.05,
            "count": 3
           }
          ]
         }
        },
        {
         "name": "v_ma10",
         "dtype": "float64",
         "stats": {
          "unique_count": 608,
          "nan_count": 0,
          "min": "391056.33",
          "max": "2290146.23",
          "histogram": [
           {
            "bin_start": 391056.33,
            "bin_end": 580965.3200000001,
            "count": 63
           },
           {
            "bin_start": 580965.3200000001,
            "bin_end": 770874.31,
            "count": 120
           },
           {
            "bin_start": 770874.31,
            "bin_end": 960783.3,
            "count": 141
           },
           {
            "bin_start": 960783.3,
            "bin_end": 1150692.29,
            "count": 113
           },
           {
            "bin_start": 1150692.29,
            "bin_end": 1340601.28,
            "count": 82
           },
           {
            "bin_start": 1340601.28,
            "bin_end": 1530510.27,
            "count": 40
           },
           {
            "bin_start": 1530510.27,
            "bin_end": 1720419.26,
            "count": 22
           },
           {
            "bin_start": 1720419.26,
            "bin_end": 1910328.25,
            "count": 13
           },
           {
            "bin_start": 1910328.25,
            "bin_end": 2100237.2399999998,
            "count": 10
           },
           {
            "bin_start": 2100237.2399999998,
            "bin_end": 2290146.23,
            "count": 4
           }
          ]
         }
        },
        {
         "name": "v_ma20",
         "dtype": "float64",
         "stats": {
          "unique_count": 608,
          "nan_count": 0,
          "min": "431110.8",
          "max": "1745507.09",
          "histogram": [
           {
            "bin_start": 431110.8,
            "bin_end": 562550.429,
            "count": 29
           },
           {
            "bin_start": 562550.429,
            "bin_end": 693990.058,
            "count": 79
           },
           {
            "bin_start": 693990.058,
            "bin_end": 825429.687,
            "count": 108
           },
           {
            "bin_start": 825429.687,
            "bin_end": 956869.3160000001,
            "count": 89
           },
           {
            "bin_start": 956869.3160000001,
            "bin_end": 1088308.945,
            "count": 72
           },
           {
            "bin_start": 1088308.945,
            "bin_end": 1219748.574,
            "count": 96
           },
           {
            "bin_start": 1219748.574,
            "bin_end": 1351188.2030000002,
            "count": 56
           },
           {
            "bin_start": 1351188.2030000002,
            "bin_end": 1482627.8320000002,
            "count": 32
           },
           {
            "bin_start": 1482627.8320000002,
            "bin_end": 1614067.4610000001,
            "count": 20
           },
           {
            "bin_start": 1614067.4610000001,
            "bin_end": 1745507.09,
            "count": 27
           }
          ]
         }
        },
        {
         "name": "turnover",
         "dtype": "float64",
         "stats": {
          "unique_count": 316,
          "nan_count": 0,
          "min": "0.47",
          "max": "7.82",
          "histogram": [
           {
            "bin_start": 0.47,
            "bin_end": 1.205,
            "count": 73
           },
           {
            "bin_start": 1.205,
            "bin_end": 1.9400000000000002,
            "count": 172
           },
           {
            "bin_start": 1.9400000000000002,
            "bin_end": 2.675,
            "count": 151
           },
           {
            "bin_start": 2.675,
            "bin_end": 3.41,
            "count": 102
           },
           {
            "bin_start": 3.41,
            "bin_end": 4.1450000000000005,
            "count": 52
           },
           {
            "bin_start": 4.1450000000000005,
            "bin_end": 4.88,
            "count": 39
           },
           {
            "bin_start": 4.88,
            "bin_end": 5.615,
            "count": 11
           },
           {
            "bin_start": 5.615,
            "bin_end": 6.3500000000000005,
            "count": 4
           },
           {
            "bin_start": 6.3500000000000005,
            "bin_end": 7.085000000000001,
            "count": 2
           },
           {
            "bin_start": 7.085000000000001,
            "bin_end": 7.82,
            "count": 2
           }
          ]
         }
        },
        {
         "name": "_deepnote_index_column",
         "dtype": "object"
        }
       ],
       "rows_top": [
        {
         "open": 35.01,
         "high": 35.67,
         "close": 35.03,
         "low": 34.68,
         "volume": 592420.81,
         "price_change": -0.08,
         "p_change": -0.23,
         "ma5": 36.002,
         "ma10": 36.244,
         "ma20": 36.027,
         "v_ma5": 602729.19,
         "v_ma10": 608677.31,
         "v_ma20": 741294.42,
         "turnover": 1.45,
         "_deepnote_index_column": "2021-11-30"
        },
        {
         "open": 34.99,
         "high": 35.9,
         "close": 35.11,
         "low": 34.8,
         "volume": 872174.88,
         "price_change": -1.07,
         "p_change": -2.96,
         "ma5": 36.524,
         "ma10": 36.336,
         "ma20": 35.994,
         "v_ma5": 603829.63,
         "v_ma10": 616707.06,
         "v_ma20": 776961.84,
         "turnover": 2.14,
         "_deepnote_index_column": "2021-11-29"
        },
        {
         "open": 36.5,
         "high": 36.5,
         "close": 36.18,
         "low": 35.91,
         "volume": 518692.81,
         "price_change": -0.51,
         "p_change": -1.39,
         "ma5": 37.112,
         "ma10": 36.548,
         "ma20": 35.925,
         "v_ma5": 637677.11,
         "v_ma10": 590817.34,
         "v_ma20": 778122.66,
         "turnover": 1.27,
         "_deepnote_index_column": "2021-11-26"
        },
        {
         "open": 36.99,
         "high": 37.49,
         "close": 36.69,
         "low": 36.29,
         "volume": 471191.06,
         "price_change": -0.31,
         "p_change": -0.84,
         "ma5": 37.018,
         "ma10": 36.648,
         "ma20": 35.796,
         "v_ma5": 621288.53,
         "v_ma10": 606151.56,
         "v_ma20": 810776.57,
         "turnover": 1.16,
         "_deepnote_index_column": "2021-11-25"
        },
        {
         "open": 37.56,
         "high": 38.09,
         "close": 37,
         "low": 36.94,
         "volume": 559166.38,
         "price_change": -0.64,
         "p_change": -1.7,
         "ma5": 36.7,
         "ma10": 36.651,
         "ma20": 35.579,
         "v_ma5": 635083.36,
         "v_ma10": 663473.71,
         "v_ma20": 813570.34,
         "turnover": 1.37,
         "_deepnote_index_column": "2021-11-24"
        },
        {
         "open": 37.96,
         "high": 38.28,
         "close": 37.64,
         "low": 37.4,
         "volume": 597923,
         "price_change": -0.41,
         "p_change": -1.08,
         "ma5": 36.486,
         "ma10": 36.6,
         "ma20": 35.333,
         "v_ma5": 614625.44,
         "v_ma10": 698113.38,
         "v_ma20": 807668.29,
         "turnover": 1.47,
         "_deepnote_index_column": "2021-11-23"
        },
        {
         "open": 35.51,
         "high": 38.18,
         "close": 38.05,
         "low": 35.5,
         "volume": 1041412.31,
         "price_change": 2.34,
         "p_change": 6.55,
         "ma5": 36.148,
         "ma10": 36.426,
         "ma20": 35.071,
         "v_ma5": 629584.5,
         "v_ma10": 729451.41,
         "v_ma20": 819000.51,
         "turnover": 2.55,
         "_deepnote_index_column": "2021-11-22"
        },
        {
         "open": 34.98,
         "high": 35.85,
         "close": 35.71,
         "low": 34.88,
         "volume": 436749.91,
         "price_change": 0.61,
         "p_change": 1.74,
         "ma5": 35.984,
         "ma10": 36.107,
         "ma20": 34.763,
         "v_ma5": 543957.58,
         "v_ma10": 699576.88,
         "v_ma20": 791465.52,
         "turnover": 1.07,
         "_deepnote_index_column": "2021-11-19"
        },
        {
         "open": 35.75,
         "high": 36.24,
         "close": 35.1,
         "low": 34.88,
         "volume": 540165.19,
         "price_change": -0.83,
         "p_change": -2.31,
         "ma5": 36.278,
         "ma10": 36.035,
         "ma20": 34.566,
         "v_ma5": 591014.59,
         "v_ma10": 740063.9,
         "v_ma20": 809414.05,
         "turnover": 1.32,
         "_deepnote_index_column": "2021-11-18"
        },
        {
         "open": 35.81,
         "high": 36.38,
         "close": 35.93,
         "low": 35.33,
         "volume": 456876.78,
         "price_change": -0.02,
         "p_change": -0.06,
         "ma5": 36.602,
         "ma10": 36.065,
         "ma20": 34.339,
         "v_ma5": 691864.06,
         "v_ma10": 825401.67,
         "v_ma20": 820152.01,
         "turnover": 1.12,
         "_deepnote_index_column": "2021-11-17"
        },
        {
         "open": 36.7,
         "high": 37.17,
         "close": 35.95,
         "low": 35.9,
         "volume": 672718.31,
         "price_change": -1.28,
         "p_change": -3.44,
         "ma5": 36.714,
         "ma10": 35.81,
         "ma20": 34.12,
         "v_ma5": 781601.32,
         "v_ma10": 873911.52,
         "v_ma20": 822247.73,
         "turnover": 1.65,
         "_deepnote_index_column": "2021-11-16"
        },
        {
         "open": 37.39,
         "high": 37.87,
         "close": 37.23,
         "low": 36.78,
         "volume": 613277.69,
         "price_change": 0.05,
         "p_change": 0.13,
         "ma5": 36.704,
         "ma10": 35.651,
         "ma20": 33.912,
         "v_ma5": 829318.32,
         "v_ma10": 937216.61,
         "v_ma20": 832145.59,
         "turnover": 1.5,
         "_deepnote_index_column": "2021-11-15"
        },
        {
         "open": 36.4,
         "high": 37.5,
         "close": 37.18,
         "low": 36.21,
         "volume": 672035,
         "price_change": 0.46,
         "p_change": 1.25,
         "ma5": 36.23,
         "ma10": 35.302,
         "ma20": 33.674,
         "v_ma5": 855196.17,
         "v_ma10": 965427.98,
         "v_ma20": 847136.8,
         "turnover": 1.65,
         "_deepnote_index_column": "2021-11-12"
        },
        {
         "open": 36.07,
         "high": 38.28,
         "close": 36.72,
         "low": 35.85,
         "volume": 1044412.5,
         "price_change": 0.23,
         "p_change": 0.63,
         "ma5": 35.792,
         "ma10": 34.944,
         "ma20": 33.503,
         "v_ma5": 889113.21,
         "v_ma10": 1015401.58,
         "v_ma20": 856827.33,
         "turnover": 2.56,
         "_deepnote_index_column": "2021-11-11"
        },
        {
         "open": 35.5,
         "high": 36.75,
         "close": 36.49,
         "low": 35.37,
         "volume": 905563.12,
         "price_change": 0.59,
         "p_change": 1.64,
         "ma5": 35.528,
         "ma10": 34.506,
         "ma20": 33.314,
         "v_ma5": 958939.29,
         "v_ma10": 963666.98,
         "v_ma20": 823534.67,
         "turnover": 2.22,
         "_deepnote_index_column": "2021-11-10"
        },
        {
         "open": 34.7,
         "high": 35.9,
         "close": 35.9,
         "low": 34.15,
         "volume": 911303.31,
         "price_change": 1.04,
         "p_change": 2.98,
         "ma5": 34.906,
         "ma10": 34.066,
         "ma20": 33.166,
         "v_ma5": 966221.71,
         "v_ma10": 917223.19,
         "v_ma20": 804282.83,
         "turnover": 2.23,
         "_deepnote_index_column": "2021-11-09"
        },
        {
         "open": 34.62,
         "high": 35.33,
         "close": 34.86,
         "low": 33.8,
         "volume": 742666.94,
         "price_change": -0.13,
         "p_change": -0.37,
         "ma5": 34.598,
         "ma10": 33.716,
         "ma20": 33.006,
         "v_ma5": 1045114.9,
         "v_ma10": 908549.6,
         "v_ma20": 785851.27,
         "turnover": 1.82,
         "_deepnote_index_column": "2021-11-08"
        },
        {
         "open": 35.54,
         "high": 35.78,
         "close": 34.99,
         "low": 34.8,
         "volume": 841620.19,
         "price_change": -0.41,
         "p_change": -1.16,
         "ma5": 34.374,
         "ma10": 33.418,
         "ma20": 32.962,
         "v_ma5": 1075659.79,
         "v_ma10": 883354.17,
         "v_ma20": 775622.95,
         "turnover": 2.06,
         "_deepnote_index_column": "2021-11-05"
        },
        {
         "open": 33.68,
         "high": 35.42,
         "close": 35.4,
         "low": 33.33,
         "volume": 1393542.88,
         "price_change": 2.02,
         "p_change": 6.05,
         "ma5": 34.096,
         "ma10": 33.096,
         "ma20": 32.917,
         "v_ma5": 1141689.95,
         "v_ma10": 878764.2,
         "v_ma20": 781477.29,
         "turnover": 3.42,
         "_deepnote_index_column": "2021-11-04"
        },
        {
         "open": 34.4,
         "high": 35.09,
         "close": 33.38,
         "low": 33.05,
         "volume": 941975.25,
         "price_change": -0.98,
         "p_change": -2.85,
         "ma5": 33.484,
         "ma10": 32.612,
         "ma20": 32.732,
         "v_ma5": 968394.66,
         "v_ma10": 814902.34,
         "v_ma20": 746417.12,
         "turnover": 2.31,
         "_deepnote_index_column": "2021-11-03"
        },
        {
         "open": 33.95,
         "high": 35.35,
         "close": 34.36,
         "low": 33.74,
         "volume": 1305769.25,
         "price_change": 0.62,
         "p_change": 1.84,
         "ma5": 33.226,
         "ma10": 32.429,
         "ma20": 32.672,
         "v_ma5": 868224.66,
         "v_ma10": 770583.93,
         "v_ma20": 729165.52,
         "turnover": 3.2,
         "_deepnote_index_column": "2021-11-02"
        },
        {
         "open": 33.6,
         "high": 34.19,
         "close": 33.74,
         "low": 32.96,
         "volume": 895391.38,
         "price_change": 0.14,
         "p_change": 0.42,
         "ma5": 32.834,
         "ma10": 32.173,
         "ma20": 32.649,
         "v_ma5": 771984.3,
         "v_ma10": 727074.58,
         "v_ma20": 690599.34,
         "turnover": 2.2,
         "_deepnote_index_column": "2021-11-01"
        },
        {
         "open": 32.6,
         "high": 33.92,
         "close": 33.6,
         "low": 31.81,
         "volume": 1171771,
         "price_change": 1.26,
         "p_change": 3.9,
         "ma5": 32.462,
         "ma10": 32.046,
         "ma20": 32.65,
         "v_ma5": 691048.55,
         "v_ma10": 728845.62,
         "v_ma20": 692083.76,
         "turnover": 2.87,
         "_deepnote_index_column": "2021-10-29"
        },
        {
         "open": 31.95,
         "high": 33,
         "close": 32.34,
         "low": 31.91,
         "volume": 527066.44,
         "price_change": 0.25,
         "p_change": 0.78,
         "ma5": 32.096,
         "ma10": 32.061,
         "ma20": 32.601,
         "v_ma5": 615838.45,
         "v_ma10": 698253.07,
         "v_ma20": 655478.35,
         "turnover": 1.29,
         "_deepnote_index_column": "2021-10-28"
        },
        {
         "open": 32.4,
         "high": 32.79,
         "close": 32.09,
         "low": 31.86,
         "volume": 441125.25,
         "price_change": -0.31,
         "p_change": -0.96,
         "ma5": 31.74,
         "ma10": 32.122,
         "ma20": 32.634,
         "v_ma5": 661410.02,
         "v_ma10": 683402.37,
         "v_ma20": 665160.91,
         "turnover": 1.08,
         "_deepnote_index_column": "2021-10-27"
        },
        {
         "open": 32.1,
         "high": 33.48,
         "close": 32.4,
         "low": 31.61,
         "volume": 824567.44,
         "price_change": 0.52,
         "p_change": 1.63,
         "ma5": 31.632,
         "ma10": 32.265,
         "ma20": 32.671,
         "v_ma5": 672943.2,
         "v_ma10": 691342.48,
         "v_ma20": 666644.51,
         "turnover": 2.02,
         "_deepnote_index_column": "2021-10-26"
        },
        {
         "open": 31.77,
         "high": 31.97,
         "close": 31.88,
         "low": 30.88,
         "volume": 490712.62,
         "price_change": 0.11,
         "p_change": 0.35,
         "ma5": 31.512,
         "ma10": 32.295,
         "ma20": 32.661,
         "v_ma5": 682164.85,
         "v_ma10": 663152.95,
         "v_ma20": 648649.58,
         "turnover": 1.2,
         "_deepnote_index_column": "2021-10-25"
        },
        {
         "open": 30.56,
         "high": 31.95,
         "close": 31.77,
         "low": 30.56,
         "volume": 795720.5,
         "price_change": 1.21,
         "p_change": 3.96,
         "ma5": 31.63,
         "ma10": 32.506,
         "ma20": 32.682,
         "v_ma5": 766642.69,
         "v_ma10": 667891.73,
         "v_ma20": 649015.38,
         "turnover": 1.95,
         "_deepnote_index_column": "2021-10-22"
        },
        {
         "open": 31.57,
         "high": 31.76,
         "close": 30.56,
         "low": 30.31,
         "volume": 754924.31,
         "price_change": -0.99,
         "p_change": -3.14,
         "ma5": 32.026,
         "ma10": 32.738,
         "ma20": 32.753,
         "v_ma5": 780667.7,
         "v_ma10": 684190.37,
         "v_ma20": 630919.6,
         "turnover": 1.85,
         "_deepnote_index_column": "2021-10-21"
        },
        {
         "open": 31.77,
         "high": 32.01,
         "close": 31.55,
         "low": 31.38,
         "volume": 498791.12,
         "price_change": -0.25,
         "p_change": -0.79,
         "ma5": 32.504,
         "ma10": 32.851,
         "ma20": 32.914,
         "v_ma5": 705394.71,
         "v_ma10": 677931.89,
         "v_ma20": 624913.79,
         "turnover": 1.22,
         "_deepnote_index_column": "2021-10-20"
        },
        {
         "open": 32.27,
         "high": 32.27,
         "close": 31.8,
         "low": 31.29,
         "volume": 870675.69,
         "price_change": -0.67,
         "p_change": -2.06,
         "ma5": 32.898,
         "ma10": 32.914,
         "ma20": 33.045,
         "v_ma5": 709741.76,
         "v_ma10": 687747.12,
         "v_ma20": 636203.97,
         "turnover": 2.13,
         "_deepnote_index_column": "2021-10-19"
        },
        {
         "open": 33.28,
         "high": 33.3,
         "close": 32.47,
         "low": 31.46,
         "volume": 913101.81,
         "price_change": -1.28,
         "p_change": -3.79,
         "ma5": 33.078,
         "ma10": 33.124,
         "ma20": 33.222,
         "v_ma5": 644141.04,
         "v_ma10": 654124.11,
         "v_ma20": 653444.41,
         "turnover": 2.24,
         "_deepnote_index_column": "2021-10-18"
        },
        {
         "open": 33.08,
         "high": 34.09,
         "close": 33.75,
         "low": 32.59,
         "volume": 865845.56,
         "price_change": 0.8,
         "p_change": 2.43,
         "ma5": 33.382,
         "ma10": 33.254,
         "ma20": 33.274,
         "v_ma5": 569140.78,
         "v_ma10": 655321.9,
         "v_ma20": 635973.81,
         "turnover": 2.12,
         "_deepnote_index_column": "2021-10-15"
        },
        {
         "open": 33.3,
         "high": 33.48,
         "close": 32.95,
         "low": 32.82,
         "volume": 378559.38,
         "price_change": -0.57,
         "p_change": -1.7,
         "ma5": 33.45,
         "ma10": 33.14,
         "ma20": 33.291,
         "v_ma5": 587713.04,
         "v_ma10": 612703.63,
         "v_ma20": 618882.23,
         "turnover": 0.93,
         "_deepnote_index_column": "2021-10-14"
        },
        {
         "open": 32.7,
         "high": 33.6,
         "close": 33.52,
         "low": 32.28,
         "volume": 520526.34,
         "price_change": 0.82,
         "p_change": 2.51,
         "ma5": 33.198,
         "ma10": 33.145,
         "ma20": 33.348,
         "v_ma5": 650469.07,
         "v_ma10": 646919.44,
         "v_ma20": 628392.76,
         "turnover": 1.28,
         "_deepnote_index_column": "2021-10-13"
        }
       ],
       "rows_bottom": [
        {
         "open": 10.01,
         "high": 10.86,
         "close": 10.66,
         "low": 10.01,
         "volume": 1090974.12,
         "price_change": 0.67,
         "p_change": 6.71,
         "ma5": 10.418,
         "ma10": 10.698,
         "ma20": 11.21,
         "v_ma5": 719950.58,
         "v_ma10": 621171.73,
         "v_ma20": 691818.93,
         "turnover": 2.67,
         "_deepnote_index_column": "2019-07-23"
        },
        {
         "open": 10.37,
         "high": 10.41,
         "close": 9.99,
         "low": 9.97,
         "volume": 623719.88,
         "price_change": -0.3,
         "p_change": -2.92,
         "ma5": 10.432,
         "ma10": 10.754,
         "ma20": 11.242,
         "v_ma5": 608555.28,
         "v_ma10": 564589.01,
         "v_ma20": 664106.76,
         "turnover": 1.53,
         "_deepnote_index_column": "2019-07-22"
        },
        {
         "open": 10.38,
         "high": 10.53,
         "close": 10.29,
         "low": 10.29,
         "volume": 413242.16,
         "price_change": -0.06,
         "p_change": -0.58,
         "ma5": 10.592,
         "ma10": 10.887,
         "ma20": 11.308,
         "v_ma5": 678230.56,
         "v_ma10": 569471.12,
         "v_ma20": 661629.07,
         "turnover": 1.01,
         "_deepnote_index_column": "2019-07-19"
        },
        {
         "open": 10.7,
         "high": 10.71,
         "close": 10.35,
         "low": 10.23,
         "volume": 739882.94,
         "price_change": -0.45,
         "p_change": -4.17,
         "ma5": 10.75,
         "ma10": 11.04,
         "ma20": 11.369,
         "v_ma5": 664843.14,
         "v_ma10": 572292.21,
         "v_ma20": 687319.64,
         "turnover": 1.81,
         "_deepnote_index_column": "2019-07-18"
        },
        {
         "open": 10.73,
         "high": 11.01,
         "close": 10.8,
         "low": 10.65,
         "volume": 731933.81,
         "price_change": 0.07,
         "p_change": 0.65,
         "ma5": 10.906,
         "ma10": 11.191,
         "ma20": 11.408,
         "v_ma5": 591954.85,
         "v_ma10": 571064.02,
         "v_ma20": 692599.63,
         "turnover": 1.79,
         "_deepnote_index_column": "2019-07-17"
        },
        {
         "open": 10.71,
         "high": 10.94,
         "close": 10.73,
         "low": 10.62,
         "volume": 533997.62,
         "price_change": -0.06,
         "p_change": -0.56,
         "ma5": 10.978,
         "ma10": 11.328,
         "ma20": 11.411,
         "v_ma5": 522392.87,
         "v_ma10": 564999.54,
         "v_ma20": 704812.83,
         "turnover": 1.31,
         "_deepnote_index_column": "2019-07-16"
        },
        {
         "open": 11.06,
         "high": 11.14,
         "close": 10.79,
         "low": 10.73,
         "volume": 972096.25,
         "price_change": -0.29,
         "p_change": -2.62,
         "ma5": 11.076,
         "ma10": 11.468,
         "ma20": 11.408,
         "v_ma5": 520622.73,
         "v_ma10": 620963.66,
         "v_ma20": 696753.53,
         "turnover": 2.38,
         "_deepnote_index_column": "2019-07-15"
        },
        {
         "open": 11.13,
         "high": 11.18,
         "close": 11.08,
         "low": 10.92,
         "volume": 346305.09,
         "price_change": -0.05,
         "p_change": -0.45,
         "ma5": 11.182,
         "ma10": 11.63,
         "ma20": 11.408,
         "v_ma5": 460711.68,
         "v_ma10": 701772.23,
         "v_ma20": 676929.21,
         "turnover": 0.85,
         "_deepnote_index_column": "2019-07-12"
        },
        {
         "open": 11.22,
         "high": 11.37,
         "close": 11.13,
         "low": 11.03,
         "volume": 375441.5,
         "price_change": -0.03,
         "p_change": -0.27,
         "ma5": 11.33,
         "ma10": 11.65,
         "ma20": 11.388,
         "v_ma5": 479741.27,
         "v_ma10": 719584.54,
         "v_ma20": 692248.76,
         "turnover": 0.92,
         "_deepnote_index_column": "2019-07-11"
        },
        {
         "open": 11.25,
         "high": 11.38,
         "close": 11.16,
         "low": 11.08,
         "volume": 384123.88,
         "price_change": -0.06,
         "p_change": -0.54,
         "ma5": 11.476,
         "ma10": 11.692,
         "ma20": 11.38,
         "v_ma5": 550173.19,
         "v_ma10": 745981.23,
         "v_ma20": 707620.46,
         "turnover": 0.94,
         "_deepnote_index_column": "2019-07-10"
        },
        {
         "open": 11.34,
         "high": 11.41,
         "close": 11.22,
         "low": 10.88,
         "volume": 525146.94,
         "price_change": -0.1,
         "p_change": -0.88,
         "ma5": 11.678,
         "ma10": 11.722,
         "ma20": 11.377,
         "v_ma5": 607606.21,
         "v_ma10": 762466.13,
         "v_ma20": 749328.29,
         "turnover": 1.29,
         "_deepnote_index_column": "2019-07-09"
        },
        {
         "open": 11.74,
         "high": 11.75,
         "close": 11.32,
         "low": 11.2,
         "volume": 672541,
         "price_change": -0.5,
         "p_change": -4.23,
         "ma5": 11.86,
         "ma10": 11.73,
         "ma20": 11.373,
         "v_ma5": 721304.59,
         "v_ma10": 763624.51,
         "v_ma20": 789558.9,
         "turnover": 1.65,
         "_deepnote_index_column": "2019-07-08"
        },
        {
         "open": 11.79,
         "high": 11.94,
         "close": 11.82,
         "low": 11.75,
         "volume": 441453.03,
         "price_change": -0.04,
         "p_change": -0.34,
         "ma5": 12.078,
         "ma10": 11.728,
         "ma20": 11.313,
         "v_ma5": 942832.77,
         "v_ma10": 753787.03,
         "v_ma20": 786576.29,
         "turnover": 1.08,
         "_deepnote_index_column": "2019-07-05"
        },
        {
         "open": 12.2,
         "high": 12.26,
         "close": 11.86,
         "low": 11.79,
         "volume": 727601.12,
         "price_change": -0.31,
         "p_change": -2.55,
         "ma5": 11.97,
         "ma10": 11.697,
         "ma20": 11.236,
         "v_ma5": 959427.81,
         "v_ma10": 802347.07,
         "v_ma20": 790060.45,
         "turnover": 1.78,
         "_deepnote_index_column": "2019-07-04"
        },
        {
         "open": 12.12,
         "high": 12.32,
         "close": 12.17,
         "low": 11.98,
         "volume": 671288.94,
         "price_change": 0.04,
         "p_change": 0.33,
         "ma5": 11.908,
         "ma10": 11.625,
         "ma20": 11.172,
         "v_ma5": 941789.27,
         "v_ma10": 814135.23,
         "v_ma20": 790190.62,
         "turnover": 1.65,
         "_deepnote_index_column": "2019-07-03"
        },
        {
         "open": 12.3,
         "high": 12.42,
         "close": 12.13,
         "low": 12.03,
         "volume": 1093638.88,
         "price_change": -0.28,
         "p_change": -2.26,
         "ma5": 11.766,
         "ma10": 11.494,
         "ma20": 11.082,
         "v_ma5": 917326.05,
         "v_ma10": 844626.13,
         "v_ma20": 796756.86,
         "turnover": 2.68,
         "_deepnote_index_column": "2019-07-02"
        },
        {
         "open": 11.95,
         "high": 12.41,
         "close": 12.41,
         "low": 11.7,
         "volume": 1780181.88,
         "price_change": 1.13,
         "p_change": 10.02,
         "ma5": 11.6,
         "ma10": 11.348,
         "ma20": 11.014,
         "v_ma5": 805944.43,
         "v_ma10": 772543.39,
         "v_ma20": 779396.33,
         "turnover": 4.36,
         "_deepnote_index_column": "2019-07-01"
        },
        {
         "open": 11.59,
         "high": 11.63,
         "close": 11.28,
         "low": 11.16,
         "volume": 524428.25,
         "price_change": -0.27,
         "p_change": -2.34,
         "ma5": 11.378,
         "ma10": 11.186,
         "ma20": 10.941,
         "v_ma5": 564741.29,
         "v_ma10": 652086.19,
         "v_ma20": 726723.4,
         "turnover": 1.29,
         "_deepnote_index_column": "2019-06-28"
        },
        {
         "open": 11.5,
         "high": 11.73,
         "close": 11.55,
         "low": 11.45,
         "volume": 639408.38,
         "price_change": 0.09,
         "p_change": 0.79,
         "ma5": 11.424,
         "ma10": 11.125,
         "ma20": 10.922,
         "v_ma5": 645266.32,
         "v_ma10": 664912.99,
         "v_ma20": 737962.02,
         "turnover": 1.57,
         "_deepnote_index_column": "2019-06-27"
        },
        {
         "open": 11.2,
         "high": 11.48,
         "close": 11.46,
         "low": 11.15,
         "volume": 548972.88,
         "price_change": 0.16,
         "p_change": 1.42,
         "ma5": 11.342,
         "ma10": 11.068,
         "ma20": 10.885,
         "v_ma5": 686481.2,
         "v_ma10": 669259.68,
         "v_ma20": 743759.3,
         "turnover": 1.35,
         "_deepnote_index_column": "2019-06-26"
        },
        {
         "open": 11.29,
         "high": 11.45,
         "close": 11.3,
         "low": 11.11,
         "volume": 536730.75,
         "price_change": 0,
         "p_change": 0,
         "ma5": 11.222,
         "ma10": 11.032,
         "ma20": 10.849,
         "v_ma5": 771926.2,
         "v_ma10": 736190.44,
         "v_ma20": 755933.45,
         "turnover": 1.32,
         "_deepnote_index_column": "2019-06-25"
        },
        {
         "open": 11.51,
         "high": 11.59,
         "close": 11.3,
         "low": 11.21,
         "volume": 574166.19,
         "price_change": -0.21,
         "p_change": -1.82,
         "ma5": 11.096,
         "ma10": 11.015,
         "ma20": 10.819,
         "v_ma5": 739142.35,
         "v_ma10": 815493.28,
         "v_ma20": 770546.96,
         "turnover": 1.41,
         "_deepnote_index_column": "2019-06-24"
        },
        {
         "open": 11.18,
         "high": 11.64,
         "close": 11.51,
         "low": 11.16,
         "volume": 927053.38,
         "price_change": 0.37,
         "p_change": 3.32,
         "ma5": 10.994,
         "ma10": 10.897,
         "ma20": 10.784,
         "v_ma5": 739431.1,
         "v_ma10": 819365.55,
         "v_ma20": 784574.16,
         "turnover": 2.27,
         "_deepnote_index_column": "2019-06-21"
        },
        {
         "open": 10.86,
         "high": 11.29,
         "close": 11.14,
         "low": 10.79,
         "volume": 845482.81,
         "price_change": 0.28,
         "p_change": 2.58,
         "ma5": 10.826,
         "ma10": 10.774,
         "ma20": 10.728,
         "v_ma5": 684559.66,
         "v_ma10": 777773.83,
         "v_ma20": 773614.22,
         "turnover": 2.07,
         "_deepnote_index_column": "2019-06-20"
        },
        {
         "open": 11.35,
         "high": 11.35,
         "close": 10.86,
         "low": 10.86,
         "volume": 976197.88,
         "price_change": 0.19,
         "p_change": 1.78,
         "ma5": 10.794,
         "ma10": 10.718,
         "ma20": 10.694,
         "v_ma5": 652038.16,
         "v_ma10": 766246,
         "v_ma20": 767625.17,
         "turnover": 2.39,
         "_deepnote_index_column": "2019-06-19"
        },
        {
         "open": 10.72,
         "high": 10.79,
         "close": 10.67,
         "low": 10.57,
         "volume": 372811.47,
         "price_change": -0.12,
         "p_change": -1.11,
         "ma5": 10.842,
         "ma10": 10.669,
         "ma20": 10.679,
         "v_ma5": 700454.68,
         "v_ma10": 748887.59,
         "v_ma20": 748664.01,
         "turnover": 0.91,
         "_deepnote_index_column": "2019-06-18"
        },
        {
         "open": 10.69,
         "high": 10.97,
         "close": 10.79,
         "low": 10.59,
         "volume": 575609.94,
         "price_change": 0.12,
         "p_change": 1.12,
         "ma5": 10.934,
         "ma10": 10.68,
         "ma20": 10.68,
         "v_ma5": 891844.21,
         "v_ma10": 786249.27,
         "v_ma20": 786249.27,
         "turnover": 1.41,
         "_deepnote_index_column": "2019-06-17"
        },
        {
         "open": 11,
         "high": 11.07,
         "close": 10.67,
         "low": 10.57,
         "volume": 652696.19,
         "price_change": -0.31,
         "p_change": -2.82,
         "ma5": 10.8,
         "ma10": 10.668,
         "ma20": 10.668,
         "v_ma5": 899300.01,
         "v_ma10": 809653.64,
         "v_ma20": 809653.64,
         "turnover": 1.6,
         "_deepnote_index_column": "2019-06-14"
        },
        {
         "open": 11.09,
         "high": 11.22,
         "close": 10.98,
         "low": 10.83,
         "volume": 682875.31,
         "price_change": -0.12,
         "p_change": -1.08,
         "ma5": 10.722,
         "ma10": 10.668,
         "ma20": 10.668,
         "v_ma5": 870988.01,
         "v_ma10": 829273.32,
         "v_ma20": 829273.32,
         "turnover": 1.67,
         "_deepnote_index_column": "2019-06-13"
        },
        {
         "open": 11.01,
         "high": 11.32,
         "close": 11.1,
         "low": 10.96,
         "volume": 1218280.5,
         "price_change": -0.03,
         "p_change": -0.27,
         "ma5": 10.642,
         "ma10": 10.623,
         "ma20": 10.623,
         "v_ma5": 880453.84,
         "v_ma10": 850187.32,
         "v_ma20": 850187.32,
         "turnover": 2.99,
         "_deepnote_index_column": "2019-06-12"
        },
        {
         "open": 10.21,
         "high": 11.13,
         "close": 11.13,
         "low": 10.04,
         "volume": 1329759.12,
         "price_change": 1.01,
         "p_change": 9.98,
         "ma5": 10.496,
         "ma10": 10.543,
         "ma20": 10.543,
         "v_ma5": 797320.49,
         "v_ma10": 788838.45,
         "v_ma20": 788838.45,
         "turnover": 3.26,
         "_deepnote_index_column": "2019-06-11"
        },
        {
         "open": 10.3,
         "high": 10.36,
         "close": 10.12,
         "low": 9.93,
         "volume": 612888.94,
         "price_change": -0.16,
         "p_change": -1.56,
         "ma5": 10.426,
         "ma10": 10.426,
         "ma20": 10.426,
         "v_ma5": 680654.32,
         "v_ma10": 680654.32,
         "v_ma20": 680654.32,
         "turnover": 1.5,
         "_deepnote_index_column": "2019-06-10"
        },
        {
         "open": 10.66,
         "high": 10.69,
         "close": 10.28,
         "low": 10.21,
         "volume": 511136.16,
         "price_change": -0.3,
         "p_change": -2.84,
         "ma5": 10.503,
         "ma10": 10.503,
         "ma20": 10.503,
         "v_ma5": 697595.67,
         "v_ma10": 697595.67,
         "v_ma20": 697595.67,
         "turnover": 1.25,
         "_deepnote_index_column": "2019-06-06"
        },
        {
         "open": 10.59,
         "high": 10.83,
         "close": 10.58,
         "low": 10.5,
         "volume": 730204.5,
         "price_change": 0.21,
         "p_change": 2.02,
         "ma5": 10.577,
         "ma10": 10.577,
         "ma20": 10.577,
         "v_ma5": 759748.83,
         "v_ma10": 759748.83,
         "v_ma20": 759748.83,
         "turnover": 1.79,
         "_deepnote_index_column": "2019-06-05"
        },
        {
         "open": 10.83,
         "high": 10.88,
         "close": 10.37,
         "low": 10.18,
         "volume": 802613.75,
         "price_change": -0.41,
         "p_change": -3.8,
         "ma5": 10.575,
         "ma10": 10.575,
         "ma20": 10.575,
         "v_ma5": 774521,
         "v_ma10": 774521,
         "v_ma20": 774521,
         "turnover": 1.97,
         "_deepnote_index_column": "2019-06-04"
        },
        {
         "open": 10.75,
         "high": 10.95,
         "close": 10.78,
         "low": 10.52,
         "volume": 746428.25,
         "price_change": 0.06,
         "p_change": 0.56,
         "ma5": 10.78,
         "ma10": 10.78,
         "ma20": 10.78,
         "v_ma5": 746428.25,
         "v_ma10": 746428.25,
         "v_ma20": 746428.25,
         "turnover": 1.83,
         "_deepnote_index_column": "2019-06-03"
        }
       ]
      },
      "text/plain": "             open   high  close    low     volume  price_change  p_change  \\\ndate                                                                        \n2021-11-30  35.01  35.67  35.03  34.68  592420.81         -0.08     -0.23   \n2021-11-29  34.99  35.90  35.11  34.80  872174.88         -1.07     -2.96   \n2021-11-26  36.50  36.50  36.18  35.91  518692.81         -0.51     -1.39   \n2021-11-25  36.99  37.49  36.69  36.29  471191.06         -0.31     -0.84   \n2021-11-24  37.56  38.09  37.00  36.94  559166.38         -0.64     -1.70   \n...           ...    ...    ...    ...        ...           ...       ...   \n2019-06-10  10.30  10.36  10.12   9.93  612888.94         -0.16     -1.56   \n2019-06-06  10.66  10.69  10.28  10.21  511136.16         -0.30     -2.84   \n2019-06-05  10.59  10.83  10.58  10.50  730204.50          0.21      2.02   \n2019-06-04  10.83  10.88  10.37  10.18  802613.75         -0.41     -3.80   \n2019-06-03  10.75  10.95  10.78  10.52  746428.25          0.06      0.56   \n\n               ma5    ma10    ma20      v_ma5     v_ma10     v_ma20  turnover  \ndate                                                                           \n2021-11-30  36.002  36.244  36.027  602729.19  608677.31  741294.42      1.45  \n2021-11-29  36.524  36.336  35.994  603829.63  616707.06  776961.84      2.14  \n2021-11-26  37.112  36.548  35.925  637677.11  590817.34  778122.66      1.27  \n2021-11-25  37.018  36.648  35.796  621288.53  606151.56  810776.57      1.16  \n2021-11-24  36.700  36.651  35.579  635083.36  663473.71  813570.34      1.37  \n...            ...     ...     ...        ...        ...        ...       ...  \n2019-06-10  10.426  10.426  10.426  680654.32  680654.32  680654.32      1.50  \n2019-06-06  10.503  10.503  10.503  697595.67  697595.67  697595.67      1.25  \n2019-06-05  10.577  10.577  10.577  759748.83  759748.83  759748.83      1.79  \n2019-06-04  10.575  10.575  10.575  774521.00  774521.00  774521.00      1.97  \n2019-06-03  10.780  10.780  10.780  746428.25  746428.25  746428.25      1.83  \n\n[608 rows x 14 columns]",
      "text/html": "<div>\n<style scoped>\n    .dataframe tbody tr th:only-of-type {\n        vertical-align: middle;\n    }\n\n    .dataframe tbody tr th {\n        vertical-align: top;\n    }\n\n    .dataframe thead th {\n        text-align: right;\n    }\n</style>\n<table border=\"1\" class=\"dataframe\">\n  <thead>\n    <tr style=\"text-align: right;\">\n      <th></th>\n      <th>open</th>\n      <th>high</th>\n      <th>close</th>\n      <th>low</th>\n      <th>volume</th>\n      <th>price_change</th>\n      <th>p_change</th>\n      <th>ma5</th>\n      <th>ma10</th>\n      <th>ma20</th>\n      <th>v_ma5</th>\n      <th>v_ma10</th>\n      <th>v_ma20</th>\n      <th>turnover</th>\n    </tr>\n    <tr>\n      <th>date</th>\n      <th></th>\n      <th></th>\n      <th></th>\n      <th></th>\n      <th></th>\n      <th></th>\n      <th></th>\n      <th></th>\n      <th></th>\n      <th></th>\n      <th></th>\n      <th></th>\n      <th></th>\n      <th></th>\n    </tr>\n  </thead>\n  <tbody>\n    <tr>\n      <th>2021-11-30</th>\n      <td>35.01</td>\n      <td>35.67</td>\n      <td>35.03</td>\n      <td>34.68</td>\n      <td>592420.81</td>\n      <td>-0.08</td>\n      <td>-0.23</td>\n      <td>36.002</td>\n      <td>36.244</td>\n      <td>36.027</td>\n      <td>602729.19</td>\n      <td>608677.31</td>\n      <td>741294.42</td>\n      <td>1.45</td>\n    </tr>\n    <tr>\n      <th>2021-11-29</th>\n      <td>34.99</td>\n      <td>35.90</td>\n      <td>35.11</td>\n      <td>34.80</td>\n      <td>872174.88</td>\n      <td>-1.07</td>\n      <td>-2.96</td>\n      <td>36.524</td>\n      <td>36.336</td>\n      <td>35.994</td>\n      <td>603829.63</td>\n      <td>616707.06</td>\n      <td>776961.84</td>\n      <td>2.14</td>\n    </tr>\n    <tr>\n      <th>2021-11-26</th>\n      <td>36.50</td>\n      <td>36.50</td>\n      <td>36.18</td>\n      <td>35.91</td>\n      <td>518692.81</td>\n      <td>-0.51</td>\n      <td>-1.39</td>\n      <td>37.112</td>\n      <td>36.548</td>\n      <td>35.925</td>\n      <td>637677.11</td>\n      <td>590817.34</td>\n      <td>778122.66</td>\n      <td>1.27</td>\n    </tr>\n    <tr>\n      <th>2021-11-25</th>\n      <td>36.99</td>\n      <td>37.49</td>\n      <td>36.69</td>\n      <td>36.29</td>\n      <td>471191.06</td>\n      <td>-0.31</td>\n      <td>-0.84</td>\n      <td>37.018</td>\n      <td>36.648</td>\n      <td>35.796</td>\n      <td>621288.53</td>\n      <td>606151.56</td>\n      <td>810776.57</td>\n      <td>1.16</td>\n    </tr>\n    <tr>\n      <th>2021-11-24</th>\n      <td>37.56</td>\n      <td>38.09</td>\n      <td>37.00</td>\n      <td>36.94</td>\n      <td>559166.38</td>\n      <td>-0.64</td>\n      <td>-1.70</td>\n      <td>36.700</td>\n      <td>36.651</td>\n      <td>35.579</td>\n      <td>635083.36</td>\n      <td>663473.71</td>\n      <td>813570.34</td>\n      <td>1.37</td>\n    </tr>\n    <tr>\n      <th>...</th>\n      <td>...</td>\n      <td>...</td>\n      <td>...</td>\n      <td>...</td>\n      <td>...</td>\n      <td>...</td>\n      <td>...</td>\n      <td>...</td>\n      <td>...</td>\n      <td>...</td>\n      <td>...</td>\n      <td>...</td>\n      <td>...</td>\n      <td>...</td>\n    </tr>\n    <tr>\n      <th>2019-06-10</th>\n      <td>10.30</td>\n      <td>10.36</td>\n      <td>10.12</td>\n      <td>9.93</td>\n      <td>612888.94</td>\n      <td>-0.16</td>\n      <td>-1.56</td>\n      <td>10.426</td>\n      <td>10.426</td>\n      <td>10.426</td>\n      <td>680654.32</td>\n      <td>680654.32</td>\n      <td>680654.32</td>\n      <td>1.50</td>\n    </tr>\n    <tr>\n      <th>2019-06-06</th>\n      <td>10.66</td>\n      <td>10.69</td>\n      <td>10.28</td>\n      <td>10.21</td>\n      <td>511136.16</td>\n      <td>-0.30</td>\n      <td>-2.84</td>\n      <td>10.503</td>\n      <td>10.503</td>\n      <td>10.503</td>\n      <td>697595.67</td>\n      <td>697595.67</td>\n      <td>697595.67</td>\n      <td>1.25</td>\n    </tr>\n    <tr>\n      <th>2019-06-05</th>\n      <td>10.59</td>\n      <td>10.83</td>\n      <td>10.58</td>\n      <td>10.50</td>\n      <td>730204.50</td>\n      <td>0.21</td>\n      <td>2.02</td>\n      <td>10.577</td>\n      <td>10.577</td>\n      <td>10.577</td>\n      <td>759748.83</td>\n      <td>759748.83</td>\n      <td>759748.83</td>\n      <td>1.79</td>\n    </tr>\n    <tr>\n      <th>2019-06-04</th>\n      <td>10.83</td>\n      <td>10.88</td>\n      <td>10.37</td>\n      <td>10.18</td>\n      <td>802613.75</td>\n      <td>-0.41</td>\n      <td>-3.80</td>\n      <td>10.575</td>\n      <td>10.575</td>\n      <td>10.575</td>\n      <td>774521.00</td>\n      <td>774521.00</td>\n      <td>774521.00</td>\n      <td>1.97</td>\n    </tr>\n    <tr>\n      <th>2019-06-03</th>\n      <td>10.75</td>\n      <td>10.95</td>\n      <td>10.78</td>\n      <td>10.52</td>\n      <td>746428.25</td>\n      <td>0.06</td>\n      <td>0.56</td>\n      <td>10.780</td>\n      <td>10.780</td>\n      <td>10.780</td>\n      <td>746428.25</td>\n      <td>746428.25</td>\n      <td>746428.25</td>\n      <td>1.83</td>\n    </tr>\n  </tbody>\n</table>\n<p>608 rows × 14 columns</p>\n</div>"
     },
     "metadata": {}
    }
   ]
  },
  {
   "cell_type": "markdown",
   "source": "# Tushare Pro             Tushare大数据社区 (waditu.com)",
   "metadata": {
    "tags": [],
    "is_collapsed": false,
    "cell_id": "00009-ac7041eb-6fe2-4cb8-b6b7-21b0fb55bad0",
    "deepnote_cell_type": "text-cell-h1"
   }
  },
  {
   "cell_type": "markdown",
   "source": "38518eae851c985a87aa631b348ea933bacadaf25256a14d846cd34b",
   "metadata": {
    "tags": [],
    "is_collapsed": false,
    "cell_id": "00010-3a500392-3c69-4c05-9ce6-a4c00f7f5955",
    "deepnote_cell_type": "text-cell-p"
   }
  },
  {
   "cell_type": "code",
   "metadata": {
    "tags": [],
    "cell_id": "00011-00da95e5-f189-4d6a-93c1-1d3bbfb88c8d",
    "deepnote_to_be_reexecuted": false,
    "source_hash": "2cf6c7e1",
    "execution_start": 1638342494033,
    "execution_millis": 1269,
    "deepnote_cell_type": "code",
    "deepnote_cell_height": 551.1875,
    "deepnote_output_heights": [
     382.1875
    ]
   },
   "source": "import tushare as ts\nts.set_token('38518eae851c985a87aa631b348ea933bacadaf25256a14d846cd34b')\npro = ts.pro_api()\ndata = pro.stock_basic(exchange='', list_status='L', fields='ts_code,symbol,name,area,industry,list_date')\ndata",
   "execution_count": null,
   "outputs": [
    {
     "output_type": "execute_result",
     "execution_count": 15,
     "data": {
      "application/vnd.deepnote.dataframe.v2+json": {
       "row_count": 4640,
       "column_count": 6,
       "columns": [
        {
         "name": "ts_code",
         "dtype": "object",
         "stats": {
          "unique_count": 4640,
          "nan_count": 0,
          "categories": [
           {
            "name": "000001.SZ",
            "count": 1
           },
           {
            "name": "000002.SZ",
            "count": 1
           },
           {
            "name": "4638 others",
            "count": 4638
           }
          ]
         }
        },
        {
         "name": "symbol",
         "dtype": "object",
         "stats": {
          "unique_count": 4640,
          "nan_count": 0,
          "categories": [
           {
            "name": "000001",
            "count": 1
           },
           {
            "name": "000002",
            "count": 1
           },
           {
            "name": "4638 others",
            "count": 4638
           }
          ]
         }
        },
        {
         "name": "name",
         "dtype": "object",
         "stats": {
          "unique_count": 4640,
          "nan_count": 0,
          "categories": [
           {
            "name": "平安银行",
            "count": 1
           },
           {
            "name": "万科A",
            "count": 1
           },
           {
            "name": "4638 others",
            "count": 4638
           }
          ]
         }
        },
        {
         "name": "area",
         "dtype": "object",
         "stats": {
          "unique_count": 32,
          "nan_count": 82,
          "categories": [
           {
            "name": "浙江",
            "count": 594
           },
           {
            "name": "31 others",
            "count": 3964
           },
           {
            "name": "Missing",
            "count": 82
           }
          ]
         }
        },
        {
         "name": "industry",
         "dtype": "object",
         "stats": {
          "unique_count": 110,
          "nan_count": 82,
          "categories": [
           {
            "name": "电气设备",
            "count": 244
           },
           {
            "name": "109 others",
            "count": 4314
           },
           {
            "name": "Missing",
            "count": 82
           }
          ]
         }
        },
        {
         "name": "list_date",
         "dtype": "object",
         "stats": {
          "unique_count": 2331,
          "nan_count": 0,
          "categories": [
           {
            "name": "20200727",
            "count": 34
           },
           {
            "name": "20091030",
            "count": 27
           },
           {
            "name": "2329 others",
            "count": 4579
           }
          ]
         }
        },
        {
         "name": "_deepnote_index_column",
         "dtype": "int64"
        }
       ],
       "rows_top": [
        {
         "ts_code": "000001.SZ",
         "symbol": "000001",
         "name": "平安银行",
         "area": "深圳",
         "industry": "银行",
         "list_date": "19910403",
         "_deepnote_index_column": 0
        },
        {
         "ts_code": "000002.SZ",
         "symbol": "000002",
         "name": "万科A",
         "area": "深圳",
         "industry": "全国地产",
         "list_date": "19910129",
         "_deepnote_index_column": 1
        },
        {
         "ts_code": "000004.SZ",
         "symbol": "000004",
         "name": "国华网安",
         "area": "深圳",
         "industry": "软件服务",
         "list_date": "19910114",
         "_deepnote_index_column": 2
        },
        {
         "ts_code": "000005.SZ",
         "symbol": "000005",
         "name": "ST星源",
         "area": "深圳",
         "industry": "环境保护",
         "list_date": "19901210",
         "_deepnote_index_column": 3
        },
        {
         "ts_code": "000006.SZ",
         "symbol": "000006",
         "name": "深振业A",
         "area": "深圳",
         "industry": "区域地产",
         "list_date": "19920427",
         "_deepnote_index_column": 4
        },
        {
         "ts_code": "000007.SZ",
         "symbol": "000007",
         "name": "*ST全新",
         "area": "深圳",
         "industry": "酒店餐饮",
         "list_date": "19920413",
         "_deepnote_index_column": 5
        },
        {
         "ts_code": "000008.SZ",
         "symbol": "000008",
         "name": "神州高铁",
         "area": "北京",
         "industry": "运输设备",
         "list_date": "19920507",
         "_deepnote_index_column": 6
        },
        {
         "ts_code": "000009.SZ",
         "symbol": "000009",
         "name": "中国宝安",
         "area": "深圳",
         "industry": "电气设备",
         "list_date": "19910625",
         "_deepnote_index_column": 7
        },
        {
         "ts_code": "000010.SZ",
         "symbol": "000010",
         "name": "美丽生态",
         "area": "深圳",
         "industry": "建筑工程",
         "list_date": "19951027",
         "_deepnote_index_column": 8
        },
        {
         "ts_code": "000011.SZ",
         "symbol": "000011",
         "name": "深物业A",
         "area": "深圳",
         "industry": "区域地产",
         "list_date": "19920330",
         "_deepnote_index_column": 9
        },
        {
         "ts_code": "000012.SZ",
         "symbol": "000012",
         "name": "南玻A",
         "area": "深圳",
         "industry": "玻璃",
         "list_date": "19920228",
         "_deepnote_index_column": 10
        },
        {
         "ts_code": "000014.SZ",
         "symbol": "000014",
         "name": "沙河股份",
         "area": "深圳",
         "industry": "全国地产",
         "list_date": "19920602",
         "_deepnote_index_column": 11
        },
        {
         "ts_code": "000016.SZ",
         "symbol": "000016",
         "name": "深康佳A",
         "area": "深圳",
         "industry": "家用电器",
         "list_date": "19920327",
         "_deepnote_index_column": 12
        },
        {
         "ts_code": "000017.SZ",
         "symbol": "000017",
         "name": "深中华A",
         "area": "深圳",
         "industry": "文教休闲",
         "list_date": "19920331",
         "_deepnote_index_column": 13
        },
        {
         "ts_code": "000019.SZ",
         "symbol": "000019",
         "name": "深粮控股",
         "area": "深圳",
         "industry": "其他商业",
         "list_date": "19921012",
         "_deepnote_index_column": 14
        },
        {
         "ts_code": "000020.SZ",
         "symbol": "000020",
         "name": "深华发A",
         "area": "深圳",
         "industry": "元器件",
         "list_date": "19920428",
         "_deepnote_index_column": 15
        },
        {
         "ts_code": "000021.SZ",
         "symbol": "000021",
         "name": "深科技",
         "area": "深圳",
         "industry": "IT设备",
         "list_date": "19940202",
         "_deepnote_index_column": 16
        },
        {
         "ts_code": "000023.SZ",
         "symbol": "000023",
         "name": "深天地A",
         "area": "深圳",
         "industry": "水泥",
         "list_date": "19930429",
         "_deepnote_index_column": 17
        },
        {
         "ts_code": "000025.SZ",
         "symbol": "000025",
         "name": "特力A",
         "area": "深圳",
         "industry": "汽车服务",
         "list_date": "19930621",
         "_deepnote_index_column": 18
        },
        {
         "ts_code": "000026.SZ",
         "symbol": "000026",
         "name": "飞亚达",
         "area": "深圳",
         "industry": "其他商业",
         "list_date": "19930603",
         "_deepnote_index_column": 19
        },
        {
         "ts_code": "000027.SZ",
         "symbol": "000027",
         "name": "深圳能源",
         "area": "深圳",
         "industry": "火力发电",
         "list_date": "19930903",
         "_deepnote_index_column": 20
        },
        {
         "ts_code": "000028.SZ",
         "symbol": "000028",
         "name": "国药一致",
         "area": "深圳",
         "industry": "医药商业",
         "list_date": "19930809",
         "_deepnote_index_column": 21
        },
        {
         "ts_code": "000029.SZ",
         "symbol": "000029",
         "name": "深深房A",
         "area": "深圳",
         "industry": "区域地产",
         "list_date": "19930915",
         "_deepnote_index_column": 22
        },
        {
         "ts_code": "000030.SZ",
         "symbol": "000030",
         "name": "富奥股份",
         "area": "吉林",
         "industry": "汽车配件",
         "list_date": "19930929",
         "_deepnote_index_column": 23
        },
        {
         "ts_code": "000031.SZ",
         "symbol": "000031",
         "name": "大悦城",
         "area": "深圳",
         "industry": "全国地产",
         "list_date": "19931008",
         "_deepnote_index_column": 24
        },
        {
         "ts_code": "000032.SZ",
         "symbol": "000032",
         "name": "深桑达A",
         "area": "深圳",
         "industry": "元器件",
         "list_date": "19931028",
         "_deepnote_index_column": 25
        },
        {
         "ts_code": "000034.SZ",
         "symbol": "000034",
         "name": "神州数码",
         "area": "深圳",
         "industry": "综合类",
         "list_date": "19940509",
         "_deepnote_index_column": 26
        },
        {
         "ts_code": "000035.SZ",
         "symbol": "000035",
         "name": "中国天楹",
         "area": "江苏",
         "industry": "环境保护",
         "list_date": "19940408",
         "_deepnote_index_column": 27
        },
        {
         "ts_code": "000036.SZ",
         "symbol": "000036",
         "name": "华联控股",
         "area": "深圳",
         "industry": "全国地产",
         "list_date": "19940617",
         "_deepnote_index_column": 28
        },
        {
         "ts_code": "000037.SZ",
         "symbol": "000037",
         "name": "深南电A",
         "area": "深圳",
         "industry": "火力发电",
         "list_date": "19940701",
         "_deepnote_index_column": 29
        },
        {
         "ts_code": "000038.SZ",
         "symbol": "000038",
         "name": "深大通",
         "area": "深圳",
         "industry": "综合类",
         "list_date": "19940808",
         "_deepnote_index_column": 30
        },
        {
         "ts_code": "000039.SZ",
         "symbol": "000039",
         "name": "中集集团",
         "area": "深圳",
         "industry": "轻工机械",
         "list_date": "19940408",
         "_deepnote_index_column": 31
        },
        {
         "ts_code": "000040.SZ",
         "symbol": "000040",
         "name": "东旭蓝天",
         "area": "深圳",
         "industry": "新型电力",
         "list_date": "19940808",
         "_deepnote_index_column": 32
        },
        {
         "ts_code": "000042.SZ",
         "symbol": "000042",
         "name": "中洲控股",
         "area": "深圳",
         "industry": "全国地产",
         "list_date": "19940921",
         "_deepnote_index_column": 33
        },
        {
         "ts_code": "000045.SZ",
         "symbol": "000045",
         "name": "深纺织A",
         "area": "深圳",
         "industry": "元器件",
         "list_date": "19940815",
         "_deepnote_index_column": 34
        },
        {
         "ts_code": "000046.SZ",
         "symbol": "000046",
         "name": "泛海控股",
         "area": "北京",
         "industry": "多元金融",
         "list_date": "19940912",
         "_deepnote_index_column": 35
        },
        {
         "ts_code": "000048.SZ",
         "symbol": "000048",
         "name": "京基智农",
         "area": "深圳",
         "industry": "饲料",
         "list_date": "19941101",
         "_deepnote_index_column": 36
        },
        {
         "ts_code": "000049.SZ",
         "symbol": "000049",
         "name": "德赛电池",
         "area": "深圳",
         "industry": "电气设备",
         "list_date": "19950320",
         "_deepnote_index_column": 37
        },
        {
         "ts_code": "000050.SZ",
         "symbol": "000050",
         "name": "深天马A",
         "area": "深圳",
         "industry": "元器件",
         "list_date": "19950315",
         "_deepnote_index_column": 38
        },
        {
         "ts_code": "000055.SZ",
         "symbol": "000055",
         "name": "方大集团",
         "area": "深圳",
         "industry": "其他建材",
         "list_date": "19960415",
         "_deepnote_index_column": 39
        },
        {
         "ts_code": "000056.SZ",
         "symbol": "000056",
         "name": "皇庭国际",
         "area": "深圳",
         "industry": "房产服务",
         "list_date": "19960708",
         "_deepnote_index_column": 40
        },
        {
         "ts_code": "000058.SZ",
         "symbol": "000058",
         "name": "深赛格",
         "area": "深圳",
         "industry": "商品城",
         "list_date": "19961226",
         "_deepnote_index_column": 41
        },
        {
         "ts_code": "000059.SZ",
         "symbol": "000059",
         "name": "华锦股份",
         "area": "辽宁",
         "industry": "石油加工",
         "list_date": "19970130",
         "_deepnote_index_column": 42
        },
        {
         "ts_code": "000060.SZ",
         "symbol": "000060",
         "name": "中金岭南",
         "area": "深圳",
         "industry": "铅锌",
         "list_date": "19970123",
         "_deepnote_index_column": 43
        },
        {
         "ts_code": "000061.SZ",
         "symbol": "000061",
         "name": "农产品",
         "area": "深圳",
         "industry": "农业综合",
         "list_date": "19970110",
         "_deepnote_index_column": 44
        },
        {
         "ts_code": "000062.SZ",
         "symbol": "000062",
         "name": "深圳华强",
         "area": "深圳",
         "industry": "批发业",
         "list_date": "19970130",
         "_deepnote_index_column": 45
        },
        {
         "ts_code": "000063.SZ",
         "symbol": "000063",
         "name": "中兴通讯",
         "area": "深圳",
         "industry": "通信设备",
         "list_date": "19971118",
         "_deepnote_index_column": 46
        },
        {
         "ts_code": "000065.SZ",
         "symbol": "000065",
         "name": "北方国际",
         "area": "北京",
         "industry": "建筑工程",
         "list_date": "19980605",
         "_deepnote_index_column": 47
        },
        {
         "ts_code": "000066.SZ",
         "symbol": "000066",
         "name": "中国长城",
         "area": "深圳",
         "industry": "IT设备",
         "list_date": "19970626",
         "_deepnote_index_column": 48
        },
        {
         "ts_code": "000068.SZ",
         "symbol": "000068",
         "name": "华控赛格",
         "area": "深圳",
         "industry": "环境保护",
         "list_date": "19970611",
         "_deepnote_index_column": 49
        },
        {
         "ts_code": "000069.SZ",
         "symbol": "000069",
         "name": "华侨城A",
         "area": "深圳",
         "industry": "旅游景点",
         "list_date": "19970910",
         "_deepnote_index_column": 50
        },
        {
         "ts_code": "000070.SZ",
         "symbol": "000070",
         "name": "特发信息",
         "area": "深圳",
         "industry": "通信设备",
         "list_date": "20000511",
         "_deepnote_index_column": 51
        },
        {
         "ts_code": "000078.SZ",
         "symbol": "000078",
         "name": "海王生物",
         "area": "深圳",
         "industry": "医药商业",
         "list_date": "19981218",
         "_deepnote_index_column": 52
        },
        {
         "ts_code": "000088.SZ",
         "symbol": "000088",
         "name": "盐田港",
         "area": "深圳",
         "industry": "港口",
         "list_date": "19970728",
         "_deepnote_index_column": 53
        },
        {
         "ts_code": "000089.SZ",
         "symbol": "000089",
         "name": "深圳机场",
         "area": "深圳",
         "industry": "机场",
         "list_date": "19980420",
         "_deepnote_index_column": 54
        },
        {
         "ts_code": "000090.SZ",
         "symbol": "000090",
         "name": "天健集团",
         "area": "深圳",
         "industry": "建筑工程",
         "list_date": "19990721",
         "_deepnote_index_column": 55
        },
        {
         "ts_code": "000096.SZ",
         "symbol": "000096",
         "name": "广聚能源",
         "area": "深圳",
         "industry": "石油贸易",
         "list_date": "20000724",
         "_deepnote_index_column": 56
        },
        {
         "ts_code": "000099.SZ",
         "symbol": "000099",
         "name": "中信海直",
         "area": "深圳",
         "industry": "空运",
         "list_date": "20000731",
         "_deepnote_index_column": 57
        },
        {
         "ts_code": "000100.SZ",
         "symbol": "000100",
         "name": "TCL科技",
         "area": "广东",
         "industry": "元器件",
         "list_date": "20040130",
         "_deepnote_index_column": 58
        },
        {
         "ts_code": "000150.SZ",
         "symbol": "000150",
         "name": "宜华健康",
         "area": "广东",
         "industry": "医疗保健",
         "list_date": "20000807",
         "_deepnote_index_column": 59
        },
        {
         "ts_code": "000151.SZ",
         "symbol": "000151",
         "name": "中成股份",
         "area": "北京",
         "industry": "商贸代理",
         "list_date": "20000906",
         "_deepnote_index_column": 60
        },
        {
         "ts_code": "000153.SZ",
         "symbol": "000153",
         "name": "丰原药业",
         "area": "安徽",
         "industry": "化学制药",
         "list_date": "20000920",
         "_deepnote_index_column": 61
        },
        {
         "ts_code": "000155.SZ",
         "symbol": "000155",
         "name": "川能动力",
         "area": "四川",
         "industry": "新型电力",
         "list_date": "20000926",
         "_deepnote_index_column": 62
        },
        {
         "ts_code": "000156.SZ",
         "symbol": "000156",
         "name": "华数传媒",
         "area": "浙江",
         "industry": "影视音像",
         "list_date": "20000906",
         "_deepnote_index_column": 63
        },
        {
         "ts_code": "000157.SZ",
         "symbol": "000157",
         "name": "中联重科",
         "area": "湖南",
         "industry": "工程机械",
         "list_date": "20001012",
         "_deepnote_index_column": 64
        },
        {
         "ts_code": "000158.SZ",
         "symbol": "000158",
         "name": "常山北明",
         "area": "河北",
         "industry": "软件服务",
         "list_date": "20000724",
         "_deepnote_index_column": 65
        },
        {
         "ts_code": "000159.SZ",
         "symbol": "000159",
         "name": "国际实业",
         "area": "新疆",
         "industry": "石油贸易",
         "list_date": "20000926",
         "_deepnote_index_column": 66
        },
        {
         "ts_code": "000166.SZ",
         "symbol": "000166",
         "name": "申万宏源",
         "area": "新疆",
         "industry": "证券",
         "list_date": "20150126",
         "_deepnote_index_column": 67
        },
        {
         "ts_code": "000301.SZ",
         "symbol": "000301",
         "name": "东方盛虹",
         "area": "江苏",
         "industry": "化纤",
         "list_date": "20000529",
         "_deepnote_index_column": 68
        },
        {
         "ts_code": "000333.SZ",
         "symbol": "000333",
         "name": "美的集团",
         "area": "广东",
         "industry": "家用电器",
         "list_date": "20130918",
         "_deepnote_index_column": 69
        },
        {
         "ts_code": "000338.SZ",
         "symbol": "000338",
         "name": "潍柴动力",
         "area": "山东",
         "industry": "汽车配件",
         "list_date": "20070430",
         "_deepnote_index_column": 70
        },
        {
         "ts_code": "000400.SZ",
         "symbol": "000400",
         "name": "许继电气",
         "area": "河南",
         "industry": "电气设备",
         "list_date": "19970418",
         "_deepnote_index_column": 71
        },
        {
         "ts_code": "000401.SZ",
         "symbol": "000401",
         "name": "冀东水泥",
         "area": "河北",
         "industry": "水泥",
         "list_date": "19960614",
         "_deepnote_index_column": 72
        },
        {
         "ts_code": "000402.SZ",
         "symbol": "000402",
         "name": "金融街",
         "area": "北京",
         "industry": "全国地产",
         "list_date": "19960626",
         "_deepnote_index_column": 73
        },
        {
         "ts_code": "000403.SZ",
         "symbol": "000403",
         "name": "派林生物",
         "area": "山西",
         "industry": "生物制药",
         "list_date": "19960628",
         "_deepnote_index_column": 74
        },
        {
         "ts_code": "000404.SZ",
         "symbol": "000404",
         "name": "长虹华意",
         "area": "江西",
         "industry": "家用电器",
         "list_date": "19960619",
         "_deepnote_index_column": 75
        },
        {
         "ts_code": "000407.SZ",
         "symbol": "000407",
         "name": "胜利股份",
         "area": "山东",
         "industry": "供气供热",
         "list_date": "19960703",
         "_deepnote_index_column": 76
        },
        {
         "ts_code": "000408.SZ",
         "symbol": "000408",
         "name": "藏格控股",
         "area": "青海",
         "industry": "农药化肥",
         "list_date": "19960628",
         "_deepnote_index_column": 77
        },
        {
         "ts_code": "000409.SZ",
         "symbol": "000409",
         "name": "云鼎科技",
         "area": "山东",
         "industry": "软件服务",
         "list_date": "19960627",
         "_deepnote_index_column": 78
        },
        {
         "ts_code": "000410.SZ",
         "symbol": "000410",
         "name": "ST沈机",
         "area": "辽宁",
         "industry": "机床制造",
         "list_date": "19960718",
         "_deepnote_index_column": 79
        },
        {
         "ts_code": "000411.SZ",
         "symbol": "000411",
         "name": "英特集团",
         "area": "浙江",
         "industry": "医药商业",
         "list_date": "19960716",
         "_deepnote_index_column": 80
        },
        {
         "ts_code": "000413.SZ",
         "symbol": "000413",
         "name": "东旭光电",
         "area": "河北",
         "industry": "元器件",
         "list_date": "19960925",
         "_deepnote_index_column": 81
        },
        {
         "ts_code": "000415.SZ",
         "symbol": "000415",
         "name": "渤海租赁",
         "area": "新疆",
         "industry": "多元金融",
         "list_date": "19960716",
         "_deepnote_index_column": 82
        }
       ],
       "rows_bottom": [
        {
         "ts_code": "688793.SH",
         "symbol": "688793",
         "name": "倍轻松",
         "area": "深圳",
         "industry": "家居用品",
         "list_date": "20210715",
         "_deepnote_index_column": 4557
        },
        {
         "ts_code": "688798.SH",
         "symbol": "688798",
         "name": "艾为电子",
         "area": "上海",
         "industry": "半导体",
         "list_date": "20210816",
         "_deepnote_index_column": 4558
        },
        {
         "ts_code": "688799.SH",
         "symbol": "688799",
         "name": "华纳药厂",
         "area": "湖南",
         "industry": "化学制药",
         "list_date": "20210713",
         "_deepnote_index_column": 4559
        },
        {
         "ts_code": "688800.SH",
         "symbol": "688800",
         "name": "瑞可达",
         "area": "江苏",
         "industry": "元器件",
         "list_date": "20210722",
         "_deepnote_index_column": 4560
        },
        {
         "ts_code": "688819.SH",
         "symbol": "688819",
         "name": "天能股份",
         "area": "浙江",
         "industry": "电气设备",
         "list_date": "20210118",
         "_deepnote_index_column": 4561
        },
        {
         "ts_code": "688981.SH",
         "symbol": "688981",
         "name": "中芯国际",
         "area": "上海",
         "industry": "半导体",
         "list_date": "20200716",
         "_deepnote_index_column": 4562
        },
        {
         "ts_code": "830799.BJ",
         "symbol": "830799",
         "name": "艾融软件",
         "area": "None",
         "industry": "None",
         "list_date": "20200727",
         "_deepnote_index_column": 4563
        },
        {
         "ts_code": "830832.BJ",
         "symbol": "830832",
         "name": "齐鲁华信",
         "area": "None",
         "industry": "None",
         "list_date": "20210223",
         "_deepnote_index_column": 4564
        },
        {
         "ts_code": "830839.BJ",
         "symbol": "830839",
         "name": "万通液压",
         "area": "None",
         "industry": "None",
         "list_date": "20201109",
         "_deepnote_index_column": 4565
        },
        {
         "ts_code": "830946.BJ",
         "symbol": "830946",
         "name": "森萱医药",
         "area": "None",
         "industry": "None",
         "list_date": "20200727",
         "_deepnote_index_column": 4566
        },
        {
         "ts_code": "830964.BJ",
         "symbol": "830964",
         "name": "润农节水",
         "area": "None",
         "industry": "None",
         "list_date": "20200727",
         "_deepnote_index_column": 4567
        },
        {
         "ts_code": "831010.BJ",
         "symbol": "831010",
         "name": "凯添燃气",
         "area": "None",
         "industry": "None",
         "list_date": "20200727",
         "_deepnote_index_column": 4568
        },
        {
         "ts_code": "831039.BJ",
         "symbol": "831039",
         "name": "国义招标",
         "area": "None",
         "industry": "None",
         "list_date": "20210818",
         "_deepnote_index_column": 4569
        },
        {
         "ts_code": "831305.BJ",
         "symbol": "831305",
         "name": "海希通讯",
         "area": "None",
         "industry": "None",
         "list_date": "20211105",
         "_deepnote_index_column": 4570
        },
        {
         "ts_code": "831370.BJ",
         "symbol": "831370",
         "name": "新安洁",
         "area": "None",
         "industry": "None",
         "list_date": "20200727",
         "_deepnote_index_column": 4571
        },
        {
         "ts_code": "831445.BJ",
         "symbol": "831445",
         "name": "龙竹科技",
         "area": "None",
         "industry": "None",
         "list_date": "20200727",
         "_deepnote_index_column": 4572
        },
        {
         "ts_code": "831726.BJ",
         "symbol": "831726",
         "name": "朱老六",
         "area": "None",
         "industry": "None",
         "list_date": "20210527",
         "_deepnote_index_column": 4573
        },
        {
         "ts_code": "831768.BJ",
         "symbol": "831768",
         "name": "拾比佰",
         "area": "None",
         "industry": "None",
         "list_date": "20210628",
         "_deepnote_index_column": 4574
        },
        {
         "ts_code": "831832.BJ",
         "symbol": "831832",
         "name": "科达自控",
         "area": "None",
         "industry": "None",
         "list_date": "20211115",
         "_deepnote_index_column": 4575
        },
        {
         "ts_code": "831856.BJ",
         "symbol": "831856",
         "name": "浩淼科技",
         "area": "None",
         "industry": "None",
         "list_date": "20201225",
         "_deepnote_index_column": 4576
        },
        {
         "ts_code": "831961.BJ",
         "symbol": "831961",
         "name": "创远仪器",
         "area": "None",
         "industry": "None",
         "list_date": "20200727",
         "_deepnote_index_column": 4577
        },
        {
         "ts_code": "832000.BJ",
         "symbol": "832000",
         "name": "安徽凤凰",
         "area": "None",
         "industry": "None",
         "list_date": "20201223",
         "_deepnote_index_column": 4578
        },
        {
         "ts_code": "832089.BJ",
         "symbol": "832089",
         "name": "禾昌聚合",
         "area": "None",
         "industry": "None",
         "list_date": "20211109",
         "_deepnote_index_column": 4579
        },
        {
         "ts_code": "832145.BJ",
         "symbol": "832145",
         "name": "恒合股份",
         "area": "None",
         "industry": "None",
         "list_date": "20211115",
         "_deepnote_index_column": 4580
        },
        {
         "ts_code": "832171.BJ",
         "symbol": "832171",
         "name": "志晟信息",
         "area": "None",
         "industry": "None",
         "list_date": "20211115",
         "_deepnote_index_column": 4581
        },
        {
         "ts_code": "832225.BJ",
         "symbol": "832225",
         "name": "利通科技",
         "area": "None",
         "industry": "None",
         "list_date": "20210225",
         "_deepnote_index_column": 4582
        },
        {
         "ts_code": "832278.BJ",
         "symbol": "832278",
         "name": "鹿得医疗",
         "area": "None",
         "industry": "None",
         "list_date": "20200727",
         "_deepnote_index_column": 4583
        },
        {
         "ts_code": "832317.BJ",
         "symbol": "832317",
         "name": "观典防务",
         "area": "None",
         "industry": "None",
         "list_date": "20200727",
         "_deepnote_index_column": 4584
        },
        {
         "ts_code": "832566.BJ",
         "symbol": "832566",
         "name": "梓橦宫",
         "area": "None",
         "industry": "None",
         "list_date": "20210813",
         "_deepnote_index_column": 4585
        },
        {
         "ts_code": "832735.BJ",
         "symbol": "832735",
         "name": "德源药业",
         "area": "None",
         "industry": "None",
         "list_date": "20210219",
         "_deepnote_index_column": 4586
        },
        {
         "ts_code": "832885.BJ",
         "symbol": "832885",
         "name": "星辰科技",
         "area": "None",
         "industry": "None",
         "list_date": "20210708",
         "_deepnote_index_column": 4587
        },
        {
         "ts_code": "833266.BJ",
         "symbol": "833266",
         "name": "生物谷",
         "area": "None",
         "industry": "None",
         "list_date": "20200727",
         "_deepnote_index_column": 4588
        },
        {
         "ts_code": "833427.BJ",
         "symbol": "833427",
         "name": "华维设计",
         "area": "None",
         "industry": "None",
         "list_date": "20210205",
         "_deepnote_index_column": 4589
        },
        {
         "ts_code": "833454.BJ",
         "symbol": "833454",
         "name": "同心传动",
         "area": "None",
         "industry": "None",
         "list_date": "20211115",
         "_deepnote_index_column": 4590
        },
        {
         "ts_code": "833509.BJ",
         "symbol": "833509",
         "name": "同惠电子",
         "area": "None",
         "industry": "None",
         "list_date": "20210111",
         "_deepnote_index_column": 4591
        },
        {
         "ts_code": "833523.BJ",
         "symbol": "833523",
         "name": "德瑞锂电",
         "area": "None",
         "industry": "None",
         "list_date": "20210603",
         "_deepnote_index_column": 4592
        },
        {
         "ts_code": "833819.BJ",
         "symbol": "833819",
         "name": "颖泰生物",
         "area": "None",
         "industry": "None",
         "list_date": "20200727",
         "_deepnote_index_column": 4593
        },
        {
         "ts_code": "833873.BJ",
         "symbol": "833873",
         "name": "中设咨询",
         "area": "None",
         "industry": "None",
         "list_date": "20211115",
         "_deepnote_index_column": 4594
        },
        {
         "ts_code": "833874.BJ",
         "symbol": "833874",
         "name": "泰祥股份",
         "area": "None",
         "industry": "None",
         "list_date": "20200727",
         "_deepnote_index_column": 4595
        },
        {
         "ts_code": "833994.BJ",
         "symbol": "833994",
         "name": "翰博高新",
         "area": "None",
         "industry": "None",
         "list_date": "20200727",
         "_deepnote_index_column": 4596
        },
        {
         "ts_code": "834021.BJ",
         "symbol": "834021",
         "name": "流金岁月",
         "area": "None",
         "industry": "None",
         "list_date": "20200727",
         "_deepnote_index_column": 4597
        },
        {
         "ts_code": "834415.BJ",
         "symbol": "834415",
         "name": "恒拓开源",
         "area": "None",
         "industry": "None",
         "list_date": "20200727",
         "_deepnote_index_column": 4598
        },
        {
         "ts_code": "834475.BJ",
         "symbol": "834475",
         "name": "三友科技",
         "area": "None",
         "industry": "None",
         "list_date": "20200727",
         "_deepnote_index_column": 4599
        },
        {
         "ts_code": "834599.BJ",
         "symbol": "834599",
         "name": "同力股份",
         "area": "None",
         "industry": "None",
         "list_date": "20210222",
         "_deepnote_index_column": 4600
        },
        {
         "ts_code": "834682.BJ",
         "symbol": "834682",
         "name": "球冠电缆",
         "area": "None",
         "industry": "None",
         "list_date": "20200727",
         "_deepnote_index_column": 4601
        },
        {
         "ts_code": "834765.BJ",
         "symbol": "834765",
         "name": "美之高",
         "area": "None",
         "industry": "None",
         "list_date": "20210705",
         "_deepnote_index_column": 4602
        },
        {
         "ts_code": "835174.BJ",
         "symbol": "835174",
         "name": "五新隧装",
         "area": "None",
         "industry": "None",
         "list_date": "20210820",
         "_deepnote_index_column": 4603
        },
        {
         "ts_code": "835184.BJ",
         "symbol": "835184",
         "name": "国源科技",
         "area": "None",
         "industry": "None",
         "list_date": "20200727",
         "_deepnote_index_column": 4604
        },
        {
         "ts_code": "835185.BJ",
         "symbol": "835185",
         "name": "贝特瑞",
         "area": "None",
         "industry": "None",
         "list_date": "20200727",
         "_deepnote_index_column": 4605
        },
        {
         "ts_code": "835305.BJ",
         "symbol": "835305",
         "name": "云创数据",
         "area": "None",
         "industry": "None",
         "list_date": "20210826",
         "_deepnote_index_column": 4606
        },
        {
         "ts_code": "835368.BJ",
         "symbol": "835368",
         "name": "连城数控",
         "area": "None",
         "industry": "None",
         "list_date": "20200727",
         "_deepnote_index_column": 4607
        },
        {
         "ts_code": "835508.BJ",
         "symbol": "835508",
         "name": "殷图网联",
         "area": "None",
         "industry": "None",
         "list_date": "20200727",
         "_deepnote_index_column": 4608
        },
        {
         "ts_code": "835640.BJ",
         "symbol": "835640",
         "name": "富士达",
         "area": "None",
         "industry": "None",
         "list_date": "20200727",
         "_deepnote_index_column": 4609
        },
        {
         "ts_code": "835670.BJ",
         "symbol": "835670",
         "name": "数字人",
         "area": "None",
         "industry": "None",
         "list_date": "20201208",
         "_deepnote_index_column": 4610
        },
        {
         "ts_code": "836077.BJ",
         "symbol": "836077",
         "name": "吉林碳谷",
         "area": "None",
         "industry": "None",
         "list_date": "20210831",
         "_deepnote_index_column": 4611
        },
        {
         "ts_code": "836149.BJ",
         "symbol": "836149",
         "name": "旭杰科技",
         "area": "None",
         "industry": "None",
         "list_date": "20200727",
         "_deepnote_index_column": 4612
        },
        {
         "ts_code": "836239.BJ",
         "symbol": "836239",
         "name": "长虹能源",
         "area": "None",
         "industry": "None",
         "list_date": "20210209",
         "_deepnote_index_column": 4613
        },
        {
         "ts_code": "836260.BJ",
         "symbol": "836260",
         "name": "中寰股份",
         "area": "None",
         "industry": "None",
         "list_date": "20211115",
         "_deepnote_index_column": 4614
        },
        {
         "ts_code": "836263.BJ",
         "symbol": "836263",
         "name": "中航泰达",
         "area": "None",
         "industry": "None",
         "list_date": "20200727",
         "_deepnote_index_column": 4615
        },
        {
         "ts_code": "836433.BJ",
         "symbol": "836433",
         "name": "大唐药业",
         "area": "None",
         "industry": "None",
         "list_date": "20200727",
         "_deepnote_index_column": 4616
        },
        {
         "ts_code": "836675.BJ",
         "symbol": "836675",
         "name": "秉扬科技",
         "area": "None",
         "industry": "None",
         "list_date": "20201228",
         "_deepnote_index_column": 4617
        },
        {
         "ts_code": "836720.BJ",
         "symbol": "836720",
         "name": "吉冈精密",
         "area": "None",
         "industry": "None",
         "list_date": "20211124",
         "_deepnote_index_column": 4618
        },
        {
         "ts_code": "836826.BJ",
         "symbol": "836826",
         "name": "盖世食品",
         "area": "None",
         "industry": "None",
         "list_date": "20210112",
         "_deepnote_index_column": 4619
        },
        {
         "ts_code": "836892.BJ",
         "symbol": "836892",
         "name": "广咨国际",
         "area": "None",
         "industry": "None",
         "list_date": "20211028",
         "_deepnote_index_column": 4620
        },
        {
         "ts_code": "837092.BJ",
         "symbol": "837092",
         "name": "汉鑫科技",
         "area": "None",
         "industry": "None",
         "list_date": "20211115",
         "_deepnote_index_column": 4621
        },
        {
         "ts_code": "837212.BJ",
         "symbol": "837212",
         "name": "智新电子",
         "area": "None",
         "industry": "None",
         "list_date": "20210608",
         "_deepnote_index_column": 4622
        },
        {
         "ts_code": "837242.BJ",
         "symbol": "837242",
         "name": "建邦科技",
         "area": "None",
         "industry": "None",
         "list_date": "20200727",
         "_deepnote_index_column": 4623
        },
        {
         "ts_code": "837344.BJ",
         "symbol": "837344",
         "name": "三元基因",
         "area": "None",
         "industry": "None",
         "list_date": "20210108",
         "_deepnote_index_column": 4624
        },
        {
         "ts_code": "838030.BJ",
         "symbol": "838030",
         "name": "德众汽车",
         "area": "None",
         "industry": "None",
         "list_date": "20201127",
         "_deepnote_index_column": 4625
        },
        {
         "ts_code": "838163.BJ",
         "symbol": "838163",
         "name": "方大股份",
         "area": "None",
         "industry": "None",
         "list_date": "20200727",
         "_deepnote_index_column": 4626
        },
        {
         "ts_code": "838275.BJ",
         "symbol": "838275",
         "name": "驱动力",
         "area": "None",
         "industry": "None",
         "list_date": "20210125",
         "_deepnote_index_column": 4627
        },
        {
         "ts_code": "838924.BJ",
         "symbol": "838924",
         "name": "广脉科技",
         "area": "None",
         "industry": "None",
         "list_date": "20211103",
         "_deepnote_index_column": 4628
        },
        {
         "ts_code": "839167.BJ",
         "symbol": "839167",
         "name": "同享科技",
         "area": "None",
         "industry": "None",
         "list_date": "20200727",
         "_deepnote_index_column": 4629
        },
        {
         "ts_code": "839680.BJ",
         "symbol": "839680",
         "name": "广道高新",
         "area": "None",
         "industry": "None",
         "list_date": "20211115",
         "_deepnote_index_column": 4630
        },
        {
         "ts_code": "839729.BJ",
         "symbol": "839729",
         "name": "永顺生物",
         "area": "None",
         "industry": "None",
         "list_date": "20200727",
         "_deepnote_index_column": 4631
        },
        {
         "ts_code": "839946.BJ",
         "symbol": "839946",
         "name": "华阳变速",
         "area": "None",
         "industry": "None",
         "list_date": "20210720",
         "_deepnote_index_column": 4632
        },
        {
         "ts_code": "870436.BJ",
         "symbol": "870436",
         "name": "大地电气",
         "area": "None",
         "industry": "None",
         "list_date": "20211115",
         "_deepnote_index_column": 4633
        },
        {
         "ts_code": "871396.BJ",
         "symbol": "871396",
         "name": "常辅股份",
         "area": "None",
         "industry": "None",
         "list_date": "20201118",
         "_deepnote_index_column": 4634
        },
        {
         "ts_code": "871553.BJ",
         "symbol": "871553",
         "name": "凯腾精工",
         "area": "None",
         "industry": "None",
         "list_date": "20210806",
         "_deepnote_index_column": 4635
        },
        {
         "ts_code": "871642.BJ",
         "symbol": "871642",
         "name": "通易航天",
         "area": "None",
         "industry": "None",
         "list_date": "20210816",
         "_deepnote_index_column": 4636
        },
        {
         "ts_code": "871981.BJ",
         "symbol": "871981",
         "name": "晶赛科技",
         "area": "None",
         "industry": "None",
         "list_date": "20211115",
         "_deepnote_index_column": 4637
        },
        {
         "ts_code": "872925.BJ",
         "symbol": "872925",
         "name": "锦好医疗",
         "area": "None",
         "industry": "None",
         "list_date": "20211025",
         "_deepnote_index_column": 4638
        },
        {
         "ts_code": "689009.SH",
         "symbol": "689009",
         "name": "九号公司-WD",
         "area": "北京",
         "industry": "摩托车",
         "list_date": "20201029",
         "_deepnote_index_column": 4639
        }
       ]
      },
      "text/plain": "        ts_code  symbol     name  area industry list_date\n0     000001.SZ  000001     平安银行    深圳       银行  19910403\n1     000002.SZ  000002      万科A    深圳     全国地产  19910129\n2     000004.SZ  000004     国华网安    深圳     软件服务  19910114\n3     000005.SZ  000005     ST星源    深圳     环境保护  19901210\n4     000006.SZ  000006     深振业A    深圳     区域地产  19920427\n...         ...     ...      ...   ...      ...       ...\n4635  871553.BJ  871553     凯腾精工  None     None  20210806\n4636  871642.BJ  871642     通易航天  None     None  20210816\n4637  871981.BJ  871981     晶赛科技  None     None  20211115\n4638  872925.BJ  872925     锦好医疗  None     None  20211025\n4639  689009.SH  689009  九号公司-WD    北京      摩托车  20201029\n\n[4640 rows x 6 columns]",
      "text/html": "<div>\n<style scoped>\n    .dataframe tbody tr th:only-of-type {\n        vertical-align: middle;\n    }\n\n    .dataframe tbody tr th {\n        vertical-align: top;\n    }\n\n    .dataframe thead th {\n        text-align: right;\n    }\n</style>\n<table border=\"1\" class=\"dataframe\">\n  <thead>\n    <tr style=\"text-align: right;\">\n      <th></th>\n      <th>ts_code</th>\n      <th>symbol</th>\n      <th>name</th>\n      <th>area</th>\n      <th>industry</th>\n      <th>list_date</th>\n    </tr>\n  </thead>\n  <tbody>\n    <tr>\n      <th>0</th>\n      <td>000001.SZ</td>\n      <td>000001</td>\n      <td>平安银行</td>\n      <td>深圳</td>\n      <td>银行</td>\n      <td>19910403</td>\n    </tr>\n    <tr>\n      <th>1</th>\n      <td>000002.SZ</td>\n      <td>000002</td>\n      <td>万科A</td>\n      <td>深圳</td>\n      <td>全国地产</td>\n      <td>19910129</td>\n    </tr>\n    <tr>\n      <th>2</th>\n      <td>000004.SZ</td>\n      <td>000004</td>\n      <td>国华网安</td>\n      <td>深圳</td>\n      <td>软件服务</td>\n      <td>19910114</td>\n    </tr>\n    <tr>\n      <th>3</th>\n      <td>000005.SZ</td>\n      <td>000005</td>\n      <td>ST星源</td>\n      <td>深圳</td>\n      <td>环境保护</td>\n      <td>19901210</td>\n    </tr>\n    <tr>\n      <th>4</th>\n      <td>000006.SZ</td>\n      <td>000006</td>\n      <td>深振业A</td>\n      <td>深圳</td>\n      <td>区域地产</td>\n      <td>19920427</td>\n    </tr>\n    <tr>\n      <th>...</th>\n      <td>...</td>\n      <td>...</td>\n      <td>...</td>\n      <td>...</td>\n      <td>...</td>\n      <td>...</td>\n    </tr>\n    <tr>\n      <th>4635</th>\n      <td>871553.BJ</td>\n      <td>871553</td>\n      <td>凯腾精工</td>\n      <td>None</td>\n      <td>None</td>\n      <td>20210806</td>\n    </tr>\n    <tr>\n      <th>4636</th>\n      <td>871642.BJ</td>\n      <td>871642</td>\n      <td>通易航天</td>\n      <td>None</td>\n      <td>None</td>\n      <td>20210816</td>\n    </tr>\n    <tr>\n      <th>4637</th>\n      <td>871981.BJ</td>\n      <td>871981</td>\n      <td>晶赛科技</td>\n      <td>None</td>\n      <td>None</td>\n      <td>20211115</td>\n    </tr>\n    <tr>\n      <th>4638</th>\n      <td>872925.BJ</td>\n      <td>872925</td>\n      <td>锦好医疗</td>\n      <td>None</td>\n      <td>None</td>\n      <td>20211025</td>\n    </tr>\n    <tr>\n      <th>4639</th>\n      <td>689009.SH</td>\n      <td>689009</td>\n      <td>九号公司-WD</td>\n      <td>北京</td>\n      <td>摩托车</td>\n      <td>20201029</td>\n    </tr>\n  </tbody>\n</table>\n<p>4640 rows × 6 columns</p>\n</div>"
     },
     "metadata": {}
    }
   ]
  },
  {
   "cell_type": "code",
   "metadata": {
    "tags": [],
    "cell_id": "00012-0946c238-f6d8-4739-b227-757cce920f95",
    "deepnote_to_be_reexecuted": false,
    "source_hash": "73bda99a",
    "execution_start": 1638342837427,
    "execution_millis": 588,
    "deepnote_cell_type": "code",
    "deepnote_cell_height": 553,
    "deepnote_output_heights": [
     438
    ]
   },
   "source": "df = pro.daily(ts_code='600703.SH', start_date='20211101', end_date='20211118')\ndf",
   "execution_count": null,
   "outputs": [
    {
     "output_type": "execute_result",
     "execution_count": 18,
     "data": {
      "application/vnd.deepnote.dataframe.v2+json": {
       "row_count": 14,
       "column_count": 11,
       "columns": [
        {
         "name": "ts_code",
         "dtype": "object",
         "stats": {
          "unique_count": 1,
          "nan_count": 0,
          "categories": [
           {
            "name": "600703.SH",
            "count": 14
           }
          ]
         }
        },
        {
         "name": "trade_date",
         "dtype": "object",
         "stats": {
          "unique_count": 14,
          "nan_count": 0,
          "categories": [
           {
            "name": "20211118",
            "count": 1
           },
           {
            "name": "20211117",
            "count": 1
           },
           {
            "name": "12 others",
            "count": 12
           }
          ]
         }
        },
        {
         "name": "open",
         "dtype": "float64",
         "stats": {
          "unique_count": 14,
          "nan_count": 0,
          "min": "33.6",
          "max": "37.39",
          "histogram": [
           {
            "bin_start": 33.6,
            "bin_end": 33.979,
            "count": 3
           },
           {
            "bin_start": 33.979,
            "bin_end": 34.358000000000004,
            "count": 0
           },
           {
            "bin_start": 34.358000000000004,
            "bin_end": 34.737,
            "count": 3
           },
           {
            "bin_start": 34.737,
            "bin_end": 35.116,
            "count": 0
           },
           {
            "bin_start": 35.116,
            "bin_end": 35.495000000000005,
            "count": 0
           },
           {
            "bin_start": 35.495000000000005,
            "bin_end": 35.874,
            "count": 4
           },
           {
            "bin_start": 35.874,
            "bin_end": 36.253,
            "count": 1
           },
           {
            "bin_start": 36.253,
            "bin_end": 36.632,
            "count": 1
           },
           {
            "bin_start": 36.632,
            "bin_end": 37.011,
            "count": 1
           },
           {
            "bin_start": 37.011,
            "bin_end": 37.39,
            "count": 1
           }
          ]
         }
        },
        {
         "name": "high",
         "dtype": "float64",
         "stats": {
          "unique_count": 14,
          "nan_count": 0,
          "min": "34.19",
          "max": "38.28",
          "histogram": [
           {
            "bin_start": 34.19,
            "bin_end": 34.599,
            "count": 1
           },
           {
            "bin_start": 34.599,
            "bin_end": 35.007999999999996,
            "count": 0
           },
           {
            "bin_start": 35.007999999999996,
            "bin_end": 35.417,
            "count": 3
           },
           {
            "bin_start": 35.417,
            "bin_end": 35.826,
            "count": 2
           },
           {
            "bin_start": 35.826,
            "bin_end": 36.235,
            "count": 1
           },
           {
            "bin_start": 36.235,
            "bin_end": 36.644,
            "count": 2
           },
           {
            "bin_start": 36.644,
            "bin_end": 37.053,
            "count": 1
           },
           {
            "bin_start": 37.053,
            "bin_end": 37.462,
            "count": 1
           },
           {
            "bin_start": 37.462,
            "bin_end": 37.871,
            "count": 2
           },
           {
            "bin_start": 37.871,
            "bin_end": 38.28,
            "count": 1
           }
          ]
         }
        },
        {
         "name": "low",
         "dtype": "float64",
         "stats": {
          "unique_count": 14,
          "nan_count": 0,
          "min": "32.96",
          "max": "36.78",
          "histogram": [
           {
            "bin_start": 32.96,
            "bin_end": 33.342,
            "count": 3
           },
           {
            "bin_start": 33.342,
            "bin_end": 33.724000000000004,
            "count": 0
           },
           {
            "bin_start": 33.724000000000004,
            "bin_end": 34.106,
            "count": 2
           },
           {
            "bin_start": 34.106,
            "bin_end": 34.488,
            "count": 1
           },
           {
            "bin_start": 34.488,
            "bin_end": 34.870000000000005,
            "count": 1
           },
           {
            "bin_start": 34.870000000000005,
            "bin_end": 35.252,
            "count": 1
           },
           {
            "bin_start": 35.252,
            "bin_end": 35.634,
            "count": 2
           },
           {
            "bin_start": 35.634,
            "bin_end": 36.016,
            "count": 2
           },
           {
            "bin_start": 36.016,
            "bin_end": 36.398,
            "count": 1
           },
           {
            "bin_start": 36.398,
            "bin_end": 36.78,
            "count": 1
           }
          ]
         }
        },
        {
         "name": "close",
         "dtype": "float64",
         "stats": {
          "unique_count": 14,
          "nan_count": 0,
          "min": "33.38",
          "max": "37.23",
          "histogram": [
           {
            "bin_start": 33.38,
            "bin_end": 33.765,
            "count": 2
           },
           {
            "bin_start": 33.765,
            "bin_end": 34.15,
            "count": 0
           },
           {
            "bin_start": 34.15,
            "bin_end": 34.535000000000004,
            "count": 1
           },
           {
            "bin_start": 34.535000000000004,
            "bin_end": 34.92,
            "count": 1
           },
           {
            "bin_start": 34.92,
            "bin_end": 35.305,
            "count": 2
           },
           {
            "bin_start": 35.305,
            "bin_end": 35.69,
            "count": 1
           },
           {
            "bin_start": 35.69,
            "bin_end": 36.074999999999996,
            "count": 3
           },
           {
            "bin_start": 36.074999999999996,
            "bin_end": 36.46,
            "count": 0
           },
           {
            "bin_start": 36.46,
            "bin_end": 36.845,
            "count": 2
           },
           {
            "bin_start": 36.845,
            "bin_end": 37.23,
            "count": 2
           }
          ]
         }
        },
        {
         "name": "pre_close",
         "dtype": "float64",
         "stats": {
          "unique_count": 14,
          "nan_count": 0,
          "min": "33.38",
          "max": "37.23",
          "histogram": [
           {
            "bin_start": 33.38,
            "bin_end": 33.765,
            "count": 3
           },
           {
            "bin_start": 33.765,
            "bin_end": 34.15,
            "count": 0
           },
           {
            "bin_start": 34.15,
            "bin_end": 34.535000000000004,
            "count": 1
           },
           {
            "bin_start": 34.535000000000004,
            "bin_end": 34.92,
            "count": 1
           },
           {
            "bin_start": 34.92,
            "bin_end": 35.305,
            "count": 1
           },
           {
            "bin_start": 35.305,
            "bin_end": 35.69,
            "count": 1
           },
           {
            "bin_start": 35.69,
            "bin_end": 36.074999999999996,
            "count": 3
           },
           {
            "bin_start": 36.074999999999996,
            "bin_end": 36.46,
            "count": 0
           },
           {
            "bin_start": 36.46,
            "bin_end": 36.845,
            "count": 2
           },
           {
            "bin_start": 36.845,
            "bin_end": 37.23,
            "count": 2
           }
          ]
         }
        },
        {
         "name": "change",
         "dtype": "float64",
         "stats": {
          "unique_count": 14,
          "nan_count": 0,
          "min": "-1.28",
          "max": "2.02",
          "histogram": [
           {
            "bin_start": -1.28,
            "bin_end": -0.9500000000000001,
            "count": 2
           },
           {
            "bin_start": -0.9500000000000001,
            "bin_end": -0.6200000000000001,
            "count": 1
           },
           {
            "bin_start": -0.6200000000000001,
            "bin_end": -0.29000000000000015,
            "count": 1
           },
           {
            "bin_start": -0.29000000000000015,
            "bin_end": 0.039999999999999813,
            "count": 2
           },
           {
            "bin_start": 0.039999999999999813,
            "bin_end": 0.3699999999999999,
            "count": 3
           },
           {
            "bin_start": 0.3699999999999999,
            "bin_end": 0.6999999999999997,
            "count": 3
           },
           {
            "bin_start": 0.6999999999999997,
            "bin_end": 1.0299999999999996,
            "count": 0
           },
           {
            "bin_start": 1.0299999999999996,
            "bin_end": 1.3599999999999997,
            "count": 1
           },
           {
            "bin_start": 1.3599999999999997,
            "bin_end": 1.6899999999999997,
            "count": 0
           },
           {
            "bin_start": 1.6899999999999997,
            "bin_end": 2.02,
            "count": 1
           }
          ]
         }
        },
        {
         "name": "pct_chg",
         "dtype": "float64",
         "stats": {
          "unique_count": 14,
          "nan_count": 0,
          "min": "-3.4381",
          "max": "6.0515",
          "histogram": [
           {
            "bin_start": -3.4381,
            "bin_end": -2.48914,
            "count": 2
           },
           {
            "bin_start": -2.48914,
            "bin_end": -1.54018,
            "count": 1
           },
           {
            "bin_start": -1.54018,
            "bin_end": -0.5912200000000003,
            "count": 1
           },
           {
            "bin_start": -0.5912200000000003,
            "bin_end": 0.3577399999999997,
            "count": 3
           },
           {
            "bin_start": 0.3577399999999997,
            "bin_end": 1.3066999999999998,
            "count": 3
           },
           {
            "bin_start": 1.3066999999999998,
            "bin_end": 2.2556599999999993,
            "count": 2
           },
           {
            "bin_start": 2.2556599999999993,
            "bin_end": 3.20462,
            "count": 1
           },
           {
            "bin_start": 3.20462,
            "bin_end": 4.15358,
            "count": 0
           },
           {
            "bin_start": 4.15358,
            "bin_end": 5.102539999999999,
            "count": 0
           },
           {
            "bin_start": 5.102539999999999,
            "bin_end": 6.0515,
            "count": 1
           }
          ]
         }
        },
        {
         "name": "vol",
         "dtype": "float64",
         "stats": {
          "unique_count": 14,
          "nan_count": 0,
          "min": "456876.79",
          "max": "1393542.87",
          "histogram": [
           {
            "bin_start": 456876.79,
            "bin_end": 550543.398,
            "count": 2
           },
           {
            "bin_start": 550543.398,
            "bin_end": 644210.006,
            "count": 1
           },
           {
            "bin_start": 644210.006,
            "bin_end": 737876.6140000001,
            "count": 2
           },
           {
            "bin_start": 737876.6140000001,
            "bin_end": 831543.2220000001,
            "count": 1
           },
           {
            "bin_start": 831543.2220000001,
            "bin_end": 925209.8300000001,
            "count": 4
           },
           {
            "bin_start": 925209.8300000001,
            "bin_end": 1018876.4380000001,
            "count": 1
           },
           {
            "bin_start": 1018876.4380000001,
            "bin_end": 1112543.046,
            "count": 1
           },
           {
            "bin_start": 1112543.046,
            "bin_end": 1206209.654,
            "count": 0
           },
           {
            "bin_start": 1206209.654,
            "bin_end": 1299876.262,
            "count": 0
           },
           {
            "bin_start": 1299876.262,
            "bin_end": 1393542.87,
            "count": 2
           }
          ]
         }
        },
        {
         "name": "amount",
         "dtype": "float64",
         "stats": {
          "unique_count": 14,
          "nan_count": 0,
          "min": "1637132.092",
          "max": "4855829.507",
          "histogram": [
           {
            "bin_start": 1637132.092,
            "bin_end": 1959001.8335,
            "count": 2
           },
           {
            "bin_start": 1959001.8335,
            "bin_end": 2280871.575,
            "count": 0
           },
           {
            "bin_start": 2280871.575,
            "bin_end": 2602741.3164999997,
            "count": 4
           },
           {
            "bin_start": 2602741.3164999997,
            "bin_end": 2924611.058,
            "count": 0
           },
           {
            "bin_start": 2924611.058,
            "bin_end": 3246480.7994999997,
            "count": 4
           },
           {
            "bin_start": 3246480.7994999997,
            "bin_end": 3568350.541,
            "count": 1
           },
           {
            "bin_start": 3568350.541,
            "bin_end": 3890220.2824999997,
            "count": 1
           },
           {
            "bin_start": 3890220.2824999997,
            "bin_end": 4212090.024,
            "count": 0
           },
           {
            "bin_start": 4212090.024,
            "bin_end": 4533959.7655,
            "count": 1
           },
           {
            "bin_start": 4533959.7655,
            "bin_end": 4855829.507,
            "count": 1
           }
          ]
         }
        },
        {
         "name": "_deepnote_index_column",
         "dtype": "int64"
        }
       ],
       "rows_top": [
        {
         "ts_code": "600703.SH",
         "trade_date": "20211118",
         "open": 35.75,
         "high": 36.24,
         "low": 34.88,
         "close": 35.1,
         "pre_close": 35.93,
         "change": -0.83,
         "pct_chg": -2.31,
         "vol": 540165.19,
         "amount": 1906833.059,
         "_deepnote_index_column": 0
        },
        {
         "ts_code": "600703.SH",
         "trade_date": "20211117",
         "open": 35.81,
         "high": 36.38,
         "low": 35.33,
         "close": 35.93,
         "pre_close": 35.95,
         "change": -0.02,
         "pct_chg": -0.0556,
         "vol": 456876.79,
         "amount": 1637132.092,
         "_deepnote_index_column": 1
        },
        {
         "ts_code": "600703.SH",
         "trade_date": "20211116",
         "open": 36.7,
         "high": 37.17,
         "low": 35.9,
         "close": 35.95,
         "pre_close": 37.23,
         "change": -1.28,
         "pct_chg": -3.4381,
         "vol": 672718.33,
         "amount": 2451635.989,
         "_deepnote_index_column": 2
        },
        {
         "ts_code": "600703.SH",
         "trade_date": "20211115",
         "open": 37.39,
         "high": 37.87,
         "low": 36.78,
         "close": 37.23,
         "pre_close": 37.18,
         "change": 0.05,
         "pct_chg": 0.1345,
         "vol": 613277.7,
         "amount": 2284822.32,
         "_deepnote_index_column": 3
        },
        {
         "ts_code": "600703.SH",
         "trade_date": "20211112",
         "open": 36.4,
         "high": 37.5,
         "low": 36.21,
         "close": 37.18,
         "pre_close": 36.72,
         "change": 0.46,
         "pct_chg": 1.2527,
         "vol": 672035.01,
         "amount": 2480381.208,
         "_deepnote_index_column": 4
        },
        {
         "ts_code": "600703.SH",
         "trade_date": "20211111",
         "open": 36.07,
         "high": 38.28,
         "low": 35.85,
         "close": 36.72,
         "pre_close": 36.49,
         "change": 0.23,
         "pct_chg": 0.6303,
         "vol": 1044412.51,
         "amount": 3865513.457,
         "_deepnote_index_column": 5
        },
        {
         "ts_code": "600703.SH",
         "trade_date": "20211110",
         "open": 35.5,
         "high": 36.75,
         "low": 35.37,
         "close": 36.49,
         "pre_close": 35.9,
         "change": 0.59,
         "pct_chg": 1.6435,
         "vol": 905563.1,
         "amount": 3281688.826,
         "_deepnote_index_column": 6
        },
        {
         "ts_code": "600703.SH",
         "trade_date": "20211109",
         "open": 34.7,
         "high": 35.9,
         "low": 34.15,
         "close": 35.9,
         "pre_close": 34.86,
         "change": 1.04,
         "pct_chg": 2.9834,
         "vol": 911303.32,
         "amount": 3207616.381,
         "_deepnote_index_column": 7
        },
        {
         "ts_code": "600703.SH",
         "trade_date": "20211108",
         "open": 34.62,
         "high": 35.33,
         "low": 33.8,
         "close": 34.86,
         "pre_close": 34.99,
         "change": -0.13,
         "pct_chg": -0.3715,
         "vol": 742666.93,
         "amount": 2560071.603,
         "_deepnote_index_column": 8
        },
        {
         "ts_code": "600703.SH",
         "trade_date": "20211105",
         "open": 35.54,
         "high": 35.78,
         "low": 34.8,
         "close": 34.99,
         "pre_close": 35.4,
         "change": -0.41,
         "pct_chg": -1.1582,
         "vol": 841620.19,
         "amount": 2963133.631,
         "_deepnote_index_column": 9
        },
        {
         "ts_code": "600703.SH",
         "trade_date": "20211104",
         "open": 33.68,
         "high": 35.42,
         "low": 33.33,
         "close": 35.4,
         "pre_close": 33.38,
         "change": 2.02,
         "pct_chg": 6.0515,
         "vol": 1393542.87,
         "amount": 4855829.507,
         "_deepnote_index_column": 10
        },
        {
         "ts_code": "600703.SH",
         "trade_date": "20211103",
         "open": 34.4,
         "high": 35.09,
         "low": 33.05,
         "close": 33.38,
         "pre_close": 34.36,
         "change": -0.98,
         "pct_chg": -2.8522,
         "vol": 941975.24,
         "amount": 3205967.163,
         "_deepnote_index_column": 11
        },
        {
         "ts_code": "600703.SH",
         "trade_date": "20211102",
         "open": 33.95,
         "high": 35.35,
         "low": 33.74,
         "close": 34.36,
         "pre_close": 33.74,
         "change": 0.62,
         "pct_chg": 1.8376,
         "vol": 1305769.27,
         "amount": 4526422.382,
         "_deepnote_index_column": 12
        },
        {
         "ts_code": "600703.SH",
         "trade_date": "20211101",
         "open": 33.6,
         "high": 34.19,
         "low": 32.96,
         "close": 33.74,
         "pre_close": 33.6,
         "change": 0.14,
         "pct_chg": 0.4167,
         "vol": 895391.37,
         "amount": 3010172.547,
         "_deepnote_index_column": 13
        }
       ],
       "rows_bottom": null
      },
      "text/plain": "      ts_code trade_date   open   high    low  close  pre_close  change  \\\n0   600703.SH   20211118  35.75  36.24  34.88  35.10      35.93   -0.83   \n1   600703.SH   20211117  35.81  36.38  35.33  35.93      35.95   -0.02   \n2   600703.SH   20211116  36.70  37.17  35.90  35.95      37.23   -1.28   \n3   600703.SH   20211115  37.39  37.87  36.78  37.23      37.18    0.05   \n4   600703.SH   20211112  36.40  37.50  36.21  37.18      36.72    0.46   \n5   600703.SH   20211111  36.07  38.28  35.85  36.72      36.49    0.23   \n6   600703.SH   20211110  35.50  36.75  35.37  36.49      35.90    0.59   \n7   600703.SH   20211109  34.70  35.90  34.15  35.90      34.86    1.04   \n8   600703.SH   20211108  34.62  35.33  33.80  34.86      34.99   -0.13   \n9   600703.SH   20211105  35.54  35.78  34.80  34.99      35.40   -0.41   \n10  600703.SH   20211104  33.68  35.42  33.33  35.40      33.38    2.02   \n11  600703.SH   20211103  34.40  35.09  33.05  33.38      34.36   -0.98   \n12  600703.SH   20211102  33.95  35.35  33.74  34.36      33.74    0.62   \n13  600703.SH   20211101  33.60  34.19  32.96  33.74      33.60    0.14   \n\n    pct_chg         vol       amount  \n0   -2.3100   540165.19  1906833.059  \n1   -0.0556   456876.79  1637132.092  \n2   -3.4381   672718.33  2451635.989  \n3    0.1345   613277.70  2284822.320  \n4    1.2527   672035.01  2480381.208  \n5    0.6303  1044412.51  3865513.457  \n6    1.6435   905563.10  3281688.826  \n7    2.9834   911303.32  3207616.381  \n8   -0.3715   742666.93  2560071.603  \n9   -1.1582   841620.19  2963133.631  \n10   6.0515  1393542.87  4855829.507  \n11  -2.8522   941975.24  3205967.163  \n12   1.8376  1305769.27  4526422.382  \n13   0.4167   895391.37  3010172.547  ",
      "text/html": "<div>\n<style scoped>\n    .dataframe tbody tr th:only-of-type {\n        vertical-align: middle;\n    }\n\n    .dataframe tbody tr th {\n        vertical-align: top;\n    }\n\n    .dataframe thead th {\n        text-align: right;\n    }\n</style>\n<table border=\"1\" class=\"dataframe\">\n  <thead>\n    <tr style=\"text-align: right;\">\n      <th></th>\n      <th>ts_code</th>\n      <th>trade_date</th>\n      <th>open</th>\n      <th>high</th>\n      <th>low</th>\n      <th>close</th>\n      <th>pre_close</th>\n      <th>change</th>\n      <th>pct_chg</th>\n      <th>vol</th>\n      <th>amount</th>\n    </tr>\n  </thead>\n  <tbody>\n    <tr>\n      <th>0</th>\n      <td>600703.SH</td>\n      <td>20211118</td>\n      <td>35.75</td>\n      <td>36.24</td>\n      <td>34.88</td>\n      <td>35.10</td>\n      <td>35.93</td>\n      <td>-0.83</td>\n      <td>-2.3100</td>\n      <td>540165.19</td>\n      <td>1906833.059</td>\n    </tr>\n    <tr>\n      <th>1</th>\n      <td>600703.SH</td>\n      <td>20211117</td>\n      <td>35.81</td>\n      <td>36.38</td>\n      <td>35.33</td>\n      <td>35.93</td>\n      <td>35.95</td>\n      <td>-0.02</td>\n      <td>-0.0556</td>\n      <td>456876.79</td>\n      <td>1637132.092</td>\n    </tr>\n    <tr>\n      <th>2</th>\n      <td>600703.SH</td>\n      <td>20211116</td>\n      <td>36.70</td>\n      <td>37.17</td>\n      <td>35.90</td>\n      <td>35.95</td>\n      <td>37.23</td>\n      <td>-1.28</td>\n      <td>-3.4381</td>\n      <td>672718.33</td>\n      <td>2451635.989</td>\n    </tr>\n    <tr>\n      <th>3</th>\n      <td>600703.SH</td>\n      <td>20211115</td>\n      <td>37.39</td>\n      <td>37.87</td>\n      <td>36.78</td>\n      <td>37.23</td>\n      <td>37.18</td>\n      <td>0.05</td>\n      <td>0.1345</td>\n      <td>613277.70</td>\n      <td>2284822.320</td>\n    </tr>\n    <tr>\n      <th>4</th>\n      <td>600703.SH</td>\n      <td>20211112</td>\n      <td>36.40</td>\n      <td>37.50</td>\n      <td>36.21</td>\n      <td>37.18</td>\n      <td>36.72</td>\n      <td>0.46</td>\n      <td>1.2527</td>\n      <td>672035.01</td>\n      <td>2480381.208</td>\n    </tr>\n    <tr>\n      <th>5</th>\n      <td>600703.SH</td>\n      <td>20211111</td>\n      <td>36.07</td>\n      <td>38.28</td>\n      <td>35.85</td>\n      <td>36.72</td>\n      <td>36.49</td>\n      <td>0.23</td>\n      <td>0.6303</td>\n      <td>1044412.51</td>\n      <td>3865513.457</td>\n    </tr>\n    <tr>\n      <th>6</th>\n      <td>600703.SH</td>\n      <td>20211110</td>\n      <td>35.50</td>\n      <td>36.75</td>\n      <td>35.37</td>\n      <td>36.49</td>\n      <td>35.90</td>\n      <td>0.59</td>\n      <td>1.6435</td>\n      <td>905563.10</td>\n      <td>3281688.826</td>\n    </tr>\n    <tr>\n      <th>7</th>\n      <td>600703.SH</td>\n      <td>20211109</td>\n      <td>34.70</td>\n      <td>35.90</td>\n      <td>34.15</td>\n      <td>35.90</td>\n      <td>34.86</td>\n      <td>1.04</td>\n      <td>2.9834</td>\n      <td>911303.32</td>\n      <td>3207616.381</td>\n    </tr>\n    <tr>\n      <th>8</th>\n      <td>600703.SH</td>\n      <td>20211108</td>\n      <td>34.62</td>\n      <td>35.33</td>\n      <td>33.80</td>\n      <td>34.86</td>\n      <td>34.99</td>\n      <td>-0.13</td>\n      <td>-0.3715</td>\n      <td>742666.93</td>\n      <td>2560071.603</td>\n    </tr>\n    <tr>\n      <th>9</th>\n      <td>600703.SH</td>\n      <td>20211105</td>\n      <td>35.54</td>\n      <td>35.78</td>\n      <td>34.80</td>\n      <td>34.99</td>\n      <td>35.40</td>\n      <td>-0.41</td>\n      <td>-1.1582</td>\n      <td>841620.19</td>\n      <td>2963133.631</td>\n    </tr>\n    <tr>\n      <th>10</th>\n      <td>600703.SH</td>\n      <td>20211104</td>\n      <td>33.68</td>\n      <td>35.42</td>\n      <td>33.33</td>\n      <td>35.40</td>\n      <td>33.38</td>\n      <td>2.02</td>\n      <td>6.0515</td>\n      <td>1393542.87</td>\n      <td>4855829.507</td>\n    </tr>\n    <tr>\n      <th>11</th>\n      <td>600703.SH</td>\n      <td>20211103</td>\n      <td>34.40</td>\n      <td>35.09</td>\n      <td>33.05</td>\n      <td>33.38</td>\n      <td>34.36</td>\n      <td>-0.98</td>\n      <td>-2.8522</td>\n      <td>941975.24</td>\n      <td>3205967.163</td>\n    </tr>\n    <tr>\n      <th>12</th>\n      <td>600703.SH</td>\n      <td>20211102</td>\n      <td>33.95</td>\n      <td>35.35</td>\n      <td>33.74</td>\n      <td>34.36</td>\n      <td>33.74</td>\n      <td>0.62</td>\n      <td>1.8376</td>\n      <td>1305769.27</td>\n      <td>4526422.382</td>\n    </tr>\n    <tr>\n      <th>13</th>\n      <td>600703.SH</td>\n      <td>20211101</td>\n      <td>33.60</td>\n      <td>34.19</td>\n      <td>32.96</td>\n      <td>33.74</td>\n      <td>33.60</td>\n      <td>0.14</td>\n      <td>0.4167</td>\n      <td>895391.37</td>\n      <td>3010172.547</td>\n    </tr>\n  </tbody>\n</table>\n</div>"
     },
     "metadata": {}
    }
   ]
  },
  {
   "cell_type": "markdown",
   "source": "# akshare              https://www.akshare.xyz/    ",
   "metadata": {
    "cell_id": "a775b295-76d1-4b4d-b137-93ce964fc68a",
    "tags": [],
    "is_collapsed": false,
    "deepnote_cell_type": "text-cell-h1"
   }
  },
  {
   "cell_type": "markdown",
   "source": "# pytdx         https://gitee.com/better319/pytdx/",
   "metadata": {
    "cell_id": "3518e29c-ab10-49b0-88e5-c7bf7bc4e177",
    "tags": [],
    "is_collapsed": false,
    "deepnote_cell_type": "text-cell-h1"
   }
  },
  {
   "cell_type": "markdown",
   "source": "<a style='text-decoration:none;line-height:16px;display:flex;color:#5B5B62;padding:10px;justify-content:end;' href='https://deepnote.com?utm_source=created-in-deepnote-cell&projectId=26e5d5b4-a604-4f7b-aef4-7756f8127ef0' target=\"_blank\">\n<img alt='Created in deepnote.com' style='display:inline;max-height:16px;margin:0px;margin-right:7.5px;' src='data:image/svg+xml;base64,PD94bWwgdmVyc2lvbj0iMS4wIiBlbmNvZGluZz0iVVRGLTgiPz4KPHN2ZyB3aWR0aD0iODBweCIgaGVpZ2h0PSI4MHB4IiB2aWV3Qm94PSIwIDAgODAgODAiIHZlcnNpb249IjEuMSIgeG1sbnM9Imh0dHA6Ly93d3cudzMub3JnLzIwMDAvc3ZnIiB4bWxuczp4bGluaz0iaHR0cDovL3d3dy53My5vcmcvMTk5OS94bGluayI+CiAgICA8IS0tIEdlbmVyYXRvcjogU2tldGNoIDU0LjEgKDc2NDkwKSAtIGh0dHBzOi8vc2tldGNoYXBwLmNvbSAtLT4KICAgIDx0aXRsZT5Hcm91cCAzPC90aXRsZT4KICAgIDxkZXNjPkNyZWF0ZWQgd2l0aCBTa2V0Y2guPC9kZXNjPgogICAgPGcgaWQ9IkxhbmRpbmciIHN0cm9rZT0ibm9uZSIgc3Ryb2tlLXdpZHRoPSIxIiBmaWxsPSJub25lIiBmaWxsLXJ1bGU9ImV2ZW5vZGQiPgogICAgICAgIDxnIGlkPSJBcnRib2FyZCIgdHJhbnNmb3JtPSJ0cmFuc2xhdGUoLTEyMzUuMDAwMDAwLCAtNzkuMDAwMDAwKSI+CiAgICAgICAgICAgIDxnIGlkPSJHcm91cC0zIiB0cmFuc2Zvcm09InRyYW5zbGF0ZSgxMjM1LjAwMDAwMCwgNzkuMDAwMDAwKSI+CiAgICAgICAgICAgICAgICA8cG9seWdvbiBpZD0iUGF0aC0yMCIgZmlsbD0iIzAyNjVCNCIgcG9pbnRzPSIyLjM3NjIzNzYyIDgwIDM4LjA0NzY2NjcgODAgNTcuODIxNzgyMiA3My44MDU3NTkyIDU3LjgyMTc4MjIgMzIuNzU5MjczOSAzOS4xNDAyMjc4IDMxLjY4MzE2ODMiPjwvcG9seWdvbj4KICAgICAgICAgICAgICAgIDxwYXRoIGQ9Ik0zNS4wMDc3MTgsODAgQzQyLjkwNjIwMDcsNzYuNDU0OTM1OCA0Ny41NjQ5MTY3LDcxLjU0MjI2NzEgNDguOTgzODY2LDY1LjI2MTk5MzkgQzUxLjExMjI4OTksNTUuODQxNTg0MiA0MS42NzcxNzk1LDQ5LjIxMjIyODQgMjUuNjIzOTg0Niw0OS4yMTIyMjg0IEMyNS40ODQ5Mjg5LDQ5LjEyNjg0NDggMjkuODI2MTI5Niw0My4yODM4MjQ4IDM4LjY0NzU4NjksMzEuNjgzMTY4MyBMNzIuODcxMjg3MSwzMi41NTQ0MjUgTDY1LjI4MDk3Myw2Ny42NzYzNDIxIEw1MS4xMTIyODk5LDc3LjM3NjE0NCBMMzUuMDA3NzE4LDgwIFoiIGlkPSJQYXRoLTIyIiBmaWxsPSIjMDAyODY4Ij48L3BhdGg+CiAgICAgICAgICAgICAgICA8cGF0aCBkPSJNMCwzNy43MzA0NDA1IEwyNy4xMTQ1MzcsMC4yNTcxMTE0MzYgQzYyLjM3MTUxMjMsLTEuOTkwNzE3MDEgODAsMTAuNTAwMzkyNyA4MCwzNy43MzA0NDA1IEM4MCw2NC45NjA0ODgyIDY0Ljc3NjUwMzgsNzkuMDUwMzQxNCAzNC4zMjk1MTEzLDgwIEM0Ny4wNTUzNDg5LDc3LjU2NzA4MDggNTMuNDE4MjY3Nyw3MC4zMTM2MTAzIDUzLjQxODI2NzcsNTguMjM5NTg4NSBDNTMuNDE4MjY3Nyw0MC4xMjg1NTU3IDM2LjMwMzk1NDQsMzcuNzMwNDQwNSAyNS4yMjc0MTcsMzcuNzMwNDQwNSBDMTcuODQzMDU4NiwzNy43MzA0NDA1IDkuNDMzOTE5NjYsMzcuNzMwNDQwNSAwLDM3LjczMDQ0MDUgWiIgaWQ9IlBhdGgtMTkiIGZpbGw9IiMzNzkzRUYiPjwvcGF0aD4KICAgICAgICAgICAgPC9nPgogICAgICAgIDwvZz4KICAgIDwvZz4KPC9zdmc+' > </img>\nCreated in <span style='font-weight:600;margin-left:4px;'>Deepnote</span></a>",
   "metadata": {
    "tags": [],
    "created_in_deepnote_cell": true,
    "deepnote_cell_type": "markdown"
   }
  }
 ],
 "nbformat": 4,
 "nbformat_minor": 2,
 "metadata": {
  "orig_nbformat": 2,
  "deepnote": {
   "is_reactive": false
  },
  "deepnote_notebook_id": "b2ba85aa-d2ef-4a3a-bbd2-9db464411480",
  "deepnote_execution_queue": []
 }
}