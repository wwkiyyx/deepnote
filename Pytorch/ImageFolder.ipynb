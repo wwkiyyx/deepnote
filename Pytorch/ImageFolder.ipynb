{
 "cells": [
  {
   "cell_type": "code",
   "metadata": {
    "tags": [],
    "cell_id": "00000-d8d9a8c9-0da5-4fd4-ac24-149a9794057a",
    "deepnote_to_be_reexecuted": false,
    "source_hash": "bd665810",
    "execution_start": 1646978053505,
    "execution_millis": 2526,
    "deepnote_cell_type": "code",
    "deepnote_cell_height": 174.5625
   },
   "source": "import torch\nprint(torch.__version__)",
   "execution_count": null,
   "outputs": [
    {
     "name": "stderr",
     "text": "/shared-libs/python3.8/py/lib/python3.8/site-packages/tqdm/auto.py:22: TqdmWarning: IProgress not found. Please update jupyter and ipywidgets. See https://ipywidgets.readthedocs.io/en/stable/user_install.html\n  from .autonotebook import tqdm as notebook_tqdm\n1.10.2+cu102\n",
     "output_type": "stream"
    }
   ]
  },
  {
   "cell_type": "code",
   "metadata": {
    "tags": [],
    "cell_id": "00001-bc8b3f83-1317-41ee-82f2-7809ff650877",
    "deepnote_to_be_reexecuted": false,
    "source_hash": "c56957d2",
    "execution_start": 1646978058649,
    "execution_millis": 835,
    "deepnote_cell_type": "code",
    "deepnote_cell_height": 130.1875
   },
   "source": "import torchvision\nprint(torchvision.__version__)",
   "execution_count": null,
   "outputs": [
    {
     "name": "stdout",
     "text": "0.11.3+cu102\n",
     "output_type": "stream"
    }
   ]
  },
  {
   "cell_type": "code",
   "metadata": {
    "tags": [],
    "cell_id": "00002-8a1f3983-521e-46e7-87cd-9b193e92997f",
    "deepnote_to_be_reexecuted": false,
    "source_hash": "295145aa",
    "execution_start": 1624580888538,
    "execution_millis": 2921,
    "deepnote_cell_type": "code",
    "deepnote_cell_height": 117
   },
   "source": "mnist = torchvision.datasets.ImageFolder('/work/mnist')\nfashion_mnist = torchvision.datasets.ImageFolder('/work/fashion_mnist')\ncifar10 = torchvision.datasets.ImageFolder('/work/cifar10')",
   "execution_count": null,
   "outputs": []
  },
  {
   "cell_type": "code",
   "metadata": {
    "tags": [],
    "cell_id": "00003-0efd7c30-1cc9-470e-b066-9675989456c2",
    "deepnote_to_be_reexecuted": false,
    "source_hash": "6f1cd7",
    "execution_start": 1624580945966,
    "execution_millis": 5,
    "deepnote_cell_type": "code",
    "deepnote_cell_height": 192.5625
   },
   "source": "print(mnist.class_to_idx)\nprint(fashion_mnist.class_to_idx)\nprint(cifar10.class_to_idx)",
   "execution_count": null,
   "outputs": [
    {
     "name": "stdout",
     "text": "{'0_zero': 0, '1_one': 1, '2_two': 2, '3_three': 3, '4_four': 4, '5_five': 5, '6_six': 6, '7_seven': 7, '8_eight': 8, '9_nine': 9}\n{'0_TShirt': 0, '1_Trouser': 1, '2_Pullover': 2, '3_Dress': 3, '4_Coat': 4, '5_Sandal': 5, '6_Shirt': 6, '7_Sneaker': 7, '8_Bag': 8, '9_AnkleBoot': 9}\n{'0_airplane': 0, '1_automobile': 1, '2_bird': 2, '3_cat': 3, '4_deer': 4, '5_dog': 5, '6_frog': 6, '7_horse': 7, '8_ship': 8, '9_truck': 9}\n",
     "output_type": "stream"
    }
   ]
  },
  {
   "cell_type": "code",
   "metadata": {
    "tags": [],
    "cell_id": "00004-42c2b3f8-b26a-40e6-a193-7737fc2f5ea5",
    "deepnote_to_be_reexecuted": false,
    "source_hash": "e6e505b1",
    "execution_start": 1624580985375,
    "execution_millis": 51,
    "deepnote_cell_type": "code",
    "deepnote_cell_height": 188.5625
   },
   "source": "print(mnist.classes)\nprint(fashion_mnist.classes)\nprint(cifar10.classes)",
   "execution_count": null,
   "outputs": [
    {
     "name": "stdout",
     "text": "['0_zero', '1_one', '2_two', '3_three', '4_four', '5_five', '6_six', '7_seven', '8_eight', '9_nine']\n['0_TShirt', '1_Trouser', '2_Pullover', '3_Dress', '4_Coat', '5_Sandal', '6_Shirt', '7_Sneaker', '8_Bag', '9_AnkleBoot']\n['0_airplane', '1_automobile', '2_bird', '3_cat', '4_deer', '5_dog', '6_frog', '7_horse', '8_ship', '9_truck']\n",
     "output_type": "stream"
    }
   ]
  },
  {
   "cell_type": "code",
   "metadata": {
    "tags": [],
    "cell_id": "00005-e6924247-fc67-41c4-b352-ffab7b7c6ed4",
    "deepnote_to_be_reexecuted": false,
    "source_hash": "cc36646b",
    "execution_start": 1624581093962,
    "execution_millis": 127,
    "deepnote_cell_type": "code",
    "deepnote_cell_height": 417.1875,
    "deepnote_output_heights": [
     null,
     250
    ]
   },
   "source": "import matplotlib.pyplot as plt\nplt.imshow(mnist[0][0])",
   "execution_count": null,
   "outputs": [
    {
     "output_type": "execute_result",
     "execution_count": 11,
     "data": {
      "text/plain": "<matplotlib.image.AxesImage at 0x7fb61e2604f0>"
     },
     "metadata": {}
    },
    {
     "data": {
      "text/plain": "<Figure size 432x288 with 1 Axes>",
      "image/png": "[encoded data removed]"
     },
     "metadata": {
      "needs_background": "light",
      "image/png": {
       "width": 251,
       "height": 248
      }
     },
     "output_type": "display_data"
    }
   ]
  },
  {
   "cell_type": "code",
   "metadata": {
    "tags": [],
    "cell_id": "00006-6f70bb11-3cc5-4142-a364-a2a2b0b66836",
    "deepnote_to_be_reexecuted": false,
    "source_hash": "2a3a11b8",
    "execution_start": 1624581096671,
    "execution_millis": 126,
    "deepnote_cell_type": "code",
    "deepnote_cell_height": 399.1875,
    "deepnote_output_heights": [
     null,
     250
    ]
   },
   "source": "plt.imshow(fashion_mnist[0][0])",
   "execution_count": null,
   "outputs": [
    {
     "output_type": "execute_result",
     "execution_count": 12,
     "data": {
      "text/plain": "<matplotlib.image.AxesImage at 0x7fb624303730>"
     },
     "metadata": {}
    },
    {
     "data": {
      "text/plain": "<Figure size 432x288 with 1 Axes>",
      "image/png": "[encoded data removed]"
     },
     "metadata": {
      "needs_background": "light",
      "image/png": {
       "width": 251,
       "height": 248
      }
     },
     "output_type": "display_data"
    }
   ]
  },
  {
   "cell_type": "code",
   "metadata": {
    "tags": [],
    "cell_id": "00007-48eccc46-58b0-467a-ba14-2c443c494a65",
    "deepnote_to_be_reexecuted": false,
    "source_hash": "352fb449",
    "execution_start": 1624581099740,
    "execution_millis": 258,
    "deepnote_cell_type": "code",
    "deepnote_cell_height": 400.1875,
    "deepnote_output_heights": [
     null,
     251
    ]
   },
   "source": "plt.imshow(cifar10[0][0])",
   "execution_count": null,
   "outputs": [
    {
     "output_type": "execute_result",
     "execution_count": 13,
     "data": {
      "text/plain": "<matplotlib.image.AxesImage at 0x7fb6206991c0>"
     },
     "metadata": {}
    },
    {
     "data": {
      "text/plain": "<Figure size 432x288 with 1 Axes>",
      "image/png": "[encoded data removed]"
     },
     "metadata": {
      "needs_background": "light",
      "image/png": {
       "width": 251,
       "height": 249
      }
     },
     "output_type": "display_data"
    }
   ]
  },
  {
   "cell_type": "code",
   "metadata": {
    "tags": [],
    "cell_id": "00008-dde4147b-675f-4953-94cb-a3b13f498a2d",
    "deepnote_to_be_reexecuted": false,
    "source_hash": "4cfe9620",
    "execution_start": 1624581168746,
    "execution_millis": 6,
    "deepnote_cell_type": "code",
    "deepnote_cell_height": 118.1875
   },
   "source": "len(mnist)",
   "execution_count": null,
   "outputs": [
    {
     "output_type": "execute_result",
     "execution_count": 15,
     "data": {
      "text/plain": "70000"
     },
     "metadata": {}
    }
   ]
  },
  {
   "cell_type": "code",
   "metadata": {
    "tags": [],
    "cell_id": "00009-44893404-eaf4-43f7-b50c-d3c73a9b6d19",
    "deepnote_to_be_reexecuted": false,
    "source_hash": "59636a7c",
    "execution_start": 1624581195040,
    "execution_millis": 53,
    "deepnote_cell_type": "code",
    "deepnote_cell_height": 127,
    "deepnote_output_heights": [
     30
    ]
   },
   "source": "mnist[0][0]",
   "execution_count": null,
   "outputs": [
    {
     "output_type": "execute_result",
     "execution_count": 17,
     "data": {
      "text/plain": "<PIL.Image.Image image mode=RGB size=28x28 at 0x7FB614570610>",
      "image/png": "[encoded data removed]"
     },
     "metadata": {
      "image/png": {
       "width": 28,
       "height": 28
      }
     }
    }
   ]
  },
  {
   "cell_type": "code",
   "metadata": {
    "tags": [],
    "cell_id": "00010-14b7951d-d57e-4908-b3c1-dbe41bbcf76c",
    "deepnote_to_be_reexecuted": false,
    "source_hash": "ada118b3",
    "execution_start": 1624581208678,
    "execution_millis": 9,
    "deepnote_cell_type": "code",
    "deepnote_cell_height": 127,
    "deepnote_output_heights": [
     30
    ]
   },
   "source": "fashion_mnist[0][0]",
   "execution_count": null,
   "outputs": [
    {
     "output_type": "execute_result",
     "execution_count": 18,
     "data": {
      "text/plain": "<PIL.Image.Image image mode=RGB size=28x28 at 0x7FB6206A33A0>",
      "image/png": "[encoded data removed]"
     },
     "metadata": {
      "image/png": {
       "width": 28,
       "height": 28
      }
     }
    }
   ]
  },
  {
   "cell_type": "code",
   "metadata": {
    "tags": [],
    "cell_id": "00011-264cd74e-a1c4-44ae-a0ea-703d99f410e4",
    "deepnote_to_be_reexecuted": false,
    "source_hash": "3e91af65",
    "execution_start": 1624581251990,
    "execution_millis": 6,
    "deepnote_cell_type": "code",
    "deepnote_cell_height": 131,
    "deepnote_output_heights": [
     34
    ]
   },
   "source": "cifar10[0][0]",
   "execution_count": null,
   "outputs": [
    {
     "output_type": "execute_result",
     "execution_count": 19,
     "data": {
      "text/plain": "<PIL.Image.Image image mode=RGB size=32x32 at 0x7FB6205A45E0>",
      "image/png": "[encoded data removed]"
     },
     "metadata": {
      "image/png": {
       "width": 32,
       "height": 32
      }
     }
    }
   ]
  },
  {
   "cell_type": "code",
   "metadata": {
    "tags": [],
    "cell_id": "00012-d5e8b3fc-d17f-4c87-a8e8-ecbd72f64a38",
    "deepnote_to_be_reexecuted": false,
    "source_hash": "a30e83f5",
    "execution_start": 1624581300279,
    "execution_millis": 24,
    "deepnote_cell_type": "code",
    "deepnote_cell_height": 118.1875
   },
   "source": "mnist[0][1]",
   "execution_count": null,
   "outputs": [
    {
     "output_type": "execute_result",
     "execution_count": 21,
     "data": {
      "text/plain": "0"
     },
     "metadata": {}
    }
   ]
  },
  {
   "cell_type": "code",
   "metadata": {
    "tags": [],
    "cell_id": "00013-60e979c0-4132-4aaa-860c-8112f32f9f73",
    "deepnote_to_be_reexecuted": false,
    "source_hash": "af3dc54c",
    "execution_start": 1624581335829,
    "execution_millis": 27,
    "deepnote_cell_type": "code",
    "deepnote_cell_height": 118.1875
   },
   "source": "mnist.classes[mnist[0][1]]",
   "execution_count": null,
   "outputs": [
    {
     "output_type": "execute_result",
     "execution_count": 23,
     "data": {
      "text/plain": "'0_zero'"
     },
     "metadata": {}
    }
   ]
  },
  {
   "cell_type": "code",
   "metadata": {
    "tags": [],
    "cell_id": "00014-078e9b3b-f5fe-4d6f-a24b-dc0fb57ded1f",
    "deepnote_to_be_reexecuted": false,
    "source_hash": "12ab6b65",
    "execution_start": 1624581351460,
    "execution_millis": 6,
    "deepnote_cell_type": "code",
    "deepnote_cell_height": 118.1875
   },
   "source": "type(mnist[0][0])",
   "execution_count": null,
   "outputs": [
    {
     "output_type": "execute_result",
     "execution_count": 24,
     "data": {
      "text/plain": "PIL.Image.Image"
     },
     "metadata": {}
    }
   ]
  },
  {
   "cell_type": "code",
   "metadata": {
    "tags": [],
    "cell_id": "00015-bbf944d4-60a1-4f5a-819a-02f838db0384",
    "deepnote_to_be_reexecuted": false,
    "source_hash": "a3b6e814",
    "execution_start": 1624581490505,
    "execution_millis": 402,
    "deepnote_cell_type": "code",
    "deepnote_cell_height": 153
   },
   "source": "mnist = torchvision.datasets.ImageFolder('/work/mnist', \n            transform=torchvision.transforms.Compose([\n                    torchvision.transforms.ToTensor(), \n                    torchvision.transforms.Normalize([0.5], [0.5])\n                    ]))",
   "execution_count": null,
   "outputs": []
  },
  {
   "cell_type": "code",
   "metadata": {
    "tags": [],
    "cell_id": "00016-5e918825-49b1-4843-a415-c395fc785142",
    "deepnote_cell_type": "code",
    "deepnote_cell_height": 84
   },
   "source": "mnist = torchvision.datasets.ImageFolder('/work/mnist', transform=torchvision.transforms.Compose([\n                    torchvision.transforms.ToTensor(), torchvision.transforms.Grayscale(1), torchvision.transforms.Normalize((0.1307,), (0.3081,))]))",
   "execution_count": null,
   "outputs": []
  },
  {
   "cell_type": "code",
   "metadata": {
    "tags": [],
    "cell_id": "00016-31b09990-0a80-494d-9295-db3880d33aec",
    "deepnote_to_be_reexecuted": false,
    "source_hash": "12ab6b65",
    "execution_start": 1624581563737,
    "execution_millis": 5,
    "deepnote_cell_type": "code",
    "deepnote_cell_height": 118.1875
   },
   "source": "type(mnist[0][0])",
   "execution_count": null,
   "outputs": [
    {
     "output_type": "execute_result",
     "execution_count": 28,
     "data": {
      "text/plain": "torch.Tensor"
     },
     "metadata": {}
    }
   ]
  },
  {
   "cell_type": "code",
   "metadata": {
    "tags": [],
    "cell_id": "00017-ad667df0-be65-44e3-8a74-d8519dc1ca55",
    "deepnote_to_be_reexecuted": false,
    "source_hash": "621c0baa",
    "execution_start": 1624581582116,
    "execution_millis": 7,
    "deepnote_cell_type": "code",
    "deepnote_cell_height": 118.1875
   },
   "source": "mnist[0][0].shape",
   "execution_count": null,
   "outputs": [
    {
     "output_type": "execute_result",
     "execution_count": 29,
     "data": {
      "text/plain": "torch.Size([3, 28, 28])"
     },
     "metadata": {}
    }
   ]
  },
  {
   "cell_type": "code",
   "metadata": {
    "tags": [],
    "cell_id": "00018-811a8521-96a6-434c-9dc8-1c34f7a48407",
    "deepnote_to_be_reexecuted": false,
    "source_hash": "90a036fd",
    "execution_start": 1624581646113,
    "execution_millis": 1,
    "deepnote_cell_type": "code",
    "deepnote_cell_height": 81
   },
   "source": "train_dataset, test_dataset = torch.utils.data.random_split(mnist, [60000, 10000])",
   "execution_count": null,
   "outputs": []
  },
  {
   "cell_type": "code",
   "metadata": {
    "tags": [],
    "cell_id": "00019-42561ebb-3913-4575-a478-eff34edd1dba",
    "deepnote_to_be_reexecuted": false,
    "source_hash": "1dc6e31",
    "execution_start": 1624581716680,
    "execution_millis": 2,
    "deepnote_cell_type": "code",
    "deepnote_cell_height": 99
   },
   "source": "train_dataloader = torch.utils.data.DataLoader(train_dataset, batch_size=64, shuffle=True)\ntest_dataloader = torch.utils.data.DataLoader(test_dataset, batch_size=64, shuffle=True)",
   "execution_count": null,
   "outputs": []
  },
  {
   "cell_type": "code",
   "metadata": {
    "tags": [],
    "cell_id": "00020-5276acd0-99fa-417e-a616-1012af007052",
    "deepnote_to_be_reexecuted": false,
    "source_hash": "350b9e39",
    "execution_start": 1624581868118,
    "execution_millis": 226,
    "deepnote_cell_type": "code",
    "deepnote_cell_height": 186.375
   },
   "source": "for X, y in test_dataloader:\n    print(\"Shape of X [N, C, H, W]: \", X.shape)\n    print(\"Shape of y: \", y.shape, y.dtype)\n    break",
   "execution_count": null,
   "outputs": [
    {
     "name": "stdout",
     "text": "Shape of X [N, C, H, W]:  torch.Size([64, 3, 28, 28])\nShape of y:  torch.Size([64]) torch.int64\n",
     "output_type": "stream"
    }
   ]
  },
  {
   "cell_type": "markdown",
   "source": "<a style='text-decoration:none;line-height:16px;display:flex;color:#5B5B62;padding:10px;justify-content:end;' href='https://deepnote.com?utm_source=created-in-deepnote-cell&projectId=26e5d5b4-a604-4f7b-aef4-7756f8127ef0' target=\"_blank\">\n<img alt='Created in deepnote.com' style='display:inline;max-height:16px;margin:0px;margin-right:7.5px;' src='data:image/svg+xml;base64,PD94bWwgdmVyc2lvbj0iMS4wIiBlbmNvZGluZz0iVVRGLTgiPz4KPHN2ZyB3aWR0aD0iODBweCIgaGVpZ2h0PSI4MHB4IiB2aWV3Qm94PSIwIDAgODAgODAiIHZlcnNpb249IjEuMSIgeG1sbnM9Imh0dHA6Ly93d3cudzMub3JnLzIwMDAvc3ZnIiB4bWxuczp4bGluaz0iaHR0cDovL3d3dy53My5vcmcvMTk5OS94bGluayI+CiAgICA8IS0tIEdlbmVyYXRvcjogU2tldGNoIDU0LjEgKDc2NDkwKSAtIGh0dHBzOi8vc2tldGNoYXBwLmNvbSAtLT4KICAgIDx0aXRsZT5Hcm91cCAzPC90aXRsZT4KICAgIDxkZXNjPkNyZWF0ZWQgd2l0aCBTa2V0Y2guPC9kZXNjPgogICAgPGcgaWQ9IkxhbmRpbmciIHN0cm9rZT0ibm9uZSIgc3Ryb2tlLXdpZHRoPSIxIiBmaWxsPSJub25lIiBmaWxsLXJ1bGU9ImV2ZW5vZGQiPgogICAgICAgIDxnIGlkPSJBcnRib2FyZCIgdHJhbnNmb3JtPSJ0cmFuc2xhdGUoLTEyMzUuMDAwMDAwLCAtNzkuMDAwMDAwKSI+CiAgICAgICAgICAgIDxnIGlkPSJHcm91cC0zIiB0cmFuc2Zvcm09InRyYW5zbGF0ZSgxMjM1LjAwMDAwMCwgNzkuMDAwMDAwKSI+CiAgICAgICAgICAgICAgICA8cG9seWdvbiBpZD0iUGF0aC0yMCIgZmlsbD0iIzAyNjVCNCIgcG9pbnRzPSIyLjM3NjIzNzYyIDgwIDM4LjA0NzY2NjcgODAgNTcuODIxNzgyMiA3My44MDU3NTkyIDU3LjgyMTc4MjIgMzIuNzU5MjczOSAzOS4xNDAyMjc4IDMxLjY4MzE2ODMiPjwvcG9seWdvbj4KICAgICAgICAgICAgICAgIDxwYXRoIGQ9Ik0zNS4wMDc3MTgsODAgQzQyLjkwNjIwMDcsNzYuNDU0OTM1OCA0Ny41NjQ5MTY3LDcxLjU0MjI2NzEgNDguOTgzODY2LDY1LjI2MTk5MzkgQzUxLjExMjI4OTksNTUuODQxNTg0MiA0MS42NzcxNzk1LDQ5LjIxMjIyODQgMjUuNjIzOTg0Niw0OS4yMTIyMjg0IEMyNS40ODQ5Mjg5LDQ5LjEyNjg0NDggMjkuODI2MTI5Niw0My4yODM4MjQ4IDM4LjY0NzU4NjksMzEuNjgzMTY4MyBMNzIuODcxMjg3MSwzMi41NTQ0MjUgTDY1LjI4MDk3Myw2Ny42NzYzNDIxIEw1MS4xMTIyODk5LDc3LjM3NjE0NCBMMzUuMDA3NzE4LDgwIFoiIGlkPSJQYXRoLTIyIiBmaWxsPSIjMDAyODY4Ij48L3BhdGg+CiAgICAgICAgICAgICAgICA8cGF0aCBkPSJNMCwzNy43MzA0NDA1IEwyNy4xMTQ1MzcsMC4yNTcxMTE0MzYgQzYyLjM3MTUxMjMsLTEuOTkwNzE3MDEgODAsMTAuNTAwMzkyNyA4MCwzNy43MzA0NDA1IEM4MCw2NC45NjA0ODgyIDY0Ljc3NjUwMzgsNzkuMDUwMzQxNCAzNC4zMjk1MTEzLDgwIEM0Ny4wNTUzNDg5LDc3LjU2NzA4MDggNTMuNDE4MjY3Nyw3MC4zMTM2MTAzIDUzLjQxODI2NzcsNTguMjM5NTg4NSBDNTMuNDE4MjY3Nyw0MC4xMjg1NTU3IDM2LjMwMzk1NDQsMzcuNzMwNDQwNSAyNS4yMjc0MTcsMzcuNzMwNDQwNSBDMTcuODQzMDU4NiwzNy43MzA0NDA1IDkuNDMzOTE5NjYsMzcuNzMwNDQwNSAwLDM3LjczMDQ0MDUgWiIgaWQ9IlBhdGgtMTkiIGZpbGw9IiMzNzkzRUYiPjwvcGF0aD4KICAgICAgICAgICAgPC9nPgogICAgICAgIDwvZz4KICAgIDwvZz4KPC9zdmc+' > </img>\nCreated in <span style='font-weight:600;margin-left:4px;'>Deepnote</span></a>",
   "metadata": {
    "tags": [],
    "created_in_deepnote_cell": true,
    "deepnote_cell_type": "markdown"
   }
  }
 ],
 "nbformat": 4,
 "nbformat_minor": 2,
 "metadata": {
  "orig_nbformat": 2,
  "deepnote": {
   "is_reactive": false
  },
  "deepnote_notebook_id": "0e46505b-798f-4343-9137-6231265b167d",
  "deepnote_execution_queue": []
 }
}