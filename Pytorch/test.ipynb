{
 "cells": [
  {
   "cell_type": "code",
   "metadata": {
    "tags": [],
    "cell_id": "00000-ce5fb486-0fb1-4008-bb13-6aae61621bb6",
    "deepnote_to_be_reexecuted": false,
    "source_hash": "df17fb9d",
    "execution_start": 1647315319844,
    "execution_millis": 3874,
    "deepnote_cell_type": "code",
    "deepnote_cell_height": 192.5625
   },
   "source": "import torch\nimport torchvision\nprint(torch.__version__)",
   "execution_count": null,
   "outputs": [
    {
     "name": "stderr",
     "text": "/shared-libs/python3.8/py/lib/python3.8/site-packages/tqdm/auto.py:22: TqdmWarning: IProgress not found. Please update jupyter and ipywidgets. See https://ipywidgets.readthedocs.io/en/stable/user_install.html\n  from .autonotebook import tqdm as notebook_tqdm\n1.10.2+cu102\n",
     "output_type": "stream"
    }
   ]
  },
  {
   "cell_type": "code",
   "metadata": {
    "cell_id": "603fc4d4-44ab-4a7f-a8c3-1bb29dc9d674",
    "tags": [],
    "deepnote_to_be_reexecuted": false,
    "source_hash": "cf5793dc",
    "execution_start": 1647401310477,
    "execution_millis": 1110980,
    "deepnote_cell_type": "code",
    "deepnote_cell_height": 1619
   },
   "source": "import tqdm\nimport torch\nimport torchvision\nmnist = torchvision.datasets.ImageFolder('/work/mnist', transform=torchvision.transforms.Compose([\n                    torchvision.transforms.ToTensor(), \\\n                    torchvision.transforms.Grayscale(1), \\\n                    torchvision.transforms.Normalize((0.1307,), (0.3081,))]))\ntrain_dataset, test_dataset = torch.utils.data.random_split(mnist, [60000, 10000])\ntrain_dataloader = torch.utils.data.DataLoader(train_dataset, batch_size=4, shuffle=True)\ntest_dataloader = torch.utils.data.DataLoader(test_dataset, batch_size=4, shuffle=True)\nclass NeuralNetwork(torch.nn.Module):\n    def __init__(self):\n        super(NeuralNetwork, self).__init__()\n        self.flatten = torch.nn.Flatten()\n        self.linear_relu_stack = torch.nn.Sequential(\n            torch.nn.Linear(28*28, 512),\n            torch.nn.ReLU(),\n            torch.nn.Linear(512, 512),\n            torch.nn.ReLU(),\n            torch.nn.Linear(512, 10),\n            torch.nn.ReLU()\n        )\n    def forward(self, x):\n        x = self.flatten(x)\n        logits = self.linear_relu_stack(x)\n        return logits\nmodel = NeuralNetwork()\nprint(model)\nloss_fn = torch.nn.CrossEntropyLoss()\noptimizer = torch.optim.SGD(model.parameters(), lr=0.01)\nepochs = 5\nfor t in range(epochs):\n    train_size = len(train_dataloader.dataset)\n    for batch, (X, y) in enumerate(tqdm.tqdm(train_dataloader, desc = f\"Epoch {t+1}\", ncols = 100)):\n        pred = model(X)\n        loss = loss_fn(pred, y)\n        optimizer.zero_grad()\n        loss.backward()\n        optimizer.step()\n    test_size = len(test_dataloader.dataset)\n    num_batches = len(test_dataloader)\n    model.eval()\n    test_loss, correct = 0, 0\n    with torch.no_grad():\n        for X, y in test_dataloader:\n            pred = model(X)\n            test_loss += loss_fn(pred, y).item()\n            correct += (pred.argmax(1) == y).type(torch.float).sum().item()\n    test_loss /= num_batches\n    correct /= test_size\n    print(f\"Accuracy: {(100*correct):>0.1f}%, Avg loss: {test_loss:>8f} \\n\")\nprint(\"Done!\")",
   "execution_count": null,
   "outputs": [
    {
     "name": "stdout",
     "text": "NeuralNetwork(\n  (flatten): Flatten(start_dim=1, end_dim=-1)\n  (linear_relu_stack): Sequential(\n    (0): Linear(in_features=784, out_features=512, bias=True)\n    (1): ReLU()\n    (2): Linear(in_features=512, out_features=512, bias=True)\n    (3): ReLU()\n    (4): Linear(in_features=512, out_features=10, bias=True)\n    (5): ReLU()\n  )\n)\nEpoch 1\nTrain: 100%|██████████████████████████████████████████████████| 15000/15000 [04:38<00:00, 53.91it/s]\nAccuracy: 96.7%, Avg loss: 0.111207 \n\nEpoch 2\nTrain: 100%|██████████████████████████████████████████████████| 15000/15000 [03:20<00:00, 74.91it/s]\nAccuracy: 97.4%, Avg loss: 0.086681 \n\nEpoch 3\nTrain: 100%|██████████████████████████████████████████████████| 15000/15000 [02:46<00:00, 89.84it/s]\nAccuracy: 96.9%, Avg loss: 0.093094 \n\nEpoch 4\nTrain: 100%|██████████████████████████████████████████████████| 15000/15000 [02:50<00:00, 88.06it/s]\nAccuracy: 97.6%, Avg loss: 0.078384 \n\nEpoch 5\nTrain: 100%|██████████████████████████████████████████████████| 15000/15000 [02:52<00:00, 86.81it/s]\nAccuracy: 98.0%, Avg loss: 0.072641 \n\nDone!\n",
     "output_type": "stream"
    }
   ]
  },
  {
   "cell_type": "code",
   "metadata": {
    "cell_id": "ed0c34a4-05e6-4ef2-8793-d793f3a833e1",
    "tags": [],
    "deepnote_to_be_reexecuted": false,
    "source_hash": "e9f2d74b",
    "execution_start": 1647400608143,
    "execution_millis": 5062,
    "deepnote_cell_type": "code",
    "deepnote_cell_height": 166.1875
   },
   "source": "import tqdm\nimport time\nfor i in tqdm.tqdm(range(10)):\n    time.sleep(0.5)",
   "execution_count": null,
   "outputs": [
    {
     "name": "stderr",
     "text": "100%|██████████| 10/10 [00:05<00:00,  1.99it/s]\n",
     "output_type": "stream"
    }
   ]
  },
  {
   "cell_type": "markdown",
   "source": "<a style='text-decoration:none;line-height:16px;display:flex;color:#5B5B62;padding:10px;justify-content:end;' href='https://deepnote.com?utm_source=created-in-deepnote-cell&projectId=26e5d5b4-a604-4f7b-aef4-7756f8127ef0' target=\"_blank\">\n<img alt='Created in deepnote.com' style='display:inline;max-height:16px;margin:0px;margin-right:7.5px;' src='data:image/svg+xml;base64,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' > </img>\nCreated in <span style='font-weight:600;margin-left:4px;'>Deepnote</span></a>",
   "metadata": {
    "tags": [],
    "created_in_deepnote_cell": true,
    "deepnote_cell_type": "markdown"
   }
  }
 ],
 "nbformat": 4,
 "nbformat_minor": 2,
 "metadata": {
  "orig_nbformat": 2,
  "deepnote": {
   "is_reactive": false
  },
  "deepnote_notebook_id": "3bcb3e3f-e5ac-4322-a96a-f917fe8fc197",
  "deepnote_execution_queue": []
 }
}