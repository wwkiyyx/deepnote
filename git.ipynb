{
 "cells": [
  {
   "cell_type": "code",
   "source": "!git config --global user.email \"670405621@qq.com\"",
   "metadata": {
    "cell_id": "bedd110b98154f27bda2ce0f3898c110",
    "tags": [],
    "deepnote_to_be_reexecuted": false,
    "source_hash": "afdfc6c8",
    "execution_start": 1652237846965,
    "execution_millis": 651,
    "deepnote_cell_type": "code",
    "deepnote_cell_height": 81
   },
   "outputs": [],
   "execution_count": 1
  },
  {
   "cell_type": "code",
   "source": "!git config --global user.name \"wangwenkai\"",
   "metadata": {
    "cell_id": "ddaf8a29aa3b4ea2b309ff9a7682e150",
    "tags": [],
    "deepnote_to_be_reexecuted": false,
    "source_hash": "52fa1bf6",
    "execution_start": 1652237847627,
    "execution_millis": 659,
    "deepnote_cell_type": "code",
    "deepnote_cell_height": 81
   },
   "outputs": [],
   "execution_count": 2
  },
  {
   "cell_type": "code",
   "source": "!git add .",
   "metadata": {
    "cell_id": "4b3287ab23c248a489a28a3400d71c50",
    "tags": [],
    "deepnote_to_be_reexecuted": false,
    "source_hash": "f959fda0",
    "execution_start": 1652237848289,
    "execution_millis": 2801,
    "deepnote_cell_type": "code",
    "deepnote_cell_height": 81
   },
   "outputs": [],
   "execution_count": 3
  },
  {
   "cell_type": "code",
   "source": "!git commit -m update",
   "metadata": {
    "cell_id": "997f1be791274c90ab0ff73e98ec18fc",
    "tags": [],
    "deepnote_to_be_reexecuted": false,
    "source_hash": "84c5fb1e",
    "execution_start": 1652237851092,
    "execution_millis": 807,
    "deepnote_cell_type": "code",
    "deepnote_cell_height": 701
   },
   "outputs": [
    {
     "name": "stdout",
     "text": "[main 9cb16bf] update\n 90 files changed, 22878 insertions(+), 22 deletions(-)\n create mode 100644 DockerFileDir/baota/Dockerfile\n create mode 100644 DockerFileDir/yolo/Dockerfile\n create mode 100644 Kaggle/chrome/Chrome-Hoxx-3.11.4.crx\n create mode 100644 Kaggle/chrome/Chrome-Hoxx-3.11.5.rar\n create mode 100644 Kaggle/chrome/Chrome-Hoxx-3.11.6.rar\n create mode 100644 Kaggle/kaggle.ipynb\n create mode 100644 Kaggle/kaggle.json\n create mode 100644 Kaggle/kernel-metadata.json\n create mode 100644 Kaggle/start_tensorflow.ipynb\n create mode 100644 OpenCV/OpenCVPro/opencvpro.ipynb\n create mode 100644 OpenCV/OpenCVPro/opencvpro/LICENSE\n create mode 100644 OpenCV/OpenCVPro/opencvpro/README.md\n create mode 100644 OpenCV/OpenCVPro/opencvpro/build/lib/opencvpro/__init__.py\n create mode 100644 OpenCV/OpenCVPro/opencvpro/build/lib/opencvpro/jupytercv.py\n create mode 100644 OpenCV/OpenCVPro/opencvpro/dist/opencvpro-0.0.1-py3-none-any.whl\n create mode 100644 OpenCV/OpenCVPro/opencvpro/dist/opencvpro-0.0.1.tar.gz\n create mode 100644 OpenCV/OpenCVPro/opencvpro/pyproject.toml\n create mode 100644 OpenCV/OpenCVPro/opencvpro/setup.py\n create mode 100644 OpenCV/OpenCVPro/opencvpro/src/opencvpro.egg-info/PKG-INFO\n create mode 100644 OpenCV/OpenCVPro/opencvpro/src/opencvpro.egg-info/SOURCES.txt\n create mode 100644 OpenCV/OpenCVPro/opencvpro/src/opencvpro.egg-info/dependency_links.txt\n create mode 100644 OpenCV/OpenCVPro/opencvpro/src/opencvpro.egg-info/top_level.txt\n create mode 100644 OpenCV/OpenCVPro/opencvpro/src/opencvpro/__init__.py\n create mode 100644 OpenCV/OpenCVPro/opencvpro/src/opencvpro/jupytercv.py\n create mode 100644 OpenCV/README.md\n create mode 100644 OpenCV/deepnote/__init__py\n create mode 100644 OpenCV/deepnote/__pycache__/deepcv.cpython-38.pyc\n create mode 100644 OpenCV/deepnote/deepcv.py\n create mode 100644 OpenCV/install_base.ipynb\n create mode 100644 OpenCV/mat_numpy.ipynb\n create mode 100644 OpenCV/putText.ipynb\n create mode 100644 OpenCV/resize.ipynb\n create mode 100644 OpenCV/threshold.ipynb\n create mode 100644 \"OpenCV/\\345\\217\\230\\346\\215\\242.ipynb\"\n create mode 100644 \"OpenCV/\\346\\240\\207\\345\\256\\232.ipynb\"\n create mode 100644 \"OpenCV/\\346\\250\\241\\346\\235\\277\\345\\214\\271\\351\\205\\215.ipynb\"\n create mode 100644 \"OpenCV/\\347\\211\\271\\345\\276\\201.ipynb\"\n create mode 100644 \"OpenCV/\\347\\224\\273\\345\\233\\276.ipynb\"\n create mode 100644 \"OpenCV/\\350\\275\\256\\345\\273\\223.ipynb\"\n create mode 100644 \"OpenCV/\\350\\276\\271\\347\\274\\230.ipynb\"\n create mode 100644 Python/1start.ipynb\n create mode 100644 Python/README.md\n create mode 100644 Python/datetime.ipynb\n create mode 100644 Python/json.ipynb\n create mode 100644 Python/matplotlib.ipynb\n create mode 100644 Python/os.ipynb\n create mode 100644 Python/pandas_csv.ipynb\n create mode 100644 Python/pillow.ipynb\n create mode 100644 Python/socket.ipynb\n create mode 100644 Python/test.ipynb\n create mode 100644 Python/xml.ipynb\n create mode 100644 \"Python/\\345\\237\\272\\347\\241\\200.ipynb\"\n create mode 100644 \"Python/\\345\\255\\227\\347\\254\\246\\344\\270\\262.ipynb\"\n create mode 100644 \"Python/\\345\\274\\202\\345\\270\\270.ipynb\"\n create mode 100644 \"Python/\\346\\225\\260\\345\\255\\227.ipynb\"\n create mode 100644 \"Python/\\346\\226\\207\\344\\273\\266.ipynb\"\n create mode 100644 \"Python/\\350\\277\\220\\347\\256\\227\\347\\254\\246.ipynb\"\n create mode 100644 \"Python/\\351\\233\\206\\345\\220\\210.ipynb\"\n create mode 100644 Pytorch/ImageFolder.ipynb\n create mode 100644 Pytorch/README.md\n create mode 100644 Pytorch/fashion_mnist.ipynb\n create mode 100644 Pytorch/mnist.ipynb\n create mode 100644 Pytorch/test.ipynb\n create mode 100644 Tensorflow/ImageDataGenerator.ipynb\n create mode 100644 Tensorflow/README.md\n create mode 100644 Tensorflow/cifar100_cnn.ipynb\n create mode 100644 Tensorflow/cifar10_cnn.ipynb\n create mode 100644 \"Tensorflow/cifar10\\344\\271\\235\\346\\210\\220\\345\\207\\206\\347\\241\\256\\347\\216\\207.ipynb\"\n create mode 100644 Tensorflow/fashion_mnist_cnn.ipynb\n create mode 100644 Tensorflow/fit_line.ipynb\n create mode 100644 Tensorflow/from_tensor_slices.ipynb\n create mode 100644 Tensorflow/image_dataset_from_directory.ipynb\n create mode 100644 Tensorflow/keras_Sequential.ipynb\n create mode 100644 Tensorflow/keras_applications.ipynb\n create mode 100644 Tensorflow/mnist_cnn.ipynb\n create mode 100644 Tensorflow/test.ipynb\n create mode 100644 Tensorflow/tf.keras.applications.txt\n create mode 100644 docker-compose.yml\n create mode 100644 hello.sh\n create mode 100644 linux.ipynb\n create mode 100644 msyh.ttc\n create mode 100644 okteto.ipynb\n create mode 100644 redis.ipynb\n create mode 100644 simhei.ttf\n create mode 100644 start_tensorflow.ipynb\n create mode 100644 test.ipynb\n create mode 100644 wxbot.ipynb\n create mode 100644 \"\\346\\260\\264\\347\\224\\265\\346\\260\\224.ipynb\"\n create mode 100644 \"\\350\\202\\241\\347\\245\\250.ipynb\"\n",
     "output_type": "stream"
    }
   ],
   "execution_count": 4
  },
  {
   "cell_type": "code",
   "metadata": {
    "tags": [],
    "cell_id": "00001-126d4d47-89d4-4a45-b366-4003b668c476",
    "deepnote_to_be_reexecuted": false,
    "source_hash": "3ed840b7",
    "execution_start": 1652237851906,
    "execution_millis": 13124,
    "owner_user_id": "64653946-af2f-4699-a282-4043b0ba5576",
    "deepnote_cell_type": "code",
    "deepnote_cell_height": 173
   },
   "source": "!git push",
   "execution_count": 5,
   "outputs": [
    {
     "name": "stdout",
     "text": "Enumerating objects: 108, done.\nCounting objects: 100% (108/108), done.\nDelta compression using up to 2 threads\nCompressing objects: 100% (97/97), done.\nWriting objects: 100% (106/106), 23.88 MiB | 2.54 MiB/s, done.\nTotal 106 (delta 26), reused 0 (delta 0)\nremote: Resolving deltas: 100% (26/26), completed with 1 local object.\u001b[K\nTo https://github.com/wwkiyyx/deepnote.git\n   d02598f..9cb16bf  main -> main\n",
     "output_type": "stream"
    }
   ]
  },
  {
   "cell_type": "markdown",
   "source": "<a style='text-decoration:none;line-height:16px;display:flex;color:#5B5B62;padding:10px;justify-content:end;' href='https://deepnote.com?utm_source=created-in-deepnote-cell&projectId=5292883e-50a7-4f1d-9f12-778c1d6da182' target=\"_blank\">\n<img alt='Created in deepnote.com' style='display:inline;max-height:16px;margin:0px;margin-right:7.5px;' src='data:image/svg+xml;base64,PD94bWwgdmVyc2lvbj0iMS4wIiBlbmNvZGluZz0iVVRGLTgiPz4KPHN2ZyB3aWR0aD0iODBweCIgaGVpZ2h0PSI4MHB4IiB2aWV3Qm94PSIwIDAgODAgODAiIHZlcnNpb249IjEuMSIgeG1sbnM9Imh0dHA6Ly93d3cudzMub3JnLzIwMDAvc3ZnIiB4bWxuczp4bGluaz0iaHR0cDovL3d3dy53My5vcmcvMTk5OS94bGluayI+CiAgICA8IS0tIEdlbmVyYXRvcjogU2tldGNoIDU0LjEgKDc2NDkwKSAtIGh0dHBzOi8vc2tldGNoYXBwLmNvbSAtLT4KICAgIDx0aXRsZT5Hcm91cCAzPC90aXRsZT4KICAgIDxkZXNjPkNyZWF0ZWQgd2l0aCBTa2V0Y2guPC9kZXNjPgogICAgPGcgaWQ9IkxhbmRpbmciIHN0cm9rZT0ibm9uZSIgc3Ryb2tlLXdpZHRoPSIxIiBmaWxsPSJub25lIiBmaWxsLXJ1bGU9ImV2ZW5vZGQiPgogICAgICAgIDxnIGlkPSJBcnRib2FyZCIgdHJhbnNmb3JtPSJ0cmFuc2xhdGUoLTEyMzUuMDAwMDAwLCAtNzkuMDAwMDAwKSI+CiAgICAgICAgICAgIDxnIGlkPSJHcm91cC0zIiB0cmFuc2Zvcm09InRyYW5zbGF0ZSgxMjM1LjAwMDAwMCwgNzkuMDAwMDAwKSI+CiAgICAgICAgICAgICAgICA8cG9seWdvbiBpZD0iUGF0aC0yMCIgZmlsbD0iIzAyNjVCNCIgcG9pbnRzPSIyLjM3NjIzNzYyIDgwIDM4LjA0NzY2NjcgODAgNTcuODIxNzgyMiA3My44MDU3NTkyIDU3LjgyMTc4MjIgMzIuNzU5MjczOSAzOS4xNDAyMjc4IDMxLjY4MzE2ODMiPjwvcG9seWdvbj4KICAgICAgICAgICAgICAgIDxwYXRoIGQ9Ik0zNS4wMDc3MTgsODAgQzQyLjkwNjIwMDcsNzYuNDU0OTM1OCA0Ny41NjQ5MTY3LDcxLjU0MjI2NzEgNDguOTgzODY2LDY1LjI2MTk5MzkgQzUxLjExMjI4OTksNTUuODQxNTg0MiA0MS42NzcxNzk1LDQ5LjIxMjIyODQgMjUuNjIzOTg0Niw0OS4yMTIyMjg0IEMyNS40ODQ5Mjg5LDQ5LjEyNjg0NDggMjkuODI2MTI5Niw0My4yODM4MjQ4IDM4LjY0NzU4NjksMzEuNjgzMTY4MyBMNzIuODcxMjg3MSwzMi41NTQ0MjUgTDY1LjI4MDk3Myw2Ny42NzYzNDIxIEw1MS4xMTIyODk5LDc3LjM3NjE0NCBMMzUuMDA3NzE4LDgwIFoiIGlkPSJQYXRoLTIyIiBmaWxsPSIjMDAyODY4Ij48L3BhdGg+CiAgICAgICAgICAgICAgICA8cGF0aCBkPSJNMCwzNy43MzA0NDA1IEwyNy4xMTQ1MzcsMC4yNTcxMTE0MzYgQzYyLjM3MTUxMjMsLTEuOTkwNzE3MDEgODAsMTAuNTAwMzkyNyA4MCwzNy43MzA0NDA1IEM4MCw2NC45NjA0ODgyIDY0Ljc3NjUwMzgsNzkuMDUwMzQxNCAzNC4zMjk1MTEzLDgwIEM0Ny4wNTUzNDg5LDc3LjU2NzA4MDggNTMuNDE4MjY3Nyw3MC4zMTM2MTAzIDUzLjQxODI2NzcsNTguMjM5NTg4NSBDNTMuNDE4MjY3Nyw0MC4xMjg1NTU3IDM2LjMwMzk1NDQsMzcuNzMwNDQwNSAyNS4yMjc0MTcsMzcuNzMwNDQwNSBDMTcuODQzMDU4NiwzNy43MzA0NDA1IDkuNDMzOTE5NjYsMzcuNzMwNDQwNSAwLDM3LjczMDQ0MDUgWiIgaWQ9IlBhdGgtMTkiIGZpbGw9IiMzNzkzRUYiPjwvcGF0aD4KICAgICAgICAgICAgPC9nPgogICAgICAgIDwvZz4KICAgIDwvZz4KPC9zdmc+' > </img>\nCreated in <span style='font-weight:600;margin-left:4px;'>Deepnote</span></a>",
   "metadata": {
    "tags": [],
    "created_in_deepnote_cell": true,
    "deepnote_cell_type": "markdown"
   }
  }
 ],
 "nbformat": 4,
 "nbformat_minor": 2,
 "metadata": {
  "orig_nbformat": 2,
  "deepnote": {
   "is_reactive": false
  },
  "deepnote_notebook_id": "f3fea137-e921-415f-ab4b-2c10e0cabe36",
  "deepnote_execution_queue": []
 }
}