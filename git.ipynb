{
 "cells": [
  {
   "cell_type": "code",
   "metadata": {
    "cell_id": "9b712dac57d642c7992efc992c5e6fd9",
    "tags": [],
    "deepnote_to_be_reexecuted": true,
    "source_hash": "6aa4c3e3",
    "execution_start": 1653026380684,
    "execution_millis": 677,
    "deepnote_cell_type": "code",
    "deepnote_cell_height": 191
   },
   "source": "#!git remote add gitee git@gitee.com:wwkiyyx/deepnote.git\n!git remote -v",
   "outputs": [
    {
     "name": "stdout",
     "text": "gitee\tgit@gitee.com:wwkiyyx/deepnote.git (fetch)\ngitee\tgit@gitee.com:wwkiyyx/deepnote.git (push)\norigin\thttps://github.com/wwkiyyx/deepnote.git (fetch)\norigin\thttps://github.com/wwkiyyx/deepnote.git (push)\n",
     "output_type": "stream"
    }
   ],
   "execution_count": null
  },
  {
   "cell_type": "code",
   "metadata": {
    "cell_id": "bedd110b98154f27bda2ce0f3898c110",
    "tags": [],
    "deepnote_to_be_reexecuted": true,
    "source_hash": "afdfc6c8",
    "execution_start": 1653026381157,
    "execution_millis": 304,
    "deepnote_cell_type": "code",
    "deepnote_cell_height": 81
   },
   "source": "!git config --global user.email \"670405621@qq.com\"",
   "outputs": [],
   "execution_count": null
  },
  {
   "cell_type": "code",
   "metadata": {
    "cell_id": "ddaf8a29aa3b4ea2b309ff9a7682e150",
    "tags": [],
    "deepnote_to_be_reexecuted": true,
    "source_hash": "52fa1bf6",
    "execution_start": 1653026381470,
    "execution_millis": 323,
    "deepnote_cell_type": "code",
    "deepnote_cell_height": 81
   },
   "source": "!git config --global user.name \"wangwenkai\"",
   "outputs": [],
   "execution_count": null
  },
  {
   "cell_type": "code",
   "metadata": {
    "cell_id": "4b3287ab23c248a489a28a3400d71c50",
    "tags": [],
    "deepnote_to_be_reexecuted": true,
    "source_hash": "f959fda0",
    "execution_start": 1653026381802,
    "execution_millis": 384,
    "deepnote_cell_type": "code",
    "deepnote_cell_height": 81
   },
   "source": "!git add .",
   "outputs": [],
   "execution_count": null
  },
  {
   "cell_type": "code",
   "metadata": {
    "cell_id": "997f1be791274c90ab0ff73e98ec18fc",
    "tags": [],
    "deepnote_to_be_reexecuted": true,
    "source_hash": "84c5fb1e",
    "execution_start": 1653026382192,
    "execution_millis": 413,
    "deepnote_cell_type": "code",
    "deepnote_cell_height": 153
   },
   "source": "!git commit -m update",
   "outputs": [
    {
     "name": "stdout",
     "text": "[main c01328c] update\n 5 files changed, 67 insertions(+), 239 deletions(-)\n delete mode 100644 wangwenkai40/git.ipynb\n",
     "output_type": "stream"
    }
   ],
   "execution_count": null
  },
  {
   "cell_type": "code",
   "metadata": {
    "tags": [],
    "cell_id": "00001-126d4d47-89d4-4a45-b366-4003b668c476",
    "deepnote_to_be_reexecuted": true,
    "source_hash": "3ed840b7",
    "execution_start": 1653026382614,
    "execution_millis": 2913,
    "deepnote_cell_type": "code",
    "deepnote_cell_height": 274
   },
   "source": "!git push",
   "outputs": [
    {
     "name": "stdout",
     "text": "Enumerating objects: 13, done.\nCounting objects: 100% (13/13), done.\nDelta compression using up to 2 threads\nCompressing objects: 100% (6/6), done.\nWriting objects: 100% (7/7), 1.37 KiB | 1.37 MiB/s, done.\nTotal 7 (delta 5), reused 0 (delta 0)\nremote: Resolving deltas: 100% (5/5), completed with 5 local objects.\u001b[K\nTo https://github.com/wwkiyyx/deepnote.git\n   74d884d..c01328c  main -> main\n",
     "output_type": "stream"
    }
   ],
   "execution_count": null
  },
  {
   "cell_type": "code",
   "metadata": {
    "cell_id": "b4a104fa6e2c4a5bb50dcc465102f348",
    "tags": [],
    "deepnote_to_be_reexecuted": true,
    "source_hash": "97ed3432",
    "execution_start": 1653026452295,
    "execution_millis": 699,
    "owner_user_id": "64653946-af2f-4699-a282-4043b0ba5576",
    "deepnote_cell_type": "code",
    "deepnote_cell_height": 117
   },
   "source": "!cp /work/id_rsa /root/.ssh/\n!cp /work/id_rsa.pub /root/.ssh/\n",
   "outputs": [],
   "execution_count": null
  },
  {
   "cell_type": "code",
   "metadata": {
    "cell_id": "ff82c55e27cd41d5868df1bff96ad6f6",
    "tags": [],
    "deepnote_to_be_reexecuted": true,
    "source_hash": "e539a8f4",
    "execution_start": 1653026426726,
    "execution_millis": 5083,
    "deepnote_cell_type": "code",
    "deepnote_cell_height": 314.0625
   },
   "source": "!git push gitee main",
   "outputs": [
    {
     "name": "stdout",
     "text": "Warning: Identity file /work/.deepnote/gitkey not accessible: No such file or directory.\n\nEnumerating objects: 13, done.\nCounting objects: 100% (13/13), done.\nDelta compression using up to 2 threads\nCompressing objects: 100% (6/6), done.\nWriting objects: 100% (7/7), 1.37 KiB | 1.37 MiB/s, done.\nTotal 7 (delta 5), reused 0 (delta 0)\nremote: Powered by \u001b[01;33mGITEE.COM \u001b[0m[\u001b[01;35mGNK-6.3\u001b[0m]\u001b[0m\u001b[K\nTo gitee.com:wwkiyyx/deepnote.git\n   74d884d..c01328c  main -> main\n",
     "output_type": "stream"
    }
   ],
   "execution_count": null
  },
  {
   "cell_type": "markdown",
   "source": "<a style='text-decoration:none;line-height:16px;display:flex;color:#5B5B62;padding:10px;justify-content:end;' href='https://deepnote.com?utm_source=created-in-deepnote-cell&projectId=5292883e-50a7-4f1d-9f12-778c1d6da182' target=\"_blank\">\n<img alt='Created in deepnote.com' style='display:inline;max-height:16px;margin:0px;margin-right:7.5px;' src='data:image/svg+xml;base64,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' > </img>\nCreated in <span style='font-weight:600;margin-left:4px;'>Deepnote</span></a>",
   "metadata": {
    "tags": [],
    "created_in_deepnote_cell": true,
    "deepnote_cell_type": "markdown"
   }
  }
 ],
 "nbformat": 4,
 "nbformat_minor": 2,
 "metadata": {
  "orig_nbformat": 2,
  "deepnote": {
   "is_reactive": false
  },
  "deepnote_notebook_id": "f3fea137-e921-415f-ab4b-2c10e0cabe36",
  "deepnote_execution_queue": [
   {
    "cellId": "9b712dac57d642c7992efc992c5e6fd9",
    "sessionId": "e0b1bcb3-dfb3-4892-9505-caeafe19dbea",
    "msgId": "7ecd019c-bdc5-4f69-8a74-25cc44f0bd6d"
   },
   {
    "cellId": "bedd110b98154f27bda2ce0f3898c110",
    "sessionId": "e0b1bcb3-dfb3-4892-9505-caeafe19dbea",
    "msgId": "174a2767-27db-49cf-9929-e14327ecf5cb"
   },
   {
    "cellId": "ddaf8a29aa3b4ea2b309ff9a7682e150",
    "sessionId": "e0b1bcb3-dfb3-4892-9505-caeafe19dbea",
    "msgId": "ad67993b-8c10-481e-bc5f-fcedf35230c0"
   },
   {
    "cellId": "4b3287ab23c248a489a28a3400d71c50",
    "sessionId": "e0b1bcb3-dfb3-4892-9505-caeafe19dbea",
    "msgId": "95d93ec9-3f14-40db-916a-17ed7d9e6f1e"
   },
   {
    "cellId": "997f1be791274c90ab0ff73e98ec18fc",
    "sessionId": "e0b1bcb3-dfb3-4892-9505-caeafe19dbea",
    "msgId": "3a31fb61-c466-4bfe-8e8e-9f30b611e8a0"
   },
   {
    "cellId": "00001-126d4d47-89d4-4a45-b366-4003b668c476",
    "sessionId": "e0b1bcb3-dfb3-4892-9505-caeafe19dbea",
    "msgId": "0b2d5d2c-f3f8-4bad-adcc-e91246db20d5"
   },
   {
    "cellId": "b4a104fa6e2c4a5bb50dcc465102f348",
    "sessionId": "e0b1bcb3-dfb3-4892-9505-caeafe19dbea",
    "msgId": "e8b81b7a-91af-481e-9c12-89e6a6d88f34"
   },
   {
    "cellId": "ff82c55e27cd41d5868df1bff96ad6f6",
    "sessionId": "e0b1bcb3-dfb3-4892-9505-caeafe19dbea",
    "msgId": "ab67c404-9b55-4ee4-a187-3da9335b9646"
   }
  ]
 }
}