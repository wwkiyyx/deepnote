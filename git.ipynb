{
 "cells": [
  {
   "cell_type": "code",
   "metadata": {
    "cell_id": "9b712dac57d642c7992efc992c5e6fd9",
    "tags": [],
    "deepnote_to_be_reexecuted": false,
    "source_hash": "6aa4c3e3",
    "execution_start": 1653001025453,
    "execution_millis": 706,
    "owner_user_id": "64653946-af2f-4699-a282-4043b0ba5576",
    "deepnote_cell_type": "code",
    "deepnote_cell_height": 190.75
   },
   "source": "#!git remote add gitee git@gitee.com:wwkiyyx/deepnote.git\n!git remote -v",
   "execution_count": 1,
   "outputs": [
    {
     "name": "stdout",
     "text": "gitee\tgit@gitee.com:wwkiyyx/deepnote.git (fetch)\ngitee\tgit@gitee.com:wwkiyyx/deepnote.git (push)\norigin\thttps://github.com/wwkiyyx/deepnote.git (fetch)\norigin\thttps://github.com/wwkiyyx/deepnote.git (push)\n",
     "output_type": "stream"
    }
   ]
  },
  {
   "cell_type": "code",
   "metadata": {
    "cell_id": "bedd110b98154f27bda2ce0f3898c110",
    "tags": [],
    "deepnote_to_be_reexecuted": false,
    "source_hash": "afdfc6c8",
    "execution_start": 1653001026181,
    "execution_millis": 649,
    "deepnote_cell_type": "code",
    "deepnote_cell_height": 81
   },
   "source": "!git config --global user.email \"670405621@qq.com\"",
   "execution_count": null,
   "outputs": []
  },
  {
   "cell_type": "code",
   "metadata": {
    "cell_id": "ddaf8a29aa3b4ea2b309ff9a7682e150",
    "tags": [],
    "deepnote_to_be_reexecuted": true,
    "source_hash": "52fa1bf6",
    "execution_start": 1652874845799,
    "execution_millis": 642,
    "deepnote_cell_type": "code",
    "deepnote_cell_height": 81
   },
   "source": "!git config --global user.name \"wangwenkai\"",
   "execution_count": null,
   "outputs": []
  },
  {
   "cell_type": "code",
   "metadata": {
    "cell_id": "4b3287ab23c248a489a28a3400d71c50",
    "tags": [],
    "deepnote_to_be_reexecuted": true,
    "source_hash": "f959fda0",
    "execution_start": 1652874846451,
    "execution_millis": 721,
    "deepnote_cell_type": "code",
    "deepnote_cell_height": 81
   },
   "source": "!git add .",
   "execution_count": null,
   "outputs": []
  },
  {
   "cell_type": "code",
   "metadata": {
    "cell_id": "997f1be791274c90ab0ff73e98ec18fc",
    "tags": [],
    "deepnote_to_be_reexecuted": true,
    "source_hash": "84c5fb1e",
    "execution_start": 1652874847179,
    "execution_millis": 751,
    "deepnote_cell_type": "code",
    "deepnote_cell_height": 172.75
   },
   "source": "!git commit -m update",
   "execution_count": null,
   "outputs": [
    {
     "name": "stdout",
     "text": "[main efa8338] update\n 6 files changed, 138 insertions(+), 62 deletions(-)\n create mode 100644 id_rsa\n create mode 100644 id_rsa.pub\n",
     "output_type": "stream"
    }
   ]
  },
  {
   "cell_type": "code",
   "metadata": {
    "tags": [],
    "cell_id": "00001-126d4d47-89d4-4a45-b366-4003b668c476",
    "deepnote_to_be_reexecuted": true,
    "source_hash": "3ed840b7",
    "execution_start": 1652874847935,
    "execution_millis": 3136,
    "deepnote_cell_type": "code",
    "deepnote_cell_height": 273.6875
   },
   "source": "!git push",
   "execution_count": null,
   "outputs": [
    {
     "name": "stdout",
     "text": "Enumerating objects: 13, done.\nCounting objects: 100% (13/13), done.\nDelta compression using up to 2 threads\nCompressing objects: 100% (8/8), done.\nWriting objects: 100% (8/8), 3.36 KiB | 3.36 MiB/s, done.\nTotal 8 (delta 5), reused 0 (delta 0)\nremote: Resolving deltas: 100% (5/5), completed with 5 local objects.\u001b[K\nTo https://github.com/wwkiyyx/deepnote.git\n   4c24219..efa8338  main -> main\n",
     "output_type": "stream"
    }
   ]
  },
  {
   "cell_type": "code",
   "metadata": {
    "cell_id": "b4a104fa6e2c4a5bb50dcc465102f348",
    "tags": [],
    "deepnote_to_be_reexecuted": true,
    "source_hash": "611a4523",
    "execution_start": 1652874851075,
    "execution_millis": 1358,
    "deepnote_cell_type": "code",
    "deepnote_cell_height": 117
   },
   "source": "!cp ./id_rsa /root/.ssh/\n!cp ./id_rsa.pub /root/.ssh/\n",
   "execution_count": null,
   "outputs": []
  },
  {
   "cell_type": "code",
   "metadata": {
    "cell_id": "ff82c55e27cd41d5868df1bff96ad6f6",
    "tags": [],
    "deepnote_to_be_reexecuted": true,
    "source_hash": "e539a8f4",
    "execution_start": 1652874852433,
    "execution_millis": 4789,
    "deepnote_cell_type": "code",
    "deepnote_cell_height": 314.0625
   },
   "source": "!git push gitee main",
   "execution_count": null,
   "outputs": [
    {
     "name": "stdout",
     "text": "Warning: Identity file /work/.deepnote/gitkey not accessible: No such file or directory.\n\nEnumerating objects: 13, done.\nCounting objects: 100% (13/13), done.\nDelta compression using up to 2 threads\nCompressing objects: 100% (8/8), done.\nWriting objects: 100% (8/8), 3.36 KiB | 3.36 MiB/s, done.\nTotal 8 (delta 5), reused 0 (delta 0)\nremote: Powered by \u001b[01;33mGITEE.COM \u001b[0m[\u001b[01;35mGNK-6.3\u001b[0m]\u001b[0m\u001b[K\nTo gitee.com:wwkiyyx/deepnote.git\n   4c24219..efa8338  main -> main\n",
     "output_type": "stream"
    }
   ]
  },
  {
   "cell_type": "markdown",
   "source": "<a style='text-decoration:none;line-height:16px;display:flex;color:#5B5B62;padding:10px;justify-content:end;' href='https://deepnote.com?utm_source=created-in-deepnote-cell&projectId=5292883e-50a7-4f1d-9f12-778c1d6da182' target=\"_blank\">\n<img alt='Created in deepnote.com' style='display:inline;max-height:16px;margin:0px;margin-right:7.5px;' src='data:image/svg+xml;base64,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' > </img>\nCreated in <span style='font-weight:600;margin-left:4px;'>Deepnote</span></a>",
   "metadata": {
    "tags": [],
    "created_in_deepnote_cell": true,
    "deepnote_cell_type": "markdown"
   }
  }
 ],
 "nbformat": 4,
 "nbformat_minor": 2,
 "metadata": {
  "orig_nbformat": 2,
  "deepnote": {
   "is_reactive": false
  },
  "deepnote_notebook_id": "f3fea137-e921-415f-ab4b-2c10e0cabe36",
  "deepnote_execution_queue": [
   {
    "cellId": "bedd110b98154f27bda2ce0f3898c110",
    "sessionId": "fcaccda8-0c8d-4d6b-962e-f01675e007d3",
    "msgId": "8dac2f35-00fa-44ff-a9b3-23b078ca9f6f"
   },
   {
    "cellId": "ddaf8a29aa3b4ea2b309ff9a7682e150",
    "sessionId": "fcaccda8-0c8d-4d6b-962e-f01675e007d3",
    "msgId": "7ce651eb-f22c-46c7-9bd9-ecd848139646"
   },
   {
    "cellId": "4b3287ab23c248a489a28a3400d71c50",
    "sessionId": "fcaccda8-0c8d-4d6b-962e-f01675e007d3",
    "msgId": "13a1f2b7-067a-4e8e-80f8-6a81352e7ede"
   },
   {
    "cellId": "997f1be791274c90ab0ff73e98ec18fc",
    "sessionId": "fcaccda8-0c8d-4d6b-962e-f01675e007d3",
    "msgId": "ca0cf6ae-c6f7-4d14-bc5d-70742ea60f06"
   },
   {
    "cellId": "00001-126d4d47-89d4-4a45-b366-4003b668c476",
    "sessionId": "fcaccda8-0c8d-4d6b-962e-f01675e007d3",
    "msgId": "682678d1-1a6c-4893-9383-8946afa2c195"
   },
   {
    "cellId": "b4a104fa6e2c4a5bb50dcc465102f348",
    "sessionId": "fcaccda8-0c8d-4d6b-962e-f01675e007d3",
    "msgId": "b2372c58-c504-4204-9cf7-5308f6738712"
   },
   {
    "cellId": "ff82c55e27cd41d5868df1bff96ad6f6",
    "sessionId": "fcaccda8-0c8d-4d6b-962e-f01675e007d3",
    "msgId": "be943081-a24b-45c9-ac8c-6398a018b9d2"
   }
  ]
 }
}