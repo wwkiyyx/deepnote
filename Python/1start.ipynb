{
 "cells": [
  {
   "cell_type": "markdown",
   "source": "### -c      command",
   "metadata": {
    "cell_id": "0f243b47-f88c-453a-9b0d-cccd5a77e7cb",
    "tags": [],
    "is_collapsed": false,
    "deepnote_cell_type": "text-cell-h3",
    "deepnote_cell_height": 62
   }
  },
  {
   "cell_type": "code",
   "metadata": {
    "tags": [],
    "cell_id": "f998f09c-e15b-45e9-ab3e-f84269e60aad",
    "deepnote_to_be_reexecuted": false,
    "source_hash": "b55c03c0",
    "execution_start": 1647227624093,
    "execution_millis": 4646,
    "deepnote_cell_type": "code",
    "deepnote_cell_height": 176.75
   },
   "source": "!python -c \"import tensorflow as tf; print('hello'), print(tf.__version__)\"",
   "execution_count": null,
   "outputs": [
    {
     "name": "stdout",
     "text": "2022-03-14 03:13:44.864876: W tensorflow/stream_executor/platform/default/dso_loader.cc:64] Could not load dynamic library 'libcudart.so.11.0'; dlerror: libcudart.so.11.0: cannot open shared object file: No such file or directory\n2022-03-14 03:13:44.864914: I tensorflow/stream_executor/cuda/cudart_stub.cc:29] Ignore above cudart dlerror if you do not have a GPU set up on your machine.\nhello\n2.8.0\n",
     "output_type": "stream"
    }
   ]
  },
  {
   "cell_type": "code",
   "metadata": {
    "cell_id": "ba41b2f3-6fbd-4560-81e3-29272a34a98d",
    "tags": [],
    "deepnote_to_be_reexecuted": false,
    "source_hash": "8076c506",
    "execution_start": 1647227643643,
    "execution_millis": 3610,
    "deepnote_cell_type": "code",
    "deepnote_cell_height": 176.75
   },
   "source": "!python -c \"import tensorflow as tf; [print('hello'), print(tf.__version__)]\"",
   "execution_count": null,
   "outputs": [
    {
     "name": "stdout",
     "text": "2022-03-14 03:14:04.393093: W tensorflow/stream_executor/platform/default/dso_loader.cc:64] Could not load dynamic library 'libcudart.so.11.0'; dlerror: libcudart.so.11.0: cannot open shared object file: No such file or directory\n2022-03-14 03:14:04.393129: I tensorflow/stream_executor/cuda/cudart_stub.cc:29] Ignore above cudart dlerror if you do not have a GPU set up on your machine.\nhello\n2.8.0\n",
     "output_type": "stream"
    }
   ]
  },
  {
   "cell_type": "markdown",
   "source": "### -m           moudle",
   "metadata": {
    "cell_id": "817bde72-407f-4053-8217-20f9eacc377d",
    "tags": [],
    "is_collapsed": false,
    "deepnote_cell_type": "text-cell-h3",
    "deepnote_cell_height": 62
   }
  },
  {
   "cell_type": "code",
   "metadata": {
    "cell_id": "530e9b38-e4ce-4fc1-9da5-62d1169c65b7",
    "tags": [],
    "deepnote_to_be_reexecuted": false,
    "source_hash": "dc835f5e",
    "execution_start": 1647227687428,
    "execution_millis": 1756,
    "deepnote_cell_type": "code",
    "deepnote_cell_height": 112.1875
   },
   "source": "!python -m pip -V",
   "execution_count": null,
   "outputs": [
    {
     "name": "stdout",
     "text": "pip 21.1.1 from /root/venv/lib/python3.8/site-packages/pip (python 3.8)\r\n",
     "output_type": "stream"
    }
   ]
  },
  {
   "cell_type": "code",
   "metadata": {
    "cell_id": "25ac275f-040d-4b8f-9530-e1b208eb21ac",
    "tags": [],
    "deepnote_to_be_reexecuted": false,
    "source_hash": "a434f09c",
    "execution_start": 1647227709152,
    "execution_millis": 5430,
    "deepnote_cell_type": "code",
    "deepnote_cell_height": 156.5625
   },
   "source": "!python -m tensorflow -V",
   "execution_count": null,
   "outputs": [
    {
     "name": "stdout",
     "text": "2022-03-14 03:15:09.923386: W tensorflow/stream_executor/platform/default/dso_loader.cc:64] Could not load dynamic library 'libcudart.so.11.0'; dlerror: libcudart.so.11.0: cannot open shared object file: No such file or directory\n2022-03-14 03:15:09.923423: I tensorflow/stream_executor/cuda/cudart_stub.cc:29] Ignore above cudart dlerror if you do not have a GPU set up on your machine.\n/root/venv/bin/python: No module named tensorflow.__main__; 'tensorflow' is a package and cannot be directly executed\n",
     "output_type": "stream"
    }
   ]
  },
  {
   "cell_type": "markdown",
   "source": "### argv[]           参数",
   "metadata": {
    "cell_id": "645720be-acdc-4fb8-945e-aa0e3a322bf9",
    "tags": [],
    "is_collapsed": false,
    "deepnote_cell_type": "text-cell-h3",
    "deepnote_cell_height": 62
   }
  },
  {
   "cell_type": "code",
   "metadata": {
    "cell_id": "bfc0c6a3-6391-4ac8-a9c8-3833b11f98a7",
    "tags": [],
    "deepnote_to_be_reexecuted": false,
    "source_hash": "22ca8510",
    "execution_start": 1647227973935,
    "execution_millis": 694,
    "deepnote_cell_type": "code",
    "deepnote_cell_height": 132.375
   },
   "source": "!python hello.py wangwenkai",
   "execution_count": null,
   "outputs": [
    {
     "name": "stdout",
     "text": "hello.py\r\nhello, wangwenkai\r\n",
     "output_type": "stream"
    }
   ]
  },
  {
   "cell_type": "markdown",
   "source": "### 整除",
   "metadata": {
    "cell_id": "5a3c4464-5dbb-48d6-b61b-502bff22894c",
    "tags": [],
    "is_collapsed": false,
    "deepnote_cell_type": "text-cell-h3",
    "deepnote_cell_height": 62
   }
  },
  {
   "cell_type": "code",
   "metadata": {
    "cell_id": "8b43ae5c-85fd-4532-a611-7eb489ea7297",
    "tags": [],
    "deepnote_to_be_reexecuted": false,
    "source_hash": "fe3a5c34",
    "execution_start": 1647228135949,
    "execution_millis": 29,
    "deepnote_cell_type": "code",
    "deepnote_cell_height": 118.1875
   },
   "source": "16.4 / 4",
   "execution_count": null,
   "outputs": [
    {
     "output_type": "execute_result",
     "execution_count": 16,
     "data": {
      "text/plain": "4.1"
     },
     "metadata": {}
    }
   ]
  },
  {
   "cell_type": "code",
   "metadata": {
    "cell_id": "4e6c511d-41f3-4cfc-9fc5-938c4b61408b",
    "tags": [],
    "deepnote_to_be_reexecuted": false,
    "source_hash": "52941338",
    "execution_start": 1647228119810,
    "execution_millis": 3,
    "deepnote_cell_type": "code",
    "deepnote_cell_height": 118.1875
   },
   "source": "16.4 // 4",
   "execution_count": null,
   "outputs": [
    {
     "output_type": "execute_result",
     "execution_count": 15,
     "data": {
      "text/plain": "4.0"
     },
     "metadata": {}
    }
   ]
  },
  {
   "cell_type": "markdown",
   "source": "### 余数",
   "metadata": {
    "cell_id": "478bdbd9-0de6-4224-8e49-1172d02311ad",
    "tags": [],
    "is_collapsed": false,
    "deepnote_cell_type": "text-cell-h3",
    "deepnote_cell_height": 62
   }
  },
  {
   "cell_type": "code",
   "metadata": {
    "cell_id": "94030ff3-92c9-4881-b807-7fbcc9fe8916",
    "tags": [],
    "deepnote_to_be_reexecuted": false,
    "source_hash": "4c44de31",
    "execution_start": 1647228191933,
    "execution_millis": 4,
    "deepnote_cell_type": "code",
    "deepnote_cell_height": 118.1875
   },
   "source": "17 % 4",
   "execution_count": null,
   "outputs": [
    {
     "output_type": "execute_result",
     "execution_count": 17,
     "data": {
      "text/plain": "1"
     },
     "metadata": {}
    }
   ]
  },
  {
   "cell_type": "markdown",
   "source": "### 乘方",
   "metadata": {
    "cell_id": "02a4303a-bc75-46e4-9efc-343bbe0681d3",
    "tags": [],
    "is_collapsed": false,
    "deepnote_cell_type": "text-cell-h3",
    "deepnote_cell_height": 62
   }
  },
  {
   "cell_type": "code",
   "metadata": {
    "cell_id": "592e10df-1254-45d6-8cf0-9f030594c3b5",
    "tags": [],
    "deepnote_to_be_reexecuted": false,
    "source_hash": "9a930071",
    "execution_start": 1647228217403,
    "execution_millis": 42,
    "deepnote_cell_type": "code",
    "deepnote_cell_height": 118.1875,
    "deepnote_output_heights": [
     21.1875
    ]
   },
   "source": "2 ** 3",
   "execution_count": null,
   "outputs": [
    {
     "output_type": "execute_result",
     "execution_count": 18,
     "data": {
      "text/plain": "8"
     },
     "metadata": {}
    }
   ]
  },
  {
   "cell_type": "markdown",
   "source": "### int",
   "metadata": {
    "cell_id": "d1a0dd26-4a77-4846-bee3-cdccb10435cb",
    "tags": [],
    "is_collapsed": false,
    "deepnote_cell_type": "text-cell-h3",
    "deepnote_cell_height": 62
   }
  },
  {
   "cell_type": "code",
   "metadata": {
    "cell_id": "97a455f4-1442-48b9-94c9-1740f2ebfb04",
    "tags": [],
    "deepnote_to_be_reexecuted": false,
    "source_hash": "e7c9ea26",
    "execution_start": 1647228289116,
    "execution_millis": 8,
    "deepnote_cell_type": "code",
    "deepnote_cell_height": 118.1875,
    "deepnote_output_heights": [
     21.1875
    ]
   },
   "source": "int(3.7)",
   "execution_count": null,
   "outputs": [
    {
     "output_type": "execute_result",
     "execution_count": 19,
     "data": {
      "text/plain": "3"
     },
     "metadata": {}
    }
   ]
  },
  {
   "cell_type": "markdown",
   "source": "### float",
   "metadata": {
    "cell_id": "48c5d0cf-2246-465a-82ec-2eb6ee872661",
    "tags": [],
    "is_collapsed": false,
    "deepnote_cell_type": "text-cell-h3",
    "deepnote_cell_height": 62
   }
  },
  {
   "cell_type": "code",
   "metadata": {
    "cell_id": "ea5fec4c-62fd-4a6b-b1a9-ee98db6cf675",
    "tags": [],
    "deepnote_to_be_reexecuted": false,
    "source_hash": "87efb74",
    "execution_start": 1647228314053,
    "execution_millis": 117,
    "deepnote_cell_type": "code",
    "deepnote_cell_height": 118.1875,
    "deepnote_output_heights": [
     21.1875
    ]
   },
   "source": "float(5)",
   "execution_count": null,
   "outputs": [
    {
     "output_type": "execute_result",
     "execution_count": 20,
     "data": {
      "text/plain": "5.0"
     },
     "metadata": {}
    }
   ]
  },
  {
   "cell_type": "markdown",
   "source": "### str",
   "metadata": {
    "cell_id": "f865a3c5-4f95-4cd2-9ba9-192ee1e6d6bf",
    "tags": [],
    "is_collapsed": false,
    "deepnote_cell_type": "text-cell-h3",
    "deepnote_cell_height": 62
   }
  },
  {
   "cell_type": "code",
   "metadata": {
    "cell_id": "5502eed7-9cb3-4821-823b-aa1f648cb70d",
    "tags": [],
    "deepnote_to_be_reexecuted": false,
    "source_hash": "7461073b",
    "execution_start": 1647229751700,
    "execution_millis": 14,
    "deepnote_cell_type": "code",
    "deepnote_cell_height": 118.1875,
    "deepnote_output_heights": [
     21.1875
    ]
   },
   "source": "str(3.99)",
   "execution_count": null,
   "outputs": [
    {
     "output_type": "execute_result",
     "execution_count": 1,
     "data": {
      "text/plain": "'3.99'"
     },
     "metadata": {}
    }
   ]
  },
  {
   "cell_type": "markdown",
   "source": "### os",
   "metadata": {
    "cell_id": "748080bf-5836-48f3-be44-a75036f838cc",
    "tags": [],
    "is_collapsed": false,
    "deepnote_cell_type": "text-cell-h3",
    "deepnote_cell_height": 62
   }
  },
  {
   "cell_type": "code",
   "metadata": {
    "cell_id": "5dec61ca-8957-4643-959a-d1adec15dea0",
    "tags": [],
    "deepnote_to_be_reexecuted": false,
    "source_hash": "c473e659",
    "execution_start": 1647236169218,
    "execution_millis": 23,
    "deepnote_cell_type": "code",
    "deepnote_cell_height": 136.1875,
    "deepnote_output_heights": [
     21.1875
    ]
   },
   "source": "import os\nos.getcwd()",
   "execution_count": null,
   "outputs": [
    {
     "output_type": "execute_result",
     "execution_count": 1,
     "data": {
      "text/plain": "'/work/wangwenkai40/Python'"
     },
     "metadata": {}
    }
   ]
  },
  {
   "cell_type": "code",
   "metadata": {
    "cell_id": "e6e776b5-a00b-4c47-8d45-7c90cd92e7b4",
    "tags": [],
    "deepnote_to_be_reexecuted": false,
    "source_hash": "b83df19d",
    "execution_start": 1647236219347,
    "execution_millis": 10,
    "deepnote_cell_type": "code",
    "deepnote_cell_height": 118.1875,
    "deepnote_output_heights": [
     21.1875
    ]
   },
   "source": "os.system('pwd')",
   "execution_count": null,
   "outputs": [
    {
     "output_type": "execute_result",
     "execution_count": 3,
     "data": {
      "text/plain": "0"
     },
     "metadata": {}
    }
   ]
  },
  {
   "cell_type": "markdown",
   "source": "os&nbsp;模块提供了许多与操作系统交互的函数",
   "metadata": {
    "cell_id": "933b75d0-4efb-4785-a6a6-0724ea9737b5",
    "tags": [],
    "is_collapsed": false,
    "deepnote_cell_type": "text-cell-p",
    "deepnote_cell_height": 52.390625
   }
  },
  {
   "cell_type": "markdown",
   "source": "对于日常文件和目录管理任务，&nbsp;shutil&nbsp;模块提供了更易于使用的更高级别的接口",
   "metadata": {
    "cell_id": "2cb6ec3d-ec26-415f-8f94-4af79a763cb8",
    "tags": [],
    "is_collapsed": false,
    "deepnote_cell_type": "text-cell-p",
    "deepnote_cell_height": 52.390625
   }
  },
  {
   "cell_type": "markdown",
   "source": "glob&nbsp;模块提供了一个在目录中使用通配符搜索创建文件列表的函数",
   "metadata": {
    "cell_id": "26cd0dbf-64ae-4ed6-b6da-85f8444829c4",
    "tags": [],
    "is_collapsed": false,
    "deepnote_cell_type": "text-cell-p",
    "deepnote_cell_height": 52.390625
   }
  },
  {
   "cell_type": "markdown",
   "source": "参数作为列表存储在&nbsp;sys&nbsp;模块的&nbsp;argv&nbsp;属性中",
   "metadata": {
    "cell_id": "39b464d2-6fbe-4ce2-b4af-281f3764e6b3",
    "tags": [],
    "is_collapsed": false,
    "deepnote_cell_type": "text-cell-p",
    "deepnote_cell_height": 52.390625
   }
  },
  {
   "cell_type": "markdown",
   "source": "argparse&nbsp;模块提供了一种更复杂的机制来处理命令行参数",
   "metadata": {
    "cell_id": "62775b87-ce26-4d0b-a986-3f96a8a83c0d",
    "tags": [],
    "is_collapsed": false,
    "deepnote_cell_type": "text-cell-p",
    "deepnote_cell_height": 52.390625
   }
  },
  {
   "cell_type": "markdown",
   "source": "math&nbsp;模块提供对浮点数学的底层C库函数的访问",
   "metadata": {
    "cell_id": "55189a36-58e6-4533-86b9-00eda114622a",
    "tags": [],
    "is_collapsed": false,
    "deepnote_cell_type": "text-cell-p",
    "deepnote_cell_height": 52.390625
   }
  },
  {
   "cell_type": "markdown",
   "source": "random&nbsp;模块提供了进行随机选择的工具",
   "metadata": {
    "cell_id": "e0df3ef3-c57f-46dc-aa77-adae54e463fc",
    "tags": [],
    "is_collapsed": false,
    "deepnote_cell_type": "text-cell-p",
    "deepnote_cell_height": 52.390625
   }
  },
  {
   "cell_type": "markdown",
   "source": "statistics&nbsp;模块计算数值数据的基本统计属性（均值，中位数，方差等）",
   "metadata": {
    "cell_id": "6135c6ba-9008-4f76-90a5-c6abae44f87a",
    "tags": [],
    "is_collapsed": false,
    "deepnote_cell_type": "text-cell-p",
    "deepnote_cell_height": 52.390625
   }
  },
  {
   "cell_type": "markdown",
   "source": "SciPy项目 &lt;https://scipy.org&gt; 有许多其他模块用于数值计算",
   "metadata": {
    "cell_id": "8bf35655-f005-460c-9b64-6cb3b6a148dc",
    "tags": [],
    "is_collapsed": false,
    "deepnote_cell_type": "text-cell-p",
    "deepnote_cell_height": 52.390625
   }
  },
  {
   "cell_type": "markdown",
   "source": "&nbsp;urllib.request&nbsp;用于从URL检索数据，以及&nbsp;smtplib&nbsp;用于发送邮件",
   "metadata": {
    "cell_id": "c1f490fd-b1bd-4b93-b2ee-d129cfa0e9d9",
    "tags": [],
    "is_collapsed": false,
    "deepnote_cell_type": "text-cell-p",
    "deepnote_cell_height": 52.390625
   }
  },
  {
   "cell_type": "markdown",
   "source": "datetime&nbsp;模块提供了以简单和复杂的方式操作日期和时间的类",
   "metadata": {
    "cell_id": "28fc1f4d-d7a5-4536-8c9a-ea54883d39e3",
    "tags": [],
    "is_collapsed": false,
    "deepnote_cell_type": "text-cell-p",
    "deepnote_cell_height": 52.390625
   }
  },
  {
   "cell_type": "markdown",
   "source": "常见的数据存档和压缩格式由模块直接支持，包括：zlib,&nbsp;gzip,&nbsp;bz2,&nbsp;lzma,&nbsp;zipfile&nbsp;和&nbsp;tarfile",
   "metadata": {
    "cell_id": "53f56661-15ed-40f9-8ac0-1b05a7612be8",
    "tags": [],
    "is_collapsed": false,
    "deepnote_cell_type": "text-cell-p",
    "deepnote_cell_height": 52.390625
   }
  },
  {
   "cell_type": "markdown",
   "source": "timeit&nbsp;模块可以快速演示在运行效率方面一定的优势",
   "metadata": {
    "cell_id": "68d5fcf9-c59a-4aa7-86bd-55ee569fbe65",
    "tags": [],
    "is_collapsed": false,
    "deepnote_cell_type": "text-cell-p",
    "deepnote_cell_height": 52.390625
   }
  },
  {
   "cell_type": "markdown",
   "source": "xmlrpc.client&nbsp;和&nbsp;xmlrpc.server&nbsp;模块使得实现远程过程调用变成了小菜一碟",
   "metadata": {
    "cell_id": "6a545b03-f5fc-4112-b6d9-f1b4d30414b7",
    "tags": [],
    "is_collapsed": false,
    "deepnote_cell_type": "text-cell-p",
    "deepnote_cell_height": 52.390625
   }
  },
  {
   "cell_type": "markdown",
   "source": "&nbsp;email&nbsp;包是一个用于管理电子邮件的库",
   "metadata": {
    "cell_id": "70731bee-19ea-4dbc-846c-6e8e4d6a2f34",
    "tags": [],
    "is_collapsed": false,
    "deepnote_cell_type": "text-cell-p",
    "deepnote_cell_height": 52.390625
   }
  },
  {
   "cell_type": "markdown",
   "source": "csv&nbsp;模块支持以逗号分隔值格式直接读取和写入文件",
   "metadata": {
    "cell_id": "c037a4d1-6493-4449-b07a-7dde57588d3d",
    "tags": [],
    "is_collapsed": false,
    "deepnote_cell_type": "text-cell-p",
    "deepnote_cell_height": 52.390625
   }
  },
  {
   "cell_type": "markdown",
   "source": "XML 处理由&nbsp;xml.etree.ElementTree&nbsp;，&nbsp;xml.dom&nbsp;和&nbsp;xml.sax&nbsp;包支持",
   "metadata": {
    "cell_id": "42eff1ec-9d63-4268-9c49-2a57428d19ab",
    "tags": [],
    "is_collapsed": false,
    "deepnote_cell_type": "text-cell-p",
    "deepnote_cell_height": 52.390625
   }
  },
  {
   "cell_type": "markdown",
   "source": "json&nbsp;包为解析这种流行的数据交换格式提供了强大的支持",
   "metadata": {
    "cell_id": "38f2a064-de03-4895-9c7f-257defd50864",
    "tags": [],
    "is_collapsed": false,
    "deepnote_cell_type": "text-cell-p",
    "deepnote_cell_height": 52.390625
   }
  },
  {
   "cell_type": "markdown",
   "source": "&nbsp;sqlite3&nbsp;模块是 SQLite 数据库库的包装器",
   "metadata": {
    "cell_id": "8cf3eb6b-7330-4b0d-959a-fa90d4fc9f87",
    "tags": [],
    "is_collapsed": false,
    "deepnote_cell_type": "text-cell-p",
    "deepnote_cell_height": 52.390625
   }
  },
  {
   "cell_type": "markdown",
   "source": "threading&nbsp;模块如何在后台运行任务，且不影响主程序的继续运行",
   "metadata": {
    "cell_id": "6357efab-1ecc-475c-a715-6aa31bb257c8",
    "tags": [],
    "is_collapsed": false,
    "deepnote_cell_type": "text-cell-p",
    "deepnote_cell_height": 52.390625
   }
  },
  {
   "cell_type": "markdown",
   "source": "logging&nbsp;模块提供功能齐全且灵活的日志记录系统",
   "metadata": {
    "cell_id": "e20cb2f6-07cf-4398-b1a5-ddcc6e4e7759",
    "tags": [],
    "is_collapsed": false,
    "deepnote_cell_type": "text-cell-p",
    "deepnote_cell_height": 52.390625
   }
  },
  {
   "cell_type": "markdown",
   "source": "array&nbsp;模块提供了一种&nbsp;array()&nbsp;对象",
   "metadata": {
    "cell_id": "29c0d82d-a978-4516-8e4b-bb519fd8a8b6",
    "tags": [],
    "is_collapsed": false,
    "deepnote_cell_type": "text-cell-p",
    "deepnote_cell_height": 52.390625
   }
  },
  {
   "cell_type": "markdown",
   "source": "collections&nbsp;模块提供了一种&nbsp;deque()&nbsp;对象",
   "metadata": {
    "cell_id": "0a61dcf2-d06b-493a-9aeb-55f2d2f3551e",
    "tags": [],
    "is_collapsed": false,
    "deepnote_cell_type": "text-cell-p",
    "deepnote_cell_height": 52.390625
   }
  },
  {
   "cell_type": "markdown",
   "source": "decimal&nbsp;模块提供了一种&nbsp;Decimal&nbsp;数据类型用于十进制浮点运算",
   "metadata": {
    "cell_id": "53870b3e-d502-41a2-9fc9-f06a1312e2eb",
    "tags": [],
    "is_collapsed": false,
    "deepnote_cell_type": "text-cell-p",
    "deepnote_cell_height": 52.390625
   }
  },
  {
   "cell_type": "markdown",
   "source": "### 虚拟环境",
   "metadata": {
    "cell_id": "69556649-df90-465f-8559-6ba238e38650",
    "tags": [],
    "is_collapsed": false,
    "deepnote_cell_type": "text-cell-h3",
    "deepnote_cell_height": 62
   }
  },
  {
   "cell_type": "markdown",
   "source": "用于创建和管理虚拟环境的模块称为&nbsp;venv",
   "metadata": {
    "cell_id": "e8ec78fa-3a18-4f0a-886c-65fb85ff8bc3",
    "tags": [],
    "is_collapsed": false,
    "deepnote_cell_type": "text-cell-p",
    "deepnote_cell_height": 52.390625
   }
  },
  {
   "cell_type": "markdown",
   "source": "python3 -m venv tutorial-env",
   "metadata": {
    "cell_id": "1afb8618-990e-4a2d-9c6e-509fd859a30c",
    "tags": [],
    "is_collapsed": false,
    "deepnote_cell_type": "text-cell-p",
    "deepnote_cell_height": 52.390625
   }
  },
  {
   "cell_type": "markdown",
   "source": "tutorial-env\\Scripts\\activate.bat",
   "metadata": {
    "cell_id": "1fc3b710-3f91-45b4-ae93-706eec3fe327",
    "tags": [],
    "is_collapsed": false,
    "deepnote_cell_type": "text-cell-p",
    "deepnote_cell_height": 52.390625
   }
  },
  {
   "cell_type": "markdown",
   "source": "### pip",
   "metadata": {
    "cell_id": "8faef1a2-adf4-44b3-a8b3-c2d095fdd68b",
    "tags": [],
    "is_collapsed": false,
    "deepnote_cell_type": "text-cell-h3",
    "deepnote_cell_height": 62
   }
  },
  {
   "cell_type": "markdown",
   "source": "你可以使用一个名为&nbsp;pip&nbsp;的程序来安装、升级和移除软件包",
   "metadata": {
    "cell_id": "2288e593-4eca-4e2c-b4da-f587dc586366",
    "tags": [],
    "is_collapsed": false,
    "deepnote_cell_type": "text-cell-p",
    "deepnote_cell_height": 52.390625
   }
  },
  {
   "cell_type": "markdown",
   "source": "python -m pip install requests==2.6.0",
   "metadata": {
    "cell_id": "f7f95c49-bf01-4441-b7bb-832f34d58201",
    "tags": [],
    "is_collapsed": false,
    "owner_user_id": "64653946-af2f-4699-a282-4043b0ba5576",
    "deepnote_cell_type": "text-cell-p",
    "deepnote_cell_height": 52.390625
   }
  },
  {
   "cell_type": "markdown",
   "source": "<a style='text-decoration:none;line-height:16px;display:flex;color:#5B5B62;padding:10px;justify-content:end;' href='https://deepnote.com?utm_source=created-in-deepnote-cell&projectId=26e5d5b4-a604-4f7b-aef4-7756f8127ef0' target=\"_blank\">\n<img alt='Created in deepnote.com' style='display:inline;max-height:16px;margin:0px;margin-right:7.5px;' src='data:image/svg+xml;base64,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' > </img>\nCreated in <span style='font-weight:600;margin-left:4px;'>Deepnote</span></a>",
   "metadata": {
    "tags": [],
    "created_in_deepnote_cell": true,
    "deepnote_cell_type": "markdown"
   }
  }
 ],
 "nbformat": 4,
 "nbformat_minor": 2,
 "metadata": {
  "orig_nbformat": 2,
  "deepnote": {
   "is_reactive": false
  },
  "deepnote_notebook_id": "9bfdaf70-f357-4258-aa59-fbb98481bec3",
  "deepnote_execution_queue": []
 }
}