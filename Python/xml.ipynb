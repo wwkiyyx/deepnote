{
 "cells": [
  {
   "cell_type": "code",
   "metadata": {
    "tags": [],
    "cell_id": "00000-cb5a3324-c0d1-4fd9-bad2-7072300661cf",
    "deepnote_to_be_reexecuted": false,
    "source_hash": "f16d98ad",
    "execution_start": 1626661212014,
    "execution_millis": 21,
    "deepnote_cell_type": "code",
    "deepnote_cell_height": 737
   },
   "source": "import xml.dom.minidom as minidom\ndom = minidom.parse('2007_000027.xml')\nprint(dom.toxml())",
   "execution_count": null,
   "outputs": [
    {
     "name": "stdout",
     "text": "<?xml version=\"1.0\" ?><annotation>\n\t<folder>VOC2012</folder>\n\t<filename>2007_000027.jpg</filename>\n\t<source>\n\t\t<database>The VOC2007 Database</database>\n\t\t<annotation>PASCAL VOC2007</annotation>\n\t\t<image>flickr</image>\n\t</source>\n\t<size>\n\t\t<width>486</width>\n\t\t<height>500</height>\n\t\t<depth>3</depth>\n\t</size>\n\t<segmented>0</segmented>\n\t<object>\n\t\t<name>person</name>\n\t\t<pose>Unspecified</pose>\n\t\t<truncated>0</truncated>\n\t\t<difficult>0</difficult>\n\t\t<bndbox>\n\t\t\t<xmin>174</xmin>\n\t\t\t<ymin>101</ymin>\n\t\t\t<xmax>349</xmax>\n\t\t\t<ymax>351</ymax>\n\t\t</bndbox>\n\t\t<part>\n\t\t\t<name>head</name>\n\t\t\t<bndbox>\n\t\t\t\t<xmin>169</xmin>\n\t\t\t\t<ymin>104</ymin>\n\t\t\t\t<xmax>209</xmax>\n\t\t\t\t<ymax>146</ymax>\n\t\t\t</bndbox>\n\t\t</part>\n\t\t<part>\n\t\t\t<name>hand</name>\n\t\t\t<bndbox>\n\t\t\t\t<xmin>278</xmin>\n\t\t\t\t<ymin>210</ymin>\n\t\t\t\t<xmax>297</xmax>\n\t\t\t\t<ymax>233</ymax>\n\t\t\t</bndbox>\n\t\t</part>\n\t\t<part>\n\t\t\t<name>foot</name>\n\t\t\t<bndbox>\n\t\t\t\t<xmin>273</xmin>\n\t\t\t\t<ymin>333</ymin>\n\t\t\t\t<xmax>297</xmax>\n\t\t\t\t<ymax>354</ymax>\n\t\t\t</bndbox>\n\t\t</part>\n\t\t<part>\n\t\t\t<name>foot</name>\n\t\t\t<bndbox>\n\t\t\t\t<xmin>319</xmin>\n\t\t\t\t<ymin>307</ymin>\n\t\t\t\t<xmax>340</xmax>\n\t\t\t\t<ymax>326</ymax>\n\t\t\t</bndbox>\n\t\t</part>\n\t</object>\n</annotation>\n",
     "output_type": "stream"
    }
   ]
  },
  {
   "cell_type": "code",
   "metadata": {
    "tags": [],
    "cell_id": "00001-40a3b6a2-7d7c-4072-a26f-37843a0230d6",
    "deepnote_to_be_reexecuted": false,
    "source_hash": "563ffad3",
    "execution_start": 1626661244011,
    "execution_millis": 6,
    "deepnote_cell_type": "code",
    "deepnote_cell_height": 244.75
   },
   "source": "root = dom.documentElement\nprint(root.nodeName)\nprint(root.nodeValue)\nprint(root.nodeType)\nprint(root.ELEMENT_NODE)",
   "execution_count": null,
   "outputs": [
    {
     "name": "stdout",
     "text": "annotation\nNone\n1\n1\n",
     "output_type": "stream"
    }
   ]
  },
  {
   "cell_type": "code",
   "metadata": {
    "tags": [],
    "cell_id": "00002-38b1030f-b2bf-4fe4-95ce-18606699f094",
    "deepnote_to_be_reexecuted": false,
    "source_hash": "d355420c",
    "execution_start": 1626661270458,
    "execution_millis": 12,
    "deepnote_cell_type": "code",
    "deepnote_cell_height": 845
   },
   "source": "names=dom.getElementsByTagName('name')\nprint(names[0].toxml())\nfor name in names:\n    print(name.toxml())\n    print(name.childNodes[0].data)\n    print(name.nodeName)\n    print(name.firstChild.nodeValue)\n    print(name.nodeType)\n    print(name.ELEMENT_NODE)",
   "execution_count": null,
   "outputs": [
    {
     "name": "stdout",
     "text": "<name>person</name>\n<name>person</name>\nperson\nname\nperson\n1\n1\n<name>head</name>\nhead\nname\nhead\n1\n1\n<name>hand</name>\nhand\nname\nhand\n1\n1\n<name>foot</name>\nfoot\nname\nfoot\n1\n1\n<name>foot</name>\nfoot\nname\nfoot\n1\n1\n",
     "output_type": "stream"
    }
   ]
  },
  {
   "cell_type": "code",
   "metadata": {
    "tags": [],
    "cell_id": "00003-4b918330-d4bd-4712-9d84-210a3db87a23",
    "deepnote_to_be_reexecuted": false,
    "source_hash": "6039767",
    "execution_start": 1626661288167,
    "execution_millis": 4,
    "deepnote_cell_type": "code",
    "deepnote_cell_height": 737
   },
   "source": "objects=dom.getElementsByTagName('object')\nfor obj in objects:\n    print(obj.toxml())",
   "execution_count": null,
   "outputs": [
    {
     "name": "stdout",
     "text": "<object>\n\t\t<name>person</name>\n\t\t<pose>Unspecified</pose>\n\t\t<truncated>0</truncated>\n\t\t<difficult>0</difficult>\n\t\t<bndbox>\n\t\t\t<xmin>174</xmin>\n\t\t\t<ymin>101</ymin>\n\t\t\t<xmax>349</xmax>\n\t\t\t<ymax>351</ymax>\n\t\t</bndbox>\n\t\t<part>\n\t\t\t<name>head</name>\n\t\t\t<bndbox>\n\t\t\t\t<xmin>169</xmin>\n\t\t\t\t<ymin>104</ymin>\n\t\t\t\t<xmax>209</xmax>\n\t\t\t\t<ymax>146</ymax>\n\t\t\t</bndbox>\n\t\t</part>\n\t\t<part>\n\t\t\t<name>hand</name>\n\t\t\t<bndbox>\n\t\t\t\t<xmin>278</xmin>\n\t\t\t\t<ymin>210</ymin>\n\t\t\t\t<xmax>297</xmax>\n\t\t\t\t<ymax>233</ymax>\n\t\t\t</bndbox>\n\t\t</part>\n\t\t<part>\n\t\t\t<name>foot</name>\n\t\t\t<bndbox>\n\t\t\t\t<xmin>273</xmin>\n\t\t\t\t<ymin>333</ymin>\n\t\t\t\t<xmax>297</xmax>\n\t\t\t\t<ymax>354</ymax>\n\t\t\t</bndbox>\n\t\t</part>\n\t\t<part>\n\t\t\t<name>foot</name>\n\t\t\t<bndbox>\n\t\t\t\t<xmin>319</xmin>\n\t\t\t\t<ymin>307</ymin>\n\t\t\t\t<xmax>340</xmax>\n\t\t\t\t<ymax>326</ymax>\n\t\t\t</bndbox>\n\t\t</part>\n\t</object>\n",
     "output_type": "stream"
    }
   ]
  },
  {
   "cell_type": "code",
   "metadata": {
    "tags": [],
    "cell_id": "00004-dd457ed0-7b16-47a6-aef8-2d70fb40fbd6",
    "deepnote_to_be_reexecuted": false,
    "source_hash": "b9e413db",
    "execution_start": 1626661331339,
    "execution_millis": 32,
    "deepnote_cell_type": "code",
    "deepnote_cell_height": 276.375
   },
   "source": "import xml.etree.ElementTree as ET\ntree = ET.parse('2007_000027.xml')\nroot = tree.getroot()\nfor obj in root.findall('object'):\n    name = obj.find('name').text\n    print(name)\nfor obj in root.iter('object'):\n    name = obj.find('bndbox').find('xmin').text\n    print(name)",
   "execution_count": null,
   "outputs": [
    {
     "name": "stdout",
     "text": "person\n174\n",
     "output_type": "stream"
    }
   ]
  },
  {
   "cell_type": "markdown",
   "source": "<a style='text-decoration:none;line-height:16px;display:flex;color:#5B5B62;padding:10px;justify-content:end;' href='https://deepnote.com?utm_source=created-in-deepnote-cell&projectId=26e5d5b4-a604-4f7b-aef4-7756f8127ef0' target=\"_blank\">\n<img alt='Created in deepnote.com' style='display:inline;max-height:16px;margin:0px;margin-right:7.5px;' src='data:image/svg+xml;base64,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' > </img>\nCreated in <span style='font-weight:600;margin-left:4px;'>Deepnote</span></a>",
   "metadata": {
    "tags": [],
    "created_in_deepnote_cell": true,
    "deepnote_cell_type": "markdown"
   }
  }
 ],
 "nbformat": 4,
 "nbformat_minor": 2,
 "metadata": {
  "orig_nbformat": 2,
  "deepnote": {
   "is_reactive": false
  },
  "deepnote_notebook_id": "b7a54cf4-cba1-4a7f-b307-baa13b6e23cc",
  "deepnote_execution_queue": []
 }
}