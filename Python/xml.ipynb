{
 "cells": [
  {
   "cell_type": "code",
   "metadata": {
    "tags": [],
    "cell_id": "00000-cb5a3324-c0d1-4fd9-bad2-7072300661cf",
    "deepnote_to_be_reexecuted": false,
    "source_hash": "5cce41d9",
    "execution_start": 1653031418669,
    "execution_millis": 15,
    "deepnote_cell_type": "code",
    "deepnote_cell_height": 737
   },
   "source": "import xml.dom.minidom as minidom\ndom = minidom.parse('/usr/share/cmake-3.13/Templates/MSBuild/nasm.xml')\nprint(dom.toxml())",
   "execution_count": 4,
   "outputs": [
    {
     "name": "stdout",
     "text": "<?xml version=\"1.0\" ?><ProjectSchemaDefinitions xmlns=\"http://schemas.microsoft.com/build/2009/properties\" xmlns:x=\"http://schemas.microsoft.com/winfx/2006/xaml\" xmlns:sys=\"clr-namespace:System;assembly=mscorlib\">\n  <Rule Name=\"NASM\" PageTemplate=\"tool\" DisplayName=\"Netwide Assembler\" Order=\"200\">\n    <Rule.DataSource>\n      <DataSource Persistence=\"ProjectFile\" ItemType=\"NASM\"/>\n    </Rule.DataSource>\n    <Rule.Categories>\n      <Category Name=\"General\">\n        <Category.DisplayName>\n          <sys:String>General</sys:String>\n        </Category.DisplayName>\n      </Category>\n      <Category Name=\"Preprocessor\">\n        <Category.DisplayName>\n          <sys:String>Preprocessing Options</sys:String>\n        </Category.DisplayName>\n      </Category>\n      <Category Name=\"Assembler Options\">\n        <Category.DisplayName>\n          <sys:String>Assembler Options</sys:String>\n        </Category.DisplayName>\n      </Category>\n      <Category Name=\"Advanced\">\n        <Category.DisplayName>\n          <sys:String>Advanced </sys:String>\n        </Category.DisplayName>\n      </Category>\n      <Category Name=\"Command Line\" Subtype=\"CommandLine\">\n        <Category.DisplayName>\n          <sys:String>Command Line</sys:String>\n        </Category.DisplayName>\n      </Category>\n    </Rule.Categories>\n    <StringProperty Name=\"Inputs\" Category=\"Command Line\" IsRequired=\"true\">\n      <StringProperty.DataSource>\n        <DataSource Persistence=\"ProjectFile\" ItemType=\"NASM\" SourceType=\"Item\"/>\n      </StringProperty.DataSource>\n    </StringProperty>\n    <StringProperty Name=\"OutputFormat\" Category=\"Assembler Options\" HelpUrl=\"http://www.nasm.us/doc/\" DisplayName=\"Output File Name\" Description=\"Specify Output Filename.-o [value]\" Switch=\"-o &quot;[value]&quot;\"/>\n    <BoolProperty Name=\"tasmmode\" Category=\"Advanced\" HelpUrl=\"http://www.nasm.us/doc/\" DisplayName=\"SciTech TASM compatible mode\" Description=\"assemble in SciTech TASM compatible mode\" Switch=\"-t\"/>\n    <EnumProperty Name=\"Outputswitch\" Category=\"Assembler Options\" HelpUrl=\"http://www.nasm.us/doc/\" DisplayName=\"Output Switch\" Description=\"Select the type of output format required. Linking Should be disabled for ELF and Binary ,else error will popup\">\n      <EnumValue Name=\"0\" DisplayName=\"Object File win32\" Switch=\"-fwin32\"/>\n      <EnumValue Name=\"1\" DisplayName=\"Object File win64\" Switch=\"-fwin64\"/>\n      <EnumValue Name=\"2\" DisplayName=\"ELF32 (i386) object files (e.g. Linux)\" Switch=\"-felf32\"/>\n      <EnumValue Name=\"3\" DisplayName=\"ELF64 (x86_64) object files (e.g. Linux)\" Switch=\"-felf64\"/>\n    </EnumProperty>\n    <StringListProperty Name=\"AssembledCodeListingFile\" Category=\"Assembler Options\" DisplayName=\"Assembled Code Listing File\" Description=\"Generates an assembled code listing file.     (-l [file])\" HelpUrl=\"http://www.nasm.us/doc/\" Switch=\"-l &quot;[value]&quot;\"/>\n    <BoolProperty Name=\"GenerateDebugInformation\" Category=\"Assembler Options\" DisplayName=\"Generate Debug Information\" Description=\"Generates Debug Information.     (-g)\" HelpUrl=\"http://www.nasm.us/doc/\" Switch=\"-g\"/>\n    <StringListProperty Name=\"ErrorReporting\" Category=\"Advanced\" HelpUrl=\"http://www.nasm.us/doc/\" DisplayName=\"Redirect Error Messages to File\" Description=\"Drops the error Message on specified device\" Switch=\"-Z &quot;[value]&quot;\"/>\n    <StringListProperty Name=\"IncludePaths\" Category=\"General\" DisplayName=\"Include Paths\" Description=\"Sets path for include file.     (-I[path])\" HelpUrl=\"http://www.nasm.us/doc/\" Switch=\"-I&quot;[value]&quot;\"/>\n    <StringListProperty Name=\"PreprocessorDefinitions\" Category=\"Preprocessor\" HelpUrl=\"http://www.nasm.us/doc/\" DisplayName=\"Preprocessor Definitions\" Description=\"Defines a text macro with the given name.     (-D[symbol])\" Switch=\"-D&quot;[value]&quot;\"/>\n    <StringListProperty Name=\"UndefinePreprocessorDefinitions\" Category=\"Preprocessor\" HelpUrl=\"http://www.nasm.us/doc/\" DisplayName=\"Undefine Preprocessor Definitions\" Description=\"Undefines a text macro with the given name.     (-U[symbol])\" Switch=\"-U&quot;[value]&quot;\"/>\n    <EnumProperty Name=\"ErrorReportingFormat\" Category=\"Advanced\" HelpUrl=\"http://www.nasm.us/doc/\" DisplayName=\"Error Reporting Format\" Description=\"Select the error reporting format ie. GNU or VC\">\n      <EnumValue Name=\"0\" DisplayName=\"-Xgnu GNU format: Default format\" Switch=\"-Xgnu\"/>\n      <EnumValue Name=\"1\" DisplayName=\"-Xvc Style used by Microsoft Visual C++\" Switch=\"-Xvc\"/>\n    </EnumProperty>\n    <BoolProperty Name=\"TreatWarningsAsErrors\" Category=\"Assembler Options\" DisplayName=\"Treat Warnings As Errors\" Description=\"Returns an error code if warnings are generated.     (-Werror)\" HelpUrl=\"http://www.nasm.us/doc/\" Switch=\"-Werror\"/>\n    <BoolProperty Name=\"floatunderflow\" Category=\"Advanced\" HelpUrl=\"http://www.nasm.us/doc/\" DisplayName=\"float-underflow\" Description=\"floating point underflow (default off)\" Switch=\"-w+float-underflow\"/>\n    <BoolProperty Name=\"macrodefaults\" Category=\"Advanced\" HelpUrl=\"http://www.nasm.us/doc/\" DisplayName=\"Disable macro-defaults\" Description=\"macros with more default than optional parameters (default on)\" Switch=\"-w-macro-defaults\"/>\n    <BoolProperty Name=\"user\" Category=\"Advanced\" HelpUrl=\"http://www.nasm.us/doc/\" DisplayName=\"Disable user\" Description=\"%warning directives (default on)\" Switch=\"-w-user\"/>\n    <BoolProperty Name=\"floatoverflow\" Category=\"Advanced\" HelpUrl=\"http://www.nasm.us/doc/\" DisplayName=\"Disable float-overflow\" Description=\"floating point overflow (default on)\" Switch=\"-w-float-overflow\"/>\n    <BoolProperty Name=\"floatdenorm\" Category=\"Advanced\" HelpUrl=\"http://www.nasm.us/doc/\" DisplayName=\"float-denorm\" Description=\"floating point denormal (default off)\" Switch=\"-w+float-denorm\"/>\n    <BoolProperty Name=\"numberoverflow\" Category=\"Advanced\" HelpUrl=\"http://www.nasm.us/doc/\" DisplayName=\"Disable number-overflow\" Description=\"numeric constant does not fit (default on)\" Switch=\"-w-number-overflow\"/>\n    <BoolProperty Name=\"macroselfref\" Category=\"Advanced\" HelpUrl=\"http://www.nasm.us/doc/\" DisplayName=\"macro-selfref\" Description=\"cyclic macro references (default off)\" Switch=\"-w+macro-selfref\"/>\n    <BoolProperty Name=\"floattoolong\" Category=\"Advanced\" HelpUrl=\"http://www.nasm.us/doc/\" DisplayName=\"Disable float-toolong\" Description=\" too many digits in floating-point number (default on)\" Switch=\"-w-float-toolong\"/>\n    <BoolProperty Name=\"orphanlabels\" Category=\"Advanced\" HelpUrl=\"http://www.nasm.us/doc/\" DisplayName=\"Disable orphan-labels\" Description=\"labels alone on lines without trailing `:' (default on)\" Switch=\"-w-orphan-labels\"/>\n    <StringProperty Name=\"CommandLineTemplate\" DisplayName=\"Command Line\" Visible=\"False\" IncludeInCommandLine=\"False\"/>\n    <DynamicEnumProperty Name=\"NASMBeforeTargets\" Category=\"General\" EnumProvider=\"Targets\" IncludeInCommandLine=\"False\">\n      <DynamicEnumProperty.DisplayName>\n        <sys:String>Execute Before</sys:String>\n      </DynamicEnumProperty.DisplayName>\n      <DynamicEnumProperty.Description>\n        <sys:String>Specifies the targets for the build customization to run before.</sys:String>\n      </DynamicEnumProperty.Description>\n      <DynamicEnumProperty.ProviderSettings>\n        <NameValuePair Name=\"Exclude\" Value=\"^NASMBeforeTargets|^Compute\"/>\n      </DynamicEnumProperty.ProviderSettings>\n      <DynamicEnumProperty.DataSource>\n        <DataSource Persistence=\"ProjectFile\" ItemType=\"\" HasConfigurationCondition=\"true\"/>\n      </DynamicEnumProperty.DataSource>\n    </DynamicEnumProperty>\n    <DynamicEnumProperty Name=\"NASMAfterTargets\" Category=\"General\" EnumProvider=\"Targets\" IncludeInCommandLine=\"False\">\n      <DynamicEnumProperty.DisplayName>\n        <sys:String>Execute After</sys:String>\n      </DynamicEnumProperty.DisplayName>\n      <DynamicEnumProperty.Description>\n        <sys:String>Specifies the targets for the build customization to run after.</sys:String>\n      </DynamicEnumProperty.Description>\n      <DynamicEnumProperty.ProviderSettings>\n        <NameValuePair Name=\"Exclude\" Value=\"^NASMAfterTargets|^Compute\"/>\n      </DynamicEnumProperty.ProviderSettings>\n      <DynamicEnumProperty.DataSource>\n        <DataSource Persistence=\"ProjectFile\" ItemType=\"\" HasConfigurationCondition=\"true\"/>\n      </DynamicEnumProperty.DataSource>\n    </DynamicEnumProperty>\n    <StringProperty Name=\"ExecutionDescription\" DisplayName=\"Execution Description\" IncludeInCommandLine=\"False\" Visible=\"False\"/>\n    <StringListProperty Name=\"AdditionalDependencies\" DisplayName=\"Additional Dependencies\" IncludeInCommandLine=\"False\" Visible=\"False\"/>\n    <StringProperty Subtype=\"AdditionalOptions\" Name=\"AdditionalOptions\" Category=\"Command Line\">\n      <StringProperty.DisplayName>\n        <sys:String>Additional Options</sys:String>\n      </StringProperty.DisplayName>\n      <StringProperty.Description>\n        <sys:String>Additional Options</sys:String>\n      </StringProperty.Description>\n    </StringProperty>\n  </Rule>\n  <ItemType Name=\"NASM\" DisplayName=\"Netwide Assembler\"/>\n  <FileExtension Name=\"*.asm\" ContentType=\"NASM\"/>\n  <ContentType Name=\"NASM\" DisplayName=\"Netwide Assembler\" ItemType=\"NASM\"/>\n</ProjectSchemaDefinitions>\n",
     "output_type": "stream"
    }
   ]
  },
  {
   "cell_type": "code",
   "metadata": {
    "tags": [],
    "cell_id": "00001-40a3b6a2-7d7c-4072-a26f-37843a0230d6",
    "deepnote_to_be_reexecuted": false,
    "source_hash": "563ffad3",
    "execution_start": 1653031432092,
    "execution_millis": 1,
    "deepnote_cell_type": "code",
    "deepnote_cell_height": 244.75
   },
   "source": "root = dom.documentElement\nprint(root.nodeName)\nprint(root.nodeValue)\nprint(root.nodeType)\nprint(root.ELEMENT_NODE)",
   "execution_count": 5,
   "outputs": [
    {
     "name": "stdout",
     "text": "ProjectSchemaDefinitions\nNone\n1\n1\n",
     "output_type": "stream"
    }
   ]
  },
  {
   "cell_type": "code",
   "metadata": {
    "tags": [],
    "cell_id": "00002-38b1030f-b2bf-4fe4-95ce-18606699f094",
    "deepnote_to_be_reexecuted": false,
    "source_hash": "656dab68",
    "execution_start": 1653031516251,
    "execution_millis": 13,
    "deepnote_cell_type": "code",
    "deepnote_cell_height": 498.4375
   },
   "source": "names=dom.getElementsByTagName('Rule.DataSource')\nprint(names[0].toxml())\nfor name in names:\n    print(name.toxml())\n    print(name.childNodes[0].data)\n    print(name.nodeName)\n    print(name.firstChild.nodeValue)\n    print(name.nodeType)\n    print(name.ELEMENT_NODE)",
   "execution_count": 7,
   "outputs": [
    {
     "name": "stdout",
     "text": "<Rule.DataSource>\n      <DataSource Persistence=\"ProjectFile\" ItemType=\"NASM\"/>\n    </Rule.DataSource>\n<Rule.DataSource>\n      <DataSource Persistence=\"ProjectFile\" ItemType=\"NASM\"/>\n    </Rule.DataSource>\n\n      \nRule.DataSource\n\n      \n1\n1\n",
     "output_type": "stream"
    }
   ]
  },
  {
   "cell_type": "code",
   "metadata": {
    "tags": [],
    "cell_id": "00003-4b918330-d4bd-4712-9d84-210a3db87a23",
    "deepnote_to_be_reexecuted": false,
    "source_hash": "7c1dc5a",
    "execution_start": 1653031647785,
    "execution_millis": 11,
    "deepnote_cell_type": "code",
    "deepnote_cell_height": 632.6875
   },
   "source": "objects=dom.getElementsByTagName('Category')\nfor obj in objects:\n    print(obj.toxml())",
   "execution_count": 8,
   "outputs": [
    {
     "name": "stdout",
     "text": "<Category Name=\"General\">\n        <Category.DisplayName>\n          <sys:String>General</sys:String>\n        </Category.DisplayName>\n      </Category>\n<Category Name=\"Preprocessor\">\n        <Category.DisplayName>\n          <sys:String>Preprocessing Options</sys:String>\n        </Category.DisplayName>\n      </Category>\n<Category Name=\"Assembler Options\">\n        <Category.DisplayName>\n          <sys:String>Assembler Options</sys:String>\n        </Category.DisplayName>\n      </Category>\n<Category Name=\"Advanced\">\n        <Category.DisplayName>\n          <sys:String>Advanced </sys:String>\n        </Category.DisplayName>\n      </Category>\n<Category Name=\"Command Line\" Subtype=\"CommandLine\">\n        <Category.DisplayName>\n          <sys:String>Command Line</sys:String>\n        </Category.DisplayName>\n      </Category>\n",
     "output_type": "stream"
    }
   ]
  },
  {
   "cell_type": "code",
   "metadata": {
    "tags": [],
    "cell_id": "00004-dd457ed0-7b16-47a6-aef8-2d70fb40fbd6",
    "deepnote_to_be_reexecuted": false,
    "source_hash": "e1ed465f",
    "execution_start": 1653031842352,
    "execution_millis": 1,
    "owner_user_id": "64653946-af2f-4699-a282-4043b0ba5576",
    "deepnote_cell_type": "code",
    "deepnote_cell_height": 225
   },
   "source": "import xml.etree.ElementTree as ET\ntree = ET.parse('/usr/share/cmake-3.13/Templates/MSBuild/nasm.xml')\nroot = tree.getroot()\nfor obj in root.findall('Category'):\n    name = obj.find('sys:String').text\n    print(name)\nfor obj in root.iter('DynamicEnumProperty'):\n    name = obj.find('DynamicEnumProperty.DisplayName').find('sys:String').text\n    print(name)",
   "execution_count": 11,
   "outputs": []
  },
  {
   "cell_type": "markdown",
   "source": "<a style='text-decoration:none;line-height:16px;display:flex;color:#5B5B62;padding:10px;justify-content:end;' href='https://deepnote.com?utm_source=created-in-deepnote-cell&projectId=5292883e-50a7-4f1d-9f12-778c1d6da182' target=\"_blank\">\n<img alt='Created in deepnote.com' style='display:inline;max-height:16px;margin:0px;margin-right:7.5px;' src='data:image/svg+xml;base64,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' > </img>\nCreated in <span style='font-weight:600;margin-left:4px;'>Deepnote</span></a>",
   "metadata": {
    "tags": [],
    "created_in_deepnote_cell": true,
    "deepnote_cell_type": "markdown"
   }
  }
 ],
 "nbformat": 4,
 "nbformat_minor": 2,
 "metadata": {
  "orig_nbformat": 2,
  "deepnote": {
   "is_reactive": false
  },
  "deepnote_notebook_id": "b7a54cf4-cba1-4a7f-b307-baa13b6e23cc",
  "deepnote_execution_queue": []
 }
}