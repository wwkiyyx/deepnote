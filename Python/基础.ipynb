{
 "cells": [
  {
   "cell_type": "code",
   "metadata": {
    "tags": [],
    "cell_id": "00000-8086aa01-5930-41e2-a7cd-b21d85d37787",
    "deepnote_to_be_reexecuted": false,
    "source_hash": "87fc662d",
    "execution_start": 1622423916114,
    "execution_millis": 3,
    "deepnote_cell_type": "code",
    "deepnote_cell_height": 726,
    "deepnote_output_heights": [
     611
    ]
   },
   "source": "import keyword\nkeyword.kwlist",
   "execution_count": null,
   "outputs": [
    {
     "output_type": "execute_result",
     "execution_count": 2,
     "data": {
      "text/plain": "['False',\n 'None',\n 'True',\n 'and',\n 'as',\n 'assert',\n 'async',\n 'await',\n 'break',\n 'class',\n 'continue',\n 'def',\n 'del',\n 'elif',\n 'else',\n 'except',\n 'finally',\n 'for',\n 'from',\n 'global',\n 'if',\n 'import',\n 'in',\n 'is',\n 'lambda',\n 'nonlocal',\n 'not',\n 'or',\n 'pass',\n 'raise',\n 'return',\n 'try',\n 'while',\n 'with',\n 'yield']"
     },
     "metadata": {}
    }
   ]
  },
  {
   "cell_type": "code",
   "metadata": {
    "tags": [],
    "cell_id": "00001-16fb57be-58eb-48e7-8ceb-1a19975a43c6",
    "deepnote_to_be_reexecuted": false,
    "source_hash": "e4b9df0d",
    "execution_start": 1622423985450,
    "execution_millis": 7,
    "deepnote_cell_type": "code",
    "deepnote_cell_height": 316.1875,
    "deepnote_output_heights": [
     21.1875
    ]
   },
   "source": "# 第一个注释\n# 第二个注释\n\n'''\n第三注释\n第四注释\n'''\n\n\"\"\"\n第五注释\n第六注释\n\"\"\"",
   "execution_count": null,
   "outputs": [
    {
     "output_type": "execute_result",
     "execution_count": 4,
     "data": {
      "text/plain": "'\\n第五注释\\n第六注释\\n'"
     },
     "metadata": {}
    }
   ]
  },
  {
   "cell_type": "code",
   "metadata": {
    "tags": [],
    "cell_id": "00002-a291485f-69fa-4ab3-9ab8-dc771f7f406c",
    "deepnote_to_be_reexecuted": false,
    "source_hash": "9144f8d4",
    "execution_start": 1622424208154,
    "execution_millis": 0,
    "deepnote_cell_type": "code",
    "deepnote_cell_height": 81
   },
   "source": "str='123456789'",
   "execution_count": null,
   "outputs": []
  },
  {
   "cell_type": "markdown",
   "source": "total = ['item_one', 'item_two', 'item_three',\n        'item_four', 'item_five']",
   "metadata": {
    "tags": [],
    "cell_id": "00003-a37798cd-95ec-4f62-9df5-4ab1d0b6c2de",
    "is_collapsed": false,
    "deepnote_cell_type": "text-cell-p"
   }
  },
  {
   "cell_type": "markdown",
   "source": "total = item_one + \\\n        item_two + \\\n        item_three",
   "metadata": {
    "tags": [],
    "cell_id": "00004-afc9a475-cd58-402d-9e5d-7022d1a0a6c2",
    "is_collapsed": false,
    "deepnote_cell_type": "text-cell-p"
   }
  },
  {
   "cell_type": "code",
   "metadata": {
    "tags": [],
    "cell_id": "00005-63b13cf4-705a-42cf-a4e8-d76fc1e5f0be",
    "deepnote_to_be_reexecuted": false,
    "source_hash": "24e68abb",
    "execution_start": 1622424218109,
    "execution_millis": 6,
    "deepnote_cell_type": "code",
    "deepnote_cell_height": 118.1875,
    "deepnote_output_heights": [
     21.1875
    ]
   },
   "source": "str",
   "execution_count": null,
   "outputs": [
    {
     "output_type": "execute_result",
     "execution_count": 6,
     "data": {
      "text/plain": "'123456789'"
     },
     "metadata": {}
    }
   ]
  },
  {
   "cell_type": "code",
   "metadata": {
    "tags": [],
    "cell_id": "00006-f8baf900-bf19-47e7-9817-c52260307977",
    "deepnote_to_be_reexecuted": false,
    "source_hash": "afa6d9d",
    "execution_start": 1622424241480,
    "execution_millis": 6,
    "deepnote_cell_type": "code",
    "deepnote_cell_height": 118.1875,
    "deepnote_output_heights": [
     21.1875
    ]
   },
   "source": "str[0:-1]",
   "execution_count": null,
   "outputs": [
    {
     "output_type": "execute_result",
     "execution_count": 7,
     "data": {
      "text/plain": "'12345678'"
     },
     "metadata": {}
    }
   ]
  },
  {
   "cell_type": "code",
   "metadata": {
    "tags": [],
    "cell_id": "00007-6623ed37-740a-4e39-8d72-b941904b2ff9",
    "deepnote_to_be_reexecuted": false,
    "source_hash": "b2b4d217",
    "execution_start": 1622424312446,
    "execution_millis": 4,
    "deepnote_cell_type": "code",
    "deepnote_cell_height": 118.1875,
    "deepnote_output_heights": [
     21.1875
    ]
   },
   "source": "str[0]",
   "execution_count": null,
   "outputs": [
    {
     "output_type": "execute_result",
     "execution_count": 10,
     "data": {
      "text/plain": "'1'"
     },
     "metadata": {}
    }
   ]
  },
  {
   "cell_type": "code",
   "metadata": {
    "tags": [],
    "cell_id": "00008-8fc16a4c-923b-4e9d-a88d-2a8569c33887",
    "deepnote_to_be_reexecuted": false,
    "source_hash": "ae64735",
    "execution_start": 1622424314991,
    "execution_millis": 14,
    "deepnote_cell_type": "code",
    "deepnote_cell_height": 118.1875,
    "deepnote_output_heights": [
     21.1875
    ]
   },
   "source": "str[2:5]",
   "execution_count": null,
   "outputs": [
    {
     "output_type": "execute_result",
     "execution_count": 11,
     "data": {
      "text/plain": "'345'"
     },
     "metadata": {}
    }
   ]
  },
  {
   "cell_type": "code",
   "metadata": {
    "tags": [],
    "cell_id": "00009-e4f217b1-7ed5-431d-8379-3ffdbf776cfd",
    "deepnote_to_be_reexecuted": false,
    "source_hash": "5f87d927",
    "execution_start": 1622424340171,
    "execution_millis": 9,
    "deepnote_cell_type": "code",
    "deepnote_cell_height": 118.1875,
    "deepnote_output_heights": [
     21.1875
    ]
   },
   "source": "str[2:]",
   "execution_count": null,
   "outputs": [
    {
     "output_type": "execute_result",
     "execution_count": 13,
     "data": {
      "text/plain": "'3456789'"
     },
     "metadata": {}
    }
   ]
  },
  {
   "cell_type": "code",
   "metadata": {
    "tags": [],
    "cell_id": "00010-6ebbcefb-11c9-4bab-bfb3-0e5e61b48e41",
    "deepnote_to_be_reexecuted": false,
    "source_hash": "dbdcb7fb",
    "execution_start": 1622424372410,
    "execution_millis": 6,
    "deepnote_cell_type": "code",
    "deepnote_cell_height": 118.1875,
    "deepnote_output_heights": [
     21.1875
    ]
   },
   "source": "str[1:5:2]",
   "execution_count": null,
   "outputs": [
    {
     "output_type": "execute_result",
     "execution_count": 14,
     "data": {
      "text/plain": "'24'"
     },
     "metadata": {}
    }
   ]
  },
  {
   "cell_type": "code",
   "metadata": {
    "tags": [],
    "cell_id": "00011-ea7628b1-20c0-457c-b37e-e7c409be5e9b",
    "deepnote_to_be_reexecuted": false,
    "source_hash": "922f1500",
    "execution_start": 1622424407201,
    "execution_millis": 8,
    "deepnote_cell_type": "code",
    "deepnote_cell_height": 118.1875,
    "deepnote_output_heights": [
     21.1875
    ]
   },
   "source": "str * 3",
   "execution_count": null,
   "outputs": [
    {
     "output_type": "execute_result",
     "execution_count": 15,
     "data": {
      "text/plain": "'123456789123456789123456789'"
     },
     "metadata": {}
    }
   ]
  },
  {
   "cell_type": "code",
   "metadata": {
    "tags": [],
    "cell_id": "00012-aa3ae717-41c1-4e97-aad6-60573bb1c8a0",
    "deepnote_to_be_reexecuted": false,
    "source_hash": "af2bc684",
    "execution_start": 1622424416365,
    "execution_millis": 6,
    "deepnote_cell_type": "code",
    "deepnote_cell_height": 118.1875,
    "deepnote_output_heights": [
     21.1875
    ]
   },
   "source": "str + str",
   "execution_count": null,
   "outputs": [
    {
     "output_type": "execute_result",
     "execution_count": 16,
     "data": {
      "text/plain": "'123456789123456789'"
     },
     "metadata": {}
    }
   ]
  },
  {
   "cell_type": "code",
   "metadata": {
    "tags": [],
    "cell_id": "00013-fd4a72e5-836c-4e63-92c6-76665eb07b01",
    "deepnote_to_be_reexecuted": false,
    "source_hash": "49e7a741",
    "execution_start": 1622424459054,
    "execution_millis": 4769,
    "deepnote_cell_type": "code",
    "deepnote_cell_height": 118.1875,
    "deepnote_output_heights": [
     21.1875
    ]
   },
   "source": "input(\"\\n\\n按下 enter 键后退出。\")",
   "execution_count": null,
   "outputs": [
    {
     "output_type": "execute_result",
     "execution_count": 17,
     "data": {
      "text/plain": "'33'"
     },
     "metadata": {}
    }
   ]
  },
  {
   "cell_type": "code",
   "metadata": {
    "tags": [],
    "cell_id": "00014-906b9840-dcb1-46ce-93ae-0160ba59200b",
    "deepnote_to_be_reexecuted": false,
    "source_hash": "62a7d8eb",
    "execution_start": 1622424484910,
    "execution_millis": 6,
    "deepnote_cell_type": "code",
    "deepnote_cell_height": 112.1875
   },
   "source": "import sys; x = 'runoob'; sys.stdout.write(x + '\\n')",
   "execution_count": null,
   "outputs": [
    {
     "name": "stdout",
     "text": "runoob\n",
     "output_type": "stream"
    }
   ]
  },
  {
   "cell_type": "code",
   "metadata": {
    "tags": [],
    "cell_id": "00015-93b360d1-bc4b-4aea-bef4-26ea03d78876",
    "deepnote_to_be_reexecuted": false,
    "source_hash": "78db0899",
    "execution_start": 1622424539436,
    "execution_millis": 7,
    "deepnote_cell_type": "code",
    "deepnote_cell_height": 130.1875
   },
   "source": "print( str, end=\" \" )\nprint( str, end=\" \" )",
   "execution_count": null,
   "outputs": [
    {
     "name": "stdout",
     "text": "123456789 123456789 ",
     "output_type": "stream"
    }
   ]
  },
  {
   "cell_type": "code",
   "metadata": {
    "tags": [],
    "cell_id": "00016-badbecf1-f6a9-4d65-aecd-f15f01968c3d",
    "deepnote_to_be_reexecuted": false,
    "source_hash": "47fc6a26",
    "execution_start": 1622424655918,
    "execution_millis": 6,
    "deepnote_cell_type": "code",
    "deepnote_cell_height": 289.125
   },
   "source": "import sys\nprint ('命令行参数为:')\nfor i in sys.argv:\n    print (i)\nprint ('\\n python 路径为',sys.path)",
   "execution_count": null,
   "outputs": [
    {
     "name": "stdout",
     "text": "命令行参数为:\n/shared-libs/python3.7/py-core/lib/python3.7/site-packages/ipykernel_launcher.py\n-f\n/home/jovyan/.local/share/jupyter/runtime/kernel-649f12c7-2067-4d43-853f-58a1a88f73db.json\n\n python 路径为 ['/home/jovyan', '', '/shared-libs/python3.7/py-core/lib/python3.7/site-packages', '/home/jovyan', '/usr/local/lib/python37.zip', '/usr/local/lib/python3.7', '/usr/local/lib/python3.7/lib-dynload', '/home/jovyan/venv/lib/python3.7/site-packages', '/home/jovyan/.local/lib/python3.7/site-packages', '/usr/local/lib/python3.7/site-packages', '/shared-libs/python3.7/py/lib/python3.7/site-packages', '/shared-libs/python3.7/py-core/lib/python3.7/site-packages/IPython/extensions', '/deepnote-config/ipython', '/home/jovyan/work/wangwenkai40/Python']\n",
     "output_type": "stream"
    }
   ]
  },
  {
   "cell_type": "code",
   "metadata": {
    "tags": [],
    "cell_id": "00016-967ea3cc-b6d0-491c-b352-8547b269d00e",
    "deepnote_to_be_reexecuted": false,
    "source_hash": "2525f9f5",
    "execution_start": 1622424581187,
    "execution_millis": 228,
    "deepnote_cell_type": "code",
    "deepnote_cell_height": 701
   },
   "source": "!python -h",
   "execution_count": null,
   "outputs": [
    {
     "name": "stdout",
     "text": "usage: python [option] ... [-c cmd | -m mod | file | -] [arg] ...\r\nOptions and arguments (and corresponding environment variables):\r\n-b     : issue warnings about str(bytes_instance), str(bytearray_instance)\r\n         and comparing bytes/bytearray with str. (-bb: issue errors)\r\n-B     : don't write .pyc files on import; also PYTHONDONTWRITEBYTECODE=x\r\n-c cmd : program passed in as string (terminates option list)\r\n-d     : debug output from parser; also PYTHONDEBUG=x\r\n-E     : ignore PYTHON* environment variables (such as PYTHONPATH)\r\n-h     : print this help message and exit (also --help)\r\n-i     : inspect interactively after running script; forces a prompt even\r\n         if stdin does not appear to be a terminal; also PYTHONINSPECT=x\r\n-I     : isolate Python from the user's environment (implies -E and -s)\r\n-m mod : run library module as a script (terminates option list)\r\n-O     : remove assert and __debug__-dependent statements; add .opt-1 before\r\n         .pyc extension; also PYTHONOPTIMIZE=x\r\n-OO    : do -O changes and also discard docstrings; add .opt-2 before\r\n         .pyc extension\r\n-q     : don't print version and copyright messages on interactive startup\r\n-s     : don't add user site directory to sys.path; also PYTHONNOUSERSITE\r\n-S     : don't imply 'import site' on initialization\r\n-u     : force the stdout and stderr streams to be unbuffered;\r\n         this option has no effect on stdin; also PYTHONUNBUFFERED=x\r\n-v     : verbose (trace import statements); also PYTHONVERBOSE=x\r\n         can be supplied multiple times to increase verbosity\r\n-V     : print the Python version number and exit (also --version)\r\n         when given twice, print more information about the build\r\n-W arg : warning control; arg is action:message:category:module:lineno\r\n         also PYTHONWARNINGS=arg\r\n-x     : skip first line of source, allowing use of non-Unix forms of #!cmd\r\n-X opt : set implementation-specific option. The following options are available:\r\n\r\n         -X faulthandler: enable faulthandler\r\n         -X showrefcount: output the total reference count and number of used\r\n             memory blocks when the program finishes or after each statement in the\r\n             interactive interpreter. This only works on debug builds\r\n         -X tracemalloc: start tracing Python memory allocations using the\r\n             tracemalloc module. By default, only the most recent frame is stored in a\r\n             traceback of a trace. Use -X tracemalloc=NFRAME to start tracing with a\r\n             traceback limit of NFRAME frames\r\n         -X showalloccount: output the total count of allocated objects for each\r\n             type when the program finishes. This only works when Python was built with\r\n             COUNT_ALLOCS defined\r\n         -X importtime: show how long each import takes. It shows module name,\r\n             cumulative time (including nested imports) and self time (excluding\r\n             nested imports). Note that its output may be broken in multi-threaded\r\n             application. Typical usage is python3 -X importtime -c 'import asyncio'\r\n         -X dev: enable CPython’s “development mode”, introducing additional runtime\r\n             checks which are too expensive to be enabled by default. Effect of the\r\n             developer mode:\r\n                * Add default warning filter, as -W default\r\n                * Install debug hooks on memory allocators: see the PyMem_SetupDebugHooks() C function\r\n                * Enable the faulthandler module to dump the Python traceback on a crash\r\n                * Enable asyncio debug mode\r\n                * Set the dev_mode attribute of sys.flags to True\r\n         -X utf8: enable UTF-8 mode for operating system interfaces, overriding the default\r\n             locale-aware mode. -X utf8=0 explicitly disables UTF-8 mode (even when it would\r\n             otherwise activate automatically)\r\n\r\n--check-hash-based-pycs always|default|never:\r\n    control how Python invalidates hash-based .pyc files\r\nfile   : program read from script file\r\n-      : program read from stdin (default; interactive mode if a tty)\r\narg ...: arguments passed to program in sys.argv[1:]\r\n\r\nOther environment variables:\r\nPYTHONSTARTUP: file executed on interactive startup (no default)\r\nPYTHONPATH   : ':'-separated list of directories prefixed to the\r\n               default module search path.  The result is sys.path.\r\nPYTHONHOME   : alternate <prefix> directory (or <prefix>:<exec_prefix>).\r\n               The default module search path uses <prefix>/lib/pythonX.X.\r\nPYTHONCASEOK : ignore case in 'import' statements (Windows).\r\nPYTHONUTF8: if set to 1, enable the UTF-8 mode.\r\nPYTHONIOENCODING: Encoding[:errors] used for stdin/stdout/stderr.\r\nPYTHONFAULTHANDLER: dump the Python traceback on fatal errors.\r\nPYTHONHASHSEED: if this variable is set to 'random', a random value is used\r\n   to seed the hashes of str, bytes and datetime objects.  It can also be\r\n   set to an integer in the range [0,4294967295] to get hash values with a\r\n   predictable seed.\r\nPYTHONMALLOC: set the Python memory allocators and/or install debug hooks\r\n   on Python memory allocators. Use PYTHONMALLOC=debug to install debug\r\n   hooks.\r\nPYTHONCOERCECLOCALE: if this variable is set to 0, it disables the locale\r\n   coercion behavior. Use PYTHONCOERCECLOCALE=warn to request display of\r\n   locale coercion and locale compatibility warnings on stderr.\r\nPYTHONBREAKPOINT: if this variable is set to 0, it disables the default\r\n   debugger. It can be set to the callable of your debugger of choice.\r\nPYTHONDEVMODE: enable the development mode.\r\n",
     "output_type": "stream"
    }
   ]
  },
  {
   "cell_type": "markdown",
   "source": "<a style='text-decoration:none;line-height:16px;display:flex;color:#5B5B62;padding:10px;justify-content:end;' href='https://deepnote.com?utm_source=created-in-deepnote-cell&projectId=26e5d5b4-a604-4f7b-aef4-7756f8127ef0' target=\"_blank\">\n<img alt='Created in deepnote.com' style='display:inline;max-height:16px;margin:0px;margin-right:7.5px;' src='data:image/svg+xml;base64,PD94bWwgdmVyc2lvbj0iMS4wIiBlbmNvZGluZz0iVVRGLTgiPz4KPHN2ZyB3aWR0aD0iODBweCIgaGVpZ2h0PSI4MHB4IiB2aWV3Qm94PSIwIDAgODAgODAiIHZlcnNpb249IjEuMSIgeG1sbnM9Imh0dHA6Ly93d3cudzMub3JnLzIwMDAvc3ZnIiB4bWxuczp4bGluaz0iaHR0cDovL3d3dy53My5vcmcvMTk5OS94bGluayI+CiAgICA8IS0tIEdlbmVyYXRvcjogU2tldGNoIDU0LjEgKDc2NDkwKSAtIGh0dHBzOi8vc2tldGNoYXBwLmNvbSAtLT4KICAgIDx0aXRsZT5Hcm91cCAzPC90aXRsZT4KICAgIDxkZXNjPkNyZWF0ZWQgd2l0aCBTa2V0Y2guPC9kZXNjPgogICAgPGcgaWQ9IkxhbmRpbmciIHN0cm9rZT0ibm9uZSIgc3Ryb2tlLXdpZHRoPSIxIiBmaWxsPSJub25lIiBmaWxsLXJ1bGU9ImV2ZW5vZGQiPgogICAgICAgIDxnIGlkPSJBcnRib2FyZCIgdHJhbnNmb3JtPSJ0cmFuc2xhdGUoLTEyMzUuMDAwMDAwLCAtNzkuMDAwMDAwKSI+CiAgICAgICAgICAgIDxnIGlkPSJHcm91cC0zIiB0cmFuc2Zvcm09InRyYW5zbGF0ZSgxMjM1LjAwMDAwMCwgNzkuMDAwMDAwKSI+CiAgICAgICAgICAgICAgICA8cG9seWdvbiBpZD0iUGF0aC0yMCIgZmlsbD0iIzAyNjVCNCIgcG9pbnRzPSIyLjM3NjIzNzYyIDgwIDM4LjA0NzY2NjcgODAgNTcuODIxNzgyMiA3My44MDU3NTkyIDU3LjgyMTc4MjIgMzIuNzU5MjczOSAzOS4xNDAyMjc4IDMxLjY4MzE2ODMiPjwvcG9seWdvbj4KICAgICAgICAgICAgICAgIDxwYXRoIGQ9Ik0zNS4wMDc3MTgsODAgQzQyLjkwNjIwMDcsNzYuNDU0OTM1OCA0Ny41NjQ5MTY3LDcxLjU0MjI2NzEgNDguOTgzODY2LDY1LjI2MTk5MzkgQzUxLjExMjI4OTksNTUuODQxNTg0MiA0MS42NzcxNzk1LDQ5LjIxMjIyODQgMjUuNjIzOTg0Niw0OS4yMTIyMjg0IEMyNS40ODQ5Mjg5LDQ5LjEyNjg0NDggMjkuODI2MTI5Niw0My4yODM4MjQ4IDM4LjY0NzU4NjksMzEuNjgzMTY4MyBMNzIuODcxMjg3MSwzMi41NTQ0MjUgTDY1LjI4MDk3Myw2Ny42NzYzNDIxIEw1MS4xMTIyODk5LDc3LjM3NjE0NCBMMzUuMDA3NzE4LDgwIFoiIGlkPSJQYXRoLTIyIiBmaWxsPSIjMDAyODY4Ij48L3BhdGg+CiAgICAgICAgICAgICAgICA8cGF0aCBkPSJNMCwzNy43MzA0NDA1IEwyNy4xMTQ1MzcsMC4yNTcxMTE0MzYgQzYyLjM3MTUxMjMsLTEuOTkwNzE3MDEgODAsMTAuNTAwMzkyNyA4MCwzNy43MzA0NDA1IEM4MCw2NC45NjA0ODgyIDY0Ljc3NjUwMzgsNzkuMDUwMzQxNCAzNC4zMjk1MTEzLDgwIEM0Ny4wNTUzNDg5LDc3LjU2NzA4MDggNTMuNDE4MjY3Nyw3MC4zMTM2MTAzIDUzLjQxODI2NzcsNTguMjM5NTg4NSBDNTMuNDE4MjY3Nyw0MC4xMjg1NTU3IDM2LjMwMzk1NDQsMzcuNzMwNDQwNSAyNS4yMjc0MTcsMzcuNzMwNDQwNSBDMTcuODQzMDU4NiwzNy43MzA0NDA1IDkuNDMzOTE5NjYsMzcuNzMwNDQwNSAwLDM3LjczMDQ0MDUgWiIgaWQ9IlBhdGgtMTkiIGZpbGw9IiMzNzkzRUYiPjwvcGF0aD4KICAgICAgICAgICAgPC9nPgogICAgICAgIDwvZz4KICAgIDwvZz4KPC9zdmc+' > </img>\nCreated in <span style='font-weight:600;margin-left:4px;'>Deepnote</span></a>",
   "metadata": {
    "tags": [],
    "created_in_deepnote_cell": true,
    "deepnote_cell_type": "markdown"
   }
  }
 ],
 "nbformat": 4,
 "nbformat_minor": 2,
 "metadata": {
  "orig_nbformat": 2,
  "deepnote": {
   "is_reactive": false
  },
  "deepnote_notebook_id": "4aafb291-e86c-41eb-9d46-a5768c091477",
  "deepnote_execution_queue": []
 }
}