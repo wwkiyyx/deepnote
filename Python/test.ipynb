{
 "cells": [
  {
   "cell_type": "code",
   "metadata": {
    "tags": [],
    "cell_id": "00000-a0cb0a5c-78cd-4732-9596-ba0b0a17414d",
    "deepnote_to_be_reexecuted": false,
    "source_hash": "8781b114",
    "execution_start": 1653031908409,
    "execution_millis": 44,
    "owner_user_id": "64653946-af2f-4699-a282-4043b0ba5576",
    "deepnote_cell_type": "code",
    "deepnote_cell_height": 112.1875
   },
   "source": "print(\"hello\")",
   "execution_count": 1,
   "outputs": [
    {
     "name": "stdout",
     "text": "hello\n",
     "output_type": "stream"
    }
   ]
  },
  {
   "cell_type": "code",
   "metadata": {
    "tags": [],
    "cell_id": "00002-d1167207-21b9-4361-8aec-613bb2415d70",
    "deepnote_to_be_reexecuted": false,
    "source_hash": "ceed87fe",
    "execution_start": 1653031908453,
    "execution_millis": 384,
    "deepnote_cell_type": "code",
    "deepnote_cell_height": 112.1875
   },
   "source": "!python -V",
   "execution_count": 2,
   "outputs": [
    {
     "name": "stdout",
     "text": "Python 3.9.7\n",
     "output_type": "stream"
    }
   ]
  },
  {
   "cell_type": "code",
   "metadata": {
    "tags": [],
    "cell_id": "00003-c33b14fb-48ff-4871-9730-1dca982f5b97",
    "deepnote_to_be_reexecuted": false,
    "source_hash": "a4019f97",
    "execution_start": 1653031908851,
    "execution_millis": 778,
    "deepnote_cell_type": "code",
    "deepnote_cell_height": 112.1875
   },
   "source": "!python --version",
   "execution_count": 3,
   "outputs": [
    {
     "name": "stdout",
     "text": "Python 3.9.7\n",
     "output_type": "stream"
    }
   ]
  },
  {
   "cell_type": "code",
   "metadata": {
    "tags": [],
    "cell_id": "00003-66a43570-b510-47ad-beab-c969e37a43e8",
    "deepnote_to_be_reexecuted": false,
    "source_hash": "2525f9f5",
    "execution_start": 1653031909260,
    "execution_millis": 723,
    "deepnote_cell_type": "code",
    "deepnote_cell_height": 701
   },
   "source": "!python -h",
   "execution_count": 4,
   "outputs": [
    {
     "name": "stdout",
     "text": "usage: python [option] ... [-c cmd | -m mod | file | -] [arg] ...\nOptions and arguments (and corresponding environment variables):\n-b     : issue warnings about str(bytes_instance), str(bytearray_instance)\n         and comparing bytes/bytearray with str. (-bb: issue errors)\n-B     : don't write .pyc files on import; also PYTHONDONTWRITEBYTECODE=x\n-c cmd : program passed in as string (terminates option list)\n-d     : turn on parser debugging output (for experts only, only works on\n         debug builds); also PYTHONDEBUG=x\n-E     : ignore PYTHON* environment variables (such as PYTHONPATH)\n-h     : print this help message and exit (also --help)\n-i     : inspect interactively after running script; forces a prompt even\n         if stdin does not appear to be a terminal; also PYTHONINSPECT=x\n-I     : isolate Python from the user's environment (implies -E and -s)\n-m mod : run library module as a script (terminates option list)\n-O     : remove assert and __debug__-dependent statements; add .opt-1 before\n         .pyc extension; also PYTHONOPTIMIZE=x\n-OO    : do -O changes and also discard docstrings; add .opt-2 before\n         .pyc extension\n-q     : don't print version and copyright messages on interactive startup\n-s     : don't add user site directory to sys.path; also PYTHONNOUSERSITE\n-S     : don't imply 'import site' on initialization\n-u     : force the stdout and stderr streams to be unbuffered;\n         this option has no effect on stdin; also PYTHONUNBUFFERED=x\n-v     : verbose (trace import statements); also PYTHONVERBOSE=x\n         can be supplied multiple times to increase verbosity\n-V     : print the Python version number and exit (also --version)\n         when given twice, print more information about the build\n-W arg : warning control; arg is action:message:category:module:lineno\n         also PYTHONWARNINGS=arg\n-x     : skip first line of source, allowing use of non-Unix forms of #!cmd\n-X opt : set implementation-specific option. The following options are available:\n\n         -X faulthandler: enable faulthandler\n         -X oldparser: enable the traditional LL(1) parser; also PYTHONOLDPARSER\n         -X showrefcount: output the total reference count and number of used\n             memory blocks when the program finishes or after each statement in the\n             interactive interpreter. This only works on debug builds\n         -X tracemalloc: start tracing Python memory allocations using the\n             tracemalloc module. By default, only the most recent frame is stored in a\n             traceback of a trace. Use -X tracemalloc=NFRAME to start tracing with a\n             traceback limit of NFRAME frames\n         -X importtime: show how long each import takes. It shows module name,\n             cumulative time (including nested imports) and self time (excluding\n             nested imports). Note that its output may be broken in multi-threaded\n             application. Typical usage is python3 -X importtime -c 'import asyncio'\n         -X dev: enable CPython's \"development mode\", introducing additional runtime\n             checks which are too expensive to be enabled by default. Effect of the\n             developer mode:\n                * Add default warning filter, as -W default\n                * Install debug hooks on memory allocators: see the PyMem_SetupDebugHooks() C function\n                * Enable the faulthandler module to dump the Python traceback on a crash\n                * Enable asyncio debug mode\n                * Set the dev_mode attribute of sys.flags to True\n                * io.IOBase destructor logs close() exceptions\n         -X utf8: enable UTF-8 mode for operating system interfaces, overriding the default\n             locale-aware mode. -X utf8=0 explicitly disables UTF-8 mode (even when it would\n             otherwise activate automatically)\n         -X pycache_prefix=PATH: enable writing .pyc files to a parallel tree rooted at the\n             given directory instead of to the code tree\n\n--check-hash-based-pycs always|default|never:\n    control how Python invalidates hash-based .pyc files\nfile   : program read from script file\n-      : program read from stdin (default; interactive mode if a tty)\narg ...: arguments passed to program in sys.argv[1:]\n\nOther environment variables:\nPYTHONSTARTUP: file executed on interactive startup (no default)\nPYTHONPATH   : ':'-separated list of directories prefixed to the\n               default module search path.  The result is sys.path.\nPYTHONHOME   : alternate <prefix> directory (or <prefix>:<exec_prefix>).\n               The default module search path uses <prefix>/lib/pythonX.X.\nPYTHONPLATLIBDIR : override sys.platlibdir.\nPYTHONCASEOK : ignore case in 'import' statements (Windows).\nPYTHONUTF8: if set to 1, enable the UTF-8 mode.\nPYTHONIOENCODING: Encoding[:errors] used for stdin/stdout/stderr.\nPYTHONFAULTHANDLER: dump the Python traceback on fatal errors.\nPYTHONHASHSEED: if this variable is set to 'random', a random value is used\n   to seed the hashes of str and bytes objects.  It can also be set to an\n   integer in the range [0,4294967295] to get hash values with a\n   predictable seed.\nPYTHONMALLOC: set the Python memory allocators and/or install debug hooks\n   on Python memory allocators. Use PYTHONMALLOC=debug to install debug\n   hooks.\nPYTHONCOERCECLOCALE: if this variable is set to 0, it disables the locale\n   coercion behavior. Use PYTHONCOERCECLOCALE=warn to request display of\n   locale coercion and locale compatibility warnings on stderr.\nPYTHONBREAKPOINT: if this variable is set to 0, it disables the default\n   debugger. It can be set to the callable of your debugger of choice.\nPYTHONDEVMODE: enable the development mode.\nPYTHONPYCACHEPREFIX: root directory for bytecode cache (pyc) files.\n",
     "output_type": "stream"
    }
   ]
  },
  {
   "cell_type": "code",
   "metadata": {
    "tags": [],
    "cell_id": "00004-a5128286-04be-404f-b78d-863b0cbeecba",
    "deepnote_to_be_reexecuted": false,
    "source_hash": "914795f7",
    "execution_start": 1653031909694,
    "execution_millis": 3427,
    "deepnote_cell_type": "code",
    "deepnote_cell_height": 701
   },
   "source": "!pip list",
   "execution_count": 5,
   "outputs": [
    {
     "name": "stdout",
     "text": "Package                       Version\n----------------------------- -------------------\nabsl-py                       1.0.0\nagate                         1.6.3\naiohttp                       3.8.1\naiosignal                     1.2.0\naltair                        4.1.0\nargon2-cffi                   21.3.0\nargon2-cffi-bindings          21.2.0\narrow                         1.2.2\nasn1crypto                    1.5.1\nasttokens                     2.0.5\nastunparse                    1.6.3\nasync-timeout                 4.0.2\nattrs                         21.4.0\nAutomat                       20.2.0\nBabel                         2.10.1\nbackcall                      0.2.0\nbleach                        5.0.0\nblis                          0.7.7\nboto3                         1.22.7\nbotocore                      1.25.7\nbranca                        0.5.0\ncachetools                    5.0.0\ncatalogue                     2.0.7\ncertifi                       2021.10.8\ncffi                          1.15.0\ncharset-normalizer            2.0.12\nclick                         8.1.3\nclick-plugins                 1.1.1\ncligj                         0.7.2\nconstantly                    15.1.0\ncryptography                  36.0.2\ncssselect                     1.1.0\ncycler                        0.11.0\ncymem                         2.0.6\ndatascience                   0.17.2\ndecorator                     5.1.1\ndefusedxml                    0.7.1\ndill                          0.3.4\nduckdb                        0.3.4\nduckdb-engine                 0.1.8\nentrypoints                   0.4\nexecuting                     0.8.3\nfilelock                      3.6.0\nFiona                         1.8.21\nflatbuffers                   2.0\nfolium                        0.12.1.post1\nfonttools                     4.33.3\nfrozenlist                    1.3.0\nfuture                        0.18.2\ngast                          0.5.3\ngeopandas                     0.10.2\ngoogle-api-core               2.7.3\ngoogle-auth                   2.6.6\ngoogle-auth-oauthlib          0.4.6\ngoogle-cloud-bigquery         3.0.1\ngoogle-cloud-bigquery-storage 2.13.1\ngoogle-cloud-core             2.3.0\ngoogle-crc32c                 1.3.0\ngoogle-pasta                  0.2.0\ngoogle-resumable-media        2.3.2\ngoogleapis-common-protos      1.56.0\ngreenlet                      1.1.2\ngrpcio                        1.46.0\ngrpcio-status                 1.46.0\nh5py                          3.6.0\nhyperlink                     21.0.0\nidna                          3.3\nimportlib-metadata            4.11.3\nincremental                   21.3.0\nipykernel                     5.5.5\nipython                       7.33.0\nipython-genutils              0.2.0\nisodate                       0.6.1\nitemadapter                   0.5.0\nitemloaders                   1.0.4\njedi                          0.17.2\nJinja2                        2.11.3\njinjasql                      0.1.8\njmespath                      1.0.0\njoblib                        1.1.0\njsonify                       0.5\njsonschema                    3.2.0\njupyter-client                6.1.12\njupyter-core                  4.7.1\njupyterlab-pygments           0.2.2\nkeras                         2.8.0\nKeras-Preprocessing           1.1.2\nkiwisolver                    1.4.2\nlangcodes                     3.3.0\nleather                       0.3.4\nlibclang                      14.0.1\nlxml                          4.8.0\nMarkdown                      3.3.6\nMarkupSafe                    2.0.1\nmatplotlib                    3.5.2\nmatplotlib-inline             0.1.3\nmistune                       0.8.4\nmpmath                        1.2.1\nmultidict                     6.0.2\nmunch                         2.5.0\nmurmurhash                    1.0.7\nnbclient                      0.5.9\nnbconvert                     6.0.7\nnbformat                      5.1.3\nnest-asyncio                  1.5.5\nnltk                          3.7\nnotebook                      6.3.0\nnumpy                         1.22.3\noauthlib                      3.2.0\nopt-einsum                    3.3.0\noscrypto                      1.3.0\npackaging                     21.3\npandas                        1.2.5\npandocfilters                 1.5.0\nparsedatetime                 2.4\nparsel                        1.6.0\nparso                         0.7.1\npathy                         0.6.1\npexpect                       4.8.0\npickleshare                   0.7.5\nPillow                        9.1.0\npip                           21.2.3\nplotly                        5.7.0\npluggy                        1.0.0\npreshed                       3.0.6\nprometheus-client             0.14.1\nprompt-toolkit                3.0.29\nProtego                       0.2.1\nproto-plus                    1.20.3\nprotobuf                      3.20.1\npsycopg2-binary               2.9.3\nptyprocess                    0.7.0\npure-eval                     0.2.2\npyarrow                       7.0.0\npyasn1                        0.4.8\npyasn1-modules                0.2.8\npyathena                      2.5.4\npybigquery                    0.10.2\npycparser                     2.21\npycryptodomex                 3.14.1\npydantic                      1.8.2\nPyDispatcher                  2.0.5\nPygments                      2.12.0\nPyJWT                         2.3.0\nPyMySQL                       1.0.2\npyOpenSSL                     21.0.0\npyparsing                     3.0.8\npyproj                        3.3.1\npyrsistent                    0.18.1\npython-dateutil               2.8.2\npython-jsonrpc-server         0.4.0\npython-language-server        0.5\npython-slugify                6.1.2\npytimeparse                   1.1.8\npytz                          2022.1\npyzmq                         22.3.0\nqueuelib                      1.6.2\nregex                         2022.4.24\nrequests                      2.27.1\nrequests-file                 1.5.1\nrequests-oauthlib             1.3.1\nrsa                           4.8\ns3transfer                    0.5.2\nscikit-learn                  1.0.2\nscipy                         1.8.0\nScrapy                        2.6.1\nseaborn                       0.11.2\nSend2Trash                    1.8.0\nservice-identity              21.1.0\nsetuptools                    57.4.0\nShapely                       1.8.2\nsix                           1.16.0\nsmart-open                    5.2.1\nsnowflake-connector-python    2.7.7\nsnowflake-sqlalchemy          1.3.4\nspacy                         3.3.0\nspacy-legacy                  3.0.9\nspacy-loggers                 1.0.2\nsql-metadata                  2.1.0\nSQLAlchemy                    1.4.36\nsqlalchemy-redshift           0.8.9\nsqlparse                      0.4.2\nsquarify                      0.4.3\nsrsly                         2.4.3\nstack-data                    0.2.0\nsympy                         1.10.1\ntabulate                      0.8.9\ntenacity                      8.0.1\ntensorboard                   2.8.0\ntensorboard-data-server       0.6.1\ntensorboard-plugin-wit        1.8.1\ntensorflow                    2.8.0\ntensorflow-io-gcs-filesystem  0.25.0\ntermcolor                     1.1.0\nterminado                     0.13.3\ntestpath                      0.6.0\ntext-unidecode                1.3\ntextblob                      0.17.1\ntf-estimator-nightly          2.8.0.dev2021122109\nthinc                         8.0.15\nthreadpoolctl                 3.1.0\ntldextract                    3.3.0\ntoolz                         0.11.2\ntorch                         1.11.0\ntorchvision                   0.12.0\ntornado                       6.1\ntqdm                          4.64.0\ntraitlets                     4.3.3\nTwisted                       22.4.0\ntyper                         0.4.1\ntyping_extensions             4.2.0\nujson                         5.2.0\nurllib3                       1.26.9\nw3lib                         1.22.0\nwasabi                        0.9.1\nwcwidth                       0.2.5\nwebencodings                  0.5.1\nWerkzeug                      2.1.2\nwheel                         0.37.0\nwrapt                         1.14.1\nyarl                          1.7.2\nzipp                          3.8.0\nzope.interface                5.4.0\n\u001b[33mWARNING: You are using pip version 21.2.3; however, version 22.1 is available.\nYou should consider upgrading via the '/root/venv/bin/python -m pip install --upgrade pip' command.\u001b[0m\n",
     "output_type": "stream"
    }
   ]
  },
  {
   "cell_type": "code",
   "metadata": {
    "tags": [],
    "cell_id": "00005-aebc83d7-69be-42a9-ae6e-a9e8f0ecd5e2",
    "deepnote_to_be_reexecuted": false,
    "source_hash": "184e512c",
    "execution_start": 1653031913143,
    "execution_millis": 1411,
    "deepnote_cell_type": "code",
    "deepnote_cell_height": 112.1875
   },
   "source": "!pip -V",
   "execution_count": 6,
   "outputs": [
    {
     "name": "stdout",
     "text": "pip 21.2.3 from /root/venv/lib/python3.9/site-packages/pip (python 3.9)\n",
     "output_type": "stream"
    }
   ]
  },
  {
   "cell_type": "code",
   "metadata": {
    "tags": [],
    "cell_id": "00006-f463e3e9-900a-499a-8222-06b68fb5c783",
    "deepnote_to_be_reexecuted": false,
    "source_hash": "7fc2b692",
    "execution_start": 1653031914578,
    "execution_millis": 1275,
    "deepnote_cell_type": "code",
    "deepnote_cell_height": 701
   },
   "source": "!pip -h",
   "execution_count": 7,
   "outputs": [
    {
     "name": "stdout",
     "text": "\nUsage:   \n  pip <command> [options]\n\nCommands:\n  install                     Install packages.\n  download                    Download packages.\n  uninstall                   Uninstall packages.\n  freeze                      Output installed packages in requirements format.\n  list                        List installed packages.\n  show                        Show information about installed packages.\n  check                       Verify installed packages have compatible dependencies.\n  config                      Manage local and global configuration.\n  search                      Search PyPI for packages.\n  cache                       Inspect and manage pip's wheel cache.\n  index                       Inspect information available from package indexes.\n  wheel                       Build wheels from your requirements.\n  hash                        Compute hashes of package archives.\n  completion                  A helper command used for command completion.\n  debug                       Show information useful for debugging.\n  help                        Show help for commands.\n\nGeneral Options:\n  -h, --help                  Show help.\n  --isolated                  Run pip in an isolated mode, ignoring\n                              environment variables and user configuration.\n  -v, --verbose               Give more output. Option is additive, and can be\n                              used up to 3 times.\n  -V, --version               Show version and exit.\n  -q, --quiet                 Give less output. Option is additive, and can be\n                              used up to 3 times (corresponding to WARNING,\n                              ERROR, and CRITICAL logging levels).\n  --log <path>                Path to a verbose appending log.\n  --no-input                  Disable prompting for input.\n  --proxy <proxy>             Specify a proxy in the form\n                              [user:passwd@]proxy.server:port.\n  --retries <retries>         Maximum number of retries each connection should\n                              attempt (default 5 times).\n  --timeout <sec>             Set the socket timeout (default 15 seconds).\n  --exists-action <action>    Default action when a path already exists:\n                              (s)witch, (i)gnore, (w)ipe, (b)ackup, (a)bort.\n  --trusted-host <hostname>   Mark this host or host:port pair as trusted,\n                              even though it does not have valid or any HTTPS.\n  --cert <path>               Path to PEM-encoded CA certificate bundle. If\n                              provided, overrides the default. See 'SSL\n                              Certificate Verification' in pip documentation\n                              for more information.\n  --client-cert <path>        Path to SSL client certificate, a single file\n                              containing the private key and the certificate\n                              in PEM format.\n  --cache-dir <dir>           Store the cache data in <dir>.\n  --no-cache-dir              Disable the cache.\n  --disable-pip-version-check\n                              Don't periodically check PyPI to determine\n                              whether a new version of pip is available for\n                              download. Implied with --no-index.\n  --no-color                  Suppress colored output.\n  --no-python-version-warning\n                              Silence deprecation warnings for upcoming\n                              unsupported Pythons.\n  --use-feature <feature>     Enable new functionality, that may be backward\n                              incompatible.\n  --use-deprecated <feature>  Enable deprecated functionality, that will be\n                              removed in the future.\n",
     "output_type": "stream"
    }
   ]
  },
  {
   "cell_type": "markdown",
   "source": "<a style='text-decoration:none;line-height:16px;display:flex;color:#5B5B62;padding:10px;justify-content:end;' href='https://deepnote.com?utm_source=created-in-deepnote-cell&projectId=5292883e-50a7-4f1d-9f12-778c1d6da182' target=\"_blank\">\n<img alt='Created in deepnote.com' style='display:inline;max-height:16px;margin:0px;margin-right:7.5px;' src='data:image/svg+xml;base64,PD94bWwgdmVyc2lvbj0iMS4wIiBlbmNvZGluZz0iVVRGLTgiPz4KPHN2ZyB3aWR0aD0iODBweCIgaGVpZ2h0PSI4MHB4IiB2aWV3Qm94PSIwIDAgODAgODAiIHZlcnNpb249IjEuMSIgeG1sbnM9Imh0dHA6Ly93d3cudzMub3JnLzIwMDAvc3ZnIiB4bWxuczp4bGluaz0iaHR0cDovL3d3dy53My5vcmcvMTk5OS94bGluayI+CiAgICA8IS0tIEdlbmVyYXRvcjogU2tldGNoIDU0LjEgKDc2NDkwKSAtIGh0dHBzOi8vc2tldGNoYXBwLmNvbSAtLT4KICAgIDx0aXRsZT5Hcm91cCAzPC90aXRsZT4KICAgIDxkZXNjPkNyZWF0ZWQgd2l0aCBTa2V0Y2guPC9kZXNjPgogICAgPGcgaWQ9IkxhbmRpbmciIHN0cm9rZT0ibm9uZSIgc3Ryb2tlLXdpZHRoPSIxIiBmaWxsPSJub25lIiBmaWxsLXJ1bGU9ImV2ZW5vZGQiPgogICAgICAgIDxnIGlkPSJBcnRib2FyZCIgdHJhbnNmb3JtPSJ0cmFuc2xhdGUoLTEyMzUuMDAwMDAwLCAtNzkuMDAwMDAwKSI+CiAgICAgICAgICAgIDxnIGlkPSJHcm91cC0zIiB0cmFuc2Zvcm09InRyYW5zbGF0ZSgxMjM1LjAwMDAwMCwgNzkuMDAwMDAwKSI+CiAgICAgICAgICAgICAgICA8cG9seWdvbiBpZD0iUGF0aC0yMCIgZmlsbD0iIzAyNjVCNCIgcG9pbnRzPSIyLjM3NjIzNzYyIDgwIDM4LjA0NzY2NjcgODAgNTcuODIxNzgyMiA3My44MDU3NTkyIDU3LjgyMTc4MjIgMzIuNzU5MjczOSAzOS4xNDAyMjc4IDMxLjY4MzE2ODMiPjwvcG9seWdvbj4KICAgICAgICAgICAgICAgIDxwYXRoIGQ9Ik0zNS4wMDc3MTgsODAgQzQyLjkwNjIwMDcsNzYuNDU0OTM1OCA0Ny41NjQ5MTY3LDcxLjU0MjI2NzEgNDguOTgzODY2LDY1LjI2MTk5MzkgQzUxLjExMjI4OTksNTUuODQxNTg0MiA0MS42NzcxNzk1LDQ5LjIxMjIyODQgMjUuNjIzOTg0Niw0OS4yMTIyMjg0IEMyNS40ODQ5Mjg5LDQ5LjEyNjg0NDggMjkuODI2MTI5Niw0My4yODM4MjQ4IDM4LjY0NzU4NjksMzEuNjgzMTY4MyBMNzIuODcxMjg3MSwzMi41NTQ0MjUgTDY1LjI4MDk3Myw2Ny42NzYzNDIxIEw1MS4xMTIyODk5LDc3LjM3NjE0NCBMMzUuMDA3NzE4LDgwIFoiIGlkPSJQYXRoLTIyIiBmaWxsPSIjMDAyODY4Ij48L3BhdGg+CiAgICAgICAgICAgICAgICA8cGF0aCBkPSJNMCwzNy43MzA0NDA1IEwyNy4xMTQ1MzcsMC4yNTcxMTE0MzYgQzYyLjM3MTUxMjMsLTEuOTkwNzE3MDEgODAsMTAuNTAwMzkyNyA4MCwzNy43MzA0NDA1IEM4MCw2NC45NjA0ODgyIDY0Ljc3NjUwMzgsNzkuMDUwMzQxNCAzNC4zMjk1MTEzLDgwIEM0Ny4wNTUzNDg5LDc3LjU2NzA4MDggNTMuNDE4MjY3Nyw3MC4zMTM2MTAzIDUzLjQxODI2NzcsNTguMjM5NTg4NSBDNTMuNDE4MjY3Nyw0MC4xMjg1NTU3IDM2LjMwMzk1NDQsMzcuNzMwNDQwNSAyNS4yMjc0MTcsMzcuNzMwNDQwNSBDMTcuODQzMDU4NiwzNy43MzA0NDA1IDkuNDMzOTE5NjYsMzcuNzMwNDQwNSAwLDM3LjczMDQ0MDUgWiIgaWQ9IlBhdGgtMTkiIGZpbGw9IiMzNzkzRUYiPjwvcGF0aD4KICAgICAgICAgICAgPC9nPgogICAgICAgIDwvZz4KICAgIDwvZz4KPC9zdmc+' > </img>\nCreated in <span style='font-weight:600;margin-left:4px;'>Deepnote</span></a>",
   "metadata": {
    "tags": [],
    "created_in_deepnote_cell": true,
    "deepnote_cell_type": "markdown"
   }
  }
 ],
 "nbformat": 4,
 "nbformat_minor": 2,
 "metadata": {
  "orig_nbformat": 2,
  "deepnote": {
   "is_reactive": false
  },
  "deepnote_notebook_id": "78a10ea7-eeb4-48ab-8454-3d48af998ee7",
  "deepnote_execution_queue": []
 }
}