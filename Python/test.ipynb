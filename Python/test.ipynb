{
 "cells": [
  {
   "cell_type": "code",
   "metadata": {
    "tags": [],
    "cell_id": "00000-a0cb0a5c-78cd-4732-9596-ba0b0a17414d",
    "deepnote_to_be_reexecuted": false,
    "source_hash": "8781b114",
    "execution_start": 1625795328197,
    "execution_millis": 2,
    "deepnote_cell_type": "code",
    "deepnote_cell_height": 112.1875
   },
   "source": "print(\"hello\")",
   "execution_count": null,
   "outputs": [
    {
     "name": "stdout",
     "text": "hello\n",
     "output_type": "stream"
    }
   ]
  },
  {
   "cell_type": "code",
   "metadata": {
    "tags": [],
    "cell_id": "00002-d1167207-21b9-4361-8aec-613bb2415d70",
    "deepnote_to_be_reexecuted": false,
    "source_hash": "ceed87fe",
    "execution_start": 1625795330772,
    "execution_millis": 395,
    "deepnote_cell_type": "code",
    "deepnote_cell_height": 112.1875
   },
   "source": "!python -V",
   "execution_count": null,
   "outputs": [
    {
     "name": "stdout",
     "text": "Python 3.8.11\r\n",
     "output_type": "stream"
    }
   ]
  },
  {
   "cell_type": "code",
   "metadata": {
    "tags": [],
    "cell_id": "00003-c33b14fb-48ff-4871-9730-1dca982f5b97",
    "deepnote_to_be_reexecuted": false,
    "source_hash": "a4019f97",
    "execution_start": 1625795333907,
    "execution_millis": 351,
    "deepnote_cell_type": "code",
    "deepnote_cell_height": 112.1875
   },
   "source": "!python --version",
   "execution_count": null,
   "outputs": [
    {
     "name": "stdout",
     "text": "Python 3.8.11\r\n",
     "output_type": "stream"
    }
   ]
  },
  {
   "cell_type": "code",
   "metadata": {
    "tags": [],
    "cell_id": "00003-66a43570-b510-47ad-beab-c969e37a43e8",
    "deepnote_to_be_reexecuted": false,
    "source_hash": "2525f9f5",
    "execution_start": 1625798710666,
    "execution_millis": 496,
    "deepnote_cell_type": "code",
    "deepnote_cell_height": 701
   },
   "source": "!python -h",
   "execution_count": null,
   "outputs": [
    {
     "name": "stdout",
     "text": "usage: python [option] ... [-c cmd | -m mod | file | -] [arg] ...\r\nOptions and arguments (and corresponding environment variables):\r\n-b     : issue warnings about str(bytes_instance), str(bytearray_instance)\r\n         and comparing bytes/bytearray with str. (-bb: issue errors)\r\n-B     : don't write .pyc files on import; also PYTHONDONTWRITEBYTECODE=x\r\n-c cmd : program passed in as string (terminates option list)\r\n-d     : debug output from parser; also PYTHONDEBUG=x\r\n-E     : ignore PYTHON* environment variables (such as PYTHONPATH)\r\n-h     : print this help message and exit (also --help)\r\n-i     : inspect interactively after running script; forces a prompt even\r\n         if stdin does not appear to be a terminal; also PYTHONINSPECT=x\r\n-I     : isolate Python from the user's environment (implies -E and -s)\r\n-m mod : run library module as a script (terminates option list)\r\n-O     : remove assert and __debug__-dependent statements; add .opt-1 before\r\n         .pyc extension; also PYTHONOPTIMIZE=x\r\n-OO    : do -O changes and also discard docstrings; add .opt-2 before\r\n         .pyc extension\r\n-q     : don't print version and copyright messages on interactive startup\r\n-s     : don't add user site directory to sys.path; also PYTHONNOUSERSITE\r\n-S     : don't imply 'import site' on initialization\r\n-u     : force the stdout and stderr streams to be unbuffered;\r\n         this option has no effect on stdin; also PYTHONUNBUFFERED=x\r\n-v     : verbose (trace import statements); also PYTHONVERBOSE=x\r\n         can be supplied multiple times to increase verbosity\r\n-V     : print the Python version number and exit (also --version)\r\n         when given twice, print more information about the build\r\n-W arg : warning control; arg is action:message:category:module:lineno\r\n         also PYTHONWARNINGS=arg\r\n-x     : skip first line of source, allowing use of non-Unix forms of #!cmd\r\n-X opt : set implementation-specific option. The following options are available:\r\n\r\n         -X faulthandler: enable faulthandler\r\n         -X showrefcount: output the total reference count and number of used\r\n             memory blocks when the program finishes or after each statement in the\r\n             interactive interpreter. This only works on debug builds\r\n         -X tracemalloc: start tracing Python memory allocations using the\r\n             tracemalloc module. By default, only the most recent frame is stored in a\r\n             traceback of a trace. Use -X tracemalloc=NFRAME to start tracing with a\r\n             traceback limit of NFRAME frames\r\n         -X showalloccount: output the total count of allocated objects for each\r\n             type when the program finishes. This only works when Python was built with\r\n             COUNT_ALLOCS defined\r\n         -X importtime: show how long each import takes. It shows module name,\r\n             cumulative time (including nested imports) and self time (excluding\r\n             nested imports). Note that its output may be broken in multi-threaded\r\n             application. Typical usage is python3 -X importtime -c 'import asyncio'\r\n         -X dev: enable CPython's \"development mode\", introducing additional runtime\r\n             checks which are too expensive to be enabled by default. Effect of the\r\n             developer mode:\r\n                * Add default warning filter, as -W default\r\n                * Install debug hooks on memory allocators: see the PyMem_SetupDebugHooks() C function\r\n                * Enable the faulthandler module to dump the Python traceback on a crash\r\n                * Enable asyncio debug mode\r\n                * Set the dev_mode attribute of sys.flags to True\r\n                * io.IOBase destructor logs close() exceptions\r\n         -X utf8: enable UTF-8 mode for operating system interfaces, overriding the default\r\n             locale-aware mode. -X utf8=0 explicitly disables UTF-8 mode (even when it would\r\n             otherwise activate automatically)\r\n         -X pycache_prefix=PATH: enable writing .pyc files to a parallel tree rooted at the\r\n             given directory instead of to the code tree\r\n\r\n--check-hash-based-pycs always|default|never:\r\n    control how Python invalidates hash-based .pyc files\r\nfile   : program read from script file\r\n-      : program read from stdin (default; interactive mode if a tty)\r\narg ...: arguments passed to program in sys.argv[1:]\r\n\r\nOther environment variables:\r\nPYTHONSTARTUP: file executed on interactive startup (no default)\r\nPYTHONPATH   : ':'-separated list of directories prefixed to the\r\n               default module search path.  The result is sys.path.\r\nPYTHONHOME   : alternate <prefix> directory (or <prefix>:<exec_prefix>).\r\n               The default module search path uses <prefix>/lib/pythonX.X.\r\nPYTHONCASEOK : ignore case in 'import' statements (Windows).\r\nPYTHONUTF8: if set to 1, enable the UTF-8 mode.\r\nPYTHONIOENCODING: Encoding[:errors] used for stdin/stdout/stderr.\r\nPYTHONFAULTHANDLER: dump the Python traceback on fatal errors.\r\nPYTHONHASHSEED: if this variable is set to 'random', a random value is used\r\n   to seed the hashes of str and bytes objects.  It can also be set to an\r\n   integer in the range [0,4294967295] to get hash values with a\r\n   predictable seed.\r\nPYTHONMALLOC: set the Python memory allocators and/or install debug hooks\r\n   on Python memory allocators. Use PYTHONMALLOC=debug to install debug\r\n   hooks.\r\nPYTHONCOERCECLOCALE: if this variable is set to 0, it disables the locale\r\n   coercion behavior. Use PYTHONCOERCECLOCALE=warn to request display of\r\n   locale coercion and locale compatibility warnings on stderr.\r\nPYTHONBREAKPOINT: if this variable is set to 0, it disables the default\r\n   debugger. It can be set to the callable of your debugger of choice.\r\nPYTHONDEVMODE: enable the development mode.\r\nPYTHONPYCACHEPREFIX: root directory for bytecode cache (pyc) files.\r\n",
     "output_type": "stream"
    }
   ]
  },
  {
   "cell_type": "code",
   "metadata": {
    "tags": [],
    "cell_id": "00004-a5128286-04be-404f-b78d-863b0cbeecba",
    "deepnote_to_be_reexecuted": false,
    "source_hash": "914795f7",
    "execution_start": 1625798721906,
    "execution_millis": 1731,
    "deepnote_cell_type": "code",
    "deepnote_cell_height": 701
   },
   "source": "!pip list",
   "execution_count": null,
   "outputs": [
    {
     "name": "stdout",
     "text": "Package                       Version\n----------------------------- --------------\nabsl-py                       0.13.0\nagate                         1.6.2\nalabaster                     0.7.12\naltair                        4.1.0\nappdirs                       1.4.4\nargon2-cffi                   20.1.0\narrow                         1.1.1\nasn1crypto                    1.4.0\nastunparse                    1.6.3\nasync-generator               1.10\nattrs                         21.2.0\nAutomat                       20.2.0\nazure-common                  1.1.27\nazure-core                    1.16.0\nazure-storage-blob            12.8.1\nBabel                         2.9.1\nbackcall                      0.2.0\nbleach                        3.3.0\nblis                          0.7.4\nbokeh                         2.3.3\nboto3                         1.17.107\nbotocore                      1.20.107\nbranca                        0.4.2\ncachetools                    4.2.2\ncatalogue                     2.0.4\ncertifi                       2021.5.30\ncffi                          1.14.5\nchardet                       4.0.0\nclick                         7.1.2\nclick-plugins                 1.1.1\ncligj                         0.7.2\nconstantly                    15.1.0\ncoverage                      5.5\ncoveralls                     3.1.0\ncryptography                  3.4.7\ncssselect                     1.1.0\ncycler                        0.10.0\ncymem                         2.0.5\ndatascience                   0.17.0\ndebugpy                       1.3.0\ndecorator                     5.0.9\ndefusedxml                    0.7.1\ndill                          0.3.4\ndistlib                       0.3.2\ndocopt                        0.6.2\ndocutils                      0.17.1\nduckdb                        0.2.7\nduckdb-engine                 0.1.6\nentrypoints                   0.3\nfilelock                      3.0.12\nFiona                         1.8.20\nflatbuffers                   1.12\nfolium                        0.12.1\nfuture                        0.18.2\ngast                          0.3.3\ngoogle-api-core               1.30.0\ngoogle-auth                   1.32.1\ngoogle-auth-oauthlib          0.4.4\ngoogle-cloud-bigquery         2.20.0\ngoogle-cloud-bigquery-storage 2.5.0\ngoogle-cloud-core             1.7.1\ngoogle-crc32c                 1.1.2\ngoogle-pasta                  0.2.0\ngoogle-resumable-media        1.3.1\ngoogleapis-common-protos      1.53.0\ngreenlet                      1.1.0\ngrpcio                        1.32.0\nh2                            3.2.0\nh5py                          2.10.0\nhpack                         3.0.0\nhyperframe                    5.2.0\nhyperlink                     21.0.0\nidna                          2.10\nimagesize                     1.2.0\nincremental                   21.3.0\niniconfig                     1.1.1\nipykernel                     6.0.1\nipython                       7.25.0\nipython-genutils              0.2.0\nisodate                       0.6.0\nitemadapter                   0.2.0\nitemloaders                   1.0.4\njedi                          0.17.2\nJinja2                        3.0.1\njinjasql                      0.1.8\njmespath                      0.10.0\njoblib                        1.0.1\njsonify                       0.5\njsonschema                    3.2.0\njupyter-client                6.1.12\njupyter-core                  4.7.1\njupyterlab-pygments           0.1.2\nKeras                         2.4.3\nKeras-Preprocessing           1.1.2\nkiwisolver                    1.3.1\nleather                       0.3.3\nlibcst                        0.3.19\nlxml                          4.6.3\nMarkdown                      3.3.4\nMarkupSafe                    2.0.1\nmatplotlib                    3.4.2\nmatplotlib-inline             0.1.2\nmistune                       0.8.4\nmpmath                        1.2.1\nmsrest                        0.6.21\nmunch                         2.5.0\nmurmurhash                    1.0.5\nmypy-extensions               0.4.3\nnbclient                      0.5.3\nnbconvert                     6.1.0\nnbformat                      5.1.3\nnbsphinx                      0.8.6\nnest-asyncio                  1.5.1\nnltk                          3.6.2\nnotebook                      7.0.0.dev0\nnumpy                         1.19.5\noauthlib                      3.1.1\nopt-einsum                    3.3.0\noscrypto                      1.2.1\npackaging                     21.0\npandas                        1.2.5\npandocfilters                 1.4.3\nparsedatetime                 2.6\nparsel                        1.6.0\nparso                         0.7.1\npathy                         0.6.0\npexpect                       4.8.0\npickleshare                   0.7.5\nPillow                        8.3.1\npip                           21.1.2\nplotly                        5.1.0\npluggy                        0.13.1\npreshed                       3.0.5\npriority                      1.3.0\nprometheus-client             0.11.0\nprompt-toolkit                3.0.19\nProtego                       0.1.16\nproto-plus                    1.19.0\nprotobuf                      3.17.3\npsycopg2-binary               2.9.1\nptyprocess                    0.7.0\npy                            1.10.0\npyarrow                       4.0.1\npyasn1                        0.4.8\npyasn1-modules                0.2.8\npybigquery                    0.10.0\npycparser                     2.20\npycryptodomex                 3.10.1\npydantic                      1.8.2\nPyDispatcher                  2.0.5\nPygments                      2.9.0\nPyICU                         2.7.4\nPyJWT                         2.1.0\npyOpenSSL                     20.0.1\npyparsing                     2.4.7\npyrsistent                    0.18.0\npytest                        6.2.4\npython-dateutil               2.8.1\npython-jsonrpc-server         0.4.0\npython-language-server        0.5+1.g6266675\npython-slugify                5.0.2\npytimeparse                   1.1.8\npytz                          2021.1\nPyYAML                        5.4.1\npyzmq                         22.1.0\nqueuelib                      1.6.1\nregex                         2021.7.6\nrequests                      2.25.1\nrequests-oauthlib             1.3.0\nrsa                           4.7.2\ns3transfer                    0.4.2\nscikit-learn                  0.24.2\nscipy                         1.7.0\nScrapy                        2.5.0\nseaborn                       0.11.1\nSend2Trash                    1.7.1\nservice-identity              21.1.0\nsetuptools                    57.0.0\nsix                           1.16.0\nsmart-open                    5.1.0\nsnowballstemmer               2.1.0\nsnowflake-connector-python    2.4.6\nsnowflake-sqlalchemy          1.2.4\nspacy                         3.1.0\nspacy-legacy                  3.0.8\nSphinx                        4.0.3\nsphinxcontrib-applehelp       1.0.2\nsphinxcontrib-devhelp         1.0.2\nsphinxcontrib-htmlhelp        2.0.0\nsphinxcontrib-jsmath          1.0.1\nsphinxcontrib-qthelp          1.0.3\nsphinxcontrib-serializinghtml 1.1.5\nsql-metadata                  2.1.0\nSQLAlchemy                    1.4.20\nsqlalchemy-redshift           0.8.3\nsqlparse                      0.4.1\nsquarify                      0.4.3\nsrsly                         2.4.1\nsympy                         1.8\ntabulate                      0.8.9\ntenacity                      8.0.0\ntensorboard                   2.5.0\ntensorboard-data-server       0.6.1\ntensorboard-plugin-wit        1.8.0\ntensorflow                    2.4.1\ntensorflow-estimator          2.4.0\ntermcolor                     1.1.0\nterminado                     0.10.1\ntestpath                      0.5.0\ntext-unidecode                1.3\ntextblob                      0.15.3\nthinc                         8.0.7\nthreadpoolctl                 2.1.0\ntoml                          0.10.2\ntoolz                         0.11.1\ntorch                         1.9.0\ntorchvision                   0.10.0\ntornado                       6.1\ntqdm                          4.61.2\ntraitlets                     5.0.5\nTwisted                       21.2.0\ntyper                         0.3.2\ntyping-extensions             3.7.4.3\ntyping-inspect                0.7.1\nujson                         4.0.2\nurllib3                       1.26.6\nvirtualenv                    20.4.7\nw3lib                         1.22.0\nwasabi                        0.8.2\nwcwidth                       0.2.5\nwebencodings                  0.5.1\nWerkzeug                      2.0.1\nwheel                         0.36.2\nwrapt                         1.12.1\nzope.interface                5.4.0\n\u001b[33mWARNING: You are using pip version 21.1.2; however, version 21.1.3 is available.\nYou should consider upgrading via the '/root/venv/bin/python -m pip install --upgrade pip' command.\u001b[0m\n",
     "output_type": "stream"
    }
   ]
  },
  {
   "cell_type": "code",
   "metadata": {
    "tags": [],
    "cell_id": "00005-aebc83d7-69be-42a9-ae6e-a9e8f0ecd5e2",
    "deepnote_to_be_reexecuted": false,
    "source_hash": "184e512c",
    "execution_start": 1625798750601,
    "execution_millis": 1066,
    "deepnote_cell_type": "code",
    "deepnote_cell_height": 112.1875
   },
   "source": "!pip -V",
   "execution_count": null,
   "outputs": [
    {
     "name": "stdout",
     "text": "pip 21.1.2 from /root/venv/lib/python3.8/site-packages/pip (python 3.8)\r\n",
     "output_type": "stream"
    }
   ]
  },
  {
   "cell_type": "code",
   "metadata": {
    "tags": [],
    "cell_id": "00006-f463e3e9-900a-499a-8222-06b68fb5c783",
    "deepnote_to_be_reexecuted": false,
    "source_hash": "7fc2b692",
    "execution_start": 1625798763099,
    "execution_millis": 1107,
    "deepnote_cell_type": "code",
    "deepnote_cell_height": 701
   },
   "source": "!pip -h",
   "execution_count": null,
   "outputs": [
    {
     "name": "stdout",
     "text": "\r\nUsage:   \r\n  pip <command> [options]\r\n\r\nCommands:\r\n  install                     Install packages.\r\n  download                    Download packages.\r\n  uninstall                   Uninstall packages.\r\n  freeze                      Output installed packages in requirements format.\r\n  list                        List installed packages.\r\n  show                        Show information about installed packages.\r\n  check                       Verify installed packages have compatible dependencies.\r\n  config                      Manage local and global configuration.\r\n  search                      Search PyPI for packages.\r\n  cache                       Inspect and manage pip's wheel cache.\r\n  wheel                       Build wheels from your requirements.\r\n  hash                        Compute hashes of package archives.\r\n  completion                  A helper command used for command completion.\r\n  debug                       Show information useful for debugging.\r\n  help                        Show help for commands.\r\n\r\nGeneral Options:\r\n  -h, --help                  Show help.\r\n  --isolated                  Run pip in an isolated mode, ignoring\r\n                              environment variables and user configuration.\r\n  -v, --verbose               Give more output. Option is additive, and can be\r\n                              used up to 3 times.\r\n  -V, --version               Show version and exit.\r\n  -q, --quiet                 Give less output. Option is additive, and can be\r\n                              used up to 3 times (corresponding to WARNING,\r\n                              ERROR, and CRITICAL logging levels).\r\n  --log <path>                Path to a verbose appending log.\r\n  --no-input                  Disable prompting for input.\r\n  --proxy <proxy>             Specify a proxy in the form\r\n                              [user:passwd@]proxy.server:port.\r\n  --retries <retries>         Maximum number of retries each connection should\r\n                              attempt (default 5 times).\r\n  --timeout <sec>             Set the socket timeout (default 15 seconds).\r\n  --exists-action <action>    Default action when a path already exists:\r\n                              (s)witch, (i)gnore, (w)ipe, (b)ackup, (a)bort.\r\n  --trusted-host <hostname>   Mark this host or host:port pair as trusted,\r\n                              even though it does not have valid or any HTTPS.\r\n  --cert <path>               Path to PEM-encoded CA certificate bundle. If\r\n                              provided, overrides the default. See 'SSL\r\n                              Certificate Verification' in pip documentation\r\n                              for more information.\r\n  --client-cert <path>        Path to SSL client certificate, a single file\r\n                              containing the private key and the certificate\r\n                              in PEM format.\r\n  --cache-dir <dir>           Store the cache data in <dir>.\r\n  --no-cache-dir              Disable the cache.\r\n  --disable-pip-version-check\r\n                              Don't periodically check PyPI to determine\r\n                              whether a new version of pip is available for\r\n                              download. Implied with --no-index.\r\n  --no-color                  Suppress colored output.\r\n  --no-python-version-warning\r\n                              Silence deprecation warnings for upcoming\r\n                              unsupported Pythons.\r\n  --use-feature <feature>     Enable new functionality, that may be backward\r\n                              incompatible.\r\n  --use-deprecated <feature>  Enable deprecated functionality, that will be\r\n                              removed in the future.\r\n",
     "output_type": "stream"
    }
   ]
  },
  {
   "cell_type": "markdown",
   "source": "<a style='text-decoration:none;line-height:16px;display:flex;color:#5B5B62;padding:10px;justify-content:end;' href='https://deepnote.com?utm_source=created-in-deepnote-cell&projectId=26e5d5b4-a604-4f7b-aef4-7756f8127ef0' target=\"_blank\">\n<img alt='Created in deepnote.com' style='display:inline;max-height:16px;margin:0px;margin-right:7.5px;' src='data:image/svg+xml;base64,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' > </img>\nCreated in <span style='font-weight:600;margin-left:4px;'>Deepnote</span></a>",
   "metadata": {
    "tags": [],
    "created_in_deepnote_cell": true,
    "deepnote_cell_type": "markdown"
   }
  }
 ],
 "nbformat": 4,
 "nbformat_minor": 2,
 "metadata": {
  "orig_nbformat": 2,
  "deepnote": {
   "is_reactive": false
  },
  "deepnote_notebook_id": "78a10ea7-eeb4-48ab-8454-3d48af998ee7",
  "deepnote_execution_queue": []
 }
}