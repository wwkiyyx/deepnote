{
 "cells": [
  {
   "cell_type": "code",
   "metadata": {
    "tags": [],
    "cell_id": "00000-1a08ab88-f0c1-4d5e-935f-5a97dc4db6b8",
    "deepnote_to_be_reexecuted": false,
    "source_hash": "ea9d7ca",
    "execution_start": 1625793314954,
    "execution_millis": 3,
    "deepnote_cell_type": "code",
    "deepnote_cell_height": 81
   },
   "source": "import datetime",
   "execution_count": null,
   "outputs": []
  },
  {
   "cell_type": "code",
   "metadata": {
    "tags": [],
    "cell_id": "00001-7f0dcd99-2526-4c23-9b9c-ff5bae03881e",
    "deepnote_to_be_reexecuted": false,
    "source_hash": "c9aca572",
    "execution_start": 1625796964464,
    "execution_millis": 8,
    "deepnote_cell_type": "code",
    "deepnote_cell_height": 130.1875
   },
   "source": "now = datetime.datetime.now()\nprint(now)",
   "execution_count": null,
   "outputs": [
    {
     "name": "stdout",
     "text": "2021-07-09 02:16:04.460246\n",
     "output_type": "stream"
    }
   ]
  },
  {
   "cell_type": "code",
   "metadata": {
    "tags": [],
    "cell_id": "00002-619de78a-1acb-4d01-8ec8-52d5707cf8f8",
    "deepnote_to_be_reexecuted": false,
    "source_hash": "f9e5390a",
    "execution_start": 1625796959954,
    "execution_millis": 11,
    "deepnote_cell_type": "code",
    "deepnote_cell_height": 130.1875
   },
   "source": "sometime = datetime.datetime(2017, 3, 22, 16, 9, 33, 494248)\nprint(sometime)",
   "execution_count": null,
   "outputs": [
    {
     "name": "stdout",
     "text": "2017-03-22 16:09:33.494248\n",
     "output_type": "stream"
    }
   ]
  },
  {
   "cell_type": "code",
   "metadata": {
    "tags": [],
    "cell_id": "00003-d1acee62-2eef-4343-bc0e-04846d1bee12",
    "deepnote_to_be_reexecuted": false,
    "source_hash": "370eb153",
    "execution_start": 1625797015227,
    "execution_millis": 8,
    "deepnote_cell_type": "code",
    "deepnote_cell_height": 118.1875,
    "deepnote_output_heights": [
     21.1875
    ]
   },
   "source": "now.date()",
   "execution_count": null,
   "outputs": [
    {
     "output_type": "execute_result",
     "execution_count": 46,
     "data": {
      "text/plain": "datetime.date(2021, 7, 9)"
     },
     "metadata": {}
    }
   ]
  },
  {
   "cell_type": "code",
   "metadata": {
    "tags": [],
    "cell_id": "00004-bc605b52-818b-4ed2-9e10-c60756e206ba",
    "deepnote_to_be_reexecuted": false,
    "source_hash": "2f688b32",
    "execution_start": 1625797026966,
    "execution_millis": 10,
    "deepnote_cell_type": "code",
    "deepnote_cell_height": 118.1875,
    "deepnote_output_heights": [
     21.1875
    ]
   },
   "source": "now.time()",
   "execution_count": null,
   "outputs": [
    {
     "output_type": "execute_result",
     "execution_count": 47,
     "data": {
      "text/plain": "datetime.time(2, 16, 4, 460246)"
     },
     "metadata": {}
    }
   ]
  },
  {
   "cell_type": "code",
   "metadata": {
    "tags": [],
    "cell_id": "00005-6a894710-3fd0-4a94-b414-dd49e1848f8e",
    "deepnote_to_be_reexecuted": false,
    "source_hash": "b718bd3b",
    "execution_start": 1625797058524,
    "execution_millis": 15,
    "deepnote_cell_type": "code",
    "deepnote_cell_height": 118.1875,
    "deepnote_output_heights": [
     21.1875
    ]
   },
   "source": "now.utctimetuple()",
   "execution_count": null,
   "outputs": [
    {
     "output_type": "execute_result",
     "execution_count": 48,
     "data": {
      "text/plain": "time.struct_time(tm_year=2021, tm_mon=7, tm_mday=9, tm_hour=2, tm_min=16, tm_sec=4, tm_wday=4, tm_yday=190, tm_isdst=0)"
     },
     "metadata": {}
    }
   ]
  },
  {
   "cell_type": "code",
   "metadata": {
    "tags": [],
    "cell_id": "00002-af9c037a-781b-44c8-a4ae-05fee0209b22",
    "deepnote_to_be_reexecuted": false,
    "source_hash": "1e6d4736",
    "execution_start": 1625795826309,
    "execution_millis": 16,
    "deepnote_cell_type": "code",
    "deepnote_cell_height": 262.75
   },
   "source": "today = datetime.date.today()\nprint(today)\nprint(today.year)\nprint(today.month)\nprint(today.day)\nprint(today)",
   "execution_count": null,
   "outputs": [
    {
     "name": "stdout",
     "text": "2021-07-09\n2021\n7\n9\n",
     "output_type": "stream"
    }
   ]
  },
  {
   "cell_type": "code",
   "metadata": {
    "tags": [],
    "cell_id": "00003-79aa5afd-ef22-4f4d-b9c6-baf419dd115a",
    "deepnote_to_be_reexecuted": false,
    "source_hash": "10b24818",
    "execution_start": 1625795741414,
    "execution_millis": 5,
    "deepnote_cell_type": "code",
    "deepnote_cell_height": 130.1875
   },
   "source": "birthday = datetime.date(1988, 5, 10)\nprint(birthday)",
   "execution_count": null,
   "outputs": [
    {
     "name": "stdout",
     "text": "1988-05-10\n",
     "output_type": "stream"
    }
   ]
  },
  {
   "cell_type": "code",
   "metadata": {
    "tags": [],
    "cell_id": "00004-8370c839-068c-44c5-9836-7e592e853e47",
    "deepnote_to_be_reexecuted": false,
    "source_hash": "37cfe215",
    "execution_start": 1625795942873,
    "execution_millis": 20,
    "deepnote_cell_type": "code",
    "deepnote_cell_height": 118.1875,
    "deepnote_output_heights": [
     21.1875
    ]
   },
   "source": "birthday > today # < > == >= <= !=",
   "execution_count": null,
   "outputs": [
    {
     "output_type": "execute_result",
     "execution_count": 23,
     "data": {
      "text/plain": "False"
     },
     "metadata": {}
    }
   ]
  },
  {
   "cell_type": "code",
   "metadata": {
    "tags": [],
    "cell_id": "00005-992ea9f6-1f77-4dd7-8e66-87f24709c12d",
    "deepnote_to_be_reexecuted": false,
    "source_hash": "723ec62",
    "execution_start": 1625797282720,
    "execution_millis": 7,
    "deepnote_cell_type": "code",
    "deepnote_cell_height": 282.9375
   },
   "source": "age = today - birthday\nprint(age)\nprint(type(age))\nprint(age.days)\nprint(age.seconds)\nprint(age.microseconds)",
   "execution_count": null,
   "outputs": [
    {
     "name": "stdout",
     "text": "12113 days, 0:00:00\n<class 'datetime.timedelta'>\n12113\n0\n0\n",
     "output_type": "stream"
    }
   ]
  },
  {
   "cell_type": "code",
   "metadata": {
    "tags": [],
    "cell_id": "00006-743f5e76-e10a-427c-a3f0-3630f5be3482",
    "deepnote_to_be_reexecuted": false,
    "source_hash": "c78b1a62",
    "execution_start": 1625796174582,
    "execution_millis": 13,
    "deepnote_cell_type": "code",
    "deepnote_cell_height": 118.1875,
    "deepnote_output_heights": [
     21.1875
    ]
   },
   "source": "today.isocalendar() # 第几周 星期几",
   "execution_count": null,
   "outputs": [
    {
     "output_type": "execute_result",
     "execution_count": 30,
     "data": {
      "text/plain": "(2021, 27, 5)"
     },
     "metadata": {}
    }
   ]
  },
  {
   "cell_type": "code",
   "metadata": {
    "tags": [],
    "cell_id": "00007-fcf000bb-8a8c-4c3d-960a-bcb17e3a3c7e",
    "deepnote_to_be_reexecuted": false,
    "source_hash": "442e192f",
    "execution_start": 1625796257306,
    "execution_millis": 11,
    "deepnote_cell_type": "code",
    "deepnote_cell_height": 118.1875,
    "deepnote_output_heights": [
     21.1875
    ]
   },
   "source": "today.isoformat()",
   "execution_count": null,
   "outputs": [
    {
     "output_type": "execute_result",
     "execution_count": 31,
     "data": {
      "text/plain": "'2021-07-09'"
     },
     "metadata": {}
    }
   ]
  },
  {
   "cell_type": "code",
   "metadata": {
    "tags": [],
    "cell_id": "00008-2ae10ba5-fbef-4edb-95c0-885d8e4b2250",
    "deepnote_to_be_reexecuted": false,
    "source_hash": "2bb9a3da",
    "execution_start": 1625796306074,
    "execution_millis": 0,
    "deepnote_cell_type": "code",
    "deepnote_cell_height": 118.1875,
    "deepnote_output_heights": [
     21.1875
    ]
   },
   "source": "today.isoweekday() # 星期几",
   "execution_count": null,
   "outputs": [
    {
     "output_type": "execute_result",
     "execution_count": 32,
     "data": {
      "text/plain": "5"
     },
     "metadata": {}
    }
   ]
  },
  {
   "cell_type": "code",
   "metadata": {
    "tags": [],
    "cell_id": "00009-37b61d74-d99f-4d78-862d-a58b33f7e728",
    "deepnote_to_be_reexecuted": false,
    "source_hash": "47df8f15",
    "execution_start": 1625796437852,
    "execution_millis": 24,
    "deepnote_cell_type": "code",
    "deepnote_cell_height": 118.1875,
    "deepnote_output_heights": [
     21.1875
    ]
   },
   "source": "today.__format__('%y/%m/%d')",
   "execution_count": null,
   "outputs": [
    {
     "output_type": "execute_result",
     "execution_count": 33,
     "data": {
      "text/plain": "'21/07/09'"
     },
     "metadata": {}
    }
   ]
  },
  {
   "cell_type": "code",
   "metadata": {
    "tags": [],
    "cell_id": "00010-76a852d9-51e9-4d9e-9033-02ad8ba21d89",
    "deepnote_to_be_reexecuted": false,
    "source_hash": "f3ab6c56",
    "execution_start": 1625796462448,
    "execution_millis": 22,
    "deepnote_cell_type": "code",
    "deepnote_cell_height": 118.1875,
    "deepnote_output_heights": [
     21.1875
    ]
   },
   "source": "today.strftime(\"%Y%m%d\")",
   "execution_count": null,
   "outputs": [
    {
     "output_type": "execute_result",
     "execution_count": 34,
     "data": {
      "text/plain": "'20210709'"
     },
     "metadata": {}
    }
   ]
  },
  {
   "cell_type": "code",
   "metadata": {
    "tags": [],
    "cell_id": "00011-8ff0aa11-7fe3-4119-b078-91391a52a349",
    "deepnote_to_be_reexecuted": false,
    "source_hash": "81e94fd2",
    "execution_start": 1625796674150,
    "execution_millis": 22,
    "deepnote_cell_type": "code",
    "deepnote_cell_height": 118.1875,
    "deepnote_output_heights": [
     21.1875
    ]
   },
   "source": "today.__str__()",
   "execution_count": null,
   "outputs": [
    {
     "output_type": "execute_result",
     "execution_count": 35,
     "data": {
      "text/plain": "'2021-07-09'"
     },
     "metadata": {}
    }
   ]
  },
  {
   "cell_type": "code",
   "metadata": {
    "tags": [],
    "cell_id": "00012-059ee682-6bbc-4590-a22a-032254e30040",
    "deepnote_to_be_reexecuted": false,
    "source_hash": "31333532",
    "execution_start": 1625796691251,
    "execution_millis": 33,
    "deepnote_cell_type": "code",
    "deepnote_cell_height": 118.1875,
    "deepnote_output_heights": [
     21.1875
    ]
   },
   "source": "today.ctime()",
   "execution_count": null,
   "outputs": [
    {
     "output_type": "execute_result",
     "execution_count": 36,
     "data": {
      "text/plain": "'Fri Jul  9 00:00:00 2021'"
     },
     "metadata": {}
    }
   ]
  },
  {
   "cell_type": "code",
   "metadata": {
    "tags": [],
    "cell_id": "00013-bbc0fa56-442d-45e6-a5e9-fe3a32ecff56",
    "deepnote_to_be_reexecuted": false,
    "source_hash": "89f760a6",
    "execution_start": 1625796770196,
    "execution_millis": 13,
    "deepnote_cell_type": "code",
    "deepnote_cell_height": 130.1875
   },
   "source": "dinner = datetime.time(18,30,10,899)\nprint(dinner)",
   "execution_count": null,
   "outputs": [
    {
     "name": "stdout",
     "text": "18:30:10.000899\n",
     "output_type": "stream"
    }
   ]
  },
  {
   "cell_type": "code",
   "metadata": {
    "tags": [],
    "cell_id": "00014-9937f692-bad6-4e8a-8110-be5eec0d3955",
    "deepnote_to_be_reexecuted": false,
    "source_hash": "7b45a55c",
    "execution_start": 1625796825771,
    "execution_millis": 8,
    "deepnote_cell_type": "code",
    "deepnote_cell_height": 118.1875,
    "deepnote_output_heights": [
     21.1875
    ]
   },
   "source": "dinner.__format__('%H:%M:%S')",
   "execution_count": null,
   "outputs": [
    {
     "output_type": "execute_result",
     "execution_count": 38,
     "data": {
      "text/plain": "'18:30:10'"
     },
     "metadata": {}
    }
   ]
  },
  {
   "cell_type": "code",
   "metadata": {
    "tags": [],
    "cell_id": "00015-6c78b7a4-516b-416d-9aca-b6cbd27533c5",
    "deepnote_to_be_reexecuted": false,
    "source_hash": "143b7bcc",
    "execution_start": 1625796848299,
    "execution_millis": 18,
    "deepnote_cell_type": "code",
    "deepnote_cell_height": 118.1875,
    "deepnote_output_heights": [
     21.1875
    ]
   },
   "source": "dinner.isoformat()",
   "execution_count": null,
   "outputs": [
    {
     "output_type": "execute_result",
     "execution_count": 39,
     "data": {
      "text/plain": "'18:30:10.000899'"
     },
     "metadata": {}
    }
   ]
  },
  {
   "cell_type": "code",
   "metadata": {
    "tags": [],
    "cell_id": "00016-d18a887a-b772-4ace-be11-34dcd10bd726",
    "deepnote_to_be_reexecuted": false,
    "source_hash": "d1679ea9",
    "execution_start": 1625796876592,
    "execution_millis": 7,
    "deepnote_cell_type": "code",
    "deepnote_cell_height": 118.1875,
    "deepnote_output_heights": [
     21.1875
    ]
   },
   "source": "dinner.__str__()",
   "execution_count": null,
   "outputs": [
    {
     "output_type": "execute_result",
     "execution_count": 40,
     "data": {
      "text/plain": "'18:30:10.000899'"
     },
     "metadata": {}
    }
   ]
  },
  {
   "cell_type": "code",
   "metadata": {
    "tags": [],
    "cell_id": "00021-ef3c0def-57ba-4337-a0f9-b400b844deee",
    "deepnote_to_be_reexecuted": false,
    "source_hash": "b560d341",
    "execution_start": 1625797120488,
    "execution_millis": 9,
    "deepnote_cell_type": "code",
    "deepnote_cell_height": 118.1875,
    "deepnote_output_heights": [
     21.1875
    ]
   },
   "source": "datetime.datetime.combine(birthday,dinner)",
   "execution_count": null,
   "outputs": [
    {
     "output_type": "execute_result",
     "execution_count": 49,
     "data": {
      "text/plain": "datetime.datetime(1988, 5, 10, 18, 30, 10, 899)"
     },
     "metadata": {}
    }
   ]
  },
  {
   "cell_type": "code",
   "metadata": {
    "tags": [],
    "cell_id": "00022-3ff642ed-b621-4a1f-a991-da01165c0e2d",
    "deepnote_to_be_reexecuted": false,
    "source_hash": "f83c2dea",
    "execution_start": 1625797177226,
    "execution_millis": 5,
    "deepnote_cell_type": "code",
    "deepnote_cell_height": 118.1875,
    "deepnote_output_heights": [
     21.1875
    ]
   },
   "source": "datetime.datetime.strptime('2017-3-22 15:25','%Y-%m-%d %H:%M')",
   "execution_count": null,
   "outputs": [
    {
     "output_type": "execute_result",
     "execution_count": 50,
     "data": {
      "text/plain": "datetime.datetime(2017, 3, 22, 15, 25)"
     },
     "metadata": {}
    }
   ]
  },
  {
   "cell_type": "code",
   "metadata": {
    "tags": [],
    "cell_id": "00003-191de91c-eb1b-4396-810c-108023322a2b",
    "deepnote_to_be_reexecuted": false,
    "source_hash": "d3def68e",
    "execution_start": 1625795453223,
    "execution_millis": 12,
    "deepnote_cell_type": "code",
    "deepnote_cell_height": 118.1875,
    "deepnote_output_heights": [
     21.1875
    ]
   },
   "source": "datetime.MAXYEAR",
   "execution_count": null,
   "outputs": [
    {
     "output_type": "execute_result",
     "execution_count": 10,
     "data": {
      "text/plain": "9999"
     },
     "metadata": {}
    }
   ]
  },
  {
   "cell_type": "code",
   "metadata": {
    "tags": [],
    "cell_id": "00004-c94e8da9-8a0f-48d8-9dde-502d3a61d3ce",
    "deepnote_to_be_reexecuted": false,
    "source_hash": "1a9d2367",
    "execution_start": 1625795471931,
    "execution_millis": 19,
    "deepnote_cell_type": "code",
    "deepnote_cell_height": 118.1875,
    "deepnote_output_heights": [
     21.1875
    ]
   },
   "source": "datetime.MINYEAR",
   "execution_count": null,
   "outputs": [
    {
     "output_type": "execute_result",
     "execution_count": 11,
     "data": {
      "text/plain": "1"
     },
     "metadata": {}
    }
   ]
  },
  {
   "cell_type": "markdown",
   "source": "附录：python中时间日期格式化符号：符号说明        %y两位数的年份表示（00-99）        %Y四位数的年份表示（000-9999）        %m月份（01-12）%d月内中的一天（0-31）     %H24小时制小时数（0-23）      %I12小时制小时数（01-12）       %M分钟数（00=59）       %S秒（00-59）        %a本地简化星期名称         %A本地完整星期名称       %b本地简化的月份名称        %B本地完整的月份名称       %c本地相应的日期表示和时间表示      %j年内的一天（001-366）        %p本地A.M.或P.M.的等价符         %U一年中的星期数（00-53）星期天为星期的开始        %w星期（0-6），星期天为星期的开始         %W一年中的星期数（00-53）星期一为星期的开始         %x本地相应的日期表示        %X本地相应的时间表示      %Z当前时区的名称       %%%号本身",
   "metadata": {
    "tags": [],
    "cell_id": "00014-10d140a5-0cef-45e4-9ba4-eb97093c4652",
    "is_collapsed": false,
    "deepnote_cell_type": "text-cell-p"
   }
  },
  {
   "cell_type": "markdown",
   "source": "<a style='text-decoration:none;line-height:16px;display:flex;color:#5B5B62;padding:10px;justify-content:end;' href='https://deepnote.com?utm_source=created-in-deepnote-cell&projectId=26e5d5b4-a604-4f7b-aef4-7756f8127ef0' target=\"_blank\">\n<img alt='Created in deepnote.com' style='display:inline;max-height:16px;margin:0px;margin-right:7.5px;' src='data:image/svg+xml;base64,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' > </img>\nCreated in <span style='font-weight:600;margin-left:4px;'>Deepnote</span></a>",
   "metadata": {
    "tags": [],
    "created_in_deepnote_cell": true,
    "deepnote_cell_type": "markdown"
   }
  }
 ],
 "nbformat": 4,
 "nbformat_minor": 2,
 "metadata": {
  "orig_nbformat": 2,
  "deepnote": {
   "is_reactive": false
  },
  "deepnote_notebook_id": "2afd373b-b169-4c25-8954-c9139c6b499d",
  "deepnote_execution_queue": []
 }
}