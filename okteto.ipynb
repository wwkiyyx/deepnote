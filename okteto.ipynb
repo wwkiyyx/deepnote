{
 "cells": [
  {
   "cell_type": "markdown",
   "source": "### 安装cli",
   "metadata": {
    "cell_id": "44612968ccd94c36acc78eca052491cc",
    "tags": [],
    "is_collapsed": false,
    "deepnote_cell_type": "text-cell-h3"
   }
  },
  {
   "cell_type": "code",
   "source": "!curl https://get.okteto.com -sSfL | sh",
   "metadata": {
    "cell_id": "5ad61b20897b497b849e078ca8498251",
    "tags": [],
    "deepnote_to_be_reexecuted": false,
    "source_hash": "5d5b2801",
    "execution_start": 1652858702358,
    "execution_millis": 1250,
    "deepnote_cell_type": "code",
    "deepnote_cell_height": 253.5
   },
   "outputs": [
    {
     "name": "stdout",
     "text": "> Downloading https://github.com/okteto/okteto/releases/latest/download/okteto-Linux-x86_64\n  % Total    % Received % Xferd  Average Speed   Time    Time     Time  Current\n                                 Dload  Upload   Total   Spent    Left  Speed\n  0     0    0     0    0     0      0      0 --:--:-- --:--:-- --:--:--     0\n  0     0    0     0    0     0      0      0 --:--:-- --:--:-- --:--:--     0\n100 61.0M  100 61.0M    0     0  79.3M      0 --:--:-- --:--:-- --:--:-- 79.3M\n> Installing /usr/local/bin/okteto\n\u001b[32m> Okteto successfully installed!\n\u001b[0m",
     "output_type": "stream"
    }
   ],
   "execution_count": 1
  },
  {
   "cell_type": "markdown",
   "source": "### 查看cli版本",
   "metadata": {
    "cell_id": "dd18c6e3b2ed49198e43ac44469d439f",
    "tags": [],
    "is_collapsed": false,
    "deepnote_cell_type": "text-cell-h3"
   }
  },
  {
   "cell_type": "code",
   "metadata": {
    "cell_id": "5c702187b61f4211a1562b143ade521c",
    "tags": [],
    "deepnote_to_be_reexecuted": false,
    "source_hash": "1a7ed7f7",
    "execution_start": 1652858852004,
    "execution_millis": 331,
    "deepnote_cell_type": "code",
    "deepnote_cell_height": 112.1875
   },
   "source": "!okteto version",
   "execution_count": 2,
   "outputs": [
    {
     "name": "stdout",
     "text": "okteto version 2.3.0 \n",
     "output_type": "stream"
    }
   ]
  },
  {
   "cell_type": "markdown",
   "source": "### 帮助",
   "metadata": {
    "cell_id": "126a1c32d514470988e98d69752d4609",
    "tags": [],
    "is_collapsed": false,
    "deepnote_cell_type": "text-cell-h3"
   }
  },
  {
   "cell_type": "code",
   "metadata": {
    "cell_id": "a896040750d04f138a040d198f6f6f80",
    "tags": [],
    "deepnote_to_be_reexecuted": false,
    "source_hash": "73d46eed",
    "execution_start": 1651848419186,
    "execution_millis": 694,
    "deepnote_cell_type": "code",
    "deepnote_cell_height": 701
   },
   "source": "!okteto -h",
   "execution_count": null,
   "outputs": [
    {
     "name": "stdout",
     "text": "Okteto - Remote Development Environments powered by Kubernetes\n\nUsage:\n  okteto [command]\n\nAvailable Commands:\n  analytics       Enable / Disable analytics\n  build           Build and push the images defined in the 'build' section of your okteto manifest\n  completion      Generate the autocompletion script for the specified shell\n  context         Set the default context\n  deploy          Execute the list of commands specified in the 'deploy' section of your okteto manifest\n  destroy         Destroy everything created by the 'okteto deploy' command\n  doctor          Generate a zip file with the okteto logs\n  down            Deactivate your development container\n  endpoints       Show endpoints for an environment\n  exec            Execute a command in your development container\n  help            Help about any command\n  init            Automatically generate your okteto manifest\n  kubeconfig      Download credentials for the Kubernetes cluster selected via 'okteto context'\n  namespace       Configure the current namespace of the okteto context\n  preview         Preview environment management commands\n  status          Status of the synchronization process\n  up              Launch your development environment\n  update          Update Okteto CLI version\n  version         View the version of the okteto binary\n\nFlags:\n  -h, --help                help for okteto\n  -l, --log-level string    amount of information outputted (debug, info, warn, error) (default \"warn\")\n      --log-output string   output format for logs (tty, plain, json) (default \"tty\")\n\nUse \"okteto [command] --help\" for more information about a command.\n",
     "output_type": "stream"
    }
   ]
  },
  {
   "cell_type": "markdown",
   "source": "### 导入token",
   "metadata": {
    "cell_id": "35b4bc5476154776a60af459a66f5df6",
    "tags": [],
    "is_collapsed": false,
    "deepnote_cell_type": "text-cell-h3"
   }
  },
  {
   "cell_type": "code",
   "metadata": {
    "cell_id": "23b7840502264d6e8f99d5e31d0af17e",
    "tags": [],
    "deepnote_to_be_reexecuted": false,
    "source_hash": "31f1a369",
    "execution_start": 1652858902412,
    "execution_millis": 1714,
    "deepnote_cell_type": "code",
    "deepnote_cell_height": 150.375
   },
   "source": "!export OKTETO_TOKEN=PIvcZLzke6uwKVnuyfu8605hYjW7eqMbjClM3Xv2V8yJaRcB && \\\n okteto context use https://cloud.okteto.com",
   "execution_count": 3,
   "outputs": [
    {
     "name": "stdout",
     "text": "\u001b[42;30m ✓ \u001b[0m \u001b[32mContext 'cloud.okteto.com' created\u001b[0m\n\u001b[42;30m ✓ \u001b[0m \u001b[32mUsing context wwkiyyx @ cloud.okteto.com\u001b[0m\n",
     "output_type": "stream"
    }
   ]
  },
  {
   "cell_type": "markdown",
   "source": "### 列出账号",
   "metadata": {
    "cell_id": "9a282fff2b464c16a60d626887e07ee9",
    "tags": [],
    "is_collapsed": false,
    "deepnote_cell_type": "text-cell-h3"
   }
  },
  {
   "cell_type": "code",
   "metadata": {
    "cell_id": "9bafa10aea48490384927a082abdb0e0",
    "tags": [],
    "deepnote_to_be_reexecuted": false,
    "source_hash": "4e7c286",
    "execution_start": 1652858936103,
    "execution_millis": 534,
    "deepnote_cell_type": "code",
    "deepnote_cell_height": 132.375
   },
   "source": "!okteto context list",
   "execution_count": 4,
   "outputs": [
    {
     "name": "stdout",
     "text": "Name                        Namespace  Builder                               Registry\nhttps://cloud.okteto.com *  wwkiyyx    tcp://buildkit.cloud.okteto.net:1234  registry.cloud.okteto.net\n",
     "output_type": "stream"
    }
   ]
  },
  {
   "cell_type": "markdown",
   "source": "### 列出空间",
   "metadata": {
    "cell_id": "df7e2d9119f54b4d8ac6b4e02c4fd07d",
    "tags": [],
    "is_collapsed": false,
    "deepnote_cell_type": "text-cell-h3"
   }
  },
  {
   "cell_type": "code",
   "metadata": {
    "cell_id": "198e77e6e272408fb26c4a45fefac661",
    "tags": [],
    "deepnote_to_be_reexecuted": false,
    "source_hash": "b3b4fb0c",
    "execution_start": 1652858957917,
    "execution_millis": 1043,
    "deepnote_cell_type": "code",
    "deepnote_cell_height": 213.125,
    "deepnote_output_heights": [
     117.125
    ]
   },
   "source": "!okteto namespace list",
   "execution_count": 5,
   "outputs": [
    {
     "name": "stdout",
     "text": "Namespace  Status\na-wwkiyyx  Active\nb-wwkiyyx  Active\nc-wwkiyyx  Active\nd-wwkiyyx  Active\nwwkiyyx *  Active\n",
     "output_type": "stream"
    }
   ]
  },
  {
   "cell_type": "markdown",
   "source": "### okteto init 生成 okteto.yml",
   "metadata": {
    "cell_id": "7de9c7b229ee4d5c9733f07db81f6ccd",
    "tags": [],
    "is_collapsed": false,
    "deepnote_cell_type": "text-cell-h3"
   }
  },
  {
   "cell_type": "markdown",
   "source": "```\nname: root\n\n# The build section defines how to build the images of your development environment\n# More info: https://www.okteto.com/docs/reference/manifest/#build\n# build:\n#   my-service:\n#     context: .\n\n\n# The deploy section defines how to deploy your development environment\n# More info: https://www.okteto.com/docs/reference/manifest/#deploy\ndeploy:\n  commands:\n    - name: Deploy\n      command: echo 'Replace this line with the proper 'helm' or 'kubectl' commands to deploy your development environment'\n\n# The dependencies section defines other git repositories to be deployed as part of your development environment\n# More info: https://www.okteto.com/docs/reference/manifest/#dependencies\n# dependencies:\n#   - https://github.com/okteto/sample\n# The dev section defines how to activate a development container\n# More info: https://www.okteto.com/docs/reference/manifest/#dev\ndev:\n  ttyd:\n    image: wwkiyyx/ttyd:ubuntu1\n    command: echo hello\n#     workdir: /usr/src/app\n#     sync:\n#       - .:/usr/src/app\n#     environment:\n#       - name=$USER\n#     forward:\n#       - 8080:80\n\n```",
   "metadata": {
    "cell_id": "487fae866eb842d8a9cc81b879d460e2",
    "tags": [],
    "owner_user_id": "64653946-af2f-4699-a282-4043b0ba5576",
    "deepnote_cell_type": "markdown",
    "deepnote_cell_height": 777.890625
   }
  },
  {
   "cell_type": "markdown",
   "source": "### 宝塔定时执行up任务保活",
   "metadata": {
    "cell_id": "cf7f3aac7d3242a89878ef6a6b9099be",
    "tags": [],
    "is_collapsed": false,
    "deepnote_cell_type": "text-cell-h3"
   }
  },
  {
   "cell_type": "markdown",
   "source": "```shell\ncd /root\nexport OKTETO_TOKEN=PIvcZLzke6uwKVnuyfu8605hYjW7eqMbjClM3Xv2V8yJaRcB\nokteto version\nokteto context list\nokteto namespace wwkiyyx\nokteto namespace a-wwkiyyx\nokteto namespace b-wwkiyyx\nokteto namespace c-wwkiyyx\nokteto namespace d-wwkiyyx\nokteto up\nokteto down\n```",
   "metadata": {
    "cell_id": "054e0a1b096f48d6a9aacaca4bb596e9",
    "tags": [],
    "deepnote_cell_type": "markdown",
    "deepnote_cell_height": 296.296875
   }
  },
  {
   "cell_type": "markdown",
   "source": "<a style='text-decoration:none;line-height:16px;display:flex;color:#5B5B62;padding:10px;justify-content:end;' href='https://deepnote.com?utm_source=created-in-deepnote-cell&projectId=5292883e-50a7-4f1d-9f12-778c1d6da182' target=\"_blank\">\n<img alt='Created in deepnote.com' style='display:inline;max-height:16px;margin:0px;margin-right:7.5px;' src='data:image/svg+xml;base64,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' > </img>\nCreated in <span style='font-weight:600;margin-left:4px;'>Deepnote</span></a>",
   "metadata": {
    "tags": [],
    "created_in_deepnote_cell": true,
    "deepnote_cell_type": "markdown"
   }
  }
 ],
 "nbformat": 4,
 "nbformat_minor": 2,
 "metadata": {
  "orig_nbformat": 2,
  "deepnote": {
   "is_reactive": false
  },
  "deepnote_notebook_id": "54e5fbdc-1d1d-43a2-9c49-5a600a33a4d9",
  "deepnote_execution_queue": []
 }
}