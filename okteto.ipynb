{
 "cells": [
  {
   "cell_type": "markdown",
   "source": "# docker compose ",
   "metadata": {
    "tags": [],
    "cell_id": "00000-0e109134-c36e-46dc-93dc-cfabe83b3a2c",
    "is_collapsed": false,
    "deepnote_cell_type": "text-cell-h1"
   }
  },
  {
   "cell_type": "markdown",
   "source": "https://cloud.okteto.com/",
   "metadata": {
    "cell_id": "3b561020-27a3-4095-9145-530eef8b99cc",
    "tags": [],
    "is_collapsed": false,
    "deepnote_cell_type": "text-cell-p"
   }
  },
  {
   "cell_type": "markdown",
   "source": "现在可以使用git仓库里的docker-compose.yml定义",
   "metadata": {
    "cell_id": "10f4d142-a5b2-4a00-96bf-307b707680df",
    "tags": [],
    "is_collapsed": false,
    "deepnote_cell_type": "text-cell-p"
   }
  },
  {
   "cell_type": "markdown",
   "source": "https://github.com/okteto/python-docker-compose",
   "metadata": {
    "cell_id": "677b2c99-7f89-4ea9-992a-d3a0e52cf4b2",
    "tags": [],
    "is_collapsed": false,
    "deepnote_cell_type": "text-cell-p"
   }
  },
  {
   "cell_type": "markdown",
   "source": "https://github.com/okteto/compose-getting-started",
   "metadata": {
    "cell_id": "96a203ea-90f5-4c7e-9125-702089a06506",
    "tags": [],
    "is_collapsed": false,
    "deepnote_cell_type": "text-cell-p"
   }
  },
  {
   "cell_type": "markdown",
   "source": "### -----------notebook-----------------------",
   "metadata": {
    "tags": [],
    "is_collapsed": false,
    "cell_id": "00001-88884cbc-3499-4d81-b1b2-f687456c2de9",
    "deepnote_cell_type": "text-cell-h3"
   }
  },
  {
   "cell_type": "markdown",
   "source": " services:\n  tf:\n    image: jupyter/tensorflow-notebook\n    ports:\n      - 8888:8888",
   "metadata": {
    "tags": [],
    "cell_id": "00001-9c295ce3-146c-4fc1-8cfe-f37adca4afa7",
    "is_collapsed": false,
    "deepnote_cell_type": "text-cell-p"
   }
  },
  {
   "cell_type": "markdown",
   "source": " services:\n  jupyter:\n    image: jupyter/datascience-notebook\n    ports:\n      - 8888:8888",
   "metadata": {
    "tags": [],
    "cell_id": "00002-d465dc4f-1dbc-4844-bbcd-6fad51e7edb4",
    "is_collapsed": false,
    "deepnote_cell_type": "text-cell-p"
   }
  },
  {
   "cell_type": "markdown",
   "source": "jupyter/minimal-notebook",
   "metadata": {
    "cell_id": "17057a517a44470882f59cbfb3df0e21",
    "tags": [],
    "is_collapsed": false,
    "deepnote_cell_type": "text-cell-p"
   }
  },
  {
   "cell_type": "markdown",
   "source": "jupyter/base-notebook",
   "metadata": {
    "cell_id": "1808e709965b4b88877e924663943962",
    "tags": [],
    "is_collapsed": false,
    "deepnote_cell_type": "text-cell-p"
   }
  },
  {
   "cell_type": "markdown",
   "source": "### -----------nginx    httpd----------------------",
   "metadata": {
    "tags": [],
    "is_collapsed": false,
    "cell_id": "00004-e57d6239-4ff0-4299-acd1-df304f801aed",
    "deepnote_cell_type": "text-cell-h3"
   }
  },
  {
   "cell_type": "markdown",
   "source": "services:\n  nginx:\n    image: nginx\n    restart : always\n    ports:\n      - 8080:8080\n      - 80:80\n",
   "metadata": {
    "tags": [],
    "cell_id": "00001-ca59df06-65ba-4723-80d6-4eb6f24de614",
    "is_collapsed": false,
    "deepnote_cell_type": "text-cell-p"
   }
  },
  {
   "cell_type": "markdown",
   "source": "services:\n  httpd:\n    image: httpd\n    ports:\n      - 8080:8080\n      - 80:80",
   "metadata": {
    "tags": [],
    "cell_id": "00002-708b17e2-a30e-457e-968d-e90aa74907fe",
    "is_collapsed": false,
    "deepnote_cell_type": "text-cell-p"
   }
  },
  {
   "cell_type": "markdown",
   "source": "### -----------baota----------------------",
   "metadata": {
    "tags": [],
    "is_collapsed": false,
    "cell_id": "00007-3315507f-3d57-4f01-b505-da6bc8bc43ac",
    "deepnote_cell_type": "text-cell-h3"
   }
  },
  {
   "cell_type": "markdown",
   "source": "services:\n  baota:\n    image: huxiansheng/baota\n    ports:\n      - 8080:8080\n      - 80:80\n      - 8888:8888\n登陆地址 http://{{面板ip地址}}:8888\n初始账号 username\n初始密码 password",
   "metadata": {
    "tags": [],
    "cell_id": "00003-90e40f11-c5d2-48bb-a621-6a8b37de4ba7",
    "is_collapsed": false,
    "deepnote_cell_type": "text-cell-p"
   }
  },
  {
   "cell_type": "markdown",
   "source": "services:\n  baota3:\n    image: jangrui/baota\n    ports:\n      - 8080:8080\n      - 80:80\n      - 8888:8888\n\n登陆地址 http://{{面板ip地址}}:8888\n初始账号 username\n初始密码 password",
   "metadata": {
    "tags": [],
    "cell_id": "00007-1f3aadaf-1f1e-49e9-a53b-bacc5c3e25cb",
    "is_collapsed": false,
    "deepnote_cell_type": "text-cell-p"
   }
  },
  {
   "cell_type": "markdown",
   "source": "### -----------mysql----------------------",
   "metadata": {
    "tags": [],
    "is_collapsed": false,
    "cell_id": "00010-70b43b88-057f-4c7f-a8ca-5a86ff945032",
    "deepnote_cell_type": "text-cell-h3"
   }
  },
  {
   "cell_type": "markdown",
   "source": "version: '3.1'\n\nservices:\n\n  db:\n    image: mysql\n    command: --default-authentication-plugin=mysql_native_password\n    restart: always\n    environment:\n      MYSQL_ROOT_PASSWORD: example\n\n  adminer:\n    image: adminer\n    restart: always\n    ports:\n      - 8080:8080",
   "metadata": {
    "tags": [],
    "cell_id": "00006-f89a7f18-2e7d-444c-a1bc-c41eecf7e2d7",
    "is_collapsed": false,
    "deepnote_cell_type": "text-cell-p"
   }
  },
  {
   "cell_type": "markdown",
   "source": "services:\n  db:\n    image: mysql\n    restart: always\n    environment:\n      MYSQL_ROOT_PASSWORD: wwk.567890\n      MYSQL_DATABASE: mydb\n  adminer:\n    image: adminer     管理工具\n    restart: always\n    ports:\n      - 8080:8080",
   "metadata": {
    "tags": [],
    "cell_id": "00009-5314b638-e9bc-422c-a787-3c6da37d8329",
    "is_collapsed": false,
    "deepnote_cell_type": "text-cell-p"
   }
  },
  {
   "cell_type": "markdown",
   "source": "services:\n  db:\n    image: mysql\n    restart: always\n    volumes:\n      - mysqlfile:/var/lib/mysql      持久化保存数据\n    environment:\n      MYSQL_ROOT_PASSWORD: wwk.567890\n      MYSQL_DATABASE: mydb\n  phpmyadmin:\n    image: phpmyadmin     管理工具\n    restart: always\n    ports:\n      - 80:80\nvolumes:\n  mysqlfile:           数据盘",
   "metadata": {
    "tags": [],
    "cell_id": "00010-29db817e-49ee-445b-875e-1dc1b25b0af5",
    "is_collapsed": false,
    "deepnote_cell_type": "text-cell-p"
   }
  },
  {
   "cell_type": "markdown",
   "source": "### ----------theiaide-------------------------",
   "metadata": {
    "tags": [],
    "is_collapsed": false,
    "cell_id": "00014-7e5634c2-98ba-44af-b042-8036315f6dff",
    "deepnote_cell_type": "text-cell-h3"
   }
  },
  {
   "cell_type": "markdown",
   "source": "services:\n  theiaide:\n    image: theiaide/theia\n    ports:\n      - 3000:3000",
   "metadata": {
    "tags": [],
    "cell_id": "00009-3f1694cf-3176-4dbc-875d-e7c17c5f0d54",
    "is_collapsed": false,
    "deepnote_cell_type": "text-cell-p"
   }
  },
  {
   "cell_type": "markdown",
   "source": "services:\n  theiaide:\n    image: theiaide/theia-full\n    volumes:\n      - codefile:/home/project     持久化保存数据\n    ports:\n      - 3000:3000\n      - 5000:5000\n      - 80:80\n      - 8080:8080\nvolumes:\n  codefile:                 数据盘",
   "metadata": {
    "tags": [],
    "is_collapsed": false,
    "cell_id": "00012-138ab6f7-959f-42d5-bcc3-ea829b751730",
    "deepnote_cell_type": "text-cell-p"
   }
  },
  {
   "cell_type": "markdown",
   "source": "### ----------------vs code--------------------------",
   "metadata": {
    "tags": [],
    "is_collapsed": false,
    "cell_id": "00017-fb29d397-d352-4e8c-998e-6721e46039d7",
    "deepnote_cell_type": "text-cell-h3"
   }
  },
  {
   "cell_type": "markdown",
   "source": "services:\n  code:\n    image: codercom/code-server\n    ports:\n      - 8080:8080             ",
   "metadata": {
    "tags": [],
    "cell_id": "00010-85ff865a-424c-41cb-8a6c-3e66965e3b71",
    "is_collapsed": false,
    "deepnote_cell_type": "text-cell-p"
   }
  },
  {
   "cell_type": "markdown",
   "source": "services:\n  code:\n    image: codercom/code-server\n    command: code-server --auth none --bind-addr 0.0.0.0:8080\n    ports:\n      - 8080:8080",
   "metadata": {
    "tags": [],
    "cell_id": "00011-21176b25-19f1-4f7a-9e41-b04204d1c17e",
    "is_collapsed": false,
    "deepnote_cell_type": "text-cell-p"
   }
  },
  {
   "cell_type": "markdown",
   "source": "### ----------ttyd--------",
   "metadata": {
    "cell_id": "4a07d6d6-d386-4770-8075-75358ab32ec6",
    "tags": [],
    "is_collapsed": false,
    "deepnote_cell_type": "text-cell-h3"
   }
  },
  {
   "cell_type": "markdown",
   "source": "https://github.com/tsl0922/ttyd",
   "metadata": {
    "cell_id": "b3cc5159-b9c5-49cd-8eb6-f056e2ede888",
    "tags": [],
    "is_collapsed": false,
    "deepnote_cell_type": "text-cell-p"
   }
  },
  {
   "cell_type": "markdown",
   "source": "https://github.com/tsl0922/ttyd/releases/download/1.6.3/ttyd.x86_64",
   "metadata": {
    "cell_id": "ddb43eb9-0100-49ee-a58b-743c9dc68dff",
    "tags": [],
    "is_collapsed": false,
    "deepnote_cell_type": "text-cell-p"
   }
  },
  {
   "cell_type": "markdown",
   "source": "https://github.com/tsl0922/ttyd/releases/download/1.5.2/ttyd_linux.x86_64",
   "metadata": {
    "cell_id": "4ec82cc1-6773-4fa4-849a-a2e621ab0018",
    "tags": [],
    "is_collapsed": false,
    "deepnote_cell_type": "text-cell-p"
   }
  },
  {
   "cell_type": "markdown",
   "source": "wget -c -O ttyd https://github.com/tsl0922/ttyd/releases/download/1.6.3/ttyd.x86_64\nchmod u+x ttyd",
   "metadata": {
    "cell_id": "3889a39b-c3d0-4e46-b60b-2f77bc549ed8",
    "tags": [],
    "is_collapsed": false,
    "deepnote_cell_type": "text-cell-p"
   }
  },
  {
   "cell_type": "markdown",
   "source": "ttyd bash",
   "metadata": {
    "cell_id": "96f6c312-e86f-4f8f-b1f0-5eb5190ca81e",
    "tags": [],
    "is_collapsed": false,
    "deepnote_cell_type": "text-cell-p"
   }
  },
  {
   "cell_type": "markdown",
   "source": "ttyd -p 12345 bash",
   "metadata": {
    "cell_id": "03599da7-5820-4d11-b495-92806cd2da7b",
    "tags": [],
    "is_collapsed": false,
    "deepnote_cell_type": "text-cell-p"
   }
  },
  {
   "cell_type": "markdown",
   "source": "  sudo apt-get install build-essential cmake git libjson-c-dev libwebsockets-dev\n  git clone https://github.com/tsl0922/ttyd.git\n  cd ttyd &amp;&amp; mkdir build &amp;&amp; cd build\n  cmake ..\n  make &amp;&amp; sudo make install",
   "metadata": {
    "cell_id": "b2f95094-f17b-4f05-acdf-5abe884bc12b",
    "tags": [],
    "is_collapsed": false,
    "deepnote_cell_type": "text-cell-p"
   }
  },
  {
   "cell_type": "markdown",
   "source": "cloudve/ttyd        tsl0922/ttyd          7681端口",
   "metadata": {
    "cell_id": "db0e131c-7d18-435f-9921-a379fd8e6dbf",
    "tags": [],
    "is_collapsed": false,
    "deepnote_cell_type": "text-cell-p"
   }
  },
  {
   "cell_type": "markdown",
   "source": " services:\n  ttyd:\n    image: tsl0922/ttyd\n    ports:\n      - 7681:7681",
   "metadata": {
    "cell_id": "11b45783-8653-41a1-b592-aca41417e6cc",
    "tags": [],
    "is_collapsed": false,
    "deepnote_cell_type": "text-cell-p"
   }
  },
  {
   "cell_type": "markdown",
   "source": " services:\n  ttyd:\n    image: cloudve/ttyd\n    ports:\n      - 7681:7681",
   "metadata": {
    "cell_id": "7112c08a-6f68-4930-8f40-359398ca8708",
    "tags": [],
    "is_collapsed": false,
    "deepnote_cell_type": "text-cell-p"
   }
  },
  {
   "cell_type": "markdown",
   "source": "### 设定存盘大小",
   "metadata": {
    "tags": [],
    "is_collapsed": false,
    "cell_id": "00020-258f39cf-8829-4ff5-af6b-9e66c916b65a",
    "deepnote_cell_type": "text-cell-h3"
   }
  },
  {
   "cell_type": "markdown",
   "source": "services:\n  tf:\n    image: jupyter/tensorflow-notebook\n    ports:\n      - 8888:8888\n    volumes:\n      - files:/home/jovyan\n\nvolumes:\n  files:\n    driver_opts:\n      size: 3Gi\n",
   "metadata": {
    "tags": [],
    "cell_id": "00013-2aaaf9cb-90f5-4dd7-89cb-ad56c2af8005",
    "is_collapsed": false,
    "deepnote_cell_type": "text-cell-p"
   }
  },
  {
   "cell_type": "markdown",
   "source": "### ----------------redis---------------------",
   "metadata": {
    "tags": [],
    "is_collapsed": false,
    "cell_id": "00022-a7bac2ea-14bf-4442-bbd6-1ab1246ae9b0",
    "deepnote_cell_type": "text-cell-h3"
   }
  },
  {
   "cell_type": "markdown",
   "source": "services:\n  redis:\n    image: redis\n    ports:\n      - 6379:6379\n    volumes:\n      - redisfile:/data\n  treenms:\n    image: fuyong/treenms           管理工具\n    ports:\n      - 8080:8080\n  phpredisadmin:\n    image: erikdubbelboer/phpredisadmin                      管理工具\n    environment:\n      REDIS_1_HOST: redis\n    ports:\n      - 80:80\nvolumes:\n  redisfile:\n  treenms和phpredisadmin管理redis    带磁盘存储redis数据       拉取直接运行, 端口号为8080&nbsp;默认用户名和密码都为treesoft",
   "metadata": {
    "tags": [],
    "cell_id": "00014-6421945c-66ab-482e-a1a4-a5a13a6bcedb",
    "is_collapsed": false,
    "deepnote_cell_type": "text-cell-p"
   }
  },
  {
   "cell_type": "markdown",
   "source": "# okteto",
   "metadata": {
    "tags": [],
    "cell_id": "00001-a9bf56f8-9b98-466a-a8a1-1b3b138c5838",
    "is_collapsed": false,
    "deepnote_cell_type": "text-cell-h1"
   }
  },
  {
   "cell_type": "markdown",
   "source": "https://downloads.okteto.com/cli/okteto.exe",
   "metadata": {
    "tags": [],
    "cell_id": "00001-3d06d4c3-3a49-4600-a601-2e33c2cde46b",
    "is_collapsed": false,
    "deepnote_cell_type": "text-cell-p"
   }
  },
  {
   "cell_type": "markdown",
   "source": "$ curl https://get.okteto.com -sSfL | sh",
   "metadata": {
    "tags": [],
    "cell_id": "00007-c9293669-0c7e-4f28-a70d-4ee44cf52f07",
    "is_collapsed": false,
    "deepnote_cell_type": "text-cell-p"
   }
  },
  {
   "cell_type": "markdown",
   "source": "kJO3aMezsNPu1GFWQGIdtjpsymN9j0eNUR47BpNDKTWNz5Sf",
   "metadata": {
    "tags": [],
    "is_collapsed": false,
    "cell_id": "00020-d113bf4e-6f60-41ab-9c70-9f4327b086ad",
    "deepnote_cell_type": "text-cell-p"
   }
  },
  {
   "cell_type": "markdown",
   "source": "# github",
   "metadata": {
    "tags": [],
    "cell_id": "00001-77f0afb9-2eeb-461a-8558-820e3456f4be",
    "is_collapsed": false,
    "deepnote_cell_type": "text-cell-h1"
   }
  },
  {
   "cell_type": "markdown",
   "source": "https://github.com/okteto",
   "metadata": {
    "cell_id": "7835a33f-9b6c-4fed-b272-fc267d9c3a9d",
    "tags": [],
    "is_collapsed": false,
    "deepnote_cell_type": "text-cell-p"
   }
  },
  {
   "cell_type": "markdown",
   "source": "https://github.com/okteto/python-docker-compose",
   "metadata": {
    "cell_id": "7c830515-6565-4d96-a520-70e91ebade68",
    "tags": [],
    "is_collapsed": false,
    "deepnote_cell_type": "text-cell-p"
   }
  },
  {
   "cell_type": "markdown",
   "source": "https://github.com/okteto/compose-getting-started",
   "metadata": {
    "cell_id": "b7b4aeca-311d-419c-8cf5-373865c67ebf",
    "tags": [],
    "is_collapsed": false,
    "deepnote_cell_type": "text-cell-p"
   }
  },
  {
   "cell_type": "markdown",
   "source": "https://github.com/okteto/movies",
   "metadata": {
    "cell_id": "31aec6ea-5925-42a5-a31c-958cd152e38b",
    "tags": [],
    "is_collapsed": false,
    "deepnote_cell_type": "text-cell-p"
   }
  },
  {
   "cell_type": "markdown",
   "source": "https://github.com/okteto/react-getting-started",
   "metadata": {
    "cell_id": "07c9a38a-7ea2-40dd-9a88-9b12fbeaa4fa",
    "tags": [],
    "is_collapsed": false,
    "deepnote_cell_type": "text-cell-p"
   }
  },
  {
   "cell_type": "markdown",
   "source": "https://github.com/okteto/go-getting-started",
   "metadata": {
    "cell_id": "edde6382-5c57-4475-b07b-9408bfd30153",
    "tags": [],
    "is_collapsed": false,
    "deepnote_cell_type": "text-cell-p"
   }
  },
  {
   "cell_type": "markdown",
   "source": "https://github.com/okteto/aspnetcore-getting-started",
   "metadata": {
    "cell_id": "9678ca2e-1049-4744-a2ad-a42a1d065082",
    "tags": [],
    "is_collapsed": false,
    "deepnote_cell_type": "text-cell-p"
   }
  },
  {
   "cell_type": "markdown",
   "source": "https://github.com/okteto/java-maven-spring-redis",
   "metadata": {
    "cell_id": "12093d3c-4325-423f-b13f-54acb6c8e363",
    "tags": [],
    "is_collapsed": false,
    "deepnote_cell_type": "text-cell-p"
   }
  },
  {
   "cell_type": "markdown",
   "source": "https://github.com/okteto/filemanager",
   "metadata": {
    "cell_id": "58f62877-5463-4e29-ad69-535d5aac58d6",
    "tags": [],
    "is_collapsed": false,
    "deepnote_cell_type": "text-cell-p"
   }
  },
  {
   "cell_type": "markdown",
   "source": "https://github.com/okteto/python-getting-started",
   "metadata": {
    "cell_id": "6e236e0a-033b-42a1-af2c-1a3c14081240",
    "tags": [],
    "is_collapsed": false,
    "deepnote_cell_type": "text-cell-p"
   }
  },
  {
   "cell_type": "markdown",
   "source": "https://github.com/okteto/php-getting-started",
   "metadata": {
    "cell_id": "74c3ca6c-7210-49b0-a694-131b15c96c6c",
    "tags": [],
    "is_collapsed": false,
    "deepnote_cell_type": "text-cell-p"
   }
  },
  {
   "cell_type": "markdown",
   "source": "https://github.com/okteto/ruby-getting-started",
   "metadata": {
    "cell_id": "b6888748-764a-412d-a19d-0a3bba44c80d",
    "tags": [],
    "is_collapsed": false,
    "deepnote_cell_type": "text-cell-p"
   }
  },
  {
   "cell_type": "markdown",
   "source": "https://github.com/okteto/rust-getting-started",
   "metadata": {
    "cell_id": "188d2652-329c-45f2-a959-93a687b4250c",
    "tags": [],
    "is_collapsed": false,
    "deepnote_cell_type": "text-cell-p"
   }
  },
  {
   "cell_type": "markdown",
   "source": "https://github.com/okteto/node-getting-started",
   "metadata": {
    "cell_id": "dabdc2c0-0034-4f3d-9cab-638ae264c871",
    "tags": [],
    "is_collapsed": false,
    "deepnote_cell_type": "text-cell-p"
   }
  },
  {
   "cell_type": "markdown",
   "source": "https://github.com/okteto/c-getting-started",
   "metadata": {
    "cell_id": "27ae4dca-48d0-4492-8a51-2368d55e89fe",
    "tags": [],
    "is_collapsed": false,
    "deepnote_cell_type": "text-cell-p"
   }
  },
  {
   "cell_type": "markdown",
   "source": "https://github.com/okteto/java-gradle-getting-started",
   "metadata": {
    "cell_id": "f33c2054-a095-4ac2-bb12-c1d2e0913fa2",
    "tags": [],
    "is_collapsed": false,
    "deepnote_cell_type": "text-cell-p"
   }
  },
  {
   "cell_type": "markdown",
   "source": "https://github.com/okteto/java-maven-getting-started",
   "metadata": {
    "cell_id": "bb7d513f-c9c7-49d3-b7bc-574373e3ca72",
    "tags": [],
    "is_collapsed": false,
    "deepnote_cell_type": "text-cell-p"
   }
  },
  {
   "cell_type": "markdown",
   "source": "https://github.com/okteto/spring-microservices",
   "metadata": {
    "cell_id": "6a271b11-97b2-445d-8896-a89c271a76ff",
    "tags": [],
    "is_collapsed": false,
    "deepnote_cell_type": "text-cell-p"
   }
  },
  {
   "cell_type": "markdown",
   "source": "https://github.com/okteto/tensorflow-notebook-getting-started",
   "metadata": {
    "cell_id": "6ab8a63f-5a5d-4da3-93d9-1d512a14d2d4",
    "tags": [],
    "is_collapsed": false,
    "deepnote_cell_type": "text-cell-p"
   }
  },
  {
   "cell_type": "markdown",
   "source": "# other",
   "metadata": {
    "tags": [],
    "cell_id": "00017-edf7a40d-c538-4f9d-82c3-34965f53433d",
    "is_collapsed": false,
    "deepnote_cell_type": "text-cell-h1"
   }
  },
  {
   "cell_type": "markdown",
   "source": "https://bootstrap.pypa.io/pip/3.5/get-pip.py",
   "metadata": {
    "tags": [],
    "cell_id": "00019-3299959d-29e2-4dfd-aa89-580fac6b0368",
    "is_collapsed": false,
    "deepnote_cell_type": "text-cell-p"
   }
  },
  {
   "cell_type": "markdown",
   "source": "https://bootstrap.pypa.io/get-pip.py",
   "metadata": {
    "tags": [],
    "cell_id": "00027-ad459215-e123-4f63-b1dd-82973ab5ba0e",
    "is_collapsed": false,
    "deepnote_cell_type": "text-cell-p"
   }
  },
  {
   "cell_type": "markdown",
   "source": " uname -a\n cat /etc/issue\n cat /proc/version\n lsb_release -a",
   "metadata": {
    "tags": [],
    "cell_id": "00021-e8a629b6-1f3e-487a-9f81-52c710dc404f",
    "is_collapsed": false,
    "deepnote_cell_type": "text-cell-p"
   }
  },
  {
   "cell_type": "markdown",
   "source": "# RuoYi",
   "metadata": {
    "tags": [],
    "is_collapsed": false,
    "cell_id": "00039-b8083c14-a540-4edc-a29a-12d810906d2a",
    "deepnote_cell_type": "text-cell-h1"
   }
  },
  {
   "cell_type": "markdown",
   "source": "services:\n  redis:\n    image: redis\n  db:\n    image: mysql\n    restart: always\n    volumes:\n      - mysqlfile:/var/lib/mysql\n    environment:\n      MYSQL_ROOT_PASSWORD: wwk.567890\n      MYSQL_DATABASE: ry\n  phpmyadmin:\n    image: phpmyadmin\n    restart: always\n    ports:\n      - 80:80\n  theiaide:\n    image: theiaide/theia-full\n    volumes:\n      - codefile:/home/project\n    ports:\n      - 3000:3000\n      - 8080:8080\n      - 8081:1024\nvolumes:\n  mysqlfile:\n  codefile:",
   "metadata": {
    "tags": [],
    "is_collapsed": false,
    "cell_id": "00039-065fb62d-3760-4a52-8760-76ab0a1fd10c",
    "deepnote_cell_type": "text-cell-p"
   }
  },
  {
   "cell_type": "markdown",
   "source": "services:\n  theiaide2:\n    image: wwkiyyx/wwkiyyx:theia_YiSha\n    volumes:\n      - codefile2:/home/project\n    ports:\n      - 3000:3000\n      - 8080:8080\nvolumes:\n  codefile2:",
   "metadata": {
    "tags": [],
    "is_collapsed": false,
    "cell_id": "00041-beb499f3-d3d1-4b06-9b7e-cca6231b4b6d",
    "deepnote_cell_type": "text-cell-p"
   }
  },
  {
   "cell_type": "markdown",
   "source": "services:\n  redis:\n    image: redis\n  db:\n    image: mysql\n    restart: always\n    volumes:\n      - mysqlfile:/var/lib/mysql\n    environment:\n      MYSQL_ROOT_PASSWORD: wwk.567890\n      MYSQL_DATABASE: ry\n  phpmyadmin:\n    image: phpmyadmin\n    restart: always\n    ports:\n      - 80:80\n  theiaide:\n    image: theiaide/theia-full\n    volumes:\n      - codefile:/home/project\n      - jarfile:/home/project/RuoYi/ruoyi-admin/target\n    ports:\n      - 3000:3000\n      - 8080:8080\n      - 8081:1024\n  java:\n    image: openjdk\n    command: java -jar /home/project/RuoYi/ruoyi-admin/target/ruoyi-admin.jar\n    volumes:\n      - jarfile:/home/project/RuoYi/ruoyi-admin/target\n    ports:\n      - 9090:8080\nvolumes:\n  mysqlfile:\n  codefile:\n  jarfile:",
   "metadata": {
    "tags": [],
    "is_collapsed": false,
    "cell_id": "00042-9c10a968-aecc-4f23-a184-d2f8283297b3",
    "deepnote_cell_type": "text-cell-p"
   }
  },
  {
   "cell_type": "markdown",
   "source": "spring-boot : https://gitee.com/y_project/RuoYi",
   "metadata": {
    "cell_id": "41a1697559ee4bdc9dea8782697463ec",
    "tags": [],
    "is_collapsed": false,
    "deepnote_cell_type": "text-cell-p"
   }
  },
  {
   "cell_type": "markdown",
   "source": "vue : https://gitee.com/y_project/RuoYi-Vue",
   "metadata": {
    "cell_id": "8c84e109575f49b1b59927467597e3f5",
    "tags": [],
    "is_collapsed": false,
    "deepnote_cell_type": "text-cell-p"
   }
  },
  {
   "cell_type": "markdown",
   "source": "spring-cloud : https://gitee.com/y_project/RuoYi-Cloud",
   "metadata": {
    "cell_id": "c86a806e9b5e4f9fa943b32e8f2aa2df",
    "tags": [],
    "is_collapsed": false,
    "deepnote_cell_type": "text-cell-p"
   }
  },
  {
   "cell_type": "markdown",
   "source": "bootstrap : https://gitee.com/y_project/RuoYi-fast",
   "metadata": {
    "cell_id": "10a324c6788f479cbda8c48c9307182f",
    "tags": [],
    "is_collapsed": false,
    "deepnote_cell_type": "text-cell-p"
   }
  },
  {
   "cell_type": "markdown",
   "source": "vue : https://github.com/yangzongzhuan/RuoYi-Vue-fast",
   "metadata": {
    "cell_id": "da908ae8a3954efcae4df911c7b9a31c",
    "tags": [],
    "is_collapsed": false,
    "deepnote_cell_type": "text-cell-p"
   }
  },
  {
   "cell_type": "markdown",
   "source": "python : https://gitee.com/liqianglog/django-vue-admin",
   "metadata": {
    "cell_id": "0618179149754d26a8e93d1e2a5bd684",
    "tags": [],
    "is_collapsed": false,
    "deepnote_cell_type": "text-cell-p"
   }
  },
  {
   "cell_type": "markdown",
   "source": ".net : https://github.com/liukuo362573/YiShaAdmin",
   "metadata": {
    "cell_id": "86cee34196f9422b819cb9481c158092",
    "tags": [],
    "is_collapsed": false,
    "deepnote_cell_type": "text-cell-p"
   }
  },
  {
   "cell_type": "markdown",
   "source": "# okteto cli",
   "metadata": {
    "cell_id": "579735a897db42e98809b513c68ad477",
    "tags": [],
    "is_collapsed": false,
    "deepnote_cell_type": "text-cell-h1"
   }
  },
  {
   "cell_type": "markdown",
   "source": "### 下载",
   "metadata": {
    "cell_id": "a63079d31b7a4064afa71d3acdf15a8b",
    "tags": [],
    "is_collapsed": false,
    "deepnote_cell_type": "text-cell-h3"
   }
  },
  {
   "cell_type": "markdown",
   "source": "Linux 下载安装脚本 : curl https://get.okteto.com -sSfL | sh",
   "metadata": {
    "cell_id": "573a0d00787d4c428018566b8c2e4166",
    "tags": [],
    "is_collapsed": false,
    "deepnote_cell_type": "text-cell-p"
   }
  },
  {
   "cell_type": "code",
   "source": "!curl https://get.okteto.com -sSfL | sh",
   "metadata": {
    "cell_id": "54dcc6429d5b4c1789ffc18de9e9073f",
    "tags": [],
    "deepnote_to_be_reexecuted": false,
    "source_hash": "5d5b2801",
    "execution_start": 1651848201010,
    "execution_millis": 1560,
    "deepnote_cell_type": "code",
    "deepnote_cell_height": 254
   },
   "outputs": [
    {
     "name": "stdout",
     "text": "> Downloading https://github.com/okteto/okteto/releases/latest/download/okteto-Linux-x86_64\n  % Total    % Received % Xferd  Average Speed   Time    Time     Time  Current\n                                 Dload  Upload   Total   Spent    Left  Speed\n  0     0    0     0    0     0      0      0 --:--:-- --:--:-- --:--:--     0\n  0     0    0     0    0     0      0      0 --:--:-- --:--:-- --:--:--     0\n100 61.0M  100 61.0M    0     0  85.0M      0 --:--:-- --:--:-- --:--:--  129M\n> Installing /usr/local/bin/okteto\n\u001b[32m> Okteto successfully installed!\n\u001b[0m",
     "output_type": "stream"
    }
   ],
   "execution_count": null
  },
  {
   "cell_type": "code",
   "source": "!okteto version",
   "metadata": {
    "cell_id": "5c702187b61f4211a1562b143ade521c",
    "tags": [],
    "deepnote_to_be_reexecuted": false,
    "source_hash": "1a7ed7f7",
    "execution_start": 1651848484857,
    "execution_millis": 702,
    "deepnote_cell_type": "code",
    "deepnote_cell_height": 112.1875
   },
   "outputs": [
    {
     "name": "stdout",
     "text": "okteto version 2.2.2 \n",
     "output_type": "stream"
    }
   ],
   "execution_count": null
  },
  {
   "cell_type": "code",
   "source": "!okteto -h",
   "metadata": {
    "cell_id": "a896040750d04f138a040d198f6f6f80",
    "tags": [],
    "deepnote_to_be_reexecuted": false,
    "source_hash": "73d46eed",
    "execution_start": 1651848419186,
    "execution_millis": 694,
    "deepnote_cell_type": "code",
    "deepnote_cell_height": 701
   },
   "outputs": [
    {
     "name": "stdout",
     "text": "Okteto - Remote Development Environments powered by Kubernetes\n\nUsage:\n  okteto [command]\n\nAvailable Commands:\n  analytics       Enable / Disable analytics\n  build           Build and push the images defined in the 'build' section of your okteto manifest\n  completion      Generate the autocompletion script for the specified shell\n  context         Set the default context\n  deploy          Execute the list of commands specified in the 'deploy' section of your okteto manifest\n  destroy         Destroy everything created by the 'okteto deploy' command\n  doctor          Generate a zip file with the okteto logs\n  down            Deactivate your development container\n  endpoints       Show endpoints for an environment\n  exec            Execute a command in your development container\n  help            Help about any command\n  init            Automatically generate your okteto manifest\n  kubeconfig      Download credentials for the Kubernetes cluster selected via 'okteto context'\n  namespace       Configure the current namespace of the okteto context\n  preview         Preview environment management commands\n  status          Status of the synchronization process\n  up              Launch your development environment\n  update          Update Okteto CLI version\n  version         View the version of the okteto binary\n\nFlags:\n  -h, --help                help for okteto\n  -l, --log-level string    amount of information outputted (debug, info, warn, error) (default \"warn\")\n      --log-output string   output format for logs (tty, plain, json) (default \"tty\")\n\nUse \"okteto [command] --help\" for more information about a command.\n",
     "output_type": "stream"
    }
   ],
   "execution_count": null
  },
  {
   "cell_type": "markdown",
   "source": "window 下载 : https://downloads.okteto.com/cli/okteto.exe",
   "metadata": {
    "cell_id": "bb9c28522b87435085c09520995e2422",
    "tags": [],
    "is_collapsed": false,
    "deepnote_cell_type": "text-cell-p"
   }
  },
  {
   "cell_type": "markdown",
   "source": "github release : https://github.com/okteto/okteto/releases",
   "metadata": {
    "cell_id": "625ebf15d26f4f4fbb602d593ac1ac66",
    "tags": [],
    "is_collapsed": false,
    "deepnote_cell_type": "text-cell-p"
   }
  },
  {
   "cell_type": "markdown",
   "source": "https://github.com/okteto/okteto/releases/download/2.2.1/okteto.exe",
   "metadata": {
    "cell_id": "676521fe5b1148ddb6da588a27302976",
    "tags": [],
    "is_collapsed": false,
    "deepnote_cell_type": "text-cell-p"
   }
  },
  {
   "cell_type": "markdown",
   "source": "https://github.com/okteto/okteto/releases/download/2.2.1/okteto-Linux-x86_64",
   "metadata": {
    "cell_id": "de6f37815dfa4cde98c646b62b3dc33a",
    "tags": [],
    "is_collapsed": false,
    "deepnote_cell_type": "text-cell-p"
   }
  },
  {
   "cell_type": "markdown",
   "source": "### token",
   "metadata": {
    "cell_id": "35b4bc5476154776a60af459a66f5df6",
    "tags": [],
    "is_collapsed": false,
    "deepnote_cell_type": "text-cell-h3"
   }
  },
  {
   "cell_type": "code",
   "source": "!export OKTETO_TOKEN=PIvcZLzke6uwKVnuyfu8605hYjW7eqMbjClM3Xv2V8yJaRcB && \\\n okteto context use https://cloud.okteto.com",
   "metadata": {
    "cell_id": "23b7840502264d6e8f99d5e31d0af17e",
    "tags": [],
    "deepnote_to_be_reexecuted": false,
    "source_hash": "31f1a369",
    "execution_start": 1651848311365,
    "execution_millis": 1807,
    "deepnote_cell_type": "code",
    "deepnote_cell_height": 150.375
   },
   "outputs": [
    {
     "name": "stdout",
     "text": "\u001b[42;30m ✓ \u001b[0m \u001b[32mContext 'cloud.okteto.com' created\u001b[0m\n\u001b[42;30m ✓ \u001b[0m \u001b[32mUsing context wwkiyyx @ cloud.okteto.com\u001b[0m\n",
     "output_type": "stream"
    }
   ],
   "execution_count": null
  },
  {
   "cell_type": "code",
   "source": "!okteto context list",
   "metadata": {
    "cell_id": "9bafa10aea48490384927a082abdb0e0",
    "tags": [],
    "deepnote_to_be_reexecuted": false,
    "source_hash": "4e7c286",
    "execution_start": 1651848356284,
    "execution_millis": 930,
    "deepnote_cell_type": "code",
    "deepnote_cell_height": 132.375
   },
   "outputs": [
    {
     "name": "stdout",
     "text": "Name                        Namespace  Builder                               Registry\nhttps://cloud.okteto.com *  wwkiyyx    tcp://buildkit.cloud.okteto.net:1234  registry.cloud.okteto.net\n",
     "output_type": "stream"
    }
   ],
   "execution_count": null
  },
  {
   "cell_type": "code",
   "source": "!!okteto namespace list",
   "metadata": {
    "cell_id": "198e77e6e272408fb26c4a45fefac661",
    "tags": [],
    "owner_user_id": "64653946-af2f-4699-a282-4043b0ba5576",
    "deepnote_to_be_reexecuted": false,
    "source_hash": "2208a218",
    "execution_start": 1651848612974,
    "execution_millis": 639,
    "deepnote_cell_type": "code",
    "deepnote_cell_height": 214.125,
    "deepnote_output_heights": [
     117.125
    ]
   },
   "outputs": [
    {
     "output_type": "execute_result",
     "execution_count": 9,
     "data": {
      "text/plain": "['Namespace  Status',\n 'a-wwkiyyx  Active',\n 'b-wwkiyyx  Active',\n 'c-wwkiyyx  Active',\n 'd-wwkiyyx  Active',\n 'wwkiyyx *  Active']"
     },
     "metadata": {}
    }
   ],
   "execution_count": null
  },
  {
   "cell_type": "markdown",
   "source": "### 定时任务",
   "metadata": {
    "cell_id": "cf7f3aac7d3242a89878ef6a6b9099be",
    "tags": [],
    "is_collapsed": false,
    "deepnote_cell_type": "text-cell-h3"
   }
  },
  {
   "cell_type": "markdown",
   "source": "cd /root\nexport OKTETO_TOKEN=PIvcZLzke6uwKVnuyfu8605hYjW7eqMbjClM3Xv2V8yJaRcB\nokteto version\nokteto context list\nokteto namespace wwkiyyx\nokteto namespace a-wwkiyyx\nokteto namespace b-wwkiyyx\nokteto namespace c-wwkiyyx\nokteto namespace d-wwkiyyx\nokteto up\nokteto down",
   "metadata": {
    "cell_id": "ca31ae6be4ff4685a06b00c905021be5",
    "tags": [],
    "is_collapsed": false,
    "deepnote_cell_type": "text-cell-p"
   }
  },
  {
   "cell_type": "markdown",
   "source": "### okteto.yml",
   "metadata": {
    "cell_id": "7de9c7b229ee4d5c9733f07db81f6ccd",
    "tags": [],
    "is_collapsed": false,
    "deepnote_cell_type": "text-cell-h3"
   }
  },
  {
   "cell_type": "markdown",
   "source": "okteto init",
   "metadata": {
    "cell_id": "2f32803e5f9944cabb4b1b40e94f37d0",
    "tags": [],
    "is_collapsed": false,
    "deepnote_cell_type": "text-cell-p"
   }
  },
  {
   "cell_type": "markdown",
   "source": "icon: https://apps.okteto.com/movies/icon.png\nbuild:\n  api:\n    context: .\ndeploy:\n  - helm upgrade --install app chart --set image=${OKTETO_BUILD_API_IMAGE}\ndev:\n  api:\n    command: [\"bash\"]\n    forward:\n      - 8080:8080\n      - 9229:9229\n    sync:\n      - .:/usr/src/app",
   "metadata": {
    "cell_id": "f4674a250e8247fd8ab906e4a8cefbf7",
    "tags": [],
    "is_collapsed": false,
    "deepnote_cell_type": "text-cell-p"
   }
  },
  {
   "cell_type": "markdown",
   "source": "dev:\n  my-app:\n    image: golang:alpine\n    volumes:\n      - /go/pkg/\n      - /root/.cache/go-build/\n    forward:\n      - 8080:8080",
   "metadata": {
    "cell_id": "d46989b309004e5f93b5e51c58b6b00a",
    "tags": [],
    "is_collapsed": false,
    "deepnote_cell_type": "text-cell-p"
   }
  },
  {
   "cell_type": "markdown",
   "source": "okteto up",
   "metadata": {
    "cell_id": "c2735c0a2cbb4a56997195bf41360536",
    "tags": [],
    "is_collapsed": false,
    "deepnote_cell_type": "text-cell-p"
   }
  },
  {
   "cell_type": "markdown",
   "source": "okteto build",
   "metadata": {
    "cell_id": "03a07bcd746e4a98b63e825ae3140057",
    "tags": [],
    "is_collapsed": false,
    "deepnote_cell_type": "text-cell-p"
   }
  },
  {
   "cell_type": "markdown",
   "source": "# Dockerfile \nFROM okteto.dev/hello-world:golang\nWORKDIR /app\nCOPY main.go ./\nRUN go build -o /usr/local/bin/hello-world\nEXPOSE 8080\nCMD [\"/usr/local/bin/hello-world\"]",
   "metadata": {
    "cell_id": "b4f36d4edf104d6dadee64c2439fe8c7",
    "tags": [],
    "is_collapsed": false,
    "deepnote_cell_type": "text-cell-p"
   }
  },
  {
   "cell_type": "markdown",
   "source": "okteto deploy",
   "metadata": {
    "cell_id": "d1d00fb8e0aa4bdbab95699a8f342623",
    "tags": [],
    "is_collapsed": false,
    "deepnote_cell_type": "text-cell-p"
   }
  },
  {
   "cell_type": "markdown",
   "source": "okteto down",
   "metadata": {
    "cell_id": "45851b1f2adb4fae9e273273383c217c",
    "tags": [],
    "is_collapsed": false,
    "deepnote_cell_type": "text-cell-p"
   }
  },
  {
   "cell_type": "markdown",
   "source": "<a style='text-decoration:none;line-height:16px;display:flex;color:#5B5B62;padding:10px;justify-content:end;' href='https://deepnote.com?utm_source=created-in-deepnote-cell&projectId=26e5d5b4-a604-4f7b-aef4-7756f8127ef0' target=\"_blank\">\n<img alt='Created in deepnote.com' style='display:inline;max-height:16px;margin:0px;margin-right:7.5px;' src='data:image/svg+xml;base64,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' > </img>\nCreated in <span style='font-weight:600;margin-left:4px;'>Deepnote</span></a>",
   "metadata": {
    "tags": [],
    "created_in_deepnote_cell": true,
    "deepnote_cell_type": "markdown"
   }
  }
 ],
 "nbformat": 4,
 "nbformat_minor": 2,
 "metadata": {
  "orig_nbformat": 2,
  "deepnote": {
   "is_reactive": false
  },
  "deepnote_notebook_id": "54e5fbdc-1d1d-43a2-9c49-5a600a33a4d9",
  "deepnote_execution_queue": []
 }
}