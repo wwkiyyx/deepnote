{
 "cells": [
  {
   "cell_type": "code",
   "metadata": {
    "cell_id": "c5f8343e-ed41-46c7-be80-f1ddf062b28d",
    "deepnote_cell_type": "code"
   },
   "source": "import tensorflow as tf\nprint(tf.__version__)",
   "execution_count": null,
   "outputs": [
    {
     "name": "stdout",
     "output_type": "stream",
     "text": "2.4.1\n"
    }
   ]
  },
  {
   "cell_type": "code",
   "metadata": {
    "cell_id": "00001-ce07a918-8b7e-4567-8bd4-8be1e68fba09",
    "deepnote_cell_type": "code"
   },
   "source": "加载TensorFlow自带的数据集：boston_housing、cifar10、cifar100、fashion_mnist、imdb、mnist、reuters",
   "execution_count": null,
   "outputs": []
  },
  {
   "cell_type": "code",
   "metadata": {
    "cell_id": "00002-8dc0c925-8f3c-4062-b2e8-a14a2248f4c5",
    "deepnote_cell_type": "code"
   },
   "source": "dataset = tf.keras.datasets.mnist\n#在这里切换数据集就可以了\n(x_train, y_train), (x_test, y_test) = dataset.load_data()",
   "execution_count": null,
   "outputs": []
  },
  {
   "cell_type": "code",
   "metadata": {
    "cell_id": "00003-b93faca8-6cc5-4365-827a-6bdadc6324bd",
    "deepnote_cell_type": "code"
   },
   "source": "输出数据集的结构",
   "execution_count": null,
   "outputs": []
  },
  {
   "cell_type": "code",
   "metadata": {
    "cell_id": "00004-fc237b9b-ffe2-4d03-ba53-f085935b9f78",
    "deepnote_cell_type": "code",
    "deepnote_output_heights": [
     21
    ]
   },
   "source": "type(x_train)\n#查看类型是numpy数组",
   "execution_count": null,
   "outputs": [
    {
     "data": {
      "text/plain": "numpy.ndarray"
     },
     "execution_count": 71,
     "metadata": {},
     "output_type": "execute_result"
    }
   ]
  },
  {
   "cell_type": "code",
   "metadata": {
    "cell_id": "00005-efc737ce-88bc-416a-9285-b81fa77a975c",
    "deepnote_cell_type": "code",
    "deepnote_output_heights": [
     21
    ]
   },
   "source": "x_train.shape\n#查看维度",
   "execution_count": null,
   "outputs": [
    {
     "data": {
      "text/plain": "(60000, 28, 28)"
     },
     "execution_count": 72,
     "metadata": {},
     "output_type": "execute_result"
    }
   ]
  },
  {
   "cell_type": "code",
   "metadata": {
    "cell_id": "00006-207e240d-1ad0-4a68-ae34-f9435a707b94",
    "deepnote_cell_type": "code",
    "deepnote_output_heights": [
     21
    ]
   },
   "source": "len(x_train)\n#查看长度",
   "execution_count": null,
   "outputs": [
    {
     "data": {
      "text/plain": "60000"
     },
     "execution_count": 73,
     "metadata": {},
     "output_type": "execute_result"
    }
   ]
  },
  {
   "cell_type": "code",
   "metadata": {
    "cell_id": "00007-d9e968bc-a875-4aa3-80e4-01efdf5756d5",
    "deepnote_cell_type": "code",
    "deepnote_output_heights": [
     611
    ]
   },
   "source": "x_train\n#看看训练图像的数据",
   "execution_count": null,
   "outputs": [
    {
     "data": {
      "text/plain": "array([[[0, 0, 0, ..., 0, 0, 0],\n        [0, 0, 0, ..., 0, 0, 0],\n        [0, 0, 0, ..., 0, 0, 0],\n        ...,\n        [0, 0, 0, ..., 0, 0, 0],\n        [0, 0, 0, ..., 0, 0, 0],\n        [0, 0, 0, ..., 0, 0, 0]],\n\n       [[0, 0, 0, ..., 0, 0, 0],\n        [0, 0, 0, ..., 0, 0, 0],\n        [0, 0, 0, ..., 0, 0, 0],\n        ...,\n        [0, 0, 0, ..., 0, 0, 0],\n        [0, 0, 0, ..., 0, 0, 0],\n        [0, 0, 0, ..., 0, 0, 0]],\n\n       [[0, 0, 0, ..., 0, 0, 0],\n        [0, 0, 0, ..., 0, 0, 0],\n        [0, 0, 0, ..., 0, 0, 0],\n        ...,\n        [0, 0, 0, ..., 0, 0, 0],\n        [0, 0, 0, ..., 0, 0, 0],\n        [0, 0, 0, ..., 0, 0, 0]],\n\n       ...,\n\n       [[0, 0, 0, ..., 0, 0, 0],\n        [0, 0, 0, ..., 0, 0, 0],\n        [0, 0, 0, ..., 0, 0, 0],\n        ...,\n        [0, 0, 0, ..., 0, 0, 0],\n        [0, 0, 0, ..., 0, 0, 0],\n        [0, 0, 0, ..., 0, 0, 0]],\n\n       [[0, 0, 0, ..., 0, 0, 0],\n        [0, 0, 0, ..., 0, 0, 0],\n        [0, 0, 0, ..., 0, 0, 0],\n        ...,\n        [0, 0, 0, ..., 0, 0, 0],\n        [0, 0, 0, ..., 0, 0, 0],\n        [0, 0, 0, ..., 0, 0, 0]],\n\n       [[0, 0, 0, ..., 0, 0, 0],\n        [0, 0, 0, ..., 0, 0, 0],\n        [0, 0, 0, ..., 0, 0, 0],\n        ...,\n        [0, 0, 0, ..., 0, 0, 0],\n        [0, 0, 0, ..., 0, 0, 0],\n        [0, 0, 0, ..., 0, 0, 0]]], dtype=uint8)"
     },
     "execution_count": 74,
     "metadata": {},
     "output_type": "execute_result"
    }
   ]
  },
  {
   "cell_type": "code",
   "metadata": {
    "cell_id": "00008-18abbf89-91cc-4f27-a744-b678ec513b56",
    "deepnote_cell_type": "code",
    "deepnote_output_heights": [
     611
    ]
   },
   "source": "x_train[0]\n#看看第一个图像的数据",
   "execution_count": null,
   "outputs": [
    {
     "data": {
      "text/plain": "array([[  0,   0,   0,   0,   0,   0,   0,   0,   0,   0,   0,   0,   0,\n          0,   0,   0,   0,   0,   0,   0,   0,   0,   0,   0,   0,   0,\n          0,   0],\n       [  0,   0,   0,   0,   0,   0,   0,   0,   0,   0,   0,   0,   0,\n          0,   0,   0,   0,   0,   0,   0,   0,   0,   0,   0,   0,   0,\n          0,   0],\n       [  0,   0,   0,   0,   0,   0,   0,   0,   0,   0,   0,   0,   0,\n          0,   0,   0,   0,   0,   0,   0,   0,   0,   0,   0,   0,   0,\n          0,   0],\n       [  0,   0,   0,   0,   0,   0,   0,   0,   0,   0,   0,   0,   0,\n          0,   0,   0,   0,   0,   0,   0,   0,   0,   0,   0,   0,   0,\n          0,   0],\n       [  0,   0,   0,   0,   0,   0,   0,   0,   0,   0,   0,   0,   0,\n          0,   0,   0,   0,   0,   0,   0,   0,   0,   0,   0,   0,   0,\n          0,   0],\n       [  0,   0,   0,   0,   0,   0,   0,   0,   0,   0,   0,   0,   3,\n         18,  18,  18, 126, 136, 175,  26, 166, 255, 247, 127,   0,   0,\n          0,   0],\n       [  0,   0,   0,   0,   0,   0,   0,   0,  30,  36,  94, 154, 170,\n        253, 253, 253, 253, 253, 225, 172, 253, 242, 195,  64,   0,   0,\n          0,   0],\n       [  0,   0,   0,   0,   0,   0,   0,  49, 238, 253, 253, 253, 253,\n        253, 253, 253, 253, 251,  93,  82,  82,  56,  39,   0,   0,   0,\n          0,   0],\n       [  0,   0,   0,   0,   0,   0,   0,  18, 219, 253, 253, 253, 253,\n        253, 198, 182, 247, 241,   0,   0,   0,   0,   0,   0,   0,   0,\n          0,   0],\n       [  0,   0,   0,   0,   0,   0,   0,   0,  80, 156, 107, 253, 253,\n        205,  11,   0,  43, 154,   0,   0,   0,   0,   0,   0,   0,   0,\n          0,   0],\n       [  0,   0,   0,   0,   0,   0,   0,   0,   0,  14,   1, 154, 253,\n         90,   0,   0,   0,   0,   0,   0,   0,   0,   0,   0,   0,   0,\n          0,   0],\n       [  0,   0,   0,   0,   0,   0,   0,   0,   0,   0,   0, 139, 253,\n        190,   2,   0,   0,   0,   0,   0,   0,   0,   0,   0,   0,   0,\n          0,   0],\n       [  0,   0,   0,   0,   0,   0,   0,   0,   0,   0,   0,  11, 190,\n        253,  70,   0,   0,   0,   0,   0,   0,   0,   0,   0,   0,   0,\n          0,   0],\n       [  0,   0,   0,   0,   0,   0,   0,   0,   0,   0,   0,   0,  35,\n        241, 225, 160, 108,   1,   0,   0,   0,   0,   0,   0,   0,   0,\n          0,   0],\n       [  0,   0,   0,   0,   0,   0,   0,   0,   0,   0,   0,   0,   0,\n         81, 240, 253, 253, 119,  25,   0,   0,   0,   0,   0,   0,   0,\n          0,   0],\n       [  0,   0,   0,   0,   0,   0,   0,   0,   0,   0,   0,   0,   0,\n          0,  45, 186, 253, 253, 150,  27,   0,   0,   0,   0,   0,   0,\n          0,   0],\n       [  0,   0,   0,   0,   0,   0,   0,   0,   0,   0,   0,   0,   0,\n          0,   0,  16,  93, 252, 253, 187,   0,   0,   0,   0,   0,   0,\n          0,   0],\n       [  0,   0,   0,   0,   0,   0,   0,   0,   0,   0,   0,   0,   0,\n          0,   0,   0,   0, 249, 253, 249,  64,   0,   0,   0,   0,   0,\n          0,   0],\n       [  0,   0,   0,   0,   0,   0,   0,   0,   0,   0,   0,   0,   0,\n          0,  46, 130, 183, 253, 253, 207,   2,   0,   0,   0,   0,   0,\n          0,   0],\n       [  0,   0,   0,   0,   0,   0,   0,   0,   0,   0,   0,   0,  39,\n        148, 229, 253, 253, 253, 250, 182,   0,   0,   0,   0,   0,   0,\n          0,   0],\n       [  0,   0,   0,   0,   0,   0,   0,   0,   0,   0,  24, 114, 221,\n        253, 253, 253, 253, 201,  78,   0,   0,   0,   0,   0,   0,   0,\n          0,   0],\n       [  0,   0,   0,   0,   0,   0,   0,   0,  23,  66, 213, 253, 253,\n        253, 253, 198,  81,   2,   0,   0,   0,   0,   0,   0,   0,   0,\n          0,   0],\n       [  0,   0,   0,   0,   0,   0,  18, 171, 219, 253, 253, 253, 253,\n        195,  80,   9,   0,   0,   0,   0,   0,   0,   0,   0,   0,   0,\n          0,   0],\n       [  0,   0,   0,   0,  55, 172, 226, 253, 253, 253, 253, 244, 133,\n         11,   0,   0,   0,   0,   0,   0,   0,   0,   0,   0,   0,   0,\n          0,   0],\n       [  0,   0,   0,   0, 136, 253, 253, 253, 212, 135, 132,  16,   0,\n          0,   0,   0,   0,   0,   0,   0,   0,   0,   0,   0,   0,   0,\n          0,   0],\n       [  0,   0,   0,   0,   0,   0,   0,   0,   0,   0,   0,   0,   0,\n          0,   0,   0,   0,   0,   0,   0,   0,   0,   0,   0,   0,   0,\n          0,   0],\n       [  0,   0,   0,   0,   0,   0,   0,   0,   0,   0,   0,   0,   0,\n          0,   0,   0,   0,   0,   0,   0,   0,   0,   0,   0,   0,   0,\n          0,   0],\n       [  0,   0,   0,   0,   0,   0,   0,   0,   0,   0,   0,   0,   0,\n          0,   0,   0,   0,   0,   0,   0,   0,   0,   0,   0,   0,   0,\n          0,   0]], dtype=uint8)"
     },
     "execution_count": 75,
     "metadata": {},
     "output_type": "execute_result"
    }
   ]
  },
  {
   "cell_type": "code",
   "metadata": {
    "cell_id": "00009-4b9ab674-9dc8-494d-9cbb-1cdd39da80b9",
    "deepnote_cell_type": "code",
    "deepnote_output_heights": [
     21
    ]
   },
   "source": "type(y_train)\n#训练标签的类型",
   "execution_count": null,
   "outputs": [
    {
     "data": {
      "text/plain": "numpy.ndarray"
     },
     "execution_count": 76,
     "metadata": {},
     "output_type": "execute_result"
    }
   ]
  },
  {
   "cell_type": "code",
   "metadata": {
    "cell_id": "00010-660e3319-1495-4242-8da3-bf91187f1bcb",
    "deepnote_cell_type": "code",
    "deepnote_output_heights": [
     21
    ]
   },
   "source": "y_train.shape\n#训练标签的维度",
   "execution_count": null,
   "outputs": [
    {
     "data": {
      "text/plain": "(60000,)"
     },
     "execution_count": 77,
     "metadata": {},
     "output_type": "execute_result"
    }
   ]
  },
  {
   "cell_type": "code",
   "metadata": {
    "cell_id": "00011-a267a1b0-518a-4fbb-8e7b-d4b2b05d88e4",
    "deepnote_cell_type": "code",
    "deepnote_output_heights": [
     21
    ]
   },
   "source": "y_train\n#看看训练标签",
   "execution_count": null,
   "outputs": [
    {
     "data": {
      "text/plain": "array([5, 0, 4, ..., 5, 6, 8], dtype=uint8)"
     },
     "execution_count": 78,
     "metadata": {},
     "output_type": "execute_result"
    }
   ]
  },
  {
   "cell_type": "code",
   "metadata": {
    "cell_id": "00012-34bb0ae3-707a-481d-818b-9617f59cfe2a",
    "deepnote_cell_type": "code",
    "deepnote_output_heights": [
     21
    ]
   },
   "source": "y_train[0]\n#第一个训练标签是数字5",
   "execution_count": null,
   "outputs": [
    {
     "data": {
      "text/plain": "5"
     },
     "execution_count": 79,
     "metadata": {},
     "output_type": "execute_result"
    }
   ]
  },
  {
   "cell_type": "code",
   "metadata": {
    "cell_id": "00013-3a9bd641-a7c7-4711-aa9a-36bcd32f46b2",
    "deepnote_cell_type": "code"
   },
   "source": "显示一张图像",
   "execution_count": null,
   "outputs": []
  },
  {
   "cell_type": "code",
   "metadata": {
    "cell_id": "00014-42e346c8-05c4-4a89-833b-5196d4254990",
    "deepnote_cell_type": "code",
    "deepnote_output_heights": [
     254
    ]
   },
   "source": "import numpy as np\nimport matplotlib.pyplot as plt\nplt.figure()\nplt.imshow(x_train[1])#在这里修改是第几个图像\nplt.colorbar()\nplt.grid(False)\nplt.show()",
   "execution_count": null,
   "outputs": [
    {
     "data": {
      "image/png": "[encoded data removed]",
      "text/plain": "<Figure size 432x288 with 2 Axes>"
     },
     "metadata": {
      "needs_background": "light",
      "image/png": {
       "width": 302,
       "height": 252
      }
     },
     "output_type": "display_data"
    }
   ]
  },
  {
   "cell_type": "code",
   "metadata": {
    "cell_id": "00015-0257d6e3-55fd-4367-9235-2fee60211ea5",
    "deepnote_cell_type": "code",
    "deepnote_output_heights": [
     574
    ]
   },
   "source": "plt.figure(figsize=(10,10))\nfor i in range(25):\n    plt.subplot(5,5,i+1)\n    plt.xticks([])\n    plt.yticks([])\n    plt.grid(False)\n    plt.imshow(x_train[i+10], cmap=plt.cm.binary)\n    plt.xlabel(y_train[i+10])#在这里修改是哪25张图\nplt.show()",
   "execution_count": null,
   "outputs": [
    {
     "data": {
      "image/png": "[encoded data removed]",
      "text/plain": "<Figure size 720x720 with 25 Axes>"
     },
     "metadata": {
      "image/png": {
       "width": 573,
       "height": 572
      }
     },
     "output_type": "display_data"
    }
   ]
  },
  {
   "cell_type": "code",
   "metadata": {
    "cell_id": "00016-bdb9d8f4-f8f7-443d-8eac-d021c270e875",
    "deepnote_cell_type": "code"
   },
   "source": "图像数据归一化到0-1",
   "execution_count": null,
   "outputs": []
  },
  {
   "cell_type": "code",
   "metadata": {
    "cell_id": "00017-6290958d-f0d8-4166-a620-41e4c22cbd90",
    "deepnote_cell_type": "code"
   },
   "source": "x_train, x_test = x_train / 255.0, x_test / 255.0",
   "execution_count": null,
   "outputs": []
  },
  {
   "cell_type": "code",
   "metadata": {
    "cell_id": "00018-110f67e6-7668-43be-9801-5f541ab4e9c0",
    "deepnote_cell_type": "code"
   },
   "source": "构建序列模型",
   "execution_count": null,
   "outputs": []
  },
  {
   "cell_type": "code",
   "metadata": {
    "cell_id": "00019-bccb006d-c8b7-4e90-8228-c7439ac54ec8",
    "deepnote_cell_type": "code"
   },
   "source": "model = tf.keras.models.Sequential([\n  tf.keras.layers.Flatten(input_shape=(28, 28)),\n  tf.keras.layers.Dense(128, activation='relu'),\n  tf.keras.layers.Dropout(0.2),\n  tf.keras.layers.Dense(10, activation='softmax')\n])\n#mnist",
   "execution_count": null,
   "outputs": []
  },
  {
   "cell_type": "code",
   "metadata": {
    "cell_id": "00020-67044667-c8ca-46e0-9437-8ac68d9d5ad6",
    "deepnote_cell_type": "code"
   },
   "source": "x_train = x_train.reshape(x_train.shape[0], 28, 28, 1).astype('float32')\nx_test = x_test.reshape(x_test.shape[0], 28, 28, 1).astype('float32')\n#卷积神经网络输入从三维改到四维",
   "execution_count": null,
   "outputs": []
  },
  {
   "cell_type": "code",
   "metadata": {
    "cell_id": "00021-1d7c07cf-0a1b-4716-ac1e-4a3b1e7a1131",
    "deepnote_cell_type": "code"
   },
   "source": "#卷积神经网络\nmodel = tf.keras.models.Sequential()\nmodel.add(tf.keras.layers.Conv2D(8, (5, 5), padding='same', activation='relu', input_shape=(28, 28, 1)))\nmodel.add(tf.keras.layers.MaxPooling2D((2, 2)))\nmodel.add(tf.keras.layers.Conv2D(16, (5, 5), padding='same', activation='relu'))\nmodel.add(tf.keras.layers.MaxPooling2D((2, 2)))\nmodel.add(tf.keras.layers.Flatten())\nmodel.add(tf.keras.layers.Dense(128, activation='relu'))\nmodel.add(tf.keras.layers.Dropout(0.25))\nmodel.add(tf.keras.layers.Dense(10, activation='softmax'))\n#卷积神经网络",
   "execution_count": null,
   "outputs": []
  },
  {
   "cell_type": "code",
   "metadata": {
    "cell_id": "00022-aa40720b-6d90-4b4e-a63f-ccad1e124554",
    "deepnote_cell_type": "code"
   },
   "source": "编译模型",
   "execution_count": null,
   "outputs": []
  },
  {
   "cell_type": "code",
   "metadata": {
    "cell_id": "00023-658bfc0b-9948-494e-813d-7478fc67e449",
    "deepnote_cell_type": "code"
   },
   "source": "model.compile(optimizer='adam',\n              loss='sparse_categorical_crossentropy',\n              metrics=['accuracy'])\n#mnist",
   "execution_count": null,
   "outputs": []
  },
  {
   "cell_type": "code",
   "metadata": {
    "cell_id": "00024-293c5ec1-05d9-44f3-b546-b9542fac9d4c",
    "deepnote_cell_type": "code"
   },
   "source": "训练模型",
   "execution_count": null,
   "outputs": []
  },
  {
   "cell_type": "code",
   "metadata": {
    "cell_id": "00025-3b8bfa05-5b96-41da-b986-79190ee3df64",
    "deepnote_cell_type": "code",
    "deepnote_output_heights": [
     null,
     21
    ]
   },
   "source": "model.fit(x_train, y_train, epochs=10)",
   "execution_count": null,
   "outputs": [
    {
     "name": "stdout",
     "output_type": "stream",
     "text": "Epoch 1/10\n1875/1875 [==============================] - 17s 9ms/step - loss: 0.0526 - accuracy: 0.9835\nEpoch 2/10\n1875/1875 [==============================] - 17s 9ms/step - loss: 0.0323 - accuracy: 0.9899\nEpoch 3/10\n1875/1875 [==============================] - 17s 9ms/step - loss: 0.0249 - accuracy: 0.9921\nEpoch 4/10\n1875/1875 [==============================] - 17s 9ms/step - loss: 0.0208 - accuracy: 0.9934\nEpoch 5/10\n1875/1875 [==============================] - 18s 9ms/step - loss: 0.0163 - accuracy: 0.9948\nEpoch 6/10\n1875/1875 [==============================] - 17s 9ms/step - loss: 0.0129 - accuracy: 0.9957\nEpoch 7/10\n1875/1875 [==============================] - 17s 9ms/step - loss: 0.0122 - accuracy: 0.9960\nEpoch 8/10\n1875/1875 [==============================] - 17s 9ms/step - loss: 0.0093 - accuracy: 0.9968\nEpoch 9/10\n1875/1875 [==============================] - 17s 9ms/step - loss: 0.0086 - accuracy: 0.9971\nEpoch 10/10\n1875/1875 [==============================] - 17s 9ms/step - loss: 0.0079 - accuracy: 0.9973\n"
    },
    {
     "data": {
      "text/plain": "<tensorflow.python.keras.callbacks.History at 0x1c4571ad1f0>"
     },
     "execution_count": 139,
     "metadata": {},
     "output_type": "execute_result"
    }
   ]
  },
  {
   "cell_type": "code",
   "metadata": {
    "cell_id": "00026-f1480f7b-98a7-4510-9ba0-058c5d7b83da",
    "deepnote_cell_type": "code",
    "deepnote_output_heights": [
     null,
     21
    ]
   },
   "source": "#卷积神经网络\nmodel.fit(x_train, y_train, validation_split=0.2,\n                    epochs=10, batch_size=200, verbose=2)",
   "execution_count": null,
   "outputs": [
    {
     "name": "stdout",
     "output_type": "stream",
     "text": "Epoch 1/10\n240/240 - 11s - loss: 0.3853 - accuracy: 0.8875 - val_loss: 0.1286 - val_accuracy: 0.9618\nEpoch 2/10\n240/240 - 11s - loss: 0.1087 - accuracy: 0.9673 - val_loss: 0.0818 - val_accuracy: 0.9749\nEpoch 3/10\n240/240 - 12s - loss: 0.0746 - accuracy: 0.9778 - val_loss: 0.0721 - val_accuracy: 0.9767\nEpoch 4/10\n240/240 - 11s - loss: 0.0593 - accuracy: 0.9820 - val_loss: 0.0553 - val_accuracy: 0.9837\nEpoch 5/10\n240/240 - 10s - loss: 0.0493 - accuracy: 0.9845 - val_loss: 0.0517 - val_accuracy: 0.9847\nEpoch 6/10\n240/240 - 10s - loss: 0.0416 - accuracy: 0.9870 - val_loss: 0.0472 - val_accuracy: 0.9864\nEpoch 7/10\n240/240 - 10s - loss: 0.0339 - accuracy: 0.9898 - val_loss: 0.0487 - val_accuracy: 0.9852\nEpoch 8/10\n240/240 - 11s - loss: 0.0321 - accuracy: 0.9901 - val_loss: 0.0452 - val_accuracy: 0.9870\nEpoch 9/10\n240/240 - 11s - loss: 0.0261 - accuracy: 0.9918 - val_loss: 0.0531 - val_accuracy: 0.9843\nEpoch 10/10\n240/240 - 10s - loss: 0.0236 - accuracy: 0.9924 - val_loss: 0.0458 - val_accuracy: 0.9879\n"
    },
    {
     "data": {
      "text/plain": "<tensorflow.python.keras.callbacks.History at 0x1c458488fa0>"
     },
     "execution_count": 137,
     "metadata": {},
     "output_type": "execute_result"
    }
   ]
  },
  {
   "cell_type": "code",
   "metadata": {
    "cell_id": "00027-1cfd9a5d-dfe6-48be-87fa-b20d00eaf37d",
    "deepnote_cell_type": "code"
   },
   "source": "验证测试模型",
   "execution_count": null,
   "outputs": []
  },
  {
   "cell_type": "code",
   "metadata": {
    "cell_id": "00028-cc50c258-a1b4-4c76-b72f-f863c2ffe800",
    "deepnote_cell_type": "code",
    "deepnote_output_heights": [
     null,
     21
    ]
   },
   "source": "model.evaluate(x_test,  y_test, verbose=2)",
   "execution_count": null,
   "outputs": [
    {
     "name": "stdout",
     "output_type": "stream",
     "text": "313/313 - 1s - loss: 0.0363 - accuracy: 0.9910\n"
    },
    {
     "data": {
      "text/plain": "[0.03625590354204178, 0.9909999966621399]"
     },
     "execution_count": 140,
     "metadata": {},
     "output_type": "execute_result"
    }
   ]
  },
  {
   "cell_type": "code",
   "metadata": {
    "cell_id": "00029-47105bbc-11b8-4c5b-9cd4-624f65013cb5",
    "deepnote_cell_type": "code",
    "deepnote_output_heights": [
     21
    ]
   },
   "source": "y_test[0]\n#第一张测试图像是7",
   "execution_count": null,
   "outputs": [
    {
     "data": {
      "text/plain": "7"
     },
     "execution_count": 87,
     "metadata": {},
     "output_type": "execute_result"
    }
   ]
  },
  {
   "cell_type": "code",
   "metadata": {
    "cell_id": "00030-3e598233-d78b-4e5c-b1a2-ba9165841e40",
    "deepnote_cell_type": "code"
   },
   "source": "predictions = model.predict(x_test)\n#获取整个测试集的预测结果集",
   "execution_count": null,
   "outputs": []
  },
  {
   "cell_type": "code",
   "metadata": {
    "cell_id": "00031-16d12f4b-8a17-4592-aa07-2d64c5c8f378",
    "deepnote_cell_type": "code",
    "deepnote_output_heights": [
     59
    ]
   },
   "source": "predictions[0]\n#看看第一个预测结果，第7个值是1",
   "execution_count": null,
   "outputs": [
    {
     "data": {
      "text/plain": "array([4.8201536e-09, 6.0260832e-09, 9.7660086e-06, 7.0423710e-05,\n       8.6156846e-12, 2.2726979e-08, 2.1170571e-13, 9.9991918e-01,\n       2.1494174e-08, 5.9570476e-07], dtype=float32)"
     },
     "execution_count": 89,
     "metadata": {},
     "output_type": "execute_result"
    }
   ]
  },
  {
   "cell_type": "code",
   "metadata": {
    "cell_id": "00032-0e143d90-b8b4-4797-b441-d7723421cec6",
    "deepnote_cell_type": "code",
    "deepnote_output_heights": [
     21
    ]
   },
   "source": "np.argmax(predictions[0])\n#在第一个预测结果中求最大值，是第7，和测试图像对上了",
   "execution_count": null,
   "outputs": [
    {
     "data": {
      "text/plain": "7"
     },
     "execution_count": 90,
     "metadata": {},
     "output_type": "execute_result"
    }
   ]
  },
  {
   "cell_type": "code",
   "metadata": {
    "cell_id": "00033-e94edc8c-1522-4342-a47b-ff4a519f0fb0",
    "deepnote_cell_type": "code"
   },
   "source": "def plot_image(i, predictions_array, true_label, img):\n  predictions_array, true_label, img = predictions_array, true_label[i], img[i]\n  plt.grid(False)\n  plt.xticks([])\n  plt.yticks([])\n\n  plt.imshow(img, cmap=plt.cm.binary)\n\n  predicted_label = np.argmax(predictions_array)\n  if predicted_label == true_label:\n    color = 'blue'\n  else:\n    color = 'red'\n\n  plt.xlabel(\"{} {:2.0f}% ({})\".format(predicted_label,\n                                100*np.max(predictions_array),\n                                true_label),\n                                color=color)\n\ndef plot_value_array(i, predictions_array, true_label):\n  predictions_array, true_label = predictions_array, true_label[i]\n  plt.grid(False)\n  plt.xticks(range(10))\n  plt.yticks([])\n  thisplot = plt.bar(range(10), predictions_array, color=\"#777777\")\n  plt.ylim([0, 1])\n  predicted_label = np.argmax(predictions_array)\n\n  thisplot[predicted_label].set_color('red')\n  thisplot[true_label].set_color('blue')",
   "execution_count": null,
   "outputs": []
  },
  {
   "cell_type": "code",
   "metadata": {
    "cell_id": "00034-41ffd357-9588-4064-9f53-c2823dc04d00",
    "deepnote_cell_type": "code",
    "deepnote_output_heights": [
     196
    ]
   },
   "source": "i = 4 \n#看第几个图像的结果就修改成几\nplt.figure(figsize=(6,3))\nplt.subplot(1,2,1)\nplot_image(i, predictions[i], y_test, x_test)\nplt.subplot(1,2,2)\nplot_value_array(i, predictions[i],  y_test)\nplt.show()",
   "execution_count": null,
   "outputs": [
    {
     "data": {
      "image/png": "[encoded data removed]",
      "text/plain": "<Figure size 432x216 with 2 Axes>"
     },
     "metadata": {
      "needs_background": "light",
      "image/png": {
       "width": 352,
       "height": 194
      }
     },
     "output_type": "display_data"
    }
   ]
  },
  {
   "cell_type": "code",
   "metadata": {
    "cell_id": "00035-b924dd0d-449a-4ca2-9a00-01066a376f38",
    "deepnote_cell_type": "code",
    "deepnote_output_heights": [
     611
    ]
   },
   "source": "# Plot the first X test images, their predicted labels, and the true labels.\n# Color correct predictions in blue and incorrect predictions in red.\nnum_rows = 5\nnum_cols = 3\nnum_images = num_rows*num_cols\nplt.figure(figsize=(2*2*num_cols, 2*num_rows))\nfor i in range(num_images):\n  plt.subplot(num_rows, 2*num_cols, 2*i+1)\n  plot_image(i+10, predictions[i+10], y_test, x_test)#可以修改下标\n  plt.subplot(num_rows, 2*num_cols, 2*i+2)\n  plot_value_array(i+10, predictions[i+10], y_test)#可以修改下标\nplt.tight_layout()\nplt.show()",
   "execution_count": null,
   "outputs": [
    {
     "data": {
      "image/png": "[encoded data removed]",
      "text/plain": "<Figure size 864x720 with 30 Axes>"
     },
     "metadata": {
      "needs_background": "light",
      "image/png": {
       "width": 850,
       "height": 712
      }
     },
     "output_type": "display_data"
    }
   ]
  },
  {
   "cell_type": "code",
   "metadata": {
    "cell_id": "00036-3275a06c-62fc-4757-bd18-d65cb4b577c9",
    "deepnote_cell_type": "code",
    "deepnote_output_heights": [
     21
    ]
   },
   "source": "x_test[0].shape",
   "execution_count": null,
   "outputs": [
    {
     "data": {
      "text/plain": "(28, 28)"
     },
     "execution_count": 94,
     "metadata": {},
     "output_type": "execute_result"
    }
   ]
  },
  {
   "cell_type": "code",
   "metadata": {
    "cell_id": "00037-c466ac38-bec9-410f-a652-c5f0676eacff",
    "deepnote_cell_type": "code",
    "deepnote_output_heights": [
     21
    ]
   },
   "source": "img = (np.expand_dims(x_test[0],0))\nimg.shape\n#预测单张图像也要构建一个集合",
   "execution_count": null,
   "outputs": [
    {
     "data": {
      "text/plain": "(1, 28, 28)"
     },
     "execution_count": 95,
     "metadata": {},
     "output_type": "execute_result"
    }
   ]
  },
  {
   "cell_type": "code",
   "metadata": {
    "cell_id": "00038-2b51ab86-b834-4900-a770-a7be4c761dd7",
    "deepnote_cell_type": "code",
    "deepnote_output_heights": [
     59
    ]
   },
   "source": "predictions = model.predict(img)\npredictions",
   "execution_count": null,
   "outputs": [
    {
     "data": {
      "text/plain": "array([[4.8201629e-09, 6.0260947e-09, 9.7660268e-06, 7.0423710e-05,\n        8.6157010e-12, 2.2726979e-08, 2.1170571e-13, 9.9991918e-01,\n        2.1494214e-08, 5.9570533e-07]], dtype=float32)"
     },
     "execution_count": 96,
     "metadata": {},
     "output_type": "execute_result"
    }
   ]
  },
  {
   "cell_type": "code",
   "metadata": {
    "cell_id": "00039-f1d10c3d-218b-45b7-aa97-bee2698b03ca",
    "deepnote_cell_type": "code",
    "deepnote_output_heights": [
     21
    ]
   },
   "source": "y_test[0]",
   "execution_count": null,
   "outputs": [
    {
     "data": {
      "text/plain": "7"
     },
     "execution_count": 97,
     "metadata": {},
     "output_type": "execute_result"
    }
   ]
  },
  {
   "cell_type": "code",
   "metadata": {
    "cell_id": "00040-7353f109-15f9-4a1d-9f9a-27a893d68649",
    "deepnote_cell_type": "code",
    "deepnote_output_heights": [
     21
    ]
   },
   "source": "np.argmax(predictions[0])",
   "execution_count": null,
   "outputs": [
    {
     "data": {
      "text/plain": "7"
     },
     "execution_count": 98,
     "metadata": {},
     "output_type": "execute_result"
    }
   ]
  },
  {
   "cell_type": "code",
   "metadata": {
    "cell_id": "00041-4aa2e50d-d2d5-4d8d-8009-81cd35750d12",
    "deepnote_cell_type": "code",
    "deepnote_output_heights": [
     250
    ]
   },
   "source": "plot_value_array(0, predictions[0], y_test)",
   "execution_count": null,
   "outputs": [
    {
     "data": {
      "image/png": "[encoded data removed]",
      "text/plain": "<Figure size 432x288 with 1 Axes>"
     },
     "metadata": {
      "needs_background": "light",
      "image/png": {
       "width": 352,
       "height": 248
      }
     },
     "output_type": "display_data"
    }
   ]
  },
  {
   "cell_type": "code",
   "metadata": {
    "cell_id": "00042-be51e921-024f-4575-b5b8-d482100f6f76",
    "deepnote_cell_type": "code"
   },
   "source": "保存模型",
   "execution_count": null,
   "outputs": []
  },
  {
   "cell_type": "code",
   "metadata": {
    "cell_id": "00043-acd7d726-70e8-4869-995d-9d0dafabf8f5",
    "deepnote_cell_type": "code"
   },
   "source": "#看看模型的结构\nmodel.summary()",
   "execution_count": null,
   "outputs": [
    {
     "name": "stdout",
     "output_type": "stream",
     "text": "Model: \"sequential_1\"\n_________________________________________________________________\nLayer (type)                 Output Shape              Param #   \n=================================================================\nflatten_1 (Flatten)          (None, 784)               0         \n_________________________________________________________________\ndense_2 (Dense)              (None, 128)               100480    \n_________________________________________________________________\ndropout_1 (Dropout)          (None, 128)               0         \n_________________________________________________________________\ndense_3 (Dense)              (None, 10)                1290      \n=================================================================\nTotal params: 101,770\nTrainable params: 101,770\nNon-trainable params: 0\n_________________________________________________________________\n"
    }
   ]
  },
  {
   "cell_type": "code",
   "metadata": {
    "cell_id": "00044-45102fa4-5763-45e3-b5b1-39bf02ff9a95",
    "deepnote_cell_type": "code"
   },
   "source": "model.save_weights('./checkpoints/my_checkpoint')#只保存权重",
   "execution_count": null,
   "outputs": []
  },
  {
   "cell_type": "code",
   "metadata": {
    "cell_id": "00045-0e453dda-53e3-49e4-94ec-21e5a1f14d1e",
    "deepnote_cell_type": "code"
   },
   "source": "model.save('saved_model/my_model')#保存整个模型",
   "execution_count": null,
   "outputs": [
    {
     "name": "stdout",
     "output_type": "stream",
     "text": "INFO:tensorflow:Assets written to: saved_model/my_model\\assets\n"
    }
   ]
  },
  {
   "cell_type": "code",
   "metadata": {
    "cell_id": "00046-ab524d30-e735-4837-bdee-2603ce6058e1",
    "deepnote_cell_type": "code"
   },
   "source": "加载模型",
   "execution_count": null,
   "outputs": []
  },
  {
   "cell_type": "code",
   "metadata": {
    "cell_id": "00047-08a19028-a3a7-409f-aea6-80ea7b81b9a2",
    "deepnote_cell_type": "code"
   },
   "source": "#重新建立一个相同的model2\nmodel2 = tf.keras.models.Sequential([\n  tf.keras.layers.Flatten(input_shape=(28, 28)),\n  tf.keras.layers.Dense(128, activation='relu'),\n  tf.keras.layers.Dropout(0.2),\n  tf.keras.layers.Dense(10, activation='softmax')\n])\nmodel2.compile(optimizer='adam',\n              loss='sparse_categorical_crossentropy',\n              metrics=['accuracy'])",
   "execution_count": null,
   "outputs": []
  },
  {
   "cell_type": "code",
   "metadata": {
    "cell_id": "00048-4ee26053-4bb3-4d0e-854c-9ce50ac38946",
    "deepnote_cell_type": "code",
    "deepnote_output_heights": [
     null,
     21
    ]
   },
   "source": "#新建模型测试应该是0\nmodel2.evaluate(x_test,  y_test, verbose=2)",
   "execution_count": null,
   "outputs": [
    {
     "name": "stdout",
     "output_type": "stream",
     "text": "313/313 - 0s - loss: 2.4410 - accuracy: 0.1057\n"
    },
    {
     "data": {
      "text/plain": "[2.4409584999084473, 0.10570000112056732]"
     },
     "execution_count": 108,
     "metadata": {},
     "output_type": "execute_result"
    }
   ]
  },
  {
   "cell_type": "code",
   "metadata": {
    "cell_id": "00049-152f3b7b-1eab-4f39-874c-6d7b42083a0e",
    "deepnote_cell_type": "code",
    "deepnote_output_heights": [
     21
    ]
   },
   "source": "model2.load_weights('./checkpoints/my_checkpoint')",
   "execution_count": null,
   "outputs": [
    {
     "data": {
      "text/plain": "<tensorflow.python.training.tracking.util.CheckpointLoadStatus at 0x1c4584942b0>"
     },
     "execution_count": 109,
     "metadata": {},
     "output_type": "execute_result"
    }
   ]
  },
  {
   "cell_type": "code",
   "metadata": {
    "cell_id": "00050-12640538-4ff4-42c0-b4c4-24021e9275e8",
    "deepnote_cell_type": "code",
    "deepnote_output_heights": [
     null,
     21
    ]
   },
   "source": "#载入模型后再测试就是97%\nmodel2.evaluate(x_test,  y_test, verbose=2)",
   "execution_count": null,
   "outputs": [
    {
     "name": "stdout",
     "output_type": "stream",
     "text": "313/313 - 0s - loss: 0.0721 - accuracy: 0.9781\n"
    },
    {
     "data": {
      "text/plain": "[0.07210680842399597, 0.9781000018119812]"
     },
     "execution_count": 110,
     "metadata": {},
     "output_type": "execute_result"
    }
   ]
  },
  {
   "cell_type": "code",
   "metadata": {
    "cell_id": "00051-1d2271d0-2a48-466f-8f7e-416758d5de37",
    "deepnote_cell_type": "code"
   },
   "source": "model3 = tf.keras.models.load_model('saved_model/my_model')#直接加载新建整个模型",
   "execution_count": null,
   "outputs": []
  },
  {
   "cell_type": "code",
   "metadata": {
    "cell_id": "00052-528172e0-95c3-4158-9962-c326c3b94a60",
    "deepnote_cell_type": "code",
    "deepnote_output_heights": [
     null,
     21
    ]
   },
   "source": "model3.evaluate(x_test,  y_test, verbose=2)",
   "execution_count": null,
   "outputs": [
    {
     "name": "stdout",
     "output_type": "stream",
     "text": "313/313 - 0s - loss: 0.0721 - accuracy: 0.9781\n"
    },
    {
     "data": {
      "text/plain": "[0.07210680842399597, 0.9781000018119812]"
     },
     "execution_count": 113,
     "metadata": {},
     "output_type": "execute_result"
    }
   ]
  },
  {
   "cell_type": "code",
   "metadata": {
    "cell_id": "00053-75faca99-7466-4e3b-a739-27a31317bc4b",
    "deepnote_cell_type": "code"
   },
   "source": "model3.summary()",
   "execution_count": null,
   "outputs": [
    {
     "name": "stdout",
     "output_type": "stream",
     "text": "Model: \"sequential_1\"\n_________________________________________________________________\nLayer (type)                 Output Shape              Param #   \n=================================================================\nflatten_1 (Flatten)          (None, 784)               0         \n_________________________________________________________________\ndense_2 (Dense)              (None, 128)               100480    \n_________________________________________________________________\ndropout_1 (Dropout)          (None, 128)               0         \n_________________________________________________________________\ndense_3 (Dense)              (None, 10)                1290      \n=================================================================\nTotal params: 101,770\nTrainable params: 101,770\nNon-trainable params: 0\n_________________________________________________________________\n"
    }
   ]
  },
  {
   "cell_type": "code",
   "metadata": {
    "cell_id": "00054-2ea7fee9-e028-42bb-8e71-fb8f14c482b5",
    "deepnote_cell_type": "code"
   },
   "source": "",
   "execution_count": null,
   "outputs": []
  },
  {
   "cell_type": "markdown",
   "source": "<a style='text-decoration:none;line-height:16px;display:flex;color:#5B5B62;padding:10px;justify-content:end;' href='https://deepnote.com?utm_source=created-in-deepnote-cell&projectId=5292883e-50a7-4f1d-9f12-778c1d6da182' target=\"_blank\">\n<img alt='Created in deepnote.com' style='display:inline;max-height:16px;margin:0px;margin-right:7.5px;' src='data:image/svg+xml;base64,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' > </img>\nCreated in <span style='font-weight:600;margin-left:4px;'>Deepnote</span></a>",
   "metadata": {
    "tags": [],
    "created_in_deepnote_cell": true,
    "deepnote_cell_type": "markdown"
   }
  }
 ],
 "nbformat": 4,
 "nbformat_minor": 5,
 "metadata": {
  "kernelspec": {
   "display_name": "Python 3",
   "language": "python",
   "name": "python3"
  },
  "language_info": {
   "codemirror_mode": {
    "name": "ipython",
    "version": 3
   },
   "file_extension": ".py",
   "mimetype": "text/x-python",
   "name": "python",
   "nbconvert_exporter": "python",
   "pygments_lexer": "ipython3",
   "version": "3.8.10"
  },
  "deepnote_notebook_id": "96f85f85-465b-4cd7-8b2d-a72f94d204a3",
  "deepnote": {},
  "deepnote_execution_queue": []
 }
}