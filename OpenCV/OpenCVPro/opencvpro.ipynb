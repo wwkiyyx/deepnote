{
 "cells": [
  {
   "cell_type": "code",
   "metadata": {
    "tags": [],
    "cell_id": "470c8c69-de9a-41af-89fd-1c225e75753b",
    "deepnote_to_be_reexecuted": false,
    "source_hash": "9cc8741",
    "execution_start": 1645693326049,
    "execution_millis": 3897,
    "deepnote_cell_type": "code",
    "deepnote_cell_height": 157.1875
   },
   "source": "!pip install --upgrade pip",
   "execution_count": null,
   "outputs": [
    {
     "name": "stdout",
     "text": "Requirement already satisfied: pip in /root/venv/lib/python3.8/site-packages (22.0.3)\r\n",
     "output_type": "stream"
    }
   ]
  },
  {
   "cell_type": "code",
   "metadata": {
    "cell_id": "e3f52bb8-d669-4636-aebf-3854b8def538",
    "tags": [],
    "deepnote_to_be_reexecuted": false,
    "source_hash": "8f624a33",
    "execution_start": 1645693416471,
    "execution_millis": 4207,
    "deepnote_cell_type": "code",
    "deepnote_cell_height": 157.1875
   },
   "source": "!pip install --upgrade wheel",
   "execution_count": null,
   "outputs": [
    {
     "name": "stdout",
     "text": "Requirement already satisfied: wheel in /root/venv/lib/python3.8/site-packages (0.37.1)\r\n",
     "output_type": "stream"
    }
   ]
  },
  {
   "cell_type": "code",
   "metadata": {
    "cell_id": "5f2c19bf-2205-4097-964e-de32a356b6d5",
    "tags": [],
    "deepnote_to_be_reexecuted": false,
    "source_hash": "80e51044",
    "execution_start": 1645693453298,
    "execution_millis": 4309,
    "deepnote_cell_type": "code",
    "deepnote_cell_height": 157.1875
   },
   "source": "!pip install --upgrade setuptools",
   "execution_count": null,
   "outputs": [
    {
     "name": "stdout",
     "text": "Requirement already satisfied: setuptools in /root/venv/lib/python3.8/site-packages (60.9.3)\r\n",
     "output_type": "stream"
    }
   ]
  },
  {
   "cell_type": "markdown",
   "source": "packaging_tutorial/\n└── src/\n    └── example_package/\n        ├── __init__.py\n        └── example.py",
   "metadata": {
    "cell_id": "427d8f5a-2bc4-4ad5-93d5-d7aa59260b2f",
    "tags": [],
    "is_collapsed": false,
    "deepnote_cell_type": "text-cell-p",
    "deepnote_cell_height": 141.953125
   }
  },
  {
   "cell_type": "markdown",
   "source": "packaging_tutorial/\n├── LICENSE\n├── pyproject.toml\n├── README.md\n├── setup.cfg\n├── src/\n│&nbsp;&nbsp; └── example_package/\n│&nbsp;&nbsp;     ├── __init__.py\n│&nbsp;&nbsp;     └── example.py\n└── tests/",
   "metadata": {
    "cell_id": "4a0b510f-112a-4a81-8c7a-41fc7bac3ea1",
    "tags": [],
    "is_collapsed": false,
    "deepnote_cell_type": "text-cell-p",
    "deepnote_cell_height": 253.90625
   }
  },
  {
   "cell_type": "code",
   "metadata": {
    "cell_id": "991c101d-048d-4c7e-8304-cfdbc2d652d1",
    "tags": [],
    "deepnote_to_be_reexecuted": false,
    "source_hash": "319dc7fe",
    "execution_start": 1645694265310,
    "execution_millis": 4118,
    "deepnote_cell_type": "code",
    "deepnote_cell_height": 237.9375
   },
   "source": "!pip install --upgrade build",
   "execution_count": null,
   "outputs": [
    {
     "name": "stdout",
     "text": "Requirement already satisfied: build in /root/venv/lib/python3.8/site-packages (0.7.0)\nRequirement already satisfied: packaging>=19.0 in /shared-libs/python3.8/py-core/lib/python3.8/site-packages (from build) (21.3)\nRequirement already satisfied: pep517>=0.9.1 in /root/venv/lib/python3.8/site-packages (from build) (0.12.0)\nRequirement already satisfied: tomli>=1.0.0 in /shared-libs/python3.8/py/lib/python3.8/site-packages (from build) (2.0.1)\nRequirement already satisfied: pyparsing!=3.0.5,>=2.0.2 in /shared-libs/python3.8/py-core/lib/python3.8/site-packages (from packaging>=19.0->build) (3.0.7)\n",
     "output_type": "stream"
    }
   ]
  },
  {
   "cell_type": "code",
   "metadata": {
    "cell_id": "a7043016-5818-4868-939c-6a4712d8be9f",
    "tags": [],
    "deepnote_to_be_reexecuted": false,
    "source_hash": "fcb5589d",
    "execution_start": 1645694381217,
    "execution_millis": 3748,
    "deepnote_cell_type": "code",
    "deepnote_cell_height": 701
   },
   "source": "!cd opencvpro && python setup.py sdist bdist_wheel",
   "execution_count": null,
   "outputs": [
    {
     "name": "stdout",
     "text": "running sdist\nrunning egg_info\ncreating src/opencvpro.egg-info\nwriting src/opencvpro.egg-info/PKG-INFO\nwriting dependency_links to src/opencvpro.egg-info/dependency_links.txt\nwriting top-level names to src/opencvpro.egg-info/top_level.txt\nwriting manifest file 'src/opencvpro.egg-info/SOURCES.txt'\nreading manifest file 'src/opencvpro.egg-info/SOURCES.txt'\nadding license file 'LICENSE'\nwriting manifest file 'src/opencvpro.egg-info/SOURCES.txt'\nrunning check\ncreating opencvpro-0.0.1\ncreating opencvpro-0.0.1/src\ncreating opencvpro-0.0.1/src/opencvpro\ncreating opencvpro-0.0.1/src/opencvpro.egg-info\ncopying files to opencvpro-0.0.1...\ncopying LICENSE -> opencvpro-0.0.1\ncopying README.md -> opencvpro-0.0.1\ncopying pyproject.toml -> opencvpro-0.0.1\ncopying setup.py -> opencvpro-0.0.1\ncopying src/opencvpro/__init__.py -> opencvpro-0.0.1/src/opencvpro\ncopying src/opencvpro/jupytercv.py -> opencvpro-0.0.1/src/opencvpro\ncopying src/opencvpro.egg-info/PKG-INFO -> opencvpro-0.0.1/src/opencvpro.egg-info\ncopying src/opencvpro.egg-info/SOURCES.txt -> opencvpro-0.0.1/src/opencvpro.egg-info\ncopying src/opencvpro.egg-info/dependency_links.txt -> opencvpro-0.0.1/src/opencvpro.egg-info\ncopying src/opencvpro.egg-info/top_level.txt -> opencvpro-0.0.1/src/opencvpro.egg-info\nWriting opencvpro-0.0.1/setup.cfg\ncreating dist\nCreating tar archive\nremoving 'opencvpro-0.0.1' (and everything under it)\nrunning bdist_wheel\nrunning build\nrunning build_py\ncreating build\ncreating build/lib\ncreating build/lib/opencvpro\ncopying src/opencvpro/jupytercv.py -> build/lib/opencvpro\ncopying src/opencvpro/__init__.py -> build/lib/opencvpro\n/root/venv/lib/python3.8/site-packages/setuptools/command/install.py:34: SetuptoolsDeprecationWarning: setup.py install is deprecated. Use build and pip and other standards-based tools.\n  warnings.warn(\ninstalling to build/bdist.linux-x86_64/wheel\nrunning install\nrunning install_lib\ncreating build/bdist.linux-x86_64\ncreating build/bdist.linux-x86_64/wheel\ncreating build/bdist.linux-x86_64/wheel/opencvpro\ncopying build/lib/opencvpro/jupytercv.py -> build/bdist.linux-x86_64/wheel/opencvpro\ncopying build/lib/opencvpro/__init__.py -> build/bdist.linux-x86_64/wheel/opencvpro\nrunning install_egg_info\nCopying src/opencvpro.egg-info to build/bdist.linux-x86_64/wheel/opencvpro-0.0.1-py3.8.egg-info\nrunning install_scripts\nadding license file \"LICENSE\" (matched pattern \"LICEN[CS]E*\")\ncreating build/bdist.linux-x86_64/wheel/opencvpro-0.0.1.dist-info/WHEEL\ncreating 'dist/opencvpro-0.0.1-py3-none-any.whl' and adding 'build/bdist.linux-x86_64/wheel' to it\nadding 'opencvpro/__init__.py'\nadding 'opencvpro/jupytercv.py'\nadding 'opencvpro-0.0.1.dist-info/LICENSE'\nadding 'opencvpro-0.0.1.dist-info/METADATA'\nadding 'opencvpro-0.0.1.dist-info/WHEEL'\nadding 'opencvpro-0.0.1.dist-info/top_level.txt'\nadding 'opencvpro-0.0.1.dist-info/RECORD'\nremoving build/bdist.linux-x86_64/wheel\n",
     "output_type": "stream"
    }
   ]
  },
  {
   "cell_type": "code",
   "metadata": {
    "cell_id": "1be89a19-6a44-4d36-aac5-f1f13452557d",
    "tags": [],
    "deepnote_to_be_reexecuted": false,
    "source_hash": "ad2dc726",
    "execution_start": 1645693473425,
    "execution_millis": 4939,
    "deepnote_cell_type": "code",
    "deepnote_cell_height": 746
   },
   "source": "!pip install twine",
   "execution_count": null,
   "outputs": [
    {
     "name": "stdout",
     "text": "Collecting twine\n  Downloading twine-3.8.0-py3-none-any.whl (36 kB)\nRequirement already satisfied: tqdm>=4.14 in /shared-libs/python3.8/py/lib/python3.8/site-packages (from twine) (4.62.3)\nCollecting keyring>=15.1\n  Downloading keyring-23.5.0-py3-none-any.whl (33 kB)\nRequirement already satisfied: importlib-metadata>=3.6 in /shared-libs/python3.8/py/lib/python3.8/site-packages (from twine) (4.11.0)\nCollecting colorama>=0.4.3\n  Downloading colorama-0.4.4-py2.py3-none-any.whl (16 kB)\nRequirement already satisfied: urllib3>=1.26.0 in /shared-libs/python3.8/py/lib/python3.8/site-packages (from twine) (1.26.8)\nCollecting readme-renderer>=21.0\n  Downloading readme_renderer-32.0-py3-none-any.whl (16 kB)\nCollecting requests-toolbelt!=0.9.0,>=0.8.0\n  Downloading requests_toolbelt-0.9.1-py2.py3-none-any.whl (54 kB)\n\u001b[2K     \u001b[90m━━━━━━━━━━━━━━━━━━━━━━━━━━━━━━━━━━━━━━━━\u001b[0m \u001b[32m54.3/54.3 KB\u001b[0m \u001b[31m3.1 MB/s\u001b[0m eta \u001b[36m0:00:00\u001b[0m\n\u001b[?25hCollecting pkginfo>=1.8.1\n  Downloading pkginfo-1.8.2-py2.py3-none-any.whl (26 kB)\nRequirement already satisfied: requests>=2.20 in /shared-libs/python3.8/py/lib/python3.8/site-packages (from twine) (2.27.1)\nCollecting rfc3986>=1.4.0\n  Downloading rfc3986-2.0.0-py2.py3-none-any.whl (31 kB)\nRequirement already satisfied: zipp>=0.5 in /shared-libs/python3.8/py/lib/python3.8/site-packages (from importlib-metadata>=3.6->twine) (3.7.0)\nCollecting SecretStorage>=3.2\n  Downloading SecretStorage-3.3.1-py3-none-any.whl (15 kB)\nCollecting jeepney>=0.4.2\n  Downloading jeepney-0.7.1-py3-none-any.whl (54 kB)\n\u001b[2K     \u001b[90m━━━━━━━━━━━━━━━━━━━━━━━━━━━━━━━━━━━━━━━━\u001b[0m \u001b[32m54.1/54.1 KB\u001b[0m \u001b[31m15.0 MB/s\u001b[0m eta \u001b[36m0:00:00\u001b[0m\n\u001b[?25hRequirement already satisfied: Pygments>=2.5.1 in /shared-libs/python3.8/py-core/lib/python3.8/site-packages (from readme-renderer>=21.0->twine) (2.11.2)\nRequirement already satisfied: docutils>=0.13.1 in /shared-libs/python3.8/py/lib/python3.8/site-packages (from readme-renderer>=21.0->twine) (0.17.1)\nRequirement already satisfied: bleach>=2.1.0 in /shared-libs/python3.8/py-core/lib/python3.8/site-packages (from readme-renderer>=21.0->twine) (4.1.0)\nRequirement already satisfied: certifi>=2017.4.17 in /shared-libs/python3.8/py/lib/python3.8/site-packages (from requests>=2.20->twine) (2021.10.8)\nRequirement already satisfied: charset-normalizer~=2.0.0 in /shared-libs/python3.8/py-core/lib/python3.8/site-packages (from requests>=2.20->twine) (2.0.12)\nRequirement already satisfied: idna<4,>=2.5 in /shared-libs/python3.8/py-core/lib/python3.8/site-packages (from requests>=2.20->twine) (3.3)\nRequirement already satisfied: six>=1.9.0 in /shared-libs/python3.8/py-core/lib/python3.8/site-packages (from bleach>=2.1.0->readme-renderer>=21.0->twine) (1.16.0)\nRequirement already satisfied: webencodings in /shared-libs/python3.8/py-core/lib/python3.8/site-packages (from bleach>=2.1.0->readme-renderer>=21.0->twine) (0.5.1)\nRequirement already satisfied: packaging in /shared-libs/python3.8/py-core/lib/python3.8/site-packages (from bleach>=2.1.0->readme-renderer>=21.0->twine) (21.3)\nRequirement already satisfied: cryptography>=2.0 in /shared-libs/python3.8/py/lib/python3.8/site-packages (from SecretStorage>=3.2->keyring>=15.1->twine) (36.0.1)\nRequirement already satisfied: cffi>=1.12 in /shared-libs/python3.8/py-core/lib/python3.8/site-packages (from cryptography>=2.0->SecretStorage>=3.2->keyring>=15.1->twine) (1.15.0)\nRequirement already satisfied: pyparsing!=3.0.5,>=2.0.2 in /shared-libs/python3.8/py-core/lib/python3.8/site-packages (from packaging->bleach>=2.1.0->readme-renderer>=21.0->twine) (3.0.7)\nRequirement already satisfied: pycparser in /shared-libs/python3.8/py-core/lib/python3.8/site-packages (from cffi>=1.12->cryptography>=2.0->SecretStorage>=3.2->keyring>=15.1->twine) (2.21)\nInstalling collected packages: pkginfo, rfc3986, jeepney, colorama, requests-toolbelt, SecretStorage, readme-renderer, keyring, twine\nSuccessfully installed SecretStorage-3.3.1 colorama-0.4.4 jeepney-0.7.1 keyring-23.5.0 pkginfo-1.8.2 readme-renderer-32.0 requests-toolbelt-0.9.1 rfc3986-2.0.0 twine-3.8.0\n",
     "output_type": "stream"
    }
   ]
  },
  {
   "cell_type": "code",
   "metadata": {
    "cell_id": "6b854b82-5176-49da-aa0b-72cf6653a618",
    "tags": [],
    "deepnote_to_be_reexecuted": false,
    "source_hash": "7e717888",
    "execution_start": 1645694467434,
    "execution_millis": 9871,
    "deepnote_cell_type": "code",
    "deepnote_cell_height": 697.625
   },
   "source": "!cd opencvpro && python -m twine upload dist/*",
   "execution_count": null,
   "outputs": [
    {
     "name": "stdout",
     "text": "Uploading distributions to https://upload.pypi.org/legacy/\nEnter your username: ^C\nTraceback (most recent call last):\n  File \"/usr/local/lib/python3.8/runpy.py\", line 194, in _run_module_as_main\n    return _run_code(code, main_globals, None,\n  File \"/usr/local/lib/python3.8/runpy.py\", line 87, in _run_code\n    exec(code, run_globals)\n  File \"/root/venv/lib/python3.8/site-packages/twine/__main__.py\", line 53, in <module>\n    sys.exit(main())\n  File \"/root/venv/lib/python3.8/site-packages/twine/__main__.py\", line 28, in main\n    result = cli.dispatch(sys.argv[1:])\n  File \"/root/venv/lib/python3.8/site-packages/twine/cli.py\", line 68, in dispatch\n    return main(args.args)\n  File \"/root/venv/lib/python3.8/site-packages/twine/commands/upload.py\", line 197, in main\n    return upload(upload_settings, parsed_args.dists)\n  File \"/root/venv/lib/python3.8/site-packages/twine/commands/upload.py\", line 126, in upload\n    repository = upload_settings.create_repository()\n  File \"/root/venv/lib/python3.8/site-packages/twine/settings.py\", line 331, in create_repository\n    self.username,\n  File \"/root/venv/lib/python3.8/site-packages/twine/settings.py\", line 132, in username\n    return cast(Optional[str], self.auth.username)\n  File \"/root/venv/lib/python3.8/site-packages/twine/auth.py\", line 35, in username\n    return utils.get_userpass_value(\n  File \"/root/venv/lib/python3.8/site-packages/twine/utils.py\", line 248, in get_userpass_value\n    value = prompt_strategy()\n  File \"/root/venv/lib/python3.8/site-packages/twine/auth.py\", line 86, in username_from_keyring_or_prompt\n    return self.prompt(\"username\", input)\n  File \"/root/venv/lib/python3.8/site-packages/twine/auth.py\", line 97, in prompt\n    return how(f\"Enter your {what}: \")\nKeyboardInterrupt\n",
     "output_type": "stream"
    }
   ]
  },
  {
   "cell_type": "code",
   "metadata": {
    "cell_id": "e32c6be5-b528-400e-98db-910bb981a26d",
    "tags": [],
    "deepnote_to_be_reexecuted": false,
    "source_hash": "56326e1f",
    "execution_start": 1645694740972,
    "execution_millis": 4685,
    "deepnote_cell_type": "code",
    "deepnote_cell_height": 217.75
   },
   "source": "!pip install opencvpro",
   "execution_count": null,
   "outputs": [
    {
     "name": "stdout",
     "text": "Collecting opencvpro\n  Downloading opencvpro-0.0.1-py3-none-any.whl (3.2 kB)\nInstalling collected packages: opencvpro\nSuccessfully installed opencvpro-0.0.1\n",
     "output_type": "stream"
    }
   ]
  },
  {
   "cell_type": "code",
   "metadata": {
    "cell_id": "bb9c7d3c-d115-443c-893b-48b101ae5361",
    "tags": [],
    "deepnote_to_be_reexecuted": false,
    "source_hash": "e03816c0",
    "execution_start": 1645694905535,
    "execution_millis": 2664,
    "deepnote_cell_type": "code",
    "deepnote_cell_height": 731,
    "deepnote_output_heights": [
     580
    ]
   },
   "source": "import opencvpro.jupytercv as cv\nimport numpy as np\nblack1 = np.zeros((300, 300), np.uint8)\ncv.showGray(black1)",
   "execution_count": null,
   "outputs": [
    {
     "data": {
      "text/plain": "<Figure size 720x720 with 1 Axes>",
      "image/png": "[encoded data removed]"
     },
     "metadata": {
      "needs_background": "light",
      "image/png": {
       "width": 583,
       "height": 578
      }
     },
     "output_type": "display_data"
    }
   ]
  },
  {
   "cell_type": "markdown",
   "source": "<a style='text-decoration:none;line-height:16px;display:flex;color:#5B5B62;padding:10px;justify-content:end;' href='https://deepnote.com?utm_source=created-in-deepnote-cell&projectId=26e5d5b4-a604-4f7b-aef4-7756f8127ef0' target=\"_blank\">\n<img alt='Created in deepnote.com' style='display:inline;max-height:16px;margin:0px;margin-right:7.5px;' src='data:image/svg+xml;base64,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' > </img>\nCreated in <span style='font-weight:600;margin-left:4px;'>Deepnote</span></a>",
   "metadata": {
    "tags": [],
    "created_in_deepnote_cell": true,
    "deepnote_cell_type": "markdown"
   }
  }
 ],
 "nbformat": 4,
 "nbformat_minor": 2,
 "metadata": {
  "orig_nbformat": 2,
  "deepnote": {
   "is_reactive": false
  },
  "deepnote_notebook_id": "42db956a-b314-43ad-8c77-1fd21b49547e",
  "deepnote_execution_queue": []
 }
}