{
 "cells": [
  {
   "cell_type": "code",
   "metadata": {
    "tags": [],
    "deepnote_to_be_reexecuted": false,
    "source_hash": "b91dbd17",
    "execution_start": 1651220886082,
    "execution_millis": 3488,
    "cell_id": "38aeecd0-1fb4-42a1-b908-b77a80516339",
    "deepnote_cell_type": "code",
    "deepnote_cell_height": 130.1875
   },
   "source": "import tensorflow as tf\nprint(tf.__version__)",
   "outputs": [
    {
     "name": "stdout",
     "text": "2.8.0\n",
     "output_type": "stream"
    }
   ],
   "execution_count": null
  },
  {
   "cell_type": "markdown",
   "source": "### 初学者",
   "metadata": {
    "tags": [],
    "is_collapsed": false,
    "cell_id": "00001-3fbc7b3f-2272-4c42-b1f0-b5339efe4a32",
    "deepnote_cell_type": "text-cell-h3"
   }
  },
  {
   "cell_type": "code",
   "metadata": {
    "tags": [],
    "deepnote_to_be_reexecuted": false,
    "source_hash": "8fc5749c",
    "execution_start": 1651221137336,
    "execution_millis": 27815,
    "cell_id": "00002-405c0cf2-8346-4bac-b90a-3306a0290aae",
    "deepnote_cell_type": "code",
    "deepnote_cell_height": 642.8125,
    "deepnote_output_heights": [
     null,
     21.1875
    ]
   },
   "source": "import tensorflow as tf\nmnist = tf.keras.datasets.mnist\n(x_train, y_train), (x_test, y_test) = mnist.load_data()\nx_train, x_test = x_train / 255.0, x_test / 255.0\nmodel = tf.keras.models.Sequential([\n  tf.keras.layers.Flatten(input_shape=(28, 28)),\n  tf.keras.layers.Dense(128, activation='relu'),\n  tf.keras.layers.Dropout(0.2),\n  tf.keras.layers.Dense(10, activation='softmax')\n])\nmodel.compile(optimizer='adam', loss='sparse_categorical_crossentropy', metrics=['accuracy'])\nmodel.fit(x_train, y_train, epochs=5)\nmodel.evaluate(x_test,  y_test, verbose=2)",
   "outputs": [
    {
     "name": "stdout",
     "text": "Downloading data from https://storage.googleapis.com/tensorflow/tf-keras-datasets/mnist.npz\n11493376/11490434 [==============================] - 0s 0us/step\n11501568/11490434 [==============================] - 0s 0us/step\nEpoch 1/5\n1875/1875 [==============================] - 5s 2ms/step - loss: 0.2957 - accuracy: 0.9142\nEpoch 2/5\n1875/1875 [==============================] - 6s 3ms/step - loss: 0.1405 - accuracy: 0.9583\nEpoch 3/5\n1875/1875 [==============================] - 5s 3ms/step - loss: 0.1041 - accuracy: 0.9681\nEpoch 4/5\n1875/1875 [==============================] - 5s 3ms/step - loss: 0.0832 - accuracy: 0.9743\nEpoch 5/5\n1875/1875 [==============================] - 4s 2ms/step - loss: 0.0723 - accuracy: 0.9776\n313/313 - 1s - loss: 0.0759 - accuracy: 0.9769 - 668ms/epoch - 2ms/step\n",
     "output_type": "stream"
    },
    {
     "output_type": "execute_result",
     "execution_count": 2,
     "data": {
      "text/plain": "[0.07594037055969238, 0.9768999814987183]"
     },
     "metadata": {}
    }
   ],
   "execution_count": null
  },
  {
   "cell_type": "markdown",
   "source": "### 专业人员",
   "metadata": {
    "tags": [],
    "is_collapsed": false,
    "cell_id": "00003-17b59d1c-e2c3-4628-9b67-331ccdeaf3ab",
    "deepnote_cell_type": "text-cell-h3"
   }
  },
  {
   "cell_type": "code",
   "metadata": {
    "tags": [],
    "deepnote_to_be_reexecuted": false,
    "source_hash": "ba0dc5ee",
    "execution_start": 1651222136334,
    "execution_millis": 401556,
    "cell_id": "00004-605e62b0-bbca-405b-b602-c869a2b2a51d",
    "deepnote_cell_type": "code",
    "deepnote_cell_height": 1182.9375
   },
   "source": "import tensorflow as tf\n\nmnist = tf.keras.datasets.mnist\n(x_train, y_train), (x_test, y_test) = mnist.load_data()\nx_train, x_test = x_train / 255.0, x_test / 255.0\nx_train = x_train[..., tf.newaxis].astype(\"float32\")\nx_test = x_test[..., tf.newaxis].astype(\"float32\")\ntrain_ds = tf.data.Dataset.from_tensor_slices((x_train, y_train)).shuffle(10000).batch(32)\ntest_ds = tf.data.Dataset.from_tensor_slices((x_test, y_test)).batch(32)\n\nclass MyModel(tf.keras.Model):\n    def __init__(self):\n        super(MyModel, self).__init__()\n        self.conv1 = tf.keras.layers.Conv2D(32, 3, activation='relu')\n        self.flatten = tf.keras.layers.Flatten()\n        self.d1 = tf.keras.layers.Dense(128, activation='relu')\n        self.d2 = tf.keras.layers.Dense(10)\n        \n    def call(self, x):\n        x = self.conv1(x)\n        x = self.flatten(x)\n        x = self.d1(x)\n        return self.d2(x)\n\nmodel = MyModel()\nloss_object = tf.keras.losses.SparseCategoricalCrossentropy(from_logits=True)\noptimizer = tf.keras.optimizers.Adam()\ntrain_loss = tf.keras.metrics.Mean(name='train_loss')\ntrain_accuracy = tf.keras.metrics.SparseCategoricalAccuracy(name='train_accuracy')\ntest_loss = tf.keras.metrics.Mean(name='test_loss')\ntest_accuracy = tf.keras.metrics.SparseCategoricalAccuracy(name='test_accuracy')\nfor epoch in range(5):\n    train_loss.reset_states()\n    train_accuracy.reset_states()\n    test_loss.reset_states()\n    test_accuracy.reset_states()\n    for images, labels in train_ds:\n        with tf.GradientTape() as tape:\n            predictions = model(images, training=True)\n            loss = loss_object(labels, predictions)\n        gradients = tape.gradient(loss, model.trainable_variables)\n        optimizer.apply_gradients(zip(gradients, model.trainable_variables))\n        train_loss(loss)\n        train_accuracy(labels, predictions)\n    for test_images, test_labels in test_ds:\n        predictions = model(images, training=False)\n        t_loss = loss_object(labels, predictions)\n        test_loss(t_loss)\n        test_accuracy(labels, predictions)\n    print(\n        f'Epoch {epoch + 1}, '\n        f'Loss: {train_loss.result()}, '\n        f'Accuracy: {train_accuracy.result() * 100}, '\n        f'Test Loss: {test_loss.result()}, '\n        f'Test Accuracy: {test_accuracy.result() * 100}'\n        )",
   "outputs": [
    {
     "name": "stdout",
     "text": "Epoch 1, Loss: 0.13645878434181213, Accuracy: 95.88999938964844, Test Loss: 0.030577287077903748, Test Accuracy: 100.0\nEpoch 2, Loss: 0.040977831929922104, Accuracy: 98.7550048828125, Test Loss: 0.0014264582423493266, Test Accuracy: 100.0\nEpoch 3, Loss: 0.021965371444821358, Accuracy: 99.24666595458984, Test Loss: 0.009119116701185703, Test Accuracy: 100.0\nEpoch 4, Loss: 0.013399150222539902, Accuracy: 99.55000305175781, Test Loss: 0.0001271232613362372, Test Accuracy: 100.0\nEpoch 5, Loss: 0.009153701364994049, Accuracy: 99.67832946777344, Test Loss: 0.0013394587440416217, Test Accuracy: 100.0\n",
     "output_type": "stream"
    }
   ],
   "execution_count": null
  },
  {
   "cell_type": "markdown",
   "source": "<a style='text-decoration:none;line-height:16px;display:flex;color:#5B5B62;padding:10px;justify-content:end;' href='https://deepnote.com?utm_source=created-in-deepnote-cell&projectId=5292883e-50a7-4f1d-9f12-778c1d6da182' target=\"_blank\">\n<img alt='Created in deepnote.com' style='display:inline;max-height:16px;margin:0px;margin-right:7.5px;' src='data:image/svg+xml;base64,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' > </img>\nCreated in <span style='font-weight:600;margin-left:4px;'>Deepnote</span></a>",
   "metadata": {
    "tags": [],
    "created_in_deepnote_cell": true,
    "deepnote_cell_type": "markdown"
   }
  }
 ],
 "nbformat": 4,
 "nbformat_minor": 2,
 "metadata": {
  "orig_nbformat": 2,
  "deepnote": {},
  "deepnote_notebook_id": "7fb59fbf-ba82-4aef-833e-dc005b2a4fff",
  "deepnote_execution_queue": []
 }
}