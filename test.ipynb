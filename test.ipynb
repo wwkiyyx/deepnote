{
 "cells": [
  {
   "cell_type": "markdown",
   "source": "### python 版本",
   "metadata": {
    "cell_id": "504b37db283a48b0b19f7e31de671989",
    "tags": [],
    "is_collapsed": false,
    "deepnote_cell_type": "text-cell-h3"
   }
  },
  {
   "cell_type": "code",
   "source": "!python -V",
   "metadata": {
    "cell_id": "6e282970a6c746e7b675e0e7a62dffb8",
    "tags": [],
    "deepnote_to_be_reexecuted": false,
    "source_hash": "ceed87fe",
    "execution_start": 1653027770038,
    "execution_millis": 304,
    "deepnote_cell_type": "code",
    "deepnote_cell_height": 112.1875
   },
   "outputs": [
    {
     "name": "stdout",
     "text": "Python 3.9.7\n",
     "output_type": "stream"
    }
   ],
   "execution_count": 1
  },
  {
   "cell_type": "markdown",
   "source": "### tensorflow 版本",
   "metadata": {
    "cell_id": "af9bac449b8146bda49e00b4adfdc80a",
    "tags": [],
    "is_collapsed": false,
    "deepnote_cell_type": "text-cell-h3"
   }
  },
  {
   "cell_type": "code",
   "metadata": {
    "cell_id": "00001-3d61ff45-d9f9-4d8d-aeb1-68eea95fbe0c",
    "deepnote_to_be_reexecuted": false,
    "execution_millis": 5361,
    "execution_start": 1653027770361,
    "source_hash": "b91dbd17",
    "deepnote_cell_type": "code",
    "deepnote_cell_height": 130.1875
   },
   "source": "import tensorflow as tf\nprint(tf.__version__)",
   "execution_count": 2,
   "outputs": [
    {
     "name": "stdout",
     "text": "2.8.0\n",
     "output_type": "stream"
    }
   ]
  },
  {
   "cell_type": "markdown",
   "source": "### pytorch 版本",
   "metadata": {
    "cell_id": "d300a8618d454bb68805837ad9aed9a6",
    "tags": [],
    "is_collapsed": false,
    "deepnote_cell_type": "text-cell-h3"
   }
  },
  {
   "cell_type": "code",
   "metadata": {
    "cell_id": "00002-ed2c8226-4479-451d-a620-05fc3ef7db30",
    "deepnote_to_be_reexecuted": false,
    "execution_millis": 1104,
    "execution_start": 1653027775731,
    "source_hash": "6800c057",
    "deepnote_cell_type": "code",
    "deepnote_cell_height": 175
   },
   "source": "import torch \nprint(torch.__version__)",
   "execution_count": 3,
   "outputs": [
    {
     "name": "stderr",
     "text": "/shared-libs/python3.9/py/lib/python3.9/site-packages/tqdm/auto.py:22: TqdmWarning: IProgress not found. Please update jupyter and ipywidgets. See https://ipywidgets.readthedocs.io/en/stable/user_install.html\n  from .autonotebook import tqdm as notebook_tqdm\n1.11.0+cu102\n",
     "output_type": "stream"
    }
   ]
  },
  {
   "cell_type": "markdown",
   "source": "### 操作系统",
   "metadata": {
    "cell_id": "de5b16a15e2a4d30a0a3771d969ecde1",
    "tags": [],
    "is_collapsed": false,
    "deepnote_cell_type": "text-cell-h3"
   }
  },
  {
   "cell_type": "code",
   "metadata": {
    "cell_id": "00002-a544b14f-9d9b-45d3-8c55-26c26dbf0c72",
    "deepnote_to_be_reexecuted": false,
    "execution_millis": 634,
    "execution_start": 1653027776844,
    "source_hash": "b90d484c",
    "tags": [],
    "deepnote_cell_type": "code",
    "deepnote_cell_height": 132.375
   },
   "source": "!cat /etc/issue",
   "execution_count": 4,
   "outputs": [
    {
     "name": "stdout",
     "text": "Debian GNU/Linux 10 \\n \\l\n\n",
     "output_type": "stream"
    }
   ]
  },
  {
   "cell_type": "markdown",
   "source": "### 内核",
   "metadata": {
    "cell_id": "81142b1060cb40c6bc14d3289367abc1",
    "tags": [],
    "is_collapsed": false,
    "deepnote_cell_type": "text-cell-h3"
   }
  },
  {
   "cell_type": "code",
   "metadata": {
    "cell_id": "00003-1ea9dba9-777b-4458-92ae-cc41673741e7",
    "deepnote_to_be_reexecuted": false,
    "execution_millis": 289,
    "execution_start": 1653027777201,
    "source_hash": "11e173d5",
    "tags": [],
    "deepnote_cell_type": "code",
    "deepnote_cell_height": 112.1875
   },
   "source": "!uname -a",
   "execution_count": 5,
   "outputs": [
    {
     "name": "stdout",
     "text": "Linux p-5292883e-50a7-4f1d-9f12-778c1d6da182 5.4.95-42.163.amzn2.x86_64 #1 SMP Thu Feb 4 12:50:05 UTC 2021 x86_64 GNU/Linux\n",
     "output_type": "stream"
    }
   ]
  },
  {
   "cell_type": "markdown",
   "source": "### cpu",
   "metadata": {
    "cell_id": "51168d148e6e4de4bcd7ecf914108244",
    "tags": [],
    "is_collapsed": false,
    "deepnote_cell_type": "text-cell-h3"
   }
  },
  {
   "cell_type": "code",
   "metadata": {
    "cell_id": "f9e410e2-d873-4d44-b445-6262c0c39d4f",
    "tags": [],
    "deepnote_to_be_reexecuted": false,
    "source_hash": "50707e79",
    "execution_start": 1653027777480,
    "execution_millis": 278,
    "deepnote_cell_type": "code",
    "deepnote_cell_height": 701
   },
   "source": "!cat /proc/cpuinfo",
   "execution_count": 6,
   "outputs": [
    {
     "name": "stdout",
     "text": "processor\t: 0\nvendor_id\t: AuthenticAMD\ncpu family\t: 23\nmodel\t\t: 1\nmodel name\t: AMD EPYC 7571\nstepping\t: 2\nmicrocode\t: 0x800126c\ncpu MHz\t\t: 2548.752\ncache size\t: 512 KB\nphysical id\t: 0\nsiblings\t: 2\ncore id\t\t: 0\ncpu cores\t: 1\napicid\t\t: 0\ninitial apicid\t: 0\nfpu\t\t: yes\nfpu_exception\t: yes\ncpuid level\t: 13\nwp\t\t: yes\nflags\t\t: fpu vme de pse tsc msr pae mce cx8 apic sep mtrr pge mca cmov pat pse36 clflush mmx fxsr sse sse2 ht syscall nx mmxext fxsr_opt pdpe1gb rdtscp lm constant_tsc rep_good nopl nonstop_tsc cpuid extd_apicid aperfmperf tsc_known_freq pni pclmulqdq ssse3 fma cx16 sse4_1 sse4_2 movbe popcnt aes xsave avx f16c rdrand hypervisor lahf_lm cmp_legacy cr8_legacy abm sse4a misalignsse 3dnowprefetch topoext vmmcall fsgsbase bmi1 avx2 smep bmi2 rdseed adx smap clflushopt sha_ni xsaveopt xsavec xgetbv1 clzero xsaveerptr arat npt nrip_save\nbugs\t\t: sysret_ss_attrs null_seg spectre_v1 spectre_v2 spec_store_bypass\nbogomips\t: 4399.18\nTLB size\t: 2560 4K pages\nclflush size\t: 64\ncache_alignment\t: 64\naddress sizes\t: 48 bits physical, 48 bits virtual\npower management:\n\nprocessor\t: 1\nvendor_id\t: AuthenticAMD\ncpu family\t: 23\nmodel\t\t: 1\nmodel name\t: AMD EPYC 7571\nstepping\t: 2\nmicrocode\t: 0x800126c\ncpu MHz\t\t: 2548.591\ncache size\t: 512 KB\nphysical id\t: 0\nsiblings\t: 2\ncore id\t\t: 0\ncpu cores\t: 1\napicid\t\t: 1\ninitial apicid\t: 1\nfpu\t\t: yes\nfpu_exception\t: yes\ncpuid level\t: 13\nwp\t\t: yes\nflags\t\t: fpu vme de pse tsc msr pae mce cx8 apic sep mtrr pge mca cmov pat pse36 clflush mmx fxsr sse sse2 ht syscall nx mmxext fxsr_opt pdpe1gb rdtscp lm constant_tsc rep_good nopl nonstop_tsc cpuid extd_apicid aperfmperf tsc_known_freq pni pclmulqdq ssse3 fma cx16 sse4_1 sse4_2 movbe popcnt aes xsave avx f16c rdrand hypervisor lahf_lm cmp_legacy cr8_legacy abm sse4a misalignsse 3dnowprefetch topoext vmmcall fsgsbase bmi1 avx2 smep bmi2 rdseed adx smap clflushopt sha_ni xsaveopt xsavec xgetbv1 clzero xsaveerptr arat npt nrip_save\nbugs\t\t: sysret_ss_attrs null_seg spectre_v1 spectre_v2 spec_store_bypass\nbogomips\t: 4399.18\nTLB size\t: 2560 4K pages\nclflush size\t: 64\ncache_alignment\t: 64\naddress sizes\t: 48 bits physical, 48 bits virtual\npower management:\n\n",
     "output_type": "stream"
    }
   ]
  },
  {
   "cell_type": "markdown",
   "source": "### CPU个数",
   "metadata": {
    "cell_id": "52f2afb1818648e184c8e8dd7c457626",
    "tags": [],
    "is_collapsed": false,
    "deepnote_cell_type": "text-cell-h3"
   }
  },
  {
   "cell_type": "code",
   "metadata": {
    "cell_id": "00003-2dd67f21-cc53-4aae-83cf-7a67abe84da8",
    "deepnote_to_be_reexecuted": false,
    "execution_millis": 281,
    "execution_start": 1653027777770,
    "source_hash": "1684cbe6",
    "tags": [],
    "deepnote_cell_type": "code",
    "deepnote_cell_height": 112.1875
   },
   "source": "!cat /proc/cpuinfo| grep \"physical id\"| sort| uniq| wc -l",
   "execution_count": 7,
   "outputs": [
    {
     "name": "stdout",
     "text": "1\n",
     "output_type": "stream"
    }
   ]
  },
  {
   "cell_type": "markdown",
   "source": "### CPU个数",
   "metadata": {
    "cell_id": "08d47d20b9124c89a17300aa8ab13e97",
    "tags": [],
    "is_collapsed": false,
    "deepnote_cell_type": "text-cell-h3"
   }
  },
  {
   "cell_type": "code",
   "metadata": {
    "cell_id": "00004-4cf8eff7-1e73-452f-84d0-f25f7f67e540",
    "deepnote_to_be_reexecuted": false,
    "execution_millis": 245,
    "execution_start": 1653027778089,
    "source_hash": "aa4923c9",
    "tags": [],
    "deepnote_cell_type": "code",
    "deepnote_cell_height": 112.1875
   },
   "source": "!cat /proc/cpuinfo| grep \"cpu cores\"| uniq",
   "execution_count": 8,
   "outputs": [
    {
     "name": "stdout",
     "text": "cpu cores\t: 1\n",
     "output_type": "stream"
    }
   ]
  },
  {
   "cell_type": "markdown",
   "source": "### CPU核数",
   "metadata": {
    "cell_id": "cb25831660fd4ad78166e483ddd7bf91",
    "tags": [],
    "is_collapsed": false,
    "deepnote_cell_type": "text-cell-h3"
   }
  },
  {
   "cell_type": "code",
   "metadata": {
    "cell_id": "00005-e9608021-0272-4fc3-8818-43c263b4524b",
    "deepnote_to_be_reexecuted": false,
    "execution_millis": 237,
    "execution_start": 1653027778388,
    "source_hash": "276e56d9",
    "tags": [],
    "deepnote_cell_type": "code",
    "deepnote_cell_height": 112.1875
   },
   "source": "!cat /proc/cpuinfo| grep \"processor\"| wc -l",
   "execution_count": 9,
   "outputs": [
    {
     "name": "stdout",
     "text": "2\n",
     "output_type": "stream"
    }
   ]
  },
  {
   "cell_type": "markdown",
   "source": "### CPU型号",
   "metadata": {
    "cell_id": "1d6ac12ae9e74d93a94a4dd9d793185f",
    "tags": [],
    "is_collapsed": false,
    "deepnote_cell_type": "text-cell-h3"
   }
  },
  {
   "cell_type": "code",
   "metadata": {
    "cell_id": "00006-959bca20-3847-453a-9185-1228263bef88",
    "deepnote_to_be_reexecuted": false,
    "execution_millis": 244,
    "execution_start": 1653027778668,
    "source_hash": "34584658",
    "tags": [],
    "deepnote_cell_type": "code",
    "deepnote_cell_height": 112.1875
   },
   "source": "!cat /proc/cpuinfo | grep name | cut -f2 -d: | uniq -c",
   "execution_count": 10,
   "outputs": [
    {
     "name": "stdout",
     "text": "      2  AMD EPYC 7571\n",
     "output_type": "stream"
    }
   ]
  },
  {
   "cell_type": "markdown",
   "source": "### 内存",
   "metadata": {
    "cell_id": "a7b2b62ddf0e438394b72377f4edf307",
    "tags": [],
    "is_collapsed": false,
    "deepnote_cell_type": "text-cell-h3"
   }
  },
  {
   "cell_type": "code",
   "metadata": {
    "cell_id": "00007-295766eb-6697-4958-9df4-a1cabb185063",
    "deepnote_to_be_reexecuted": false,
    "execution_millis": 244,
    "execution_start": 1653027778960,
    "source_hash": "756848a5",
    "tags": [],
    "deepnote_cell_type": "code",
    "deepnote_cell_height": 152.5625
   },
   "source": "!free -h",
   "execution_count": 11,
   "outputs": [
    {
     "name": "stdout",
     "text": "              total        used        free      shared  buff/cache   available\nMem:           15Gi       3.8Gi       2.2Gi       5.0Mi       9.4Gi        11Gi\nSwap:            0B          0B          0B\n",
     "output_type": "stream"
    }
   ]
  },
  {
   "cell_type": "code",
   "metadata": {
    "cell_id": "00008-1e8e37eb-f955-4251-b5ec-4611db7fa568",
    "deepnote_to_be_reexecuted": false,
    "execution_millis": 963,
    "execution_start": 1653027779252,
    "source_hash": "c77ef4b9",
    "tags": [],
    "deepnote_cell_type": "code",
    "deepnote_cell_height": 112
   },
   "source": "!cat /proc/meminfo | grep MemTotal",
   "execution_count": 12,
   "outputs": [
    {
     "name": "stdout",
     "text": "MemTotal:       16141700 kB\n",
     "output_type": "stream"
    }
   ]
  },
  {
   "cell_type": "markdown",
   "source": "### 硬盘",
   "metadata": {
    "cell_id": "8e73b8d6f496446792e952f7d18db884",
    "tags": [],
    "is_collapsed": false,
    "deepnote_cell_type": "text-cell-h3"
   }
  },
  {
   "cell_type": "code",
   "source": "!df -h",
   "metadata": {
    "cell_id": "86e346a918d740d9abd5f2e461c66eb8",
    "tags": [],
    "deepnote_to_be_reexecuted": false,
    "source_hash": "e7dbc859",
    "execution_start": 1653027779546,
    "execution_millis": 241,
    "deepnote_cell_type": "code",
    "deepnote_cell_height": 334.25
   },
   "outputs": [
    {
     "name": "stdout",
     "text": "Filesystem                                                           Size  Used Avail Use% Mounted on\noverlay                                                              100G  8.6G   92G   9% /\ntmpfs                                                                 64M     0   64M   0% /dev\ntmpfs                                                                7.7G     0  7.7G   0% /sys/fs/cgroup\n172.2.193.144:/projects-pool/p-5292883e-50a7-4f1d-9f12-778c1d6da182  5.0G   66M  5.0G   2% /work\n/dev/nvme0n1p1                                                       100G  8.6G   92G   9% /datasets\n172.2.193.144:/projects-pool/_compute-dependencies/libs/v1.11        1.5T  375G  1.2T  25% /shared-libs\n172.2.193.144:/projects-pool/_compute-dependencies/libs/deprecated   1.5T  375G  1.2T  25% /shared-libs-deprecated\n172.2.193.144:/projects-pool/_compute-dependencies/helpers/v1.6      1.5T  375G  1.2T  25% /compute-helpers\ntmpfs                                                                7.7G     0  7.7G   0% /dev/shm\ntmpfs                                                                7.7G     0  7.7G   0% /proc/acpi\ntmpfs                                                                7.7G     0  7.7G   0% /sys/firmware\n",
     "output_type": "stream"
    }
   ],
   "execution_count": 13
  },
  {
   "cell_type": "code",
   "metadata": {
    "cell_id": "00002-561d11fa-e140-4a87-b3c3-2275a9827bd1",
    "deepnote_to_be_reexecuted": false,
    "execution_millis": 414,
    "execution_start": 1653027779836,
    "source_hash": "26511867",
    "tags": [],
    "owner_user_id": "64653946-af2f-4699-a282-4043b0ba5576",
    "deepnote_cell_type": "code",
    "deepnote_cell_height": 186.375
   },
   "source": "%%bash\npwd\ncd OpenCV\npwd",
   "execution_count": 14,
   "outputs": [
    {
     "name": "stdout",
     "text": "/work/deepnote\n/work/deepnote/OpenCV\n",
     "output_type": "stream"
    }
   ]
  },
  {
   "cell_type": "markdown",
   "source": "<a style='text-decoration:none;line-height:16px;display:flex;color:#5B5B62;padding:10px;justify-content:end;' href='https://deepnote.com?utm_source=created-in-deepnote-cell&projectId=5292883e-50a7-4f1d-9f12-778c1d6da182' target=\"_blank\">\n<img alt='Created in deepnote.com' style='display:inline;max-height:16px;margin:0px;margin-right:7.5px;' src='data:image/svg+xml;base64,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' > </img>\nCreated in <span style='font-weight:600;margin-left:4px;'>Deepnote</span></a>",
   "metadata": {
    "tags": [],
    "created_in_deepnote_cell": true,
    "deepnote_cell_type": "markdown"
   }
  }
 ],
 "nbformat": 4,
 "nbformat_minor": 4,
 "metadata": {
  "deepnote": {},
  "deepnote_execution_queue": [],
  "deepnote_notebook_id": "a56ffac4-3bb8-4078-b4d0-c393a626457c",
  "kernelspec": {
   "display_name": "default:Python",
   "language": "python",
   "name": "conda-env-default-py"
  },
  "language_info": {
   "codemirror_mode": {
    "name": "ipython",
    "version": 3
   },
   "file_extension": ".py",
   "mimetype": "text/x-python",
   "name": "python",
   "nbconvert_exporter": "python",
   "pygments_lexer": "ipython3",
   "version": "3.9.7"
  }
 }
}