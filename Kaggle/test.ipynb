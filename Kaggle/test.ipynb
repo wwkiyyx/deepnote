{
 "cells": [
  {
   "cell_type": "markdown",
   "source": "### Python版本",
   "metadata": {
    "tags": [],
    "is_collapsed": false,
    "cell_id": "3a892431-2ec1-4d42-a27b-218502656f13",
    "deepnote_cell_type": "text-cell-h3"
   }
  },
  {
   "cell_type": "code",
   "metadata": {
    "tags": [],
    "deepnote_to_be_reexecuted": false,
    "source_hash": "ceed87fe",
    "execution_start": 1652337157471,
    "execution_millis": 758,
    "owner_user_id": "64653946-af2f-4699-a282-4043b0ba5576",
    "cell_id": "00001-761c23cc-8085-456c-9c95-a8cb7933d246",
    "deepnote_cell_type": "code",
    "deepnote_cell_height": 112.1875
   },
   "source": "!python -V",
   "execution_count": null,
   "outputs": [
    {
     "name": "stdout",
     "text": "Python 3.9.7\n",
     "output_type": "stream"
    }
   ]
  },
  {
   "cell_type": "markdown",
   "source": "### TensorFlow版本",
   "metadata": {
    "tags": [],
    "is_collapsed": false,
    "cell_id": "00002-8f1bf9b2-685c-4f35-9b3f-a9643e490ea1",
    "deepnote_cell_type": "text-cell-h3"
   }
  },
  {
   "cell_type": "code",
   "metadata": {
    "tags": [],
    "deepnote_to_be_reexecuted": false,
    "source_hash": "110ddbf5",
    "execution_start": 1652337158125,
    "execution_millis": 5503,
    "cell_id": "00003-68fdefce-d348-4de4-bcef-dc9d265ad34e",
    "deepnote_cell_type": "code",
    "deepnote_cell_height": 130.1875
   },
   "source": "import tensorflow\nprint(tensorflow.__version__)",
   "execution_count": null,
   "outputs": [
    {
     "name": "stdout",
     "text": "2.8.0\n",
     "output_type": "stream"
    }
   ]
  },
  {
   "cell_type": "markdown",
   "source": "### Pytorch版本",
   "metadata": {
    "tags": [],
    "is_collapsed": false,
    "cell_id": "00004-ca031ffe-977d-4ce4-a242-f0a8085d4eae",
    "deepnote_cell_type": "text-cell-h3"
   }
  },
  {
   "cell_type": "code",
   "metadata": {
    "tags": [],
    "deepnote_to_be_reexecuted": false,
    "source_hash": "bd665810",
    "execution_start": 1652337162899,
    "execution_millis": 2423,
    "cell_id": "00005-28e36ea2-d9e0-4153-88a3-a8778f634100",
    "deepnote_cell_type": "code",
    "deepnote_cell_height": 174.5625
   },
   "source": "import torch\nprint(torch.__version__)",
   "execution_count": null,
   "outputs": [
    {
     "name": "stderr",
     "text": "/shared-libs/python3.9/py/lib/python3.9/site-packages/tqdm/auto.py:22: TqdmWarning: IProgress not found. Please update jupyter and ipywidgets. See https://ipywidgets.readthedocs.io/en/stable/user_install.html\n  from .autonotebook import tqdm as notebook_tqdm\n1.11.0+cu102\n",
     "output_type": "stream"
    }
   ]
  },
  {
   "cell_type": "markdown",
   "source": "### 当地时间",
   "metadata": {
    "tags": [],
    "is_collapsed": false,
    "cell_id": "00006-3d585ba4-36c5-4db5-a25b-06ad200ff429",
    "deepnote_cell_type": "text-cell-h3"
   }
  },
  {
   "cell_type": "code",
   "metadata": {
    "tags": [],
    "deepnote_to_be_reexecuted": false,
    "source_hash": "b8b2c7fa",
    "execution_start": 1652337165332,
    "execution_millis": 9,
    "cell_id": "00007-88d53f8f-ca3c-4ea2-acd5-e773d8e8093a",
    "deepnote_cell_type": "code",
    "deepnote_cell_height": 148.1875
   },
   "source": "import datetime\nlocal = datetime.datetime.now()\nprint(local)",
   "execution_count": null,
   "outputs": [
    {
     "name": "stdout",
     "text": "2022-05-12 06:32:45.322863\n",
     "output_type": "stream"
    }
   ]
  },
  {
   "cell_type": "markdown",
   "source": "### 北京时间",
   "metadata": {
    "tags": [],
    "is_collapsed": false,
    "cell_id": "00008-9959ba8c-2e33-48cb-914e-a506fa71a4af",
    "deepnote_cell_type": "text-cell-h3"
   }
  },
  {
   "cell_type": "code",
   "metadata": {
    "tags": [],
    "deepnote_to_be_reexecuted": false,
    "source_hash": "b6eda3d5",
    "execution_start": 1652337165347,
    "execution_millis": 6,
    "cell_id": "00009-47262bd0-8754-43ed-9d6e-a75aa365f0b7",
    "deepnote_cell_type": "code",
    "deepnote_cell_height": 220.1875
   },
   "source": "from datetime import datetime\nfrom datetime import timedelta\nfrom datetime import timezone\nSHA_TZ = timezone(timedelta(hours=8), name='Asia/Shanghai')\nutc_now = datetime.utcnow().replace(tzinfo=timezone.utc)\nbeijing = utc_now.astimezone(SHA_TZ)\nprint(beijing)",
   "execution_count": null,
   "outputs": [
    {
     "name": "stdout",
     "text": "2022-05-12 14:32:45.342442+08:00\n",
     "output_type": "stream"
    }
   ]
  },
  {
   "cell_type": "markdown",
   "source": "<a style='text-decoration:none;line-height:16px;display:flex;color:#5B5B62;padding:10px;justify-content:end;' href='https://deepnote.com?utm_source=created-in-deepnote-cell&projectId=26e5d5b4-a604-4f7b-aef4-7756f8127ef0' target=\"_blank\">\n<img alt='Created in deepnote.com' style='display:inline;max-height:16px;margin:0px;margin-right:7.5px;' src='data:image/svg+xml;base64,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' > </img>\nCreated in <span style='font-weight:600;margin-left:4px;'>Deepnote</span></a>",
   "metadata": {
    "tags": [],
    "created_in_deepnote_cell": true,
    "deepnote_cell_type": "markdown"
   }
  }
 ],
 "nbformat": 4,
 "nbformat_minor": 2,
 "metadata": {
  "orig_nbformat": 2,
  "deepnote": {
   "is_reactive": false
  },
  "deepnote_notebook_id": "9e1ac828-c9a1-4721-b863-875a17615aa0",
  "deepnote_execution_queue": []
 }
}