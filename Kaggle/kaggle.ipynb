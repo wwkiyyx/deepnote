{
 "cells": [
  {
   "cell_type": "code",
   "metadata": {
    "tags": [],
    "cell_id": "2279e13f-c6af-4e77-a28d-0feb5dd030a8",
    "deepnote_to_be_reexecuted": false,
    "source_hash": "a3b222ef",
    "execution_start": 1651894055092,
    "execution_millis": 5096,
    "deepnote_cell_type": "code",
    "deepnote_cell_height": 585.125
   },
   "source": "!pip install kaggle",
   "execution_count": null,
   "outputs": [
    {
     "name": "stdout",
     "text": "Collecting kaggle\n  Downloading kaggle-1.5.12.tar.gz (58 kB)\n\u001b[K     |████████████████████████████████| 58 kB 10.0 MB/s \n\u001b[?25hRequirement already satisfied: six>=1.10 in /shared-libs/python3.9/py-core/lib/python3.9/site-packages (from kaggle) (1.16.0)\nRequirement already satisfied: certifi in /shared-libs/python3.9/py/lib/python3.9/site-packages (from kaggle) (2021.10.8)\nRequirement already satisfied: python-dateutil in /shared-libs/python3.9/py-core/lib/python3.9/site-packages (from kaggle) (2.8.2)\nRequirement already satisfied: requests in /shared-libs/python3.9/py/lib/python3.9/site-packages (from kaggle) (2.27.1)\nRequirement already satisfied: tqdm in /shared-libs/python3.9/py/lib/python3.9/site-packages (from kaggle) (4.64.0)\nRequirement already satisfied: python-slugify in /shared-libs/python3.9/py/lib/python3.9/site-packages (from kaggle) (6.1.1)\nRequirement already satisfied: urllib3 in /shared-libs/python3.9/py/lib/python3.9/site-packages (from kaggle) (1.26.9)\nRequirement already satisfied: text-unidecode>=1.3 in /shared-libs/python3.9/py/lib/python3.9/site-packages (from python-slugify->kaggle) (1.3)\nRequirement already satisfied: idna<4,>=2.5 in /shared-libs/python3.9/py-core/lib/python3.9/site-packages (from requests->kaggle) (3.3)\nRequirement already satisfied: charset-normalizer~=2.0.0 in /shared-libs/python3.9/py-core/lib/python3.9/site-packages (from requests->kaggle) (2.0.12)\nBuilding wheels for collected packages: kaggle\n  Building wheel for kaggle (setup.py) ... \u001b[?25ldone\n\u001b[?25h  Created wheel for kaggle: filename=kaggle-1.5.12-py3-none-any.whl size=73051 sha256=06e07808f128e36aefc465df2c0d2e5c8799789c89a6c93aca27d87d6fef183f\n  Stored in directory: /root/.cache/pip/wheels/ac/b2/c3/fa4706d469b5879105991d1c8be9a3c2ef329ba9fe2ce5085e\nSuccessfully built kaggle\nInstalling collected packages: kaggle\nSuccessfully installed kaggle-1.5.12\n\u001b[33mWARNING: You are using pip version 21.2.3; however, version 22.0.4 is available.\nYou should consider upgrading via the '/root/venv/bin/python -m pip install --upgrade pip' command.\u001b[0m\n",
     "output_type": "stream"
    }
   ]
  },
  {
   "cell_type": "code",
   "metadata": {
    "cell_id": "601498fce3d64e8597db24038e4ca444",
    "tags": [],
    "deepnote_to_be_reexecuted": false,
    "source_hash": "20c0a6ab",
    "execution_start": 1651894091100,
    "execution_millis": 875,
    "deepnote_cell_type": "code",
    "deepnote_cell_height": 112.1875
   },
   "source": "!cat kaggle.json",
   "execution_count": null,
   "outputs": [
    {
     "name": "stdout",
     "text": "{\"username\":\"wwkiyyx\",\"key\":\"750055d2322575dae01e4c0cdb6e9e0f\"}",
     "output_type": "stream"
    }
   ]
  },
  {
   "cell_type": "code",
   "metadata": {
    "cell_id": "0a883861de4d42c8be82692c17cf4d55",
    "tags": [],
    "deepnote_to_be_reexecuted": false,
    "source_hash": "43f09d",
    "execution_start": 1651894096306,
    "execution_millis": 1946,
    "deepnote_cell_type": "code",
    "deepnote_cell_height": 148.1875
   },
   "source": "!mkdir /root/.kaggle\n!cp kaggle.json /root/.kaggle/\n!ls /root/.kaggle -a",
   "execution_count": null,
   "outputs": [
    {
     "name": "stdout",
     "text": ".  ..  kaggle.json\n",
     "output_type": "stream"
    }
   ]
  },
  {
   "cell_type": "code",
   "metadata": {
    "cell_id": "85a5df3909414d4f93183ee6909359b2",
    "tags": [],
    "deepnote_to_be_reexecuted": false,
    "source_hash": "f9aec87e",
    "execution_start": 1651894112665,
    "execution_millis": 1011,
    "deepnote_cell_type": "code",
    "deepnote_cell_height": 136.375
   },
   "source": "!kaggle -v",
   "execution_count": null,
   "outputs": [
    {
     "name": "stdout",
     "text": "Warning: Your Kaggle API key is readable by other users on this system! To fix this, you can run 'chmod 600 /root/.kaggle/kaggle.json'\nKaggle API 1.5.12\n",
     "output_type": "stream"
    }
   ]
  },
  {
   "cell_type": "code",
   "metadata": {
    "cell_id": "9e925669e4404ce49412c86385db49bf",
    "tags": [],
    "deepnote_to_be_reexecuted": false,
    "source_hash": "48f7caa1",
    "execution_start": 1651849853937,
    "execution_millis": 975,
    "deepnote_cell_type": "code",
    "deepnote_cell_height": 560.3125
   },
   "source": "!kaggle competitions list",
   "execution_count": null,
   "outputs": [
    {
     "name": "stdout",
     "text": "Warning: Your Kaggle API key is readable by other users on this system! To fix this, you can run 'chmod 600 /root/.kaggle/kaggle.json'\nref                                                       deadline             category            reward  teamCount  userHasEntered  \n--------------------------------------------------------  -------------------  ---------------  ---------  ---------  --------------  \nmpetitions/contradictory-my-dear-watson                   2030-07-01 23:59:00  Getting Started     Prizes         38           False  \nmpetitions/gan-getting-started                            2030-07-01 23:59:00  Getting Started     Prizes        137           False  \nmpetitions/store-sales-time-series-forecasting            2030-06-30 23:59:00  Getting Started  Knowledge       1103           False  \nmpetitions/tpu-getting-started                            2030-06-03 23:59:00  Getting Started  Knowledge        175           False  \nmpetitions/digit-recognizer                               2030-01-01 00:00:00  Getting Started  Knowledge       2109           False  \nmpetitions/titanic                                        2030-01-01 00:00:00  Getting Started  Knowledge      14345            True  \nmpetitions/house-prices-advanced-regression-techniques    2030-01-01 00:00:00  Getting Started  Knowledge       4219           False  \nmpetitions/connectx                                       2030-01-01 00:00:00  Getting Started  Knowledge        229           False  \nmpetitions/nlp-getting-started                            2030-01-01 00:00:00  Getting Started  Knowledge        860           False  \nmpetitions/spaceship-titanic                              2030-01-01 00:00:00  Getting Started  Knowledge       1961           False  \nmpetitions/competitive-data-science-predict-future-sales  2022-12-31 23:59:00  Playground           Kudos      14687           False  \nmpetitions/smartphone-decimeter-2022                      2022-07-29 23:59:00  Research           $10,000         53           False  \nmpetitions/ubiquant-market-prediction                     2022-07-18 23:59:00  Featured          $100,000       2893           False  \nmpetitions/uw-madison-gi-tract-image-segmentation         2022-07-14 23:59:00  Research           $25,000        353           False  \nmpetitions/kore-2022                                      2022-07-12 23:59:00  Featured           $15,000        163           False  \nmpetitions/foursquare-location-matching                   2022-07-07 23:59:00  Featured           $25,000        334           False  \nmpetitions/jpx-tokyo-stock-exchange-prediction            2022-07-05 23:59:00  Featured           $63,000        820           False  \nmpetitions/phase-ii-widsdatathon2022                      2022-06-30 23:59:00  Analytics            Kudos          0           False  \nmpetitions/us-patent-phrase-to-phrase-matching            2022-06-20 23:59:00  Featured           $25,000        965           False  \nmpetitions/image-matching-challenge-2022                  2022-06-02 23:59:00  Research           $10,000        385           False  \n",
     "output_type": "stream"
    }
   ]
  },
  {
   "cell_type": "code",
   "metadata": {
    "cell_id": "e6819b2c86604402aa4a6d5a922b2a54",
    "tags": [],
    "deepnote_to_be_reexecuted": false,
    "source_hash": "ace1cdf9",
    "execution_start": 1651849932362,
    "execution_millis": 1277,
    "deepnote_cell_type": "code",
    "deepnote_cell_height": 560.3125
   },
   "source": "!kaggle datasets list -s cat",
   "execution_count": null,
   "outputs": [
    {
     "name": "stdout",
     "text": "Warning: Your Kaggle API key is readable by other users on this system! To fix this, you can run 'chmod 600 /root/.kaggle/kaggle.json'\nref                                                                    title                                               size  lastUpdated          downloadCount  voteCount  usabilityRating  \n---------------------------------------------------------------------  -------------------------------------------------  -----  -------------------  -------------  ---------  ---------------  \ndatasets/crawford/cat-dataset                                          Cat Dataset                                          4GB  2018-02-16 23:41:25          19050        590  0.8125           \ndatasets/tongpython/cat-and-dog                                        Cat and Dog                                        218MB  2018-04-26 10:56:50          54096        846  0.75             \ndatasets/jessicali9530/animal-crossing-new-horizons-nookplaza-dataset  Animal Crossing New Horizons Catalog               577KB  2021-06-08 15:05:09          18213      14936  0.8235294        \ndatasets/d4rklucif3r/cat-and-dogs                                      Cat & Dogs                                         218MB  2021-06-07 11:39:13            931         48  0.875            \ndatasets/ma7555/cat-breeds-dataset                                     Cat Breeds Dataset                                   2GB  2019-12-12 12:42:00           3705        108  0.7941176        \ndatasets/rmisra/news-category-dataset                                  News Category Dataset                               25MB  2018-12-02 04:09:45          32494        547  1.0              \ndatasets/mriganksingh/cat-images-dataset                               Cat images Dataset                                   3MB  2019-04-13 20:24:18           1761         32  0.75             \ndatasets/mkechinov/ecommerce-behavior-data-from-multi-category-store   eCommerce behavior data from multi category store    4GB  2019-12-09 20:43:39          15043        417  1.0              \ndatasets/andrewmvd/dog-and-cat-detection                               Dog and Cat Detection                                1GB  2020-05-12 20:46:17           1636         38  0.875            \ndatasets/shaunthesheep/microsoft-catsvsdogs-dataset                    Cats-vs-Dogs                                       788MB  2020-03-12 05:34:30           9875        158  0.875            \ndatasets/lepchenkov/usedcarscatalog                                    Used-cars-catalog                                  824KB  2019-12-02 12:02:05           5763         98  1.0              \ndatasets/mrisdal/open-exoplanet-catalogue                              Open Exoplanet Catalogue                           123KB  2017-06-08 19:59:22           3488        164  0.8235294        \ndatasets/bharadwaj6/kindle-reviews                                     Amazon reviews: Kindle Store Category              525MB  2018-05-22 04:50:16           5642        148  1.0              \ndatasets/harriken/bias-media-cat                                       Bias Media CAT                                      17MB  2017-10-27 22:46:25            380         32  0.7647059        \ndatasets/chetankv/dogs-cats-images                                     Dogs & Cats Images                                 435MB  2018-04-19 18:20:08          27536        525  0.5625           \ndatasets/shayanfazeli/heartbeat                                        ECG Heartbeat Categorization Dataset                99MB  2018-05-31 18:47:34          38316        616  0.5882353        \ndatasets/mmoreaux/audio-cats-and-dogs                                  Audio Cats and Dogs                                 97MB  2017-10-05 09:40:26           8349        217  0.7647059        \ndatasets/andrewmvd/cat-meow-classification                             Cat Meow Classification                             12MB  2021-11-22 07:16:46            211         42  0.875            \ndatasets/uciml/ct-slice-localization                                   CAT Scan Localization                               18MB  2017-09-06 22:01:03            520         35  0.7058824        \ndatasets/therohk/examine-the-examiner                                  The Examiner - Spam Clickbait Catalog               76MB  2021-04-07 19:28:55           2260         53  1.0              \n",
     "output_type": "stream"
    }
   ]
  },
  {
   "cell_type": "code",
   "metadata": {
    "cell_id": "7482c973e9604c6897426767e6c87ec2",
    "tags": [],
    "deepnote_to_be_reexecuted": false,
    "source_hash": "5f967dd6",
    "execution_start": 1651894572245,
    "execution_millis": 5745,
    "deepnote_cell_type": "code",
    "deepnote_cell_height": 378.625
   },
   "source": "!kaggle kernels list --user wwkiyyx",
   "execution_count": null,
   "outputs": [
    {
     "name": "stdout",
     "text": "Warning: Your Kaggle API key is readable by other users on this system! To fix this, you can run 'chmod 600 /root/.kaggle/kaggle.json'\nref                                             title                              author   lastRunTime          totalVotes  \n----------------------------------------------  ---------------------------------  -------  -------------------  ----------  \ncode/wwkiyyx/kaggle-to-github                   Kaggle to github                   wwkiyyx  2022-04-25 01:36:50           1  \ncode/wwkiyyx/face-mask-detection                Face Mask Detection                wwkiyyx  2022-04-15 14:33:49           1  \ncode/wwkiyyx/sanan-fx                           sanan_fx                           wwkiyyx  2022-03-04 02:34:08           1  \ncode/wwkiyyx/yolov5-coco128                     yolov5_coco128                     wwkiyyx  2021-10-22 07:01:27           1  \ncode/wwkiyyx/oxford-iiit-pet                    Oxford-IIIT Pet                    wwkiyyx  2022-03-29 07:42:10           1  \ncode/wwkiyyx/tensorflow-object-detection-api    tensorflow_object_detection_api    wwkiyyx  2021-11-12 00:39:28           1  \ncode/wwkiyyx/titanic-of-wwk                     Titanic of wwk                     wwkiyyx  2022-03-29 03:15:54           1  \ncode/wwkiyyx/ngrok                              ngrok                              wwkiyyx  2022-02-25 00:48:48           1  \ncode/wwkiyyx/tensorflow-object-detection-api-2  tensorflow_object_detection_api_2  wwkiyyx  2021-11-12 06:15:58           1  \ncode/wwkiyyx/tensorflow-object-detection-api-1  tensorflow_object_detection_api_1  wwkiyyx  2021-10-22 15:10:13           1  \ncode/wwkiyyx/yolov3-coco128-pet                 yolov3_coco128_pet                 wwkiyyx  2022-04-04 01:18:00           1  \n",
     "output_type": "stream"
    }
   ]
  },
  {
   "cell_type": "code",
   "metadata": {
    "cell_id": "2aabaf3cc6334c1690e0e0bf5ae20b92",
    "tags": [],
    "deepnote_to_be_reexecuted": false,
    "source_hash": "2dc8f138",
    "execution_start": 1651851345160,
    "execution_millis": 1279,
    "deepnote_cell_type": "code",
    "deepnote_cell_height": 136.375
   },
   "source": "!kaggle kernels init -p /work/wangwenkai40/Kaggle",
   "execution_count": null,
   "outputs": [
    {
     "name": "stdout",
     "text": "Warning: Your Kaggle API key is readable by other users on this system! To fix this, you can run 'chmod 600 /root/.kaggle/kaggle.json'\nKernel metadata template written to: /work/wangwenkai40/Kaggle/kernel-metadata.json\n",
     "output_type": "stream"
    }
   ]
  },
  {
   "cell_type": "code",
   "metadata": {
    "cell_id": "ee3bdb712bab4e9ba74c2b78b107c448",
    "tags": [],
    "deepnote_to_be_reexecuted": false,
    "source_hash": "d4d31703",
    "execution_start": 1651894589241,
    "execution_millis": 2661,
    "owner_user_id": "64653946-af2f-4699-a282-4043b0ba5576",
    "deepnote_cell_type": "code",
    "deepnote_cell_height": 156.5625
   },
   "source": "!kaggle kernels push -p /work/wangwenkai40/Kaggle",
   "execution_count": null,
   "outputs": [
    {
     "name": "stdout",
     "text": "Warning: Your Kaggle API key is readable by other users on this system! To fix this, you can run 'chmod 600 /root/.kaggle/kaggle.json'\nYour kernel title does not resolve to the specified id. This may result in surprising behavior. We suggest making your title something that resolves to the specified id. See https://en.wikipedia.org/wiki/Clean_URL#Slug for more information on how slugs are determined.\nKernel version 1 successfully pushed.  Please check progress at https://www.kaggle.com/code/wwkiyyx/kaggle-cli-test\n",
     "output_type": "stream"
    }
   ]
  },
  {
   "cell_type": "markdown",
   "source": "<a style='text-decoration:none;line-height:16px;display:flex;color:#5B5B62;padding:10px;justify-content:end;' href='https://deepnote.com?utm_source=created-in-deepnote-cell&projectId=26e5d5b4-a604-4f7b-aef4-7756f8127ef0' target=\"_blank\">\n<img alt='Created in deepnote.com' style='display:inline;max-height:16px;margin:0px;margin-right:7.5px;' src='data:image/svg+xml;base64,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' > </img>\nCreated in <span style='font-weight:600;margin-left:4px;'>Deepnote</span></a>",
   "metadata": {
    "tags": [],
    "created_in_deepnote_cell": true,
    "deepnote_cell_type": "markdown"
   }
  }
 ],
 "nbformat": 4,
 "nbformat_minor": 2,
 "metadata": {
  "orig_nbformat": 2,
  "deepnote": {},
  "deepnote_notebook_id": "c65e39c8-5a0a-4a9e-8084-038ef10f370b",
  "deepnote_execution_queue": []
 }
}