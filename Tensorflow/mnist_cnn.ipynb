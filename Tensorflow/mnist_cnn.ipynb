{
 "cells": [
  {
   "cell_type": "markdown",
   "source": "# 神经网络",
   "metadata": {
    "tags": [],
    "cell_id": "00000-e269af51-ef97-496a-8705-5b9289a1d3fd",
    "is_collapsed": false,
    "deepnote_cell_type": "text-cell-h1"
   }
  },
  {
   "cell_type": "code",
   "metadata": {
    "tags": [],
    "cell_id": "00000-b837595e-46c0-48b7-b21f-9b8bdce3e4c1",
    "deepnote_to_be_reexecuted": false,
    "source_hash": "a412b705",
    "execution_start": 1623669333070,
    "execution_millis": 40759,
    "deepnote_cell_type": "code",
    "deepnote_cell_height": 748.125,
    "deepnote_output_heights": [
     null,
     21.1875
    ]
   },
   "source": "import tensorflow as tf\n(tri, trl), (tsi, tsl) = tf.keras.datasets.mnist.load_data()\ntri, tsi = tri / 255.0, tsi / 255.0\nnn = tf.keras.models.Sequential()\nnn.add(tf.keras.layers.Flatten(input_shape=(28, 28)))\nnn.add(tf.keras.layers.Dense(128, activation='relu'))\nnn.add(tf.keras.layers.Dropout(0.2))\nnn.add(tf.keras.layers.Dense(10, activation='softmax'))\nnn.compile(optimizer='adam', loss='sparse_categorical_crossentropy', metrics=['accuracy'])\nnn.fit(tri, trl, epochs=10)\nnn.evaluate(tsi, tsl, verbose=2)",
   "execution_count": null,
   "outputs": [
    {
     "name": "stdout",
     "text": "Epoch 1/10\n1875/1875 [==============================] - 3s 2ms/step - loss: 0.4822 - accuracy: 0.8583\nEpoch 2/10\n1875/1875 [==============================] - 3s 2ms/step - loss: 0.1525 - accuracy: 0.9555\nEpoch 3/10\n1875/1875 [==============================] - 3s 2ms/step - loss: 0.1101 - accuracy: 0.9661\nEpoch 4/10\n1875/1875 [==============================] - 3s 2ms/step - loss: 0.0898 - accuracy: 0.9720\nEpoch 5/10\n1875/1875 [==============================] - 3s 2ms/step - loss: 0.0723 - accuracy: 0.9779\nEpoch 6/10\n1875/1875 [==============================] - 3s 2ms/step - loss: 0.0639 - accuracy: 0.9797\nEpoch 7/10\n1875/1875 [==============================] - 3s 2ms/step - loss: 0.0544 - accuracy: 0.9824\nEpoch 8/10\n1875/1875 [==============================] - 3s 2ms/step - loss: 0.0497 - accuracy: 0.9841\nEpoch 9/10\n1875/1875 [==============================] - 8s 4ms/step - loss: 0.0458 - accuracy: 0.9851\nEpoch 10/10\n1875/1875 [==============================] - 7s 4ms/step - loss: 0.0432 - accuracy: 0.9851\n313/313 - 1s - loss: 0.0751 - accuracy: 0.9796\n",
     "output_type": "stream"
    },
    {
     "output_type": "execute_result",
     "execution_count": 2,
     "data": {
      "text/plain": "[0.07514111697673798, 0.9796000123023987]"
     },
     "metadata": {}
    }
   ]
  },
  {
   "cell_type": "markdown",
   "source": "# 卷积神经网络CNN",
   "metadata": {
    "tags": [],
    "cell_id": "00002-d2f3cbcd-688f-4b62-9909-f0b93c583aa8",
    "is_collapsed": false,
    "deepnote_cell_type": "text-cell-h1"
   }
  },
  {
   "cell_type": "code",
   "metadata": {
    "tags": [],
    "cell_id": "00001-0fc43d0a-6dfd-46da-b0e3-313895829e65",
    "deepnote_to_be_reexecuted": false,
    "source_hash": "ca719ba8",
    "execution_start": 1623669662244,
    "execution_millis": 968869,
    "deepnote_cell_type": "code",
    "deepnote_cell_height": 1041.1875,
    "deepnote_output_heights": [
     null,
     21.1875
    ]
   },
   "source": "import tensorflow as tf\n(tri, trl), (tsi, tsl) = tf.keras.datasets.mnist.load_data()\ntri, tsi = tri / 255.0, tsi / 255.0\ntri = tri.reshape(tri.shape[0], 28, 28, 1)\ntsi = tsi.reshape(tsi.shape[0], 28, 28, 1)\ncnn = tf.keras.models.Sequential()\ncnn.add(tf.keras.layers.Conv2D(32, (3, 3), activation='relu', input_shape=(28, 28, 1)))\ncnn.add(tf.keras.layers.MaxPooling2D((2, 2)))\ncnn.add(tf.keras.layers.Conv2D(64, (3, 3), activation='relu'))\ncnn.add(tf.keras.layers.MaxPooling2D((2, 2)))\ncnn.add(tf.keras.layers.Flatten())\ncnn.add(tf.keras.layers.Dense(128, activation='relu'))\ncnn.add(tf.keras.layers.Dropout(0.2))\ncnn.add(tf.keras.layers.Dense(10, activation='softmax'))\ncnn.compile(optimizer='adam', loss='sparse_categorical_crossentropy', metrics=['accuracy'])\ncnn.fit(tri, trl, epochs=20)\ncnn.evaluate(tsi, tsl, verbose=2)",
   "execution_count": null,
   "outputs": [
    {
     "name": "stdout",
     "text": "Epoch 1/20\n1875/1875 [==============================] - 52s 27ms/step - loss: 0.3189 - accuracy: 0.9007\nEpoch 2/20\n1875/1875 [==============================] - 44s 23ms/step - loss: 0.0528 - accuracy: 0.9839\nEpoch 3/20\n1875/1875 [==============================] - 44s 23ms/step - loss: 0.0348 - accuracy: 0.9887\nEpoch 4/20\n1875/1875 [==============================] - 44s 24ms/step - loss: 0.0281 - accuracy: 0.9912\nEpoch 5/20\n1875/1875 [==============================] - 45s 24ms/step - loss: 0.0217 - accuracy: 0.9925\nEpoch 6/20\n1875/1875 [==============================] - 44s 23ms/step - loss: 0.0178 - accuracy: 0.9943\nEpoch 7/20\n1875/1875 [==============================] - 53s 28ms/step - loss: 0.0135 - accuracy: 0.9957\nEpoch 8/20\n1875/1875 [==============================] - 58s 31ms/step - loss: 0.0102 - accuracy: 0.9969\nEpoch 9/20\n1875/1875 [==============================] - 56s 30ms/step - loss: 0.0092 - accuracy: 0.9974\nEpoch 10/20\n1875/1875 [==============================] - 47s 25ms/step - loss: 0.0087 - accuracy: 0.9975\nEpoch 11/20\n1875/1875 [==============================] - 43s 23ms/step - loss: 0.0105 - accuracy: 0.9966\nEpoch 12/20\n1875/1875 [==============================] - 45s 24ms/step - loss: 0.0073 - accuracy: 0.9977\nEpoch 13/20\n1875/1875 [==============================] - 50s 27ms/step - loss: 0.0069 - accuracy: 0.9973\nEpoch 14/20\n1875/1875 [==============================] - 47s 25ms/step - loss: 0.0071 - accuracy: 0.9974\nEpoch 15/20\n1875/1875 [==============================] - 44s 24ms/step - loss: 0.0070 - accuracy: 0.9976\nEpoch 16/20\n1875/1875 [==============================] - 48s 25ms/step - loss: 0.0069 - accuracy: 0.9975\nEpoch 17/20\n1875/1875 [==============================] - 43s 23ms/step - loss: 0.0048 - accuracy: 0.9984\nEpoch 18/20\n1875/1875 [==============================] - 43s 23ms/step - loss: 0.0069 - accuracy: 0.9978\nEpoch 19/20\n1875/1875 [==============================] - 43s 23ms/step - loss: 0.0061 - accuracy: 0.9979\nEpoch 20/20\n1875/1875 [==============================] - 67s 36ms/step - loss: 0.0040 - accuracy: 0.9985\n313/313 - 7s - loss: 0.0383 - accuracy: 0.9925\n",
     "output_type": "stream"
    },
    {
     "output_type": "execute_result",
     "execution_count": 4,
     "data": {
      "text/plain": "[0.03832231089472771, 0.9925000071525574]"
     },
     "metadata": {}
    }
   ]
  },
  {
   "cell_type": "markdown",
   "source": "# DenseNet121|DenseNet169|DenseNet201",
   "metadata": {
    "tags": [],
    "cell_id": "00005-ef449e6e-42c9-4862-bdf9-030e19cddd92",
    "is_collapsed": false,
    "deepnote_cell_type": "text-cell-h1"
   }
  },
  {
   "cell_type": "code",
   "metadata": {
    "tags": [],
    "cell_id": "00005-fea2d103-617e-4e3a-a539-5caa33e4298b",
    "deepnote_to_be_reexecuted": false,
    "source_hash": "b35882ef",
    "execution_start": 1648791927859,
    "execution_millis": 28513853,
    "deepnote_cell_type": "code",
    "deepnote_cell_height": 872.875,
    "deepnote_output_heights": [
     null,
     null,
     21.1875
    ]
   },
   "source": "import tensorflow as tf\n(tri, trl), (tsi, tsl) = tf.keras.datasets.mnist.load_data()\ntri, tsi = tri / 255.0, tsi / 255.0\ntri = tri.reshape(tri.shape[0], 28, 28, 1)\ntsi = tsi.reshape(tsi.shape[0], 28, 28, 1)\ntri = tf.image.resize(tri, [32,32])\ntsi = tf.image.resize(tsi, [32,32])\nmobile_net = tf.keras.applications.DenseNet121(input_shape=(32, 32, 1), weights=None, classes=10)\nmobile_net.trainable=True\nmobile_net.compile(optimizer='adam', loss='sparse_categorical_crossentropy', metrics=['accuracy'])\nmobile_net.fit(tri, trl, epochs=10)\nmobile_net.evaluate(tsi, tsl, verbose=2)",
   "execution_count": null,
   "outputs": [
    {
     "name": "stdout",
     "text": "Downloading data from https://storage.googleapis.com/tensorflow/tf-keras-datasets/mnist.npz\n11493376/11490434 [==============================] - 0s 0us/step\n11501568/11490434 [==============================] - 0s 0us/step\nEpoch 1/10\n1875/1875 [==============================] - 1636s 865ms/step - loss: 0.1335 - accuracy: 0.9601\nEpoch 2/10\n1875/1875 [==============================] - 2084s 1s/step - loss: 0.0611 - accuracy: 0.9823\nEpoch 3/10\n1875/1875 [==============================] - 3233s 2s/step - loss: 0.0566 - accuracy: 0.9834\nEpoch 4/10\n1875/1875 [==============================] - 3403s 2s/step - loss: 0.0417 - accuracy: 0.9877\nEpoch 5/10\n1875/1875 [==============================] - 3255s 2s/step - loss: 0.0380 - accuracy: 0.9887\nEpoch 6/10\n1875/1875 [==============================] - 3791s 2s/step - loss: 0.0358 - accuracy: 0.9888\nEpoch 7/10\n1875/1875 [==============================] - 3827s 2s/step - loss: 0.0274 - accuracy: 0.9915\nEpoch 8/10\n1381/1875 [=====================>........] - ETA: 12:42 - loss: 0.0237 - accuracy: 0.9930",
     "output_type": "stream"
    },
    {
     "name": "stdout",
     "text": "1875/1875 [==============================] - 2706s 1s/step - loss: 0.0241 - accuracy: 0.9930\nEpoch 9/10\n1875/1875 [==============================] - 2233s 1s/step - loss: 0.0218 - accuracy: 0.9934\nEpoch 10/10\n1875/1875 [==============================] - 2207s 1s/step - loss: 0.0189 - accuracy: 0.9942\n313/313 - 84s - loss: 0.0389 - accuracy: 0.9881 - 84s/epoch - 268ms/step\n",
     "output_type": "stream"
    },
    {
     "output_type": "execute_result",
     "execution_count": 1,
     "data": {
      "text/plain": "[0.038852259516716, 0.988099992275238]"
     },
     "metadata": {}
    }
   ]
  },
  {
   "cell_type": "markdown",
   "source": "# MobileNetV2",
   "metadata": {
    "tags": [],
    "cell_id": "00006-9bfc7ae4-1ac7-487a-ac43-7f0abcbb9632",
    "is_collapsed": false,
    "deepnote_cell_type": "text-cell-h1"
   }
  },
  {
   "cell_type": "code",
   "metadata": {
    "tags": [],
    "cell_id": "00006-9e376f7d-6090-431c-a3c8-3eb90c6c355e",
    "deepnote_to_be_reexecuted": false,
    "source_hash": "6aa3b4e6",
    "execution_start": 1648779793444,
    "execution_millis": 4851855,
    "deepnote_cell_type": "code",
    "deepnote_cell_height": 826.6875,
    "deepnote_output_heights": [
     null,
     21.1875
    ]
   },
   "source": "import tensorflow as tf\n(tri, trl), (tsi, tsl) = tf.keras.datasets.mnist.load_data()\ntri, tsi = tri / 255.0, tsi / 255.0\ntri = tri.reshape(tri.shape[0], 28, 28, 1)\ntsi = tsi.reshape(tsi.shape[0], 28, 28, 1)\ntri = tf.image.resize(tri, [32,32])\ntsi = tf.image.resize(tsi, [32,32])\nmobile_net = tf.keras.applications.MobileNetV2(input_shape=(32, 32, 1), weights=None, classes=10)\nmobile_net.trainable=True\nmobile_net.compile(optimizer='adam', loss='sparse_categorical_crossentropy', metrics=['accuracy'])\nmobile_net.fit(tri, trl, epochs=10)\nmobile_net.evaluate(tsi, tsl, verbose=2)",
   "execution_count": null,
   "outputs": [
    {
     "name": "stdout",
     "text": "Downloading data from https://storage.googleapis.com/tensorflow/tf-keras-datasets/mnist.npz\n11493376/11490434 [==============================] - 0s 0us/step\n11501568/11490434 [==============================] - 0s 0us/step\nEpoch 1/10\n1875/1875 [==============================] - 453s 238ms/step - loss: 0.4562 - accuracy: 0.8619\nEpoch 2/10\n1875/1875 [==============================] - 432s 230ms/step - loss: 0.1507 - accuracy: 0.9608\nEpoch 3/10\n1875/1875 [==============================] - 426s 227ms/step - loss: 0.1199 - accuracy: 0.9697\nEpoch 4/10\n1875/1875 [==============================] - 418s 223ms/step - loss: 0.1141 - accuracy: 0.9719\nEpoch 5/10\n1875/1875 [==============================] - 418s 223ms/step - loss: 0.0869 - accuracy: 0.9786\nEpoch 6/10\n1875/1875 [==============================] - 527s 281ms/step - loss: 0.0719 - accuracy: 0.9819\nEpoch 7/10\n1875/1875 [==============================] - 485s 259ms/step - loss: 0.0671 - accuracy: 0.9828\nEpoch 8/10\n1875/1875 [==============================] - 518s 276ms/step - loss: 0.0508 - accuracy: 0.9868\nEpoch 9/10\n1875/1875 [==============================] - 519s 277ms/step - loss: 0.0493 - accuracy: 0.9875\nEpoch 10/10\n1875/1875 [==============================] - 597s 318ms/step - loss: 0.0442 - accuracy: 0.9880\n313/313 - 15s - loss: 0.1278 - accuracy: 0.9801 - 15s/epoch - 46ms/step\n",
     "output_type": "stream"
    },
    {
     "output_type": "execute_result",
     "execution_count": 1,
     "data": {
      "text/plain": "[0.12780456244945526, 0.9800999760627747]"
     },
     "metadata": {}
    }
   ]
  },
  {
   "cell_type": "markdown",
   "source": "<a style='text-decoration:none;line-height:16px;display:flex;color:#5B5B62;padding:10px;justify-content:end;' href='https://deepnote.com?utm_source=created-in-deepnote-cell&projectId=26e5d5b4-a604-4f7b-aef4-7756f8127ef0' target=\"_blank\">\n<img alt='Created in deepnote.com' style='display:inline;max-height:16px;margin:0px;margin-right:7.5px;' src='data:image/svg+xml;base64,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' > </img>\nCreated in <span style='font-weight:600;margin-left:4px;'>Deepnote</span></a>",
   "metadata": {
    "tags": [],
    "created_in_deepnote_cell": true,
    "deepnote_cell_type": "markdown"
   }
  }
 ],
 "nbformat": 4,
 "nbformat_minor": 2,
 "metadata": {
  "orig_nbformat": 2,
  "deepnote": {
   "is_reactive": false
  },
  "deepnote_notebook_id": "3e9ea3d2-8331-4e43-b341-57ad37035431",
  "deepnote_execution_queue": []
 }
}