{
 "cells": [
  {
   "cell_type": "markdown",
   "source": "# 神经网络",
   "metadata": {
    "tags": [],
    "cell_id": "00000-954ab6bd-ea7e-4e9c-ba77-1fa87682ed6a",
    "is_collapsed": false,
    "deepnote_cell_type": "text-cell-h1"
   }
  },
  {
   "cell_type": "code",
   "metadata": {
    "tags": [],
    "cell_id": "00000-b2b50d3b-c9e4-4ede-939d-865d277a796d",
    "deepnote_to_be_reexecuted": false,
    "source_hash": "d6f139fc",
    "execution_start": 1623675868383,
    "execution_millis": 56065,
    "deepnote_output_heights": [
     null,
     21
    ],
    "deepnote_cell_type": "code"
   },
   "source": "import tensorflow as tf\n(tri, trl), (tsi, tsl) = tf.keras.datasets.fashion_mnist.load_data()\ntri, tsi = tri / 255.0, tsi / 255.0\nnn = tf.keras.models.Sequential()\nnn.add(tf.keras.layers.Flatten(input_shape=(28, 28)))\nnn.add(tf.keras.layers.Dense(128, activation='relu'))\nnn.add(tf.keras.layers.Dropout(0.2))\nnn.add(tf.keras.layers.Dense(10, activation='softmax'))\nnn.compile(optimizer='adam', loss='sparse_categorical_crossentropy', metrics=['accuracy'])\nnn.fit(tri, trl, epochs=10)\nnn.evaluate(tsi, tsl, verbose=2)",
   "execution_count": null,
   "outputs": [
    {
     "name": "stdout",
     "text": "Downloading data from https://storage.googleapis.com/tensorflow/tf-keras-datasets/train-labels-idx1-ubyte.gz\n32768/29515 [=================================] - 0s 0us/step\nDownloading data from https://storage.googleapis.com/tensorflow/tf-keras-datasets/train-images-idx3-ubyte.gz\n26427392/26421880 [==============================] - 0s 0us/step\nDownloading data from https://storage.googleapis.com/tensorflow/tf-keras-datasets/t10k-labels-idx1-ubyte.gz\n8192/5148 [===============================================] - 0s 0us/step\nDownloading data from https://storage.googleapis.com/tensorflow/tf-keras-datasets/t10k-images-idx3-ubyte.gz\n4423680/4422102 [==============================] - 0s 0us/step\nEpoch 1/10\n1875/1875 [==============================] - 7s 3ms/step - loss: 0.6871 - accuracy: 0.7591\nEpoch 2/10\n1875/1875 [==============================] - 4s 2ms/step - loss: 0.4092 - accuracy: 0.8520\nEpoch 3/10\n1875/1875 [==============================] - 5s 2ms/step - loss: 0.3801 - accuracy: 0.8605\nEpoch 4/10\n1875/1875 [==============================] - 5s 2ms/step - loss: 0.3436 - accuracy: 0.8748\nEpoch 5/10\n1875/1875 [==============================] - 5s 2ms/step - loss: 0.3313 - accuracy: 0.8787\nEpoch 6/10\n1875/1875 [==============================] - 5s 2ms/step - loss: 0.3232 - accuracy: 0.8788\nEpoch 7/10\n1875/1875 [==============================] - 5s 3ms/step - loss: 0.3044 - accuracy: 0.8863\nEpoch 8/10\n1875/1875 [==============================] - 5s 2ms/step - loss: 0.2958 - accuracy: 0.8910\nEpoch 9/10\n1875/1875 [==============================] - 6s 3ms/step - loss: 0.2882 - accuracy: 0.8937\nEpoch 10/10\n1875/1875 [==============================] - 5s 2ms/step - loss: 0.2870 - accuracy: 0.8920\n313/313 - 0s - loss: 0.3340 - accuracy: 0.8812\n",
     "output_type": "stream"
    },
    {
     "output_type": "execute_result",
     "execution_count": 1,
     "data": {
      "text/plain": "[0.33398911356925964, 0.8812000155448914]"
     },
     "metadata": {}
    }
   ]
  },
  {
   "cell_type": "markdown",
   "source": "# 卷积神经网络CNN",
   "metadata": {
    "tags": [],
    "cell_id": "00002-c7107f4c-cf48-4fd9-a06c-0781837969f3",
    "is_collapsed": false,
    "deepnote_cell_type": "text-cell-h1"
   }
  },
  {
   "cell_type": "code",
   "metadata": {
    "tags": [],
    "cell_id": "00001-ad9ffdcb-7fae-4487-b8cb-2888d1cd2bd3",
    "deepnote_to_be_reexecuted": false,
    "source_hash": "916f0fd1",
    "execution_start": 1623672656241,
    "execution_millis": 1558463,
    "deepnote_output_heights": [
     null,
     21
    ],
    "deepnote_cell_type": "code"
   },
   "source": "import tensorflow as tf\n(tri, trl), (tsi, tsl) = tf.keras.datasets.fashion_mnist.load_data()\ntri, tsi = tri / 255.0, tsi / 255.0\ntri = tri.reshape(tri.shape[0], 28, 28, 1)\ntsi = tsi.reshape(tsi.shape[0], 28, 28, 1)\ncnn = tf.keras.models.Sequential()\ncnn.add(tf.keras.layers.Conv2D(32, (3, 3), activation='relu', input_shape=(28, 28, 1)))\ncnn.add(tf.keras.layers.MaxPooling2D((2, 2)))\ncnn.add(tf.keras.layers.Conv2D(64, (3, 3), activation='relu'))\ncnn.add(tf.keras.layers.MaxPooling2D((2, 2)))\ncnn.add(tf.keras.layers.Flatten())\ncnn.add(tf.keras.layers.Dense(128, activation='relu'))\ncnn.add(tf.keras.layers.Dropout(0.2))\ncnn.add(tf.keras.layers.Dense(10, activation='softmax'))\ncnn.compile(optimizer='adam', loss='sparse_categorical_crossentropy', metrics=['accuracy'])\ncnn.fit(tri, trl, epochs=20)\ncnn.evaluate(tsi, tsl, verbose=2)",
   "execution_count": null,
   "outputs": [
    {
     "name": "stdout",
     "text": "Epoch 1/20\n1875/1875 [==============================] - 87s 46ms/step - loss: 0.6559 - accuracy: 0.7628\nEpoch 2/20\n1875/1875 [==============================] - 127s 68ms/step - loss: 0.3349 - accuracy: 0.8759\nEpoch 3/20\n1875/1875 [==============================] - 75s 40ms/step - loss: 0.2852 - accuracy: 0.8948\nEpoch 4/20\n1875/1875 [==============================] - 73s 39ms/step - loss: 0.2498 - accuracy: 0.9083\nEpoch 5/20\n1875/1875 [==============================] - 72s 39ms/step - loss: 0.2263 - accuracy: 0.9162\nEpoch 6/20\n1875/1875 [==============================] - 72s 39ms/step - loss: 0.2015 - accuracy: 0.9250\nEpoch 7/20\n1875/1875 [==============================] - 73s 39ms/step - loss: 0.1854 - accuracy: 0.9305\nEpoch 8/20\n1875/1875 [==============================] - 73s 39ms/step - loss: 0.1687 - accuracy: 0.9360\nEpoch 9/20\n1875/1875 [==============================] - 93s 50ms/step - loss: 0.1522 - accuracy: 0.9438\nEpoch 10/20\n1875/1875 [==============================] - 82s 44ms/step - loss: 0.1404 - accuracy: 0.9459\nEpoch 11/20\n1875/1875 [==============================] - 73s 39ms/step - loss: 0.1298 - accuracy: 0.9509\nEpoch 12/20\n1875/1875 [==============================] - 73s 39ms/step - loss: 0.1199 - accuracy: 0.9538\nEpoch 13/20\n1875/1875 [==============================] - 72s 39ms/step - loss: 0.1130 - accuracy: 0.9568\nEpoch 14/20\n1875/1875 [==============================] - 72s 39ms/step - loss: 0.0970 - accuracy: 0.9629\nEpoch 15/20\n1875/1875 [==============================] - 73s 39ms/step - loss: 0.0971 - accuracy: 0.9626\nEpoch 16/20\n1875/1875 [==============================] - 72s 39ms/step - loss: 0.0867 - accuracy: 0.9662\nEpoch 17/20\n1875/1875 [==============================] - 72s 38ms/step - loss: 0.0836 - accuracy: 0.9672\nEpoch 18/20\n1875/1875 [==============================] - 72s 39ms/step - loss: 0.0802 - accuracy: 0.9693\nEpoch 19/20\n1875/1875 [==============================] - 72s 39ms/step - loss: 0.0751 - accuracy: 0.9701\nEpoch 20/20\n1875/1875 [==============================] - 72s 38ms/step - loss: 0.0694 - accuracy: 0.9744\n313/313 - 4s - loss: 0.3865 - accuracy: 0.9078\n",
     "output_type": "stream"
    },
    {
     "output_type": "execute_result",
     "execution_count": 2,
     "data": {
      "text/plain": "[0.38650134205818176, 0.907800018787384]"
     },
     "metadata": {}
    }
   ]
  },
  {
   "cell_type": "code",
   "metadata": {
    "tags": [],
    "cell_id": "00004-c53b4607-678b-458c-9e53-38d5907ea593",
    "deepnote_to_be_reexecuted": false,
    "source_hash": "c569d313",
    "execution_start": 1623676049710,
    "execution_millis": 2845574,
    "deepnote_output_heights": [
     null,
     21
    ],
    "deepnote_cell_type": "code"
   },
   "source": "import tensorflow as tf\n(tri, trl), (tsi, tsl) = tf.keras.datasets.fashion_mnist.load_data()\ntri, tsi = tri / 255.0, tsi / 255.0\ntri = tri.reshape(tri.shape[0], 28, 28, 1)\ntsi = tsi.reshape(tsi.shape[0], 28, 28, 1)\ncnn = tf.keras.models.Sequential()\ncnn.add(tf.keras.layers.Conv2D(32, (3, 3), padding='same', activation='relu', input_shape=(28, 28, 1)))\ncnn.add(tf.keras.layers.MaxPooling2D((2, 2)))\ncnn.add(tf.keras.layers.Conv2D(64, (3, 3), padding='same', activation='relu'))\ncnn.add(tf.keras.layers.MaxPooling2D((2, 2)))\ncnn.add(tf.keras.layers.Conv2D(64, (3, 3), padding='same', activation='relu'))\ncnn.add(tf.keras.layers.MaxPooling2D((2, 2)))\ncnn.add(tf.keras.layers.Flatten())\ncnn.add(tf.keras.layers.Dense(256, activation='relu'))\ncnn.add(tf.keras.layers.Dropout(0.25))\ncnn.add(tf.keras.layers.Dense(10, activation='softmax'))\ncnn.compile(optimizer='adam', loss='sparse_categorical_crossentropy', metrics=['accuracy'])\ncnn.fit(tri, trl, epochs=20)\ncnn.evaluate(tsi,  tsl, verbose=2)",
   "execution_count": null,
   "outputs": [
    {
     "name": "stdout",
     "text": "Epoch 1/20\n1875/1875 [==============================] - 144s 77ms/step - loss: 0.6583 - accuracy: 0.7582\nEpoch 2/20\n1875/1875 [==============================] - 143s 76ms/step - loss: 0.2995 - accuracy: 0.8909\nEpoch 3/20\n1875/1875 [==============================] - 146s 78ms/step - loss: 0.2472 - accuracy: 0.9086\nEpoch 4/20\n1875/1875 [==============================] - 140s 74ms/step - loss: 0.2142 - accuracy: 0.9199\nEpoch 5/20\n1875/1875 [==============================] - 136s 72ms/step - loss: 0.1915 - accuracy: 0.9279\nEpoch 6/20\n1875/1875 [==============================] - 137s 73ms/step - loss: 0.1768 - accuracy: 0.9337\nEpoch 7/20\n1875/1875 [==============================] - 140s 75ms/step - loss: 0.1539 - accuracy: 0.9414\nEpoch 8/20\n1875/1875 [==============================] - 137s 73ms/step - loss: 0.1468 - accuracy: 0.9450\nEpoch 9/20\n1875/1875 [==============================] - 145s 77ms/step - loss: 0.1277 - accuracy: 0.9510\nEpoch 10/20\n1875/1875 [==============================] - 140s 75ms/step - loss: 0.1185 - accuracy: 0.9549\nEpoch 11/20\n1875/1875 [==============================] - 164s 87ms/step - loss: 0.1044 - accuracy: 0.9606\nEpoch 12/20\n1875/1875 [==============================] - 141s 75ms/step - loss: 0.0968 - accuracy: 0.9634\nEpoch 13/20\n1875/1875 [==============================] - 135s 72ms/step - loss: 0.0872 - accuracy: 0.9669\nEpoch 14/20\n1875/1875 [==============================] - 137s 73ms/step - loss: 0.0859 - accuracy: 0.9676\nEpoch 15/20\n1875/1875 [==============================] - 135s 72ms/step - loss: 0.0768 - accuracy: 0.9713\nEpoch 16/20\n1875/1875 [==============================] - 144s 77ms/step - loss: 0.0744 - accuracy: 0.9713\nEpoch 17/20\n1875/1875 [==============================] - 143s 76ms/step - loss: 0.0681 - accuracy: 0.9746\nEpoch 18/20\n1875/1875 [==============================] - 137s 73ms/step - loss: 0.0646 - accuracy: 0.9749\nEpoch 19/20\n1875/1875 [==============================] - 155s 83ms/step - loss: 0.0600 - accuracy: 0.9772\nEpoch 20/20\n1875/1875 [==============================] - 138s 74ms/step - loss: 0.0609 - accuracy: 0.9768\n313/313 - 7s - loss: 0.3821 - accuracy: 0.9178\n",
     "output_type": "stream"
    },
    {
     "output_type": "execute_result",
     "execution_count": 2,
     "data": {
      "text/plain": "[0.3820894658565521, 0.9178000092506409]"
     },
     "metadata": {}
    }
   ]
  },
  {
   "cell_type": "markdown",
   "source": "# ImageDataGenerator",
   "metadata": {
    "tags": [],
    "cell_id": "00005-3f2e1701-1c52-4b5a-87da-e7f2567eb2fb",
    "is_collapsed": false,
    "deepnote_cell_type": "text-cell-h1"
   }
  },
  {
   "cell_type": "code",
   "metadata": {
    "tags": [],
    "cell_id": "00005-045121ff-4935-41f7-a92f-0f7438cecb68",
    "deepnote_to_be_reexecuted": false,
    "source_hash": "6d22650",
    "execution_start": 1624027979413,
    "execution_millis": 1771307,
    "deepnote_output_heights": [
     null,
     21
    ],
    "deepnote_cell_type": "code"
   },
   "source": "import tensorflow as tf\n(tri, trl), (tsi, tsl) = tf.keras.datasets.fashion_mnist.load_data()\ntri, tsi = tri / 255.0, tsi / 255.0\ntri = tri.reshape(tri.shape[0], 28, 28, 1)\ntsi = tsi.reshape(tsi.shape[0], 28, 28, 1)\ntrain_datagen = tf.keras.preprocessing.image.ImageDataGenerator(\n        rotation_range=40,  # 角度值，0-180.表示图像随机旋转的角度范围\n        width_shift_range=0.2,  # 平移比例，下同\n        height_shift_range=0.2,\n        shear_range=0.2,  # 随机错切变换角度\n        zoom_range=0.2,  # 随即缩放比例\n        horizontal_flip=True,  # 随机将一半图像水平翻转\n        fill_mode='nearest'  # 填充新创建像素的方法\n    )\ntrain_datagen = train_datagen.flow(tri, trl, batch_size=128)\ncnn = tf.keras.models.Sequential()\ncnn.add(tf.keras.layers.Conv2D(32, (3, 3), padding='same', activation='relu', input_shape=(28, 28, 1)))\ncnn.add(tf.keras.layers.MaxPooling2D((2, 2)))\ncnn.add(tf.keras.layers.Conv2D(64, (3, 3), padding='same', activation='relu'))\ncnn.add(tf.keras.layers.MaxPooling2D((2, 2)))\ncnn.add(tf.keras.layers.Conv2D(64, (3, 3), padding='same', activation='relu'))\ncnn.add(tf.keras.layers.MaxPooling2D((2, 2)))\ncnn.add(tf.keras.layers.Flatten())\ncnn.add(tf.keras.layers.Dense(256, activation='relu'))\ncnn.add(tf.keras.layers.Dropout(0.25))\ncnn.add(tf.keras.layers.Dense(10, activation='softmax'))\ncnn.compile(optimizer='adam', loss='sparse_categorical_crossentropy', metrics=['accuracy'])\ncnn.fit(train_datagen, epochs=20)\ncnn.evaluate(tsi,  tsl, verbose=2)",
   "execution_count": null,
   "outputs": [
    {
     "name": "stdout",
     "text": "Epoch 1/20\n469/469 [==============================] - 89s 189ms/step - loss: 1.4134 - accuracy: 0.4799\nEpoch 2/20\n469/469 [==============================] - 89s 189ms/step - loss: 0.8454 - accuracy: 0.6818\nEpoch 3/20\n469/469 [==============================] - 89s 189ms/step - loss: 0.7167 - accuracy: 0.7287\nEpoch 4/20\n469/469 [==============================] - 89s 189ms/step - loss: 0.6698 - accuracy: 0.7475\nEpoch 5/20\n469/469 [==============================] - 88s 188ms/step - loss: 0.6215 - accuracy: 0.7658\nEpoch 6/20\n469/469 [==============================] - 89s 189ms/step - loss: 0.5920 - accuracy: 0.7783\nEpoch 7/20\n469/469 [==============================] - 88s 188ms/step - loss: 0.5766 - accuracy: 0.7828\nEpoch 8/20\n469/469 [==============================] - 88s 188ms/step - loss: 0.5485 - accuracy: 0.7940\nEpoch 9/20\n469/469 [==============================] - 88s 188ms/step - loss: 0.5313 - accuracy: 0.8031\nEpoch 10/20\n469/469 [==============================] - 88s 189ms/step - loss: 0.5117 - accuracy: 0.8093\nEpoch 11/20\n469/469 [==============================] - 88s 188ms/step - loss: 0.4959 - accuracy: 0.8181\nEpoch 12/20\n469/469 [==============================] - 88s 188ms/step - loss: 0.4843 - accuracy: 0.8191\nEpoch 13/20\n469/469 [==============================] - 88s 187ms/step - loss: 0.4770 - accuracy: 0.8236\nEpoch 14/20\n469/469 [==============================] - 89s 191ms/step - loss: 0.4662 - accuracy: 0.8259\nEpoch 15/20\n469/469 [==============================] - 88s 188ms/step - loss: 0.4637 - accuracy: 0.8301\nEpoch 16/20\n469/469 [==============================] - 88s 187ms/step - loss: 0.4498 - accuracy: 0.8319\nEpoch 17/20\n469/469 [==============================] - 88s 188ms/step - loss: 0.4391 - accuracy: 0.8357\nEpoch 18/20\n469/469 [==============================] - 88s 187ms/step - loss: 0.4354 - accuracy: 0.8395\nEpoch 19/20\n469/469 [==============================] - 88s 187ms/step - loss: 0.4262 - accuracy: 0.8411\nEpoch 20/20\n469/469 [==============================] - 88s 187ms/step - loss: 0.4265 - accuracy: 0.8407\n313/313 - 3s - loss: 0.3765 - accuracy: 0.8642\n",
     "output_type": "stream"
    },
    {
     "output_type": "execute_result",
     "execution_count": 3,
     "data": {
      "text/plain": "[0.37654998898506165, 0.8641999959945679]"
     },
     "metadata": {}
    }
   ]
  },
  {
   "cell_type": "markdown",
   "source": "<a style='text-decoration:none;line-height:16px;display:flex;color:#5B5B62;padding:10px;justify-content:end;' href='https://deepnote.com?utm_source=created-in-deepnote-cell&projectId=26e5d5b4-a604-4f7b-aef4-7756f8127ef0' target=\"_blank\">\n<img alt='Created in deepnote.com' style='display:inline;max-height:16px;margin:0px;margin-right:7.5px;' src='data:image/svg+xml;base64,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' > </img>\nCreated in <span style='font-weight:600;margin-left:4px;'>Deepnote</span></a>",
   "metadata": {
    "tags": [],
    "created_in_deepnote_cell": true,
    "deepnote_cell_type": "markdown"
   }
  }
 ],
 "nbformat": 4,
 "nbformat_minor": 2,
 "metadata": {
  "orig_nbformat": 2,
  "deepnote": {
   "is_reactive": false
  },
  "deepnote_notebook_id": "5777281a-875d-4861-bfee-83527c16a8e4",
  "deepnote_execution_queue": []
 }
}