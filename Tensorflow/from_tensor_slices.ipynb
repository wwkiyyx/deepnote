{
 "cells": [
  {
   "cell_type": "code",
   "metadata": {
    "tags": [],
    "cell_id": "00000-0b37f115-9886-40c0-9f3d-f0552fa79ac8",
    "deepnote_to_be_reexecuted": false,
    "source_hash": "b91dbd17",
    "execution_start": 1624237891089,
    "execution_millis": 5059,
    "deepnote_cell_type": "code"
   },
   "source": "import tensorflow as tf\nprint(tf.__version__)",
   "execution_count": null,
   "outputs": [
    {
     "name": "stdout",
     "text": "2.4.1\n",
     "output_type": "stream"
    }
   ]
  },
  {
   "cell_type": "code",
   "metadata": {
    "tags": [],
    "cell_id": "00001-3178569d-3314-4994-ad28-f25d26e1facc",
    "deepnote_to_be_reexecuted": false,
    "source_hash": "ffb22e1f",
    "execution_start": 1624237997774,
    "execution_millis": 5,
    "deepnote_cell_type": "code"
   },
   "source": "import pathlib\ndata_root = pathlib.Path(\"/root/work/mnist\")\nprint(data_root)",
   "execution_count": null,
   "outputs": [
    {
     "name": "stdout",
     "text": "/root/work/mnist\n",
     "output_type": "stream"
    }
   ]
  },
  {
   "cell_type": "code",
   "metadata": {
    "tags": [],
    "cell_id": "00003-75c457ae-7cc3-495a-95e4-603c896a96ad",
    "deepnote_to_be_reexecuted": false,
    "source_hash": "bf21db23",
    "execution_start": 1624238000405,
    "execution_millis": 2648,
    "deepnote_cell_type": "code"
   },
   "source": "def preprocess_image(image):\n    image = tf.image.decode_bmp(image, channels=3)\n    image = tf.image.resize(image, [28, 28])\n    image /= 255.0  # normalize to [0,1] range\n    return image\ndef load_and_preprocess_image(path):\n    image = tf.io.read_file(path)\n    return preprocess_image(image)\n#图像数据集\nall_image_paths = list(data_root.glob('*/*'))\nall_image_paths = [str(path) for path in all_image_paths]\npath_ds = tf.data.Dataset.from_tensor_slices(all_image_paths)\nimage_ds = path_ds.map(load_and_preprocess_image, num_parallel_calls=tf.data.experimental.AUTOTUNE)\n#标签数据集\nlabel_names = sorted(item.name for item in data_root.glob('*/') if item.is_dir())\nlabel_to_index = dict((name, index) for index, name in enumerate(label_names))\nall_image_labels = [label_to_index[pathlib.Path(path).parent.name] for path in all_image_paths]\nlabel_ds = tf.data.Dataset.from_tensor_slices(tf.cast(all_image_labels, tf.int64))\n#一种图像标签数据集\nimage_label_ds1 = tf.data.Dataset.zip((image_ds, label_ds))\nimage_count = len(all_image_paths)\nds1 = image_label_ds1.shuffle(buffer_size=image_count)\nds1 = ds1.repeat()\nds1 = ds1.batch(32)\nds1 = ds1.prefetch(buffer_size=tf.data.experimental.AUTOTUNE)\n#另一种图像标签数据集\nds = tf.data.Dataset.from_tensor_slices((all_image_paths, all_image_labels))\ndef load_and_preprocess_from_path_label(path, label):\n  return load_and_preprocess_image(path), label\nimage_label_ds2 = ds.map(load_and_preprocess_from_path_label)\nds2 = image_label_ds2.apply(\n  tf.data.experimental.shuffle_and_repeat(buffer_size=image_count))\nds2 = ds2.batch(32)\nds2 = ds2.prefetch(buffer_size=tf.data.experimental.AUTOTUNE)",
   "execution_count": null,
   "outputs": [
    {
     "name": "stdout",
     "text": "WARNING:tensorflow:From <ipython-input-5-f0c9e827c694>:32: shuffle_and_repeat (from tensorflow.python.data.experimental.ops.shuffle_ops) is deprecated and will be removed in a future version.\nInstructions for updating:\nUse `tf.data.Dataset.shuffle(buffer_size, seed)` followed by `tf.data.Dataset.repeat(count)`. Static tf.data optimizations will take care of using the fused implementation.\n",
     "output_type": "stream"
    }
   ]
  },
  {
   "cell_type": "code",
   "metadata": {
    "tags": [],
    "cell_id": "00003-92377207-5f67-4481-a48b-c41bf57d074c",
    "deepnote_to_be_reexecuted": false,
    "source_hash": "8bb7a118",
    "execution_start": 1624238015197,
    "execution_millis": 110901,
    "deepnote_cell_type": "code"
   },
   "source": "nn = tf.keras.models.Sequential()\nnn.add(tf.keras.layers.Flatten(input_shape=(28, 28, 3)))\nnn.add(tf.keras.layers.Dense(128, activation='relu'))\nnn.add(tf.keras.layers.Dropout(0.2))\nnn.add(tf.keras.layers.Dense(10, activation='softmax'))\nnn.compile(optimizer='adam', loss='sparse_categorical_crossentropy', metrics=['accuracy'])\nhistory = nn.fit(\n  ds1,\n  #validation_data=ds2,\n  epochs=10,\n  steps_per_epoch=1000\n)",
   "execution_count": null,
   "outputs": [
    {
     "name": "stdout",
     "text": "Epoch 1/10\n1000/1000 [==============================] - 62s 5ms/step - loss: 0.5155 - accuracy: 0.8439\nEpoch 2/10\n1000/1000 [==============================] - 5s 5ms/step - loss: 0.1847 - accuracy: 0.9435\nEpoch 3/10\n1000/1000 [==============================] - 5s 5ms/step - loss: 0.1569 - accuracy: 0.9519\nEpoch 4/10\n1000/1000 [==============================] - 5s 5ms/step - loss: 0.1377 - accuracy: 0.9564\nEpoch 5/10\n1000/1000 [==============================] - 5s 5ms/step - loss: 0.1180 - accuracy: 0.9652\nEpoch 6/10\n1000/1000 [==============================] - 6s 6ms/step - loss: 0.1030 - accuracy: 0.9684\nEpoch 7/10\n1000/1000 [==============================] - 5s 5ms/step - loss: 0.1027 - accuracy: 0.9683\nEpoch 8/10\n1000/1000 [==============================] - 5s 5ms/step - loss: 0.0842 - accuracy: 0.9752\nEpoch 9/10\n1000/1000 [==============================] - 5s 5ms/step - loss: 0.0872 - accuracy: 0.9740\nEpoch 10/10\n1000/1000 [==============================] - 5s 5ms/step - loss: 0.0819 - accuracy: 0.9750\n",
     "output_type": "stream"
    }
   ]
  },
  {
   "cell_type": "markdown",
   "source": "<a style='text-decoration:none;line-height:16px;display:flex;color:#5B5B62;padding:10px;justify-content:end;' href='https://deepnote.com?utm_source=created-in-deepnote-cell&projectId=26e5d5b4-a604-4f7b-aef4-7756f8127ef0' target=\"_blank\">\n<img alt='Created in deepnote.com' style='display:inline;max-height:16px;margin:0px;margin-right:7.5px;' src='data:image/svg+xml;base64,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' > </img>\nCreated in <span style='font-weight:600;margin-left:4px;'>Deepnote</span></a>",
   "metadata": {
    "tags": [],
    "created_in_deepnote_cell": true,
    "deepnote_cell_type": "markdown"
   }
  }
 ],
 "nbformat": 4,
 "nbformat_minor": 2,
 "metadata": {
  "orig_nbformat": 2,
  "deepnote": {
   "is_reactive": false
  },
  "deepnote_notebook_id": "23cf7b6d-76f9-4450-b977-f439c363043e",
  "deepnote_execution_queue": []
 }
}