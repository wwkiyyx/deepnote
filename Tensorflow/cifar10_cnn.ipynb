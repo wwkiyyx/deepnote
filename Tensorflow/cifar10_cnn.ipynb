{
 "cells": [
  {
   "cell_type": "markdown",
   "source": "# 神经网络",
   "metadata": {
    "tags": [],
    "cell_id": "00000-a0ca08bb-d784-459b-81c2-5c487d8ac593",
    "is_collapsed": false,
    "deepnote_cell_type": "text-cell-h1"
   }
  },
  {
   "cell_type": "code",
   "metadata": {
    "tags": [],
    "cell_id": "00000-8f9fba8a-73fc-45b3-92ca-f58178223a36",
    "deepnote_to_be_reexecuted": false,
    "source_hash": "3721b9f",
    "execution_start": 1623718313757,
    "execution_millis": 103157,
    "deepnote_cell_type": "code",
    "deepnote_cell_height": 748.125,
    "deepnote_output_heights": [
     null,
     21.1875
    ]
   },
   "source": "import tensorflow as tf\n(tri, trl), (tsi, tsl) = tf.keras.datasets.cifar10.load_data()\ntri, tsi = tri / 255.0, tsi / 255.0\nnn = tf.keras.models.Sequential()\nnn.add(tf.keras.layers.Flatten(input_shape=(32, 32, 3)))\nnn.add(tf.keras.layers.Dense(256, activation='relu'))\nnn.add(tf.keras.layers.Dropout(0.25))\nnn.add(tf.keras.layers.Dense(10, activation='softmax'))\nnn.compile(optimizer='adam', loss=tf.keras.losses.SparseCategoricalCrossentropy(from_logits=True), metrics=['accuracy'])\nnn.fit(tri, trl, epochs=10)\nnn.evaluate(tsi, tsl, verbose=2)",
   "execution_count": null,
   "outputs": [
    {
     "name": "stdout",
     "text": "Epoch 1/10\n1563/1563 [==============================] - 11s 6ms/step - loss: 2.1434 - accuracy: 0.2243\nEpoch 2/10\n1563/1563 [==============================] - 9s 6ms/step - loss: 1.9428 - accuracy: 0.2817\nEpoch 3/10\n1563/1563 [==============================] - 10s 6ms/step - loss: 1.9078 - accuracy: 0.2934\nEpoch 4/10\n1563/1563 [==============================] - 10s 6ms/step - loss: 1.8908 - accuracy: 0.2991\nEpoch 5/10\n1563/1563 [==============================] - 10s 6ms/step - loss: 1.8775 - accuracy: 0.3052\nEpoch 6/10\n1563/1563 [==============================] - 10s 6ms/step - loss: 1.8720 - accuracy: 0.3088\nEpoch 7/10\n1563/1563 [==============================] - 10s 6ms/step - loss: 1.8649 - accuracy: 0.3089\nEpoch 8/10\n1563/1563 [==============================] - 10s 6ms/step - loss: 1.8615 - accuracy: 0.3100\nEpoch 9/10\n1563/1563 [==============================] - 11s 7ms/step - loss: 1.8478 - accuracy: 0.3108\nEpoch 10/10\n1563/1563 [==============================] - 10s 6ms/step - loss: 1.8536 - accuracy: 0.3145\n313/313 - 1s - loss: 1.7350 - accuracy: 0.3759\n",
     "output_type": "stream"
    },
    {
     "output_type": "execute_result",
     "execution_count": 2,
     "data": {
      "text/plain": "[1.7349932193756104, 0.375900000333786]"
     },
     "metadata": {}
    }
   ]
  },
  {
   "cell_type": "markdown",
   "source": "# 卷积神经网络CNN",
   "metadata": {
    "tags": [],
    "cell_id": "00002-a7f9fd06-6809-4a5c-9b90-31a66f25ad4b",
    "is_collapsed": false,
    "deepnote_cell_type": "text-cell-h1"
   }
  },
  {
   "cell_type": "code",
   "metadata": {
    "tags": [],
    "cell_id": "00003-17388316-62a4-4ebe-96f4-61aad91cd382",
    "deepnote_to_be_reexecuted": false,
    "source_hash": "ee97714a",
    "execution_start": 1623680458103,
    "execution_millis": 1960131,
    "deepnote_cell_type": "code",
    "deepnote_cell_height": 1041.1875,
    "deepnote_output_heights": [
     null,
     21.1875
    ]
   },
   "source": "import tensorflow as tf\n(tri, trl), (tsi, tsl) = tf.keras.datasets.cifar10.load_data()\ntri, tsi = tri / 255.0, tsi / 255.0\ncnn = tf.keras.models.Sequential()\ncnn.add(tf.keras.layers.Conv2D(32, (3, 3), activation='relu', input_shape=(32, 32, 3)))\ncnn.add(tf.keras.layers.MaxPooling2D((2, 2)))\ncnn.add(tf.keras.layers.Conv2D(64, (3, 3), activation='relu'))\ncnn.add(tf.keras.layers.MaxPooling2D((2, 2)))\ncnn.add(tf.keras.layers.Conv2D(64, (3, 3), activation='relu'))\ncnn.add(tf.keras.layers.MaxPooling2D((2, 2)))\ncnn.add(tf.keras.layers.Flatten())\ncnn.add(tf.keras.layers.Dense(256, activation='relu'))\ncnn.add(tf.keras.layers.Dropout(0.25))\ncnn.add(tf.keras.layers.Dense(10, activation='softmax'))\ncnn.compile(optimizer='adam', loss=tf.keras.losses.SparseCategoricalCrossentropy(from_logits=True), metrics=['accuracy'])\ncnn.fit(tri, trl, epochs=20)\ncnn.evaluate(tsi, tsl, verbose=2)",
   "execution_count": null,
   "outputs": [
    {
     "name": "stdout",
     "text": "Epoch 1/20\n1563/1563 [==============================] - 101s 64ms/step - loss: 1.8172 - accuracy: 0.3196\nEpoch 2/20\n1563/1563 [==============================] - 96s 61ms/step - loss: 1.2616 - accuracy: 0.5502\nEpoch 3/20\n1563/1563 [==============================] - 95s 61ms/step - loss: 1.0944 - accuracy: 0.6120\nEpoch 4/20\n1563/1563 [==============================] - 95s 61ms/step - loss: 0.9860 - accuracy: 0.6547\nEpoch 5/20\n1563/1563 [==============================] - 95s 61ms/step - loss: 0.9056 - accuracy: 0.6813\nEpoch 6/20\n1563/1563 [==============================] - 95s 61ms/step - loss: 0.8453 - accuracy: 0.6994\nEpoch 7/20\n1563/1563 [==============================] - 95s 61ms/step - loss: 0.8029 - accuracy: 0.7145\nEpoch 8/20\n1563/1563 [==============================] - 95s 61ms/step - loss: 0.7623 - accuracy: 0.7297\nEpoch 9/20\n1563/1563 [==============================] - 96s 62ms/step - loss: 0.7207 - accuracy: 0.7457\nEpoch 10/20\n1563/1563 [==============================] - 98s 62ms/step - loss: 0.6791 - accuracy: 0.7600\nEpoch 11/20\n1563/1563 [==============================] - 102s 65ms/step - loss: 0.6611 - accuracy: 0.7663\nEpoch 12/20\n1563/1563 [==============================] - 95s 61ms/step - loss: 0.6388 - accuracy: 0.7739\nEpoch 13/20\n1563/1563 [==============================] - 95s 61ms/step - loss: 0.6075 - accuracy: 0.7781\nEpoch 14/20\n1563/1563 [==============================] - 96s 61ms/step - loss: 0.5730 - accuracy: 0.7944\nEpoch 15/20\n1563/1563 [==============================] - 94s 60ms/step - loss: 0.5437 - accuracy: 0.8031\nEpoch 16/20\n1563/1563 [==============================] - 95s 61ms/step - loss: 0.5343 - accuracy: 0.8097\nEpoch 17/20\n1563/1563 [==============================] - 94s 60ms/step - loss: 0.5167 - accuracy: 0.8150\nEpoch 18/20\n1563/1563 [==============================] - 94s 60ms/step - loss: 0.5067 - accuracy: 0.8157\nEpoch 19/20\n1563/1563 [==============================] - 119s 76ms/step - loss: 0.4983 - accuracy: 0.8219\nEpoch 20/20\n1563/1563 [==============================] - 108s 69ms/step - loss: 0.4667 - accuracy: 0.8313\n313/313 - 6s - loss: 0.8976 - accuracy: 0.7247\n",
     "output_type": "stream"
    },
    {
     "output_type": "execute_result",
     "execution_count": 2,
     "data": {
      "text/plain": "[0.8975839614868164, 0.7246999740600586]"
     },
     "metadata": {}
    }
   ]
  },
  {
   "cell_type": "markdown",
   "source": "# MobileNetV2",
   "metadata": {
    "tags": [],
    "cell_id": "00004-ee890738-e280-4fee-af2a-d544be8198ca",
    "is_collapsed": false,
    "deepnote_cell_type": "text-cell-h1"
   }
  },
  {
   "cell_type": "code",
   "metadata": {
    "tags": [],
    "cell_id": "00004-52e4cb4a-7012-44be-ae55-2f9ad2c2db6c",
    "deepnote_to_be_reexecuted": false,
    "source_hash": "18ac3e0b",
    "execution_start": 1649735103036,
    "execution_millis": 45133,
    "deepnote_cell_type": "code",
    "deepnote_cell_height": 1058.1875
   },
   "source": "import tensorflow as tf\n(tri, trl), (tsi, tsl) = tf.keras.datasets.cifar10.load_data()\ntri, tsi = tri / 255.0, tsi / 255.0\n#mobile_net = tf.keras.applications.DenseNet121(input_shape=(32, 32, 3), weights=None, classes=10)\n#mobile_net = tf.keras.applications.DenseNet169(input_shape=(32, 32, 3), weights=None, classes=10)\n#mobile_net = tf.keras.applications.DenseNet201(input_shape=(32, 32, 3), weights=None, classes=10)\nmobile_net = tf.keras.applications.MobileNetV2(input_shape=(32, 32, 3), weights=None, classes=10)\n#mobile_net = tf.keras.applications.ResNet50(input_shape=(32, 32, 3), weights=None, classes=10)\n#mobile_net = tf.keras.applications.VGG16(input_shape=(32, 32, 3), weights=None, classes=10)\n#mobile_net = tf.keras.applications.VGG19(input_shape=(32, 32, 3), weights=None, classes=10)\nmobile_net.trainable=True\nmobile_net.compile(optimizer='adam', loss='sparse_categorical_crossentropy', metrics=['accuracy'])\nmobile_net.fit(tri, trl, epochs=20)\nmobile_net.evaluate(tsi, tsl, verbose=2)",
   "outputs": [
    {
     "name": "stdout",
     "text": "Epoch 1/20\n1563/1563 [==============================] - 456s 288ms/step - loss: 1.9435 - accuracy: 0.2993\nEpoch 2/20\n1563/1563 [==============================] - 452s 289ms/step - loss: 1.6096 - accuracy: 0.4201\nEpoch 3/20\n1563/1563 [==============================] - 517s 331ms/step - loss: 1.4641 - accuracy: 0.4823\nEpoch 4/20\n1563/1563 [==============================] - 449s 288ms/step - loss: 1.3224 - accuracy: 0.5362\nEpoch 5/20\n1563/1563 [==============================] - 447s 286ms/step - loss: 1.2175 - accuracy: 0.5765\nEpoch 6/20\n1563/1563 [==============================] - 476s 305ms/step - loss: 1.1866 - accuracy: 0.5881\nEpoch 7/20\n1563/1563 [==============================] - 450s 288ms/step - loss: 1.0886 - accuracy: 0.6214\nEpoch 8/20\n1563/1563 [==============================] - 456s 292ms/step - loss: 1.0266 - accuracy: 0.6450\nEpoch 9/20\n1563/1563 [==============================] - 448s 287ms/step - loss: 0.9490 - accuracy: 0.6716\nEpoch 10/20\n1563/1563 [==============================] - 495s 317ms/step - loss: 0.9164 - accuracy: 0.6832\nEpoch 11/20\n1563/1563 [==============================] - 448s 286ms/step - loss: 0.8788 - accuracy: 0.6966\nEpoch 12/20\n1563/1563 [==============================] - 451s 289ms/step - loss: 0.8144 - accuracy: 0.7187\nEpoch 13/20\n1563/1563 [==============================] - 448s 287ms/step - loss: 0.7667 - accuracy: 0.7369\nEpoch 14/20\n1563/1563 [==============================] - 451s 288ms/step - loss: 0.7457 - accuracy: 0.7430\nEpoch 15/20\n1563/1563 [==============================] - 450s 288ms/step - loss: 0.7120 - accuracy: 0.7536\nEpoch 16/20\n1563/1563 [==============================] - 448s 286ms/step - loss: 0.6911 - accuracy: 0.7612\nEpoch 17/20\n1007/1563 [==================>...........] - ETA: 2:40 - loss: 0.6313 - accuracy: 0.7848",
     "output_type": "stream"
    },
    {
     "output_type": "error",
     "ename": "KernelInterrupted",
     "evalue": "Execution interrupted by the Jupyter kernel.",
     "traceback": [
      "\u001b[0;31m---------------------------------------------------------------------------\u001b[0m",
      "\u001b[0;31mKernelInterrupted\u001b[0m: Execution interrupted by the Jupyter kernel."
     ]
    }
   ],
   "execution_count": null
  },
  {
   "cell_type": "markdown",
   "source": "<a style='text-decoration:none;line-height:16px;display:flex;color:#5B5B62;padding:10px;justify-content:end;' href='https://deepnote.com?utm_source=created-in-deepnote-cell&projectId=26e5d5b4-a604-4f7b-aef4-7756f8127ef0' target=\"_blank\">\n<img alt='Created in deepnote.com' style='display:inline;max-height:16px;margin:0px;margin-right:7.5px;' src='data:image/svg+xml;base64,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' > </img>\nCreated in <span style='font-weight:600;margin-left:4px;'>Deepnote</span></a>",
   "metadata": {
    "tags": [],
    "created_in_deepnote_cell": true,
    "deepnote_cell_type": "markdown"
   }
  }
 ],
 "nbformat": 4,
 "nbformat_minor": 2,
 "metadata": {
  "orig_nbformat": 2,
  "deepnote": {
   "is_reactive": false
  },
  "deepnote_notebook_id": "a74aa4bb-8701-44ea-87cc-129f8a695b04",
  "deepnote_execution_queue": []
 }
}