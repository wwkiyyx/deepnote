{
 "cells": [
  {
   "cell_type": "code",
   "metadata": {
    "tags": [],
    "cell_id": "00000-ff822fd8-a432-4835-b143-3e4695cd415e",
    "deepnote_to_be_reexecuted": false,
    "source_hash": "2ad3b37",
    "execution_start": 1624240223534,
    "execution_millis": 1,
    "deepnote_cell_type": "code"
   },
   "source": "import tensorflow.keras.preprocessing.image as image\ntrain_datagen = image.ImageDataGenerator(\n        rescale=1 / 255,\n        rotation_range=40,  # 角度值，0-180.表示图像随机旋转的角度范围\n        width_shift_range=0.2,  # 平移比例，下同\n        height_shift_range=0.2,\n        shear_range=0.2,  # 随机错切变换角度\n        zoom_range=0.2,  # 随即缩放比例\n        horizontal_flip=True,  # 随机将一半图像水平翻转\n        fill_mode='nearest'  # 填充新创建像素的方法\n    )",
   "execution_count": null,
   "outputs": []
  },
  {
   "cell_type": "code",
   "metadata": {
    "tags": [],
    "cell_id": "00001-33f0a47f-d21f-4ca9-a2af-fc2781f46f48",
    "deepnote_to_be_reexecuted": false,
    "source_hash": "3da32d6c",
    "execution_start": 1624239494141,
    "execution_millis": 1144,
    "deepnote_cell_type": "code"
   },
   "source": "train_generator = train_datagen.flow_from_directory(\n        '/root/work/mnist',\n        target_size=(28, 28),\n        batch_size=32,\n        class_mode='binary')",
   "execution_count": null,
   "outputs": [
    {
     "name": "stdout",
     "text": "Found 70000 images belonging to 10 classes.\n",
     "output_type": "stream"
    }
   ]
  },
  {
   "cell_type": "code",
   "metadata": {
    "tags": [],
    "cell_id": "00002-7a05a937-3649-45b7-83b8-1324db7b8e65",
    "deepnote_to_be_reexecuted": false,
    "source_hash": "4e8bcba3",
    "execution_start": 1624239530258,
    "execution_millis": 469317,
    "deepnote_cell_type": "code"
   },
   "source": "import tensorflow as tf\nnn = tf.keras.models.Sequential()\nnn.add(tf.keras.layers.Flatten(input_shape=(28, 28, 3)))\nnn.add(tf.keras.layers.Dense(128, activation='relu'))\nnn.add(tf.keras.layers.Dropout(0.2))\nnn.add(tf.keras.layers.Dense(10, activation='softmax'))\nnn.compile(optimizer='adam', loss='sparse_categorical_crossentropy', metrics=['accuracy'])\nhistory = nn.fit(\n  train_generator,\n  #validation_data=ds2,\n  epochs=10,\n  steps_per_epoch=1000\n)",
   "execution_count": null,
   "outputs": [
    {
     "name": "stdout",
     "text": "Epoch 1/10\n1000/1000 [==============================] - 60s 59ms/step - loss: 1.9403 - accuracy: 0.3135\nEpoch 2/10\n1000/1000 [==============================] - 47s 47ms/step - loss: 1.3808 - accuracy: 0.5372\nEpoch 3/10\n1000/1000 [==============================] - 46s 46ms/step - loss: 1.2693 - accuracy: 0.5805\nEpoch 4/10\n1000/1000 [==============================] - 46s 46ms/step - loss: 1.2028 - accuracy: 0.6042\nEpoch 5/10\n1000/1000 [==============================] - 45s 45ms/step - loss: 1.1640 - accuracy: 0.6123\nEpoch 6/10\n1000/1000 [==============================] - 44s 43ms/step - loss: 1.1366 - accuracy: 0.6223\nEpoch 7/10\n1000/1000 [==============================] - 47s 47ms/step - loss: 1.1008 - accuracy: 0.6350\nEpoch 8/10\n1000/1000 [==============================] - 46s 46ms/step - loss: 1.0885 - accuracy: 0.6398\nEpoch 9/10\n1000/1000 [==============================] - 44s 44ms/step - loss: 1.0651 - accuracy: 0.6519\nEpoch 10/10\n1000/1000 [==============================] - 44s 44ms/step - loss: 1.0696 - accuracy: 0.6487\n",
     "output_type": "stream"
    }
   ]
  },
  {
   "cell_type": "code",
   "metadata": {
    "tags": [],
    "cell_id": "00003-890f3b40-624c-4f85-bb69-a853beb68b9a",
    "deepnote_to_be_reexecuted": false,
    "source_hash": "ab16e476",
    "execution_start": 1624240331438,
    "execution_millis": 328,
    "deepnote_cell_type": "code"
   },
   "source": "import tensorflow as tf\n(tri, trl), (tsi, tsl) = tf.keras.datasets.mnist.load_data()\ntri = tri.reshape(tri.shape[0], 28, 28, 1)\ntsi = tsi.reshape(tsi.shape[0], 28, 28, 1)\ntrain_generator = train_datagen.flow(tri[:45000], trl[:45000], batch_size=128)",
   "execution_count": null,
   "outputs": []
  },
  {
   "cell_type": "code",
   "metadata": {
    "tags": [],
    "cell_id": "00004-71228e07-01da-47fc-bc00-eae0f286c1fc",
    "deepnote_cell_type": "code"
   },
   "source": "model.fit(datagen.flow(x_train, y_train, batch_size=32,\n         subset='training'),\n         validation_data=datagen.flow(x_train, y_train,\n         batch_size=8, subset='validation'),\n         steps_per_epoch=len(x_train) / 32, epochs=epochs)",
   "execution_count": null,
   "outputs": []
  },
  {
   "cell_type": "markdown",
   "source": "<a style='text-decoration:none;line-height:16px;display:flex;color:#5B5B62;padding:10px;justify-content:end;' href='https://deepnote.com?utm_source=created-in-deepnote-cell&projectId=26e5d5b4-a604-4f7b-aef4-7756f8127ef0' target=\"_blank\">\n<img alt='Created in deepnote.com' style='display:inline;max-height:16px;margin:0px;margin-right:7.5px;' src='data:image/svg+xml;base64,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' > </img>\nCreated in <span style='font-weight:600;margin-left:4px;'>Deepnote</span></a>",
   "metadata": {
    "tags": [],
    "created_in_deepnote_cell": true,
    "deepnote_cell_type": "markdown"
   }
  }
 ],
 "nbformat": 4,
 "nbformat_minor": 2,
 "metadata": {
  "orig_nbformat": 2,
  "deepnote": {
   "is_reactive": false
  },
  "deepnote_notebook_id": "06aed43f-e938-4a03-845c-4995e9d7847f",
  "deepnote_execution_queue": []
 }
}