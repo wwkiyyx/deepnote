{
 "cells": [
  {
   "cell_type": "markdown",
   "source": "# 导入tensorflow",
   "metadata": {
    "papermill": {
     "duration": 0.013998,
     "end_time": "2021-05-20T02:35:26.495235",
     "exception": false,
     "start_time": "2021-05-20T02:35:26.481237",
     "status": "completed"
    },
    "tags": [],
    "cell_id": "00000-919fd9e6-cf24-4e04-b337-a39c1c736841",
    "deepnote_cell_type": "markdown",
    "deepnote_cell_height": 82
   }
  },
  {
   "cell_type": "code",
   "metadata": {
    "execution": {
     "iopub.execute_input": "2021-05-20T02:35:26.528259Z",
     "iopub.status.busy": "2021-05-20T02:35:26.527721Z",
     "iopub.status.idle": "2021-05-20T02:35:32.366646Z",
     "shell.execute_reply": "2021-05-20T02:35:32.365366Z",
     "shell.execute_reply.started": "2021-05-20T01:26:51.394711Z"
    },
    "papermill": {
     "duration": 5.858882,
     "end_time": "2021-05-20T02:35:32.366921",
     "exception": false,
     "start_time": "2021-05-20T02:35:26.508039",
     "status": "completed"
    },
    "tags": [],
    "cell_id": "00001-dbcbcd98-4fba-41bd-9ee1-26beea3eb176",
    "deepnote_cell_type": "code",
    "deepnote_cell_height": 130.1875
   },
   "source": "import tensorflow as tf\nprint(tf.__version__)",
   "execution_count": null,
   "outputs": [
    {
     "name": "stdout",
     "output_type": "stream",
     "text": "2.4.1\n"
    }
   ]
  },
  {
   "cell_type": "markdown",
   "source": "# 载入mnist数据集   \n所有数据集：boston_housing、cifar10、cifar100、fashion_mnist、imdb、mnist、reuters",
   "metadata": {
    "papermill": {
     "duration": 0.013354,
     "end_time": "2021-05-20T02:35:32.394343",
     "exception": false,
     "start_time": "2021-05-20T02:35:32.380989",
     "status": "completed"
    },
    "tags": [],
    "cell_id": "00002-30d4e674-cab3-4dd8-8e2e-0c2f3a856edd",
    "deepnote_cell_type": "markdown",
    "deepnote_cell_height": 120.390625
   }
  },
  {
   "cell_type": "code",
   "metadata": {
    "execution": {
     "iopub.execute_input": "2021-05-20T02:35:32.427455Z",
     "iopub.status.busy": "2021-05-20T02:35:32.426587Z",
     "iopub.status.idle": "2021-05-20T02:35:32.978768Z",
     "shell.execute_reply": "2021-05-20T02:35:32.978266Z",
     "shell.execute_reply.started": "2021-05-20T01:37:47.853448Z"
    },
    "papermill": {
     "duration": 0.571,
     "end_time": "2021-05-20T02:35:32.978916",
     "exception": false,
     "start_time": "2021-05-20T02:35:32.407916",
     "status": "completed"
    },
    "tags": [],
    "cell_id": "00003-e37d2c63-e6f6-4ba7-a4f8-104156c7a73c",
    "deepnote_cell_type": "code",
    "deepnote_cell_height": 150.375
   },
   "source": "mnist = tf.keras.datasets.mnist\n(x_train, y_train), (x_test, y_test) = mnist.load_data()",
   "execution_count": null,
   "outputs": [
    {
     "name": "stdout",
     "output_type": "stream",
     "text": "Downloading data from https://storage.googleapis.com/tensorflow/tf-keras-datasets/mnist.npz\n11493376/11490434 [==============================] - 0s 0us/step\n"
    }
   ]
  },
  {
   "cell_type": "markdown",
   "source": "# 数据预处理   \n数据从0-255归一化到0-1",
   "metadata": {
    "papermill": {
     "duration": 0.013863,
     "end_time": "2021-05-20T02:35:33.006935",
     "exception": false,
     "start_time": "2021-05-20T02:35:32.993072",
     "status": "completed"
    },
    "tags": [],
    "cell_id": "00004-50637e96-e1bf-4394-bb0d-4df02a0f3fe9",
    "deepnote_cell_type": "markdown",
    "deepnote_cell_height": 120.390625
   }
  },
  {
   "cell_type": "code",
   "metadata": {
    "execution": {
     "iopub.execute_input": "2021-05-20T02:35:33.039644Z",
     "iopub.status.busy": "2021-05-20T02:35:33.038940Z",
     "iopub.status.idle": "2021-05-20T02:35:33.227005Z",
     "shell.execute_reply": "2021-05-20T02:35:33.226480Z",
     "shell.execute_reply.started": "2021-05-20T01:27:03.076395Z"
    },
    "papermill": {
     "duration": 0.206114,
     "end_time": "2021-05-20T02:35:33.227156",
     "exception": false,
     "start_time": "2021-05-20T02:35:33.021042",
     "status": "completed"
    },
    "tags": [],
    "cell_id": "00005-bf5d2a84-8c4f-4868-9c85-19d5da09ec00",
    "deepnote_cell_type": "code",
    "deepnote_cell_height": 66
   },
   "source": "x_train, x_test = x_train / 255.0, x_test / 255.0",
   "execution_count": null,
   "outputs": []
  },
  {
   "cell_type": "markdown",
   "source": "# 搭建keras模型   \n传入layers集合   \nFlatten，展开层，多维转一维   \nDense，全连接层，传入输出长度、激活函数（relu、softmax、tanh、sigmoid......）   \nDropout，舍弃层，传入舍弃比例    ",
   "metadata": {
    "papermill": {
     "duration": 0.013986,
     "end_time": "2021-05-20T02:35:33.255422",
     "exception": false,
     "start_time": "2021-05-20T02:35:33.241436",
     "status": "completed"
    },
    "tags": [],
    "cell_id": "00006-593a7fd4-8586-438c-9657-09dd175e6c80",
    "deepnote_cell_type": "markdown",
    "deepnote_cell_height": 187.5625
   }
  },
  {
   "cell_type": "code",
   "metadata": {
    "execution": {
     "iopub.execute_input": "2021-05-20T02:35:33.289300Z",
     "iopub.status.busy": "2021-05-20T02:35:33.288674Z",
     "iopub.status.idle": "2021-05-20T02:35:33.381609Z",
     "shell.execute_reply": "2021-05-20T02:35:33.381111Z",
     "shell.execute_reply.started": "2021-05-20T01:27:05.430158Z"
    },
    "papermill": {
     "duration": 0.111939,
     "end_time": "2021-05-20T02:35:33.381772",
     "exception": false,
     "start_time": "2021-05-20T02:35:33.269833",
     "status": "completed"
    },
    "tags": [],
    "cell_id": "00007-b359c8e3-8033-425b-b3ea-3be989e35a56",
    "deepnote_cell_type": "code",
    "deepnote_cell_height": 156
   },
   "source": "model = tf.keras.models.Sequential([\n  tf.keras.layers.Flatten(input_shape=(28, 28)),\n  tf.keras.layers.Dense(128, activation='relu'),\n  tf.keras.layers.Dropout(0.2),\n  tf.keras.layers.Dense(10, activation='softmax')\n])",
   "execution_count": null,
   "outputs": []
  },
  {
   "cell_type": "markdown",
   "source": "# 编译keras模型   \n选择优化器和损失函数   \noptimizer，优化器用adam   \nloss，损失函数用sparse_categorical_crossentropy   \nmetrics，指标是accuracy（准确率）",
   "metadata": {
    "papermill": {
     "duration": 0.013812,
     "end_time": "2021-05-20T02:35:33.409907",
     "exception": false,
     "start_time": "2021-05-20T02:35:33.396095",
     "status": "completed"
    },
    "tags": [],
    "cell_id": "00008-3e3d5756-337c-4eb8-8752-060ddda89dfc",
    "deepnote_cell_type": "markdown",
    "deepnote_cell_height": 187.5625
   }
  },
  {
   "cell_type": "code",
   "metadata": {
    "execution": {
     "iopub.execute_input": "2021-05-20T02:35:33.448999Z",
     "iopub.status.busy": "2021-05-20T02:35:33.448379Z",
     "iopub.status.idle": "2021-05-20T02:35:33.455703Z",
     "shell.execute_reply": "2021-05-20T02:35:33.455161Z",
     "shell.execute_reply.started": "2021-05-20T01:27:08.118828Z"
    },
    "papermill": {
     "duration": 0.031788,
     "end_time": "2021-05-20T02:35:33.455856",
     "exception": false,
     "start_time": "2021-05-20T02:35:33.424068",
     "status": "completed"
    },
    "tags": [],
    "cell_id": "00009-591dfe24-0076-440f-a407-cdaab3b6f020",
    "deepnote_cell_type": "code",
    "deepnote_cell_height": 102
   },
   "source": "model.compile(optimizer='adam',\n              loss='sparse_categorical_crossentropy',\n              metrics=['accuracy'])",
   "execution_count": null,
   "outputs": []
  },
  {
   "cell_type": "markdown",
   "source": "# 训练模型   \n输入训练图像和训练标签，以及执行轮数（epochs）是5轮",
   "metadata": {
    "papermill": {
     "duration": 0.014515,
     "end_time": "2021-05-20T02:35:33.484645",
     "exception": false,
     "start_time": "2021-05-20T02:35:33.470130",
     "status": "completed"
    },
    "tags": [],
    "cell_id": "00010-61c54ba4-bb4e-4622-b2eb-ed07e078c2f1",
    "deepnote_cell_type": "markdown",
    "deepnote_cell_height": 120.390625
   }
  },
  {
   "cell_type": "code",
   "metadata": {
    "execution": {
     "iopub.execute_input": "2021-05-20T02:35:33.518389Z",
     "iopub.status.busy": "2021-05-20T02:35:33.517822Z",
     "iopub.status.idle": "2021-05-20T02:35:48.843646Z",
     "shell.execute_reply": "2021-05-20T02:35:48.843136Z",
     "shell.execute_reply.started": "2021-05-20T01:27:10.101116Z"
    },
    "papermill": {
     "duration": 15.344565,
     "end_time": "2021-05-20T02:35:48.843826",
     "exception": false,
     "start_time": "2021-05-20T02:35:33.499261",
     "status": "completed"
    },
    "tags": [],
    "cell_id": "00011-679e8ebb-12ae-4550-a562-c7aa6a9cfbe8",
    "deepnote_cell_type": "code",
    "deepnote_cell_height": 346.0625,
    "deepnote_output_heights": [
     null,
     21.1875
    ]
   },
   "source": "model.fit(x_train, y_train, epochs=5)",
   "execution_count": null,
   "outputs": [
    {
     "name": "stdout",
     "output_type": "stream",
     "text": "Epoch 1/5\n1875/1875 [==============================] - 3s 2ms/step - loss: 0.4845 - accuracy: 0.8601\nEpoch 2/5\n1875/1875 [==============================] - 3s 2ms/step - loss: 0.1418 - accuracy: 0.9582\nEpoch 3/5\n1875/1875 [==============================] - 3s 2ms/step - loss: 0.1052 - accuracy: 0.9692\nEpoch 4/5\n1875/1875 [==============================] - 3s 2ms/step - loss: 0.0865 - accuracy: 0.9741\nEpoch 5/5\n1875/1875 [==============================] - 3s 2ms/step - loss: 0.0675 - accuracy: 0.9785\n"
    },
    {
     "data": {
      "text/plain": "<tensorflow.python.keras.callbacks.History at 0x7fb07bf6d690>"
     },
     "execution_count": 6,
     "metadata": {},
     "output_type": "execute_result"
    }
   ]
  },
  {
   "cell_type": "markdown",
   "source": "# 评估模型   \n输入测试图像和测试标签，以及细节模式（verbose）（0是安静模式、1是进度条模式）   ",
   "metadata": {
    "papermill": {
     "duration": 0.076479,
     "end_time": "2021-05-20T02:35:48.997515",
     "exception": false,
     "start_time": "2021-05-20T02:35:48.921036",
     "status": "completed"
    },
    "tags": [],
    "cell_id": "00012-9ccfd885-61a4-4ba6-95cf-f70cccbf10ac",
    "deepnote_cell_type": "markdown",
    "deepnote_cell_height": 120.390625
   }
  },
  {
   "cell_type": "code",
   "metadata": {
    "execution": {
     "iopub.execute_input": "2021-05-20T02:35:49.157591Z",
     "iopub.status.busy": "2021-05-20T02:35:49.157007Z",
     "iopub.status.idle": "2021-05-20T02:35:49.620036Z",
     "shell.execute_reply": "2021-05-20T02:35:49.619504Z",
     "shell.execute_reply.started": "2021-05-20T01:27:32.803385Z"
    },
    "papermill": {
     "duration": 0.545792,
     "end_time": "2021-05-20T02:35:49.620181",
     "exception": false,
     "start_time": "2021-05-20T02:35:49.074389",
     "status": "completed"
    },
    "tags": [],
    "cell_id": "00013-2b896dfd-58a0-4c9f-b914-39bb7e59ca21",
    "deepnote_cell_type": "code",
    "deepnote_cell_height": 164.375,
    "deepnote_output_heights": [
     null,
     21.1875
    ]
   },
   "source": "model.evaluate(x_test,  y_test, verbose=2)",
   "execution_count": null,
   "outputs": [
    {
     "name": "stdout",
     "output_type": "stream",
     "text": "313/313 - 0s - loss: 0.0771 - accuracy: 0.9773\n"
    },
    {
     "data": {
      "text/plain": "[0.0771036148071289, 0.9772999882698059]"
     },
     "execution_count": 7,
     "metadata": {},
     "output_type": "execute_result"
    }
   ]
  },
  {
   "cell_type": "markdown",
   "source": "# 模型的其他函数",
   "metadata": {
    "papermill": {
     "duration": 0.076577,
     "end_time": "2021-05-20T02:35:49.773828",
     "exception": false,
     "start_time": "2021-05-20T02:35:49.697251",
     "status": "completed"
    },
    "tags": [],
    "cell_id": "00014-d72273e7-e0d7-4216-97aa-2a7c4fa4559b",
    "deepnote_cell_type": "markdown",
    "deepnote_cell_height": 82
   }
  },
  {
   "cell_type": "code",
   "metadata": {
    "execution": {
     "iopub.execute_input": "2021-05-20T02:35:49.931025Z",
     "iopub.status.busy": "2021-05-20T02:35:49.930308Z",
     "iopub.status.idle": "2021-05-20T02:35:49.935003Z",
     "shell.execute_reply": "2021-05-20T02:35:49.935376Z",
     "shell.execute_reply.started": "2021-05-20T01:42:25.696152Z"
    },
    "papermill": {
     "duration": 0.085724,
     "end_time": "2021-05-20T02:35:49.935535",
     "exception": false,
     "start_time": "2021-05-20T02:35:49.849811",
     "status": "completed"
    },
    "tags": [],
    "cell_id": "00015-f00cf98a-4b37-41f2-bc90-6ad6708f67e0",
    "deepnote_cell_type": "code",
    "deepnote_cell_height": 433
   },
   "source": "#显示模型结构\nmodel.summary()",
   "execution_count": null,
   "outputs": [
    {
     "name": "stdout",
     "output_type": "stream",
     "text": "Model: \"sequential\"\n_________________________________________________________________\nLayer (type)                 Output Shape              Param #   \n=================================================================\nflatten (Flatten)            (None, 784)               0         \n_________________________________________________________________\ndense (Dense)                (None, 128)               100480    \n_________________________________________________________________\ndropout (Dropout)            (None, 128)               0         \n_________________________________________________________________\ndense_1 (Dense)              (None, 10)                1290      \n=================================================================\nTotal params: 101,770\nTrainable params: 101,770\nNon-trainable params: 0\n_________________________________________________________________\n"
    }
   ]
  },
  {
   "cell_type": "code",
   "metadata": {
    "execution": {
     "iopub.execute_input": "2021-05-20T02:35:50.116297Z",
     "iopub.status.busy": "2021-05-20T02:35:50.115134Z",
     "iopub.status.idle": "2021-05-20T02:35:50.442711Z",
     "shell.execute_reply": "2021-05-20T02:35:50.443357Z",
     "shell.execute_reply.started": "2021-05-20T02:29:01.214476Z"
    },
    "papermill": {
     "duration": 0.430669,
     "end_time": "2021-05-20T02:35:50.443578",
     "exception": false,
     "start_time": "2021-05-20T02:35:50.012909",
     "status": "completed"
    },
    "tags": [],
    "cell_id": "00016-a274bf0a-7c27-4786-89dd-6486661ba732",
    "deepnote_cell_type": "code",
    "deepnote_cell_height": 262.75
   },
   "source": "#预测\nimport numpy as np\npredictions = model.predict(x_test)\nprint(predictions[0]) #预测10个输出个可能性，7的可能性为1\nprint(np.argmax(predictions[0])) #求出最大的可能性，是7\nprint(y_test[0]) #和测试标签7吻合",
   "execution_count": null,
   "outputs": [
    {
     "name": "stdout",
     "output_type": "stream",
     "text": "[6.2475576e-09 9.8556652e-10 1.2790301e-06 2.0720022e-04 5.4214662e-12\n 9.8079120e-08 2.0910445e-14 9.9979013e-01 3.5381748e-07 9.1991899e-07]\n7\n7\n"
    }
   ]
  },
  {
   "cell_type": "markdown",
   "source": "# 其他辅助功能",
   "metadata": {
    "papermill": {
     "duration": 0.076266,
     "end_time": "2021-05-20T02:35:50.598744",
     "exception": false,
     "start_time": "2021-05-20T02:35:50.522478",
     "status": "completed"
    },
    "tags": [],
    "cell_id": "00017-31a81835-6d61-42e7-8e13-3093857dd485",
    "deepnote_cell_type": "markdown",
    "deepnote_cell_height": 82
   }
  },
  {
   "cell_type": "code",
   "metadata": {
    "execution": {
     "iopub.execute_input": "2021-05-20T02:35:50.757263Z",
     "iopub.status.busy": "2021-05-20T02:35:50.756374Z",
     "iopub.status.idle": "2021-05-20T02:35:50.760381Z",
     "shell.execute_reply": "2021-05-20T02:35:50.759939Z",
     "shell.execute_reply.started": "2021-05-20T01:31:50.907540Z"
    },
    "papermill": {
     "duration": 0.085266,
     "end_time": "2021-05-20T02:35:50.760520",
     "exception": false,
     "start_time": "2021-05-20T02:35:50.675254",
     "status": "completed"
    },
    "tags": [],
    "cell_id": "00018-9dc9e838-595a-492f-afc6-44d452b86d59",
    "deepnote_cell_type": "code",
    "deepnote_cell_height": 136.1875,
    "deepnote_output_heights": [
     21.1875
    ]
   },
   "source": "#显示数据维度\nx_train.shape",
   "execution_count": null,
   "outputs": [
    {
     "data": {
      "text/plain": "(60000, 28, 28)"
     },
     "execution_count": 10,
     "metadata": {},
     "output_type": "execute_result"
    }
   ]
  },
  {
   "cell_type": "code",
   "metadata": {
    "execution": {
     "iopub.execute_input": "2021-05-20T02:35:50.918473Z",
     "iopub.status.busy": "2021-05-20T02:35:50.917903Z",
     "iopub.status.idle": "2021-05-20T02:35:50.920926Z",
     "shell.execute_reply": "2021-05-20T02:35:50.921348Z",
     "shell.execute_reply.started": "2021-05-20T01:32:49.757632Z"
    },
    "papermill": {
     "duration": 0.084512,
     "end_time": "2021-05-20T02:35:50.921501",
     "exception": false,
     "start_time": "2021-05-20T02:35:50.836989",
     "status": "completed"
    },
    "tags": [],
    "cell_id": "00019-f691a35f-6b9e-4481-a8a6-88f53fe77846",
    "deepnote_cell_type": "code",
    "deepnote_cell_height": 226.75
   },
   "source": "print(x_train.shape)\nprint(y_train.shape)\nprint(x_test.shape)\nprint(y_test.shape)",
   "execution_count": null,
   "outputs": [
    {
     "name": "stdout",
     "output_type": "stream",
     "text": "(60000, 28, 28)\n(60000,)\n(10000, 28, 28)\n(10000,)\n"
    }
   ]
  },
  {
   "cell_type": "code",
   "metadata": {
    "execution": {
     "iopub.execute_input": "2021-05-20T02:35:51.080878Z",
     "iopub.status.busy": "2021-05-20T02:35:51.080132Z",
     "iopub.status.idle": "2021-05-20T02:35:51.085967Z",
     "shell.execute_reply": "2021-05-20T02:35:51.085417Z",
     "shell.execute_reply.started": "2021-05-20T01:34:04.357733Z"
    },
    "papermill": {
     "duration": 0.087678,
     "end_time": "2021-05-20T02:35:51.086094",
     "exception": false,
     "start_time": "2021-05-20T02:35:50.998416",
     "status": "completed"
    },
    "tags": [],
    "cell_id": "00020-cb258420-fc17-45cb-bc06-bc0f3d4b4c48",
    "deepnote_cell_type": "code",
    "deepnote_cell_height": 136.1875,
    "deepnote_output_heights": [
     21.1875
    ]
   },
   "source": "#显示数据长度\nlen(x_train)",
   "execution_count": null,
   "outputs": [
    {
     "data": {
      "text/plain": "60000"
     },
     "execution_count": 12,
     "metadata": {},
     "output_type": "execute_result"
    }
   ]
  },
  {
   "cell_type": "code",
   "metadata": {
    "execution": {
     "iopub.execute_input": "2021-05-20T02:35:51.246975Z",
     "iopub.status.busy": "2021-05-20T02:35:51.246355Z",
     "iopub.status.idle": "2021-05-20T02:35:51.249280Z",
     "shell.execute_reply": "2021-05-20T02:35:51.248734Z",
     "shell.execute_reply.started": "2021-05-20T01:34:34.027004Z"
    },
    "papermill": {
     "duration": 0.084142,
     "end_time": "2021-05-20T02:35:51.249403",
     "exception": false,
     "start_time": "2021-05-20T02:35:51.165261",
     "status": "completed"
    },
    "tags": [],
    "cell_id": "00021-9696d7d0-bb08-4a32-bc2d-f2cc569fcfcf",
    "deepnote_cell_type": "code",
    "deepnote_cell_height": 136.1875,
    "deepnote_output_heights": [
     21.1875
    ]
   },
   "source": "#显示数据类型\ntype(x_train)",
   "execution_count": null,
   "outputs": [
    {
     "data": {
      "text/plain": "numpy.ndarray"
     },
     "execution_count": 13,
     "metadata": {},
     "output_type": "execute_result"
    }
   ]
  },
  {
   "cell_type": "code",
   "metadata": {
    "execution": {
     "iopub.execute_input": "2021-05-20T02:35:51.410580Z",
     "iopub.status.busy": "2021-05-20T02:35:51.409743Z",
     "iopub.status.idle": "2021-05-20T02:35:51.413540Z",
     "shell.execute_reply": "2021-05-20T02:35:51.413107Z",
     "shell.execute_reply.started": "2021-05-20T01:43:40.082794Z"
    },
    "papermill": {
     "duration": 0.087091,
     "end_time": "2021-05-20T02:35:51.413668",
     "exception": false,
     "start_time": "2021-05-20T02:35:51.326577",
     "status": "completed"
    },
    "tags": [],
    "cell_id": "00022-14b39a55-212d-44ff-91f8-531a69c22795",
    "deepnote_cell_type": "code",
    "deepnote_cell_height": 136.1875,
    "deepnote_output_heights": [
     21.1875
    ]
   },
   "source": "#显示数据\ny_train[0]",
   "execution_count": null,
   "outputs": [
    {
     "data": {
      "text/plain": "5"
     },
     "execution_count": 14,
     "metadata": {},
     "output_type": "execute_result"
    }
   ]
  },
  {
   "cell_type": "code",
   "metadata": {
    "execution": {
     "iopub.execute_input": "2021-05-20T02:35:51.586900Z",
     "iopub.status.busy": "2021-05-20T02:35:51.586185Z",
     "iopub.status.idle": "2021-05-20T02:35:51.714882Z",
     "shell.execute_reply": "2021-05-20T02:35:51.714335Z",
     "shell.execute_reply.started": "2021-05-20T01:59:50.823506Z"
    },
    "papermill": {
     "duration": 0.222981,
     "end_time": "2021-05-20T02:35:51.715014",
     "exception": false,
     "start_time": "2021-05-20T02:35:51.492033",
     "status": "completed"
    },
    "tags": [],
    "cell_id": "00023-a02db398-c176-4f40-a5a8-9fe857d9b641",
    "deepnote_cell_type": "code",
    "deepnote_cell_height": 435.1875,
    "deepnote_output_heights": [
     21.1875,
     250
    ]
   },
   "source": "#显示图像\nimport matplotlib.pyplot as plt #导入matplotlib\nplt.imshow(x_train[0])",
   "execution_count": null,
   "outputs": [
    {
     "data": {
      "text/plain": "<matplotlib.image.AxesImage at 0x7fb039524090>"
     },
     "execution_count": 15,
     "metadata": {},
     "output_type": "execute_result"
    },
    {
     "data": {
      "image/png": "[encoded data removed]",
      "text/plain": "<Figure size 432x288 with 1 Axes>"
     },
     "metadata": {
      "needs_background": "light",
      "image/png": {
       "width": 251,
       "height": 248
      }
     },
     "output_type": "display_data"
    }
   ]
  },
  {
   "cell_type": "code",
   "metadata": {
    "execution": {
     "iopub.execute_input": "2021-05-20T02:35:51.899471Z",
     "iopub.status.busy": "2021-05-20T02:35:51.894408Z",
     "iopub.status.idle": "2021-05-20T02:35:51.997931Z",
     "shell.execute_reply": "2021-05-20T02:35:51.998364Z",
     "shell.execute_reply.started": "2021-05-20T02:26:49.438735Z"
    },
    "papermill": {
     "duration": 0.204417,
     "end_time": "2021-05-20T02:35:51.998540",
     "exception": false,
     "start_time": "2021-05-20T02:35:51.794123",
     "status": "completed"
    },
    "tags": [],
    "cell_id": "00024-00174e1a-4262-48a6-901b-5b4e31ffdcf0",
    "deepnote_cell_type": "code",
    "deepnote_cell_height": 474,
    "deepnote_output_heights": [
     251
    ]
   },
   "source": "plt.figure() #设置\nplt.xticks([]) #不显示x轴刻标\nplt.yticks([]) #不显示y轴刻标\nplt.imshow(x_test[0], cmap=plt.cm.binary) #显示灰度图像\nplt.colorbar() #显示颜色条\nplt.grid(False) #不显示网格\nplt.xlabel(y_test[0]) #设置x轴标签文本\nplt.show()",
   "execution_count": null,
   "outputs": [
    {
     "data": {
      "image/png": "[encoded data removed]",
      "text/plain": "<Figure size 432x288 with 2 Axes>"
     },
     "metadata": {
      "needs_background": "light",
      "image/png": {
       "width": 285,
       "height": 249
      }
     },
     "output_type": "display_data"
    }
   ]
  },
  {
   "cell_type": "code",
   "metadata": {
    "execution": {
     "iopub.execute_input": "2021-05-20T02:35:52.162399Z",
     "iopub.status.busy": "2021-05-20T02:35:52.161811Z",
     "iopub.status.idle": "2021-05-20T02:35:53.196293Z",
     "shell.execute_reply": "2021-05-20T02:35:53.196791Z",
     "shell.execute_reply.started": "2021-05-20T02:20:32.429836Z"
    },
    "papermill": {
     "duration": 1.118506,
     "end_time": "2021-05-20T02:35:53.196962",
     "exception": false,
     "start_time": "2021-05-20T02:35:52.078456",
     "status": "completed"
    },
    "tags": [],
    "cell_id": "00025-d5705b14-b816-4d21-90cf-00ee83ba925a",
    "deepnote_cell_type": "code",
    "deepnote_cell_height": 815,
    "deepnote_output_heights": [
     574
    ]
   },
   "source": "plt.figure(figsize=(10,10)) #设置为10x10大小\nfor i in range(25):\n    plt.subplot(5,5,i+1) #分割成5x5并选择第i个子图\n    plt.xticks([]) #不显示x轴刻标\n    plt.yticks([]) #不显示y轴刻标\n    plt.grid(False) #不显示网格\n    plt.imshow(x_train[i], cmap=plt.cm.binary) #显示灰度图像\n    plt.xlabel(y_train[i]) #设置x轴标签文本\nplt.show()",
   "execution_count": null,
   "outputs": [
    {
     "data": {
      "image/png": "[encoded data removed]",
      "text/plain": "<Figure size 720x720 with 25 Axes>"
     },
     "metadata": {
      "image/png": {
       "width": 573,
       "height": 572
      }
     },
     "output_type": "display_data"
    }
   ]
  },
  {
   "cell_type": "markdown",
   "source": "<a style='text-decoration:none;line-height:16px;display:flex;color:#5B5B62;padding:10px;justify-content:end;' href='https://deepnote.com?utm_source=created-in-deepnote-cell&projectId=26e5d5b4-a604-4f7b-aef4-7756f8127ef0' target=\"_blank\">\n<img alt='Created in deepnote.com' style='display:inline;max-height:16px;margin:0px;margin-right:7.5px;' src='data:image/svg+xml;base64,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' > </img>\nCreated in <span style='font-weight:600;margin-left:4px;'>Deepnote</span></a>",
   "metadata": {
    "tags": [],
    "created_in_deepnote_cell": true,
    "deepnote_cell_type": "markdown"
   }
  }
 ],
 "nbformat": 4,
 "nbformat_minor": 5,
 "metadata": {
  "kernelspec": {
   "display_name": "Python 3",
   "language": "python",
   "name": "python3"
  },
  "language_info": {
   "codemirror_mode": {
    "name": "ipython",
    "version": 3
   },
   "file_extension": ".py",
   "mimetype": "text/x-python",
   "name": "python",
   "nbconvert_exporter": "python",
   "pygments_lexer": "ipython3",
   "version": "3.7.10"
  },
  "papermill": {
   "default_parameters": {},
   "duration": 35.879992,
   "end_time": "2021-05-20T02:35:55.127736",
   "environment_variables": {},
   "exception": null,
   "input_path": "__notebook__.ipynb",
   "output_path": "__notebook__.ipynb",
   "parameters": {},
   "start_time": "2021-05-20T02:35:19.247744",
   "version": "2.3.3"
  },
  "deepnote_notebook_id": "c42c7a3b-7b09-4e9a-a563-9d2ba241fd83",
  "deepnote": {},
  "deepnote_execution_queue": []
 }
}