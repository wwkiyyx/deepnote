{
 "cells": [
  {
   "cell_type": "markdown",
   "source": "# 神经网络",
   "metadata": {
    "tags": [],
    "cell_id": "00000-9f8be990-41d6-488c-a986-e72968609306",
    "deepnote_cell_type": "text-cell-h1"
   }
  },
  {
   "cell_type": "code",
   "metadata": {
    "tags": [],
    "cell_id": "00000-3712c542-932a-4125-a489-04dc739a8cbb",
    "deepnote_to_be_reexecuted": false,
    "source_hash": "787a5652",
    "execution_start": 1623719029477,
    "execution_millis": 98269,
    "deepnote_cell_type": "code"
   },
   "source": "import tensorflow as tf\n(tri, trl), (tsi, tsl) = tf.keras.datasets.cifar100.load_data()\ntri, tsi = tri / 255.0, tsi / 255.0\nnn = tf.keras.models.Sequential()\nnn.add(tf.keras.layers.Flatten(input_shape=(32, 32, 3)))\nnn.add(tf.keras.layers.Dense(256, activation='relu'))\nnn.add(tf.keras.layers.Dropout(0.25))\nnn.add(tf.keras.layers.Dense(100, activation='softmax'))\nnn.compile(optimizer='adam', loss=tf.keras.losses.SparseCategoricalCrossentropy(from_logits=True), metrics=['accuracy'])\nnn.fit(tri, trl, epochs=10)\nnn.evaluate(tsi, tsl, verbose=2)",
   "execution_count": null,
   "outputs": [
    {
     "name": "stdout",
     "text": "Downloading data from https://www.cs.toronto.edu/~kriz/cifar-100-python.tar.gz\n169009152/169001437 [==============================] - 3s 0us/step\nEpoch 1/10\n1563/1563 [==============================] - 9s 5ms/step - loss: 4.5293 - accuracy: 0.0186\nEpoch 2/10\n1563/1563 [==============================] - 8s 5ms/step - loss: 4.3127 - accuracy: 0.0357\nEpoch 3/10\n1563/1563 [==============================] - 9s 6ms/step - loss: 4.2576 - accuracy: 0.0436\nEpoch 4/10\n1563/1563 [==============================] - 9s 6ms/step - loss: 4.2124 - accuracy: 0.0509\nEpoch 5/10\n1563/1563 [==============================] - 9s 6ms/step - loss: 4.1917 - accuracy: 0.0515\nEpoch 6/10\n1563/1563 [==============================] - 9s 5ms/step - loss: 4.1818 - accuracy: 0.0532\nEpoch 7/10\n1563/1563 [==============================] - 9s 5ms/step - loss: 4.1741 - accuracy: 0.0567\nEpoch 8/10\n1563/1563 [==============================] - 9s 6ms/step - loss: 4.1797 - accuracy: 0.0544\nEpoch 9/10\n1563/1563 [==============================] - 9s 5ms/step - loss: 4.1576 - accuracy: 0.0599\nEpoch 10/10\n1563/1563 [==============================] - 9s 5ms/step - loss: 4.1607 - accuracy: 0.0582\n313/313 - 1s - loss: 4.0169 - accuracy: 0.0844\n",
     "output_type": "stream"
    },
    {
     "output_type": "execute_result",
     "execution_count": 1,
     "data": {
      "text/plain": "[4.016873359680176, 0.0843999981880188]"
     },
     "metadata": {}
    }
   ]
  },
  {
   "cell_type": "markdown",
   "source": "# 卷积神经网络CNN",
   "metadata": {
    "tags": [],
    "cell_id": "00002-563f4832-4a46-4f22-b469-1ffddb806706",
    "deepnote_cell_type": "text-cell-h1"
   }
  },
  {
   "cell_type": "code",
   "metadata": {
    "tags": [],
    "cell_id": "00003-061e030d-f8b7-4601-9f21-c4eafc201acb",
    "deepnote_to_be_reexecuted": false,
    "source_hash": "19df9cee",
    "execution_start": 1623719451329,
    "execution_millis": 1203139,
    "deepnote_cell_type": "code"
   },
   "source": "import tensorflow as tf\n(tri, trl), (tsi, tsl) = tf.keras.datasets.cifar100.load_data()\ntri, tsi = tri / 255.0, tsi / 255.0\ncnn = tf.keras.models.Sequential()\ncnn.add(tf.keras.layers.Conv2D(32, (3, 3), activation='relu', input_shape=(32, 32, 3)))\ncnn.add(tf.keras.layers.MaxPooling2D((2, 2)))\ncnn.add(tf.keras.layers.Conv2D(64, (3, 3), activation='relu'))\ncnn.add(tf.keras.layers.MaxPooling2D((2, 2)))\ncnn.add(tf.keras.layers.Conv2D(64, (3, 3), activation='relu'))\ncnn.add(tf.keras.layers.MaxPooling2D((2, 2)))\ncnn.add(tf.keras.layers.Flatten())\ncnn.add(tf.keras.layers.Dense(256, activation='relu'))\ncnn.add(tf.keras.layers.Dropout(0.25))\ncnn.add(tf.keras.layers.Dense(100, activation='softmax'))\ncnn.compile(optimizer='adam', loss=tf.keras.losses.SparseCategoricalCrossentropy(from_logits=True), metrics=['accuracy'])\ncnn.fit(tri, trl, epochs=20)\ncnn.evaluate(tsi, tsl, verbose=2)",
   "execution_count": null,
   "outputs": [
    {
     "name": "stdout",
     "text": "Epoch 1/20\n1563/1563 [==============================] - 60s 38ms/step - loss: 4.2273 - accuracy: 0.0530\nEpoch 2/20\n1563/1563 [==============================] - 59s 38ms/step - loss: 3.4681 - accuracy: 0.1690\nEpoch 3/20\n1563/1563 [==============================] - 59s 38ms/step - loss: 3.1653 - accuracy: 0.2258\nEpoch 4/20\n1563/1563 [==============================] - 59s 38ms/step - loss: 2.9507 - accuracy: 0.2608\nEpoch 5/20\n1563/1563 [==============================] - 60s 38ms/step - loss: 2.8033 - accuracy: 0.2923\nEpoch 6/20\n1563/1563 [==============================] - 59s 38ms/step - loss: 2.6801 - accuracy: 0.3193\nEpoch 7/20\n1563/1563 [==============================] - 59s 38ms/step - loss: 2.5926 - accuracy: 0.3354\nEpoch 8/20\n1563/1563 [==============================] - 59s 38ms/step - loss: 2.4982 - accuracy: 0.3519\nEpoch 9/20\n1563/1563 [==============================] - 59s 38ms/step - loss: 2.4378 - accuracy: 0.3664\nEpoch 10/20\n1563/1563 [==============================] - 59s 38ms/step - loss: 2.3877 - accuracy: 0.3758\nEpoch 11/20\n1563/1563 [==============================] - 59s 38ms/step - loss: 2.3249 - accuracy: 0.3872\nEpoch 12/20\n1563/1563 [==============================] - 60s 38ms/step - loss: 2.2642 - accuracy: 0.4014\nEpoch 13/20\n1563/1563 [==============================] - 59s 38ms/step - loss: 2.2436 - accuracy: 0.4043\nEpoch 14/20\n1563/1563 [==============================] - 69s 44ms/step - loss: 2.2046 - accuracy: 0.4132\nEpoch 15/20\n1563/1563 [==============================] - 59s 38ms/step - loss: 2.1759 - accuracy: 0.4191\nEpoch 16/20\n1563/1563 [==============================] - 59s 38ms/step - loss: 2.1472 - accuracy: 0.4209\nEpoch 17/20\n1563/1563 [==============================] - 59s 38ms/step - loss: 2.0975 - accuracy: 0.4314\nEpoch 18/20\n1563/1563 [==============================] - 59s 38ms/step - loss: 2.0798 - accuracy: 0.4382\nEpoch 19/20\n1563/1563 [==============================] - 59s 38ms/step - loss: 2.0465 - accuracy: 0.4434\nEpoch 20/20\n1563/1563 [==============================] - 60s 38ms/step - loss: 2.0187 - accuracy: 0.4529\n313/313 - 3s - loss: 2.5305 - accuracy: 0.3698\n",
     "output_type": "stream"
    },
    {
     "output_type": "execute_result",
     "execution_count": 2,
     "data": {
      "text/plain": "[2.530505895614624, 0.36980000138282776]"
     },
     "metadata": {}
    }
   ]
  },
  {
   "cell_type": "markdown",
   "source": "<a style='text-decoration:none;line-height:16px;display:flex;color:#5B5B62;padding:10px;justify-content:end;' href='https://deepnote.com?utm_source=created-in-deepnote-cell&projectId=26e5d5b4-a604-4f7b-aef4-7756f8127ef0' target=\"_blank\">\n<img alt='Created in deepnote.com' style='display:inline;max-height:16px;margin:0px;margin-right:7.5px;' src='data:image/svg+xml;base64,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' > </img>\nCreated in <span style='font-weight:600;margin-left:4px;'>Deepnote</span></a>",
   "metadata": {
    "tags": [],
    "created_in_deepnote_cell": true,
    "deepnote_cell_type": "markdown"
   }
  }
 ],
 "nbformat": 4,
 "nbformat_minor": 2,
 "metadata": {
  "orig_nbformat": 2,
  "deepnote": {
   "is_reactive": false
  },
  "deepnote_notebook_id": "69b282af-8b5e-4471-a2f2-bdddf85878a0",
  "deepnote_execution_queue": []
 }
}