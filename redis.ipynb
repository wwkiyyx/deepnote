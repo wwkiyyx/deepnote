{
 "cells": [
  {
   "cell_type": "markdown",
   "source": "### http://redis.io",
   "metadata": {
    "cell_id": "d00cfae7-9e2b-4843-8bd5-15e72a5fa021",
    "tags": [],
    "is_collapsed": false,
    "deepnote_cell_type": "text-cell-h3",
    "deepnote_cell_height": 62
   }
  },
  {
   "cell_type": "markdown",
   "source": "https://github.com/microsoftarchive/redis",
   "metadata": {
    "cell_id": "33050ca0-6b85-49dd-8f21-9974515a2419",
    "tags": [],
    "is_collapsed": false,
    "deepnote_cell_type": "text-cell-p",
    "deepnote_cell_height": 52.390625
   }
  },
  {
   "cell_type": "markdown",
   "source": "https://github.com/tporadowski/redis",
   "metadata": {
    "cell_id": "3e6086c4-e086-449d-bc93-5080cd9d04dc",
    "tags": [],
    "is_collapsed": false,
    "deepnote_cell_type": "text-cell-p",
    "deepnote_cell_height": 52.390625
   }
  },
  {
   "cell_type": "code",
   "metadata": {
    "tags": [],
    "cell_id": "70767e39-ae84-4973-b5bc-bc48f8aaa469",
    "deepnote_to_be_reexecuted": false,
    "source_hash": "27fb5497",
    "execution_start": 1646969363150,
    "execution_millis": 155697,
    "deepnote_cell_type": "code",
    "deepnote_cell_height": 827
   },
   "source": "%%bash\ncd /work\nmkdir redis\ncd redis\nwget https://download.redis.io/releases/redis-6.2.6.tar.gz\ntar xzf redis-6.2.6.tar.gz\ncd redis-6.2.6\nmake",
   "execution_count": null,
   "outputs": [
    {
     "name": "stdout",
     "text": "cd src && make all\nmake[1]: Entering directory '/work/redis/redis-6.2.6/src'\nrm -rf redis-server redis-sentinel redis-cli redis-benchmark redis-check-rdb redis-check-aof *.o *.gcda *.gcno *.gcov redis.info lcov-html Makefile.dep\nrm -f adlist.d quicklist.d ae.d anet.d dict.d server.d sds.d zmalloc.d lzf_c.d lzf_d.d pqsort.d zipmap.d sha1.d ziplist.d release.d networking.d util.d object.d db.d replication.d rdb.d t_string.d t_list.d t_set.d t_zset.d t_hash.d config.d aof.d pubsub.d multi.d debug.d sort.d intset.d syncio.d cluster.d crc16.d endianconv.d slowlog.d scripting.d bio.d rio.d rand.d memtest.d crcspeed.d crc64.d bitops.d sentinel.d notify.d setproctitle.d blocked.d hyperloglog.d latency.d sparkline.d redis-check-rdb.d redis-check-aof.d geo.d lazyfree.d module.d evict.d expire.d geohash.d geohash_helper.d childinfo.d defrag.d siphash.d rax.d t_stream.d listpack.d localtime.d lolwut.d lolwut5.d lolwut6.d acl.d gopher.d tracking.d connection.d tls.d sha256.d timeout.d setcpuaffinity.d monotonic.d mt19937-64.d anet.d adlist.d dict.d redis-cli.d zmalloc.d release.d ae.d crcspeed.d crc64.d siphash.d crc16.d monotonic.d cli_common.d mt19937-64.d ae.d anet.d redis-benchmark.d adlist.d dict.d zmalloc.d release.d crcspeed.d crc64.d siphash.d crc16.d monotonic.d cli_common.d mt19937-64.d\n(cd ../deps && make distclean)\nmake[2]: Entering directory '/work/redis/redis-6.2.6/deps'\n(cd hiredis && make clean) > /dev/null || true\n(cd linenoise && make clean) > /dev/null || true\n(cd lua && make clean) > /dev/null || true\n(cd jemalloc && [ -f Makefile ] && make distclean) > /dev/null || true\n(cd hdr_histogram && make clean) > /dev/null || true\n(rm -f .make-*)\nmake[2]: Leaving directory '/work/redis/redis-6.2.6/deps'\n(cd modules && make clean)\nmake[2]: Entering directory '/work/redis/redis-6.2.6/src/modules'\nrm -rf *.xo *.so\nmake[2]: Leaving directory '/work/redis/redis-6.2.6/src/modules'\n(cd ../tests/modules && make clean)\nmake[2]: Entering directory '/work/redis/redis-6.2.6/tests/modules'\nrm -f commandfilter.so basics.so testrdb.so fork.so infotest.so propagate.so misc.so hooks.so blockonkeys.so blockonbackground.so scan.so datatype.so auth.so keyspace_events.so blockedclient.so getkeys.so test_lazyfree.so timer.so defragtest.so hash.so zset.so stream.so commandfilter.xo basics.xo testrdb.xo fork.xo infotest.xo propagate.xo misc.xo hooks.xo blockonkeys.xo blockonbackground.xo scan.xo datatype.xo auth.xo keyspace_events.xo blockedclient.xo getkeys.xo test_lazyfree.xo timer.xo defragtest.xo hash.xo zset.xo stream.xo\nmake[2]: Leaving directory '/work/redis/redis-6.2.6/tests/modules'\n(rm -f .make-*)\necho STD=-pedantic -DREDIS_STATIC='' -std=c11 >> .make-settings\necho WARN=-Wall -W -Wno-missing-field-initializers >> .make-settings\necho OPT=-O2 >> .make-settings\necho MALLOC=jemalloc >> .make-settings\necho BUILD_TLS= >> .make-settings\necho USE_SYSTEMD= >> .make-settings\necho CFLAGS= >> .make-settings\necho LDFLAGS= >> .make-settings\necho REDIS_CFLAGS= >> .make-settings\necho REDIS_LDFLAGS= >> .make-settings\necho PREV_FINAL_CFLAGS=-pedantic -DREDIS_STATIC='' -std=c11 -Wall -W -Wno-missing-field-initializers -O2 -g -ggdb   -I../deps/hiredis -I../deps/linenoise -I../deps/lua/src -I../deps/hdr_histogram -DUSE_JEMALLOC -I../deps/jemalloc/include >> .make-settings\necho PREV_FINAL_LDFLAGS=  -g -ggdb -rdynamic >> .make-settings\n(cd ../deps && make hiredis linenoise lua hdr_histogram jemalloc)\nmake[2]: Entering directory '/work/redis/redis-6.2.6/deps'\n(cd hiredis && make clean) > /dev/null || true\n(cd linenoise && make clean) > /dev/null || true\n(cd lua && make clean) > /dev/null || true\n(cd jemalloc && [ -f Makefile ] && make distclean) > /dev/null || true\n(cd hdr_histogram && make clean) > /dev/null || true\n(rm -f .make-*)\n(echo \"\" > .make-cflags)\n(echo \"\" > .make-ldflags)\n\u001b[32;1mMAKE\u001b[0m \u001b[37;1mhiredis\u001b[0m\ncd hiredis && make static \nmake[3]: Entering directory '/work/redis/redis-6.2.6/deps/hiredis'\ncc -std=c99 -pedantic -c -O3 -fPIC   -Wall -W -Wstrict-prototypes -Wwrite-strings -Wno-missing-field-initializers -g -ggdb alloc.c\ncc -std=c99 -pedantic -c -O3 -fPIC   -Wall -W -Wstrict-prototypes -Wwrite-strings -Wno-missing-field-initializers -g -ggdb net.c\ncc -std=c99 -pedantic -c -O3 -fPIC   -Wall -W -Wstrict-prototypes -Wwrite-strings -Wno-missing-field-initializers -g -ggdb hiredis.c\ncc -std=c99 -pedantic -c -O3 -fPIC   -Wall -W -Wstrict-prototypes -Wwrite-strings -Wno-missing-field-initializers -g -ggdb sds.c\ncc -std=c99 -pedantic -c -O3 -fPIC   -Wall -W -Wstrict-prototypes -Wwrite-strings -Wno-missing-field-initializers -g -ggdb async.c\ncc -std=c99 -pedantic -c -O3 -fPIC   -Wall -W -Wstrict-prototypes -Wwrite-strings -Wno-missing-field-initializers -g -ggdb read.c\ncc -std=c99 -pedantic -c -O3 -fPIC   -Wall -W -Wstrict-prototypes -Wwrite-strings -Wno-missing-field-initializers -g -ggdb sockcompat.c\nar rcs libhiredis.a alloc.o net.o hiredis.o sds.o async.o read.o sockcompat.o\nmake[3]: Leaving directory '/work/redis/redis-6.2.6/deps/hiredis'\n\u001b[32;1mMAKE\u001b[0m \u001b[37;1mlinenoise\u001b[0m\ncd linenoise && make\nmake[3]: Entering directory '/work/redis/redis-6.2.6/deps/linenoise'\ncc  -Wall -Os -g  -c linenoise.c\nmake[3]: Leaving directory '/work/redis/redis-6.2.6/deps/linenoise'\n\u001b[32;1mMAKE\u001b[0m \u001b[37;1mlua\u001b[0m\ncd lua/src && make all CFLAGS=\"-O2 -Wall -DLUA_ANSI -DENABLE_CJSON_GLOBAL -DREDIS_STATIC='' -DLUA_USE_MKSTEMP \" MYLDFLAGS=\"\" AR=\"ar rc\"\nmake[3]: Entering directory '/work/redis/redis-6.2.6/deps/lua/src'\ncc -O2 -Wall -DLUA_ANSI -DENABLE_CJSON_GLOBAL -DREDIS_STATIC='' -DLUA_USE_MKSTEMP    -c -o lapi.o lapi.c\ncc -O2 -Wall -DLUA_ANSI -DENABLE_CJSON_GLOBAL -DREDIS_STATIC='' -DLUA_USE_MKSTEMP    -c -o lcode.o lcode.c\ncc -O2 -Wall -DLUA_ANSI -DENABLE_CJSON_GLOBAL -DREDIS_STATIC='' -DLUA_USE_MKSTEMP    -c -o ldebug.o ldebug.c\ncc -O2 -Wall -DLUA_ANSI -DENABLE_CJSON_GLOBAL -DREDIS_STATIC='' -DLUA_USE_MKSTEMP    -c -o ldo.o ldo.c\ncc -O2 -Wall -DLUA_ANSI -DENABLE_CJSON_GLOBAL -DREDIS_STATIC='' -DLUA_USE_MKSTEMP    -c -o ldump.o ldump.c\ncc -O2 -Wall -DLUA_ANSI -DENABLE_CJSON_GLOBAL -DREDIS_STATIC='' -DLUA_USE_MKSTEMP    -c -o lfunc.o lfunc.c\ncc -O2 -Wall -DLUA_ANSI -DENABLE_CJSON_GLOBAL -DREDIS_STATIC='' -DLUA_USE_MKSTEMP    -c -o lgc.o lgc.c\ncc -O2 -Wall -DLUA_ANSI -DENABLE_CJSON_GLOBAL -DREDIS_STATIC='' -DLUA_USE_MKSTEMP    -c -o llex.o llex.c\ncc -O2 -Wall -DLUA_ANSI -DENABLE_CJSON_GLOBAL -DREDIS_STATIC='' -DLUA_USE_MKSTEMP    -c -o lmem.o lmem.c\ncc -O2 -Wall -DLUA_ANSI -DENABLE_CJSON_GLOBAL -DREDIS_STATIC='' -DLUA_USE_MKSTEMP    -c -o lobject.o lobject.c\ncc -O2 -Wall -DLUA_ANSI -DENABLE_CJSON_GLOBAL -DREDIS_STATIC='' -DLUA_USE_MKSTEMP    -c -o lopcodes.o lopcodes.c\ncc -O2 -Wall -DLUA_ANSI -DENABLE_CJSON_GLOBAL -DREDIS_STATIC='' -DLUA_USE_MKSTEMP    -c -o lparser.o lparser.c\ncc -O2 -Wall -DLUA_ANSI -DENABLE_CJSON_GLOBAL -DREDIS_STATIC='' -DLUA_USE_MKSTEMP    -c -o lstate.o lstate.c\ncc -O2 -Wall -DLUA_ANSI -DENABLE_CJSON_GLOBAL -DREDIS_STATIC='' -DLUA_USE_MKSTEMP    -c -o lstring.o lstring.c\ncc -O2 -Wall -DLUA_ANSI -DENABLE_CJSON_GLOBAL -DREDIS_STATIC='' -DLUA_USE_MKSTEMP    -c -o ltable.o ltable.c\ncc -O2 -Wall -DLUA_ANSI -DENABLE_CJSON_GLOBAL -DREDIS_STATIC='' -DLUA_USE_MKSTEMP    -c -o ltm.o ltm.c\ncc -O2 -Wall -DLUA_ANSI -DENABLE_CJSON_GLOBAL -DREDIS_STATIC='' -DLUA_USE_MKSTEMP    -c -o lundump.o lundump.c\ncc -O2 -Wall -DLUA_ANSI -DENABLE_CJSON_GLOBAL -DREDIS_STATIC='' -DLUA_USE_MKSTEMP    -c -o lvm.o lvm.c\ncc -O2 -Wall -DLUA_ANSI -DENABLE_CJSON_GLOBAL -DREDIS_STATIC='' -DLUA_USE_MKSTEMP    -c -o lzio.o lzio.c\ncc -O2 -Wall -DLUA_ANSI -DENABLE_CJSON_GLOBAL -DREDIS_STATIC='' -DLUA_USE_MKSTEMP    -c -o strbuf.o strbuf.c\ncc -O2 -Wall -DLUA_ANSI -DENABLE_CJSON_GLOBAL -DREDIS_STATIC='' -DLUA_USE_MKSTEMP    -c -o fpconv.o fpconv.c\ncc -O2 -Wall -DLUA_ANSI -DENABLE_CJSON_GLOBAL -DREDIS_STATIC='' -DLUA_USE_MKSTEMP    -c -o lauxlib.o lauxlib.c\ncc -O2 -Wall -DLUA_ANSI -DENABLE_CJSON_GLOBAL -DREDIS_STATIC='' -DLUA_USE_MKSTEMP    -c -o lbaselib.o lbaselib.c\ncc -O2 -Wall -DLUA_ANSI -DENABLE_CJSON_GLOBAL -DREDIS_STATIC='' -DLUA_USE_MKSTEMP    -c -o ldblib.o ldblib.c\ncc -O2 -Wall -DLUA_ANSI -DENABLE_CJSON_GLOBAL -DREDIS_STATIC='' -DLUA_USE_MKSTEMP    -c -o liolib.o liolib.c\ncc -O2 -Wall -DLUA_ANSI -DENABLE_CJSON_GLOBAL -DREDIS_STATIC='' -DLUA_USE_MKSTEMP    -c -o lmathlib.o lmathlib.c\ncc -O2 -Wall -DLUA_ANSI -DENABLE_CJSON_GLOBAL -DREDIS_STATIC='' -DLUA_USE_MKSTEMP    -c -o loslib.o loslib.c\ncc -O2 -Wall -DLUA_ANSI -DENABLE_CJSON_GLOBAL -DREDIS_STATIC='' -DLUA_USE_MKSTEMP    -c -o ltablib.o ltablib.c\ncc -O2 -Wall -DLUA_ANSI -DENABLE_CJSON_GLOBAL -DREDIS_STATIC='' -DLUA_USE_MKSTEMP    -c -o lstrlib.o lstrlib.c\ncc -O2 -Wall -DLUA_ANSI -DENABLE_CJSON_GLOBAL -DREDIS_STATIC='' -DLUA_USE_MKSTEMP    -c -o loadlib.o loadlib.c\ncc -O2 -Wall -DLUA_ANSI -DENABLE_CJSON_GLOBAL -DREDIS_STATIC='' -DLUA_USE_MKSTEMP    -c -o linit.o linit.c\ncc -O2 -Wall -DLUA_ANSI -DENABLE_CJSON_GLOBAL -DREDIS_STATIC='' -DLUA_USE_MKSTEMP    -c -o lua_cjson.o lua_cjson.c\ncc -O2 -Wall -DLUA_ANSI -DENABLE_CJSON_GLOBAL -DREDIS_STATIC='' -DLUA_USE_MKSTEMP    -c -o lua_struct.o lua_struct.c\ncc -O2 -Wall -DLUA_ANSI -DENABLE_CJSON_GLOBAL -DREDIS_STATIC='' -DLUA_USE_MKSTEMP    -c -o lua_cmsgpack.o lua_cmsgpack.c\ncc -O2 -Wall -DLUA_ANSI -DENABLE_CJSON_GLOBAL -DREDIS_STATIC='' -DLUA_USE_MKSTEMP    -c -o lua_bit.o lua_bit.c\nar rc liblua.a lapi.o lcode.o ldebug.o ldo.o ldump.o lfunc.o lgc.o llex.o lmem.o lobject.o lopcodes.o lparser.o lstate.o lstring.o ltable.o ltm.o lundump.o lvm.o lzio.o strbuf.o fpconv.o lauxlib.o lbaselib.o ldblib.o liolib.o lmathlib.o loslib.o ltablib.o lstrlib.o loadlib.o linit.o lua_cjson.o lua_struct.o lua_cmsgpack.o lua_bit.o\t# DLL needs all object files\nranlib liblua.a\ncc -O2 -Wall -DLUA_ANSI -DENABLE_CJSON_GLOBAL -DREDIS_STATIC='' -DLUA_USE_MKSTEMP    -c -o lua.o lua.c\ncc -o lua  lua.o liblua.a -lm \ncc -O2 -Wall -DLUA_ANSI -DENABLE_CJSON_GLOBAL -DREDIS_STATIC='' -DLUA_USE_MKSTEMP    -c -o luac.o luac.c\ncc -O2 -Wall -DLUA_ANSI -DENABLE_CJSON_GLOBAL -DREDIS_STATIC='' -DLUA_USE_MKSTEMP    -c -o print.o print.c\ncc -o luac  luac.o print.o liblua.a -lm \nmake[3]: Leaving directory '/work/redis/redis-6.2.6/deps/lua/src'\n\u001b[32;1mMAKE\u001b[0m \u001b[37;1mhdr_histogram\u001b[0m\ncd hdr_histogram && make\nmake[3]: Entering directory '/work/redis/redis-6.2.6/deps/hdr_histogram'\ncc  -Wall -Os -g  -c  hdr_histogram.c \nmake[3]: Leaving directory '/work/redis/redis-6.2.6/deps/hdr_histogram'\n\u001b[32;1mMAKE\u001b[0m \u001b[37;1mjemalloc\u001b[0m\ncd jemalloc && ./configure --with-version=5.1.0-0-g0 --with-lg-quantum=3 --with-jemalloc-prefix=je_ CFLAGS=\"-std=gnu99 -Wall -pipe -g3 -O3 -funroll-loops \" LDFLAGS=\"\"\nchecking for xsltproc... false\nchecking for gcc... gcc\nchecking whether the C compiler works... yes\nchecking for C compiler default output file name... a.out\nchecking for suffix of executables... \nchecking whether we are cross compiling... no\nchecking for suffix of object files... o\nchecking whether we are using the GNU C compiler... yes\nchecking whether gcc accepts -g... yes\nchecking for gcc option to accept ISO C89... none needed\nchecking whether compiler is cray... no\nchecking whether compiler supports -std=gnu11... yes\nchecking whether compiler supports -Wall... yes\nchecking whether compiler supports -Wshorten-64-to-32... no\nchecking whether compiler supports -Wsign-compare... yes\nchecking whether compiler supports -Wundef... yes\nchecking whether compiler supports -Wno-format-zero-length... yes\nchecking whether compiler supports -pipe... yes\nchecking whether compiler supports -g3... yes\nchecking how to run the C preprocessor... gcc -E\nchecking for g++... g++\nchecking whether we are using the GNU C++ compiler... yes\nchecking whether g++ accepts -g... yes\nchecking whether g++ supports C++14 features by default... yes\nchecking whether compiler supports -Wall... yes\nchecking whether compiler supports -g3... yes\nchecking whether libstdc++ linkage is compilable... yes\nchecking for grep that handles long lines and -e... /bin/grep\nchecking for egrep... /bin/grep -E\nchecking for ANSI C header files... yes\nchecking for sys/types.h... yes\nchecking for sys/stat.h... yes\nchecking for stdlib.h... yes\nchecking for string.h... yes\nchecking for memory.h... yes\nchecking for strings.h... yes\nchecking for inttypes.h... yes\nchecking for stdint.h... yes\nchecking for unistd.h... yes\nchecking whether byte ordering is bigendian... no\nchecking size of void *... 8\nchecking size of int... 4\nchecking size of long... 8\nchecking size of long long... 8\nchecking size of intmax_t... 8\nchecking build system type... x86_64-pc-linux-gnu\nchecking host system type... x86_64-pc-linux-gnu\nchecking whether pause instruction is compilable... yes\nchecking number of significant virtual address bits... 48\nchecking for ar... ar\nchecking for nm... nm\nchecking for gawk... no\nchecking for mawk... mawk\nchecking malloc.h usability... yes\nchecking malloc.h presence... yes\nchecking for malloc.h... yes\nchecking whether malloc_usable_size definition can use const argument... no\nchecking for library containing log... -lm\nchecking whether __attribute__ syntax is compilable... yes\nchecking whether compiler supports -fvisibility=hidden... yes\nchecking whether compiler supports -fvisibility=hidden... yes\nchecking whether compiler supports -Werror... yes\nchecking whether compiler supports -herror_on_warning... no\nchecking whether tls_model attribute is compilable... yes\nchecking whether compiler supports -Werror... yes\nchecking whether compiler supports -herror_on_warning... no\nchecking whether alloc_size attribute is compilable... yes\nchecking whether compiler supports -Werror... yes\nchecking whether compiler supports -herror_on_warning... no\nchecking whether format(gnu_printf, ...) attribute is compilable... yes\nchecking whether compiler supports -Werror... yes\nchecking whether compiler supports -herror_on_warning... no\nchecking whether format(printf, ...) attribute is compilable... yes\nchecking for a BSD-compatible install... /usr/bin/install -c\nchecking for ranlib... ranlib\nchecking for ld... /usr/bin/ld\nchecking for autoconf... false\nchecking for memalign... yes\nchecking for valloc... yes\nchecking whether compiler supports -O3... yes\nchecking whether compiler supports -O3... yes\nchecking whether compiler supports -funroll-loops... yes\nchecking configured backtracing method... N/A\nchecking for sbrk... yes\nchecking whether utrace(2) is compilable... no\nchecking whether a program using __builtin_unreachable is compilable... yes\nchecking whether a program using __builtin_ffsl is compilable... yes\nchecking LG_PAGE... 12\nchecking pthread.h usability... yes\nchecking pthread.h presence... yes\nchecking for pthread.h... yes\nchecking for pthread_create in -lpthread... yes\nchecking dlfcn.h usability... yes\nchecking dlfcn.h presence... yes\nchecking for dlfcn.h... yes\nchecking for dlsym... no\nchecking for dlsym in -ldl... yes\nchecking whether pthread_atfork(3) is compilable... yes\nchecking whether pthread_setname_np(3) is compilable... yes\nchecking for library containing clock_gettime... none required\nchecking whether clock_gettime(CLOCK_MONOTONIC_COARSE, ...) is compilable... yes\nchecking whether clock_gettime(CLOCK_MONOTONIC, ...) is compilable... yes\nchecking whether mach_absolute_time() is compilable... no\nchecking whether compiler supports -Werror... yes\nchecking whether syscall(2) is compilable... yes\nchecking for secure_getenv... yes\nchecking for sched_getcpu... yes\nchecking for sched_setaffinity... yes\nchecking for issetugid... no\nchecking for _malloc_thread_cleanup... no\nchecking for _pthread_mutex_init_calloc_cb... no\nchecking for TLS... yes\nchecking whether C11 atomics is compilable... no\nchecking whether GCC __atomic atomics is compilable... yes\nchecking whether GCC __sync atomics is compilable... yes\nchecking whether Darwin OSAtomic*() is compilable... no\nchecking whether madvise(2) is compilable... yes\nchecking whether madvise(..., MADV_FREE) is compilable... yes\nchecking whether madvise(..., MADV_DONTNEED) is compilable... yes\nchecking whether madvise(..., MADV_DO[NT]DUMP) is compilable... yes\nchecking whether madvise(..., MADV_[NO]HUGEPAGE) is compilable... yes\nchecking whether to force 32-bit __sync_{add,sub}_and_fetch()... no\nchecking whether to force 64-bit __sync_{add,sub}_and_fetch()... no\nchecking for __builtin_clz... yes\nchecking whether Darwin os_unfair_lock_*() is compilable... no\nchecking whether Darwin OSSpin*() is compilable... no\nchecking whether glibc malloc hook is compilable... yes\nchecking whether glibc memalign hook is compilable... yes\nchecking whether pthreads adaptive mutexes is compilable... yes\nchecking whether compiler supports -D_GNU_SOURCE... yes\nchecking whether compiler supports -Werror... yes\nchecking whether compiler supports -herror_on_warning... no\nchecking whether strerror_r returns char with gnu source is compilable... yes\nchecking for stdbool.h that conforms to C99... yes\nchecking for _Bool... yes\nconfigure: creating ./config.status\nconfig.status: creating Makefile\nconfig.status: creating jemalloc.pc\nconfig.status: creating doc/html.xsl\nconfig.status: creating doc/manpages.xsl\nconfig.status: creating doc/jemalloc.xml\nconfig.status: creating include/jemalloc/jemalloc_macros.h\nconfig.status: creating include/jemalloc/jemalloc_protos.h\nconfig.status: creating include/jemalloc/jemalloc_typedefs.h\nconfig.status: creating include/jemalloc/internal/jemalloc_preamble.h\nconfig.status: creating test/test.sh\nconfig.status: creating test/include/test/jemalloc_test.h\nconfig.status: creating config.stamp\nconfig.status: creating bin/jemalloc-config\nconfig.status: creating bin/jemalloc.sh\nconfig.status: creating bin/jeprof\nconfig.status: creating include/jemalloc/jemalloc_defs.h\nconfig.status: creating include/jemalloc/internal/jemalloc_internal_defs.h\nconfig.status: creating test/include/test/jemalloc_test_defs.h\nconfig.status: executing include/jemalloc/internal/public_symbols.txt commands\nconfig.status: executing include/jemalloc/internal/private_symbols.awk commands\nconfig.status: executing include/jemalloc/internal/private_symbols_jet.awk commands\nconfig.status: executing include/jemalloc/internal/public_namespace.h commands\nconfig.status: executing include/jemalloc/internal/public_unnamespace.h commands\nconfig.status: executing include/jemalloc/internal/size_classes.h commands\nconfig.status: executing include/jemalloc/jemalloc_protos_jet.h commands\nconfig.status: executing include/jemalloc/jemalloc_rename.h commands\nconfig.status: executing include/jemalloc/jemalloc_mangle.h commands\nconfig.status: executing include/jemalloc/jemalloc_mangle_jet.h commands\nconfig.status: executing include/jemalloc/jemalloc.h commands\n===============================================================================\njemalloc version   : 5.1.0-0-g0\nlibrary revision   : 2\n\nCONFIG             : --with-version=5.1.0-0-g0 --with-lg-quantum=3 --with-jemalloc-prefix=je_ 'CFLAGS=-std=gnu99 -Wall -pipe -g3 -O3 -funroll-loops ' LDFLAGS=\nCC                 : gcc\nCONFIGURE_CFLAGS   : -std=gnu11 -Wall -Wsign-compare -Wundef -Wno-format-zero-length -pipe -g3 -fvisibility=hidden -O3 -funroll-loops\nSPECIFIED_CFLAGS   : -std=gnu99 -Wall -pipe -g3 -O3 -funroll-loops \nEXTRA_CFLAGS       : \nCPPFLAGS           : -D_GNU_SOURCE -D_REENTRANT\nCXX                : g++\nCONFIGURE_CXXFLAGS : -Wall -g3 -fvisibility=hidden -O3\nSPECIFIED_CXXFLAGS : \nEXTRA_CXXFLAGS     : \nLDFLAGS            : \nEXTRA_LDFLAGS      : \nDSO_LDFLAGS        : -shared -Wl,-soname,$(@F)\nLIBS               : -lm -lstdc++ -lpthread -ldl\nRPATH_EXTRA        : \n\nXSLTPROC           : false\nXSLROOT            : \n\nPREFIX             : /usr/local\nBINDIR             : /usr/local/bin\nDATADIR            : /usr/local/share\nINCLUDEDIR         : /usr/local/include\nLIBDIR             : /usr/local/lib\nMANDIR             : /usr/local/share/man\n\nsrcroot            : \nabs_srcroot        : /work/redis/redis-6.2.6/deps/jemalloc/\nobjroot            : \nabs_objroot        : /work/redis/redis-6.2.6/deps/jemalloc/\n\nJEMALLOC_PREFIX    : je_\nJEMALLOC_PRIVATE_NAMESPACE\n                   : je_\ninstall_suffix     : \nmalloc_conf        : \nautogen            : 0\ndebug              : 0\nstats              : 1\nprof               : 0\nprof-libunwind     : 0\nprof-libgcc        : 0\nprof-gcc           : 0\nfill               : 1\nutrace             : 0\nxmalloc            : 0\nlog                : 0\nlazy_lock          : 0\ncache-oblivious    : 1\ncxx                : 1\n===============================================================================\ncd jemalloc && make CFLAGS=\"-std=gnu99 -Wall -pipe -g3 -O3 -funroll-loops \" LDFLAGS=\"\" lib/libjemalloc.a\nmake[3]: Entering directory '/work/redis/redis-6.2.6/deps/jemalloc'\ngcc -std=gnu99 -Wall -pipe -g3 -O3 -funroll-loops  -c -D_GNU_SOURCE -D_REENTRANT -Iinclude -Iinclude -DJEMALLOC_NO_PRIVATE_NAMESPACE -o src/jemalloc.sym.o src/jemalloc.c\nnm -a src/jemalloc.sym.o | mawk -f include/jemalloc/internal/private_symbols.awk > src/jemalloc.sym\ngcc -std=gnu99 -Wall -pipe -g3 -O3 -funroll-loops  -c -D_GNU_SOURCE -D_REENTRANT -Iinclude -Iinclude -DJEMALLOC_NO_PRIVATE_NAMESPACE -o src/arena.sym.o src/arena.c\nnm -a src/arena.sym.o | mawk -f include/jemalloc/internal/private_symbols.awk > src/arena.sym\ngcc -std=gnu99 -Wall -pipe -g3 -O3 -funroll-loops  -c -D_GNU_SOURCE -D_REENTRANT -Iinclude -Iinclude -DJEMALLOC_NO_PRIVATE_NAMESPACE -o src/background_thread.sym.o src/background_thread.c\nnm -a src/background_thread.sym.o | mawk -f include/jemalloc/internal/private_symbols.awk > src/background_thread.sym\ngcc -std=gnu99 -Wall -pipe -g3 -O3 -funroll-loops  -c -D_GNU_SOURCE -D_REENTRANT -Iinclude -Iinclude -DJEMALLOC_NO_PRIVATE_NAMESPACE -o src/base.sym.o src/base.c\nnm -a src/base.sym.o | mawk -f include/jemalloc/internal/private_symbols.awk > src/base.sym\ngcc -std=gnu99 -Wall -pipe -g3 -O3 -funroll-loops  -c -D_GNU_SOURCE -D_REENTRANT -Iinclude -Iinclude -DJEMALLOC_NO_PRIVATE_NAMESPACE -o src/bin.sym.o src/bin.c\nnm -a src/bin.sym.o | mawk -f include/jemalloc/internal/private_symbols.awk > src/bin.sym\ngcc -std=gnu99 -Wall -pipe -g3 -O3 -funroll-loops  -c -D_GNU_SOURCE -D_REENTRANT -Iinclude -Iinclude -DJEMALLOC_NO_PRIVATE_NAMESPACE -o src/bitmap.sym.o src/bitmap.c\nnm -a src/bitmap.sym.o | mawk -f include/jemalloc/internal/private_symbols.awk > src/bitmap.sym\ngcc -std=gnu99 -Wall -pipe -g3 -O3 -funroll-loops  -c -D_GNU_SOURCE -D_REENTRANT -Iinclude -Iinclude -DJEMALLOC_NO_PRIVATE_NAMESPACE -o src/ckh.sym.o src/ckh.c\nnm -a src/ckh.sym.o | mawk -f include/jemalloc/internal/private_symbols.awk > src/ckh.sym\ngcc -std=gnu99 -Wall -pipe -g3 -O3 -funroll-loops  -c -D_GNU_SOURCE -D_REENTRANT -Iinclude -Iinclude -DJEMALLOC_NO_PRIVATE_NAMESPACE -o src/ctl.sym.o src/ctl.c\nnm -a src/ctl.sym.o | mawk -f include/jemalloc/internal/private_symbols.awk > src/ctl.sym\ngcc -std=gnu99 -Wall -pipe -g3 -O3 -funroll-loops  -c -D_GNU_SOURCE -D_REENTRANT -Iinclude -Iinclude -DJEMALLOC_NO_PRIVATE_NAMESPACE -o src/div.sym.o src/div.c\nnm -a src/div.sym.o | mawk -f include/jemalloc/internal/private_symbols.awk > src/div.sym\ngcc -std=gnu99 -Wall -pipe -g3 -O3 -funroll-loops  -c -D_GNU_SOURCE -D_REENTRANT -Iinclude -Iinclude -DJEMALLOC_NO_PRIVATE_NAMESPACE -o src/extent.sym.o src/extent.c\nnm -a src/extent.sym.o | mawk -f include/jemalloc/internal/private_symbols.awk > src/extent.sym\ngcc -std=gnu99 -Wall -pipe -g3 -O3 -funroll-loops  -c -D_GNU_SOURCE -D_REENTRANT -Iinclude -Iinclude -DJEMALLOC_NO_PRIVATE_NAMESPACE -o src/extent_dss.sym.o src/extent_dss.c\nnm -a src/extent_dss.sym.o | mawk -f include/jemalloc/internal/private_symbols.awk > src/extent_dss.sym\ngcc -std=gnu99 -Wall -pipe -g3 -O3 -funroll-loops  -c -D_GNU_SOURCE -D_REENTRANT -Iinclude -Iinclude -DJEMALLOC_NO_PRIVATE_NAMESPACE -o src/extent_mmap.sym.o src/extent_mmap.c\nnm -a src/extent_mmap.sym.o | mawk -f include/jemalloc/internal/private_symbols.awk > src/extent_mmap.sym\ngcc -std=gnu99 -Wall -pipe -g3 -O3 -funroll-loops  -c -D_GNU_SOURCE -D_REENTRANT -Iinclude -Iinclude -DJEMALLOC_NO_PRIVATE_NAMESPACE -o src/hash.sym.o src/hash.c\nnm -a src/hash.sym.o | mawk -f include/jemalloc/internal/private_symbols.awk > src/hash.sym\ngcc -std=gnu99 -Wall -pipe -g3 -O3 -funroll-loops  -c -D_GNU_SOURCE -D_REENTRANT -Iinclude -Iinclude -DJEMALLOC_NO_PRIVATE_NAMESPACE -o src/hooks.sym.o src/hooks.c\nnm -a src/hooks.sym.o | mawk -f include/jemalloc/internal/private_symbols.awk > src/hooks.sym\ngcc -std=gnu99 -Wall -pipe -g3 -O3 -funroll-loops  -c -D_GNU_SOURCE -D_REENTRANT -Iinclude -Iinclude -DJEMALLOC_NO_PRIVATE_NAMESPACE -o src/large.sym.o src/large.c\nnm -a src/large.sym.o | mawk -f include/jemalloc/internal/private_symbols.awk > src/large.sym\ngcc -std=gnu99 -Wall -pipe -g3 -O3 -funroll-loops  -c -D_GNU_SOURCE -D_REENTRANT -Iinclude -Iinclude -DJEMALLOC_NO_PRIVATE_NAMESPACE -o src/log.sym.o src/log.c\nnm -a src/log.sym.o | mawk -f include/jemalloc/internal/private_symbols.awk > src/log.sym\ngcc -std=gnu99 -Wall -pipe -g3 -O3 -funroll-loops  -c -D_GNU_SOURCE -D_REENTRANT -Iinclude -Iinclude -DJEMALLOC_NO_PRIVATE_NAMESPACE -o src/malloc_io.sym.o src/malloc_io.c\nnm -a src/malloc_io.sym.o | mawk -f include/jemalloc/internal/private_symbols.awk > src/malloc_io.sym\ngcc -std=gnu99 -Wall -pipe -g3 -O3 -funroll-loops  -c -D_GNU_SOURCE -D_REENTRANT -Iinclude -Iinclude -DJEMALLOC_NO_PRIVATE_NAMESPACE -o src/mutex.sym.o src/mutex.c\nnm -a src/mutex.sym.o | mawk -f include/jemalloc/internal/private_symbols.awk > src/mutex.sym\ngcc -std=gnu99 -Wall -pipe -g3 -O3 -funroll-loops  -c -D_GNU_SOURCE -D_REENTRANT -Iinclude -Iinclude -DJEMALLOC_NO_PRIVATE_NAMESPACE -o src/mutex_pool.sym.o src/mutex_pool.c\nnm -a src/mutex_pool.sym.o | mawk -f include/jemalloc/internal/private_symbols.awk > src/mutex_pool.sym\ngcc -std=gnu99 -Wall -pipe -g3 -O3 -funroll-loops  -c -D_GNU_SOURCE -D_REENTRANT -Iinclude -Iinclude -DJEMALLOC_NO_PRIVATE_NAMESPACE -o src/nstime.sym.o src/nstime.c\nnm -a src/nstime.sym.o | mawk -f include/jemalloc/internal/private_symbols.awk > src/nstime.sym\ngcc -std=gnu99 -Wall -pipe -g3 -O3 -funroll-loops  -c -D_GNU_SOURCE -D_REENTRANT -Iinclude -Iinclude -DJEMALLOC_NO_PRIVATE_NAMESPACE -o src/pages.sym.o src/pages.c\nnm -a src/pages.sym.o | mawk -f include/jemalloc/internal/private_symbols.awk > src/pages.sym\ngcc -std=gnu99 -Wall -pipe -g3 -O3 -funroll-loops  -c -D_GNU_SOURCE -D_REENTRANT -Iinclude -Iinclude -DJEMALLOC_NO_PRIVATE_NAMESPACE -o src/prng.sym.o src/prng.c\nnm -a src/prng.sym.o | mawk -f include/jemalloc/internal/private_symbols.awk > src/prng.sym\ngcc -std=gnu99 -Wall -pipe -g3 -O3 -funroll-loops  -c -D_GNU_SOURCE -D_REENTRANT -Iinclude -Iinclude -DJEMALLOC_NO_PRIVATE_NAMESPACE -o src/prof.sym.o src/prof.c\nnm -a src/prof.sym.o | mawk -f include/jemalloc/internal/private_symbols.awk > src/prof.sym\ngcc -std=gnu99 -Wall -pipe -g3 -O3 -funroll-loops  -c -D_GNU_SOURCE -D_REENTRANT -Iinclude -Iinclude -DJEMALLOC_NO_PRIVATE_NAMESPACE -o src/rtree.sym.o src/rtree.c\nnm -a src/rtree.sym.o | mawk -f include/jemalloc/internal/private_symbols.awk > src/rtree.sym\ngcc -std=gnu99 -Wall -pipe -g3 -O3 -funroll-loops  -c -D_GNU_SOURCE -D_REENTRANT -Iinclude -Iinclude -DJEMALLOC_NO_PRIVATE_NAMESPACE -o src/stats.sym.o src/stats.c\nnm -a src/stats.sym.o | mawk -f include/jemalloc/internal/private_symbols.awk > src/stats.sym\ngcc -std=gnu99 -Wall -pipe -g3 -O3 -funroll-loops  -c -D_GNU_SOURCE -D_REENTRANT -Iinclude -Iinclude -DJEMALLOC_NO_PRIVATE_NAMESPACE -o src/sz.sym.o src/sz.c\nnm -a src/sz.sym.o | mawk -f include/jemalloc/internal/private_symbols.awk > src/sz.sym\ngcc -std=gnu99 -Wall -pipe -g3 -O3 -funroll-loops  -c -D_GNU_SOURCE -D_REENTRANT -Iinclude -Iinclude -DJEMALLOC_NO_PRIVATE_NAMESPACE -o src/tcache.sym.o src/tcache.c\nnm -a src/tcache.sym.o | mawk -f include/jemalloc/internal/private_symbols.awk > src/tcache.sym\ngcc -std=gnu99 -Wall -pipe -g3 -O3 -funroll-loops  -c -D_GNU_SOURCE -D_REENTRANT -Iinclude -Iinclude -DJEMALLOC_NO_PRIVATE_NAMESPACE -o src/ticker.sym.o src/ticker.c\nnm -a src/ticker.sym.o | mawk -f include/jemalloc/internal/private_symbols.awk > src/ticker.sym\ngcc -std=gnu99 -Wall -pipe -g3 -O3 -funroll-loops  -c -D_GNU_SOURCE -D_REENTRANT -Iinclude -Iinclude -DJEMALLOC_NO_PRIVATE_NAMESPACE -o src/tsd.sym.o src/tsd.c\nnm -a src/tsd.sym.o | mawk -f include/jemalloc/internal/private_symbols.awk > src/tsd.sym\ngcc -std=gnu99 -Wall -pipe -g3 -O3 -funroll-loops  -c -D_GNU_SOURCE -D_REENTRANT -Iinclude -Iinclude -DJEMALLOC_NO_PRIVATE_NAMESPACE -o src/witness.sym.o src/witness.c\nnm -a src/witness.sym.o | mawk -f include/jemalloc/internal/private_symbols.awk > src/witness.sym\n/bin/sh include/jemalloc/internal/private_namespace.sh src/jemalloc.sym src/arena.sym src/background_thread.sym src/base.sym src/bin.sym src/bitmap.sym src/ckh.sym src/ctl.sym src/div.sym src/extent.sym src/extent_dss.sym src/extent_mmap.sym src/hash.sym src/hooks.sym src/large.sym src/log.sym src/malloc_io.sym src/mutex.sym src/mutex_pool.sym src/nstime.sym src/pages.sym src/prng.sym src/prof.sym src/rtree.sym src/stats.sym src/sz.sym src/tcache.sym src/ticker.sym src/tsd.sym src/witness.sym > include/jemalloc/internal/private_namespace.gen.h\ncp include/jemalloc/internal/private_namespace.gen.h include/jemalloc/internal/private_namespace.gen.h\ngcc -std=gnu99 -Wall -pipe -g3 -O3 -funroll-loops  -c -D_GNU_SOURCE -D_REENTRANT -Iinclude -Iinclude -o src/jemalloc.o src/jemalloc.c\ngcc -std=gnu99 -Wall -pipe -g3 -O3 -funroll-loops  -c -D_GNU_SOURCE -D_REENTRANT -Iinclude -Iinclude -o src/arena.o src/arena.c\ngcc -std=gnu99 -Wall -pipe -g3 -O3 -funroll-loops  -c -D_GNU_SOURCE -D_REENTRANT -Iinclude -Iinclude -o src/background_thread.o src/background_thread.c\ngcc -std=gnu99 -Wall -pipe -g3 -O3 -funroll-loops  -c -D_GNU_SOURCE -D_REENTRANT -Iinclude -Iinclude -o src/base.o src/base.c\ngcc -std=gnu99 -Wall -pipe -g3 -O3 -funroll-loops  -c -D_GNU_SOURCE -D_REENTRANT -Iinclude -Iinclude -o src/bin.o src/bin.c\ngcc -std=gnu99 -Wall -pipe -g3 -O3 -funroll-loops  -c -D_GNU_SOURCE -D_REENTRANT -Iinclude -Iinclude -o src/bitmap.o src/bitmap.c\ngcc -std=gnu99 -Wall -pipe -g3 -O3 -funroll-loops  -c -D_GNU_SOURCE -D_REENTRANT -Iinclude -Iinclude -o src/ckh.o src/ckh.c\ngcc -std=gnu99 -Wall -pipe -g3 -O3 -funroll-loops  -c -D_GNU_SOURCE -D_REENTRANT -Iinclude -Iinclude -o src/ctl.o src/ctl.c\ngcc -std=gnu99 -Wall -pipe -g3 -O3 -funroll-loops  -c -D_GNU_SOURCE -D_REENTRANT -Iinclude -Iinclude -o src/div.o src/div.c\ngcc -std=gnu99 -Wall -pipe -g3 -O3 -funroll-loops  -c -D_GNU_SOURCE -D_REENTRANT -Iinclude -Iinclude -o src/extent.o src/extent.c\ngcc -std=gnu99 -Wall -pipe -g3 -O3 -funroll-loops  -c -D_GNU_SOURCE -D_REENTRANT -Iinclude -Iinclude -o src/extent_dss.o src/extent_dss.c\ngcc -std=gnu99 -Wall -pipe -g3 -O3 -funroll-loops  -c -D_GNU_SOURCE -D_REENTRANT -Iinclude -Iinclude -o src/extent_mmap.o src/extent_mmap.c\ngcc -std=gnu99 -Wall -pipe -g3 -O3 -funroll-loops  -c -D_GNU_SOURCE -D_REENTRANT -Iinclude -Iinclude -o src/hash.o src/hash.c\ngcc -std=gnu99 -Wall -pipe -g3 -O3 -funroll-loops  -c -D_GNU_SOURCE -D_REENTRANT -Iinclude -Iinclude -o src/hooks.o src/hooks.c\ngcc -std=gnu99 -Wall -pipe -g3 -O3 -funroll-loops  -c -D_GNU_SOURCE -D_REENTRANT -Iinclude -Iinclude -o src/large.o src/large.c\ngcc -std=gnu99 -Wall -pipe -g3 -O3 -funroll-loops  -c -D_GNU_SOURCE -D_REENTRANT -Iinclude -Iinclude -o src/log.o src/log.c\ngcc -std=gnu99 -Wall -pipe -g3 -O3 -funroll-loops  -c -D_GNU_SOURCE -D_REENTRANT -Iinclude -Iinclude -o src/malloc_io.o src/malloc_io.c\ngcc -std=gnu99 -Wall -pipe -g3 -O3 -funroll-loops  -c -D_GNU_SOURCE -D_REENTRANT -Iinclude -Iinclude -o src/mutex.o src/mutex.c\ngcc -std=gnu99 -Wall -pipe -g3 -O3 -funroll-loops  -c -D_GNU_SOURCE -D_REENTRANT -Iinclude -Iinclude -o src/mutex_pool.o src/mutex_pool.c\ngcc -std=gnu99 -Wall -pipe -g3 -O3 -funroll-loops  -c -D_GNU_SOURCE -D_REENTRANT -Iinclude -Iinclude -o src/nstime.o src/nstime.c\ngcc -std=gnu99 -Wall -pipe -g3 -O3 -funroll-loops  -c -D_GNU_SOURCE -D_REENTRANT -Iinclude -Iinclude -o src/pages.o src/pages.c\ngcc -std=gnu99 -Wall -pipe -g3 -O3 -funroll-loops  -c -D_GNU_SOURCE -D_REENTRANT -Iinclude -Iinclude -o src/prng.o src/prng.c\ngcc -std=gnu99 -Wall -pipe -g3 -O3 -funroll-loops  -c -D_GNU_SOURCE -D_REENTRANT -Iinclude -Iinclude -o src/prof.o src/prof.c\ngcc -std=gnu99 -Wall -pipe -g3 -O3 -funroll-loops  -c -D_GNU_SOURCE -D_REENTRANT -Iinclude -Iinclude -o src/rtree.o src/rtree.c\ngcc -std=gnu99 -Wall -pipe -g3 -O3 -funroll-loops  -c -D_GNU_SOURCE -D_REENTRANT -Iinclude -Iinclude -o src/stats.o src/stats.c\ngcc -std=gnu99 -Wall -pipe -g3 -O3 -funroll-loops  -c -D_GNU_SOURCE -D_REENTRANT -Iinclude -Iinclude -o src/sz.o src/sz.c\ngcc -std=gnu99 -Wall -pipe -g3 -O3 -funroll-loops  -c -D_GNU_SOURCE -D_REENTRANT -Iinclude -Iinclude -o src/tcache.o src/tcache.c\ngcc -std=gnu99 -Wall -pipe -g3 -O3 -funroll-loops  -c -D_GNU_SOURCE -D_REENTRANT -Iinclude -Iinclude -o src/ticker.o src/ticker.c\ngcc -std=gnu99 -Wall -pipe -g3 -O3 -funroll-loops  -c -D_GNU_SOURCE -D_REENTRANT -Iinclude -Iinclude -o src/tsd.o src/tsd.c\ngcc -std=gnu99 -Wall -pipe -g3 -O3 -funroll-loops  -c -D_GNU_SOURCE -D_REENTRANT -Iinclude -Iinclude -o src/witness.o src/witness.c\ng++ -Wall -g3 -fvisibility=hidden -O3 -c -D_GNU_SOURCE -D_REENTRANT -Iinclude -Iinclude -o src/jemalloc_cpp.o src/jemalloc_cpp.cpp\nar crus lib/libjemalloc.a src/jemalloc.o src/arena.o src/background_thread.o src/base.o src/bin.o src/bitmap.o src/ckh.o src/ctl.o src/div.o src/extent.o src/extent_dss.o src/extent_mmap.o src/hash.o src/hooks.o src/large.o src/log.o src/malloc_io.o src/mutex.o src/mutex_pool.o src/nstime.o src/pages.o src/prng.o src/prof.o src/rtree.o src/stats.o src/sz.o src/tcache.o src/ticker.o src/tsd.o src/witness.o src/jemalloc_cpp.o\nmake[3]: Leaving directory '/work/redis/redis-6.2.6/deps/jemalloc'\nmake[2]: Leaving directory '/work/redis/redis-6.2.6/deps'\n\nHint: It's a good idea to run 'make test' ;)\n\nmake[1]: Leaving directory '/work/redis/redis-6.2.6/src'\n--2022-03-11 03:29:23--  https://download.redis.io/releases/redis-6.2.6.tar.gz\nResolving download.redis.io (download.redis.io)... 45.60.121.1\nConnecting to download.redis.io (download.redis.io)|45.60.121.1|:443... connected.\nHTTP request sent, awaiting response... 200 OK\nLength: 2476542 (2.4M) [application/octet-stream]\nSaving to: ‘redis-6.2.6.tar.gz’\n\n     0K .......... .......... .......... .......... ..........  2% 4.00M 1s\n    50K .......... .......... .......... .......... ..........  4% 6.90M 0s\n   100K .......... .......... .......... .......... ..........  6% 7.12M 0s\n   150K .......... .......... .......... .......... ..........  8% 7.92M 0s\n   200K .......... .......... .......... .......... .......... 10% 48.7M 0s\n   250K .......... .......... .......... .......... .......... 12% 11.2M 0s\n   300K .......... .......... .......... .......... .......... 14% 72.4M 0s\n   350K .......... .......... .......... .......... .......... 16%  120M 0s\n   400K .......... .......... .......... .......... .......... 18% 9.30M 0s\n   450K .......... .......... .......... .......... .......... 20% 37.8M 0s\n   500K .......... .......... .......... .......... .......... 22% 59.0M 0s\n   550K .......... .......... .......... .......... .......... 24%  137M 0s\n   600K .......... .......... .......... .......... .......... 26%  151M 0s\n   650K .......... .......... .......... .......... .......... 28%  222M 0s\n   700K .......... .......... .......... .......... .......... 31%  143M 0s\n   750K .......... .......... .......... .......... .......... 33%  178M 0s\n   800K .......... .......... .......... .......... .......... 35% 19.7M 0s\n   850K .......... .......... .......... .......... .......... 37% 27.4M 0s\n   900K .......... .......... .......... .......... .......... 39%  296M 0s\n   950K .......... .......... .......... .......... .......... 41%  232M 0s\n  1000K .......... .......... .......... .......... .......... 43%  387M 0s\n  1050K .......... .......... .......... .......... .......... 45%  438M 0s\n  1100K .......... .......... .......... .......... .......... 47%  260M 0s\n  1150K .......... .......... .......... .......... .......... 49%  314M 0s\n  1200K .......... .......... .......... .......... .......... 51%  410M 0s\n  1250K .......... .......... .......... .......... .......... 53%  436M 0s\n  1300K .......... .......... .......... .......... .......... 55% 10.6M 0s\n  1350K .......... .......... .......... .......... .......... 57%  125M 0s\n  1400K .......... .......... .......... .......... .......... 59% 30.2M 0s\n  1450K .......... .......... .......... .......... .......... 62% 38.9M 0s\n  1500K .......... .......... .......... .......... .......... 64%  109M 0s\n  1550K .......... .......... .......... .......... .......... 66%  125M 0s\n  1600K .......... .......... .......... .......... .......... 68%  153M 0s\n  1650K .......... .......... .......... .......... .......... 70% 89.3M 0s\n  1700K .......... .......... .......... .......... .......... 72%  107M 0s\n  1750K .......... .......... .......... .......... .......... 74% 97.8M 0s\n  1800K .......... .......... .......... .......... .......... 76% 81.8M 0s\n  1850K .......... .......... .......... .......... .......... 78% 70.7M 0s\n  1900K .......... .......... .......... .......... .......... 80% 86.6M 0s\n  1950K .......... .......... .......... .......... .......... 82%  147M 0s\n  2000K .......... .......... .......... .......... .......... 84%  134M 0s\n  2050K .......... .......... .......... .......... .......... 86%  119M 0s\n  2100K .......... .......... .......... .......... .......... 88%  232M 0s\n  2150K .......... .......... .......... .......... .......... 90%  215M 0s\n  2200K .......... .......... .......... .......... .......... 93%  166M 0s\n  2250K .......... .......... .......... .......... .......... 95%  238M 0s\n  2300K .......... .......... .......... .......... .......... 97%  258M 0s\n  2350K .......... .......... .......... .......... .......... 99%  225M 0s\n  2400K .......... ........                                   100%  209M=0.07s\n\n2022-03-11 03:29:23 (34.7 MB/s) - ‘redis-6.2.6.tar.gz’ saved [2476542/2476542]\n\n    \u001b[34mCC\u001b[0m \u001b[33mMakefile.dep\u001b[0m\nar: `u' modifier ignored since `D' is the default (see `U')\n    \u001b[34mCC\u001b[0m \u001b[33madlist.o\u001b[0m\n    \u001b[34mCC\u001b[0m \u001b[33mquicklist.o\u001b[0m\n    \u001b[34mCC\u001b[0m \u001b[33mae.o\u001b[0m\n    \u001b[34mCC\u001b[0m \u001b[33manet.o\u001b[0m\n    \u001b[34mCC\u001b[0m \u001b[33mdict.o\u001b[0m\n    \u001b[34mCC\u001b[0m \u001b[33mserver.o\u001b[0m\n    \u001b[34mCC\u001b[0m \u001b[33msds.o\u001b[0m\n    \u001b[34mCC\u001b[0m \u001b[33mzmalloc.o\u001b[0m\n    \u001b[34mCC\u001b[0m \u001b[33mlzf_c.o\u001b[0m\n    \u001b[34mCC\u001b[0m \u001b[33mlzf_d.o\u001b[0m\n    \u001b[34mCC\u001b[0m \u001b[33mpqsort.o\u001b[0m\n    \u001b[34mCC\u001b[0m \u001b[33mzipmap.o\u001b[0m\n    \u001b[34mCC\u001b[0m \u001b[33msha1.o\u001b[0m\n    \u001b[34mCC\u001b[0m \u001b[33mziplist.o\u001b[0m\n    \u001b[34mCC\u001b[0m \u001b[33mrelease.o\u001b[0m\n    \u001b[34mCC\u001b[0m \u001b[33mnetworking.o\u001b[0m\n    \u001b[34mCC\u001b[0m \u001b[33mutil.o\u001b[0m\n    \u001b[34mCC\u001b[0m \u001b[33mobject.o\u001b[0m\n    \u001b[34mCC\u001b[0m \u001b[33mdb.o\u001b[0m\n    \u001b[34mCC\u001b[0m \u001b[33mreplication.o\u001b[0m\n    \u001b[34mCC\u001b[0m \u001b[33mrdb.o\u001b[0m\n    \u001b[34mCC\u001b[0m \u001b[33mt_string.o\u001b[0m\n    \u001b[34mCC\u001b[0m \u001b[33mt_list.o\u001b[0m\n    \u001b[34mCC\u001b[0m \u001b[33mt_set.o\u001b[0m\n    \u001b[34mCC\u001b[0m \u001b[33mt_zset.o\u001b[0m\n    \u001b[34mCC\u001b[0m \u001b[33mt_hash.o\u001b[0m\n    \u001b[34mCC\u001b[0m \u001b[33mconfig.o\u001b[0m\n    \u001b[34mCC\u001b[0m \u001b[33maof.o\u001b[0m\n    \u001b[34mCC\u001b[0m \u001b[33mpubsub.o\u001b[0m\n    \u001b[34mCC\u001b[0m \u001b[33mmulti.o\u001b[0m\n    \u001b[34mCC\u001b[0m \u001b[33mdebug.o\u001b[0m\n    \u001b[34mCC\u001b[0m \u001b[33msort.o\u001b[0m\n    \u001b[34mCC\u001b[0m \u001b[33mintset.o\u001b[0m\n    \u001b[34mCC\u001b[0m \u001b[33msyncio.o\u001b[0m\n    \u001b[34mCC\u001b[0m \u001b[33mcluster.o\u001b[0m\n    \u001b[34mCC\u001b[0m \u001b[33mcrc16.o\u001b[0m\n    \u001b[34mCC\u001b[0m \u001b[33mendianconv.o\u001b[0m\n    \u001b[34mCC\u001b[0m \u001b[33mslowlog.o\u001b[0m\n    \u001b[34mCC\u001b[0m \u001b[33mscripting.o\u001b[0m\n    \u001b[34mCC\u001b[0m \u001b[33mbio.o\u001b[0m\n    \u001b[34mCC\u001b[0m \u001b[33mrio.o\u001b[0m\n    \u001b[34mCC\u001b[0m \u001b[33mrand.o\u001b[0m\n    \u001b[34mCC\u001b[0m \u001b[33mmemtest.o\u001b[0m\n    \u001b[34mCC\u001b[0m \u001b[33mcrcspeed.o\u001b[0m\n    \u001b[34mCC\u001b[0m \u001b[33mcrc64.o\u001b[0m\n    \u001b[34mCC\u001b[0m \u001b[33mbitops.o\u001b[0m\n    \u001b[34mCC\u001b[0m \u001b[33msentinel.o\u001b[0m\n    \u001b[34mCC\u001b[0m \u001b[33mnotify.o\u001b[0m\n    \u001b[34mCC\u001b[0m \u001b[33msetproctitle.o\u001b[0m\n    \u001b[34mCC\u001b[0m \u001b[33mblocked.o\u001b[0m\n    \u001b[34mCC\u001b[0m \u001b[33mhyperloglog.o\u001b[0m\n    \u001b[34mCC\u001b[0m \u001b[33mlatency.o\u001b[0m\n    \u001b[34mCC\u001b[0m \u001b[33msparkline.o\u001b[0m\n    \u001b[34mCC\u001b[0m \u001b[33mredis-check-rdb.o\u001b[0m\n    \u001b[34mCC\u001b[0m \u001b[33mredis-check-aof.o\u001b[0m\n    \u001b[34mCC\u001b[0m \u001b[33mgeo.o\u001b[0m\n    \u001b[34mCC\u001b[0m \u001b[33mlazyfree.o\u001b[0m\n    \u001b[34mCC\u001b[0m \u001b[33mmodule.o\u001b[0m\n    \u001b[34mCC\u001b[0m \u001b[33mevict.o\u001b[0m\n    \u001b[34mCC\u001b[0m \u001b[33mexpire.o\u001b[0m\n    \u001b[34mCC\u001b[0m \u001b[33mgeohash.o\u001b[0m\n    \u001b[34mCC\u001b[0m \u001b[33mgeohash_helper.o\u001b[0m\n    \u001b[34mCC\u001b[0m \u001b[33mchildinfo.o\u001b[0m\n    \u001b[34mCC\u001b[0m \u001b[33mdefrag.o\u001b[0m\n    \u001b[34mCC\u001b[0m \u001b[33msiphash.o\u001b[0m\n    \u001b[34mCC\u001b[0m \u001b[33mrax.o\u001b[0m\n    \u001b[34mCC\u001b[0m \u001b[33mt_stream.o\u001b[0m\n    \u001b[34mCC\u001b[0m \u001b[33mlistpack.o\u001b[0m\n    \u001b[34mCC\u001b[0m \u001b[33mlocaltime.o\u001b[0m\n    \u001b[34mCC\u001b[0m \u001b[33mlolwut.o\u001b[0m\n    \u001b[34mCC\u001b[0m \u001b[33mlolwut5.o\u001b[0m\n    \u001b[34mCC\u001b[0m \u001b[33mlolwut6.o\u001b[0m\n    \u001b[34mCC\u001b[0m \u001b[33macl.o\u001b[0m\n    \u001b[34mCC\u001b[0m \u001b[33mgopher.o\u001b[0m\n    \u001b[34mCC\u001b[0m \u001b[33mtracking.o\u001b[0m\n    \u001b[34mCC\u001b[0m \u001b[33mconnection.o\u001b[0m\n    \u001b[34mCC\u001b[0m \u001b[33mtls.o\u001b[0m\n    \u001b[34mCC\u001b[0m \u001b[33msha256.o\u001b[0m\n    \u001b[34mCC\u001b[0m \u001b[33mtimeout.o\u001b[0m\n    \u001b[34mCC\u001b[0m \u001b[33msetcpuaffinity.o\u001b[0m\n    \u001b[34mCC\u001b[0m \u001b[33mmonotonic.o\u001b[0m\n    \u001b[34mCC\u001b[0m \u001b[33mmt19937-64.o\u001b[0m\n    \u001b[34;1mLINK\u001b[0m \u001b[37;1mredis-server\u001b[0m\n    \u001b[34;1mINSTALL\u001b[0m \u001b[37;1mredis-sentinel\u001b[0m\n    \u001b[34mCC\u001b[0m \u001b[33mredis-cli.o\u001b[0m\n    \u001b[34mCC\u001b[0m \u001b[33mcli_common.o\u001b[0m\n    \u001b[34;1mLINK\u001b[0m \u001b[37;1mredis-cli\u001b[0m\n    \u001b[34mCC\u001b[0m \u001b[33mredis-benchmark.o\u001b[0m\n    \u001b[34;1mLINK\u001b[0m \u001b[37;1mredis-benchmark\u001b[0m\n    \u001b[34;1mINSTALL\u001b[0m \u001b[37;1mredis-check-rdb\u001b[0m\n    \u001b[34;1mINSTALL\u001b[0m \u001b[37;1mredis-check-aof\u001b[0m\n",
     "output_type": "stream"
    }
   ]
  },
  {
   "cell_type": "code",
   "metadata": {
    "cell_id": "d57cfb04-78bf-4c6e-b560-da6f7a88aff1",
    "tags": [],
    "deepnote_to_be_reexecuted": false,
    "source_hash": "57dbd609",
    "execution_start": 1646969953968,
    "execution_millis": 347,
    "deepnote_cell_type": "code",
    "deepnote_cell_height": 415
   },
   "source": "!/work/redis/redis-6.2.6/src/redis-server -h",
   "execution_count": null,
   "outputs": [
    {
     "name": "stdout",
     "text": "Usage: ./redis-server [/path/to/redis.conf] [options] [-]\r\n       ./redis-server - (read config from stdin)\r\n       ./redis-server -v or --version\r\n       ./redis-server -h or --help\r\n       ./redis-server --test-memory <megabytes>\r\n\r\nExamples:\r\n       ./redis-server (run the server with default conf)\r\n       ./redis-server /etc/redis/6379.conf\r\n       ./redis-server --port 7777\r\n       ./redis-server --port 7777 --replicaof 127.0.0.1 8888\r\n       ./redis-server /etc/myredis.conf --loglevel verbose -\r\n       ./redis-server /etc/myredis.conf --loglevel verbose\r\n\r\nSentinel mode:\r\n       ./redis-server /etc/sentinel.conf --sentinel\r\n",
     "output_type": "stream"
    }
   ]
  },
  {
   "cell_type": "code",
   "metadata": {
    "cell_id": "6388f903-c8bd-42f9-a3f1-fd076104e38c",
    "tags": [],
    "deepnote_to_be_reexecuted": false,
    "source_hash": "a528eb9c",
    "execution_start": 1646969971853,
    "execution_millis": 341,
    "deepnote_cell_type": "code",
    "deepnote_cell_height": 701
   },
   "source": "!/work/redis/redis-6.2.6/src/redis-cli -h",
   "execution_count": null,
   "outputs": [
    {
     "name": "stdout",
     "text": "redis-cli 6.2.6\r\n\r\nUsage: redis-cli [OPTIONS] [cmd [arg [arg ...]]]\r\n  -h <hostname>      Server hostname (default: 127.0.0.1).\r\n  -p <port>          Server port (default: 6379).\r\n  -s <socket>        Server socket (overrides hostname and port).\r\n  -a <password>      Password to use when connecting to the server.\r\n                     You can also use the REDISCLI_AUTH environment\r\n                     variable to pass this password more safely\r\n                     (if both are used, this argument takes precedence).\r\n  --user <username>  Used to send ACL style 'AUTH username pass'. Needs -a.\r\n  --pass <password>  Alias of -a for consistency with the new --user option.\r\n  --askpass          Force user to input password with mask from STDIN.\r\n                     If this argument is used, '-a' and REDISCLI_AUTH\r\n                     environment variable will be ignored.\r\n  -u <uri>           Server URI.\r\n  -r <repeat>        Execute specified command N times.\r\n  -i <interval>      When -r is used, waits <interval> seconds per command.\r\n                     It is possible to specify sub-second times like -i 0.1.\r\n  -n <db>            Database number.\r\n  -3                 Start session in RESP3 protocol mode.\r\n  -x                 Read last argument from STDIN.\r\n  -d <delimiter>     Delimiter between response bulks for raw formatting (default: \\n).\r\n  -D <delimiter>     Delimiter between responses for raw formatting (default: \\n).\r\n  -c                 Enable cluster mode (follow -ASK and -MOVED redirections).\r\n  -e                 Return exit error code when command execution fails.\r\n  --raw              Use raw formatting for replies (default when STDOUT is\r\n                     not a tty).\r\n  --no-raw           Force formatted output even when STDOUT is not a tty.\r\n  --quoted-input     Force input to be handled as quoted strings.\r\n  --csv              Output in CSV format.\r\n  --show-pushes <yn> Whether to print RESP3 PUSH messages.  Enabled by default when\r\n                     STDOUT is a tty but can be overriden with --show-pushes no.\r\n  --stat             Print rolling stats about server: mem, clients, ...\r\n  --latency          Enter a special mode continuously sampling latency.\r\n                     If you use this mode in an interactive session it runs\r\n                     forever displaying real-time stats. Otherwise if --raw or\r\n                     --csv is specified, or if you redirect the output to a non\r\n                     TTY, it samples the latency for 1 second (you can use\r\n                     -i to change the interval), then produces a single output\r\n                     and exits.\r\n  --latency-history  Like --latency but tracking latency changes over time.\r\n                     Default time interval is 15 sec. Change it using -i.\r\n  --latency-dist     Shows latency as a spectrum, requires xterm 256 colors.\r\n                     Default time interval is 1 sec. Change it using -i.\r\n  --lru-test <keys>  Simulate a cache workload with an 80-20 distribution.\r\n  --replica          Simulate a replica showing commands received from the master.\r\n  --rdb <filename>   Transfer an RDB dump from remote server to local file.\r\n                     Use filename of \"-\" to write to stdout.\r\n  --pipe             Transfer raw Redis protocol from stdin to server.\r\n  --pipe-timeout <n> In --pipe mode, abort with error if after sending all data.\r\n                     no reply is received within <n> seconds.\r\n                     Default timeout: 30. Use 0 to wait forever.\r\n  --bigkeys          Sample Redis keys looking for keys with many elements (complexity).\r\n  --memkeys          Sample Redis keys looking for keys consuming a lot of memory.\r\n  --memkeys-samples <n> Sample Redis keys looking for keys consuming a lot of memory.\r\n                     And define number of key elements to sample\r\n  --hotkeys          Sample Redis keys looking for hot keys.\r\n                     only works when maxmemory-policy is *lfu.\r\n  --scan             List all keys using the SCAN command.\r\n  --pattern <pat>    Keys pattern when using the --scan, --bigkeys or --hotkeys\r\n                     options (default: *).\r\n  --quoted-pattern <pat> Same as --pattern, but the specified string can be\r\n                         quoted, in order to pass an otherwise non binary-safe string.\r\n  --intrinsic-latency <sec> Run a test to measure intrinsic system latency.\r\n                     The test will run for the specified amount of seconds.\r\n  --eval <file>      Send an EVAL command using the Lua script at <file>.\r\n  --ldb              Used with --eval enable the Redis Lua debugger.\r\n  --ldb-sync-mode    Like --ldb but uses the synchronous Lua debugger, in\r\n                     this mode the server is blocked and script changes are\r\n                     not rolled back from the server memory.\r\n  --cluster <command> [args...] [opts...]\r\n                     Cluster Manager command and arguments (see below).\r\n  --verbose          Verbose mode.\r\n  --no-auth-warning  Don't show warning message when using password on command\r\n                     line interface.\r\n  --help             Output this help and exit.\r\n  --version          Output version and exit.\r\n\r\nCluster Manager Commands:\r\n  Use --cluster help to list all available cluster manager commands.\r\n\r\nExamples:\r\n  cat /etc/passwd | redis-cli -x set mypasswd\r\n  redis-cli get mypasswd\r\n  redis-cli -r 100 lpush mylist x\r\n  redis-cli -r 100 -i 1 info | grep used_memory_human:\r\n  redis-cli --quoted-input set '\"null-\\x00-separated\"' value\r\n  redis-cli --eval myscript.lua key1 key2 , arg1 arg2 arg3\r\n  redis-cli --scan --pattern '*:12345*'\r\n\r\n  (Note: when using --eval the comma separates KEYS[] from ARGV[] items)\r\n\r\nWhen no command is given, redis-cli starts in interactive mode.\r\nType \"help\" in interactive mode for information on available commands\r\nand settings.\r\n\r\n",
     "output_type": "stream"
    }
   ]
  },
  {
   "cell_type": "code",
   "metadata": {
    "cell_id": "be688571-e094-4343-9a73-28525ff0caa2",
    "tags": [],
    "deepnote_to_be_reexecuted": false,
    "source_hash": "bdbe8c8a",
    "execution_start": 1646969664620,
    "execution_millis": 2741,
    "deepnote_cell_type": "code",
    "deepnote_cell_height": 746
   },
   "source": "!apt-get install redis -y",
   "execution_count": null,
   "outputs": [
    {
     "name": "stdout",
     "text": "",
     "output_type": "stream"
    },
    {
     "name": "stdout",
     "text": "",
     "output_type": "stream"
    },
    {
     "name": "stdout",
     "text": "\n\n\nThe following additional packages will be installed:\n  libhiredis0.14 libjemalloc2 liblua5.1-0 lua-bitop lua-cjson redis-server\n  redis-tools\nSuggested packages:\n  ruby-redis\nThe following NEW packages will be installed:\n  libhiredis0.14 libjemalloc2 liblua5.1-0 lua-bitop lua-cjson redis\n  redis-server redis-tools\n0 upgraded, 8 newly installed, 0 to remove and 0 not upgraded.\nNeed to get 1,082 kB of archives.\nAfter this operation, 4,011 kB of additional disk space will be used.\nGet:1 http://deb.debian.org/debian buster/main amd64 libhiredis0.14 amd64 0.14.0-3 [33.8 kB]\nGet:2 http://deb.debian.org/debian buster/main amd64 libjemalloc2 amd64 5.1.0-3 [225 kB]\nGet:3 http://security.debian.org/debian-security buster/updates/main amd64 redis-tools amd64 5:5.0.14-1+deb10u2 [541 kB]\nGet:4 http://deb.debian.org/debian buster/main amd64 liblua5.1-0 amd64 5.1.5-8.1+b2 [111 kB]\nGet:5 http://deb.debian.org/debian buster/main amd64 lua-bitop amd64 1.0.2-5 [6,936 B]\nGet:6 http://deb.debian.org/debian buster/main amd64 lua-cjson amd64 2.1.0+dfsg-2.1 [17.5 kB]\nGet:7 http://security.debian.org/debian-security buster/updates/main amd64 redis-server amd64 5:5.0.14-1+deb10u2 [90.8 kB]\nGet:8 http://security.debian.org/debian-security buster/updates/main amd64 redis all 5:5.0.14-1+deb10u2 [56.1 kB]\nFetched 1,082 kB in 0s (42.3 MB/s)\ndebconf: delaying package configuration, since apt-utils is not installed\nSelecting previously unselected package libhiredis0.14:amd64.\n(Reading database ... 31262 files and directories currently installed.)\nPreparing to unpack .../0-libhiredis0.14_0.14.0-3_amd64.deb ...\nUnpacking libhiredis0.14:amd64 (0.14.0-3) ...\nSelecting previously unselected package libjemalloc2:amd64.\nPreparing to unpack .../1-libjemalloc2_5.1.0-3_amd64.deb ...\nUnpacking libjemalloc2:amd64 (5.1.0-3) ...\nSelecting previously unselected package liblua5.1-0:amd64.\nPreparing to unpack .../2-liblua5.1-0_5.1.5-8.1+b2_amd64.deb ...\nUnpacking liblua5.1-0:amd64 (5.1.5-8.1+b2) ...\nSelecting previously unselected package lua-bitop:amd64.\nPreparing to unpack .../3-lua-bitop_1.0.2-5_amd64.deb ...\nUnpacking lua-bitop:amd64 (1.0.2-5) ...\nSelecting previously unselected package lua-cjson:amd64.\nPreparing to unpack .../4-lua-cjson_2.1.0+dfsg-2.1_amd64.deb ...\nUnpacking lua-cjson:amd64 (2.1.0+dfsg-2.1) ...\nSelecting previously unselected package redis-tools.\nPreparing to unpack .../5-redis-tools_5%3a5.0.14-1+deb10u2_amd64.deb ...\nUnpacking redis-tools (5:5.0.14-1+deb10u2) ...\nSelecting previously unselected package redis-server.\nPreparing to unpack .../6-redis-server_5%3a5.0.14-1+deb10u2_amd64.deb ...\nUnpacking redis-server (5:5.0.14-1+deb10u2) ...\nSelecting previously unselected package redis.\nPreparing to unpack .../7-redis_5%3a5.0.14-1+deb10u2_all.deb ...\nUnpacking redis (5:5.0.14-1+deb10u2) ...\nSetting up libjemalloc2:amd64 (5.1.0-3) ...\nSetting up lua-cjson:amd64 (2.1.0+dfsg-2.1) ...\nSetting up lua-bitop:amd64 (1.0.2-5) ...\nSetting up liblua5.1-0:amd64 (5.1.5-8.1+b2) ...\nSetting up libhiredis0.14:amd64 (0.14.0-3) ...\nSetting up redis-tools (5:5.0.14-1+deb10u2) ...\nSetting up redis-server (5:5.0.14-1+deb10u2) ...\ninvoke-rc.d: could not determine current runlevel\ninvoke-rc.d: policy-rc.d denied execution of start.\nSetting up redis (5:5.0.14-1+deb10u2) ...\nProcessing triggers for libc-bin (2.28-10) ...\n",
     "output_type": "stream"
    }
   ]
  },
  {
   "cell_type": "code",
   "metadata": {
    "cell_id": "98c0b2ef-8960-4807-a402-7e3fa0caae32",
    "tags": [],
    "deepnote_to_be_reexecuted": false,
    "source_hash": "46b064f7",
    "execution_start": 1646969699440,
    "execution_millis": 300,
    "deepnote_cell_type": "code",
    "deepnote_cell_height": 394.8125
   },
   "source": "!redis-server -h",
   "execution_count": null,
   "outputs": [
    {
     "name": "stdout",
     "text": "Usage: ./redis-server [/path/to/redis.conf] [options]\r\n       ./redis-server - (read config from stdin)\r\n       ./redis-server -v or --version\r\n       ./redis-server -h or --help\r\n       ./redis-server --test-memory <megabytes>\r\n\r\nExamples:\r\n       ./redis-server (run the server with default conf)\r\n       ./redis-server /etc/redis/6379.conf\r\n       ./redis-server --port 7777\r\n       ./redis-server --port 7777 --replicaof 127.0.0.1 8888\r\n       ./redis-server /etc/myredis.conf --loglevel verbose\r\n\r\nSentinel mode:\r\n       ./redis-server /etc/sentinel.conf --sentinel\r\n",
     "output_type": "stream"
    }
   ]
  },
  {
   "cell_type": "code",
   "metadata": {
    "cell_id": "d660863d-e4cb-4a22-8c4e-76b21e71a936",
    "tags": [],
    "deepnote_to_be_reexecuted": false,
    "source_hash": "82244be7",
    "execution_start": 1646969990744,
    "execution_millis": 333,
    "deepnote_cell_type": "code",
    "deepnote_cell_height": 701
   },
   "source": "!redis-cli -h",
   "execution_count": null,
   "outputs": [
    {
     "name": "stdout",
     "text": "redis-cli 5.0.14\r\n\r\nUsage: redis-cli [OPTIONS] [cmd [arg [arg ...]]]\r\n  -h <hostname>      Server hostname (default: 127.0.0.1).\r\n  -p <port>          Server port (default: 6379).\r\n  -s <socket>        Server socket (overrides hostname and port).\r\n  -a <password>      Password to use when connecting to the server.\r\n                     You can also use the REDISCLI_AUTH environment\r\n                     variable to pass this password more safely\r\n                     (if both are used, this argument takes predecence).\r\n  -u <uri>           Server URI.\r\n  -r <repeat>        Execute specified command N times.\r\n  -i <interval>      When -r is used, waits <interval> seconds per command.\r\n                     It is possible to specify sub-second times like -i 0.1.\r\n  -n <db>            Database number.\r\n  -x                 Read last argument from STDIN.\r\n  -d <delimiter>     Multi-bulk delimiter in for raw formatting (default: \\n).\r\n  -c                 Enable cluster mode (follow -ASK and -MOVED redirections).\r\n  --raw              Use raw formatting for replies (default when STDOUT is\r\n                     not a tty).\r\n  --no-raw           Force formatted output even when STDOUT is not a tty.\r\n  --csv              Output in CSV format.\r\n  --stat             Print rolling stats about server: mem, clients, ...\r\n  --latency          Enter a special mode continuously sampling latency.\r\n                     If you use this mode in an interactive session it runs\r\n                     forever displaying real-time stats. Otherwise if --raw or\r\n                     --csv is specified, or if you redirect the output to a non\r\n                     TTY, it samples the latency for 1 second (you can use\r\n                     -i to change the interval), then produces a single output\r\n                     and exits.\r\n  --latency-history  Like --latency but tracking latency changes over time.\r\n                     Default time interval is 15 sec. Change it using -i.\r\n  --latency-dist     Shows latency as a spectrum, requires xterm 256 colors.\r\n                     Default time interval is 1 sec. Change it using -i.\r\n  --lru-test <keys>  Simulate a cache workload with an 80-20 distribution.\r\n  --replica          Simulate a replica showing commands received from the master.\r\n  --rdb <filename>   Transfer an RDB dump from remote server to local file.\r\n  --pipe             Transfer raw Redis protocol from stdin to server.\r\n  --pipe-timeout <n> In --pipe mode, abort with error if after sending all data.\r\n                     no reply is received within <n> seconds.\r\n                     Default timeout: 30. Use 0 to wait forever.\r\n  --bigkeys          Sample Redis keys looking for keys with many elements (complexity).\r\n  --memkeys          Sample Redis keys looking for keys consuming a lot of memory.\r\n  --memkeys-samples <n> Sample Redis keys looking for keys consuming a lot of memory.\r\n                     And define number of key elements to sample\r\n  --hotkeys          Sample Redis keys looking for hot keys.\r\n                     only works when maxmemory-policy is *lfu.\r\n  --scan             List all keys using the SCAN command.\r\n  --pattern <pat>    Useful with --scan to specify a SCAN pattern.\r\n  --intrinsic-latency <sec> Run a test to measure intrinsic system latency.\r\n                     The test will run for the specified amount of seconds.\r\n  --eval <file>      Send an EVAL command using the Lua script at <file>.\r\n  --ldb              Used with --eval enable the Redis Lua debugger.\r\n  --ldb-sync-mode    Like --ldb but uses the synchronous Lua debugger, in\r\n                     this mode the server is blocked and script changes are\r\n                     not rolled back from the server memory.\r\n  --cluster <command> [args...] [opts...]\r\n                     Cluster Manager command and arguments (see below).\r\n  --verbose          Verbose mode.\r\n  --no-auth-warning  Don't show warning message when using password on command\r\n                     line interface.\r\n  --help             Output this help and exit.\r\n  --version          Output version and exit.\r\n\r\nCluster Manager Commands:\r\n  Use --cluster help to list all available cluster manager commands.\r\n\r\nExamples:\r\n  cat /etc/passwd | redis-cli -x set mypasswd\r\n  redis-cli get mypasswd\r\n  redis-cli -r 100 lpush mylist x\r\n  redis-cli -r 100 -i 1 info | grep used_memory_human:\r\n  redis-cli --eval myscript.lua key1 key2 , arg1 arg2 arg3\r\n  redis-cli --scan --pattern '*:12345*'\r\n\r\n  (Note: when using --eval the comma separates KEYS[] from ARGV[] items)\r\n\r\nWhen no command is given, redis-cli starts in interactive mode.\r\nType \"help\" in interactive mode for information on available commands\r\nand settings.\r\n\r\n",
     "output_type": "stream"
    }
   ]
  },
  {
   "cell_type": "code",
   "metadata": {
    "cell_id": "d3d665c0-4794-4969-bc95-5d48416b8e7b",
    "tags": [],
    "deepnote_cell_type": "code",
    "deepnote_cell_height": 66
   },
   "source": "!redis-server",
   "execution_count": null,
   "outputs": []
  },
  {
   "cell_type": "code",
   "metadata": {
    "cell_id": "06e8dbd2-5292-4f8a-bc08-79e5a89381f8",
    "tags": [],
    "deepnote_to_be_reexecuted": false,
    "source_hash": "80a9b477",
    "execution_start": 1646970281787,
    "execution_millis": 267,
    "deepnote_cell_type": "code",
    "deepnote_cell_height": 112.1875
   },
   "source": "!redis-cli ping",
   "execution_count": null,
   "outputs": [
    {
     "name": "stdout",
     "text": "PONG\r\n",
     "output_type": "stream"
    }
   ]
  },
  {
   "cell_type": "code",
   "metadata": {
    "cell_id": "381c8c3c-91c7-4a63-92c6-c26ff692628b",
    "tags": [],
    "deepnote_to_be_reexecuted": false,
    "source_hash": "8695cced",
    "execution_start": 1646970367724,
    "execution_millis": 547,
    "deepnote_cell_type": "code",
    "deepnote_cell_height": 112.1875
   },
   "source": "!redis-cli set name wangwenkai",
   "execution_count": null,
   "outputs": [
    {
     "name": "stdout",
     "text": "OK\r\n",
     "output_type": "stream"
    }
   ]
  },
  {
   "cell_type": "code",
   "metadata": {
    "cell_id": "5cd8f71d-c7db-49a7-ae17-c0adaac943bd",
    "tags": [],
    "deepnote_to_be_reexecuted": false,
    "source_hash": "7122a23c",
    "execution_start": 1646970426080,
    "execution_millis": 274,
    "deepnote_cell_type": "code",
    "deepnote_cell_height": 112.1875
   },
   "source": "!redis-cli keys \\*",
   "execution_count": null,
   "outputs": [
    {
     "name": "stdout",
     "text": "1) \"name\"\r\n",
     "output_type": "stream"
    }
   ]
  },
  {
   "cell_type": "code",
   "metadata": {
    "cell_id": "b0108ca3-2687-4a4e-9b06-f2600d2e75f0",
    "tags": [],
    "deepnote_to_be_reexecuted": false,
    "source_hash": "67f3f2d6",
    "execution_start": 1646970446532,
    "execution_millis": 309,
    "deepnote_cell_type": "code",
    "deepnote_cell_height": 112.1875
   },
   "source": "!redis-cli get name",
   "execution_count": null,
   "outputs": [
    {
     "name": "stdout",
     "text": "\"wangwenkai\"\r\n",
     "output_type": "stream"
    }
   ]
  },
  {
   "cell_type": "code",
   "metadata": {
    "cell_id": "30c74ef5-e975-4066-b4bd-8a8480588843",
    "tags": [],
    "deepnote_to_be_reexecuted": false,
    "source_hash": "80acc82f",
    "execution_start": 1646970606231,
    "execution_millis": 304,
    "deepnote_cell_type": "code",
    "deepnote_cell_height": 112.1875
   },
   "source": "!redis-cli mset a 1 b 2 c 3 d 4 e 5 f 6 g 7 ",
   "execution_count": null,
   "outputs": [
    {
     "name": "stdout",
     "text": "OK\r\n",
     "output_type": "stream"
    }
   ]
  },
  {
   "cell_type": "code",
   "metadata": {
    "cell_id": "ab36fe5c-9b23-4b4d-8034-a985d55a557e",
    "tags": [],
    "deepnote_to_be_reexecuted": false,
    "source_hash": "e9b71449",
    "execution_start": 1646970641429,
    "execution_millis": 320,
    "deepnote_cell_type": "code",
    "deepnote_cell_height": 233.3125
   },
   "source": "!redis-cli mget a b c d e f g",
   "execution_count": null,
   "outputs": [
    {
     "name": "stdout",
     "text": "1) \"1\"\r\n2) \"2\"\r\n3) \"3\"\r\n4) \"4\"\r\n5) \"5\"\r\n6) \"6\"\r\n7) \"7\"\r\n",
     "output_type": "stream"
    }
   ]
  },
  {
   "cell_type": "code",
   "metadata": {
    "cell_id": "31a67bf7-2bda-46be-b6d5-4a255b0cc2e6",
    "tags": [],
    "deepnote_to_be_reexecuted": false,
    "source_hash": "42e16a7d",
    "execution_start": 1646970684404,
    "execution_millis": 273,
    "deepnote_cell_type": "code",
    "deepnote_cell_height": 112.1875
   },
   "source": "!redis-cli del name",
   "execution_count": null,
   "outputs": [
    {
     "name": "stdout",
     "text": "(integer) 1\r\n",
     "output_type": "stream"
    }
   ]
  },
  {
   "cell_type": "code",
   "metadata": {
    "cell_id": "e379b939-3324-4ce5-af98-6814e5d626f5",
    "tags": [],
    "deepnote_to_be_reexecuted": false,
    "source_hash": "7122a23c",
    "execution_start": 1646970701270,
    "execution_millis": 326,
    "deepnote_cell_type": "code",
    "deepnote_cell_height": 233.3125
   },
   "source": "!redis-cli keys \\*",
   "execution_count": null,
   "outputs": [
    {
     "name": "stdout",
     "text": "1) \"f\"\r\n2) \"d\"\r\n3) \"g\"\r\n4) \"e\"\r\n5) \"c\"\r\n6) \"b\"\r\n7) \"a\"\r\n",
     "output_type": "stream"
    }
   ]
  },
  {
   "cell_type": "code",
   "metadata": {
    "cell_id": "5d88d3ff-a2ff-4116-b42b-f5020688a2ee",
    "tags": [],
    "deepnote_to_be_reexecuted": false,
    "source_hash": "87fe97ee",
    "execution_start": 1646970737810,
    "execution_millis": 300,
    "deepnote_cell_type": "code",
    "deepnote_cell_height": 112.1875
   },
   "source": "!redis-cli flushall",
   "execution_count": null,
   "outputs": [
    {
     "name": "stdout",
     "text": "OK\r\n",
     "output_type": "stream"
    }
   ]
  },
  {
   "cell_type": "code",
   "metadata": {
    "cell_id": "505edd35-1ec6-45ee-89d1-bc3c46bbaec8",
    "tags": [],
    "deepnote_to_be_reexecuted": false,
    "source_hash": "7122a23c",
    "execution_start": 1646970745225,
    "execution_millis": 315,
    "deepnote_cell_type": "code",
    "deepnote_cell_height": 112.1875
   },
   "source": "!redis-cli keys \\*",
   "execution_count": null,
   "outputs": [
    {
     "name": "stdout",
     "text": "(empty list or set)\r\n",
     "output_type": "stream"
    }
   ]
  },
  {
   "cell_type": "markdown",
   "source": "### List",
   "metadata": {
    "cell_id": "56b84135-3f03-472c-9b2e-d67fe875e506",
    "tags": [],
    "is_collapsed": false,
    "deepnote_cell_type": "text-cell-h3",
    "deepnote_cell_height": 62
   }
  },
  {
   "cell_type": "markdown",
   "source": "### Hash",
   "metadata": {
    "cell_id": "c38b0896-369b-4386-8f35-160d3c84a85b",
    "tags": [],
    "is_collapsed": false,
    "deepnote_cell_type": "text-cell-h3",
    "deepnote_cell_height": 62
   }
  },
  {
   "cell_type": "markdown",
   "source": "### Set",
   "metadata": {
    "cell_id": "44a24210-690c-4d1e-b174-84d546b84b33",
    "tags": [],
    "is_collapsed": false,
    "deepnote_cell_type": "text-cell-h3",
    "deepnote_cell_height": 62
   }
  },
  {
   "cell_type": "markdown",
   "source": "### 订阅",
   "metadata": {
    "cell_id": "8dacded3-598a-4645-9fec-bcb440eb2456",
    "tags": [],
    "is_collapsed": false,
    "deepnote_cell_type": "text-cell-h3",
    "deepnote_cell_height": 62
   }
  },
  {
   "cell_type": "markdown",
   "source": "### 密码",
   "metadata": {
    "cell_id": "c83ea648-06e5-4091-b63e-97c7c0befa1e",
    "tags": [],
    "is_collapsed": false,
    "deepnote_cell_type": "text-cell-h3",
    "deepnote_cell_height": 62
   }
  },
  {
   "cell_type": "markdown",
   "source": "<a style='text-decoration:none;line-height:16px;display:flex;color:#5B5B62;padding:10px;justify-content:end;' href='https://deepnote.com?utm_source=created-in-deepnote-cell&projectId=26e5d5b4-a604-4f7b-aef4-7756f8127ef0' target=\"_blank\">\n<img alt='Created in deepnote.com' style='display:inline;max-height:16px;margin:0px;margin-right:7.5px;' src='data:image/svg+xml;base64,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' > </img>\nCreated in <span style='font-weight:600;margin-left:4px;'>Deepnote</span></a>",
   "metadata": {
    "tags": [],
    "created_in_deepnote_cell": true,
    "deepnote_cell_type": "markdown"
   }
  }
 ],
 "nbformat": 4,
 "nbformat_minor": 2,
 "metadata": {
  "orig_nbformat": 2,
  "deepnote": {
   "is_reactive": false
  },
  "deepnote_notebook_id": "1b8f0f59-01c1-4276-9e09-683dbe57ebd7",
  "deepnote_execution_queue": []
 }
}