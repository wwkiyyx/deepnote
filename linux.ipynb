{
 "cells": [
  {
   "cell_type": "code",
   "metadata": {
    "tags": [],
    "cell_id": "00000-8e0ef581-ac45-4210-9df2-f3f6de27f4c3",
    "deepnote_to_be_reexecuted": false,
    "source_hash": "5485f1fe",
    "execution_start": 1628727535895,
    "execution_millis": 667,
    "deepnote_cell_type": "code",
    "deepnote_cell_height": 132.375
   },
   "source": "!ps",
   "execution_count": null,
   "outputs": [
    {
     "name": "stdout",
     "text": "  PID TTY          TIME CMD\r\n  127 pts/0    00:00:00 ps\r\n",
     "output_type": "stream"
    }
   ]
  },
  {
   "cell_type": "code",
   "metadata": {
    "tags": [],
    "cell_id": "00001-226a3855-9d6c-4c48-8729-b445118b7d73",
    "deepnote_to_be_reexecuted": false,
    "source_hash": "b4866301",
    "execution_start": 1628727661537,
    "execution_millis": 640,
    "deepnote_cell_type": "code",
    "deepnote_cell_height": 112.1875
   },
   "source": "!pwd",
   "execution_count": null,
   "outputs": [
    {
     "name": "stdout",
     "text": "/work/wangwenkai40\r\n",
     "output_type": "stream"
    }
   ]
  },
  {
   "cell_type": "markdown",
   "source": "# ls",
   "metadata": {
    "tags": [],
    "is_collapsed": false,
    "cell_id": "00002-6b5e8305-2ddf-4181-b2ed-0b4374f24f03",
    "deepnote_cell_type": "text-cell-h1"
   }
  },
  {
   "cell_type": "code",
   "metadata": {
    "tags": [],
    "cell_id": "00002-87c08158-60e1-4637-ada3-bdc19bc8bcb4",
    "deepnote_to_be_reexecuted": false,
    "source_hash": "ad8f3ca4",
    "execution_start": 1628727692415,
    "execution_millis": 628,
    "deepnote_cell_type": "code",
    "deepnote_cell_height": 152.5625
   },
   "source": "!ls",
   "execution_count": null,
   "outputs": [
    {
     "name": "stdout",
     "text": "git.ipynb    MESandERP.ipynb  Python\t start_tensorflow.ipynb  vscode.md\r\nlinux.ipynb  okteto.ipynb     Pytorch\t Tensorflow\r\nmarkdown.md  OpenCV\t      README.md  tools.ipynb\r\n",
     "output_type": "stream"
    }
   ]
  },
  {
   "cell_type": "code",
   "metadata": {
    "tags": [],
    "cell_id": "00004-e7c6b142-7205-4ec3-ba65-0487aa3eb7cd",
    "deepnote_to_be_reexecuted": false,
    "source_hash": "a016b714",
    "execution_start": 1628730917655,
    "execution_millis": 821,
    "owner_user_id": "64653946-af2f-4699-a282-4043b0ba5576",
    "deepnote_cell_type": "code",
    "deepnote_cell_height": 152.5625
   },
   "source": "ls /",
   "execution_count": null,
   "outputs": [
    {
     "name": "stdout",
     "text": "\u001b[0m\u001b[01;34mbin\u001b[0m/       \u001b[01;34mdeepnote-config\u001b[0m/  \u001b[01;34mhome\u001b[0m/   \u001b[01;34mmedia\u001b[0m/  \u001b[01;34mproc\u001b[0m/  \u001b[01;34msbin\u001b[0m/         \u001b[01;34msys\u001b[0m/  \u001b[01;34mvar\u001b[0m/\r\n\u001b[01;34mboot\u001b[0m/      \u001b[01;34mdev\u001b[0m/              \u001b[01;34mlib\u001b[0m/    \u001b[01;34mmnt\u001b[0m/    \u001b[01;34mroot\u001b[0m/  \u001b[01;34mshared-libs\u001b[0m/  \u001b[30;42mtmp\u001b[0m/  \u001b[34;42mwork\u001b[0m/\r\n\u001b[34;42mdatasets\u001b[0m/  \u001b[01;34metc\u001b[0m/              \u001b[01;34mlib64\u001b[0m/  \u001b[01;34mopt\u001b[0m/    \u001b[01;34mrun\u001b[0m/   \u001b[01;34msrv\u001b[0m/          \u001b[01;34musr\u001b[0m/\r\n",
     "output_type": "stream"
    }
   ]
  },
  {
   "cell_type": "code",
   "metadata": {
    "tags": [],
    "cell_id": "00005-0729b38b-ca06-4fd5-b0e6-60b73afbad84",
    "deepnote_to_be_reexecuted": false,
    "source_hash": "a9407093",
    "execution_start": 1628730934676,
    "execution_millis": 642,
    "deepnote_cell_type": "code",
    "deepnote_cell_height": 435.1875
   },
   "source": "ls /bin",
   "execution_count": null,
   "outputs": [
    {
     "name": "stdout",
     "text": "\u001b[0m\u001b[01;32mbash\u001b[0m*          \u001b[01;32mcp\u001b[0m*             \u001b[01;32mgzip\u001b[0m*           \u001b[01;32mpwd\u001b[0m*        \u001b[01;32muname\u001b[0m*\r\n\u001b[01;32mbunzip2\u001b[0m*       \u001b[01;32mdash\u001b[0m*           \u001b[01;32mhostname\u001b[0m*       \u001b[01;36mrbash\u001b[0m@      \u001b[01;32muncompress\u001b[0m*\r\n\u001b[01;32mbzcat\u001b[0m*         \u001b[01;32mdate\u001b[0m*           \u001b[01;32mkill\u001b[0m*           \u001b[01;32mreadlink\u001b[0m*   \u001b[01;32mvdir\u001b[0m*\r\n\u001b[01;36mbzcmp\u001b[0m@         \u001b[01;32mdd\u001b[0m*             \u001b[01;32mln\u001b[0m*             \u001b[01;32mrm\u001b[0m*         \u001b[01;32mwdctl\u001b[0m*\r\n\u001b[01;32mbzdiff\u001b[0m*        \u001b[01;32mdf\u001b[0m*             \u001b[01;32mlogin\u001b[0m*          \u001b[01;32mrmdir\u001b[0m*      \u001b[01;32mwhich\u001b[0m*\r\n\u001b[01;36mbzegrep\u001b[0m@       \u001b[01;32mdir\u001b[0m*            \u001b[01;32mls\u001b[0m*             \u001b[01;32mrun-parts\u001b[0m*  \u001b[01;36mypdomainname\u001b[0m@\r\n\u001b[01;32mbzexe\u001b[0m*         \u001b[01;32mdmesg\u001b[0m*          \u001b[01;32mlsblk\u001b[0m*          \u001b[01;32msed\u001b[0m*        \u001b[01;32mzcat\u001b[0m*\r\n\u001b[01;36mbzfgrep\u001b[0m@       \u001b[01;36mdnsdomainname\u001b[0m@  \u001b[01;32mmkdir\u001b[0m*          \u001b[01;36msh\u001b[0m@         \u001b[01;32mzcmp\u001b[0m*\r\n\u001b[01;32mbzgrep\u001b[0m*        \u001b[01;36mdomainname\u001b[0m@     \u001b[01;32mmknod\u001b[0m*          \u001b[01;32msleep\u001b[0m*      \u001b[01;32mzdiff\u001b[0m*\r\n\u001b[01;32mbzip2\u001b[0m*         \u001b[01;32mecho\u001b[0m*           \u001b[01;32mmktemp\u001b[0m*         \u001b[01;32mstty\u001b[0m*       \u001b[01;32mzegrep\u001b[0m*\r\n\u001b[01;32mbzip2recover\u001b[0m*  \u001b[01;32megrep\u001b[0m*          \u001b[01;32mmore\u001b[0m*           \u001b[37;41msu\u001b[0m*         \u001b[01;32mzfgrep\u001b[0m*\r\n\u001b[01;36mbzless\u001b[0m@        \u001b[01;32mfalse\u001b[0m*          \u001b[37;41mmount\u001b[0m*          \u001b[01;32msync\u001b[0m*       \u001b[01;32mzforce\u001b[0m*\r\n\u001b[01;32mbzmore\u001b[0m*        \u001b[01;32mfgrep\u001b[0m*          \u001b[01;32mmountpoint\u001b[0m*     \u001b[01;32mtar\u001b[0m*        \u001b[01;32mzgrep\u001b[0m*\r\n\u001b[01;32mcat\u001b[0m*           \u001b[01;32mfindmnt\u001b[0m*        \u001b[01;32mmv\u001b[0m*             \u001b[01;32mtempfile\u001b[0m*   \u001b[01;32mzless\u001b[0m*\r\n\u001b[01;32mchgrp\u001b[0m*         \u001b[01;32mgrep\u001b[0m*           \u001b[01;36mnisdomainname\u001b[0m@  \u001b[01;32mtouch\u001b[0m*      \u001b[01;32mzmore\u001b[0m*\r\n\u001b[01;32mchmod\u001b[0m*         \u001b[01;32mgunzip\u001b[0m*         \u001b[01;36mpidof\u001b[0m@          \u001b[01;32mtrue\u001b[0m*       \u001b[01;32mznew\u001b[0m*\r\n\u001b[01;32mchown\u001b[0m*         \u001b[01;32mgzexe\u001b[0m*          \u001b[01;32mps\u001b[0m*             \u001b[37;41mumount\u001b[0m*\r\n",
     "output_type": "stream"
    }
   ]
  },
  {
   "cell_type": "code",
   "metadata": {
    "tags": [],
    "cell_id": "00006-ce485281-8d65-4989-92f9-3e03d1356ac0",
    "deepnote_to_be_reexecuted": false,
    "source_hash": "97470da9",
    "execution_start": 1628731149472,
    "execution_millis": 661,
    "deepnote_cell_type": "code",
    "deepnote_cell_height": 273.6875
   },
   "source": "ls -l /usr",
   "execution_count": null,
   "outputs": [
    {
     "name": "stdout",
     "text": "total 32\r\ndrwxr-xr-x 1 root root 12288 Jun 30 14:24 \u001b[0m\u001b[01;34mbin\u001b[0m/\r\ndrwxr-xr-x 2 root root     6 Jun 13 10:30 \u001b[01;34mgames\u001b[0m/\r\ndrwxr-xr-x 1 root root  8192 Jun 30 14:23 \u001b[01;34minclude\u001b[0m/\r\ndrwxr-xr-x 1 root root    20 Jun 30 14:23 \u001b[01;34mlib\u001b[0m/\r\ndrwxr-xr-x 1 root root    17 Jun 21 00:00 \u001b[01;34mlocal\u001b[0m/\r\ndrwxr-xr-x 1 root root   303 Jun 30 14:23 \u001b[01;34msbin\u001b[0m/\r\ndrwxr-xr-x 1 root root  4096 Jun 30 14:23 \u001b[01;34mshare\u001b[0m/\r\ndrwxr-xr-x 1 root root     6 Jun 29 20:06 \u001b[01;34msrc\u001b[0m/\r\n",
     "output_type": "stream"
    }
   ]
  },
  {
   "cell_type": "code",
   "metadata": {
    "tags": [],
    "cell_id": "00007-79d73b53-0b9b-4640-b455-6fb2ad13e2d5",
    "deepnote_to_be_reexecuted": false,
    "source_hash": "bd613dec",
    "execution_start": 1628731858357,
    "execution_millis": 621,
    "deepnote_cell_type": "code",
    "deepnote_cell_height": 293.875
   },
   "source": "!df",
   "execution_count": null,
   "outputs": [
    {
     "name": "stdout",
     "text": "Filesystem                                                          1K-blocks      Used Available Use% Mounted on\r\noverlay                                                             104845292  20660476  84184816  20% /\r\ntmpfs                                                                   65536         0     65536   0% /dev\r\ntmpfs                                                                 8048320         0   8048320   0% /sys/fs/cgroup\r\n172.2.197.109:/projects-pool/p-26e5d5b4-a604-4f7b-aef4-7756f8127ef0   5242880    932864   4310016  18% /work\r\n/dev/nvme0n1p1                                                      104845292  20660476  84184816  20% /datasets\r\n172.2.197.109:/projects-pool/_compute-dependencies/v0.42            891864064 159692800 732171264  18% /shared-libs\r\ntmpfs                                                                 8048320         0   8048320   0% /dev/shm\r\ntmpfs                                                                 8048320         0   8048320   0% /proc/acpi\r\ntmpfs                                                                 8048320         0   8048320   0% /sys/firmware\r\n",
     "output_type": "stream"
    }
   ]
  },
  {
   "cell_type": "code",
   "metadata": {
    "cell_id": "5fef5ba9-ce4c-4ece-9fa0-7cacd42fb896",
    "tags": [],
    "deepnote_to_be_reexecuted": false,
    "source_hash": "e7dbc859",
    "execution_start": 1646287659513,
    "execution_millis": 945,
    "deepnote_cell_type": "code",
    "deepnote_cell_height": 293.875
   },
   "source": "!df -h",
   "execution_count": null,
   "outputs": [
    {
     "name": "stdout",
     "text": "Filesystem                                                           Size  Used Avail Use% Mounted on\r\noverlay                                                              100G   29G   72G  29% /\r\ntmpfs                                                                 64M     0   64M   0% /dev\r\ntmpfs                                                                7.7G     0  7.7G   0% /sys/fs/cgroup\r\n/dev/nvme0n1p1                                                       100G   29G   72G  29% /datasets\r\n172.2.197.109:/projects-pool/_compute-dependencies/v0.67.1           974G  302G  672G  31% /shared-libs\r\n172.2.197.109:/projects-pool/p-26e5d5b4-a604-4f7b-aef4-7756f8127ef0  5.0G  1.1G  4.0G  21% /work\r\ntmpfs                                                                7.7G     0  7.7G   0% /dev/shm\r\ntmpfs                                                                7.7G     0  7.7G   0% /proc/acpi\r\ntmpfs                                                                7.7G     0  7.7G   0% /sys/firmware\r\n",
     "output_type": "stream"
    }
   ]
  },
  {
   "cell_type": "code",
   "metadata": {
    "tags": [],
    "cell_id": "00008-1557cc4c-7460-4df7-9ba4-8e189308eee1",
    "deepnote_to_be_reexecuted": false,
    "source_hash": "e7723263",
    "execution_start": 1628732156405,
    "execution_millis": 642,
    "deepnote_cell_type": "code",
    "deepnote_cell_height": 112.1875
   },
   "source": "!sudo sh ./hello.sh",
   "execution_count": null,
   "outputs": [
    {
     "name": "stdout",
     "text": "Hello World !\r\n",
     "output_type": "stream"
    }
   ]
  },
  {
   "cell_type": "code",
   "metadata": {
    "tags": [],
    "cell_id": "00009-4ab98f50-2873-470e-a955-ecfd5f26b593",
    "deepnote_to_be_reexecuted": false,
    "source_hash": "9bf51a6f",
    "execution_start": 1629683892881,
    "execution_millis": 11,
    "deepnote_cell_type": "code",
    "deepnote_cell_height": 186.375
   },
   "source": "%%bash\npwd\ncd ..\npwd",
   "execution_count": null,
   "outputs": [
    {
     "name": "stdout",
     "text": "/work/wangwenkai40\n/work\n",
     "output_type": "stream"
    }
   ]
  },
  {
   "cell_type": "markdown",
   "source": "<a style='text-decoration:none;line-height:16px;display:flex;color:#5B5B62;padding:10px;justify-content:end;' href='https://deepnote.com?utm_source=created-in-deepnote-cell&projectId=26e5d5b4-a604-4f7b-aef4-7756f8127ef0' target=\"_blank\">\n<img alt='Created in deepnote.com' style='display:inline;max-height:16px;margin:0px;margin-right:7.5px;' src='data:image/svg+xml;base64,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' > </img>\nCreated in <span style='font-weight:600;margin-left:4px;'>Deepnote</span></a>",
   "metadata": {
    "tags": [],
    "created_in_deepnote_cell": true,
    "deepnote_cell_type": "markdown"
   }
  }
 ],
 "nbformat": 4,
 "nbformat_minor": 2,
 "metadata": {
  "orig_nbformat": 2,
  "deepnote": {
   "is_reactive": false
  },
  "deepnote_notebook_id": "894cc3ba-010c-48e6-9f83-1754e77f4522",
  "deepnote_execution_queue": []
 }
}